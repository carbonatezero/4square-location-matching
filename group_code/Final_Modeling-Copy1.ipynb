{
 "cells": [
  {
   "cell_type": "markdown",
   "id": "b3f5a600",
   "metadata": {},
   "source": [
    "# Final Modeling Notebook Intro"
   ]
  },
  {
   "cell_type": "markdown",
   "id": "6032bd87",
   "metadata": {},
   "source": [
    "Authors: Tim Gorman, Yu Cao, Ling Zhou"
   ]
  },
  {
   "cell_type": "markdown",
   "id": "d00d357d",
   "metadata": {},
   "source": [
    "In this notebook we take the data output from data_prep2.0 (\"./foursquare-location-matchin/cao_code/data_prep2.0.ipynb\") </br>\n",
    "This data has some important aspects: </br>\n",
    "* Curated Ground Truth Data\n",
    "    * This is the raw data from kaggle after removing nans, noise and reducing to only data with country_1 and country_2 both being 'US'.\n",
    "    * Label:\n",
    "        * match\n",
    "            * Indicates whether two ids represent the same point of interest\n",
    "    * Features:\n",
    "        * id_1, id_2\n",
    "        * Modeling Features: \n",
    "        * name_1, name_2 \n",
    "        * latitude_1, latitude_2 \n",
    "        * longitude_1, longitude_2 \n",
    "        * address_1, address_2\n",
    "        * city_1, city_2\n",
    "        * state_1, state_2\n",
    "        * country_1, country_2\n",
    "        * url_1, url_2\n",
    "        * phone_1, phone_2\n",
    "        * categories_1, categories_2\n",
    "* Differenced Data\n",
    "    * Lat./Long. Differences\n",
    "        * Simply Euclidean Differences (geo_diff)\n",
    "        * Angular Difference (geo_theta_diff)\n",
    "    * String differences\n",
    "        * Three different ways to calucate differences\n",
    "            * Sequence Matching (*_seq)\n",
    "            * Levenshtein Distance (*_lev)\n",
    "            * Cosine Similarity (*_csim)\n",
    "\n",
    "We then take the different ways to difference data and run them through a Logistic regression model to see which differencing method performs best. Based on this, the best method will be sent through a random forest classification model. At the end of the notebook we'll compare all of the results against two naive models.\n",
    "  "
   ]
  },
  {
   "cell_type": "markdown",
   "id": "ec963b28-11b9-4f7a-8ab8-15e95d400df1",
   "metadata": {},
   "source": [
    "# Library Imports"
   ]
  },
  {
   "cell_type": "code",
   "execution_count": 1,
   "id": "91e8f6e9",
   "metadata": {
    "collapsed": true,
    "jupyter": {
     "outputs_hidden": true
    }
   },
   "outputs": [],
   "source": [
    "#Library Imports\n",
    "import pandas as pd\n",
    "import numpy as np\n",
    "from sklearn.model_selection import (train_test_split, cross_validate,\n",
    "                                    StratifiedKFold, GridSearchCV, RandomizedSearchCV)\n",
    "from sklearn.linear_model import LogisticRegression\n",
    "from sklearn.metrics import (confusion_matrix, roc_auc_score, f1_score,\n",
    "                            accuracy_score, precision_score, recall_score,\n",
    "                            precision_recall_curve, roc_curve)\n",
    "from sklearn.ensemble import RandomForestClassifier\n",
    "import seaborn as sns\n",
    "import matplotlib.pyplot as plt\n",
    "import random"
   ]
  },
  {
   "cell_type": "code",
   "execution_count": 2,
   "id": "b1d0ed72",
   "metadata": {
    "collapsed": true,
    "jupyter": {
     "outputs_hidden": true
    }
   },
   "outputs": [],
   "source": [
    "# This data is the curated data that comes out of \"data_prep2.0\"\n",
    "path = '../data_raw/pairs_us_diffs.csv'\n",
    "# r\"..\\data_curated\\pairs_us_diffs.csv\"\n",
    "data = pd.read_csv(path, low_memory = False)"
   ]
  },
  {
   "cell_type": "code",
   "execution_count": 3,
   "id": "57f302bb",
   "metadata": {
    "collapsed": true,
    "jupyter": {
     "outputs_hidden": true
    }
   },
   "outputs": [],
   "source": [
    "# A dictionary that defines which features to use when modeling with different string metrics \n",
    "# (sequence matching, cosine similarity, levenshtein).\n",
    "feature_dict = {'x_col_csim': ['geo_theta_diff', 'name_csim', 'address_csim',\n",
    "       'city_csim', 'state_csim', 'zip_csim', 'url_csim', 'phone_csim',\n",
    "       'categories_csim'], \n",
    "                'x_col_seq':['geo_theta_diff', 'name_diff_seq',\n",
    "       'address_diff_seq', 'city_diff_seq','state_diff_seq', 'zip_diff_seq',\n",
    "       'url_diff_seq', 'phone_diff_seq', 'categories_diff_seq'],\n",
    "               'x_col_lev':['geo_theta_diff', 'name_diff_lev',\n",
    "       'address_diff_lev', 'city_diff_lev','state_diff_lev', 'zip_diff_lev',\n",
    "       'url_diff_lev', 'phone_diff_lev', 'categories_diff_lev'] }"
   ]
  },
  {
   "cell_type": "markdown",
   "id": "0a83733c-a63c-4325-85c8-33d2f826ae64",
   "metadata": {},
   "source": [
    "# Function Definitions"
   ]
  },
  {
   "cell_type": "code",
   "execution_count": 39,
   "id": "74e2d50f",
   "metadata": {
    "collapsed": true,
    "jupyter": {
     "outputs_hidden": true
    }
   },
   "outputs": [],
   "source": [
    "# Defining Modeling Functions\n",
    "def logistic_regression_pipe(features, labels):\n",
    "    x_train, x_test, y_train, y_test = train_test_split(features, labels,\n",
    "                                                    shuffle      = True,\n",
    "                                                    random_state = 614,\n",
    "                                                    test_size    = 0.2,\n",
    "                                                    stratify     = labels)\n",
    "    skf  = StratifiedKFold(n_splits = 10, shuffle = True, random_state = 614)\n",
    "    lreg = LogisticRegression()\n",
    "    #HyperParameters\n",
    "    solvers = ['newton-cg', 'lbfgs', 'liblinear']\n",
    "    penalty = ['l2']\n",
    "    c_values = [100, 50, 10, 5, 1.0, 0.5, 0.1, 0.05, 0.01]\n",
    "    grid = dict(solver=solvers,penalty=penalty,C=c_values)\n",
    "    grid_search = GridSearchCV(estimator=lreg, param_grid=grid, n_jobs=-1, cv=skf, scoring='accuracy',error_score=0)\n",
    "    grid_result = grid_search.fit(x_train, y_train)\n",
    "    # print(\"Best: %f using %s\" % (grid_result.best_score_, grid_result.best_params_))\n",
    "    print(\"Best mean test score {:5.5f} using {}\".format(grid_result.best_score_, grid_result.best_params_))\n",
    "    means  = grid_result.cv_results_['mean_test_score']\n",
    "    stds   = grid_result.cv_results_['std_test_score']\n",
    "    params = grid_result.cv_results_['params']\n",
    "    print(\"mean     std             param\")\n",
    "    print(\"------------------------------\"*2)\n",
    "    for mean, stdev, param in zip(means, stds, params):\n",
    "        # print(\"%f (%f) with: %r\" % (mean, stdev, param))\n",
    "        print(\"{:5.5f}  ({:5.5f}) with: {}\".format(mean, stdev, param))\n",
    "    return grid_result.best_params_\n",
    "\n",
    "def random_forest_pipe(features, labels):\n",
    "    x_train, x_test, y_train, y_test = train_test_split(features, labels,\n",
    "                                                    shuffle      = True,\n",
    "                                                    random_state = 614,\n",
    "                                                    test_size    = 0.2,\n",
    "                                                    stratify     = data['match'])\n",
    "    #Defining Estimators\n",
    "    # Number of trees in random forest\n",
    "    n_estimators = [int(x) for x in np.linspace(start = 200, stop = 1200, num = 6)]\n",
    "    # Number of features to consider at every split\n",
    "    max_features = ['auto', 'sqrt']\n",
    "    # Maximum number of levels in tree\n",
    "    max_depth = [int(x) for x in np.linspace(10, 110, num = 11)]\n",
    "    max_depth.append(None)\n",
    "    # Minimum number of samples required to split a node\n",
    "    min_samples_split = [2, 5, 10]\n",
    "    # Minimum number of samples required at each leaf node\n",
    "    min_samples_leaf = [2, 4, 10]\n",
    "    # Method of selecting samples for training each tree\n",
    "    bootstrap = [True, False]\n",
    "    # Create the random grid\n",
    "    random_grid = {'n_estimators'     : n_estimators,\n",
    "                   'max_features'     : max_features,\n",
    "                   'max_depth'        : max_depth,\n",
    "                   'min_samples_split': min_samples_split,\n",
    "                   'min_samples_leaf' : min_samples_leaf,\n",
    "                   'bootstrap'        : bootstrap}\n",
    "    # Use the random grid to search for best hyperparameters\n",
    "    # First create the base model to tune\n",
    "    rf = RandomForestClassifier()\n",
    "    # Random search of parameters, using 3 fold cross validation, \n",
    "    # search across 100 different combinations, and use all available cores\n",
    "    rf_random = RandomizedSearchCV(estimator = rf, \n",
    "                                   param_distributions = random_grid, \n",
    "                                   n_iter = 10, cv = 3, verbose=2, \n",
    "                                   random_state=614, n_jobs = -1)\n",
    "    # Fit the random search model\n",
    "    rf_random.fit(x_train, y_train)\n",
    "    \n",
    "    print(rf_random.best_params_)\n",
    "    \n",
    "    return rf_random.best_params_\n"
   ]
  },
  {
   "cell_type": "markdown",
   "id": "00d178ed",
   "metadata": {},
   "source": [
    "# Logistic Regression With Hyperparameter tuning and K-fold Cross_validation"
   ]
  },
  {
   "cell_type": "code",
   "execution_count": 5,
   "id": "a1b0de06",
   "metadata": {
    "collapsed": true,
    "jupyter": {
     "outputs_hidden": true
    },
    "tags": []
   },
   "outputs": [
    {
     "name": "stdout",
     "output_type": "stream",
     "text": [
      "-.-.-.-.-.-.-.-.-.-.-.-.-.-.-.-.-.-.-.-.-.-.-.-.-.-.-.-.-.-.-.-.-.-.-.-.-.-.-.-.\n",
      "x_col_csim\n",
      "Best mean test score 0.73952 using {'C': 0.05, 'penalty': 'l2', 'solver': 'newton-cg'}\n",
      "mean     std             param\n",
      "------------------------------------------------------------\n",
      "0.73923  (0.00253) with: {'C': 100, 'penalty': 'l2', 'solver': 'newton-cg'}\n",
      "0.73922  (0.00252) with: {'C': 100, 'penalty': 'l2', 'solver': 'lbfgs'}\n",
      "0.73924  (0.00251) with: {'C': 100, 'penalty': 'l2', 'solver': 'liblinear'}\n",
      "0.73923  (0.00253) with: {'C': 50, 'penalty': 'l2', 'solver': 'newton-cg'}\n",
      "0.73922  (0.00252) with: {'C': 50, 'penalty': 'l2', 'solver': 'lbfgs'}\n",
      "0.73924  (0.00251) with: {'C': 50, 'penalty': 'l2', 'solver': 'liblinear'}\n",
      "0.73924  (0.00255) with: {'C': 10, 'penalty': 'l2', 'solver': 'newton-cg'}\n",
      "0.73922  (0.00253) with: {'C': 10, 'penalty': 'l2', 'solver': 'lbfgs'}\n",
      "0.73925  (0.00253) with: {'C': 10, 'penalty': 'l2', 'solver': 'liblinear'}\n",
      "0.73923  (0.00254) with: {'C': 5, 'penalty': 'l2', 'solver': 'newton-cg'}\n",
      "0.73920  (0.00252) with: {'C': 5, 'penalty': 'l2', 'solver': 'lbfgs'}\n",
      "0.73924  (0.00252) with: {'C': 5, 'penalty': 'l2', 'solver': 'liblinear'}\n",
      "0.73918  (0.00252) with: {'C': 1.0, 'penalty': 'l2', 'solver': 'newton-cg'}\n",
      "0.73918  (0.00252) with: {'C': 1.0, 'penalty': 'l2', 'solver': 'lbfgs'}\n",
      "0.73917  (0.00251) with: {'C': 1.0, 'penalty': 'l2', 'solver': 'liblinear'}\n",
      "0.73919  (0.00251) with: {'C': 0.5, 'penalty': 'l2', 'solver': 'newton-cg'}\n",
      "0.73920  (0.00251) with: {'C': 0.5, 'penalty': 'l2', 'solver': 'lbfgs'}\n",
      "0.73922  (0.00252) with: {'C': 0.5, 'penalty': 'l2', 'solver': 'liblinear'}\n",
      "0.73936  (0.00262) with: {'C': 0.1, 'penalty': 'l2', 'solver': 'newton-cg'}\n",
      "0.73934  (0.00262) with: {'C': 0.1, 'penalty': 'l2', 'solver': 'lbfgs'}\n",
      "0.73935  (0.00263) with: {'C': 0.1, 'penalty': 'l2', 'solver': 'liblinear'}\n",
      "0.73952  (0.00241) with: {'C': 0.05, 'penalty': 'l2', 'solver': 'newton-cg'}\n",
      "0.73951  (0.00241) with: {'C': 0.05, 'penalty': 'l2', 'solver': 'lbfgs'}\n",
      "0.73940  (0.00244) with: {'C': 0.05, 'penalty': 'l2', 'solver': 'liblinear'}\n",
      "0.73895  (0.00221) with: {'C': 0.01, 'penalty': 'l2', 'solver': 'newton-cg'}\n",
      "0.73893  (0.00221) with: {'C': 0.01, 'penalty': 'l2', 'solver': 'lbfgs'}\n",
      "0.73893  (0.00223) with: {'C': 0.01, 'penalty': 'l2', 'solver': 'liblinear'}\n",
      "-.-.-.-.-.-.-.-.-.-.-.-.-.-.-.-.-.-.-.-.-.-.-.-.-.-.-.-.-.-.-.-.-.-.-.-.-.-.-.-.\n",
      "x_col_seq\n",
      "Best mean test score 0.75204 using {'C': 0.1, 'penalty': 'l2', 'solver': 'liblinear'}\n",
      "mean     std             param\n",
      "------------------------------------------------------------\n",
      "0.75193  (0.00292) with: {'C': 100, 'penalty': 'l2', 'solver': 'newton-cg'}\n",
      "0.75192  (0.00292) with: {'C': 100, 'penalty': 'l2', 'solver': 'lbfgs'}\n",
      "0.75193  (0.00292) with: {'C': 100, 'penalty': 'l2', 'solver': 'liblinear'}\n",
      "0.75193  (0.00292) with: {'C': 50, 'penalty': 'l2', 'solver': 'newton-cg'}\n",
      "0.75193  (0.00292) with: {'C': 50, 'penalty': 'l2', 'solver': 'lbfgs'}\n",
      "0.75192  (0.00292) with: {'C': 50, 'penalty': 'l2', 'solver': 'liblinear'}\n",
      "0.75192  (0.00292) with: {'C': 10, 'penalty': 'l2', 'solver': 'newton-cg'}\n",
      "0.75192  (0.00292) with: {'C': 10, 'penalty': 'l2', 'solver': 'lbfgs'}\n",
      "0.75193  (0.00292) with: {'C': 10, 'penalty': 'l2', 'solver': 'liblinear'}\n",
      "0.75193  (0.00292) with: {'C': 5, 'penalty': 'l2', 'solver': 'newton-cg'}\n",
      "0.75194  (0.00292) with: {'C': 5, 'penalty': 'l2', 'solver': 'lbfgs'}\n",
      "0.75192  (0.00291) with: {'C': 5, 'penalty': 'l2', 'solver': 'liblinear'}\n",
      "0.75194  (0.00286) with: {'C': 1.0, 'penalty': 'l2', 'solver': 'newton-cg'}\n",
      "0.75193  (0.00286) with: {'C': 1.0, 'penalty': 'l2', 'solver': 'lbfgs'}\n",
      "0.75193  (0.00282) with: {'C': 1.0, 'penalty': 'l2', 'solver': 'liblinear'}\n",
      "0.75190  (0.00286) with: {'C': 0.5, 'penalty': 'l2', 'solver': 'newton-cg'}\n",
      "0.75189  (0.00286) with: {'C': 0.5, 'penalty': 'l2', 'solver': 'lbfgs'}\n",
      "0.75190  (0.00286) with: {'C': 0.5, 'penalty': 'l2', 'solver': 'liblinear'}\n",
      "0.75201  (0.00289) with: {'C': 0.1, 'penalty': 'l2', 'solver': 'newton-cg'}\n",
      "0.75201  (0.00289) with: {'C': 0.1, 'penalty': 'l2', 'solver': 'lbfgs'}\n",
      "0.75204  (0.00289) with: {'C': 0.1, 'penalty': 'l2', 'solver': 'liblinear'}\n",
      "0.75175  (0.00280) with: {'C': 0.05, 'penalty': 'l2', 'solver': 'newton-cg'}\n",
      "0.75177  (0.00283) with: {'C': 0.05, 'penalty': 'l2', 'solver': 'lbfgs'}\n",
      "0.75174  (0.00286) with: {'C': 0.05, 'penalty': 'l2', 'solver': 'liblinear'}\n",
      "0.75070  (0.00257) with: {'C': 0.01, 'penalty': 'l2', 'solver': 'newton-cg'}\n",
      "0.75069  (0.00259) with: {'C': 0.01, 'penalty': 'l2', 'solver': 'lbfgs'}\n",
      "0.75105  (0.00280) with: {'C': 0.01, 'penalty': 'l2', 'solver': 'liblinear'}\n",
      "-.-.-.-.-.-.-.-.-.-.-.-.-.-.-.-.-.-.-.-.-.-.-.-.-.-.-.-.-.-.-.-.-.-.-.-.-.-.-.-.\n",
      "x_col_lev\n",
      "Best mean test score 0.76057 using {'C': 0.01, 'penalty': 'l2', 'solver': 'liblinear'}\n",
      "mean     std             param\n",
      "------------------------------------------------------------\n",
      "0.75855  (0.00279) with: {'C': 100, 'penalty': 'l2', 'solver': 'newton-cg'}\n",
      "0.75855  (0.00279) with: {'C': 100, 'penalty': 'l2', 'solver': 'lbfgs'}\n",
      "0.75855  (0.00279) with: {'C': 100, 'penalty': 'l2', 'solver': 'liblinear'}\n",
      "0.75855  (0.00279) with: {'C': 50, 'penalty': 'l2', 'solver': 'newton-cg'}\n",
      "0.75855  (0.00279) with: {'C': 50, 'penalty': 'l2', 'solver': 'lbfgs'}\n",
      "0.75855  (0.00279) with: {'C': 50, 'penalty': 'l2', 'solver': 'liblinear'}\n",
      "0.75854  (0.00279) with: {'C': 10, 'penalty': 'l2', 'solver': 'newton-cg'}\n",
      "0.75854  (0.00279) with: {'C': 10, 'penalty': 'l2', 'solver': 'lbfgs'}\n",
      "0.75854  (0.00279) with: {'C': 10, 'penalty': 'l2', 'solver': 'liblinear'}\n",
      "0.75854  (0.00279) with: {'C': 5, 'penalty': 'l2', 'solver': 'newton-cg'}\n",
      "0.75854  (0.00279) with: {'C': 5, 'penalty': 'l2', 'solver': 'lbfgs'}\n",
      "0.75854  (0.00279) with: {'C': 5, 'penalty': 'l2', 'solver': 'liblinear'}\n",
      "0.75855  (0.00276) with: {'C': 1.0, 'penalty': 'l2', 'solver': 'newton-cg'}\n",
      "0.75854  (0.00278) with: {'C': 1.0, 'penalty': 'l2', 'solver': 'lbfgs'}\n",
      "0.75857  (0.00280) with: {'C': 1.0, 'penalty': 'l2', 'solver': 'liblinear'}\n",
      "0.75853  (0.00276) with: {'C': 0.5, 'penalty': 'l2', 'solver': 'newton-cg'}\n",
      "0.75853  (0.00276) with: {'C': 0.5, 'penalty': 'l2', 'solver': 'lbfgs'}\n",
      "0.75858  (0.00280) with: {'C': 0.5, 'penalty': 'l2', 'solver': 'liblinear'}\n",
      "0.75859  (0.00270) with: {'C': 0.1, 'penalty': 'l2', 'solver': 'newton-cg'}\n",
      "0.75860  (0.00270) with: {'C': 0.1, 'penalty': 'l2', 'solver': 'lbfgs'}\n",
      "0.75872  (0.00275) with: {'C': 0.1, 'penalty': 'l2', 'solver': 'liblinear'}\n",
      "0.75879  (0.00267) with: {'C': 0.05, 'penalty': 'l2', 'solver': 'newton-cg'}\n",
      "0.75879  (0.00267) with: {'C': 0.05, 'penalty': 'l2', 'solver': 'lbfgs'}\n",
      "0.75901  (0.00265) with: {'C': 0.05, 'penalty': 'l2', 'solver': 'liblinear'}\n",
      "0.75990  (0.00248) with: {'C': 0.01, 'penalty': 'l2', 'solver': 'newton-cg'}\n",
      "0.75990  (0.00248) with: {'C': 0.01, 'penalty': 'l2', 'solver': 'lbfgs'}\n",
      "0.76057  (0.00263) with: {'C': 0.01, 'penalty': 'l2', 'solver': 'liblinear'}\n"
     ]
    }
   ],
   "source": [
    "best_params_dict = {}\n",
    "for features in feature_dict:\n",
    "    print(40*'-.')\n",
    "    print(features)\n",
    "    best_params = logistic_regression_pipe(features = data[feature_dict[features]], labels = data['match'])\n",
    "    best_params_dict[features] = best_params"
   ]
  },
  {
   "cell_type": "code",
   "execution_count": 6,
   "id": "17ac6477-000b-449d-93b0-3b1262e77057",
   "metadata": {
    "collapsed": true,
    "jupyter": {
     "outputs_hidden": true
    }
   },
   "outputs": [
    {
     "data": {
      "text/plain": [
       "{'C': 0.01, 'penalty': 'l2', 'solver': 'liblinear'}"
      ]
     },
     "execution_count": 6,
     "metadata": {},
     "output_type": "execute_result"
    }
   ],
   "source": [
    "best_params_dict['x_col_lev']"
   ]
  },
  {
   "cell_type": "markdown",
   "id": "78ff12cf",
   "metadata": {},
   "source": [
    "What I get from above is that the levenshtein distance works as the best metric. I ran this twice with \"geo_diff\" and \"geo_theta_diff\" (not shown with \"geo_diff\"). They give nearly identical results so I'll stick with \"geo_theta_diff\" because I believe it to be the most accurate metric. </br> </br>\n",
    "Here's what I will use for the \"best logistic regression\" on the test set.\n",
    "```\n",
    "x_col_lev\n",
    "Best: 0.760583 using {'C': 0.01, 'penalty': 'l2', 'solver': 'liblinear'}\n",
    "```"
   ]
  },
  {
   "cell_type": "code",
   "execution_count": 7,
   "id": "dabcd221-64db-4db3-9e17-485803f6c2dd",
   "metadata": {
    "collapsed": true,
    "jupyter": {
     "outputs_hidden": true
    }
   },
   "outputs": [],
   "source": [
    "skf = StratifiedKFold(n_splits = 10, shuffle = True, random_state = 614)"
   ]
  },
  {
   "cell_type": "code",
   "execution_count": 8,
   "id": "f9c0e0b9",
   "metadata": {
    "collapsed": true,
    "jupyter": {
     "outputs_hidden": true
    }
   },
   "outputs": [],
   "source": [
    "lreg_best = LogisticRegression(penalty = best_params_dict['x_col_lev']['penalty'], \n",
    "                               solver  = best_params_dict['x_col_lev']['solver'], \n",
    "                               C       = best_params_dict['x_col_lev']['C'])"
   ]
  },
  {
   "cell_type": "code",
   "execution_count": 9,
   "id": "461dc7a4",
   "metadata": {
    "collapsed": true,
    "jupyter": {
     "outputs_hidden": true
    }
   },
   "outputs": [],
   "source": [
    "#Defining Test Set that will be used for next logistic regression\n",
    "x_train, x_test, y_train, y_test = train_test_split(data[feature_dict['x_col_lev']], data['match'],\n",
    "                                                    shuffle      = True,\n",
    "                                                    random_state = 614,\n",
    "                                                    test_size    = 0.2,\n",
    "                                                    stratify     = data['match'])"
   ]
  },
  {
   "cell_type": "code",
   "execution_count": 10,
   "id": "4ca53fc0",
   "metadata": {
    "collapsed": true,
    "jupyter": {
     "outputs_hidden": true
    },
    "tags": []
   },
   "outputs": [],
   "source": [
    "scores = cross_validate(lreg_best, x_train, y_train, \n",
    "                        cv      = skf, \n",
    "                        scoring = ['accuracy', 'roc_auc', 'f1', 'average_precision', 'jaccard'], \n",
    "                        n_jobs  = -1)"
   ]
  },
  {
   "cell_type": "markdown",
   "id": "ef215fa0",
   "metadata": {},
   "source": [
    "Results"
   ]
  },
  {
   "cell_type": "code",
   "execution_count": 11,
   "id": "5ed906f1-336a-4d3d-8fb9-f05171757dd3",
   "metadata": {
    "collapsed": true,
    "jupyter": {
     "outputs_hidden": true
    }
   },
   "outputs": [
    {
     "name": "stdout",
     "output_type": "stream",
     "text": [
      "Mean Accuracy\n",
      "0.7605722218327654\n",
      "Mean roc_auc\n",
      "0.7403875779217521\n",
      "Mean F1\n",
      "0.8486132699349389\n",
      "Mean Average Precision\n",
      "0.8587660397355534\n",
      "Mean Jaccard\n",
      "0.7370392880547117\n"
     ]
    }
   ],
   "source": [
    "print('Mean Accuracy')\n",
    "print(np.mean(scores['test_accuracy']))\n",
    "print('Mean roc_auc')\n",
    "print(np.mean(scores['test_roc_auc']))\n",
    "print('Mean F1')\n",
    "print(np.mean(scores['test_f1']))\n",
    "print('Mean Average Precision')\n",
    "print(np.mean(scores['test_average_precision']))\n",
    "print('Mean Jaccard')\n",
    "print(np.mean(scores['test_jaccard']))"
   ]
  },
  {
   "cell_type": "markdown",
   "id": "d473d7e6",
   "metadata": {},
   "source": [
    "## Logistic Regression on Test Set"
   ]
  },
  {
   "cell_type": "code",
   "execution_count": 12,
   "id": "3065f397",
   "metadata": {
    "collapsed": true,
    "jupyter": {
     "outputs_hidden": true
    }
   },
   "outputs": [],
   "source": [
    "lreg_best.fit(x_train, y_train)\n",
    "y_pred = lreg_best.predict(x_test)"
   ]
  },
  {
   "cell_type": "code",
   "execution_count": 13,
   "id": "7cc4805c",
   "metadata": {
    "collapsed": true,
    "jupyter": {
     "outputs_hidden": true
    }
   },
   "outputs": [
    {
     "data": {
      "text/plain": [
       "array([[ 2075,  4544],\n",
       "       [ 1141, 15781]])"
      ]
     },
     "execution_count": 13,
     "metadata": {},
     "output_type": "execute_result"
    }
   ],
   "source": [
    "confusion_matrix(y_test, y_pred)"
   ]
  },
  {
   "cell_type": "code",
   "execution_count": 14,
   "id": "3ddc3e35",
   "metadata": {
    "collapsed": true,
    "jupyter": {
     "outputs_hidden": true
    }
   },
   "outputs": [
    {
     "data": {
      "text/plain": [
       "0.623032222942199"
      ]
     },
     "execution_count": 14,
     "metadata": {},
     "output_type": "execute_result"
    }
   ],
   "source": [
    "roc_auc_score(y_test, y_pred)"
   ]
  },
  {
   "cell_type": "code",
   "execution_count": 15,
   "id": "cce383b2",
   "metadata": {
    "collapsed": true,
    "jupyter": {
     "outputs_hidden": true
    }
   },
   "outputs": [
    {
     "data": {
      "text/plain": [
       "0.8473702580073563"
      ]
     },
     "execution_count": 15,
     "metadata": {},
     "output_type": "execute_result"
    }
   ],
   "source": [
    "f1_score(y_test, y_pred)"
   ]
  },
  {
   "cell_type": "code",
   "execution_count": 16,
   "id": "663c4b49",
   "metadata": {
    "collapsed": true,
    "jupyter": {
     "outputs_hidden": true
    }
   },
   "outputs": [
    {
     "data": {
      "text/plain": [
       "0.7585064355804766"
      ]
     },
     "execution_count": 16,
     "metadata": {},
     "output_type": "execute_result"
    }
   ],
   "source": [
    "accuracy_score(y_test, y_pred)"
   ]
  },
  {
   "cell_type": "code",
   "execution_count": 33,
   "id": "029a6e63-8e0e-4e20-bd37-0502dd5d32a8",
   "metadata": {
    "collapsed": true,
    "jupyter": {
     "outputs_hidden": true
    },
    "tags": []
   },
   "outputs": [
    {
     "data": {
      "image/png": "[encoded data removed]",
      "text/plain": [
       "<Figure size 936x432 with 2 Axes>"
      ]
     },
     "metadata": {
      "needs_background": "light"
     },
     "output_type": "display_data"
    }
   ],
   "source": [
    "fig, axs = plt.subplots(1,2,figsize=(13,6))\n",
    "precision, recall, thresholds = precision_recall_curve(y_test, lreg_best.predict_proba(x_test)[:,1])\n",
    "axs[0].plot(recall,precision)\n",
    "axs[0].set_xlabel(\"Recall\",fontsize=16)\n",
    "axs[0].set_ylabel(\"Precision\",fontsize=16)\n",
    "axs[0].tick_params(axis='both',labelsize=12)\n",
    "\n",
    "# ax.tick_params(axis='x', Labelsize= )\n",
    "\n",
    "fpr, tpr, thresholds = roc_curve(y_test, lreg_best.predict_proba(x_test)[:,1])\n",
    "axs[1].plot(fpr,tpr)\n",
    "axs[1].set_xlabel(\"False Positive Rate\",fontsize=16)\n",
    "axs[1].set_ylabel(\"True Positive Rate\",fontsize=16)\n",
    "axs[1].tick_params(axis='both',labelsize=12)\n",
    "\n",
    "# plt.tight_layout()\n",
    "\n",
    "plt.show()"
   ]
  },
  {
   "cell_type": "code",
   "execution_count": null,
   "id": "33e7d6e5-13de-4973-9e7d-c6a954008212",
   "metadata": {
    "collapsed": true,
    "jupyter": {
     "outputs_hidden": true
    }
   },
   "outputs": [],
   "source": []
  },
  {
   "cell_type": "code",
   "execution_count": 35,
   "id": "1531d6f7",
   "metadata": {
    "collapsed": true,
    "jupyter": {
     "outputs_hidden": true
    }
   },
   "outputs": [
    {
     "data": {
      "image/png": "[encoded data removed]",
      "text/plain": [
       "<Figure size 1080x360 with 3 Axes>"
      ]
     },
     "metadata": {
      "needs_background": "light"
     },
     "output_type": "display_data"
    }
   ],
   "source": [
    "cutoffs = np.arange(0, 1.01, 0.01)\n",
    "y_train_prob = lreg_best.predict_proba(x_train)[:,1]\n",
    "accs = []\n",
    "aucs = []\n",
    "f1s = []\n",
    "precision = []\n",
    "recall = []\n",
    "for cutoff in cutoffs:\n",
    "    cutoffs = np.arange(0, 1.01, 0.01)\n",
    "    y_train_pred = 1*(y_train_prob >= cutoff)\n",
    "    \n",
    "    #accs.append(np.sum(y_train_pred == y_train)/len(y_train))\n",
    "    accs.append(accuracy_score(y_train, y_train_pred))\n",
    "    aucs.append(roc_auc_score(y_train, y_train_pred))\n",
    "    f1s.append(f1_score(y_train, y_train_pred))\n",
    "\n",
    "fig, axs = plt.subplots(1,3,figsize=(15,5))\n",
    "\n",
    "axs[0].scatter(cutoffs,accs)\n",
    "axs[0].set_xlabel(\"Cutoff\",fontsize=16)\n",
    "axs[0].set_ylabel(\"Training Accuracy\",fontsize=16)\n",
    "\n",
    "axs[1].scatter(cutoffs,aucs)\n",
    "axs[1].set_xlabel(\"Cutoff\",fontsize=16)\n",
    "axs[1].set_ylabel(\"AUC\",fontsize=16)\n",
    "\n",
    "axs[2].scatter(cutoffs,f1s)\n",
    "axs[2].set_xlabel(\"Cutoff\",fontsize=16)\n",
    "axs[2].set_ylabel(\"F1\",fontsize=16)  \n",
    "\n",
    "plt.tight_layout()\n",
    "\n",
    "# plt.figure(figsize=(12,8))\n",
    "# plt.scatter(cutoffs,accs)\n",
    "# plt.xlabel(\"Cutoff\",fontsize=16)\n",
    "# plt.ylabel(\"Training Accuracy\",fontsize=16)\n",
    "# plt.show()\n",
    "\n",
    "# plt.figure(figsize=(12,8))\n",
    "# plt.scatter(cutoffs,aucs)\n",
    "# plt.xlabel(\"Cutoff\",fontsize=16)\n",
    "# plt.ylabel(\"AUC\",fontsize=16)\n",
    "# plt.show()\n",
    "\n",
    "# plt.figure(figsize=(12,8))\n",
    "# plt.scatter(cutoffs,f1s)\n",
    "# plt.xlabel(\"Cutoff\",fontsize=16)\n",
    "# plt.ylabel(\"F1\",fontsize=16)\n",
    "\n",
    "plt.show()\n"
   ]
  },
  {
   "cell_type": "markdown",
   "id": "66fd4714-0e96-410d-b85a-23b15c2a49f4",
   "metadata": {},
   "source": [
    "# Random Forest with Hyperparameter Tuning"
   ]
  },
  {
   "cell_type": "markdown",
   "id": "02e443de-0b71-4703-98e6-88811aebe361",
   "metadata": {},
   "source": [
    "Becuase the Levenshtein distance served as the best string difference metric through the logistic regression analysis, we'll use this as the input data set for the following random forest model."
   ]
  },
  {
   "cell_type": "code",
   "execution_count": 36,
   "id": "bfce44a8-9297-4287-a7e0-e4123cfe9516",
   "metadata": {
    "collapsed": true,
    "jupyter": {
     "outputs_hidden": true
    }
   },
   "outputs": [],
   "source": [
    "#Train Test Split Using Levensthein Columns\n",
    "x_train, x_test, y_train, y_test = train_test_split(data[feature_dict['x_col_lev']], data['match'],\n",
    "                                                    shuffle      = True,\n",
    "                                                    random_state = 614,\n",
    "                                                    test_size    = 0.2,\n",
    "                                                    stratify     = data['match'])"
   ]
  },
  {
   "cell_type": "markdown",
   "id": "fe1bd9e3-317c-48b9-bed6-63e52c990d78",
   "metadata": {},
   "source": [
    "## Hyperparameter Tuning"
   ]
  },
  {
   "cell_type": "code",
   "execution_count": 40,
   "id": "00766510-051c-47ef-8f8c-4a5756493df0",
   "metadata": {
    "collapsed": true,
    "jupyter": {
     "outputs_hidden": true
    }
   },
   "outputs": [
    {
     "name": "stdout",
     "output_type": "stream",
     "text": [
      "Fitting 3 folds for each of 10 candidates, totalling 30 fits\n",
      "{'n_estimators': 400, 'min_samples_split': 2, 'min_samples_leaf': 4, 'max_features': 'auto', 'max_depth': 20, 'bootstrap': False}\n"
     ]
    }
   ],
   "source": [
    "best_params = random_forest_pipe(features = data[feature_dict['x_col_lev']], labels = data['match'])"
   ]
  },
  {
   "cell_type": "markdown",
   "id": "05e919e4-ddc3-4409-81ce-cd8ebd7e0a37",
   "metadata": {},
   "source": [
    "## Tuned Random Forest on Test Data"
   ]
  },
  {
   "cell_type": "code",
   "execution_count": 41,
   "id": "a37b8098-5cd4-42e9-bbe0-f3dec4a45142",
   "metadata": {
    "collapsed": true,
    "jupyter": {
     "outputs_hidden": true
    }
   },
   "outputs": [],
   "source": [
    "rf_best = RandomForestClassifier(best_params['n_estimators'], \n",
    "                                 max_features      = best_params['max_features'], \n",
    "                                 random_state      = 614,\n",
    "                                 min_samples_split = best_params['min_samples_split'],\n",
    "                                 min_samples_leaf  = best_params['min_samples_leaf'],\n",
    "                                 max_depth         = best_params['max_depth'])"
   ]
  },
  {
   "cell_type": "code",
   "execution_count": 42,
   "id": "4888a09f-7d0e-4e89-81d7-04cf39f90a9e",
   "metadata": {
    "collapsed": true,
    "jupyter": {
     "outputs_hidden": true
    }
   },
   "outputs": [],
   "source": [
    "x_train, x_test, y_train, y_test = train_test_split(data[feature_dict['x_col_lev']], data['match'],\n",
    "                                                    shuffle      = True,\n",
    "                                                    random_state = 614,\n",
    "                                                    test_size    = 0.2,\n",
    "                                                    stratify     = data['match'])"
   ]
  },
  {
   "cell_type": "code",
   "execution_count": 43,
   "id": "545845a0-9dac-4d3e-9130-9c17f099c1da",
   "metadata": {
    "collapsed": true,
    "jupyter": {
     "outputs_hidden": true
    }
   },
   "outputs": [
    {
     "data": {
      "text/plain": [
       "RandomForestClassifier(max_depth=20, min_samples_leaf=4, n_estimators=400,\n",
       "                       random_state=614)"
      ]
     },
     "execution_count": 43,
     "metadata": {},
     "output_type": "execute_result"
    }
   ],
   "source": [
    "rf_best.fit(x_train,y_train)"
   ]
  },
  {
   "cell_type": "code",
   "execution_count": 44,
   "id": "b76d18dd-d0fa-41ab-890a-9428798e633d",
   "metadata": {
    "collapsed": true,
    "jupyter": {
     "outputs_hidden": true
    }
   },
   "outputs": [],
   "source": [
    "y_rf_pred = rf_best.predict(x_test)"
   ]
  },
  {
   "cell_type": "code",
   "execution_count": 45,
   "id": "a73a4370-8df9-4bbf-8e32-c407cb5b3df9",
   "metadata": {
    "collapsed": true,
    "jupyter": {
     "outputs_hidden": true
    }
   },
   "outputs": [
    {
     "data": {
      "text/plain": [
       "0.8757186579331254"
      ]
     },
     "execution_count": 45,
     "metadata": {},
     "output_type": "execute_result"
    }
   ],
   "source": [
    "f1_score(y_test, y_rf_pred)"
   ]
  },
  {
   "cell_type": "code",
   "execution_count": 46,
   "id": "32cf21d5-5faf-4d6f-abc1-e2c1d9ed9c1e",
   "metadata": {
    "collapsed": true,
    "jupyter": {
     "outputs_hidden": true
    }
   },
   "outputs": [
    {
     "data": {
      "text/plain": [
       "0.8154284015122553"
      ]
     },
     "execution_count": 46,
     "metadata": {},
     "output_type": "execute_result"
    }
   ],
   "source": [
    "accuracy_score(y_test, y_rf_pred)"
   ]
  },
  {
   "cell_type": "code",
   "execution_count": 47,
   "id": "7d33edcc-87f0-46f8-8a90-69d21ead9349",
   "metadata": {
    "collapsed": true,
    "jupyter": {
     "outputs_hidden": true
    }
   },
   "outputs": [
    {
     "data": {
      "text/plain": [
       "0.74601055625967"
      ]
     },
     "execution_count": 47,
     "metadata": {},
     "output_type": "execute_result"
    }
   ],
   "source": [
    "roc_auc_score(y_test, y_rf_pred)"
   ]
  },
  {
   "cell_type": "code",
   "execution_count": 48,
   "id": "43041130-e860-49f3-872d-aefd97bd36f1",
   "metadata": {
    "collapsed": true,
    "jupyter": {
     "outputs_hidden": true
    }
   },
   "outputs": [
    {
     "data": {
      "text/plain": [
       "array([[ 3888,  2731],\n",
       "       [ 1614, 15308]])"
      ]
     },
     "execution_count": 48,
     "metadata": {},
     "output_type": "execute_result"
    }
   ],
   "source": [
    "confusion_matrix(y_test, y_rf_pred)"
   ]
  },
  {
   "cell_type": "code",
   "execution_count": 49,
   "id": "c36eacca-fd18-41f7-931f-ff5da3039b09",
   "metadata": {
    "collapsed": true,
    "jupyter": {
     "outputs_hidden": true
    }
   },
   "outputs": [
    {
     "data": {
      "text/plain": [
       "array([0.10760246, 0.30253768, 0.14542356, 0.02195004, 0.00806806,\n",
       "       0.03232869, 0.03941916, 0.1054869 , 0.23718345])"
      ]
     },
     "execution_count": 49,
     "metadata": {},
     "output_type": "execute_result"
    }
   ],
   "source": [
    "rf_best.feature_importances_"
   ]
  },
  {
   "cell_type": "markdown",
   "id": "3fa2902c-57c6-4934-8b07-4ede6d1d3ad7",
   "metadata": {},
   "source": [
    "# Simple Models"
   ]
  },
  {
   "cell_type": "markdown",
   "id": "f5dc413d-e393-4f01-90ab-dafb4f5678d7",
   "metadata": {},
   "source": [
    "## A Naive Model V1: (developed by Ling Zhou) "
   ]
  },
  {
   "cell_type": "code",
   "execution_count": 50,
   "id": "08442b2f-4a09-4964-9eec-a9ba24d3cf06",
   "metadata": {
    "collapsed": true,
    "jupyter": {
     "outputs_hidden": true
    }
   },
   "outputs": [],
   "source": [
    "baseline_cols = ['geo_diff', 'name_diff_lev', 'address_diff_lev']"
   ]
  },
  {
   "cell_type": "code",
   "execution_count": 51,
   "id": "23f17f8a-ee56-4c71-8333-608c952f6dd2",
   "metadata": {
    "collapsed": true,
    "jupyter": {
     "outputs_hidden": true
    }
   },
   "outputs": [],
   "source": [
    "x_train, x_test, y_train, y_test = train_test_split(data[baseline_cols], data['match'],\n",
    "                                                    shuffle      = True,\n",
    "                                                    random_state = 614,\n",
    "                                                    test_size    = 0.2,\n",
    "                                                    stratify     = data['match'])"
   ]
  },
  {
   "cell_type": "code",
   "execution_count": 52,
   "id": "5baa70bc-509d-4588-b25c-c094c091fbb8",
   "metadata": {
    "collapsed": true,
    "id": "lMkedRxfHR7X",
    "jupyter": {
     "outputs_hidden": true
    }
   },
   "outputs": [],
   "source": [
    "def baseline(df, cols, thresh):\n",
    "    df_copy = df.copy()\n",
    "    df_copy['match'] = np.random.choice([True, False], len(df))\n",
    "    df_copy.loc[df_copy[cols].max(axis=1)<thresh] = True\n",
    "    \n",
    "    return df_copy"
   ]
  },
  {
   "cell_type": "raw",
   "id": "f4b35fdf-f032-4767-afb5-c1b1928aaef0",
   "metadata": {
    "colab": {
     "base_uri": "https://localhost:8080/"
    },
    "id": "hBfwNaNGIe9h",
    "outputId": "ad334613-290d-491b-914e-60acdc81c516"
   },
   "source": [
    "# Using SequenceMatcher\n",
    "cols = ['location_diff','name_diff','address_diff']\n",
    "y_test = data['match']\n",
    "y_pred = baseline(data, cols, 0.1).match\n",
    "print(confusion_matrix(y_test,y_pred),'\\n', roc_auc_score(y_test,y_pred))"
   ]
  },
  {
   "cell_type": "code",
   "execution_count": 53,
   "id": "0b3c88b3-5627-44e0-bba7-3f7d6acd629a",
   "metadata": {
    "colab": {
     "base_uri": "https://localhost:8080/"
    },
    "collapsed": true,
    "id": "MAfWyMOiKpY1",
    "jupyter": {
     "outputs_hidden": true
    },
    "outputId": "ea26458e-e298-47cf-fca2-c8a8fa702f3b"
   },
   "outputs": [
    {
     "name": "stdout",
     "output_type": "stream",
     "text": [
      "[[ 3132  3487]\n",
      " [ 5377 11545]] \n",
      " 0.5777156107725611\n"
     ]
    }
   ],
   "source": [
    "# Using Levenshtein distance\n",
    "#cols = ['location_diff','name_diff','address_diff']\n",
    "#y_test = data['match']\n",
    "y_pred = baseline(x_test, baseline_cols, 0.1).match\n",
    "print(confusion_matrix(y_test,y_pred),'\\n', roc_auc_score(y_test,y_pred))"
   ]
  },
  {
   "cell_type": "code",
   "execution_count": 54,
   "id": "cddd7ce5-980a-4443-924b-051a798ad371",
   "metadata": {
    "collapsed": true,
    "jupyter": {
     "outputs_hidden": true
    }
   },
   "outputs": [
    {
     "data": {
      "text/plain": [
       "0.7226012392814671"
      ]
     },
     "execution_count": 54,
     "metadata": {},
     "output_type": "execute_result"
    }
   ],
   "source": [
    "f1_score(y_test, y_pred)"
   ]
  },
  {
   "cell_type": "code",
   "execution_count": 55,
   "id": "581694f5-6d14-446e-9644-5ea9684d2a8c",
   "metadata": {
    "collapsed": true,
    "jupyter": {
     "outputs_hidden": true
    }
   },
   "outputs": [
    {
     "data": {
      "text/plain": [
       "0.62346544326919"
      ]
     },
     "execution_count": 55,
     "metadata": {},
     "output_type": "execute_result"
    }
   ],
   "source": [
    "accuracy_score(y_test, y_pred)"
   ]
  },
  {
   "cell_type": "code",
   "execution_count": 56,
   "id": "087ded7d-9fd8-4a18-87e8-571823da9ebe",
   "metadata": {
    "collapsed": true,
    "jupyter": {
     "outputs_hidden": true
    }
   },
   "outputs": [
    {
     "data": {
      "text/plain": [
       "0.5777156107725611"
      ]
     },
     "execution_count": 56,
     "metadata": {},
     "output_type": "execute_result"
    }
   ],
   "source": [
    "roc_auc_score(y_test, y_pred)"
   ]
  },
  {
   "cell_type": "markdown",
   "id": "fe79cc0e-cbc9-45a1-81bf-7cedd8f7115e",
   "metadata": {},
   "source": [
    "## A Naive Model V2: Guess all matches are True"
   ]
  },
  {
   "cell_type": "code",
   "execution_count": 57,
   "id": "4ca33fdb-0a93-4f82-95f4-336d44da52da",
   "metadata": {
    "collapsed": true,
    "jupyter": {
     "outputs_hidden": true
    }
   },
   "outputs": [],
   "source": [
    "sample_arr = [True]\n",
    "\n",
    "naive_pred = np.random.choice(sample_arr, len(y_test))"
   ]
  },
  {
   "cell_type": "code",
   "execution_count": 58,
   "id": "cccddb3d-8d73-4527-a700-9950154d15ff",
   "metadata": {
    "collapsed": true,
    "jupyter": {
     "outputs_hidden": true
    }
   },
   "outputs": [
    {
     "data": {
      "text/plain": [
       "array([ True,  True,  True, ...,  True,  True,  True])"
      ]
     },
     "execution_count": 58,
     "metadata": {},
     "output_type": "execute_result"
    }
   ],
   "source": [
    "naive_pred"
   ]
  },
  {
   "cell_type": "code",
   "execution_count": 59,
   "id": "76050b37-d6fa-4ac6-b4fb-9cda22929875",
   "metadata": {
    "collapsed": true,
    "jupyter": {
     "outputs_hidden": true
    }
   },
   "outputs": [
    {
     "data": {
      "text/plain": [
       "array([[    0,  6619],\n",
       "       [    0, 16922]])"
      ]
     },
     "execution_count": 59,
     "metadata": {},
     "output_type": "execute_result"
    }
   ],
   "source": [
    "confusion_matrix(y_test, naive_pred)"
   ]
  },
  {
   "cell_type": "code",
   "execution_count": 60,
   "id": "529c59f5-038b-4e1a-8583-fd702cc69a2d",
   "metadata": {
    "collapsed": true,
    "jupyter": {
     "outputs_hidden": true
    }
   },
   "outputs": [
    {
     "data": {
      "text/plain": [
       "0.5"
      ]
     },
     "execution_count": 60,
     "metadata": {},
     "output_type": "execute_result"
    }
   ],
   "source": [
    "roc_auc_score(y_test, naive_pred)"
   ]
  },
  {
   "cell_type": "code",
   "execution_count": 61,
   "id": "4f963a17-5fbc-44a1-ab72-ce6f151f8454",
   "metadata": {
    "collapsed": true,
    "jupyter": {
     "outputs_hidden": true
    }
   },
   "outputs": [
    {
     "data": {
      "text/plain": [
       "0.8364184563675457"
      ]
     },
     "execution_count": 61,
     "metadata": {},
     "output_type": "execute_result"
    }
   ],
   "source": [
    "f1_score(y_test, naive_pred)"
   ]
  },
  {
   "cell_type": "code",
   "execution_count": 62,
   "id": "c5d56532-08a5-4245-b077-2d3b9d7edda8",
   "metadata": {
    "collapsed": true,
    "jupyter": {
     "outputs_hidden": true
    }
   },
   "outputs": [
    {
     "data": {
      "text/plain": [
       "0.7188309757444459"
      ]
     },
     "execution_count": 62,
     "metadata": {},
     "output_type": "execute_result"
    }
   ],
   "source": [
    "accuracy_score(y_test, naive_pred)"
   ]
  },
  {
   "cell_type": "code",
   "execution_count": null,
   "id": "9b0aa0a3-6335-4317-8705-f9067c011f4c",
   "metadata": {
    "collapsed": true,
    "jupyter": {
     "outputs_hidden": true
    }
   },
   "outputs": [],
   "source": []
  }
 ],
 "metadata": {
  "kernelspec": {
   "display_name": "Python 3",
   "language": "python",
   "name": "python3"
  },
  "language_info": {
   "codemirror_mode": {
    "name": "ipython",
    "version": 3
   },
   "file_extension": ".py",
   "mimetype": "text/x-python",
   "name": "python",
   "nbconvert_exporter": "python",
   "pygments_lexer": "ipython3",
   "version": "3.8.13"
  }
 },
 "nbformat": 4,
 "nbformat_minor": 5
}
