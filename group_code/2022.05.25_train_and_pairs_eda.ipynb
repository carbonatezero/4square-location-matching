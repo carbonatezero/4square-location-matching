{
  "cells": [
    {
      "cell_type": "markdown",
      "metadata": {
        "id": "PShiUJN5gnKq"
      },
      "source": [
        "Authors: Tim Gorman, Yu Cao, Ling Zhou\n",
        "\n",
        "Data analyzed in this notebook is from [Kaggle's code competation: Foursquare - Location Matching](https://www.kaggle.com/competitions/foursquare-location-matching/data). The data comprises over one-and-a-half million place entries for hundreds of thousands of commercial Points-of-Interest (POIs) around the globe. The task is to **determine which place entries describe the same point-of-interest**. \n",
        "\n",
        "*   `train.csv` - The training set, comprising eleven attribute fields for over one million place entries, together with:\n",
        "  * `id` - A unique identifier for each entry.\n",
        "  * `point_of_interest` - An identifier for the POI the entry represents. There may be one or many entries describing the same POI. Two entries \"match\" when they describe a common POI. \n",
        "*   `pairs.csv` - A pregenerated set of pairs of place entries from `train.csv` designed to improve detection of matches.\n",
        "  * `match` - Whether (`True` or `False`) the pair of entries describes a common POI."
      ]
    },
    {
      "cell_type": "code",
      "execution_count": null,
      "metadata": {
        "id": "X3qAPjmxgnKt"
      },
      "outputs": [],
      "source": [
        "import pandas as pd\n",
        "import numpy as np\n",
        "import string\n",
        "from sklearn.metrics.pairwise import cosine_similarity\n",
        "from sklearn.feature_extraction.text import CountVectorizer\n",
        "from nltk.corpus import stopwords\n",
        "stopwords = stopwords.words('english')\n",
        "\n",
        "# from googletrans import Translator, constants\n",
        "import seaborn as sns\n",
        "from langdetect import detect\n",
        "import matplotlib.pyplot as plt"
      ]
    },
    {
      "cell_type": "markdown",
      "metadata": {
        "id": "OCsgyjG3gnKu"
      },
      "source": [
        "# 1. Exploring train.csv"
      ]
    },
    {
      "cell_type": "code",
      "execution_count": null,
      "metadata": {
        "id": "B92rN627gnKu"
      },
      "outputs": [],
      "source": [
        "df_train  = pd.read_csv(\"../../data_raw/train.csv\")"
      ]
    },
    {
      "cell_type": "code",
      "execution_count": null,
      "metadata": {
        "id": "X485QDkOgnKv",
        "outputId": "a6a230e7-dc29-4625-923c-343ff305da00"
      },
      "outputs": [
        {
          "data": {
            "text/html": [
              "<div>\n",
              "<style scoped>\n",
              "    .dataframe tbody tr th:only-of-type {\n",
              "        vertical-align: middle;\n",
              "    }\n",
              "\n",
              "    .dataframe tbody tr th {\n",
              "        vertical-align: top;\n",
              "    }\n",
              "\n",
              "    .dataframe thead th {\n",
              "        text-align: right;\n",
              "    }\n",
              "</style>\n",
              "<table border=\"1\" class=\"dataframe\">\n",
              "  <thead>\n",
              "    <tr style=\"text-align: right;\">\n",
              "      <th></th>\n",
              "      <th>id</th>\n",
              "      <th>name</th>\n",
              "      <th>latitude</th>\n",
              "      <th>longitude</th>\n",
              "      <th>address</th>\n",
              "      <th>city</th>\n",
              "      <th>state</th>\n",
              "      <th>zip</th>\n",
              "      <th>country</th>\n",
              "      <th>url</th>\n",
              "      <th>phone</th>\n",
              "      <th>categories</th>\n",
              "      <th>point_of_interest</th>\n",
              "    </tr>\n",
              "  </thead>\n",
              "  <tbody>\n",
              "    <tr>\n",
              "      <th>909455</th>\n",
              "      <td>E_cc5027a5efb8e4</td>\n",
              "      <td>DS Body Building Gym &amp; Fitness</td>\n",
              "      <td>-6.888272</td>\n",
              "      <td>107.621132</td>\n",
              "      <td>NaN</td>\n",
              "      <td>NaN</td>\n",
              "      <td>NaN</td>\n",
              "      <td>NaN</td>\n",
              "      <td>ID</td>\n",
              "      <td>NaN</td>\n",
              "      <td>NaN</td>\n",
              "      <td>NaN</td>\n",
              "      <td>P_25e2ae637290cf</td>\n",
              "    </tr>\n",
              "    <tr>\n",
              "      <th>943352</th>\n",
              "      <td>E_d3e7312539cec0</td>\n",
              "      <td>Binario 2</td>\n",
              "      <td>45.596702</td>\n",
              "      <td>10.123376</td>\n",
              "      <td>Via Risorgimento 15</td>\n",
              "      <td>Rodengo Saiano</td>\n",
              "      <td>NaN</td>\n",
              "      <td>25050</td>\n",
              "      <td>IT</td>\n",
              "      <td>NaN</td>\n",
              "      <td>NaN</td>\n",
              "      <td>Pizza Places</td>\n",
              "      <td>P_8e63a782abbec3</td>\n",
              "    </tr>\n",
              "    <tr>\n",
              "      <th>990031</th>\n",
              "      <td>E_de68aee8244654</td>\n",
              "      <td>True Shop</td>\n",
              "      <td>13.791298</td>\n",
              "      <td>100.549560</td>\n",
              "      <td>BigC Saphan Kwai</td>\n",
              "      <td>Phaya Thai</td>\n",
              "      <td>Bangkok</td>\n",
              "      <td>10400</td>\n",
              "      <td>TH</td>\n",
              "      <td>NaN</td>\n",
              "      <td>NaN</td>\n",
              "      <td>Mobile Phone Shops, Electronics Stores</td>\n",
              "      <td>P_df923628f1264f</td>\n",
              "    </tr>\n",
              "  </tbody>\n",
              "</table>\n",
              "</div>"
            ],
            "text/plain": [
              "                      id                            name   latitude  \\\n",
              "909455  E_cc5027a5efb8e4  DS Body Building Gym & Fitness  -6.888272   \n",
              "943352  E_d3e7312539cec0                       Binario 2  45.596702   \n",
              "990031  E_de68aee8244654                       True Shop  13.791298   \n",
              "\n",
              "         longitude              address            city    state    zip  \\\n",
              "909455  107.621132                  NaN             NaN      NaN    NaN   \n",
              "943352   10.123376  Via Risorgimento 15  Rodengo Saiano      NaN  25050   \n",
              "990031  100.549560     BigC Saphan Kwai      Phaya Thai  Bangkok  10400   \n",
              "\n",
              "       country  url phone                              categories  \\\n",
              "909455      ID  NaN   NaN                                     NaN   \n",
              "943352      IT  NaN   NaN                            Pizza Places   \n",
              "990031      TH  NaN   NaN  Mobile Phone Shops, Electronics Stores   \n",
              "\n",
              "       point_of_interest  \n",
              "909455  P_25e2ae637290cf  \n",
              "943352  P_8e63a782abbec3  \n",
              "990031  P_df923628f1264f  "
            ]
          },
          "execution_count": 3,
          "metadata": {},
          "output_type": "execute_result"
        }
      ],
      "source": [
        "df_train.sample(3)"
      ]
    },
    {
      "cell_type": "code",
      "execution_count": null,
      "metadata": {
        "id": "Y4Y-KTCagnKv",
        "outputId": "4a2ce917-cc46-41f4-d051-84f9ce0d4ade"
      },
      "outputs": [
        {
          "name": "stdout",
          "output_type": "stream",
          "text": [
            "<class 'pandas.core.frame.DataFrame'>\n",
            "RangeIndex: 1138812 entries, 0 to 1138811\n",
            "Data columns (total 13 columns):\n",
            " #   Column             Non-Null Count    Dtype  \n",
            "---  ------             --------------    -----  \n",
            " 0   id                 1138812 non-null  object \n",
            " 1   name               1138811 non-null  object \n",
            " 2   latitude           1138812 non-null  float64\n",
            " 3   longitude          1138812 non-null  float64\n",
            " 4   address            742191 non-null   object \n",
            " 5   city               839623 non-null   object \n",
            " 6   state              718226 non-null   object \n",
            " 7   zip                543386 non-null   object \n",
            " 8   country            1138801 non-null  object \n",
            " 9   url                267724 non-null   object \n",
            " 10  phone              342855 non-null   object \n",
            " 11  categories         1040505 non-null  object \n",
            " 12  point_of_interest  1138812 non-null  object \n",
            "dtypes: float64(2), object(11)\n",
            "memory usage: 112.9+ MB\n"
          ]
        }
      ],
      "source": [
        "df_train.info()"
      ]
    },
    {
      "cell_type": "code",
      "source": [
        "print('There are', len(set(df_train.id)), 'id, and', len(set(df_train.point_of_interest)), 'distinct POIs.\\n')\n",
        "print('About', np.round(len(set(df_train.point_of_interest))/len(set(df_train.id))*100,2),'% POIs are unique.\\n')"
      ],
      "metadata": {
        "id": "S0gvQddehNJT"
      },
      "execution_count": null,
      "outputs": []
    },
    {
      "cell_type": "code",
      "source": [
        "# The available features:\n",
        "df_train.columns"
      ],
      "metadata": {
        "id": "2ZjVckMvhlDD"
      },
      "execution_count": null,
      "outputs": []
    },
    {
      "cell_type": "markdown",
      "metadata": {
        "id": "YnHQoRh3gnKw"
      },
      "source": [
        "### Missing values in the train set\n",
        "- Every row has the features: `id`, `latitude`, `longitude`, `point_of_interest`\n",
        "- Other features have missing values\n",
        "- Features that have less missing values: `name`, `country`, `categories`"
      ]
    },
    {
      "cell_type": "code",
      "execution_count": null,
      "metadata": {
        "id": "pA51hLqzgnKw",
        "outputId": "db3e9147-9307-42c8-f836-e560dd90011c"
      },
      "outputs": [
        {
          "data": {
            "text/plain": [
              "id                    0.000000\n",
              "latitude              0.000000\n",
              "longitude             0.000000\n",
              "point_of_interest     0.000000\n",
              "name                  0.000088\n",
              "country               0.000966\n",
              "categories            8.632417\n",
              "city                 26.272027\n",
              "address              34.827610\n",
              "state                36.931996\n",
              "zip                  52.284837\n",
              "phone                69.893626\n",
              "url                  76.490940\n",
              "dtype: float64"
            ]
          },
          "execution_count": 5,
          "metadata": {},
          "output_type": "execute_result"
        }
      ],
      "source": [
        "# Count the missing values\n",
        "missing = df_train.isna().sum()/df_train.shape[0]*100\n",
        "missing.sort_values()"
      ]
    },
    {
      "cell_type": "code",
      "execution_count": null,
      "metadata": {
        "id": "MnreiKlmgnKx",
        "outputId": "629a13f3-1349-4b75-e3ca-90576095f908"
      },
      "outputs": [
        {
          "data": {
            "image/png": "[encoded data removed]",
            "text/plain": [
              "<Figure size 576x432 with 1 Axes>"
            ]
          },
          "metadata": {
            "needs_background": "light"
          },
          "output_type": "display_data"
        }
      ],
      "source": [
        "# Plot the percentages of missing values for each feature\n",
        "import matplotlib.ticker as mtick\n",
        "tmp = df_train.drop(columns=['id','latitude','longitude','point_of_interest']).isna().sum().sort_values()\n",
        "fig, ax = plt.subplots(figsize=(8,6))\n",
        "ax.barh(tmp.index, tmp/len(df_train)*100)\n",
        "ax.set_title(\"(Most) missing values (percentages)\", fontsize=18)\n",
        "ax.xaxis.set_major_formatter(mtick.PercentFormatter())\n",
        "ax.tick_params(axis='both', labelsize=15 )\n",
        "ax.set_ylabel('features', fontsize=18)\n",
        "plt.show()"
      ]
    },
    {
      "cell_type": "markdown",
      "metadata": {
        "id": "4zR6Z4ccgnKx"
      },
      "source": [
        "# 2. Exploring and Manipulating pairs.csv"
      ]
    },
    {
      "cell_type": "code",
      "execution_count": null,
      "metadata": {
        "id": "R0671UTlgnKy",
        "outputId": "4359d978-373c-46ec-9ed6-c2972aae8257"
      },
      "outputs": [
        {
          "name": "stdout",
          "output_type": "stream",
          "text": [
            "<class 'pandas.core.frame.DataFrame'>\n",
            "RangeIndex: 1138812 entries, 0 to 1138811\n",
            "Data columns (total 13 columns):\n",
            " #   Column             Non-Null Count    Dtype  \n",
            "---  ------             --------------    -----  \n",
            " 0   id                 1138812 non-null  object \n",
            " 1   name               1138811 non-null  object \n",
            " 2   latitude           1138812 non-null  float64\n",
            " 3   longitude          1138812 non-null  float64\n",
            " 4   address            742191 non-null   object \n",
            " 5   city               839623 non-null   object \n",
            " 6   state              718226 non-null   object \n",
            " 7   zip                543386 non-null   object \n",
            " 8   country            1138801 non-null  object \n",
            " 9   url                267724 non-null   object \n",
            " 10  phone              342855 non-null   object \n",
            " 11  categories         1040505 non-null  object \n",
            " 12  point_of_interest  1138812 non-null  object \n",
            "dtypes: float64(2), object(11)\n",
            "memory usage: 112.9+ MB\n"
          ]
        }
      ],
      "source": [
        "df_train.info()"
      ]
    },
    {
      "cell_type": "markdown",
      "metadata": {
        "id": "rPvASctPgnKy"
      },
      "source": [
        "## Loading the Pairs Dataset"
      ]
    },
    {
      "cell_type": "code",
      "execution_count": null,
      "metadata": {
        "id": "VK3OC8fSgnKy"
      },
      "outputs": [],
      "source": [
        "pairs = pd.read_csv(r'C:\\Users\\gorma\\OneDrive\\Documents\\Erdos\\foursquare-location-matching\\data_raw\\pairs.csv')"
      ]
    },
    {
      "cell_type": "code",
      "execution_count": null,
      "metadata": {
        "id": "GhcggZCmgnKy",
        "outputId": "6bdb8f01-93d7-49bd-cae6-d909faa91b74"
      },
      "outputs": [
        {
          "data": {
            "text/html": [
              "<div>\n",
              "<style scoped>\n",
              "    .dataframe tbody tr th:only-of-type {\n",
              "        vertical-align: middle;\n",
              "    }\n",
              "\n",
              "    .dataframe tbody tr th {\n",
              "        vertical-align: top;\n",
              "    }\n",
              "\n",
              "    .dataframe thead th {\n",
              "        text-align: right;\n",
              "    }\n",
              "</style>\n",
              "<table border=\"1\" class=\"dataframe\">\n",
              "  <thead>\n",
              "    <tr style=\"text-align: right;\">\n",
              "      <th></th>\n",
              "      <th>id_1</th>\n",
              "      <th>name_1</th>\n",
              "      <th>latitude_1</th>\n",
              "      <th>longitude_1</th>\n",
              "      <th>address_1</th>\n",
              "      <th>city_1</th>\n",
              "      <th>state_1</th>\n",
              "      <th>zip_1</th>\n",
              "      <th>country_1</th>\n",
              "      <th>url_1</th>\n",
              "      <th>...</th>\n",
              "      <th>longitude_2</th>\n",
              "      <th>address_2</th>\n",
              "      <th>city_2</th>\n",
              "      <th>state_2</th>\n",
              "      <th>zip_2</th>\n",
              "      <th>country_2</th>\n",
              "      <th>url_2</th>\n",
              "      <th>phone_2</th>\n",
              "      <th>categories_2</th>\n",
              "      <th>match</th>\n",
              "    </tr>\n",
              "  </thead>\n",
              "  <tbody>\n",
              "    <tr>\n",
              "      <th>0</th>\n",
              "      <td>E_000001272c6c5d</td>\n",
              "      <td>Café Stad Oudenaarde</td>\n",
              "      <td>50.859975</td>\n",
              "      <td>3.634196</td>\n",
              "      <td>Abdijstraat</td>\n",
              "      <td>Nederename</td>\n",
              "      <td>Oost-Vlaanderen</td>\n",
              "      <td>9700</td>\n",
              "      <td>BE</td>\n",
              "      <td>NaN</td>\n",
              "      <td>...</td>\n",
              "      <td>3.635206</td>\n",
              "      <td>NaN</td>\n",
              "      <td>NaN</td>\n",
              "      <td>NaN</td>\n",
              "      <td>NaN</td>\n",
              "      <td>BE</td>\n",
              "      <td>NaN</td>\n",
              "      <td>NaN</td>\n",
              "      <td>Bars</td>\n",
              "      <td>True</td>\n",
              "    </tr>\n",
              "    <tr>\n",
              "      <th>1</th>\n",
              "      <td>E_000008a8ba4f48</td>\n",
              "      <td>Turkcell</td>\n",
              "      <td>37.844510</td>\n",
              "      <td>27.844202</td>\n",
              "      <td>Adnan Menderes Bulvarı</td>\n",
              "      <td>NaN</td>\n",
              "      <td>NaN</td>\n",
              "      <td>NaN</td>\n",
              "      <td>TR</td>\n",
              "      <td>NaN</td>\n",
              "      <td>...</td>\n",
              "      <td>27.845560</td>\n",
              "      <td>batı aydın</td>\n",
              "      <td>aydın</td>\n",
              "      <td>NaN</td>\n",
              "      <td>67500</td>\n",
              "      <td>TR</td>\n",
              "      <td>NaN</td>\n",
              "      <td>NaN</td>\n",
              "      <td>Electronics Stores</td>\n",
              "      <td>False</td>\n",
              "    </tr>\n",
              "    <tr>\n",
              "      <th>2</th>\n",
              "      <td>E_000023d8f4be44</td>\n",
              "      <td>Island Spa</td>\n",
              "      <td>14.518970</td>\n",
              "      <td>121.018702</td>\n",
              "      <td>5th Flr, Newport Mall, Resorts World Manila</td>\n",
              "      <td>Pasay City</td>\n",
              "      <td>Metro Manila</td>\n",
              "      <td>NaN</td>\n",
              "      <td>PH</td>\n",
              "      <td>NaN</td>\n",
              "      <td>...</td>\n",
              "      <td>121.019827</td>\n",
              "      <td>NaN</td>\n",
              "      <td>NaN</td>\n",
              "      <td>NaN</td>\n",
              "      <td>NaN</td>\n",
              "      <td>PH</td>\n",
              "      <td>NaN</td>\n",
              "      <td>NaN</td>\n",
              "      <td>Spas</td>\n",
              "      <td>True</td>\n",
              "    </tr>\n",
              "    <tr>\n",
              "      <th>3</th>\n",
              "      <td>E_00007dcd2bb53f</td>\n",
              "      <td>TOGO'S Sandwiches</td>\n",
              "      <td>38.257797</td>\n",
              "      <td>-122.064599</td>\n",
              "      <td>1380 Holiday Ln., Ste. B</td>\n",
              "      <td>Fairfield</td>\n",
              "      <td>CA</td>\n",
              "      <td>94534</td>\n",
              "      <td>US</td>\n",
              "      <td>https://locations.togos.com/ll/US/CA/Fairfield...</td>\n",
              "      <td>...</td>\n",
              "      <td>-122.064606</td>\n",
              "      <td>NaN</td>\n",
              "      <td>Fairfield</td>\n",
              "      <td>CA</td>\n",
              "      <td>NaN</td>\n",
              "      <td>US</td>\n",
              "      <td>NaN</td>\n",
              "      <td>NaN</td>\n",
              "      <td>Sandwich Places</td>\n",
              "      <td>True</td>\n",
              "    </tr>\n",
              "    <tr>\n",
              "      <th>4</th>\n",
              "      <td>E_0000c362229d93</td>\n",
              "      <td>Coffee Cat</td>\n",
              "      <td>7.082218</td>\n",
              "      <td>125.610244</td>\n",
              "      <td>F. Torres St.</td>\n",
              "      <td>Davao City</td>\n",
              "      <td>Davao Region</td>\n",
              "      <td>8000</td>\n",
              "      <td>PH</td>\n",
              "      <td>NaN</td>\n",
              "      <td>...</td>\n",
              "      <td>125.611457</td>\n",
              "      <td>E. Jacinto Extension</td>\n",
              "      <td>Davao City</td>\n",
              "      <td>Davao Region</td>\n",
              "      <td>8000</td>\n",
              "      <td>PH</td>\n",
              "      <td>NaN</td>\n",
              "      <td>NaN</td>\n",
              "      <td>Coffee Shops, Cafés, Dessert Shops</td>\n",
              "      <td>False</td>\n",
              "    </tr>\n",
              "  </tbody>\n",
              "</table>\n",
              "<p>5 rows × 25 columns</p>\n",
              "</div>"
            ],
            "text/plain": [
              "               id_1                name_1  latitude_1  longitude_1  \\\n",
              "0  E_000001272c6c5d  Café Stad Oudenaarde   50.859975     3.634196   \n",
              "1  E_000008a8ba4f48              Turkcell   37.844510    27.844202   \n",
              "2  E_000023d8f4be44            Island Spa   14.518970   121.018702   \n",
              "3  E_00007dcd2bb53f     TOGO'S Sandwiches   38.257797  -122.064599   \n",
              "4  E_0000c362229d93            Coffee Cat    7.082218   125.610244   \n",
              "\n",
              "                                     address_1      city_1          state_1  \\\n",
              "0                                  Abdijstraat  Nederename  Oost-Vlaanderen   \n",
              "1                       Adnan Menderes Bulvarı         NaN              NaN   \n",
              "2  5th Flr, Newport Mall, Resorts World Manila  Pasay City     Metro Manila   \n",
              "3                     1380 Holiday Ln., Ste. B   Fairfield               CA   \n",
              "4                                F. Torres St.  Davao City     Davao Region   \n",
              "\n",
              "   zip_1 country_1                                              url_1  ...  \\\n",
              "0   9700        BE                                                NaN  ...   \n",
              "1    NaN        TR                                                NaN  ...   \n",
              "2    NaN        PH                                                NaN  ...   \n",
              "3  94534        US  https://locations.togos.com/ll/US/CA/Fairfield...  ...   \n",
              "4   8000        PH                                                NaN  ...   \n",
              "\n",
              "  longitude_2             address_2      city_2       state_2  zip_2  \\\n",
              "0    3.635206                   NaN         NaN           NaN    NaN   \n",
              "1   27.845560            batı aydın       aydın           NaN  67500   \n",
              "2  121.019827                   NaN         NaN           NaN    NaN   \n",
              "3 -122.064606                   NaN   Fairfield            CA    NaN   \n",
              "4  125.611457  E. Jacinto Extension  Davao City  Davao Region   8000   \n",
              "\n",
              "   country_2 url_2 phone_2                        categories_2  match  \n",
              "0         BE   NaN     NaN                                Bars   True  \n",
              "1         TR   NaN     NaN                  Electronics Stores  False  \n",
              "2         PH   NaN     NaN                                Spas   True  \n",
              "3         US   NaN     NaN                     Sandwich Places   True  \n",
              "4         PH   NaN     NaN  Coffee Shops, Cafés, Dessert Shops  False  \n",
              "\n",
              "[5 rows x 25 columns]"
            ]
          },
          "execution_count": 3,
          "metadata": {},
          "output_type": "execute_result"
        }
      ],
      "source": [
        "pairs.head()"
      ]
    },
    {
      "cell_type": "raw",
      "metadata": {
        "id": "kFdIQ7iagnKy"
      },
      "source": [
        "languages = []\n",
        "for item in pairs['name_1'][0:92]:\n",
        "    if item == pairs['name_1'][92]:\n",
        "        print(item)\n",
        "    languages.append(detect(item))\n",
        "    \n",
        "plt.figure(figsize=(12,8))\n",
        "sns.countplot(x = srcs)"
      ]
    },
    {
      "cell_type": "code",
      "execution_count": null,
      "metadata": {
        "id": "QJMYK5X9gnKz",
        "outputId": "f09e94a5-51f0-4e91-f00e-185b3a0ec022"
      },
      "outputs": [
        {
          "name": "stdout",
          "output_type": "stream",
          "text": [
            "<class 'pandas.core.frame.DataFrame'>\n",
            "RangeIndex: 578907 entries, 0 to 578906\n",
            "Data columns (total 25 columns):\n",
            " #   Column        Non-Null Count   Dtype  \n",
            "---  ------        --------------   -----  \n",
            " 0   id_1          578907 non-null  object \n",
            " 1   name_1        578907 non-null  object \n",
            " 2   latitude_1    578907 non-null  float64\n",
            " 3   longitude_1   578907 non-null  float64\n",
            " 4   address_1     475383 non-null  object \n",
            " 5   city_1        512928 non-null  object \n",
            " 6   state_1       452316 non-null  object \n",
            " 7   zip_1         359509 non-null  object \n",
            " 8   country_1     578899 non-null  object \n",
            " 9   url_1         231806 non-null  object \n",
            " 10  phone_1       270022 non-null  object \n",
            " 11  categories_1  562613 non-null  object \n",
            " 12  id_2          578907 non-null  object \n",
            " 13  name_2        578907 non-null  object \n",
            " 14  latitude_2    578907 non-null  float64\n",
            " 15  longitude_2   578907 non-null  float64\n",
            " 16  address_2     312497 non-null  object \n",
            " 17  city_2        367490 non-null  object \n",
            " 18  state_2       309689 non-null  object \n",
            " 19  zip_2         224827 non-null  object \n",
            " 20  country_2     578901 non-null  object \n",
            " 21  url_2         84850 non-null   object \n",
            " 22  phone_2       118963 non-null  object \n",
            " 23  categories_2  502931 non-null  object \n",
            " 24  match         578907 non-null  bool   \n",
            "dtypes: bool(1), float64(4), object(20)\n",
            "memory usage: 106.6+ MB\n"
          ]
        }
      ],
      "source": [
        "pairs.info()"
      ]
    },
    {
      "cell_type": "code",
      "execution_count": null,
      "metadata": {
        "id": "_iT90UfngnKz",
        "outputId": "7378a032-ebe6-465f-c263-a272aac3a3f2"
      },
      "outputs": [
        {
          "data": {
            "text/html": [
              "<div>\n",
              "<style scoped>\n",
              "    .dataframe tbody tr th:only-of-type {\n",
              "        vertical-align: middle;\n",
              "    }\n",
              "\n",
              "    .dataframe tbody tr th {\n",
              "        vertical-align: top;\n",
              "    }\n",
              "\n",
              "    .dataframe thead th {\n",
              "        text-align: right;\n",
              "    }\n",
              "</style>\n",
              "<table border=\"1\" class=\"dataframe\">\n",
              "  <thead>\n",
              "    <tr style=\"text-align: right;\">\n",
              "      <th></th>\n",
              "      <th>latitude_1</th>\n",
              "      <th>longitude_1</th>\n",
              "      <th>latitude_2</th>\n",
              "      <th>longitude_2</th>\n",
              "    </tr>\n",
              "  </thead>\n",
              "  <tbody>\n",
              "    <tr>\n",
              "      <th>count</th>\n",
              "      <td>578907.000000</td>\n",
              "      <td>578907.000000</td>\n",
              "      <td>578907.000000</td>\n",
              "      <td>578907.000000</td>\n",
              "    </tr>\n",
              "    <tr>\n",
              "      <th>mean</th>\n",
              "      <td>26.104358</td>\n",
              "      <td>24.759940</td>\n",
              "      <td>26.092840</td>\n",
              "      <td>24.785947</td>\n",
              "    </tr>\n",
              "    <tr>\n",
              "      <th>std</th>\n",
              "      <td>23.210853</td>\n",
              "      <td>82.244791</td>\n",
              "      <td>23.213278</td>\n",
              "      <td>82.250231</td>\n",
              "    </tr>\n",
              "    <tr>\n",
              "      <th>min</th>\n",
              "      <td>-80.857570</td>\n",
              "      <td>-175.141634</td>\n",
              "      <td>-84.927740</td>\n",
              "      <td>-175.160248</td>\n",
              "    </tr>\n",
              "    <tr>\n",
              "      <th>25%</th>\n",
              "      <td>6.032218</td>\n",
              "      <td>-61.467652</td>\n",
              "      <td>5.987273</td>\n",
              "      <td>-61.462669</td>\n",
              "    </tr>\n",
              "    <tr>\n",
              "      <th>50%</th>\n",
              "      <td>35.623278</td>\n",
              "      <td>30.214258</td>\n",
              "      <td>35.618854</td>\n",
              "      <td>30.220696</td>\n",
              "    </tr>\n",
              "    <tr>\n",
              "      <th>75%</th>\n",
              "      <td>41.290456</td>\n",
              "      <td>103.844485</td>\n",
              "      <td>41.285191</td>\n",
              "      <td>103.845012</td>\n",
              "    </tr>\n",
              "    <tr>\n",
              "      <th>max</th>\n",
              "      <td>84.928321</td>\n",
              "      <td>178.437698</td>\n",
              "      <td>85.051128</td>\n",
              "      <td>178.440386</td>\n",
              "    </tr>\n",
              "  </tbody>\n",
              "</table>\n",
              "</div>"
            ],
            "text/plain": [
              "          latitude_1    longitude_1     latitude_2    longitude_2\n",
              "count  578907.000000  578907.000000  578907.000000  578907.000000\n",
              "mean       26.104358      24.759940      26.092840      24.785947\n",
              "std        23.210853      82.244791      23.213278      82.250231\n",
              "min       -80.857570    -175.141634     -84.927740    -175.160248\n",
              "25%         6.032218     -61.467652       5.987273     -61.462669\n",
              "50%        35.623278      30.214258      35.618854      30.220696\n",
              "75%        41.290456     103.844485      41.285191     103.845012\n",
              "max        84.928321     178.437698      85.051128     178.440386"
            ]
          },
          "execution_count": 6,
          "metadata": {},
          "output_type": "execute_result"
        }
      ],
      "source": [
        "pairs.describe()"
      ]
    },
    {
      "cell_type": "markdown",
      "metadata": {
        "id": "bKpkuq7SgnKz"
      },
      "source": [
        "## Filling NAs and  Making Combined Full Addresses"
      ]
    },
    {
      "cell_type": "code",
      "execution_count": null,
      "metadata": {
        "id": "9ePvivpYgnKz"
      },
      "outputs": [],
      "source": [
        "pairs['categories_1'] = pairs['categories_1'].fillna('')\n",
        "pairs['categories_2'] = pairs['categories_2'].fillna('')\n",
        "pairs['full_address_1'] = pairs['address_1'].fillna('') + ' ' + pairs['city_1'].fillna('') + ' ' + pairs['state_1'].fillna('') + ' ' + pairs['zip_1'].fillna('')  + ' ' + pairs['country_1'].fillna('')"
      ]
    },
    {
      "cell_type": "code",
      "execution_count": null,
      "metadata": {
        "id": "ox5E_4ODgnKz"
      },
      "outputs": [],
      "source": [
        "pairs['full_address_1'] = pairs['address_1'].fillna('') + ' ' + pairs['city_1'].fillna('') + ' ' + pairs['state_1'].fillna('') + ' ' + pairs['zip_1'].fillna('')  + ' ' + pairs['country_1'].fillna('')\n",
        "pairs['full_address_2'] = pairs['address_2'].fillna('') + ' ' + pairs['city_2'].fillna('') + ' ' + pairs['state_2'].fillna('') + ' ' + pairs['zip_2'].fillna('')  + ' ' + pairs['country_2'].fillna('')"
      ]
    },
    {
      "cell_type": "markdown",
      "metadata": {
        "id": "aBpRCk_0gnK0"
      },
      "source": [
        "## Reducing to only columns that seems useful. (mostly based on shear amount of nans)"
      ]
    },
    {
      "cell_type": "code",
      "execution_count": null,
      "metadata": {
        "id": "eFhGQwlzgnK0"
      },
      "outputs": [],
      "source": [
        "column_list = ['id_1','name_1', 'latitude_1', 'longitude_1', 'country_1', 'full_address_1', 'categories_1', 'id_2','name_2', 'latitude_2', 'longitude_2', 'country_2', 'full_address_2', 'categories_2', 'match']"
      ]
    },
    {
      "cell_type": "code",
      "execution_count": null,
      "metadata": {
        "id": "gCgqbzU6gnK0"
      },
      "outputs": [],
      "source": [
        "pairs_reduced = pairs[column_list]"
      ]
    },
    {
      "cell_type": "code",
      "execution_count": null,
      "metadata": {
        "id": "G6hL_waVgnK0",
        "outputId": "01eafda8-84a6-4ad3-8fb1-d99b99a0fa2b"
      },
      "outputs": [
        {
          "data": {
            "text/html": [
              "<div>\n",
              "<style scoped>\n",
              "    .dataframe tbody tr th:only-of-type {\n",
              "        vertical-align: middle;\n",
              "    }\n",
              "\n",
              "    .dataframe tbody tr th {\n",
              "        vertical-align: top;\n",
              "    }\n",
              "\n",
              "    .dataframe thead th {\n",
              "        text-align: right;\n",
              "    }\n",
              "</style>\n",
              "<table border=\"1\" class=\"dataframe\">\n",
              "  <thead>\n",
              "    <tr style=\"text-align: right;\">\n",
              "      <th></th>\n",
              "      <th>id_1</th>\n",
              "      <th>name_1</th>\n",
              "      <th>latitude_1</th>\n",
              "      <th>longitude_1</th>\n",
              "      <th>country_1</th>\n",
              "      <th>full_address_1</th>\n",
              "      <th>categories_1</th>\n",
              "      <th>id_2</th>\n",
              "      <th>name_2</th>\n",
              "      <th>latitude_2</th>\n",
              "      <th>longitude_2</th>\n",
              "      <th>country_2</th>\n",
              "      <th>full_address_2</th>\n",
              "      <th>categories_2</th>\n",
              "      <th>match</th>\n",
              "    </tr>\n",
              "  </thead>\n",
              "  <tbody>\n",
              "    <tr>\n",
              "      <th>0</th>\n",
              "      <td>E_000001272c6c5d</td>\n",
              "      <td>Café Stad Oudenaarde</td>\n",
              "      <td>50.859975</td>\n",
              "      <td>3.634196</td>\n",
              "      <td>BE</td>\n",
              "      <td>Abdijstraat Nederename Oost-Vlaanderen 9700 BE</td>\n",
              "      <td>Bars</td>\n",
              "      <td>E_da7fa3963561f8</td>\n",
              "      <td>Café Oudenaarde</td>\n",
              "      <td>50.869358</td>\n",
              "      <td>3.635206</td>\n",
              "      <td>BE</td>\n",
              "      <td>BE</td>\n",
              "      <td>Bars</td>\n",
              "      <td>True</td>\n",
              "    </tr>\n",
              "    <tr>\n",
              "      <th>1</th>\n",
              "      <td>E_000008a8ba4f48</td>\n",
              "      <td>Turkcell</td>\n",
              "      <td>37.844510</td>\n",
              "      <td>27.844202</td>\n",
              "      <td>TR</td>\n",
              "      <td>Adnan Menderes Bulvarı    TR</td>\n",
              "      <td>Mobile Phone Shops</td>\n",
              "      <td>E_3f12df0b045062</td>\n",
              "      <td>Turkcell</td>\n",
              "      <td>37.838020</td>\n",
              "      <td>27.845560</td>\n",
              "      <td>TR</td>\n",
              "      <td>batı aydın aydın  67500 TR</td>\n",
              "      <td>Electronics Stores</td>\n",
              "      <td>False</td>\n",
              "    </tr>\n",
              "    <tr>\n",
              "      <th>2</th>\n",
              "      <td>E_000023d8f4be44</td>\n",
              "      <td>Island Spa</td>\n",
              "      <td>14.518970</td>\n",
              "      <td>121.018702</td>\n",
              "      <td>PH</td>\n",
              "      <td>5th Flr, Newport Mall, Resorts World Manila Pa...</td>\n",
              "      <td>Spas</td>\n",
              "      <td>E_12453effe251db</td>\n",
              "      <td>Island Spa Theater</td>\n",
              "      <td>14.518330</td>\n",
              "      <td>121.019827</td>\n",
              "      <td>PH</td>\n",
              "      <td>PH</td>\n",
              "      <td>Spas</td>\n",
              "      <td>True</td>\n",
              "    </tr>\n",
              "    <tr>\n",
              "      <th>3</th>\n",
              "      <td>E_00007dcd2bb53f</td>\n",
              "      <td>TOGO'S Sandwiches</td>\n",
              "      <td>38.257797</td>\n",
              "      <td>-122.064599</td>\n",
              "      <td>US</td>\n",
              "      <td>1380 Holiday Ln., Ste. B Fairfield CA 94534 US</td>\n",
              "      <td>Sandwich Places</td>\n",
              "      <td>E_f131dcb7f07be9</td>\n",
              "      <td>Togo's</td>\n",
              "      <td>38.257938</td>\n",
              "      <td>-122.064606</td>\n",
              "      <td>US</td>\n",
              "      <td>Fairfield CA  US</td>\n",
              "      <td>Sandwich Places</td>\n",
              "      <td>True</td>\n",
              "    </tr>\n",
              "    <tr>\n",
              "      <th>4</th>\n",
              "      <td>E_0000c362229d93</td>\n",
              "      <td>Coffee Cat</td>\n",
              "      <td>7.082218</td>\n",
              "      <td>125.610244</td>\n",
              "      <td>PH</td>\n",
              "      <td>F. Torres St. Davao City Davao Region 8000 PH</td>\n",
              "      <td>Cafés, Coffee Shops</td>\n",
              "      <td>E_d52c3c4d53831c</td>\n",
              "      <td>Coffeecat</td>\n",
              "      <td>7.076016</td>\n",
              "      <td>125.611457</td>\n",
              "      <td>PH</td>\n",
              "      <td>E. Jacinto Extension Davao City Davao Region 8...</td>\n",
              "      <td>Coffee Shops, Cafés, Dessert Shops</td>\n",
              "      <td>False</td>\n",
              "    </tr>\n",
              "  </tbody>\n",
              "</table>\n",
              "</div>"
            ],
            "text/plain": [
              "               id_1                name_1  latitude_1  longitude_1 country_1  \\\n",
              "0  E_000001272c6c5d  Café Stad Oudenaarde   50.859975     3.634196        BE   \n",
              "1  E_000008a8ba4f48              Turkcell   37.844510    27.844202        TR   \n",
              "2  E_000023d8f4be44            Island Spa   14.518970   121.018702        PH   \n",
              "3  E_00007dcd2bb53f     TOGO'S Sandwiches   38.257797  -122.064599        US   \n",
              "4  E_0000c362229d93            Coffee Cat    7.082218   125.610244        PH   \n",
              "\n",
              "                                      full_address_1         categories_1  \\\n",
              "0     Abdijstraat Nederename Oost-Vlaanderen 9700 BE                 Bars   \n",
              "1                       Adnan Menderes Bulvarı    TR   Mobile Phone Shops   \n",
              "2  5th Flr, Newport Mall, Resorts World Manila Pa...                 Spas   \n",
              "3     1380 Holiday Ln., Ste. B Fairfield CA 94534 US      Sandwich Places   \n",
              "4      F. Torres St. Davao City Davao Region 8000 PH  Cafés, Coffee Shops   \n",
              "\n",
              "               id_2              name_2  latitude_2  longitude_2 country_2  \\\n",
              "0  E_da7fa3963561f8     Café Oudenaarde   50.869358     3.635206        BE   \n",
              "1  E_3f12df0b045062            Turkcell   37.838020    27.845560        TR   \n",
              "2  E_12453effe251db  Island Spa Theater   14.518330   121.019827        PH   \n",
              "3  E_f131dcb7f07be9              Togo's   38.257938  -122.064606        US   \n",
              "4  E_d52c3c4d53831c           Coffeecat    7.076016   125.611457        PH   \n",
              "\n",
              "                                      full_address_2  \\\n",
              "0                                                 BE   \n",
              "1                         batı aydın aydın  67500 TR   \n",
              "2                                                 PH   \n",
              "3                                   Fairfield CA  US   \n",
              "4  E. Jacinto Extension Davao City Davao Region 8...   \n",
              "\n",
              "                         categories_2  match  \n",
              "0                                Bars   True  \n",
              "1                  Electronics Stores  False  \n",
              "2                                Spas   True  \n",
              "3                     Sandwich Places   True  \n",
              "4  Coffee Shops, Cafés, Dessert Shops  False  "
            ]
          },
          "execution_count": 43,
          "metadata": {},
          "output_type": "execute_result"
        }
      ],
      "source": [
        "pairs_reduced.head()"
      ]
    },
    {
      "cell_type": "code",
      "execution_count": null,
      "metadata": {
        "id": "rz5DOEQcgnK0",
        "outputId": "a2a105e8-7763-42d3-cf32-8e9493859624"
      },
      "outputs": [
        {
          "name": "stdout",
          "output_type": "stream",
          "text": [
            "<class 'pandas.core.frame.DataFrame'>\n",
            "RangeIndex: 578907 entries, 0 to 578906\n",
            "Data columns (total 15 columns):\n",
            " #   Column          Non-Null Count   Dtype  \n",
            "---  ------          --------------   -----  \n",
            " 0   id_1            578907 non-null  object \n",
            " 1   name_1          578907 non-null  object \n",
            " 2   latitude_1      578907 non-null  float64\n",
            " 3   longitude_1     578907 non-null  float64\n",
            " 4   country_1       578899 non-null  object \n",
            " 5   full_address_1  578907 non-null  object \n",
            " 6   categories_1    562613 non-null  object \n",
            " 7   id_2            578907 non-null  object \n",
            " 8   name_2          578907 non-null  object \n",
            " 9   latitude_2      578907 non-null  float64\n",
            " 10  longitude_2     578907 non-null  float64\n",
            " 11  country_2       578901 non-null  object \n",
            " 12  full_address_2  578907 non-null  object \n",
            " 13  categories_2    502931 non-null  object \n",
            " 14  match           578907 non-null  bool   \n",
            "dtypes: bool(1), float64(4), object(10)\n",
            "memory usage: 62.4+ MB\n"
          ]
        }
      ],
      "source": [
        "pairs_reduced.info()"
      ]
    },
    {
      "cell_type": "markdown",
      "metadata": {
        "id": "85tcLao6gnK0"
      },
      "source": [
        "## Calculating angular difference"
      ]
    },
    {
      "cell_type": "code",
      "execution_count": null,
      "metadata": {
        "id": "nmQtuP_ZgnK0"
      },
      "outputs": [],
      "source": [
        "# pairs_reduced['theta_diff'] = np.arccos(np.sin(np.radians(pairs_reduced['latitude_1']))*np.sin(np.radians(pairs_reduced['latitude_2']))+\n",
        "#                                        np.cos(np.radians(pairs_reduced['latitude_1']))*np.cos(np.radians(pairs_reduced['latitude_2']))*\n",
        "#                                         np.cos(np.radians(pairs_reduced['longitude_1']-pairs_reduced['longitude_2']))\n",
        "#                                        )"
      ]
    },
    {
      "cell_type": "code",
      "execution_count": null,
      "metadata": {
        "id": "wBHeObdFgnK1",
        "outputId": "182e6437-218e-40aa-b575-9f1a75b171c1"
      },
      "outputs": [
        {
          "name": "stderr",
          "output_type": "stream",
          "text": [
            "<ipython-input-46-4562924af0b8>:1: SettingWithCopyWarning: \n",
            "A value is trying to be set on a copy of a slice from a DataFrame.\n",
            "Try using .loc[row_indexer,col_indexer] = value instead\n",
            "\n",
            "See the caveats in the documentation: https://pandas.pydata.org/pandas-docs/stable/user_guide/indexing.html#returning-a-view-versus-a-copy\n",
            "  pairs_reduced['theta_diff'] = np.abs(np.arctan(np.sqrt(\n"
          ]
        }
      ],
      "source": [
        "pairs_reduced['theta_diff'] = np.abs(np.arctan(np.sqrt(\n",
        "    (np.cos(np.radians(pairs_reduced['latitude_2']))*np.sin(np.radians(pairs_reduced['longitude_1']-pairs_reduced['longitude_2'])))**2 +\n",
        "        (np.cos(np.radians(pairs_reduced['latitude_1']))*np.sin(np.radians(pairs_reduced['latitude_2']))-\n",
        "            np.sin(np.radians(pairs_reduced['latitude_1']))*np.cos(np.radians(pairs_reduced['latitude_2']))*np.cos(np.radians(pairs_reduced['longitude_1']-pairs_reduced['longitude_2'])))**2\n",
        "                                                )/\n",
        "    (np.sin(np.radians(pairs_reduced['latitude_1']))*np.sin(np.radians(pairs_reduced['latitude_2']))+\n",
        "        np.cos(np.radians(pairs_reduced['latitude_1']))*np.cos(np.radians(pairs_reduced['latitude_2']))*np.cos(np.radians(pairs_reduced['longitude_1']-pairs_reduced['longitude_2']))\n",
        "    )\n",
        "                                               )\n",
        "                                      )"
      ]
    },
    {
      "cell_type": "code",
      "execution_count": null,
      "metadata": {
        "id": "BY10gbbCgnK1"
      },
      "outputs": [],
      "source": [
        "# pairs_reduced['theta_diff'] = np.sqrt((np.radians(pairs_reduced['longitude_1'])-np.radians(pairs_reduced['longitude_2'])*np.cos(np.radians(pairs_reduced['latitude_1'])))**2 +\n",
        "#         (np.radians(pairs_reduced['latitude_1'])-np.radians(pairs_reduced['latitude_2']))**2\n",
        "#        )"
      ]
    },
    {
      "cell_type": "code",
      "execution_count": null,
      "metadata": {
        "id": "RhnKhEJ-gnK1"
      },
      "outputs": [],
      "source": [
        "# pairs_reduced['theta_diff'] = (np.radians(pairs_reduced['longitude_1'])-np.radians(pairs_reduced['longitude_2']))**2 + (np.radians(pairs_reduced['latitude_1'])-np.radians(pairs_reduced['latitude_2']))**2"
      ]
    },
    {
      "cell_type": "code",
      "execution_count": null,
      "metadata": {
        "id": "7saRNmQlgnK1",
        "outputId": "b0476c16-6934-42c3-b679-16897cd53266"
      },
      "outputs": [
        {
          "data": {
            "text/html": [
              "<div>\n",
              "<style scoped>\n",
              "    .dataframe tbody tr th:only-of-type {\n",
              "        vertical-align: middle;\n",
              "    }\n",
              "\n",
              "    .dataframe tbody tr th {\n",
              "        vertical-align: top;\n",
              "    }\n",
              "\n",
              "    .dataframe thead th {\n",
              "        text-align: right;\n",
              "    }\n",
              "</style>\n",
              "<table border=\"1\" class=\"dataframe\">\n",
              "  <thead>\n",
              "    <tr style=\"text-align: right;\">\n",
              "      <th></th>\n",
              "      <th>id_1</th>\n",
              "      <th>name_1</th>\n",
              "      <th>latitude_1</th>\n",
              "      <th>longitude_1</th>\n",
              "      <th>country_1</th>\n",
              "      <th>full_address_1</th>\n",
              "      <th>categories_1</th>\n",
              "      <th>id_2</th>\n",
              "      <th>name_2</th>\n",
              "      <th>latitude_2</th>\n",
              "      <th>longitude_2</th>\n",
              "      <th>country_2</th>\n",
              "      <th>full_address_2</th>\n",
              "      <th>categories_2</th>\n",
              "      <th>match</th>\n",
              "      <th>theta_diff</th>\n",
              "    </tr>\n",
              "  </thead>\n",
              "  <tbody>\n",
              "  </tbody>\n",
              "</table>\n",
              "</div>"
            ],
            "text/plain": [
              "Empty DataFrame\n",
              "Columns: [id_1, name_1, latitude_1, longitude_1, country_1, full_address_1, categories_1, id_2, name_2, latitude_2, longitude_2, country_2, full_address_2, categories_2, match, theta_diff]\n",
              "Index: []"
            ]
          },
          "execution_count": 49,
          "metadata": {},
          "output_type": "execute_result"
        }
      ],
      "source": [
        "pairs_reduced[pairs_reduced['theta_diff'].isna()]"
      ]
    },
    {
      "cell_type": "markdown",
      "metadata": {
        "id": "E9h7f09egnK1"
      },
      "source": [
        "## Reducing to only US data"
      ]
    },
    {
      "cell_type": "code",
      "execution_count": null,
      "metadata": {
        "id": "37Dn6BK_gnK1",
        "outputId": "5edcf117-b39a-4328-f93c-ed970e4dda8e"
      },
      "outputs": [
        {
          "data": {
            "text/plain": [
              "117793"
            ]
          },
          "execution_count": 50,
          "metadata": {},
          "output_type": "execute_result"
        }
      ],
      "source": [
        "len(pairs_reduced[(pairs_reduced['country_1'] == 'US') & (pairs_reduced['country_1'] == 'US')])"
      ]
    },
    {
      "cell_type": "markdown",
      "metadata": {
        "id": "YcKYmKQCgnK2"
      },
      "source": [
        "Dropping no longer needed columns"
      ]
    },
    {
      "cell_type": "code",
      "execution_count": null,
      "metadata": {
        "id": "q6mfCDP9gnK2"
      },
      "outputs": [],
      "source": [
        "pairs_red_us = pairs_reduced[(pairs_reduced['country_1'] == 'US') & (pairs_reduced['country_1'] == 'US')]"
      ]
    },
    {
      "cell_type": "code",
      "execution_count": null,
      "metadata": {
        "id": "TMhfNK-pgnK2"
      },
      "outputs": [],
      "source": [
        "pairs_red_us = pairs_red_us.drop(['country_1','country_2', 'latitude_1', 'longitude_1', 'latitude_2', 'longitude_2'], axis = 1)"
      ]
    },
    {
      "cell_type": "code",
      "execution_count": null,
      "metadata": {
        "id": "fXUBwDl2gnK2",
        "outputId": "d55feeb3-5f1d-495d-cbe6-3a9e6a5478b2"
      },
      "outputs": [
        {
          "data": {
            "text/html": [
              "<div>\n",
              "<style scoped>\n",
              "    .dataframe tbody tr th:only-of-type {\n",
              "        vertical-align: middle;\n",
              "    }\n",
              "\n",
              "    .dataframe tbody tr th {\n",
              "        vertical-align: top;\n",
              "    }\n",
              "\n",
              "    .dataframe thead th {\n",
              "        text-align: right;\n",
              "    }\n",
              "</style>\n",
              "<table border=\"1\" class=\"dataframe\">\n",
              "  <thead>\n",
              "    <tr style=\"text-align: right;\">\n",
              "      <th></th>\n",
              "      <th>id_1</th>\n",
              "      <th>name_1</th>\n",
              "      <th>full_address_1</th>\n",
              "      <th>categories_1</th>\n",
              "      <th>id_2</th>\n",
              "      <th>name_2</th>\n",
              "      <th>full_address_2</th>\n",
              "      <th>categories_2</th>\n",
              "      <th>match</th>\n",
              "      <th>theta_diff</th>\n",
              "    </tr>\n",
              "  </thead>\n",
              "  <tbody>\n",
              "    <tr>\n",
              "      <th>3</th>\n",
              "      <td>E_00007dcd2bb53f</td>\n",
              "      <td>TOGO'S Sandwiches</td>\n",
              "      <td>1380 Holiday Ln., Ste. B Fairfield CA 94534 US</td>\n",
              "      <td>Sandwich Places</td>\n",
              "      <td>E_f131dcb7f07be9</td>\n",
              "      <td>Togo's</td>\n",
              "      <td>Fairfield CA  US</td>\n",
              "      <td>Sandwich Places</td>\n",
              "      <td>True</td>\n",
              "      <td>0.000002</td>\n",
              "    </tr>\n",
              "    <tr>\n",
              "      <th>6</th>\n",
              "      <td>E_0000d9e584ed9f</td>\n",
              "      <td>Signature Properties Savannah</td>\n",
              "      <td>100 Commercial Ct Ste C Savannah GA 31406 US</td>\n",
              "      <td>Real Estate Offices</td>\n",
              "      <td>E_caad79f6ed7c44</td>\n",
              "      <td>Signature Properties Savannah</td>\n",
              "      <td>7014 Abercorn St Savannah GA 31406 US</td>\n",
              "      <td>NaN</td>\n",
              "      <td>True</td>\n",
              "      <td>0.000082</td>\n",
              "    </tr>\n",
              "    <tr>\n",
              "      <th>7</th>\n",
              "      <td>E_00011cca3f0bd6</td>\n",
              "      <td>Inner Workings</td>\n",
              "      <td>Serving General Area Santa Fe NM 87501 US</td>\n",
              "      <td>Massage Studios</td>\n",
              "      <td>E_aeffddf31a4b9e</td>\n",
              "      <td>Inner Workings</td>\n",
              "      <td>Serving General Area Santa Fe NM 87501 US</td>\n",
              "      <td>Massage Studios</td>\n",
              "      <td>True</td>\n",
              "      <td>0.000019</td>\n",
              "    </tr>\n",
              "    <tr>\n",
              "      <th>8</th>\n",
              "      <td>E_00015cd7e0227f</td>\n",
              "      <td>Lake Destiny</td>\n",
              "      <td>Maitland FL 32751 US</td>\n",
              "      <td>Lakes</td>\n",
              "      <td>E_7250ab441d9d42</td>\n",
              "      <td>Lake destiny field</td>\n",
              "      <td>Maitland FL 32751 US</td>\n",
              "      <td>Soccer Fields</td>\n",
              "      <td>False</td>\n",
              "      <td>0.000253</td>\n",
              "    </tr>\n",
              "    <tr>\n",
              "      <th>11</th>\n",
              "      <td>E_0001a397f67ad5</td>\n",
              "      <td>Dale City Truck-Only Safety Rest Area North</td>\n",
              "      <td>Interstate 95 North Montclair VA 22026 US</td>\n",
              "      <td>Rest Areas</td>\n",
              "      <td>E_4b83e498f06eff</td>\n",
              "      <td>I-95 Exit 152 Truck Stop</td>\n",
              "      <td>Dumfries VA 22026 US</td>\n",
              "      <td>Rest Areas</td>\n",
              "      <td>True</td>\n",
              "      <td>0.000119</td>\n",
              "    </tr>\n",
              "  </tbody>\n",
              "</table>\n",
              "</div>"
            ],
            "text/plain": [
              "                id_1                                       name_1  \\\n",
              "3   E_00007dcd2bb53f                            TOGO'S Sandwiches   \n",
              "6   E_0000d9e584ed9f                Signature Properties Savannah   \n",
              "7   E_00011cca3f0bd6                               Inner Workings   \n",
              "8   E_00015cd7e0227f                                 Lake Destiny   \n",
              "11  E_0001a397f67ad5  Dale City Truck-Only Safety Rest Area North   \n",
              "\n",
              "                                    full_address_1         categories_1  \\\n",
              "3   1380 Holiday Ln., Ste. B Fairfield CA 94534 US      Sandwich Places   \n",
              "6     100 Commercial Ct Ste C Savannah GA 31406 US  Real Estate Offices   \n",
              "7        Serving General Area Santa Fe NM 87501 US      Massage Studios   \n",
              "8                             Maitland FL 32751 US                Lakes   \n",
              "11       Interstate 95 North Montclair VA 22026 US           Rest Areas   \n",
              "\n",
              "                id_2                         name_2  \\\n",
              "3   E_f131dcb7f07be9                         Togo's   \n",
              "6   E_caad79f6ed7c44  Signature Properties Savannah   \n",
              "7   E_aeffddf31a4b9e                 Inner Workings   \n",
              "8   E_7250ab441d9d42             Lake destiny field   \n",
              "11  E_4b83e498f06eff       I-95 Exit 152 Truck Stop   \n",
              "\n",
              "                               full_address_2     categories_2  match  \\\n",
              "3                            Fairfield CA  US  Sandwich Places   True   \n",
              "6       7014 Abercorn St Savannah GA 31406 US              NaN   True   \n",
              "7   Serving General Area Santa Fe NM 87501 US  Massage Studios   True   \n",
              "8                        Maitland FL 32751 US    Soccer Fields  False   \n",
              "11                       Dumfries VA 22026 US       Rest Areas   True   \n",
              "\n",
              "    theta_diff  \n",
              "3     0.000002  \n",
              "6     0.000082  \n",
              "7     0.000019  \n",
              "8     0.000253  \n",
              "11    0.000119  "
            ]
          },
          "execution_count": 53,
          "metadata": {},
          "output_type": "execute_result"
        }
      ],
      "source": [
        "pairs_red_us.head()"
      ]
    },
    {
      "cell_type": "markdown",
      "metadata": {
        "id": "qZsH9vhLgnK2"
      },
      "source": [
        "It's probably in my best interest to lower case all of the strings when doing the string matching aspect"
      ]
    },
    {
      "cell_type": "code",
      "execution_count": null,
      "metadata": {
        "id": "tYrYtxsGgnK2"
      },
      "outputs": [],
      "source": [
        "pairs_red_us['name_1'] = pairs_red_us['name_1'].astype(str)\n",
        "pairs_red_us['name_2'] = pairs_red_us['name_2'].astype(str)\n",
        "pairs_red_us['full_address_1'] = pairs_red_us['full_address_1'].astype(str)\n",
        "pairs_red_us['full_address_2'] = pairs_red_us['full_address_2'].astype(str)\n",
        "pairs_red_us['categories_1'] = pairs_red_us['categories_1'].astype(str)\n",
        "pairs_red_us['categories_2'] = pairs_red_us['categories_2'].astype(str)\n",
        "\n",
        "pairs_red_us['name_1'] = pairs_red_us['name_1'].str.lower()\n",
        "pairs_red_us['full_address_1'] = pairs_red_us['full_address_1'].str.lower()\n",
        "pairs_red_us['categories_1'] = pairs_red_us['categories_1'].str.lower()\n",
        "pairs_red_us['name_2'] = pairs_red_us['name_2'].str.lower()\n",
        "pairs_red_us['full_address_2'] = pairs_red_us['full_address_2'].str.lower()\n",
        "pairs_red_us['categories_2'] = pairs_red_us['categories_2'].str.lower()"
      ]
    },
    {
      "cell_type": "code",
      "execution_count": null,
      "metadata": {
        "id": "5UILYhIJgnK2",
        "outputId": "988fbeef-b03d-4aea-8e80-781528c75867"
      },
      "outputs": [
        {
          "data": {
            "text/html": [
              "<div>\n",
              "<style scoped>\n",
              "    .dataframe tbody tr th:only-of-type {\n",
              "        vertical-align: middle;\n",
              "    }\n",
              "\n",
              "    .dataframe tbody tr th {\n",
              "        vertical-align: top;\n",
              "    }\n",
              "\n",
              "    .dataframe thead th {\n",
              "        text-align: right;\n",
              "    }\n",
              "</style>\n",
              "<table border=\"1\" class=\"dataframe\">\n",
              "  <thead>\n",
              "    <tr style=\"text-align: right;\">\n",
              "      <th></th>\n",
              "      <th>id_1</th>\n",
              "      <th>name_1</th>\n",
              "      <th>full_address_1</th>\n",
              "      <th>categories_1</th>\n",
              "      <th>id_2</th>\n",
              "      <th>name_2</th>\n",
              "      <th>full_address_2</th>\n",
              "      <th>categories_2</th>\n",
              "      <th>match</th>\n",
              "      <th>theta_diff</th>\n",
              "    </tr>\n",
              "  </thead>\n",
              "  <tbody>\n",
              "    <tr>\n",
              "      <th>3</th>\n",
              "      <td>E_00007dcd2bb53f</td>\n",
              "      <td>togo's sandwiches</td>\n",
              "      <td>1380 holiday ln., ste. b fairfield ca 94534 us</td>\n",
              "      <td>sandwich places</td>\n",
              "      <td>E_f131dcb7f07be9</td>\n",
              "      <td>togo's</td>\n",
              "      <td>fairfield ca  us</td>\n",
              "      <td>sandwich places</td>\n",
              "      <td>True</td>\n",
              "      <td>0.000002</td>\n",
              "    </tr>\n",
              "    <tr>\n",
              "      <th>6</th>\n",
              "      <td>E_0000d9e584ed9f</td>\n",
              "      <td>signature properties savannah</td>\n",
              "      <td>100 commercial ct ste c savannah ga 31406 us</td>\n",
              "      <td>real estate offices</td>\n",
              "      <td>E_caad79f6ed7c44</td>\n",
              "      <td>signature properties savannah</td>\n",
              "      <td>7014 abercorn st savannah ga 31406 us</td>\n",
              "      <td></td>\n",
              "      <td>True</td>\n",
              "      <td>0.000082</td>\n",
              "    </tr>\n",
              "    <tr>\n",
              "      <th>7</th>\n",
              "      <td>E_00011cca3f0bd6</td>\n",
              "      <td>inner workings</td>\n",
              "      <td>serving general area santa fe nm 87501 us</td>\n",
              "      <td>massage studios</td>\n",
              "      <td>E_aeffddf31a4b9e</td>\n",
              "      <td>inner workings</td>\n",
              "      <td>serving general area santa fe nm 87501 us</td>\n",
              "      <td>massage studios</td>\n",
              "      <td>True</td>\n",
              "      <td>0.000019</td>\n",
              "    </tr>\n",
              "    <tr>\n",
              "      <th>8</th>\n",
              "      <td>E_00015cd7e0227f</td>\n",
              "      <td>lake destiny</td>\n",
              "      <td>maitland fl 32751 us</td>\n",
              "      <td>lakes</td>\n",
              "      <td>E_7250ab441d9d42</td>\n",
              "      <td>lake destiny field</td>\n",
              "      <td>maitland fl 32751 us</td>\n",
              "      <td>soccer fields</td>\n",
              "      <td>False</td>\n",
              "      <td>0.000253</td>\n",
              "    </tr>\n",
              "    <tr>\n",
              "      <th>11</th>\n",
              "      <td>E_0001a397f67ad5</td>\n",
              "      <td>dale city truck-only safety rest area north</td>\n",
              "      <td>interstate 95 north montclair va 22026 us</td>\n",
              "      <td>rest areas</td>\n",
              "      <td>E_4b83e498f06eff</td>\n",
              "      <td>i-95 exit 152 truck stop</td>\n",
              "      <td>dumfries va 22026 us</td>\n",
              "      <td>rest areas</td>\n",
              "      <td>True</td>\n",
              "      <td>0.000119</td>\n",
              "    </tr>\n",
              "  </tbody>\n",
              "</table>\n",
              "</div>"
            ],
            "text/plain": [
              "                id_1                                       name_1  \\\n",
              "3   E_00007dcd2bb53f                            togo's sandwiches   \n",
              "6   E_0000d9e584ed9f                signature properties savannah   \n",
              "7   E_00011cca3f0bd6                               inner workings   \n",
              "8   E_00015cd7e0227f                                 lake destiny   \n",
              "11  E_0001a397f67ad5  dale city truck-only safety rest area north   \n",
              "\n",
              "                                    full_address_1         categories_1  \\\n",
              "3   1380 holiday ln., ste. b fairfield ca 94534 us      sandwich places   \n",
              "6     100 commercial ct ste c savannah ga 31406 us  real estate offices   \n",
              "7        serving general area santa fe nm 87501 us      massage studios   \n",
              "8                             maitland fl 32751 us                lakes   \n",
              "11       interstate 95 north montclair va 22026 us           rest areas   \n",
              "\n",
              "                id_2                         name_2  \\\n",
              "3   E_f131dcb7f07be9                         togo's   \n",
              "6   E_caad79f6ed7c44  signature properties savannah   \n",
              "7   E_aeffddf31a4b9e                 inner workings   \n",
              "8   E_7250ab441d9d42             lake destiny field   \n",
              "11  E_4b83e498f06eff       i-95 exit 152 truck stop   \n",
              "\n",
              "                               full_address_2     categories_2  match  \\\n",
              "3                            fairfield ca  us  sandwich places   True   \n",
              "6       7014 abercorn st savannah ga 31406 us                    True   \n",
              "7   serving general area santa fe nm 87501 us  massage studios   True   \n",
              "8                        maitland fl 32751 us    soccer fields  False   \n",
              "11                       dumfries va 22026 us       rest areas   True   \n",
              "\n",
              "    theta_diff  \n",
              "3     0.000002  \n",
              "6     0.000082  \n",
              "7     0.000019  \n",
              "8     0.000253  \n",
              "11    0.000119  "
            ]
          },
          "execution_count": 30,
          "metadata": {},
          "output_type": "execute_result"
        }
      ],
      "source": [
        "pairs_red_us.head()"
      ]
    },
    {
      "cell_type": "markdown",
      "metadata": {
        "id": "fCmvFshUgnK2"
      },
      "source": [
        "I tihnk I can drop ids as well"
      ]
    },
    {
      "cell_type": "code",
      "execution_count": null,
      "metadata": {
        "id": "cmwoztG_gnK2"
      },
      "outputs": [],
      "source": [
        "pairs_red_us = pairs_red_us.drop(['id_1', 'id_2'], axis = 1)"
      ]
    },
    {
      "cell_type": "code",
      "execution_count": null,
      "metadata": {
        "id": "_uZZhamRgnK3",
        "outputId": "b499a6e1-96ed-4800-d7c8-5bd45e72c1fb"
      },
      "outputs": [
        {
          "data": {
            "text/plain": [
              "117793"
            ]
          },
          "execution_count": 59,
          "metadata": {},
          "output_type": "execute_result"
        }
      ],
      "source": [
        "len(pairs_red_us['name_1'])"
      ]
    },
    {
      "cell_type": "code",
      "execution_count": null,
      "metadata": {
        "id": "GFRqNSjVgnK3",
        "outputId": "bedb9b53-ad05-4458-be94-a4f6960cd002"
      },
      "outputs": [
        {
          "data": {
            "text/plain": [
              "0"
            ]
          },
          "execution_count": 60,
          "metadata": {},
          "output_type": "execute_result"
        }
      ],
      "source": [
        "len(pairs_red_us['name_1'][pairs_red_us['name_1'].isna()])"
      ]
    },
    {
      "cell_type": "code",
      "execution_count": null,
      "metadata": {
        "collapsed": true,
        "jupyter": {
          "outputs_hidden": true
        },
        "id": "9MhsOS_-gnK3",
        "outputId": "330e9ed6-f8fa-467c-e7e0-fe189a38d208"
      },
      "outputs": [
        {
          "data": {
            "text/plain": [
              "['signature properties savannah',\n",
              " 'inner workings',\n",
              " 'lake destiny',\n",
              " 'dale city truck-only safety rest area north',\n",
              " 'del mar motel',\n",
              " 'trinity united methodist church',\n",
              " 'la quinta inn & suites memphis wolfchase',\n",
              " 'la quinta inn & suites memphis wolfchase',\n",
              " 'apa hotel woodbridge',\n",
              " 'g&m',\n",
              " 'g&m',\n",
              " 'hampton inn & suites',\n",
              " 'the home depot',\n",
              " 'scoots',\n",
              " 'potbelly sandwich shop',\n",
              " 'jibarra',\n",
              " 'seaport village',\n",
              " 'witt ford',\n",
              " 'harbor freight tools',\n",
              " 'local@biztraffic.com',\n",
              " 'walmart neighborhood market',\n",
              " 'la quinta inn & suites jacksonville mandarin',\n",
              " \"nick's liquors\",\n",
              " 'adp alpharetta',\n",
              " 'north terre haute, in',\n",
              " 'gucci男士内裤-一比一原单a货奢侈品他',\n",
              " 'brookville dental associates',\n",
              " 'carmax',\n",
              " 'sun devil marketplace',\n",
              " 'premier relocations',\n",
              " 'zoom tan - tanning salon',\n",
              " 'tecumseh elementary school',\n",
              " 'asha indian restaurant',\n",
              " 'lambo chinese buffet',\n",
              " 'the galley',\n",
              " 'rockledge dental',\n",
              " 'stellar car services',\n",
              " 'panda express',\n",
              " 'mhc truck leasing - atlanta',\n",
              " 'sears auto center',\n",
              " 'jamba juice',\n",
              " 'jamba juice',\n",
              " 'the falls apartments',\n",
              " \"albert paul's salon\",\n",
              " 'kimpton goodland',\n",
              " 'cutting',\n",
              " 'walmart 1300',\n",
              " 'office depot',\n",
              " 'redbox',\n",
              " 'uf/shands nicu',\n",
              " 'radioshack',\n",
              " 'oak haven resort cabin 80',\n",
              " 'lafayette station',\n",
              " 'brant lake',\n",
              " \"lindberg's\",\n",
              " 'the flats at hursbourne',\n",
              " 'villas at beaver creek',\n",
              " 'mrs. cruse room',\n",
              " 'advance auto parts',\n",
              " 'youfit health clubs',\n",
              " 'dw手表图片女士-一比一原单a货奢侈品蓬',\n",
              " 'murchison bell tower',\n",
              " 'amigos/kings classic',\n",
              " 'amigos/kings classic',\n",
              " 'barcelona tapas bar & restaurant',\n",
              " 'kalahari parking lot',\n",
              " 'mercadito midtown',\n",
              " 'concierge cleaners',\n",
              " 'häagen-dazs',\n",
              " 'simply slavic festival 2012',\n",
              " 'mars center for science & technology',\n",
              " 'catoosa county court house',\n",
              " 'the home depot',\n",
              " 'shearwater',\n",
              " 'the ceili house',\n",
              " 'kalahari water park',\n",
              " 'embassy suites by hilton',\n",
              " 'aldo',\n",
              " 'sneden hall - room 313',\n",
              " 'extended stay hotels',\n",
              " 'extended stay hotels',\n",
              " 'subway',\n",
              " 'dickeys barbecue pit',\n",
              " 'academic buiding a210',\n",
              " 'dr lauder',\n",
              " 'wilmerhale',\n",
              " 'seo near me - sites by sara',\n",
              " 'seo near me - sites by sara',\n",
              " 'pier 1 imports',\n",
              " '5 star rental',\n",
              " 'ironmonger brewing',\n",
              " 'wildd wings',\n",
              " 'lafayette dental group',\n",
              " 'jet wine bar',\n",
              " 'tricomb2b',\n",
              " 'henry county airport (7w5)',\n",
              " 'high point smile dentistry',\n",
              " 'red lodge lounge',\n",
              " 'peirce island playground']"
            ]
          },
          "execution_count": 79,
          "metadata": {},
          "output_type": "execute_result"
        }
      ],
      "source": [
        "pairs_red_us['name_1'].tolist()[1:100]"
      ]
    },
    {
      "cell_type": "markdown",
      "metadata": {
        "id": "nMzehKcNgnK3"
      },
      "source": [
        "Now following the article \"Calculating STring Similarity in Python\""
      ]
    },
    {
      "cell_type": "code",
      "execution_count": null,
      "metadata": {
        "id": "crrYGEJMgnK3",
        "outputId": "7fd45597-6a33-49f7-fd79-9374c6f33a17"
      },
      "outputs": [
        {
          "data": {
            "text/plain": [
              "3                                   togo's sandwiches\n",
              "6                       signature properties savannah\n",
              "7                                      inner workings\n",
              "8                                        lake destiny\n",
              "11        dale city truck-only safety rest area north\n",
              "                             ...                     \n",
              "578885                                        talbots\n",
              "578888                                    bank street\n",
              "578890                             signature plumbing\n",
              "578900                                      walgreens\n",
              "578904           cricket wireless authorized retailer\n",
              "Name: name_1, Length: 117793, dtype: object"
            ]
          },
          "execution_count": 33,
          "metadata": {},
          "output_type": "execute_result"
        }
      ],
      "source": [
        "pairs_red_us['name_1']"
      ]
    },
    {
      "cell_type": "code",
      "execution_count": null,
      "metadata": {
        "id": "Qt5Gm2VmgnK3"
      },
      "outputs": [],
      "source": [
        "pairs_red_us['name_1'] = pairs_red_us['name_1'].str.replace('[{}]'.format(string.punctuation),'')\n",
        "pairs_red_us['name_2'] = pairs_red_us['name_2'].str.replace('[{}]'.format(string.punctuation),'')\n",
        "pairs_red_us['full_address_1'] = pairs_red_us['full_address_1'].str.replace('[{}]'.format(string.punctuation),'')\n",
        "pairs_red_us['full_address_2'] = pairs_red_us['full_address_2'].str.replace('[{}]'.format(string.punctuation),'')\n",
        "pairs_red_us['categories_1'] = pairs_red_us['categories_1'].str.replace('[{}]'.format(string.punctuation),'')\n",
        "pairs_red_us['categories_2'] = pairs_red_us['categories_2'].str.replace('[{}]'.format(string.punctuation),'')"
      ]
    },
    {
      "cell_type": "code",
      "execution_count": null,
      "metadata": {
        "id": "Ma19V3RlgnK3",
        "outputId": "00f73648-fba0-4690-c9f4-c39d3091894b"
      },
      "outputs": [
        {
          "data": {
            "text/plain": [
              "'togos sandwiches'"
            ]
          },
          "execution_count": 35,
          "metadata": {},
          "output_type": "execute_result"
        }
      ],
      "source": [
        "pairs_red_us['name_1'].iloc[0]"
      ]
    },
    {
      "cell_type": "code",
      "execution_count": null,
      "metadata": {
        "id": "sVeNRyYtgnK3",
        "outputId": "afab2191-ad0e-43f6-bd76-503d37498240"
      },
      "outputs": [
        {
          "data": {
            "text/html": [
              "<div>\n",
              "<style scoped>\n",
              "    .dataframe tbody tr th:only-of-type {\n",
              "        vertical-align: middle;\n",
              "    }\n",
              "\n",
              "    .dataframe tbody tr th {\n",
              "        vertical-align: top;\n",
              "    }\n",
              "\n",
              "    .dataframe thead th {\n",
              "        text-align: right;\n",
              "    }\n",
              "</style>\n",
              "<table border=\"1\" class=\"dataframe\">\n",
              "  <thead>\n",
              "    <tr style=\"text-align: right;\">\n",
              "      <th></th>\n",
              "      <th>name_1</th>\n",
              "      <th>full_address_1</th>\n",
              "      <th>categories_1</th>\n",
              "      <th>name_2</th>\n",
              "      <th>full_address_2</th>\n",
              "      <th>categories_2</th>\n",
              "      <th>match</th>\n",
              "      <th>theta_diff</th>\n",
              "    </tr>\n",
              "  </thead>\n",
              "  <tbody>\n",
              "    <tr>\n",
              "      <th>3</th>\n",
              "      <td>togos sandwiches</td>\n",
              "      <td>1380 holiday ln ste b fairfield ca 94534 us</td>\n",
              "      <td>sandwich places</td>\n",
              "      <td>togos</td>\n",
              "      <td>fairfield ca  us</td>\n",
              "      <td>sandwich places</td>\n",
              "      <td>True</td>\n",
              "      <td>0.000002</td>\n",
              "    </tr>\n",
              "    <tr>\n",
              "      <th>6</th>\n",
              "      <td>signature properties savannah</td>\n",
              "      <td>100 commercial ct ste c savannah ga 31406 us</td>\n",
              "      <td>real estate offices</td>\n",
              "      <td>signature properties savannah</td>\n",
              "      <td>7014 abercorn st savannah ga 31406 us</td>\n",
              "      <td></td>\n",
              "      <td>True</td>\n",
              "      <td>0.000082</td>\n",
              "    </tr>\n",
              "    <tr>\n",
              "      <th>7</th>\n",
              "      <td>inner workings</td>\n",
              "      <td>serving general area santa fe nm 87501 us</td>\n",
              "      <td>massage studios</td>\n",
              "      <td>inner workings</td>\n",
              "      <td>serving general area santa fe nm 87501 us</td>\n",
              "      <td>massage studios</td>\n",
              "      <td>True</td>\n",
              "      <td>0.000019</td>\n",
              "    </tr>\n",
              "    <tr>\n",
              "      <th>8</th>\n",
              "      <td>lake destiny</td>\n",
              "      <td>maitland fl 32751 us</td>\n",
              "      <td>lakes</td>\n",
              "      <td>lake destiny field</td>\n",
              "      <td>maitland fl 32751 us</td>\n",
              "      <td>soccer fields</td>\n",
              "      <td>False</td>\n",
              "      <td>0.000253</td>\n",
              "    </tr>\n",
              "    <tr>\n",
              "      <th>11</th>\n",
              "      <td>dale city truckonly safety rest area north</td>\n",
              "      <td>interstate 95 north montclair va 22026 us</td>\n",
              "      <td>rest areas</td>\n",
              "      <td>i95 exit 152 truck stop</td>\n",
              "      <td>dumfries va 22026 us</td>\n",
              "      <td>rest areas</td>\n",
              "      <td>True</td>\n",
              "      <td>0.000119</td>\n",
              "    </tr>\n",
              "  </tbody>\n",
              "</table>\n",
              "</div>"
            ],
            "text/plain": [
              "                                        name_1  \\\n",
              "3                             togos sandwiches   \n",
              "6                signature properties savannah   \n",
              "7                               inner workings   \n",
              "8                                 lake destiny   \n",
              "11  dale city truckonly safety rest area north   \n",
              "\n",
              "                                  full_address_1         categories_1  \\\n",
              "3    1380 holiday ln ste b fairfield ca 94534 us      sandwich places   \n",
              "6   100 commercial ct ste c savannah ga 31406 us  real estate offices   \n",
              "7      serving general area santa fe nm 87501 us      massage studios   \n",
              "8                           maitland fl 32751 us                lakes   \n",
              "11     interstate 95 north montclair va 22026 us           rest areas   \n",
              "\n",
              "                           name_2                             full_address_2  \\\n",
              "3                           togos                           fairfield ca  us   \n",
              "6   signature properties savannah      7014 abercorn st savannah ga 31406 us   \n",
              "7                  inner workings  serving general area santa fe nm 87501 us   \n",
              "8              lake destiny field                       maitland fl 32751 us   \n",
              "11        i95 exit 152 truck stop                       dumfries va 22026 us   \n",
              "\n",
              "       categories_2  match  theta_diff  \n",
              "3   sandwich places   True    0.000002  \n",
              "6                     True    0.000082  \n",
              "7   massage studios   True    0.000019  \n",
              "8     soccer fields  False    0.000253  \n",
              "11       rest areas   True    0.000119  "
            ]
          },
          "execution_count": 36,
          "metadata": {},
          "output_type": "execute_result"
        }
      ],
      "source": [
        "pairs_red_us.head()"
      ]
    },
    {
      "cell_type": "code",
      "execution_count": null,
      "metadata": {
        "id": "eCGgoSSEgnK3"
      },
      "outputs": [],
      "source": [
        "pairs_red_us = pairs_red_us.reset_index().drop('index', axis = 1)"
      ]
    },
    {
      "cell_type": "code",
      "execution_count": null,
      "metadata": {
        "id": "yHtrNdt6gnK3",
        "outputId": "0cb994d9-6a49-4dac-8c47-e75ed3f7f49b"
      },
      "outputs": [
        {
          "data": {
            "text/html": [
              "<div>\n",
              "<style scoped>\n",
              "    .dataframe tbody tr th:only-of-type {\n",
              "        vertical-align: middle;\n",
              "    }\n",
              "\n",
              "    .dataframe tbody tr th {\n",
              "        vertical-align: top;\n",
              "    }\n",
              "\n",
              "    .dataframe thead th {\n",
              "        text-align: right;\n",
              "    }\n",
              "</style>\n",
              "<table border=\"1\" class=\"dataframe\">\n",
              "  <thead>\n",
              "    <tr style=\"text-align: right;\">\n",
              "      <th></th>\n",
              "      <th>name_1</th>\n",
              "      <th>full_address_1</th>\n",
              "      <th>categories_1</th>\n",
              "      <th>name_2</th>\n",
              "      <th>full_address_2</th>\n",
              "      <th>categories_2</th>\n",
              "      <th>match</th>\n",
              "      <th>theta_diff</th>\n",
              "    </tr>\n",
              "  </thead>\n",
              "  <tbody>\n",
              "    <tr>\n",
              "      <th>0</th>\n",
              "      <td>togos sandwiches</td>\n",
              "      <td>1380 holiday ln ste b fairfield ca 94534 us</td>\n",
              "      <td>sandwich places</td>\n",
              "      <td>togos</td>\n",
              "      <td>fairfield ca  us</td>\n",
              "      <td>sandwich places</td>\n",
              "      <td>True</td>\n",
              "      <td>0.000002</td>\n",
              "    </tr>\n",
              "    <tr>\n",
              "      <th>1</th>\n",
              "      <td>signature properties savannah</td>\n",
              "      <td>100 commercial ct ste c savannah ga 31406 us</td>\n",
              "      <td>real estate offices</td>\n",
              "      <td>signature properties savannah</td>\n",
              "      <td>7014 abercorn st savannah ga 31406 us</td>\n",
              "      <td></td>\n",
              "      <td>True</td>\n",
              "      <td>0.000082</td>\n",
              "    </tr>\n",
              "    <tr>\n",
              "      <th>2</th>\n",
              "      <td>inner workings</td>\n",
              "      <td>serving general area santa fe nm 87501 us</td>\n",
              "      <td>massage studios</td>\n",
              "      <td>inner workings</td>\n",
              "      <td>serving general area santa fe nm 87501 us</td>\n",
              "      <td>massage studios</td>\n",
              "      <td>True</td>\n",
              "      <td>0.000019</td>\n",
              "    </tr>\n",
              "    <tr>\n",
              "      <th>3</th>\n",
              "      <td>lake destiny</td>\n",
              "      <td>maitland fl 32751 us</td>\n",
              "      <td>lakes</td>\n",
              "      <td>lake destiny field</td>\n",
              "      <td>maitland fl 32751 us</td>\n",
              "      <td>soccer fields</td>\n",
              "      <td>False</td>\n",
              "      <td>0.000253</td>\n",
              "    </tr>\n",
              "    <tr>\n",
              "      <th>4</th>\n",
              "      <td>dale city truckonly safety rest area north</td>\n",
              "      <td>interstate 95 north montclair va 22026 us</td>\n",
              "      <td>rest areas</td>\n",
              "      <td>i95 exit 152 truck stop</td>\n",
              "      <td>dumfries va 22026 us</td>\n",
              "      <td>rest areas</td>\n",
              "      <td>True</td>\n",
              "      <td>0.000119</td>\n",
              "    </tr>\n",
              "  </tbody>\n",
              "</table>\n",
              "</div>"
            ],
            "text/plain": [
              "                                       name_1  \\\n",
              "0                            togos sandwiches   \n",
              "1               signature properties savannah   \n",
              "2                              inner workings   \n",
              "3                                lake destiny   \n",
              "4  dale city truckonly safety rest area north   \n",
              "\n",
              "                                 full_address_1         categories_1  \\\n",
              "0   1380 holiday ln ste b fairfield ca 94534 us      sandwich places   \n",
              "1  100 commercial ct ste c savannah ga 31406 us  real estate offices   \n",
              "2     serving general area santa fe nm 87501 us      massage studios   \n",
              "3                          maitland fl 32751 us                lakes   \n",
              "4     interstate 95 north montclair va 22026 us           rest areas   \n",
              "\n",
              "                          name_2                             full_address_2  \\\n",
              "0                          togos                           fairfield ca  us   \n",
              "1  signature properties savannah      7014 abercorn st savannah ga 31406 us   \n",
              "2                 inner workings  serving general area santa fe nm 87501 us   \n",
              "3             lake destiny field                       maitland fl 32751 us   \n",
              "4        i95 exit 152 truck stop                       dumfries va 22026 us   \n",
              "\n",
              "      categories_2  match  theta_diff  \n",
              "0  sandwich places   True    0.000002  \n",
              "1                    True    0.000082  \n",
              "2  massage studios   True    0.000019  \n",
              "3    soccer fields  False    0.000253  \n",
              "4       rest areas   True    0.000119  "
            ]
          },
          "execution_count": 38,
          "metadata": {},
          "output_type": "execute_result"
        }
      ],
      "source": [
        "pairs_red_us.head()"
      ]
    },
    {
      "cell_type": "code",
      "execution_count": null,
      "metadata": {
        "id": "lsUZFvcFgnK4"
      },
      "outputs": [],
      "source": [
        "pairs_red_us.to_csv(r'C:\\Users\\gorma\\OneDrive\\Documents\\Erdos\\foursquare-location-matching\\tim_code\\working_data\\pairs_reduced_us.csv')"
      ]
    },
    {
      "cell_type": "code",
      "execution_count": null,
      "metadata": {
        "id": "6ve1uV8wgnK4"
      },
      "outputs": [],
      "source": [
        "vectors = CountVectorizer().fit_transform([pairs_red_us['name_1'].iloc[0], pairs_red_us['name_2'].iloc[0]]).toarray()"
      ]
    },
    {
      "cell_type": "code",
      "execution_count": null,
      "metadata": {
        "id": "4L59ODcSgnK4"
      },
      "outputs": [],
      "source": [
        "csim = cosine_similarity(vectors)"
      ]
    },
    {
      "cell_type": "code",
      "execution_count": null,
      "metadata": {
        "id": "74Oy3zJngnK4",
        "outputId": "6b1a0349-156c-4a57-c9cb-cde08fb42c0d"
      },
      "outputs": [
        {
          "data": {
            "text/plain": [
              "array([[1.        , 0.70710678],\n",
              "       [0.70710678, 1.        ]])"
            ]
          },
          "execution_count": 42,
          "metadata": {},
          "output_type": "execute_result"
        }
      ],
      "source": [
        "csim"
      ]
    },
    {
      "cell_type": "code",
      "execution_count": null,
      "metadata": {
        "id": "_vzEJQxrgnK4",
        "outputId": "b99d3e40-cb2d-49e7-8b4d-e0e5124ef8c6"
      },
      "outputs": [
        {
          "data": {
            "text/plain": [
              "0.7071067811865475"
            ]
          },
          "execution_count": 43,
          "metadata": {},
          "output_type": "execute_result"
        }
      ],
      "source": [
        "csim[0][1]"
      ]
    },
    {
      "cell_type": "code",
      "execution_count": null,
      "metadata": {
        "id": "WoRlOCkRgnK4",
        "outputId": "8c41da70-e956-48cb-dcd9-6e019b518315"
      },
      "outputs": [
        {
          "data": {
            "text/plain": [
              "range(0, 117793)"
            ]
          },
          "execution_count": 44,
          "metadata": {},
          "output_type": "execute_result"
        }
      ],
      "source": [
        "range(len(pairs_red_us.iloc[:]))"
      ]
    },
    {
      "cell_type": "code",
      "execution_count": null,
      "metadata": {
        "id": "rHx1Sf1AgnK4"
      },
      "outputs": [],
      "source": [
        "name_cosines = []\n",
        "for i in range(len(pairs_red_us)):\n",
        "    if (pairs_red_us['name_1'].iloc[i] == '') | (pairs_red_us['name_2'].iloc[i] == ''):\n",
        "        csim = -1\n",
        "    else:\n",
        "        csim = cosine_similarity(CountVectorizer().fit_transform([pairs_red_us['name_1'].iloc[i], pairs_red_us['name_2'].iloc[i]]).toarray())[0][1]\n",
        "    name_cosines.append(csim)"
      ]
    },
    {
      "cell_type": "code",
      "execution_count": null,
      "metadata": {
        "id": "2VGIXslugnK4",
        "outputId": "7aa3b44f-5350-4f0e-eb78-1b6715de821d"
      },
      "outputs": [
        {
          "data": {
            "text/plain": [
              "117793"
            ]
          },
          "execution_count": 46,
          "metadata": {},
          "output_type": "execute_result"
        }
      ],
      "source": [
        "len(name_cosines)"
      ]
    },
    {
      "cell_type": "code",
      "execution_count": null,
      "metadata": {
        "id": "rfjofhstgnK4"
      },
      "outputs": [],
      "source": [
        "pairs_red_us['name_cosines'] = pd.DataFrame(name_cosines)"
      ]
    },
    {
      "cell_type": "code",
      "execution_count": null,
      "metadata": {
        "id": "8m1MwxF_gnK4",
        "outputId": "f8ac02b2-9470-4265-c6b2-ee5484aa8ee5"
      },
      "outputs": [
        {
          "name": "stdout",
          "output_type": "stream",
          "text": [
            "<class 'pandas.core.frame.DataFrame'>\n",
            "RangeIndex: 117793 entries, 0 to 117792\n",
            "Data columns (total 9 columns):\n",
            " #   Column          Non-Null Count   Dtype  \n",
            "---  ------          --------------   -----  \n",
            " 0   name_1          117793 non-null  object \n",
            " 1   full_address_1  117793 non-null  object \n",
            " 2   categories_1    117793 non-null  object \n",
            " 3   name_2          117793 non-null  object \n",
            " 4   full_address_2  117793 non-null  object \n",
            " 5   categories_2    117793 non-null  object \n",
            " 6   match           117793 non-null  bool   \n",
            " 7   theta_diff      117793 non-null  float64\n",
            " 8   name_cosines    117793 non-null  float64\n",
            "dtypes: bool(1), float64(2), object(6)\n",
            "memory usage: 7.3+ MB\n"
          ]
        }
      ],
      "source": [
        "pairs_red_us.info()"
      ]
    },
    {
      "cell_type": "code",
      "execution_count": null,
      "metadata": {
        "id": "6Sh-A0X-gnK5",
        "outputId": "7590530b-37e6-4d73-a4bd-f7ac80fe9cbe"
      },
      "outputs": [
        {
          "data": {
            "text/html": [
              "<div>\n",
              "<style scoped>\n",
              "    .dataframe tbody tr th:only-of-type {\n",
              "        vertical-align: middle;\n",
              "    }\n",
              "\n",
              "    .dataframe tbody tr th {\n",
              "        vertical-align: top;\n",
              "    }\n",
              "\n",
              "    .dataframe thead th {\n",
              "        text-align: right;\n",
              "    }\n",
              "</style>\n",
              "<table border=\"1\" class=\"dataframe\">\n",
              "  <thead>\n",
              "    <tr style=\"text-align: right;\">\n",
              "      <th></th>\n",
              "      <th>name_1</th>\n",
              "      <th>full_address_1</th>\n",
              "      <th>categories_1</th>\n",
              "      <th>name_2</th>\n",
              "      <th>full_address_2</th>\n",
              "      <th>categories_2</th>\n",
              "      <th>match</th>\n",
              "      <th>theta_diff</th>\n",
              "      <th>name_cosines</th>\n",
              "    </tr>\n",
              "  </thead>\n",
              "  <tbody>\n",
              "  </tbody>\n",
              "</table>\n",
              "</div>"
            ],
            "text/plain": [
              "Empty DataFrame\n",
              "Columns: [name_1, full_address_1, categories_1, name_2, full_address_2, categories_2, match, theta_diff, name_cosines]\n",
              "Index: []"
            ]
          },
          "execution_count": 49,
          "metadata": {},
          "output_type": "execute_result"
        }
      ],
      "source": [
        "pairs_red_us[pairs_red_us['name_cosines'].isna()]"
      ]
    },
    {
      "cell_type": "code",
      "execution_count": null,
      "metadata": {
        "id": "454vS140gnK5",
        "outputId": "8e76254d-f32c-4a2a-c71e-138075bfdd14"
      },
      "outputs": [
        {
          "data": {
            "text/html": [
              "<div>\n",
              "<style scoped>\n",
              "    .dataframe tbody tr th:only-of-type {\n",
              "        vertical-align: middle;\n",
              "    }\n",
              "\n",
              "    .dataframe tbody tr th {\n",
              "        vertical-align: top;\n",
              "    }\n",
              "\n",
              "    .dataframe thead th {\n",
              "        text-align: right;\n",
              "    }\n",
              "</style>\n",
              "<table border=\"1\" class=\"dataframe\">\n",
              "  <thead>\n",
              "    <tr style=\"text-align: right;\">\n",
              "      <th></th>\n",
              "      <th>name_1</th>\n",
              "      <th>full_address_1</th>\n",
              "      <th>categories_1</th>\n",
              "      <th>name_2</th>\n",
              "      <th>full_address_2</th>\n",
              "      <th>categories_2</th>\n",
              "      <th>match</th>\n",
              "      <th>theta_diff</th>\n",
              "      <th>name_cosines</th>\n",
              "    </tr>\n",
              "  </thead>\n",
              "  <tbody>\n",
              "  </tbody>\n",
              "</table>\n",
              "</div>"
            ],
            "text/plain": [
              "Empty DataFrame\n",
              "Columns: [name_1, full_address_1, categories_1, name_2, full_address_2, categories_2, match, theta_diff, name_cosines]\n",
              "Index: []"
            ]
          },
          "execution_count": 50,
          "metadata": {},
          "output_type": "execute_result"
        }
      ],
      "source": [
        "pairs_red_us[pairs_red_us['categories_2'].isna()]"
      ]
    },
    {
      "cell_type": "code",
      "execution_count": null,
      "metadata": {
        "id": "sJsOuHUdgnK5",
        "outputId": "0c47feac-08ce-4350-9541-0f39d16a29b9"
      },
      "outputs": [
        {
          "data": {
            "text/html": [
              "<div>\n",
              "<style scoped>\n",
              "    .dataframe tbody tr th:only-of-type {\n",
              "        vertical-align: middle;\n",
              "    }\n",
              "\n",
              "    .dataframe tbody tr th {\n",
              "        vertical-align: top;\n",
              "    }\n",
              "\n",
              "    .dataframe thead th {\n",
              "        text-align: right;\n",
              "    }\n",
              "</style>\n",
              "<table border=\"1\" class=\"dataframe\">\n",
              "  <thead>\n",
              "    <tr style=\"text-align: right;\">\n",
              "      <th></th>\n",
              "      <th>name_1</th>\n",
              "      <th>full_address_1</th>\n",
              "      <th>categories_1</th>\n",
              "      <th>name_2</th>\n",
              "      <th>full_address_2</th>\n",
              "      <th>categories_2</th>\n",
              "      <th>match</th>\n",
              "      <th>theta_diff</th>\n",
              "      <th>name_cosines</th>\n",
              "    </tr>\n",
              "  </thead>\n",
              "  <tbody>\n",
              "    <tr>\n",
              "      <th>0</th>\n",
              "      <td>togos sandwiches</td>\n",
              "      <td>1380 holiday ln ste b fairfield ca 94534 us</td>\n",
              "      <td>sandwich places</td>\n",
              "      <td>togos</td>\n",
              "      <td>fairfield ca  us</td>\n",
              "      <td>sandwich places</td>\n",
              "      <td>True</td>\n",
              "      <td>0.000002</td>\n",
              "      <td>0.707107</td>\n",
              "    </tr>\n",
              "    <tr>\n",
              "      <th>1</th>\n",
              "      <td>signature properties savannah</td>\n",
              "      <td>100 commercial ct ste c savannah ga 31406 us</td>\n",
              "      <td>real estate offices</td>\n",
              "      <td>signature properties savannah</td>\n",
              "      <td>7014 abercorn st savannah ga 31406 us</td>\n",
              "      <td></td>\n",
              "      <td>True</td>\n",
              "      <td>0.000082</td>\n",
              "      <td>1.000000</td>\n",
              "    </tr>\n",
              "    <tr>\n",
              "      <th>2</th>\n",
              "      <td>inner workings</td>\n",
              "      <td>serving general area santa fe nm 87501 us</td>\n",
              "      <td>massage studios</td>\n",
              "      <td>inner workings</td>\n",
              "      <td>serving general area santa fe nm 87501 us</td>\n",
              "      <td>massage studios</td>\n",
              "      <td>True</td>\n",
              "      <td>0.000019</td>\n",
              "      <td>1.000000</td>\n",
              "    </tr>\n",
              "    <tr>\n",
              "      <th>3</th>\n",
              "      <td>lake destiny</td>\n",
              "      <td>maitland fl 32751 us</td>\n",
              "      <td>lakes</td>\n",
              "      <td>lake destiny field</td>\n",
              "      <td>maitland fl 32751 us</td>\n",
              "      <td>soccer fields</td>\n",
              "      <td>False</td>\n",
              "      <td>0.000253</td>\n",
              "      <td>0.816497</td>\n",
              "    </tr>\n",
              "    <tr>\n",
              "      <th>4</th>\n",
              "      <td>dale city truckonly safety rest area north</td>\n",
              "      <td>interstate 95 north montclair va 22026 us</td>\n",
              "      <td>rest areas</td>\n",
              "      <td>i95 exit 152 truck stop</td>\n",
              "      <td>dumfries va 22026 us</td>\n",
              "      <td>rest areas</td>\n",
              "      <td>True</td>\n",
              "      <td>0.000119</td>\n",
              "      <td>0.000000</td>\n",
              "    </tr>\n",
              "  </tbody>\n",
              "</table>\n",
              "</div>"
            ],
            "text/plain": [
              "                                       name_1  \\\n",
              "0                            togos sandwiches   \n",
              "1               signature properties savannah   \n",
              "2                              inner workings   \n",
              "3                                lake destiny   \n",
              "4  dale city truckonly safety rest area north   \n",
              "\n",
              "                                 full_address_1         categories_1  \\\n",
              "0   1380 holiday ln ste b fairfield ca 94534 us      sandwich places   \n",
              "1  100 commercial ct ste c savannah ga 31406 us  real estate offices   \n",
              "2     serving general area santa fe nm 87501 us      massage studios   \n",
              "3                          maitland fl 32751 us                lakes   \n",
              "4     interstate 95 north montclair va 22026 us           rest areas   \n",
              "\n",
              "                          name_2                             full_address_2  \\\n",
              "0                          togos                           fairfield ca  us   \n",
              "1  signature properties savannah      7014 abercorn st savannah ga 31406 us   \n",
              "2                 inner workings  serving general area santa fe nm 87501 us   \n",
              "3             lake destiny field                       maitland fl 32751 us   \n",
              "4        i95 exit 152 truck stop                       dumfries va 22026 us   \n",
              "\n",
              "      categories_2  match  theta_diff  name_cosines  \n",
              "0  sandwich places   True    0.000002      0.707107  \n",
              "1                    True    0.000082      1.000000  \n",
              "2  massage studios   True    0.000019      1.000000  \n",
              "3    soccer fields  False    0.000253      0.816497  \n",
              "4       rest areas   True    0.000119      0.000000  "
            ]
          },
          "execution_count": 51,
          "metadata": {},
          "output_type": "execute_result"
        }
      ],
      "source": [
        "pairs_red_us.head()"
      ]
    },
    {
      "cell_type": "code",
      "execution_count": null,
      "metadata": {
        "id": "6zLNwXoVgnK5"
      },
      "outputs": [],
      "source": [
        "address_cosines = []\n",
        "for i in range(len(pairs_red_us)):\n",
        "    if (pairs_red_us['full_address_1'].iloc[i] == '') | (pairs_red_us['full_address_2'].iloc[i] == ''):\n",
        "        csim = -1\n",
        "    else:\n",
        "        csim = cosine_similarity(CountVectorizer().fit_transform([pairs_red_us['full_address_1'].iloc[i], pairs_red_us['full_address_2'].iloc[i]]).toarray())[0][1]\n",
        "    address_cosines.append(csim)\n",
        "\n",
        "pairs_red_us['full_address_cosines'] = pd.DataFrame(address_cosines)"
      ]
    },
    {
      "cell_type": "code",
      "execution_count": null,
      "metadata": {
        "id": "UpJ9KxMJgnK5",
        "outputId": "48c81c51-0983-4cf8-bf2c-6d384c5e4f94"
      },
      "outputs": [
        {
          "data": {
            "text/html": [
              "<div>\n",
              "<style scoped>\n",
              "    .dataframe tbody tr th:only-of-type {\n",
              "        vertical-align: middle;\n",
              "    }\n",
              "\n",
              "    .dataframe tbody tr th {\n",
              "        vertical-align: top;\n",
              "    }\n",
              "\n",
              "    .dataframe thead th {\n",
              "        text-align: right;\n",
              "    }\n",
              "</style>\n",
              "<table border=\"1\" class=\"dataframe\">\n",
              "  <thead>\n",
              "    <tr style=\"text-align: right;\">\n",
              "      <th></th>\n",
              "      <th>name_1</th>\n",
              "      <th>full_address_1</th>\n",
              "      <th>categories_1</th>\n",
              "      <th>name_2</th>\n",
              "      <th>full_address_2</th>\n",
              "      <th>categories_2</th>\n",
              "      <th>match</th>\n",
              "      <th>theta_diff</th>\n",
              "      <th>name_cosines</th>\n",
              "      <th>full_address_cosines</th>\n",
              "    </tr>\n",
              "  </thead>\n",
              "  <tbody>\n",
              "    <tr>\n",
              "      <th>0</th>\n",
              "      <td>togos sandwiches</td>\n",
              "      <td>1380 holiday ln ste b fairfield ca 94534 us</td>\n",
              "      <td>sandwich places</td>\n",
              "      <td>togos</td>\n",
              "      <td>fairfield ca  us</td>\n",
              "      <td>sandwich places</td>\n",
              "      <td>True</td>\n",
              "      <td>0.000002</td>\n",
              "      <td>0.707107</td>\n",
              "      <td>0.612372</td>\n",
              "    </tr>\n",
              "    <tr>\n",
              "      <th>1</th>\n",
              "      <td>signature properties savannah</td>\n",
              "      <td>100 commercial ct ste c savannah ga 31406 us</td>\n",
              "      <td>real estate offices</td>\n",
              "      <td>signature properties savannah</td>\n",
              "      <td>7014 abercorn st savannah ga 31406 us</td>\n",
              "      <td></td>\n",
              "      <td>True</td>\n",
              "      <td>0.000082</td>\n",
              "      <td>1.000000</td>\n",
              "      <td>0.534522</td>\n",
              "    </tr>\n",
              "    <tr>\n",
              "      <th>2</th>\n",
              "      <td>inner workings</td>\n",
              "      <td>serving general area santa fe nm 87501 us</td>\n",
              "      <td>massage studios</td>\n",
              "      <td>inner workings</td>\n",
              "      <td>serving general area santa fe nm 87501 us</td>\n",
              "      <td>massage studios</td>\n",
              "      <td>True</td>\n",
              "      <td>0.000019</td>\n",
              "      <td>1.000000</td>\n",
              "      <td>1.000000</td>\n",
              "    </tr>\n",
              "    <tr>\n",
              "      <th>3</th>\n",
              "      <td>lake destiny</td>\n",
              "      <td>maitland fl 32751 us</td>\n",
              "      <td>lakes</td>\n",
              "      <td>lake destiny field</td>\n",
              "      <td>maitland fl 32751 us</td>\n",
              "      <td>soccer fields</td>\n",
              "      <td>False</td>\n",
              "      <td>0.000253</td>\n",
              "      <td>0.816497</td>\n",
              "      <td>1.000000</td>\n",
              "    </tr>\n",
              "    <tr>\n",
              "      <th>4</th>\n",
              "      <td>dale city truckonly safety rest area north</td>\n",
              "      <td>interstate 95 north montclair va 22026 us</td>\n",
              "      <td>rest areas</td>\n",
              "      <td>i95 exit 152 truck stop</td>\n",
              "      <td>dumfries va 22026 us</td>\n",
              "      <td>rest areas</td>\n",
              "      <td>True</td>\n",
              "      <td>0.000119</td>\n",
              "      <td>0.000000</td>\n",
              "      <td>0.566947</td>\n",
              "    </tr>\n",
              "  </tbody>\n",
              "</table>\n",
              "</div>"
            ],
            "text/plain": [
              "                                       name_1  \\\n",
              "0                            togos sandwiches   \n",
              "1               signature properties savannah   \n",
              "2                              inner workings   \n",
              "3                                lake destiny   \n",
              "4  dale city truckonly safety rest area north   \n",
              "\n",
              "                                 full_address_1         categories_1  \\\n",
              "0   1380 holiday ln ste b fairfield ca 94534 us      sandwich places   \n",
              "1  100 commercial ct ste c savannah ga 31406 us  real estate offices   \n",
              "2     serving general area santa fe nm 87501 us      massage studios   \n",
              "3                          maitland fl 32751 us                lakes   \n",
              "4     interstate 95 north montclair va 22026 us           rest areas   \n",
              "\n",
              "                          name_2                             full_address_2  \\\n",
              "0                          togos                           fairfield ca  us   \n",
              "1  signature properties savannah      7014 abercorn st savannah ga 31406 us   \n",
              "2                 inner workings  serving general area santa fe nm 87501 us   \n",
              "3             lake destiny field                       maitland fl 32751 us   \n",
              "4        i95 exit 152 truck stop                       dumfries va 22026 us   \n",
              "\n",
              "      categories_2  match  theta_diff  name_cosines  full_address_cosines  \n",
              "0  sandwich places   True    0.000002      0.707107              0.612372  \n",
              "1                    True    0.000082      1.000000              0.534522  \n",
              "2  massage studios   True    0.000019      1.000000              1.000000  \n",
              "3    soccer fields  False    0.000253      0.816497              1.000000  \n",
              "4       rest areas   True    0.000119      0.000000              0.566947  "
            ]
          },
          "execution_count": 53,
          "metadata": {},
          "output_type": "execute_result"
        }
      ],
      "source": [
        "pairs_red_us.head()"
      ]
    },
    {
      "cell_type": "code",
      "execution_count": null,
      "metadata": {
        "id": "7rbC9Ej_gnK5"
      },
      "outputs": [],
      "source": [
        "categories_cosines = []\n",
        "for i in range(len(pairs_red_us)):\n",
        "    if (pairs_red_us['categories_1'].iloc[i] == '') | (pairs_red_us['categories_2'].iloc[i] == ''):\n",
        "        csim = -1\n",
        "    else:\n",
        "        csim = cosine_similarity(CountVectorizer().fit_transform([pairs_red_us['categories_1'].iloc[i], pairs_red_us['categories_2'].iloc[i]]).toarray())[0][1]\n",
        "    categories_cosines.append(csim)\n",
        "    \n",
        "pairs_red_us['categories_cosines'] = pd.DataFrame(categories_cosines)"
      ]
    },
    {
      "cell_type": "code",
      "execution_count": null,
      "metadata": {
        "id": "rtFudsLGgnK5",
        "outputId": "86b7a716-6cfb-43da-e3e5-23b0b9351a5d"
      },
      "outputs": [
        {
          "data": {
            "text/html": [
              "<div>\n",
              "<style scoped>\n",
              "    .dataframe tbody tr th:only-of-type {\n",
              "        vertical-align: middle;\n",
              "    }\n",
              "\n",
              "    .dataframe tbody tr th {\n",
              "        vertical-align: top;\n",
              "    }\n",
              "\n",
              "    .dataframe thead th {\n",
              "        text-align: right;\n",
              "    }\n",
              "</style>\n",
              "<table border=\"1\" class=\"dataframe\">\n",
              "  <thead>\n",
              "    <tr style=\"text-align: right;\">\n",
              "      <th></th>\n",
              "      <th>name_1</th>\n",
              "      <th>full_address_1</th>\n",
              "      <th>categories_1</th>\n",
              "      <th>name_2</th>\n",
              "      <th>full_address_2</th>\n",
              "      <th>categories_2</th>\n",
              "      <th>match</th>\n",
              "      <th>theta_diff</th>\n",
              "      <th>name_cosines</th>\n",
              "      <th>full_address_cosines</th>\n",
              "      <th>categories_cosines</th>\n",
              "    </tr>\n",
              "  </thead>\n",
              "  <tbody>\n",
              "    <tr>\n",
              "      <th>0</th>\n",
              "      <td>togos sandwiches</td>\n",
              "      <td>1380 holiday ln ste b fairfield ca 94534 us</td>\n",
              "      <td>sandwich places</td>\n",
              "      <td>togos</td>\n",
              "      <td>fairfield ca  us</td>\n",
              "      <td>sandwich places</td>\n",
              "      <td>True</td>\n",
              "      <td>0.000002</td>\n",
              "      <td>0.707107</td>\n",
              "      <td>0.612372</td>\n",
              "      <td>1.0</td>\n",
              "    </tr>\n",
              "    <tr>\n",
              "      <th>1</th>\n",
              "      <td>signature properties savannah</td>\n",
              "      <td>100 commercial ct ste c savannah ga 31406 us</td>\n",
              "      <td>real estate offices</td>\n",
              "      <td>signature properties savannah</td>\n",
              "      <td>7014 abercorn st savannah ga 31406 us</td>\n",
              "      <td></td>\n",
              "      <td>True</td>\n",
              "      <td>0.000082</td>\n",
              "      <td>1.000000</td>\n",
              "      <td>0.534522</td>\n",
              "      <td>-1.0</td>\n",
              "    </tr>\n",
              "    <tr>\n",
              "      <th>2</th>\n",
              "      <td>inner workings</td>\n",
              "      <td>serving general area santa fe nm 87501 us</td>\n",
              "      <td>massage studios</td>\n",
              "      <td>inner workings</td>\n",
              "      <td>serving general area santa fe nm 87501 us</td>\n",
              "      <td>massage studios</td>\n",
              "      <td>True</td>\n",
              "      <td>0.000019</td>\n",
              "      <td>1.000000</td>\n",
              "      <td>1.000000</td>\n",
              "      <td>1.0</td>\n",
              "    </tr>\n",
              "    <tr>\n",
              "      <th>3</th>\n",
              "      <td>lake destiny</td>\n",
              "      <td>maitland fl 32751 us</td>\n",
              "      <td>lakes</td>\n",
              "      <td>lake destiny field</td>\n",
              "      <td>maitland fl 32751 us</td>\n",
              "      <td>soccer fields</td>\n",
              "      <td>False</td>\n",
              "      <td>0.000253</td>\n",
              "      <td>0.816497</td>\n",
              "      <td>1.000000</td>\n",
              "      <td>0.0</td>\n",
              "    </tr>\n",
              "    <tr>\n",
              "      <th>4</th>\n",
              "      <td>dale city truckonly safety rest area north</td>\n",
              "      <td>interstate 95 north montclair va 22026 us</td>\n",
              "      <td>rest areas</td>\n",
              "      <td>i95 exit 152 truck stop</td>\n",
              "      <td>dumfries va 22026 us</td>\n",
              "      <td>rest areas</td>\n",
              "      <td>True</td>\n",
              "      <td>0.000119</td>\n",
              "      <td>0.000000</td>\n",
              "      <td>0.566947</td>\n",
              "      <td>1.0</td>\n",
              "    </tr>\n",
              "  </tbody>\n",
              "</table>\n",
              "</div>"
            ],
            "text/plain": [
              "                                       name_1  \\\n",
              "0                            togos sandwiches   \n",
              "1               signature properties savannah   \n",
              "2                              inner workings   \n",
              "3                                lake destiny   \n",
              "4  dale city truckonly safety rest area north   \n",
              "\n",
              "                                 full_address_1         categories_1  \\\n",
              "0   1380 holiday ln ste b fairfield ca 94534 us      sandwich places   \n",
              "1  100 commercial ct ste c savannah ga 31406 us  real estate offices   \n",
              "2     serving general area santa fe nm 87501 us      massage studios   \n",
              "3                          maitland fl 32751 us                lakes   \n",
              "4     interstate 95 north montclair va 22026 us           rest areas   \n",
              "\n",
              "                          name_2                             full_address_2  \\\n",
              "0                          togos                           fairfield ca  us   \n",
              "1  signature properties savannah      7014 abercorn st savannah ga 31406 us   \n",
              "2                 inner workings  serving general area santa fe nm 87501 us   \n",
              "3             lake destiny field                       maitland fl 32751 us   \n",
              "4        i95 exit 152 truck stop                       dumfries va 22026 us   \n",
              "\n",
              "      categories_2  match  theta_diff  name_cosines  full_address_cosines  \\\n",
              "0  sandwich places   True    0.000002      0.707107              0.612372   \n",
              "1                    True    0.000082      1.000000              0.534522   \n",
              "2  massage studios   True    0.000019      1.000000              1.000000   \n",
              "3    soccer fields  False    0.000253      0.816497              1.000000   \n",
              "4       rest areas   True    0.000119      0.000000              0.566947   \n",
              "\n",
              "   categories_cosines  \n",
              "0                 1.0  \n",
              "1                -1.0  \n",
              "2                 1.0  \n",
              "3                 0.0  \n",
              "4                 1.0  "
            ]
          },
          "execution_count": 55,
          "metadata": {},
          "output_type": "execute_result"
        }
      ],
      "source": [
        "pairs_red_us.head()"
      ]
    },
    {
      "cell_type": "code",
      "execution_count": null,
      "metadata": {
        "id": "XQIpeDMxgnK5"
      },
      "outputs": [],
      "source": [
        "pairs_final_diffed_us = pairs_red_us[['theta_diff', 'name_cosines', 'full_address_cosines', 'categories_cosines', 'match']]"
      ]
    },
    {
      "cell_type": "code",
      "execution_count": null,
      "metadata": {
        "id": "XmvRLWuMgnK5",
        "outputId": "f4f41041-c43d-46b4-bc7e-fb767549de82"
      },
      "outputs": [
        {
          "data": {
            "text/html": [
              "<div>\n",
              "<style scoped>\n",
              "    .dataframe tbody tr th:only-of-type {\n",
              "        vertical-align: middle;\n",
              "    }\n",
              "\n",
              "    .dataframe tbody tr th {\n",
              "        vertical-align: top;\n",
              "    }\n",
              "\n",
              "    .dataframe thead th {\n",
              "        text-align: right;\n",
              "    }\n",
              "</style>\n",
              "<table border=\"1\" class=\"dataframe\">\n",
              "  <thead>\n",
              "    <tr style=\"text-align: right;\">\n",
              "      <th></th>\n",
              "      <th>theta_diff</th>\n",
              "      <th>name_cosines</th>\n",
              "      <th>full_address_cosines</th>\n",
              "      <th>categories_cosines</th>\n",
              "      <th>match</th>\n",
              "    </tr>\n",
              "  </thead>\n",
              "  <tbody>\n",
              "    <tr>\n",
              "      <th>0</th>\n",
              "      <td>0.000002</td>\n",
              "      <td>0.707107</td>\n",
              "      <td>0.612372</td>\n",
              "      <td>1.000000</td>\n",
              "      <td>True</td>\n",
              "    </tr>\n",
              "    <tr>\n",
              "      <th>1</th>\n",
              "      <td>0.000082</td>\n",
              "      <td>1.000000</td>\n",
              "      <td>0.534522</td>\n",
              "      <td>-1.000000</td>\n",
              "      <td>True</td>\n",
              "    </tr>\n",
              "    <tr>\n",
              "      <th>2</th>\n",
              "      <td>0.000019</td>\n",
              "      <td>1.000000</td>\n",
              "      <td>1.000000</td>\n",
              "      <td>1.000000</td>\n",
              "      <td>True</td>\n",
              "    </tr>\n",
              "    <tr>\n",
              "      <th>3</th>\n",
              "      <td>0.000253</td>\n",
              "      <td>0.816497</td>\n",
              "      <td>1.000000</td>\n",
              "      <td>0.000000</td>\n",
              "      <td>False</td>\n",
              "    </tr>\n",
              "    <tr>\n",
              "      <th>4</th>\n",
              "      <td>0.000119</td>\n",
              "      <td>0.000000</td>\n",
              "      <td>0.566947</td>\n",
              "      <td>1.000000</td>\n",
              "      <td>True</td>\n",
              "    </tr>\n",
              "    <tr>\n",
              "      <th>...</th>\n",
              "      <td>...</td>\n",
              "      <td>...</td>\n",
              "      <td>...</td>\n",
              "      <td>...</td>\n",
              "      <td>...</td>\n",
              "    </tr>\n",
              "    <tr>\n",
              "      <th>117788</th>\n",
              "      <td>0.000691</td>\n",
              "      <td>1.000000</td>\n",
              "      <td>0.408248</td>\n",
              "      <td>0.816497</td>\n",
              "      <td>True</td>\n",
              "    </tr>\n",
              "    <tr>\n",
              "      <th>117789</th>\n",
              "      <td>0.000034</td>\n",
              "      <td>0.408248</td>\n",
              "      <td>0.750000</td>\n",
              "      <td>0.000000</td>\n",
              "      <td>False</td>\n",
              "    </tr>\n",
              "    <tr>\n",
              "      <th>117790</th>\n",
              "      <td>0.000002</td>\n",
              "      <td>1.000000</td>\n",
              "      <td>1.000000</td>\n",
              "      <td>0.000000</td>\n",
              "      <td>True</td>\n",
              "    </tr>\n",
              "    <tr>\n",
              "      <th>117791</th>\n",
              "      <td>0.001709</td>\n",
              "      <td>1.000000</td>\n",
              "      <td>0.235702</td>\n",
              "      <td>0.316228</td>\n",
              "      <td>False</td>\n",
              "    </tr>\n",
              "    <tr>\n",
              "      <th>117792</th>\n",
              "      <td>0.000136</td>\n",
              "      <td>1.000000</td>\n",
              "      <td>1.000000</td>\n",
              "      <td>1.000000</td>\n",
              "      <td>True</td>\n",
              "    </tr>\n",
              "  </tbody>\n",
              "</table>\n",
              "<p>117793 rows × 5 columns</p>\n",
              "</div>"
            ],
            "text/plain": [
              "        theta_diff  name_cosines  full_address_cosines  categories_cosines  \\\n",
              "0         0.000002      0.707107              0.612372            1.000000   \n",
              "1         0.000082      1.000000              0.534522           -1.000000   \n",
              "2         0.000019      1.000000              1.000000            1.000000   \n",
              "3         0.000253      0.816497              1.000000            0.000000   \n",
              "4         0.000119      0.000000              0.566947            1.000000   \n",
              "...            ...           ...                   ...                 ...   \n",
              "117788    0.000691      1.000000              0.408248            0.816497   \n",
              "117789    0.000034      0.408248              0.750000            0.000000   \n",
              "117790    0.000002      1.000000              1.000000            0.000000   \n",
              "117791    0.001709      1.000000              0.235702            0.316228   \n",
              "117792    0.000136      1.000000              1.000000            1.000000   \n",
              "\n",
              "        match  \n",
              "0        True  \n",
              "1        True  \n",
              "2        True  \n",
              "3       False  \n",
              "4        True  \n",
              "...       ...  \n",
              "117788   True  \n",
              "117789  False  \n",
              "117790   True  \n",
              "117791  False  \n",
              "117792   True  \n",
              "\n",
              "[117793 rows x 5 columns]"
            ]
          },
          "execution_count": 57,
          "metadata": {},
          "output_type": "execute_result"
        }
      ],
      "source": [
        "pairs_final_diffed_us"
      ]
    },
    {
      "cell_type": "markdown",
      "metadata": {
        "id": "S_ENFz0DgnK5"
      },
      "source": [
        "# Exploring the transformed data"
      ]
    },
    {
      "cell_type": "code",
      "execution_count": null,
      "metadata": {
        "id": "8xT3lEcDgnK6",
        "outputId": "2cfbb56d-c863-46bb-d3ab-8de76e61a47f"
      },
      "outputs": [
        {
          "data": {
            "text/plain": [
              "0         0.000002\n",
              "1         0.000082\n",
              "2         0.000019\n",
              "3         0.000253\n",
              "4         0.000119\n",
              "            ...   \n",
              "117788    0.000691\n",
              "117789    0.000034\n",
              "117790    0.000002\n",
              "117791    0.001709\n",
              "117792    0.000136\n",
              "Name: theta_diff, Length: 117793, dtype: float64"
            ]
          },
          "execution_count": 58,
          "metadata": {},
          "output_type": "execute_result"
        }
      ],
      "source": [
        "pairs_final_diffed_us['theta_diff']"
      ]
    },
    {
      "cell_type": "code",
      "execution_count": null,
      "metadata": {
        "id": "KjvNqcDpgnK6",
        "outputId": "89ca5fa6-f671-4dec-dea6-fffbf56991c9"
      },
      "outputs": [
        {
          "data": {
            "text/html": [
              "<div>\n",
              "<style scoped>\n",
              "    .dataframe tbody tr th:only-of-type {\n",
              "        vertical-align: middle;\n",
              "    }\n",
              "\n",
              "    .dataframe tbody tr th {\n",
              "        vertical-align: top;\n",
              "    }\n",
              "\n",
              "    .dataframe thead th {\n",
              "        text-align: right;\n",
              "    }\n",
              "</style>\n",
              "<table border=\"1\" class=\"dataframe\">\n",
              "  <thead>\n",
              "    <tr style=\"text-align: right;\">\n",
              "      <th></th>\n",
              "      <th>theta_diff</th>\n",
              "      <th>name_cosines</th>\n",
              "      <th>full_address_cosines</th>\n",
              "      <th>categories_cosines</th>\n",
              "    </tr>\n",
              "  </thead>\n",
              "  <tbody>\n",
              "    <tr>\n",
              "      <th>count</th>\n",
              "      <td>117793.000000</td>\n",
              "      <td>117793.000000</td>\n",
              "      <td>117793.000000</td>\n",
              "      <td>117793.000000</td>\n",
              "    </tr>\n",
              "    <tr>\n",
              "      <th>mean</th>\n",
              "      <td>0.001800</td>\n",
              "      <td>0.649019</td>\n",
              "      <td>0.781899</td>\n",
              "      <td>0.468062</td>\n",
              "    </tr>\n",
              "    <tr>\n",
              "      <th>std</th>\n",
              "      <td>0.029048</td>\n",
              "      <td>0.359314</td>\n",
              "      <td>0.218063</td>\n",
              "      <td>0.616417</td>\n",
              "    </tr>\n",
              "    <tr>\n",
              "      <th>min</th>\n",
              "      <td>0.000000</td>\n",
              "      <td>0.000000</td>\n",
              "      <td>0.000000</td>\n",
              "      <td>-1.000000</td>\n",
              "    </tr>\n",
              "    <tr>\n",
              "      <th>25%</th>\n",
              "      <td>0.000005</td>\n",
              "      <td>0.408248</td>\n",
              "      <td>0.632456</td>\n",
              "      <td>0.000000</td>\n",
              "    </tr>\n",
              "    <tr>\n",
              "      <th>50%</th>\n",
              "      <td>0.000019</td>\n",
              "      <td>0.707107</td>\n",
              "      <td>0.816497</td>\n",
              "      <td>0.707107</td>\n",
              "    </tr>\n",
              "    <tr>\n",
              "      <th>75%</th>\n",
              "      <td>0.000099</td>\n",
              "      <td>1.000000</td>\n",
              "      <td>1.000000</td>\n",
              "      <td>1.000000</td>\n",
              "    </tr>\n",
              "    <tr>\n",
              "      <th>max</th>\n",
              "      <td>1.563694</td>\n",
              "      <td>1.000000</td>\n",
              "      <td>1.000000</td>\n",
              "      <td>1.000000</td>\n",
              "    </tr>\n",
              "  </tbody>\n",
              "</table>\n",
              "</div>"
            ],
            "text/plain": [
              "          theta_diff   name_cosines  full_address_cosines  categories_cosines\n",
              "count  117793.000000  117793.000000         117793.000000       117793.000000\n",
              "mean        0.001800       0.649019              0.781899            0.468062\n",
              "std         0.029048       0.359314              0.218063            0.616417\n",
              "min         0.000000       0.000000              0.000000           -1.000000\n",
              "25%         0.000005       0.408248              0.632456            0.000000\n",
              "50%         0.000019       0.707107              0.816497            0.707107\n",
              "75%         0.000099       1.000000              1.000000            1.000000\n",
              "max         1.563694       1.000000              1.000000            1.000000"
            ]
          },
          "execution_count": 59,
          "metadata": {},
          "output_type": "execute_result"
        }
      ],
      "source": [
        "pairs_final_diffed_us.describe()"
      ]
    },
    {
      "cell_type": "code",
      "execution_count": null,
      "metadata": {
        "id": "tX9UknW1gnK6"
      },
      "outputs": [],
      "source": [
        "import seaborn as sns"
      ]
    },
    {
      "cell_type": "code",
      "execution_count": null,
      "metadata": {
        "id": "VxUHRgiNgnK6"
      },
      "outputs": [],
      "source": [
        "pairs_corr = pairs_final_diffed_us.corr()"
      ]
    },
    {
      "cell_type": "code",
      "execution_count": null,
      "metadata": {
        "id": "3OD0wReDgnK6",
        "outputId": "afadd0c4-2441-4fd5-9297-e73d6525e636"
      },
      "outputs": [
        {
          "data": {
            "text/plain": [
              "<AxesSubplot:>"
            ]
          },
          "execution_count": 62,
          "metadata": {},
          "output_type": "execute_result"
        },
        {
          "data": {
            "image/png": "[encoded data removed]",
            "text/plain": [
              "<Figure size 432x288 with 2 Axes>"
            ]
          },
          "metadata": {
            "needs_background": "light"
          },
          "output_type": "display_data"
        }
      ],
      "source": [
        "sns.heatmap(pairs_corr)"
      ]
    },
    {
      "cell_type": "code",
      "execution_count": null,
      "metadata": {
        "id": "-REIZh6kgnK6",
        "outputId": "5878d673-a46c-4cff-bf0a-a1317baeaddb"
      },
      "outputs": [
        {
          "data": {
            "text/html": [
              "<div>\n",
              "<style scoped>\n",
              "    .dataframe tbody tr th:only-of-type {\n",
              "        vertical-align: middle;\n",
              "    }\n",
              "\n",
              "    .dataframe tbody tr th {\n",
              "        vertical-align: top;\n",
              "    }\n",
              "\n",
              "    .dataframe thead th {\n",
              "        text-align: right;\n",
              "    }\n",
              "</style>\n",
              "<table border=\"1\" class=\"dataframe\">\n",
              "  <thead>\n",
              "    <tr style=\"text-align: right;\">\n",
              "      <th></th>\n",
              "      <th>theta_diff</th>\n",
              "      <th>name_cosines</th>\n",
              "      <th>full_address_cosines</th>\n",
              "      <th>categories_cosines</th>\n",
              "      <th>match</th>\n",
              "    </tr>\n",
              "  </thead>\n",
              "  <tbody>\n",
              "    <tr>\n",
              "      <th>theta_diff</th>\n",
              "      <td>1.000000</td>\n",
              "      <td>-0.009203</td>\n",
              "      <td>-0.080235</td>\n",
              "      <td>-0.001742</td>\n",
              "      <td>0.014765</td>\n",
              "    </tr>\n",
              "    <tr>\n",
              "      <th>name_cosines</th>\n",
              "      <td>-0.009203</td>\n",
              "      <td>1.000000</td>\n",
              "      <td>0.192721</td>\n",
              "      <td>0.202642</td>\n",
              "      <td>0.318856</td>\n",
              "    </tr>\n",
              "    <tr>\n",
              "      <th>full_address_cosines</th>\n",
              "      <td>-0.080235</td>\n",
              "      <td>0.192721</td>\n",
              "      <td>1.000000</td>\n",
              "      <td>0.125937</td>\n",
              "      <td>0.169836</td>\n",
              "    </tr>\n",
              "    <tr>\n",
              "      <th>categories_cosines</th>\n",
              "      <td>-0.001742</td>\n",
              "      <td>0.202642</td>\n",
              "      <td>0.125937</td>\n",
              "      <td>1.000000</td>\n",
              "      <td>0.187185</td>\n",
              "    </tr>\n",
              "    <tr>\n",
              "      <th>match</th>\n",
              "      <td>0.014765</td>\n",
              "      <td>0.318856</td>\n",
              "      <td>0.169836</td>\n",
              "      <td>0.187185</td>\n",
              "      <td>1.000000</td>\n",
              "    </tr>\n",
              "  </tbody>\n",
              "</table>\n",
              "</div>"
            ],
            "text/plain": [
              "                      theta_diff  name_cosines  full_address_cosines  \\\n",
              "theta_diff              1.000000     -0.009203             -0.080235   \n",
              "name_cosines           -0.009203      1.000000              0.192721   \n",
              "full_address_cosines   -0.080235      0.192721              1.000000   \n",
              "categories_cosines     -0.001742      0.202642              0.125937   \n",
              "match                   0.014765      0.318856              0.169836   \n",
              "\n",
              "                      categories_cosines     match  \n",
              "theta_diff                     -0.001742  0.014765  \n",
              "name_cosines                    0.202642  0.318856  \n",
              "full_address_cosines            0.125937  0.169836  \n",
              "categories_cosines              1.000000  0.187185  \n",
              "match                           0.187185  1.000000  "
            ]
          },
          "execution_count": 63,
          "metadata": {},
          "output_type": "execute_result"
        }
      ],
      "source": [
        "pairs_corr"
      ]
    },
    {
      "cell_type": "code",
      "execution_count": null,
      "metadata": {
        "id": "d08xaa8vgnK6",
        "outputId": "893d75d8-019e-44f4-c2dc-a60cf3b3ceef"
      },
      "outputs": [
        {
          "data": {
            "text/plain": [
              "count    84674.000000\n",
              "mean         0.002068\n",
              "std          0.029835\n",
              "min          0.000000\n",
              "25%          0.000004\n",
              "50%          0.000017\n",
              "75%          0.000124\n",
              "max          1.556511\n",
              "Name: theta_diff, dtype: float64"
            ]
          },
          "execution_count": 64,
          "metadata": {},
          "output_type": "execute_result"
        }
      ],
      "source": [
        "pairs_final_diffed_us['theta_diff'][pairs_final_diffed_us['match']==True].describe()"
      ]
    },
    {
      "cell_type": "code",
      "execution_count": null,
      "metadata": {
        "id": "uZAwcUtYgnK6",
        "outputId": "e2593ff6-fa49-4aa2-c799-1fa800bb5a49"
      },
      "outputs": [
        {
          "data": {
            "text/plain": [
              "count    33119.000000\n",
              "mean         0.001114\n",
              "std          0.026920\n",
              "min          0.000000\n",
              "25%          0.000008\n",
              "50%          0.000023\n",
              "75%          0.000069\n",
              "max          1.563694\n",
              "Name: theta_diff, dtype: float64"
            ]
          },
          "execution_count": 65,
          "metadata": {},
          "output_type": "execute_result"
        }
      ],
      "source": [
        "pairs_final_diffed_us['theta_diff'][pairs_final_diffed_us['match']==False].describe()"
      ]
    },
    {
      "cell_type": "raw",
      "metadata": {
        "id": "0KFmtdDGgnK6"
      },
      "source": [
        "from sklearn.preprocessing import StandardScaler"
      ]
    },
    {
      "cell_type": "raw",
      "metadata": {
        "id": "dAabSgNFgnK6"
      },
      "source": [
        "cols_to_scale = ['theta_diff', 'name_cosines', 'full_address_cosines', 'categories_cosines']"
      ]
    },
    {
      "cell_type": "raw",
      "metadata": {
        "id": "gv-8faYfgnK6"
      },
      "source": [
        "scaler = StandardScaler()"
      ]
    },
    {
      "cell_type": "code",
      "execution_count": null,
      "metadata": {
        "id": "92MOJC6jgnK7",
        "outputId": "f29b4bc1-108e-4742-ad38-449e7611e32a"
      },
      "outputs": [
        {
          "data": {
            "text/html": [
              "<div>\n",
              "<style scoped>\n",
              "    .dataframe tbody tr th:only-of-type {\n",
              "        vertical-align: middle;\n",
              "    }\n",
              "\n",
              "    .dataframe tbody tr th {\n",
              "        vertical-align: top;\n",
              "    }\n",
              "\n",
              "    .dataframe thead th {\n",
              "        text-align: right;\n",
              "    }\n",
              "</style>\n",
              "<table border=\"1\" class=\"dataframe\">\n",
              "  <thead>\n",
              "    <tr style=\"text-align: right;\">\n",
              "      <th></th>\n",
              "      <th>theta_diff</th>\n",
              "      <th>name_cosines</th>\n",
              "      <th>full_address_cosines</th>\n",
              "      <th>categories_cosines</th>\n",
              "    </tr>\n",
              "  </thead>\n",
              "  <tbody>\n",
              "    <tr>\n",
              "      <th>count</th>\n",
              "      <td>117793.000000</td>\n",
              "      <td>117793.000000</td>\n",
              "      <td>117793.000000</td>\n",
              "      <td>117793.000000</td>\n",
              "    </tr>\n",
              "    <tr>\n",
              "      <th>mean</th>\n",
              "      <td>0.001800</td>\n",
              "      <td>0.649019</td>\n",
              "      <td>0.781899</td>\n",
              "      <td>0.468062</td>\n",
              "    </tr>\n",
              "    <tr>\n",
              "      <th>std</th>\n",
              "      <td>0.029048</td>\n",
              "      <td>0.359314</td>\n",
              "      <td>0.218063</td>\n",
              "      <td>0.616417</td>\n",
              "    </tr>\n",
              "    <tr>\n",
              "      <th>min</th>\n",
              "      <td>0.000000</td>\n",
              "      <td>0.000000</td>\n",
              "      <td>0.000000</td>\n",
              "      <td>-1.000000</td>\n",
              "    </tr>\n",
              "    <tr>\n",
              "      <th>25%</th>\n",
              "      <td>0.000005</td>\n",
              "      <td>0.408248</td>\n",
              "      <td>0.632456</td>\n",
              "      <td>0.000000</td>\n",
              "    </tr>\n",
              "    <tr>\n",
              "      <th>50%</th>\n",
              "      <td>0.000019</td>\n",
              "      <td>0.707107</td>\n",
              "      <td>0.816497</td>\n",
              "      <td>0.707107</td>\n",
              "    </tr>\n",
              "    <tr>\n",
              "      <th>75%</th>\n",
              "      <td>0.000099</td>\n",
              "      <td>1.000000</td>\n",
              "      <td>1.000000</td>\n",
              "      <td>1.000000</td>\n",
              "    </tr>\n",
              "    <tr>\n",
              "      <th>max</th>\n",
              "      <td>1.563694</td>\n",
              "      <td>1.000000</td>\n",
              "      <td>1.000000</td>\n",
              "      <td>1.000000</td>\n",
              "    </tr>\n",
              "  </tbody>\n",
              "</table>\n",
              "</div>"
            ],
            "text/plain": [
              "          theta_diff   name_cosines  full_address_cosines  categories_cosines\n",
              "count  117793.000000  117793.000000         117793.000000       117793.000000\n",
              "mean        0.001800       0.649019              0.781899            0.468062\n",
              "std         0.029048       0.359314              0.218063            0.616417\n",
              "min         0.000000       0.000000              0.000000           -1.000000\n",
              "25%         0.000005       0.408248              0.632456            0.000000\n",
              "50%         0.000019       0.707107              0.816497            0.707107\n",
              "75%         0.000099       1.000000              1.000000            1.000000\n",
              "max         1.563694       1.000000              1.000000            1.000000"
            ]
          },
          "execution_count": 67,
          "metadata": {},
          "output_type": "execute_result"
        }
      ],
      "source": [
        "pairs_final_diffed_us.describe()"
      ]
    },
    {
      "cell_type": "raw",
      "metadata": {
        "id": "9d-i2-0xgnK7"
      },
      "source": [
        "scaler.fit(pairs_final_diffed_us[cols_to_scale])"
      ]
    },
    {
      "cell_type": "raw",
      "metadata": {
        "id": "xkyRxG3NgnK7"
      },
      "source": [
        "pairs_final_diffed_us[cols_to_scale] = scaler.transform(pairs_final_diffed_us[cols_to_scale])"
      ]
    },
    {
      "cell_type": "code",
      "execution_count": null,
      "metadata": {
        "id": "Eo4-Ja_SgnK7",
        "outputId": "f40a4d40-d3e6-4684-912c-f951ebd9715f"
      },
      "outputs": [
        {
          "data": {
            "text/html": [
              "<div>\n",
              "<style scoped>\n",
              "    .dataframe tbody tr th:only-of-type {\n",
              "        vertical-align: middle;\n",
              "    }\n",
              "\n",
              "    .dataframe tbody tr th {\n",
              "        vertical-align: top;\n",
              "    }\n",
              "\n",
              "    .dataframe thead th {\n",
              "        text-align: right;\n",
              "    }\n",
              "</style>\n",
              "<table border=\"1\" class=\"dataframe\">\n",
              "  <thead>\n",
              "    <tr style=\"text-align: right;\">\n",
              "      <th></th>\n",
              "      <th>theta_diff</th>\n",
              "      <th>name_cosines</th>\n",
              "      <th>full_address_cosines</th>\n",
              "      <th>categories_cosines</th>\n",
              "      <th>match</th>\n",
              "    </tr>\n",
              "  </thead>\n",
              "  <tbody>\n",
              "    <tr>\n",
              "      <th>0</th>\n",
              "      <td>0.000002</td>\n",
              "      <td>0.707107</td>\n",
              "      <td>0.612372</td>\n",
              "      <td>1.0</td>\n",
              "      <td>True</td>\n",
              "    </tr>\n",
              "    <tr>\n",
              "      <th>1</th>\n",
              "      <td>0.000082</td>\n",
              "      <td>1.000000</td>\n",
              "      <td>0.534522</td>\n",
              "      <td>-1.0</td>\n",
              "      <td>True</td>\n",
              "    </tr>\n",
              "    <tr>\n",
              "      <th>2</th>\n",
              "      <td>0.000019</td>\n",
              "      <td>1.000000</td>\n",
              "      <td>1.000000</td>\n",
              "      <td>1.0</td>\n",
              "      <td>True</td>\n",
              "    </tr>\n",
              "    <tr>\n",
              "      <th>3</th>\n",
              "      <td>0.000253</td>\n",
              "      <td>0.816497</td>\n",
              "      <td>1.000000</td>\n",
              "      <td>0.0</td>\n",
              "      <td>False</td>\n",
              "    </tr>\n",
              "    <tr>\n",
              "      <th>4</th>\n",
              "      <td>0.000119</td>\n",
              "      <td>0.000000</td>\n",
              "      <td>0.566947</td>\n",
              "      <td>1.0</td>\n",
              "      <td>True</td>\n",
              "    </tr>\n",
              "  </tbody>\n",
              "</table>\n",
              "</div>"
            ],
            "text/plain": [
              "   theta_diff  name_cosines  full_address_cosines  categories_cosines  match\n",
              "0    0.000002      0.707107              0.612372                 1.0   True\n",
              "1    0.000082      1.000000              0.534522                -1.0   True\n",
              "2    0.000019      1.000000              1.000000                 1.0   True\n",
              "3    0.000253      0.816497              1.000000                 0.0  False\n",
              "4    0.000119      0.000000              0.566947                 1.0   True"
            ]
          },
          "execution_count": 66,
          "metadata": {},
          "output_type": "execute_result"
        }
      ],
      "source": [
        "pairs_final_diffed_us.head()"
      ]
    },
    {
      "cell_type": "raw",
      "metadata": {
        "id": "COxd59WEgnK7"
      },
      "source": [
        "pairs_corr = pairs_final_diffed_us.corr()"
      ]
    },
    {
      "cell_type": "raw",
      "metadata": {
        "id": "-VtN34M9gnK7"
      },
      "source": [
        "pairs_corr"
      ]
    },
    {
      "cell_type": "raw",
      "metadata": {
        "id": "gRWMJRuZgnK7"
      },
      "source": [
        "sns.heatmap(pairs_corr)"
      ]
    },
    {
      "cell_type": "code",
      "execution_count": null,
      "metadata": {
        "id": "qvBh8z7IgnK7"
      },
      "outputs": [],
      "source": [
        "pairs_final_diffed_us.to_csv(r'C:\\Users\\gorma\\OneDrive\\Documents\\Erdos\\foursquare-location-matching\\tim_code\\working_data\\pairs_final_diffed_us.csv')"
      ]
    },
    {
      "cell_type": "markdown",
      "metadata": {
        "id": "D2pB6B7TgnK7"
      },
      "source": [
        "## Optional Scaling"
      ]
    },
    {
      "cell_type": "code",
      "execution_count": null,
      "metadata": {
        "id": "LLFSye1tgnK7"
      },
      "outputs": [],
      "source": [
        "pairs_final_diffed_us = pd.read_csv(r'C:\\Users\\gorma\\OneDrive\\Documents\\Erdos\\foursquare-location-matching\\tim_code\\working_data\\pairs_final_diffed_us.csv')"
      ]
    },
    {
      "cell_type": "code",
      "execution_count": null,
      "metadata": {
        "id": "6jBhGDFlgnK7"
      },
      "outputs": [],
      "source": [
        "pairs_final_diffed_us = pairs_final_diffed_us.drop('Unnamed: 0', axis =1)"
      ]
    },
    {
      "cell_type": "code",
      "execution_count": null,
      "metadata": {
        "id": "hydYVE0pgnK7",
        "outputId": "7de8d27f-eaa5-4cbb-86f6-526ed020a306"
      },
      "outputs": [
        {
          "data": {
            "text/html": [
              "<div>\n",
              "<style scoped>\n",
              "    .dataframe tbody tr th:only-of-type {\n",
              "        vertical-align: middle;\n",
              "    }\n",
              "\n",
              "    .dataframe tbody tr th {\n",
              "        vertical-align: top;\n",
              "    }\n",
              "\n",
              "    .dataframe thead th {\n",
              "        text-align: right;\n",
              "    }\n",
              "</style>\n",
              "<table border=\"1\" class=\"dataframe\">\n",
              "  <thead>\n",
              "    <tr style=\"text-align: right;\">\n",
              "      <th></th>\n",
              "      <th>theta_diff</th>\n",
              "      <th>name_cosines</th>\n",
              "      <th>full_address_cosines</th>\n",
              "      <th>categories_cosines</th>\n",
              "      <th>match</th>\n",
              "    </tr>\n",
              "  </thead>\n",
              "  <tbody>\n",
              "    <tr>\n",
              "      <th>0</th>\n",
              "      <td>0.000002</td>\n",
              "      <td>0.707107</td>\n",
              "      <td>0.612372</td>\n",
              "      <td>1.0</td>\n",
              "      <td>True</td>\n",
              "    </tr>\n",
              "    <tr>\n",
              "      <th>1</th>\n",
              "      <td>0.000082</td>\n",
              "      <td>1.000000</td>\n",
              "      <td>0.534522</td>\n",
              "      <td>-1.0</td>\n",
              "      <td>True</td>\n",
              "    </tr>\n",
              "    <tr>\n",
              "      <th>2</th>\n",
              "      <td>0.000019</td>\n",
              "      <td>1.000000</td>\n",
              "      <td>1.000000</td>\n",
              "      <td>1.0</td>\n",
              "      <td>True</td>\n",
              "    </tr>\n",
              "    <tr>\n",
              "      <th>3</th>\n",
              "      <td>0.000253</td>\n",
              "      <td>0.816497</td>\n",
              "      <td>1.000000</td>\n",
              "      <td>0.0</td>\n",
              "      <td>False</td>\n",
              "    </tr>\n",
              "    <tr>\n",
              "      <th>4</th>\n",
              "      <td>0.000119</td>\n",
              "      <td>0.000000</td>\n",
              "      <td>0.566947</td>\n",
              "      <td>1.0</td>\n",
              "      <td>True</td>\n",
              "    </tr>\n",
              "  </tbody>\n",
              "</table>\n",
              "</div>"
            ],
            "text/plain": [
              "   theta_diff  name_cosines  full_address_cosines  categories_cosines  match\n",
              "0    0.000002      0.707107              0.612372                 1.0   True\n",
              "1    0.000082      1.000000              0.534522                -1.0   True\n",
              "2    0.000019      1.000000              1.000000                 1.0   True\n",
              "3    0.000253      0.816497              1.000000                 0.0  False\n",
              "4    0.000119      0.000000              0.566947                 1.0   True"
            ]
          },
          "execution_count": 4,
          "metadata": {},
          "output_type": "execute_result"
        }
      ],
      "source": [
        "pairs_final_diffed_us.head()"
      ]
    },
    {
      "cell_type": "code",
      "execution_count": null,
      "metadata": {
        "id": "pSbnQNgjgnK8",
        "outputId": "69f04255-7767-4db3-a89b-742fb7d8a01e"
      },
      "outputs": [
        {
          "data": {
            "text/html": [
              "<div>\n",
              "<style scoped>\n",
              "    .dataframe tbody tr th:only-of-type {\n",
              "        vertical-align: middle;\n",
              "    }\n",
              "\n",
              "    .dataframe tbody tr th {\n",
              "        vertical-align: top;\n",
              "    }\n",
              "\n",
              "    .dataframe thead th {\n",
              "        text-align: right;\n",
              "    }\n",
              "</style>\n",
              "<table border=\"1\" class=\"dataframe\">\n",
              "  <thead>\n",
              "    <tr style=\"text-align: right;\">\n",
              "      <th></th>\n",
              "      <th>theta_diff</th>\n",
              "      <th>name_cosines</th>\n",
              "      <th>full_address_cosines</th>\n",
              "      <th>categories_cosines</th>\n",
              "    </tr>\n",
              "  </thead>\n",
              "  <tbody>\n",
              "    <tr>\n",
              "      <th>count</th>\n",
              "      <td>117793.000000</td>\n",
              "      <td>117793.000000</td>\n",
              "      <td>117793.000000</td>\n",
              "      <td>117793.000000</td>\n",
              "    </tr>\n",
              "    <tr>\n",
              "      <th>mean</th>\n",
              "      <td>0.001800</td>\n",
              "      <td>0.649019</td>\n",
              "      <td>0.781899</td>\n",
              "      <td>0.468062</td>\n",
              "    </tr>\n",
              "    <tr>\n",
              "      <th>std</th>\n",
              "      <td>0.029048</td>\n",
              "      <td>0.359314</td>\n",
              "      <td>0.218063</td>\n",
              "      <td>0.616417</td>\n",
              "    </tr>\n",
              "    <tr>\n",
              "      <th>min</th>\n",
              "      <td>0.000000</td>\n",
              "      <td>0.000000</td>\n",
              "      <td>0.000000</td>\n",
              "      <td>-1.000000</td>\n",
              "    </tr>\n",
              "    <tr>\n",
              "      <th>25%</th>\n",
              "      <td>0.000005</td>\n",
              "      <td>0.408248</td>\n",
              "      <td>0.632456</td>\n",
              "      <td>0.000000</td>\n",
              "    </tr>\n",
              "    <tr>\n",
              "      <th>50%</th>\n",
              "      <td>0.000019</td>\n",
              "      <td>0.707107</td>\n",
              "      <td>0.816497</td>\n",
              "      <td>0.707107</td>\n",
              "    </tr>\n",
              "    <tr>\n",
              "      <th>75%</th>\n",
              "      <td>0.000099</td>\n",
              "      <td>1.000000</td>\n",
              "      <td>1.000000</td>\n",
              "      <td>1.000000</td>\n",
              "    </tr>\n",
              "    <tr>\n",
              "      <th>max</th>\n",
              "      <td>1.563694</td>\n",
              "      <td>1.000000</td>\n",
              "      <td>1.000000</td>\n",
              "      <td>1.000000</td>\n",
              "    </tr>\n",
              "  </tbody>\n",
              "</table>\n",
              "</div>"
            ],
            "text/plain": [
              "          theta_diff   name_cosines  full_address_cosines  categories_cosines\n",
              "count  117793.000000  117793.000000         117793.000000       117793.000000\n",
              "mean        0.001800       0.649019              0.781899            0.468062\n",
              "std         0.029048       0.359314              0.218063            0.616417\n",
              "min         0.000000       0.000000              0.000000           -1.000000\n",
              "25%         0.000005       0.408248              0.632456            0.000000\n",
              "50%         0.000019       0.707107              0.816497            0.707107\n",
              "75%         0.000099       1.000000              1.000000            1.000000\n",
              "max         1.563694       1.000000              1.000000            1.000000"
            ]
          },
          "execution_count": 5,
          "metadata": {},
          "output_type": "execute_result"
        }
      ],
      "source": [
        "pairs_final_diffed_us.describe()"
      ]
    },
    {
      "cell_type": "code",
      "execution_count": null,
      "metadata": {
        "id": "i9XT9sgfgnK8"
      },
      "outputs": [],
      "source": [
        "from sklearn.preprocessing import StandardScaler\n",
        "cols_to_scale = ['theta_diff', 'name_cosines', 'full_address_cosines', 'categories_cosines']\n",
        "scaler = StandardScaler()\n",
        "scaler.fit(pairs_final_diffed_us[cols_to_scale])\n",
        "pairs_final_diffed_us[cols_to_scale] = scaler.transform(pairs_final_diffed_us[cols_to_scale])"
      ]
    },
    {
      "cell_type": "code",
      "execution_count": null,
      "metadata": {
        "id": "VE4A-vOTgnK8",
        "outputId": "486af533-fe46-4a71-8935-28ca25b67842"
      },
      "outputs": [
        {
          "data": {
            "text/html": [
              "<div>\n",
              "<style scoped>\n",
              "    .dataframe tbody tr th:only-of-type {\n",
              "        vertical-align: middle;\n",
              "    }\n",
              "\n",
              "    .dataframe tbody tr th {\n",
              "        vertical-align: top;\n",
              "    }\n",
              "\n",
              "    .dataframe thead th {\n",
              "        text-align: right;\n",
              "    }\n",
              "</style>\n",
              "<table border=\"1\" class=\"dataframe\">\n",
              "  <thead>\n",
              "    <tr style=\"text-align: right;\">\n",
              "      <th></th>\n",
              "      <th>theta_diff</th>\n",
              "      <th>name_cosines</th>\n",
              "      <th>full_address_cosines</th>\n",
              "      <th>categories_cosines</th>\n",
              "    </tr>\n",
              "  </thead>\n",
              "  <tbody>\n",
              "    <tr>\n",
              "      <th>count</th>\n",
              "      <td>1.177930e+05</td>\n",
              "      <td>1.177930e+05</td>\n",
              "      <td>1.177930e+05</td>\n",
              "      <td>1.177930e+05</td>\n",
              "    </tr>\n",
              "    <tr>\n",
              "      <th>mean</th>\n",
              "      <td>-5.673124e-17</td>\n",
              "      <td>-6.075524e-16</td>\n",
              "      <td>-4.158984e-16</td>\n",
              "      <td>2.867844e-16</td>\n",
              "    </tr>\n",
              "    <tr>\n",
              "      <th>std</th>\n",
              "      <td>1.000004e+00</td>\n",
              "      <td>1.000004e+00</td>\n",
              "      <td>1.000004e+00</td>\n",
              "      <td>1.000004e+00</td>\n",
              "    </tr>\n",
              "    <tr>\n",
              "      <th>min</th>\n",
              "      <td>-6.195319e-02</td>\n",
              "      <td>-1.806282e+00</td>\n",
              "      <td>-3.585681e+00</td>\n",
              "      <td>-2.381617e+00</td>\n",
              "    </tr>\n",
              "    <tr>\n",
              "      <th>25%</th>\n",
              "      <td>-6.178098e-02</td>\n",
              "      <td>-6.700873e-01</td>\n",
              "      <td>-6.853287e-01</td>\n",
              "      <td>-7.593302e-01</td>\n",
              "    </tr>\n",
              "    <tr>\n",
              "      <th>50%</th>\n",
              "      <td>-6.129996e-02</td>\n",
              "      <td>1.616648e-01</td>\n",
              "      <td>1.586576e-01</td>\n",
              "      <td>3.877996e-01</td>\n",
              "    </tr>\n",
              "    <tr>\n",
              "      <th>75%</th>\n",
              "      <td>-5.853338e-02</td>\n",
              "      <td>9.768149e-01</td>\n",
              "      <td>1.000179e+00</td>\n",
              "      <td>8.629563e-01</td>\n",
              "    </tr>\n",
              "    <tr>\n",
              "      <th>max</th>\n",
              "      <td>5.376932e+01</td>\n",
              "      <td>9.768149e-01</td>\n",
              "      <td>1.000179e+00</td>\n",
              "      <td>8.629563e-01</td>\n",
              "    </tr>\n",
              "  </tbody>\n",
              "</table>\n",
              "</div>"
            ],
            "text/plain": [
              "         theta_diff  name_cosines  full_address_cosines  categories_cosines\n",
              "count  1.177930e+05  1.177930e+05          1.177930e+05        1.177930e+05\n",
              "mean  -5.673124e-17 -6.075524e-16         -4.158984e-16        2.867844e-16\n",
              "std    1.000004e+00  1.000004e+00          1.000004e+00        1.000004e+00\n",
              "min   -6.195319e-02 -1.806282e+00         -3.585681e+00       -2.381617e+00\n",
              "25%   -6.178098e-02 -6.700873e-01         -6.853287e-01       -7.593302e-01\n",
              "50%   -6.129996e-02  1.616648e-01          1.586576e-01        3.877996e-01\n",
              "75%   -5.853338e-02  9.768149e-01          1.000179e+00        8.629563e-01\n",
              "max    5.376932e+01  9.768149e-01          1.000179e+00        8.629563e-01"
            ]
          },
          "execution_count": 7,
          "metadata": {},
          "output_type": "execute_result"
        }
      ],
      "source": [
        "pairs_final_diffed_us.describe()"
      ]
    },
    {
      "cell_type": "code",
      "execution_count": null,
      "metadata": {
        "id": "jb9xWgAhgnK8"
      },
      "outputs": [],
      "source": [
        "pairs_final_diffed_us.to_csv(r'C:\\Users\\gorma\\OneDrive\\Documents\\Erdos\\foursquare-location-matching\\tim_code\\working_data\\pairs_final_diffed_us_scaled.csv', index = False)"
      ]
    },
    {
      "cell_type": "code",
      "execution_count": null,
      "metadata": {
        "id": "QTmnsEoUgnK8"
      },
      "outputs": [],
      "source": [
        ""
      ]
    }
  ],
  "metadata": {
    "kernelspec": {
      "display_name": "Python 3",
      "language": "python",
      "name": "python3"
    },
    "language_info": {
      "codemirror_mode": {
        "name": "ipython",
        "version": 3
      },
      "file_extension": ".py",
      "mimetype": "text/x-python",
      "name": "python",
      "nbconvert_exporter": "python",
      "pygments_lexer": "ipython3",
      "version": "3.8.5"
    },
    "colab": {
      "name": "2022.05.25_train_and_pairs_eda.ipynb",
      "provenance": [],
      "toc_visible": true
    }
  },
  "nbformat": 4,
  "nbformat_minor": 0
}