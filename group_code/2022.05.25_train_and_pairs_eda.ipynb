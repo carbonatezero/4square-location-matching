{
 "cells": [
  {
   "cell_type": "markdown",
   "metadata": {
    "id": "lDaIyszzU4xE"
   },
   "source": [
    "Authors: Tim Gorman, Yu Cao, Ling Zhou\n",
    "\n",
    "---\n",
    "\n",
    "Data analyzed in this notebook is from [Kaggle's code competation: Foursquare - Location Matching](https://www.kaggle.com/competitions/foursquare-location-matching/data). The data comprises over one-and-a-half million place entries for hundreds of thousands of commercial Points-of-Interest (POIs) around the globe."
   ]
  },
  {
   "cell_type": "code",
   "execution_count": 1,
   "metadata": {
    "id": "MC62YNpkU4xF"
   },
   "outputs": [],
   "source": [
    "import pandas as pd\n",
    "import numpy as np\n",
    "import string\n",
    "from sklearn.metrics.pairwise import cosine_similarity\n",
    "from sklearn.feature_extraction.text import CountVectorizer\n",
    "from nltk.corpus import stopwords\n",
    "stopwords = stopwords.words('english')\n",
    "\n",
    "# from googletrans import Translator, constants\n",
    "import seaborn as sns\n",
    "import langdetect\n",
    "from langdetect import detect\n",
    "import matplotlib.pyplot as plt\n",
    "\n",
    "from shapely.geometry import Point\n",
    "from geopandas import GeoDataFrame\n",
    "import geopandas as gpd"
   ]
  },
  {
   "cell_type": "markdown",
   "metadata": {
    "id": "yASxsI4XU4xG"
   },
   "source": [
    "Note: To install geopandas, open a terminal in jupyter and run the following commands\n",
    "\n",
    "pip install pipwin <br>\n",
    "pipwin install gdal <br>\n",
    "pipwin install fiona <br>\n",
    "pip install geopandas"
   ]
  },
  {
   "cell_type": "markdown",
   "metadata": {
    "id": "6Y-BXghYU4xG"
   },
   "source": [
    "# Exploring `train.csv`"
   ]
  },
  {
   "cell_type": "markdown",
   "metadata": {
    "jp-MarkdownHeadingCollapsed": true,
    "tags": []
   },
   "source": [
    "## Basic information"
   ]
  },
  {
   "cell_type": "code",
   "execution_count": 4,
   "metadata": {
    "id": "NyoTKTdIU4xH"
   },
   "outputs": [],
   "source": [
    "df_train = pd.read_csv(\"../../code-2022/final_project/data-foursquare-location-matching/train.csv\")\n",
    "# df_train  = pd.read_csv(\"../../data_raw/train.csv\")"
   ]
  },
  {
   "cell_type": "code",
   "execution_count": 5,
   "metadata": {
    "id": "YVXlFNq0U4xH",
    "outputId": "7280fd93-adee-43dc-ff88-050cd163d66e"
   },
   "outputs": [
    {
     "name": "stdout",
     "output_type": "stream",
     "text": [
      "<class 'pandas.core.frame.DataFrame'>\n",
      "RangeIndex: 1138812 entries, 0 to 1138811\n",
      "Data columns (total 13 columns):\n",
      " #   Column             Non-Null Count    Dtype  \n",
      "---  ------             --------------    -----  \n",
      " 0   id                 1138812 non-null  object \n",
      " 1   name               1138811 non-null  object \n",
      " 2   latitude           1138812 non-null  float64\n",
      " 3   longitude          1138812 non-null  float64\n",
      " 4   address            742191 non-null   object \n",
      " 5   city               839623 non-null   object \n",
      " 6   state              718226 non-null   object \n",
      " 7   zip                543386 non-null   object \n",
      " 8   country            1138801 non-null  object \n",
      " 9   url                267724 non-null   object \n",
      " 10  phone              342855 non-null   object \n",
      " 11  categories         1040505 non-null  object \n",
      " 12  point_of_interest  1138812 non-null  object \n",
      "dtypes: float64(2), object(11)\n",
      "memory usage: 112.9+ MB\n"
     ]
    }
   ],
   "source": [
    "df_train.info()"
   ]
  },
  {
   "cell_type": "code",
   "execution_count": 6,
   "metadata": {
    "id": "idtUOlRQU4xH",
    "outputId": "4777ee7f-ac86-462d-9e00-4b10f0130f0d"
   },
   "outputs": [
    {
     "data": {
      "text/html": [
       "<div>\n",
       "<style scoped>\n",
       "    .dataframe tbody tr th:only-of-type {\n",
       "        vertical-align: middle;\n",
       "    }\n",
       "\n",
       "    .dataframe tbody tr th {\n",
       "        vertical-align: top;\n",
       "    }\n",
       "\n",
       "    .dataframe thead th {\n",
       "        text-align: right;\n",
       "    }\n",
       "</style>\n",
       "<table border=\"1\" class=\"dataframe\">\n",
       "  <thead>\n",
       "    <tr style=\"text-align: right;\">\n",
       "      <th></th>\n",
       "      <th>id</th>\n",
       "      <th>name</th>\n",
       "      <th>latitude</th>\n",
       "      <th>longitude</th>\n",
       "      <th>address</th>\n",
       "      <th>city</th>\n",
       "      <th>state</th>\n",
       "      <th>zip</th>\n",
       "      <th>country</th>\n",
       "      <th>url</th>\n",
       "      <th>phone</th>\n",
       "      <th>categories</th>\n",
       "      <th>point_of_interest</th>\n",
       "    </tr>\n",
       "  </thead>\n",
       "  <tbody>\n",
       "    <tr>\n",
       "      <th>0</th>\n",
       "      <td>E_000001272c6c5d</td>\n",
       "      <td>Café Stad Oudenaarde</td>\n",
       "      <td>50.859975</td>\n",
       "      <td>3.634196</td>\n",
       "      <td>Abdijstraat</td>\n",
       "      <td>Nederename</td>\n",
       "      <td>Oost-Vlaanderen</td>\n",
       "      <td>9700</td>\n",
       "      <td>BE</td>\n",
       "      <td>NaN</td>\n",
       "      <td>NaN</td>\n",
       "      <td>Bars</td>\n",
       "      <td>P_677e840bb6fc7e</td>\n",
       "    </tr>\n",
       "    <tr>\n",
       "      <th>1</th>\n",
       "      <td>E_000002eae2a589</td>\n",
       "      <td>Carioca Manero</td>\n",
       "      <td>-22.907225</td>\n",
       "      <td>-43.178244</td>\n",
       "      <td>NaN</td>\n",
       "      <td>NaN</td>\n",
       "      <td>NaN</td>\n",
       "      <td>NaN</td>\n",
       "      <td>BR</td>\n",
       "      <td>NaN</td>\n",
       "      <td>NaN</td>\n",
       "      <td>Brazilian Restaurants</td>\n",
       "      <td>P_d82910d8382a83</td>\n",
       "    </tr>\n",
       "    <tr>\n",
       "      <th>2</th>\n",
       "      <td>E_000007f24ebc95</td>\n",
       "      <td>ร้านตัดผมการาเกด</td>\n",
       "      <td>13.780813</td>\n",
       "      <td>100.484900</td>\n",
       "      <td>NaN</td>\n",
       "      <td>NaN</td>\n",
       "      <td>NaN</td>\n",
       "      <td>NaN</td>\n",
       "      <td>TH</td>\n",
       "      <td>NaN</td>\n",
       "      <td>NaN</td>\n",
       "      <td>Salons / Barbershops</td>\n",
       "      <td>P_b1066599e78477</td>\n",
       "    </tr>\n",
       "    <tr>\n",
       "      <th>3</th>\n",
       "      <td>E_000008a8ba4f48</td>\n",
       "      <td>Turkcell</td>\n",
       "      <td>37.844510</td>\n",
       "      <td>27.844202</td>\n",
       "      <td>Adnan Menderes Bulvarı</td>\n",
       "      <td>NaN</td>\n",
       "      <td>NaN</td>\n",
       "      <td>NaN</td>\n",
       "      <td>TR</td>\n",
       "      <td>NaN</td>\n",
       "      <td>NaN</td>\n",
       "      <td>Mobile Phone Shops</td>\n",
       "      <td>P_b2ed86905a4cd3</td>\n",
       "    </tr>\n",
       "    <tr>\n",
       "      <th>4</th>\n",
       "      <td>E_00001d92066153</td>\n",
       "      <td>Restaurante Casa Cofiño</td>\n",
       "      <td>43.338196</td>\n",
       "      <td>-4.326821</td>\n",
       "      <td>NaN</td>\n",
       "      <td>Caviedes</td>\n",
       "      <td>Cantabria</td>\n",
       "      <td>NaN</td>\n",
       "      <td>ES</td>\n",
       "      <td>NaN</td>\n",
       "      <td>NaN</td>\n",
       "      <td>Spanish Restaurants</td>\n",
       "      <td>P_809a884d4407fb</td>\n",
       "    </tr>\n",
       "  </tbody>\n",
       "</table>\n",
       "</div>"
      ],
      "text/plain": [
       "                 id                     name   latitude   longitude  \\\n",
       "0  E_000001272c6c5d     Café Stad Oudenaarde  50.859975    3.634196   \n",
       "1  E_000002eae2a589           Carioca Manero -22.907225  -43.178244   \n",
       "2  E_000007f24ebc95         ร้านตัดผมการาเกด  13.780813  100.484900   \n",
       "3  E_000008a8ba4f48                 Turkcell  37.844510   27.844202   \n",
       "4  E_00001d92066153  Restaurante Casa Cofiño  43.338196   -4.326821   \n",
       "\n",
       "                  address        city            state   zip country  url  \\\n",
       "0             Abdijstraat  Nederename  Oost-Vlaanderen  9700      BE  NaN   \n",
       "1                     NaN         NaN              NaN   NaN      BR  NaN   \n",
       "2                     NaN         NaN              NaN   NaN      TH  NaN   \n",
       "3  Adnan Menderes Bulvarı         NaN              NaN   NaN      TR  NaN   \n",
       "4                     NaN    Caviedes        Cantabria   NaN      ES  NaN   \n",
       "\n",
       "  phone             categories point_of_interest  \n",
       "0   NaN                   Bars  P_677e840bb6fc7e  \n",
       "1   NaN  Brazilian Restaurants  P_d82910d8382a83  \n",
       "2   NaN   Salons / Barbershops  P_b1066599e78477  \n",
       "3   NaN     Mobile Phone Shops  P_b2ed86905a4cd3  \n",
       "4   NaN    Spanish Restaurants  P_809a884d4407fb  "
      ]
     },
     "execution_count": 6,
     "metadata": {},
     "output_type": "execute_result"
    }
   ],
   "source": [
    "df_train.head()"
   ]
  },
  {
   "cell_type": "code",
   "execution_count": 7,
   "metadata": {},
   "outputs": [
    {
     "data": {
      "text/plain": [
       "(1138812, 13)"
      ]
     },
     "execution_count": 7,
     "metadata": {},
     "output_type": "execute_result"
    }
   ],
   "source": [
    "df_train.shape"
   ]
  },
  {
   "cell_type": "markdown",
   "metadata": {
    "id": "waFMskOvU4xI",
    "jp-MarkdownHeadingCollapsed": true,
    "tags": [],
    "toc-hr-collapsed": true
   },
   "source": [
    "## Missing values\n",
    "- Every row has the features: `id`, `latitude`, `longitude`, `point_of_interest`\n",
    "- Other features have missing values\n",
    "- Features that have less missing values: `name`, `country`, `categories`"
   ]
  },
  {
   "cell_type": "code",
   "execution_count": 8,
   "metadata": {
    "id": "S0gvQddehNJT"
   },
   "outputs": [
    {
     "name": "stdout",
     "output_type": "stream",
     "text": [
      "There are 1138812 id, and 739972 distinct POIs.\n",
      "\n",
      "About 64.98 % POIs are unique.\n",
      "\n"
     ]
    }
   ],
   "source": [
    "print('There are', len(set(df_train.id)), 'id, and', len(set(df_train.point_of_interest)), 'distinct POIs.\\n')\n",
    "print('About', np.round(len(set(df_train.point_of_interest))/len(set(df_train.id))*100,2),'% POIs are unique.\\n')"
   ]
  },
  {
   "cell_type": "code",
   "execution_count": 11,
   "metadata": {
    "id": "5XYjoxaGU4xI",
    "outputId": "5a502a75-f072-4a0b-c324-45ec663c22d3"
   },
   "outputs": [
    {
     "name": "stdout",
     "output_type": "stream",
     "text": [
      "id                    0.000000\n",
      "latitude              0.000000\n",
      "longitude             0.000000\n",
      "point_of_interest     0.000000\n",
      "name                  0.000088\n",
      "country               0.000966\n",
      "categories            8.632417\n",
      "city                 26.272027\n",
      "address              34.827610\n",
      "state                36.931996\n",
      "zip                  52.284837\n",
      "phone                69.893626\n",
      "url                  76.490940\n",
      "dtype: float64\n"
     ]
    },
    {
     "data": {
      "image/png": "[encoded data removed]",
      "text/plain": [
       "<Figure size 576x432 with 1 Axes>"
      ]
     },
     "metadata": {
      "needs_background": "light"
     },
     "output_type": "display_data"
    }
   ],
   "source": [
    "df = df_train\n",
    "# Count the missing values in each feature\n",
    "missing = df.isna().sum()/df.shape[0]*100\n",
    "print(missing.sort_values())\n",
    "\n",
    "# Plot the percentages of missing values for each feature\n",
    "import matplotlib.ticker as mtick\n",
    "tmp = df.isna().sum().sort_values()\n",
    "fig, ax = plt.subplots(figsize=(8,6))\n",
    "\n",
    "y = tmp/len(df)*100\n",
    "ax.barh(tmp.index, y)\n",
    "ax.set_title(\"Missing values\", fontsize=18)\n",
    "ax.axvline(x=60,color='r',linestyle='--')\n",
    "# ax.xaxis.set_major_formatter(mtick.PercentFormatter())\n",
    "ax.tick_params(axis='both', labelsize=15 )\n",
    "ax.set_ylabel('features', fontsize=18)\n",
    "ax.set_xlabel('percentages (%)', fontsize=18)\n",
    "ax.set_xlim(0,100)\n",
    "\n",
    "for index, value in enumerate(y):\n",
    "    if value < 1:\n",
    "        ax.text(value, index, '{:.6f}'.format(value), color = 'red', fontweight = 'bold')\n",
    "    else:\n",
    "        ax.text(value, index, '{:.1f}'.format(value), color = 'red', fontweight = 'bold')\n",
    "plt.show()"
   ]
  },
  {
   "cell_type": "markdown",
   "metadata": {
    "tags": []
   },
   "source": [
    "## Features in `train.csv`"
   ]
  },
  {
   "cell_type": "code",
   "execution_count": 12,
   "metadata": {},
   "outputs": [
    {
     "data": {
      "text/plain": [
       "Index(['id', 'name', 'latitude', 'longitude', 'address', 'city', 'state',\n",
       "       'zip', 'country', 'url', 'phone', 'categories', 'point_of_interest'],\n",
       "      dtype='object')"
      ]
     },
     "execution_count": 12,
     "metadata": {},
     "output_type": "execute_result"
    }
   ],
   "source": [
    "df.columns"
   ]
  },
  {
   "cell_type": "markdown",
   "metadata": {
    "jp-MarkdownHeadingCollapsed": true,
    "tags": []
   },
   "source": [
    "### `id`"
   ]
  },
  {
   "cell_type": "code",
   "execution_count": 13,
   "metadata": {},
   "outputs": [
    {
     "name": "stdout",
     "output_type": "stream",
     "text": [
      "Each value in `id` is unique: True\n"
     ]
    }
   ],
   "source": [
    "# each value in `id` is unique.\n",
    "print(\"Each value in `id` is unique:\", len(df.id.unique()) == df.shape[0])"
   ]
  },
  {
   "cell_type": "markdown",
   "metadata": {
    "jp-MarkdownHeadingCollapsed": true,
    "tags": []
   },
   "source": [
    "### `latitude` and `longitude`"
   ]
  },
  {
   "cell_type": "code",
   "execution_count": 14,
   "metadata": {},
   "outputs": [
    {
     "data": {
      "image/png": "[encoded data removed]",
      "text/plain": [
       "<Figure size 1440x864 with 1 Axes>"
      ]
     },
     "metadata": {
      "needs_background": "light"
     },
     "output_type": "display_data"
    }
   ],
   "source": [
    "# simple sketch\n",
    "# fig, ax = plt.subplots(figsize=(40,25))\n",
    "# ax.scatter(df_train['longitude'],df_train['latitude'])\n",
    "# ax.set_xlabel('longitude',fontsize=40)\n",
    "# ax.set_ylabel('latitude',fontsize=40)\n",
    "# ax.tick_params(axis='both', labelsize=40)\n",
    "# ax.grid()\n",
    "# plt.show()\n",
    "\n",
    "# fancy plot\n",
    "geometry = [Point(xy) for xy in zip(df['longitude'], df['latitude'])]\n",
    "gdf = GeoDataFrame(df_train.copy(), geometry=geometry)   \n",
    "\n",
    "#this is a simple map that goes with geopandas\n",
    "world = gpd.read_file(gpd.datasets.get_path('naturalearth_lowres'))\n",
    "fig, ax = plt.subplots(figsize=(20, 12))\n",
    "world.plot(figsize=(20, 12), ax=ax)\n",
    "gdf.plot(ax=ax, marker='o', color='red', markersize=10)\n",
    "\n",
    "fig.savefig(\"./train_coords.png\")\n",
    "plt.show()"
   ]
  },
  {
   "cell_type": "markdown",
   "metadata": {
    "tags": []
   },
   "source": [
    "### `name`\n",
    "\n",
    "This column has different languages. "
   ]
  },
  {
   "cell_type": "code",
   "execution_count": 16,
   "metadata": {},
   "outputs": [
    {
     "data": {
      "text/plain": [
       "0                    Café Stad Oudenaarde\n",
       "1                          Carioca Manero\n",
       "2                        ร้านตัดผมการาเกด\n",
       "3                                Turkcell\n",
       "4                 Restaurante Casa Cofiño\n",
       "                        ...              \n",
       "1138807                              青ガエル\n",
       "1138808                      Deshon Place\n",
       "1138809    İzmir Adnan Menderes Havaalanı\n",
       "1138810                             焼肉 和家\n",
       "1138811                       Waihi Beach\n",
       "Name: name, Length: 1138812, dtype: object"
      ]
     },
     "execution_count": 16,
     "metadata": {},
     "output_type": "execute_result"
    }
   ],
   "source": [
    "df['name']"
   ]
  },
  {
   "cell_type": "code",
   "execution_count": null,
   "metadata": {},
   "outputs": [],
   "source": [
    "# Takes a few minutes.\n",
    "# flag = 0\n",
    "# lang = []\n",
    "# for row in df['name'].dropna():\n",
    "#     if flag > 20:\n",
    "#         break\n",
    "#     try:\n",
    "#         lang.append(detect(row))\n",
    "#     except:\n",
    "#         flag += 1\n",
    "#         language = \"error\"\n",
    "#         print(\"This row throws and error:\", row)\n",
    "# print(set(lang))"
   ]
  },
  {
   "cell_type": "markdown",
   "metadata": {
    "id": "dsg2f55IU4xL",
    "tags": []
   },
   "source": [
    "### How Many Languages are Present?"
   ]
  },
  {
   "cell_type": "code",
   "execution_count": 46,
   "metadata": {
    "id": "deBmZDw8U4xL",
    "outputId": "f4f29718-88d3-48c4-f538-78262ba38d0f"
   },
   "outputs": [
    {
     "name": "stderr",
     "output_type": "stream",
     "text": [
      "/var/folders/c6/0skdqs2s0ps3221n46960ds80000gn/T/ipykernel_22092/778084432.py:2: FutureWarning: The default value of regex will change from True to False in a future version.\n",
      "  name_data = df_train['name'].sample(10000).fillna('').str.replace('[{}]'.format(string.punctuation),'').str.lower()\n"
     ]
    },
    {
     "name": "stdout",
     "output_type": "stream",
     "text": [
      "3205\n",
      "5 18\n",
      "34137\n"
     ]
    }
   ],
   "source": [
    "languages = []\n",
    "name_data = df_train['name'].sample(10000).fillna('').str.replace('[{}]'.format(string.punctuation),'').str.lower()\n",
    "for item in name_data:\n",
    "    try:\n",
    "        if item != '':\n",
    "            languages.append(detect(item))\n",
    "        pass\n",
    "    except langdetect.LangDetectException as e:\n",
    "        print(item)\n",
    "        continue"
   ]
  },
  {
   "cell_type": "code",
   "execution_count": 72,
   "metadata": {},
   "outputs": [
    {
     "data": {
      "image/png": "[encoded data removed]",
      "text/plain": [
       "<Figure size 864x576 with 1 Axes>"
      ]
     },
     "metadata": {
      "needs_background": "light"
     },
     "output_type": "display_data"
    }
   ],
   "source": [
    "fig, ax = plt.subplots(figsize=(12,8))\n",
    "sns.countplot(y = languages, ax=ax, orient='v')\n",
    "ax.set_xlabel(\"count\", fontsize=18)\n",
    "ax.set_ylabel(\"language\", fontsize=18)\n",
    "ax.tick_params(labelsize=10)\n",
    "plt.show()"
   ]
  },
  {
   "cell_type": "code",
   "execution_count": 61,
   "metadata": {},
   "outputs": [
    {
     "data": {
      "text/plain": [
       "list"
      ]
     },
     "execution_count": 61,
     "metadata": {},
     "output_type": "execute_result"
    }
   ],
   "source": [
    "type(languages)"
   ]
  },
  {
   "cell_type": "code",
   "execution_count": null,
   "metadata": {
    "id": "Cr0_u8jIU4xL",
    "outputId": "3797bafd-84bc-48d6-adfa-38eaef173c4c"
   },
   "outputs": [
    {
     "data": {
      "text/plain": [
       "0.19125737721316394"
      ]
     },
     "execution_count": 54,
     "metadata": {},
     "output_type": "execute_result"
    }
   ],
   "source": [
    "languages.count('en')/len(languages)"
   ]
  },
  {
   "cell_type": "markdown",
   "metadata": {
    "id": "HtAokzKzU4xL"
   },
   "source": [
    "So roughly 20% of the sampled data is in English."
   ]
  },
  {
   "cell_type": "markdown",
   "metadata": {
    "tags": []
   },
   "source": [
    "### `country` \n",
    "\n",
    "Data availability\n"
   ]
  },
  {
   "cell_type": "code",
   "execution_count": 18,
   "metadata": {},
   "outputs": [
    {
     "name": "stdout",
     "output_type": "stream",
     "text": [
      "(10,)\n"
     ]
    },
    {
     "data": {
      "image/png": "[encoded data removed]",
      "text/plain": [
       "<Figure size 576x432 with 1 Axes>"
      ]
     },
     "metadata": {
      "needs_background": "light"
     },
     "output_type": "display_data"
    }
   ],
   "source": [
    "country_stats = df['country'].value_counts()*100/df['country'].value_counts().sum()\n",
    "country_stats = country_stats.head(10).sort_values()\n",
    "print(country_stats.shape)\n",
    "\n",
    "fig, ax = plt.subplots(figsize=(8,6))\n",
    "color = [\"gray\"]*len(country_stats.index)\n",
    "color[-1] = \"red\"\n",
    "country_stats.plot(kind = 'barh', ax = ax, color = color)\n",
    "\n",
    "ax.set_title(\"Available Data by Countries (top 10)\", fontsize = 18)\n",
    "ax.set_ylabel('country', fontsize = 18)\n",
    "ax.set_xlabel('Percentages (%)', fontsize = 18)\n",
    "plt.show()"
   ]
  },
  {
   "cell_type": "markdown",
   "metadata": {
    "jp-MarkdownHeadingCollapsed": true,
    "tags": []
   },
   "source": [
    "### `point_of_interest`"
   ]
  },
  {
   "cell_type": "code",
   "execution_count": 19,
   "metadata": {},
   "outputs": [
    {
     "data": {
      "text/plain": [
       "P_fb339198a31db3    332\n",
       "P_3a3fbd26e16269    199\n",
       "P_f70a0977377171    166\n",
       "P_9290e406eb58ac    145\n",
       "P_fbe61733fcdebe    132\n",
       "                   ... \n",
       "P_ed44fbd056eb4d      1\n",
       "P_6601e86230f550      1\n",
       "P_36404ebf8565ee      1\n",
       "P_3270f1f5b135b9      1\n",
       "P_ea6578bf39b406      1\n",
       "Name: point_of_interest, Length: 739972, dtype: int64"
      ]
     },
     "execution_count": 19,
     "metadata": {},
     "output_type": "execute_result"
    }
   ],
   "source": [
    "df['point_of_interest'].value_counts()"
   ]
  },
  {
   "cell_type": "code",
   "execution_count": 20,
   "metadata": {},
   "outputs": [
    {
     "data": {
      "text/html": [
       "<div>\n",
       "<style scoped>\n",
       "    .dataframe tbody tr th:only-of-type {\n",
       "        vertical-align: middle;\n",
       "    }\n",
       "\n",
       "    .dataframe tbody tr th {\n",
       "        vertical-align: top;\n",
       "    }\n",
       "\n",
       "    .dataframe thead th {\n",
       "        text-align: right;\n",
       "    }\n",
       "</style>\n",
       "<table border=\"1\" class=\"dataframe\">\n",
       "  <thead>\n",
       "    <tr style=\"text-align: right;\">\n",
       "      <th></th>\n",
       "      <th>id</th>\n",
       "      <th>name</th>\n",
       "      <th>latitude</th>\n",
       "      <th>longitude</th>\n",
       "      <th>address</th>\n",
       "      <th>city</th>\n",
       "      <th>state</th>\n",
       "      <th>zip</th>\n",
       "      <th>country</th>\n",
       "      <th>url</th>\n",
       "      <th>phone</th>\n",
       "      <th>categories</th>\n",
       "      <th>point_of_interest</th>\n",
       "    </tr>\n",
       "  </thead>\n",
       "  <tbody>\n",
       "    <tr>\n",
       "      <th>1517</th>\n",
       "      <td>E_005b1a6f97ca7b</td>\n",
       "      <td>Nationwide Insurance</td>\n",
       "      <td>39.962014</td>\n",
       "      <td>-82.885847</td>\n",
       "      <td>583 S Yearling Rd</td>\n",
       "      <td>Columbus</td>\n",
       "      <td>OH</td>\n",
       "      <td>43213</td>\n",
       "      <td>US</td>\n",
       "      <td>http://t.co/4eDIQ4ptQn</td>\n",
       "      <td>+16145752643</td>\n",
       "      <td>Financial or Legal Services</td>\n",
       "      <td>P_399ab9d64f2a2e</td>\n",
       "    </tr>\n",
       "    <tr>\n",
       "      <th>526905</th>\n",
       "      <td>E_7667106372e795</td>\n",
       "      <td>Nationwide Insurance - Monica M Radke</td>\n",
       "      <td>37.576416</td>\n",
       "      <td>-77.443130</td>\n",
       "      <td>11428 Belvedere Vista Ln</td>\n",
       "      <td>North Chesterfield</td>\n",
       "      <td>VA</td>\n",
       "      <td>23235</td>\n",
       "      <td>US</td>\n",
       "      <td>http://t.co/4eDIQ4ptQn</td>\n",
       "      <td>+18046585233</td>\n",
       "      <td>Financial or Legal Services</td>\n",
       "      <td>P_399ab9d64f2a2e</td>\n",
       "    </tr>\n",
       "    <tr>\n",
       "      <th>539146</th>\n",
       "      <td>E_79295816ef8549</td>\n",
       "      <td>Nationwide Insurance - Ruben Saucedo Agency</td>\n",
       "      <td>32.756500</td>\n",
       "      <td>-96.822220</td>\n",
       "      <td>1112 N Zang Blvd</td>\n",
       "      <td>Dallas</td>\n",
       "      <td>TX</td>\n",
       "      <td>75203</td>\n",
       "      <td>US</td>\n",
       "      <td>http://t.co/4eDIQ4ptQn</td>\n",
       "      <td>+12149428500</td>\n",
       "      <td>Financial or Legal Services</td>\n",
       "      <td>P_399ab9d64f2a2e</td>\n",
       "    </tr>\n",
       "    <tr>\n",
       "      <th>543303</th>\n",
       "      <td>E_7a17b3160fa7eb</td>\n",
       "      <td>Nationwide Insurance - Kent Kiesewetter</td>\n",
       "      <td>30.644263</td>\n",
       "      <td>-94.873782</td>\n",
       "      <td>8 N Main St</td>\n",
       "      <td>Kingwood</td>\n",
       "      <td>TX</td>\n",
       "      <td>77339</td>\n",
       "      <td>US</td>\n",
       "      <td>http://t.co/4eDIQ4ptQn</td>\n",
       "      <td>+12815487003</td>\n",
       "      <td>Financial or Legal Services</td>\n",
       "      <td>P_399ab9d64f2a2e</td>\n",
       "    </tr>\n",
       "    <tr>\n",
       "      <th>582169</th>\n",
       "      <td>E_82db401372a141</td>\n",
       "      <td>Nationwide Insurance - Alison Maureen Rielli A...</td>\n",
       "      <td>38.607881</td>\n",
       "      <td>-121.435018</td>\n",
       "      <td>2251 Harvard St</td>\n",
       "      <td>Sacramento</td>\n",
       "      <td>CA</td>\n",
       "      <td>95815</td>\n",
       "      <td>US</td>\n",
       "      <td>http://t.co/4eDIQ4ptQn</td>\n",
       "      <td>+19169152744</td>\n",
       "      <td>Financial or Legal Services</td>\n",
       "      <td>P_399ab9d64f2a2e</td>\n",
       "    </tr>\n",
       "  </tbody>\n",
       "</table>\n",
       "</div>"
      ],
      "text/plain": [
       "                      id                                               name  \\\n",
       "1517    E_005b1a6f97ca7b                               Nationwide Insurance   \n",
       "526905  E_7667106372e795              Nationwide Insurance - Monica M Radke   \n",
       "539146  E_79295816ef8549        Nationwide Insurance - Ruben Saucedo Agency   \n",
       "543303  E_7a17b3160fa7eb            Nationwide Insurance - Kent Kiesewetter   \n",
       "582169  E_82db401372a141  Nationwide Insurance - Alison Maureen Rielli A...   \n",
       "\n",
       "         latitude   longitude                   address                city  \\\n",
       "1517    39.962014  -82.885847         583 S Yearling Rd            Columbus   \n",
       "526905  37.576416  -77.443130  11428 Belvedere Vista Ln  North Chesterfield   \n",
       "539146  32.756500  -96.822220          1112 N Zang Blvd              Dallas   \n",
       "543303  30.644263  -94.873782               8 N Main St            Kingwood   \n",
       "582169  38.607881 -121.435018           2251 Harvard St          Sacramento   \n",
       "\n",
       "       state    zip country                     url         phone  \\\n",
       "1517      OH  43213      US  http://t.co/4eDIQ4ptQn  +16145752643   \n",
       "526905    VA  23235      US  http://t.co/4eDIQ4ptQn  +18046585233   \n",
       "539146    TX  75203      US  http://t.co/4eDIQ4ptQn  +12149428500   \n",
       "543303    TX  77339      US  http://t.co/4eDIQ4ptQn  +12815487003   \n",
       "582169    CA  95815      US  http://t.co/4eDIQ4ptQn  +19169152744   \n",
       "\n",
       "                         categories point_of_interest  \n",
       "1517    Financial or Legal Services  P_399ab9d64f2a2e  \n",
       "526905  Financial or Legal Services  P_399ab9d64f2a2e  \n",
       "539146  Financial or Legal Services  P_399ab9d64f2a2e  \n",
       "543303  Financial or Legal Services  P_399ab9d64f2a2e  \n",
       "582169  Financial or Legal Services  P_399ab9d64f2a2e  "
      ]
     },
     "execution_count": 20,
     "metadata": {},
     "output_type": "execute_result"
    }
   ],
   "source": [
    "tmp = df[df['point_of_interest']=='P_399ab9d64f2a2e'].sort_values(by='point_of_interest')\n",
    "tmp.head()"
   ]
  },
  {
   "cell_type": "code",
   "execution_count": 21,
   "metadata": {},
   "outputs": [
    {
     "data": {
      "text/html": [
       "<div>\n",
       "<style scoped>\n",
       "    .dataframe tbody tr th:only-of-type {\n",
       "        vertical-align: middle;\n",
       "    }\n",
       "\n",
       "    .dataframe tbody tr th {\n",
       "        vertical-align: top;\n",
       "    }\n",
       "\n",
       "    .dataframe thead th {\n",
       "        text-align: right;\n",
       "    }\n",
       "</style>\n",
       "<table border=\"1\" class=\"dataframe\">\n",
       "  <thead>\n",
       "    <tr style=\"text-align: right;\">\n",
       "      <th></th>\n",
       "      <th>id</th>\n",
       "      <th>name</th>\n",
       "      <th>latitude</th>\n",
       "      <th>longitude</th>\n",
       "      <th>address</th>\n",
       "      <th>city</th>\n",
       "      <th>state</th>\n",
       "      <th>zip</th>\n",
       "      <th>country</th>\n",
       "      <th>url</th>\n",
       "      <th>phone</th>\n",
       "      <th>categories</th>\n",
       "      <th>point_of_interest</th>\n",
       "    </tr>\n",
       "  </thead>\n",
       "  <tbody>\n",
       "    <tr>\n",
       "      <th>19594</th>\n",
       "      <td>E_04656287079d09</td>\n",
       "      <td>Cara J. Lasley, MD</td>\n",
       "      <td>39.779379</td>\n",
       "      <td>-75.555298</td>\n",
       "      <td>1600 Rockland Rd</td>\n",
       "      <td>Wilmington</td>\n",
       "      <td>DE</td>\n",
       "      <td>19803</td>\n",
       "      <td>US</td>\n",
       "      <td>https://findaprovider.nemours.org/details/1877...</td>\n",
       "      <td>+18004164441</td>\n",
       "      <td>Doctor's Offices</td>\n",
       "      <td>P_ce9291000a8f0b</td>\n",
       "    </tr>\n",
       "    <tr>\n",
       "      <th>647358</th>\n",
       "      <td>E_917cf32095d31e</td>\n",
       "      <td>Naomi F. Lauriello, MD</td>\n",
       "      <td>39.779379</td>\n",
       "      <td>-75.555298</td>\n",
       "      <td>1600 Rockland Rd</td>\n",
       "      <td>Wilmington</td>\n",
       "      <td>DE</td>\n",
       "      <td>19803</td>\n",
       "      <td>US</td>\n",
       "      <td>https://findaprovider.nemours.org/details/2202...</td>\n",
       "      <td>+18004164441</td>\n",
       "      <td>Doctor's Offices</td>\n",
       "      <td>P_ce9291000a8f0b</td>\n",
       "    </tr>\n",
       "    <tr>\n",
       "      <th>648768</th>\n",
       "      <td>E_91ceb13234ef44</td>\n",
       "      <td>Stephen J. Falchek, MD</td>\n",
       "      <td>39.779379</td>\n",
       "      <td>-75.555298</td>\n",
       "      <td>1600 Rockland Rd</td>\n",
       "      <td>Wilmington</td>\n",
       "      <td>DE</td>\n",
       "      <td>19803</td>\n",
       "      <td>US</td>\n",
       "      <td>https://findaprovider.nemours.org/details/973/...</td>\n",
       "      <td>+18004164441</td>\n",
       "      <td>Doctor's Offices</td>\n",
       "      <td>P_ce9291000a8f0b</td>\n",
       "    </tr>\n",
       "    <tr>\n",
       "      <th>670884</th>\n",
       "      <td>E_96b3145a11cf21</td>\n",
       "      <td>Steven L. Blumer, MD</td>\n",
       "      <td>39.779379</td>\n",
       "      <td>-75.555298</td>\n",
       "      <td>1600 Rockland Rd</td>\n",
       "      <td>Wilmington</td>\n",
       "      <td>DE</td>\n",
       "      <td>19803</td>\n",
       "      <td>US</td>\n",
       "      <td>https://findaprovider.nemours.org/details/787/...</td>\n",
       "      <td>+18004164441</td>\n",
       "      <td>Doctor's Offices</td>\n",
       "      <td>P_ce9291000a8f0b</td>\n",
       "    </tr>\n",
       "    <tr>\n",
       "      <th>675333</th>\n",
       "      <td>E_97b2cb975f93b7</td>\n",
       "      <td>Takeshi Tsuda, MD</td>\n",
       "      <td>39.779379</td>\n",
       "      <td>-75.555298</td>\n",
       "      <td>1600 Rockland Rd</td>\n",
       "      <td>Wilmington</td>\n",
       "      <td>DE</td>\n",
       "      <td>19803</td>\n",
       "      <td>US</td>\n",
       "      <td>https://findaprovider.nemours.org/details/1261...</td>\n",
       "      <td>+18004164441</td>\n",
       "      <td>Doctor's Offices</td>\n",
       "      <td>P_ce9291000a8f0b</td>\n",
       "    </tr>\n",
       "  </tbody>\n",
       "</table>\n",
       "</div>"
      ],
      "text/plain": [
       "                      id                    name   latitude  longitude  \\\n",
       "19594   E_04656287079d09      Cara J. Lasley, MD  39.779379 -75.555298   \n",
       "647358  E_917cf32095d31e  Naomi F. Lauriello, MD  39.779379 -75.555298   \n",
       "648768  E_91ceb13234ef44  Stephen J. Falchek, MD  39.779379 -75.555298   \n",
       "670884  E_96b3145a11cf21    Steven L. Blumer, MD  39.779379 -75.555298   \n",
       "675333  E_97b2cb975f93b7       Takeshi Tsuda, MD  39.779379 -75.555298   \n",
       "\n",
       "                 address        city state    zip country  \\\n",
       "19594   1600 Rockland Rd  Wilmington    DE  19803      US   \n",
       "647358  1600 Rockland Rd  Wilmington    DE  19803      US   \n",
       "648768  1600 Rockland Rd  Wilmington    DE  19803      US   \n",
       "670884  1600 Rockland Rd  Wilmington    DE  19803      US   \n",
       "675333  1600 Rockland Rd  Wilmington    DE  19803      US   \n",
       "\n",
       "                                                      url         phone  \\\n",
       "19594   https://findaprovider.nemours.org/details/1877...  +18004164441   \n",
       "647358  https://findaprovider.nemours.org/details/2202...  +18004164441   \n",
       "648768  https://findaprovider.nemours.org/details/973/...  +18004164441   \n",
       "670884  https://findaprovider.nemours.org/details/787/...  +18004164441   \n",
       "675333  https://findaprovider.nemours.org/details/1261...  +18004164441   \n",
       "\n",
       "              categories point_of_interest  \n",
       "19594   Doctor's Offices  P_ce9291000a8f0b  \n",
       "647358  Doctor's Offices  P_ce9291000a8f0b  \n",
       "648768  Doctor's Offices  P_ce9291000a8f0b  \n",
       "670884  Doctor's Offices  P_ce9291000a8f0b  \n",
       "675333  Doctor's Offices  P_ce9291000a8f0b  "
      ]
     },
     "execution_count": 21,
     "metadata": {},
     "output_type": "execute_result"
    }
   ],
   "source": [
    "tmp = df[df['point_of_interest']=='P_ce9291000a8f0b'].sort_values(by='point_of_interest')\n",
    "tmp.head()"
   ]
  },
  {
   "cell_type": "markdown",
   "metadata": {
    "tags": []
   },
   "source": [
    "# The US data in `train.csv`\n",
    "\n",
    "We focus on the US data in `train.csv` to have a smaller data set."
   ]
  },
  {
   "cell_type": "code",
   "execution_count": 22,
   "metadata": {},
   "outputs": [],
   "source": [
    "df_us = df[df['country']=='US']"
   ]
  },
  {
   "cell_type": "code",
   "execution_count": 23,
   "metadata": {},
   "outputs": [
    {
     "name": "stdout",
     "output_type": "stream",
     "text": [
      "<class 'pandas.core.frame.DataFrame'>\n",
      "Int64Index: 245284 entries, 8 to 1138808\n",
      "Data columns (total 13 columns):\n",
      " #   Column             Non-Null Count   Dtype  \n",
      "---  ------             --------------   -----  \n",
      " 0   id                 245284 non-null  object \n",
      " 1   name               245283 non-null  object \n",
      " 2   latitude           245284 non-null  float64\n",
      " 3   longitude          245284 non-null  float64\n",
      " 4   address            188824 non-null  object \n",
      " 5   city               236241 non-null  object \n",
      " 6   state              239373 non-null  object \n",
      " 7   zip                213277 non-null  object \n",
      " 8   country            245284 non-null  object \n",
      " 9   url                99477 non-null   object \n",
      " 10  phone              131597 non-null  object \n",
      " 11  categories         232133 non-null  object \n",
      " 12  point_of_interest  245284 non-null  object \n",
      "dtypes: float64(2), object(11)\n",
      "memory usage: 26.2+ MB\n"
     ]
    }
   ],
   "source": [
    "df_us.info()"
   ]
  },
  {
   "cell_type": "markdown",
   "metadata": {},
   "source": [
    "## Missing values"
   ]
  },
  {
   "cell_type": "code",
   "execution_count": 29,
   "metadata": {},
   "outputs": [
    {
     "name": "stdout",
     "output_type": "stream",
     "text": [
      "id                    0.000000\n",
      "latitude              0.000000\n",
      "longitude             0.000000\n",
      "country               0.000000\n",
      "point_of_interest     0.000000\n",
      "name                  0.000408\n",
      "state                 2.409860\n",
      "city                  3.686747\n",
      "categories            5.361540\n",
      "zip                  13.048955\n",
      "address              23.018216\n",
      "phone                46.349130\n",
      "url                  59.444155\n",
      "dtype: float64\n"
     ]
    },
    {
     "data": {
      "image/png": "[encoded data removed]",
      "text/plain": [
       "<Figure size 576x432 with 1 Axes>"
      ]
     },
     "metadata": {
      "needs_background": "light"
     },
     "output_type": "display_data"
    }
   ],
   "source": [
    "df = df_us\n",
    "# Count the missing values in each feature\n",
    "missing = df.isna().sum()/df.shape[0]*100\n",
    "print(missing.sort_values())\n",
    "\n",
    "# Plot the percentages of missing values for each feature\n",
    "import matplotlib.ticker as mtick\n",
    "tmp = df.isna().sum().sort_values()\n",
    "fig, ax = plt.subplots(figsize=(8,6))\n",
    "\n",
    "y = tmp/len(df)*100\n",
    "ax.barh(tmp.index, y, color = 'gray')\n",
    "ax.set_title(\"Missing values\", fontsize=18)\n",
    "ax.axvline(x=60,color='r',linestyle='--')\n",
    "# ax.xaxis.set_major_formatter(mtick.PercentFormatter())\n",
    "ax.tick_params(axis='both', labelsize=15 )\n",
    "ax.set_ylabel('features', fontsize=18)\n",
    "ax.set_xlabel('percentages (%)', fontsize=18)\n",
    "ax.set_xlim(0,100)\n",
    "\n",
    "for index, value in enumerate(y):\n",
    "    if value < 1:\n",
    "        ax.text(value, index, '{:.6f}'.format(value), color = 'blue', fontweight = 'bold')\n",
    "    else:\n",
    "        ax.text(value, index, '{:5.1f}'.format(value), color = 'blue', fontweight = 'bold')\n",
    "plt.show()"
   ]
  },
  {
   "cell_type": "markdown",
   "metadata": {},
   "source": [
    "Should throw away the `url` column because about 60% data are missing."
   ]
  },
  {
   "cell_type": "code",
   "execution_count": 30,
   "metadata": {},
   "outputs": [
    {
     "data": {
      "text/html": [
       "<div>\n",
       "<style scoped>\n",
       "    .dataframe tbody tr th:only-of-type {\n",
       "        vertical-align: middle;\n",
       "    }\n",
       "\n",
       "    .dataframe tbody tr th {\n",
       "        vertical-align: top;\n",
       "    }\n",
       "\n",
       "    .dataframe thead th {\n",
       "        text-align: right;\n",
       "    }\n",
       "</style>\n",
       "<table border=\"1\" class=\"dataframe\">\n",
       "  <thead>\n",
       "    <tr style=\"text-align: right;\">\n",
       "      <th></th>\n",
       "      <th>id</th>\n",
       "      <th>name</th>\n",
       "      <th>latitude</th>\n",
       "      <th>longitude</th>\n",
       "      <th>address</th>\n",
       "      <th>city</th>\n",
       "      <th>state</th>\n",
       "      <th>zip</th>\n",
       "      <th>country</th>\n",
       "      <th>url</th>\n",
       "      <th>phone</th>\n",
       "      <th>categories</th>\n",
       "      <th>point_of_interest</th>\n",
       "    </tr>\n",
       "  </thead>\n",
       "  <tbody>\n",
       "    <tr>\n",
       "      <th>45891</th>\n",
       "      <td>E_0a44b45f734139</td>\n",
       "      <td>Markham, Maerua Mall</td>\n",
       "      <td>-22.583108</td>\n",
       "      <td>17.093568</td>\n",
       "      <td>NaN</td>\n",
       "      <td>NaN</td>\n",
       "      <td>NaN</td>\n",
       "      <td>NaN</td>\n",
       "      <td>NaN</td>\n",
       "      <td>NaN</td>\n",
       "      <td>NaN</td>\n",
       "      <td>Men's Stores</td>\n",
       "      <td>P_845763d172f88e</td>\n",
       "    </tr>\n",
       "    <tr>\n",
       "      <th>201697</th>\n",
       "      <td>E_2d417f61d76741</td>\n",
       "      <td>Wernhill Park</td>\n",
       "      <td>-22.567297</td>\n",
       "      <td>17.082069</td>\n",
       "      <td>NaN</td>\n",
       "      <td>Windhoek</td>\n",
       "      <td>Khomas</td>\n",
       "      <td>NaN</td>\n",
       "      <td>NaN</td>\n",
       "      <td>NaN</td>\n",
       "      <td>NaN</td>\n",
       "      <td>Shopping Malls</td>\n",
       "      <td>P_5ffceb1c2ec3cd</td>\n",
       "    </tr>\n",
       "    <tr>\n",
       "      <th>253807</th>\n",
       "      <td>E_3900936ca2996a</td>\n",
       "      <td>Hilton Windhoek</td>\n",
       "      <td>-22.570327</td>\n",
       "      <td>17.085307</td>\n",
       "      <td>Rev. Michael Scott Street</td>\n",
       "      <td>Windhoek</td>\n",
       "      <td>Khomas</td>\n",
       "      <td>70</td>\n",
       "      <td>NaN</td>\n",
       "      <td>http://windhoek.hilton.com</td>\n",
       "      <td>612962929</td>\n",
       "      <td>NaN</td>\n",
       "      <td>P_d7df3f321a984f</td>\n",
       "    </tr>\n",
       "  </tbody>\n",
       "</table>\n",
       "</div>"
      ],
      "text/plain": [
       "                      id                  name   latitude  longitude  \\\n",
       "45891   E_0a44b45f734139  Markham, Maerua Mall -22.583108  17.093568   \n",
       "201697  E_2d417f61d76741         Wernhill Park -22.567297  17.082069   \n",
       "253807  E_3900936ca2996a       Hilton Windhoek -22.570327  17.085307   \n",
       "\n",
       "                          address      city   state  zip country  \\\n",
       "45891                         NaN       NaN     NaN  NaN     NaN   \n",
       "201697                        NaN  Windhoek  Khomas  NaN     NaN   \n",
       "253807  Rev. Michael Scott Street  Windhoek  Khomas   70     NaN   \n",
       "\n",
       "                               url      phone      categories  \\\n",
       "45891                          NaN        NaN    Men's Stores   \n",
       "201697                         NaN        NaN  Shopping Malls   \n",
       "253807  http://windhoek.hilton.com  612962929             NaN   \n",
       "\n",
       "       point_of_interest  \n",
       "45891   P_845763d172f88e  \n",
       "201697  P_5ffceb1c2ec3cd  \n",
       "253807  P_d7df3f321a984f  "
      ]
     },
     "execution_count": 30,
     "metadata": {},
     "output_type": "execute_result"
    }
   ],
   "source": [
    "df_train[df_train['country'].isna()].head(3)"
   ]
  },
  {
   "cell_type": "code",
   "execution_count": 31,
   "metadata": {},
   "outputs": [
    {
     "data": {
      "text/html": [
       "<div>\n",
       "<style scoped>\n",
       "    .dataframe tbody tr th:only-of-type {\n",
       "        vertical-align: middle;\n",
       "    }\n",
       "\n",
       "    .dataframe tbody tr th {\n",
       "        vertical-align: top;\n",
       "    }\n",
       "\n",
       "    .dataframe thead th {\n",
       "        text-align: right;\n",
       "    }\n",
       "</style>\n",
       "<table border=\"1\" class=\"dataframe\">\n",
       "  <thead>\n",
       "    <tr style=\"text-align: right;\">\n",
       "      <th></th>\n",
       "      <th>id</th>\n",
       "      <th>name</th>\n",
       "      <th>latitude</th>\n",
       "      <th>longitude</th>\n",
       "      <th>address</th>\n",
       "      <th>city</th>\n",
       "      <th>state</th>\n",
       "      <th>zip</th>\n",
       "      <th>country</th>\n",
       "      <th>url</th>\n",
       "      <th>phone</th>\n",
       "      <th>categories</th>\n",
       "      <th>point_of_interest</th>\n",
       "    </tr>\n",
       "  </thead>\n",
       "  <tbody>\n",
       "    <tr>\n",
       "      <th>750648</th>\n",
       "      <td>E_a8a20800af4423</td>\n",
       "      <td>NaN</td>\n",
       "      <td>40.822332</td>\n",
       "      <td>-96.689102</td>\n",
       "      <td>NaN</td>\n",
       "      <td>NaN</td>\n",
       "      <td>AK</td>\n",
       "      <td>NaN</td>\n",
       "      <td>US</td>\n",
       "      <td>NaN</td>\n",
       "      <td>NaN</td>\n",
       "      <td>NaN</td>\n",
       "      <td>P_be5d12315d8588</td>\n",
       "    </tr>\n",
       "  </tbody>\n",
       "</table>\n",
       "</div>"
      ],
      "text/plain": [
       "                      id name   latitude  longitude address city state  zip  \\\n",
       "750648  E_a8a20800af4423  NaN  40.822332 -96.689102     NaN  NaN    AK  NaN   \n",
       "\n",
       "       country  url phone categories point_of_interest  \n",
       "750648      US  NaN   NaN        NaN  P_be5d12315d8588  "
      ]
     },
     "execution_count": 31,
     "metadata": {},
     "output_type": "execute_result"
    }
   ],
   "source": [
    "df_train[df_train['name'].isna()].head(3)"
   ]
  },
  {
   "cell_type": "markdown",
   "metadata": {},
   "source": [
    "## Features in the US set"
   ]
  },
  {
   "cell_type": "markdown",
   "metadata": {},
   "source": [
    "### `name`"
   ]
  },
  {
   "cell_type": "code",
   "execution_count": 34,
   "metadata": {},
   "outputs": [],
   "source": [
    "# # Takes a few minutes.\n",
    "# df = df_us\n",
    "# flag = 0\n",
    "# lang = []\n",
    "# for row in df['name'].dropna():\n",
    "#     if flag > 20:\n",
    "#         break\n",
    "#     try:\n",
    "#         lang.append(detect(row))\n",
    "#     except:\n",
    "#         flag += 1\n",
    "#         language = \"error\"\n",
    "#         print(\"This row throws and error:\", row)\n",
    "# print(set(lang))"
   ]
  },
  {
   "cell_type": "code",
   "execution_count": 35,
   "metadata": {},
   "outputs": [
    {
     "data": {
      "text/plain": [
       "622268                               \"#208 \\\"Comfort Inn\\\"\"\n",
       "769105                  \"Access Health Care, LLC \\\"Adams\\\"\"\n",
       "885613                 \"Access Health Care, LLC \\\"Howell\\\"\"\n",
       "779271    \"Alfredo's Beach Club's \\\"Sunsets On The Beach...\n",
       "493745                       \"AmVets Post #2 \\\"Post Home\\\"\"\n",
       "                                ...                        \n",
       "150203                                   Kaleigh's Krib\n",
       "513853                                              Heaven\n",
       "121260                                  ﻿V Bar Ultra Lounge\n",
       "474973                                   💇 Hair By CHiiNK 💋\n",
       "750648                                                  NaN\n",
       "Name: name, Length: 245284, dtype: object"
      ]
     },
     "execution_count": 35,
     "metadata": {},
     "output_type": "execute_result"
    }
   ],
   "source": [
    "tmp = df_us['name'].sort_values()\n",
    "tmp"
   ]
  },
  {
   "cell_type": "markdown",
   "metadata": {},
   "source": [
    "### `point_of_interest`\n",
    "\n",
    "Notes on the `point_of_interest` feature:\n",
    "https://www.kaggle.com/competitions/foursquare-location-matching/discussion/318967#1783581"
   ]
  },
  {
   "cell_type": "code",
   "execution_count": 36,
   "metadata": {},
   "outputs": [
    {
     "name": "stdout",
     "output_type": "stream",
     "text": [
      "Number of (unique) POIs :   739972\n",
      "Number of (unique) ids  :  1138812\n"
     ]
    }
   ],
   "source": [
    "print('Number of (unique) POIs : {:8d}'.format(len(df_train['point_of_interest'].unique())))\n",
    "print('Number of (unique) ids  : {:8d}'.format(len(df_train['id'].unique())))"
   ]
  },
  {
   "cell_type": "code",
   "execution_count": 37,
   "metadata": {},
   "outputs": [
    {
     "data": {
      "text/plain": [
       "P_399ab9d64f2a2e    58\n",
       "P_ce9291000a8f0b    46\n",
       "P_a3fddc2f0a77e7    37\n",
       "P_d89437d5f1169c    35\n",
       "P_5cf56bf7bdf7ae    29\n",
       "P_fff25ec89e22da    28\n",
       "P_0c880e80aaa19f    26\n",
       "P_bae8584591fe1a    26\n",
       "P_1e8e17b542e178    25\n",
       "P_4efd9da6085caf    25\n",
       "Name: point_of_interest, dtype: int64"
      ]
     },
     "execution_count": 37,
     "metadata": {},
     "output_type": "execute_result"
    }
   ],
   "source": [
    "df_us['point_of_interest'].value_counts().head(10)"
   ]
  },
  {
   "cell_type": "code",
   "execution_count": 38,
   "metadata": {},
   "outputs": [
    {
     "data": {
      "text/html": [
       "<div>\n",
       "<style scoped>\n",
       "    .dataframe tbody tr th:only-of-type {\n",
       "        vertical-align: middle;\n",
       "    }\n",
       "\n",
       "    .dataframe tbody tr th {\n",
       "        vertical-align: top;\n",
       "    }\n",
       "\n",
       "    .dataframe thead th {\n",
       "        text-align: right;\n",
       "    }\n",
       "</style>\n",
       "<table border=\"1\" class=\"dataframe\">\n",
       "  <thead>\n",
       "    <tr style=\"text-align: right;\">\n",
       "      <th></th>\n",
       "      <th>name</th>\n",
       "      <th>latitude</th>\n",
       "      <th>longitude</th>\n",
       "      <th>city</th>\n",
       "      <th>state</th>\n",
       "      <th>zip</th>\n",
       "      <th>categories</th>\n",
       "      <th>point_of_interest</th>\n",
       "    </tr>\n",
       "  </thead>\n",
       "  <tbody>\n",
       "    <tr>\n",
       "      <th>642307</th>\n",
       "      <td>Gregg Steiner - Nationwide Insurance &amp; Financi...</td>\n",
       "      <td>33.607341</td>\n",
       "      <td>-117.877248</td>\n",
       "      <td>Newport Beach</td>\n",
       "      <td>CA</td>\n",
       "      <td>92660</td>\n",
       "      <td>Financial or Legal Services</td>\n",
       "      <td>P_399ab9d64f2a2e</td>\n",
       "    </tr>\n",
       "    <tr>\n",
       "      <th>268102</th>\n",
       "      <td>James S Wills Agency - Nationwide Insurance</td>\n",
       "      <td>34.002130</td>\n",
       "      <td>-81.772107</td>\n",
       "      <td>Saluda</td>\n",
       "      <td>SC</td>\n",
       "      <td>29138</td>\n",
       "      <td>NaN</td>\n",
       "      <td>P_399ab9d64f2a2e</td>\n",
       "    </tr>\n",
       "    <tr>\n",
       "      <th>1517</th>\n",
       "      <td>Nationwide Insurance</td>\n",
       "      <td>39.962014</td>\n",
       "      <td>-82.885847</td>\n",
       "      <td>Columbus</td>\n",
       "      <td>OH</td>\n",
       "      <td>43213</td>\n",
       "      <td>Financial or Legal Services</td>\n",
       "      <td>P_399ab9d64f2a2e</td>\n",
       "    </tr>\n",
       "    <tr>\n",
       "      <th>585453</th>\n",
       "      <td>Nationwide Insurance</td>\n",
       "      <td>39.280624</td>\n",
       "      <td>-76.611005</td>\n",
       "      <td>Baltimore</td>\n",
       "      <td>MD</td>\n",
       "      <td>21230</td>\n",
       "      <td>Financial or Legal Services</td>\n",
       "      <td>P_399ab9d64f2a2e</td>\n",
       "    </tr>\n",
       "    <tr>\n",
       "      <th>233839</th>\n",
       "      <td>Nationwide Insurance</td>\n",
       "      <td>41.224360</td>\n",
       "      <td>-73.071814</td>\n",
       "      <td>Milford</td>\n",
       "      <td>CT</td>\n",
       "      <td>06460</td>\n",
       "      <td>Financial or Legal Services</td>\n",
       "      <td>P_399ab9d64f2a2e</td>\n",
       "    </tr>\n",
       "    <tr>\n",
       "      <th>205941</th>\n",
       "      <td>Nationwide Insurance</td>\n",
       "      <td>35.726227</td>\n",
       "      <td>-79.465096</td>\n",
       "      <td>Siler City</td>\n",
       "      <td>NC</td>\n",
       "      <td>27344</td>\n",
       "      <td>Financial or Legal Services</td>\n",
       "      <td>P_399ab9d64f2a2e</td>\n",
       "    </tr>\n",
       "    <tr>\n",
       "      <th>1109854</th>\n",
       "      <td>Nationwide Insurance</td>\n",
       "      <td>37.771586</td>\n",
       "      <td>-122.276649</td>\n",
       "      <td>Alameda</td>\n",
       "      <td>CA</td>\n",
       "      <td>94501</td>\n",
       "      <td>Financial or Legal Services</td>\n",
       "      <td>P_399ab9d64f2a2e</td>\n",
       "    </tr>\n",
       "    <tr>\n",
       "      <th>147100</th>\n",
       "      <td>Nationwide Insurance</td>\n",
       "      <td>35.991922</td>\n",
       "      <td>-80.028573</td>\n",
       "      <td>High Point</td>\n",
       "      <td>NC</td>\n",
       "      <td>27262</td>\n",
       "      <td>Financial or Legal Services</td>\n",
       "      <td>P_399ab9d64f2a2e</td>\n",
       "    </tr>\n",
       "    <tr>\n",
       "      <th>416436</th>\n",
       "      <td>Nationwide Insurance - AOK Agency</td>\n",
       "      <td>41.594937</td>\n",
       "      <td>-83.647413</td>\n",
       "      <td>Toledo</td>\n",
       "      <td>OH</td>\n",
       "      <td>43614</td>\n",
       "      <td>Financial or Legal Services</td>\n",
       "      <td>P_399ab9d64f2a2e</td>\n",
       "    </tr>\n",
       "    <tr>\n",
       "      <th>818454</th>\n",
       "      <td>Nationwide Insurance - Alexandra Ramos Agency</td>\n",
       "      <td>40.145845</td>\n",
       "      <td>-82.945719</td>\n",
       "      <td>Westerville</td>\n",
       "      <td>OH</td>\n",
       "      <td>43082</td>\n",
       "      <td>Financial or Legal Services</td>\n",
       "      <td>P_399ab9d64f2a2e</td>\n",
       "    </tr>\n",
       "  </tbody>\n",
       "</table>\n",
       "</div>"
      ],
      "text/plain": [
       "                                                      name   latitude  \\\n",
       "642307   Gregg Steiner - Nationwide Insurance & Financi...  33.607341   \n",
       "268102         James S Wills Agency - Nationwide Insurance  34.002130   \n",
       "1517                                  Nationwide Insurance  39.962014   \n",
       "585453                                Nationwide Insurance  39.280624   \n",
       "233839                                Nationwide Insurance  41.224360   \n",
       "205941                                Nationwide Insurance  35.726227   \n",
       "1109854                               Nationwide Insurance  37.771586   \n",
       "147100                                Nationwide Insurance  35.991922   \n",
       "416436                   Nationwide Insurance - AOK Agency  41.594937   \n",
       "818454       Nationwide Insurance - Alexandra Ramos Agency  40.145845   \n",
       "\n",
       "          longitude           city state    zip                   categories  \\\n",
       "642307  -117.877248  Newport Beach    CA  92660  Financial or Legal Services   \n",
       "268102   -81.772107         Saluda    SC  29138                          NaN   \n",
       "1517     -82.885847       Columbus    OH  43213  Financial or Legal Services   \n",
       "585453   -76.611005      Baltimore    MD  21230  Financial or Legal Services   \n",
       "233839   -73.071814        Milford    CT  06460  Financial or Legal Services   \n",
       "205941   -79.465096     Siler City    NC  27344  Financial or Legal Services   \n",
       "1109854 -122.276649        Alameda    CA  94501  Financial or Legal Services   \n",
       "147100   -80.028573     High Point    NC  27262  Financial or Legal Services   \n",
       "416436   -83.647413         Toledo    OH  43614  Financial or Legal Services   \n",
       "818454   -82.945719    Westerville    OH  43082  Financial or Legal Services   \n",
       "\n",
       "        point_of_interest  \n",
       "642307   P_399ab9d64f2a2e  \n",
       "268102   P_399ab9d64f2a2e  \n",
       "1517     P_399ab9d64f2a2e  \n",
       "585453   P_399ab9d64f2a2e  \n",
       "233839   P_399ab9d64f2a2e  \n",
       "205941   P_399ab9d64f2a2e  \n",
       "1109854  P_399ab9d64f2a2e  \n",
       "147100   P_399ab9d64f2a2e  \n",
       "416436   P_399ab9d64f2a2e  \n",
       "818454   P_399ab9d64f2a2e  "
      ]
     },
     "execution_count": 38,
     "metadata": {},
     "output_type": "execute_result"
    }
   ],
   "source": [
    "# Noise: same POI with different physical places; sorted by 'name'.\n",
    "df_us.loc[df_us['point_of_interest']=='P_399ab9d64f2a2e',\n",
    "          ['name','latitude','longitude','city','state','zip','categories','point_of_interest']].sort_values(by='name').head(10)"
   ]
  },
  {
   "cell_type": "code",
   "execution_count": 39,
   "metadata": {},
   "outputs": [
    {
     "data": {
      "text/html": [
       "<div>\n",
       "<style scoped>\n",
       "    .dataframe tbody tr th:only-of-type {\n",
       "        vertical-align: middle;\n",
       "    }\n",
       "\n",
       "    .dataframe tbody tr th {\n",
       "        vertical-align: top;\n",
       "    }\n",
       "\n",
       "    .dataframe thead th {\n",
       "        text-align: right;\n",
       "    }\n",
       "</style>\n",
       "<table border=\"1\" class=\"dataframe\">\n",
       "  <thead>\n",
       "    <tr style=\"text-align: right;\">\n",
       "      <th></th>\n",
       "      <th>name</th>\n",
       "      <th>latitude</th>\n",
       "      <th>longitude</th>\n",
       "      <th>city</th>\n",
       "      <th>state</th>\n",
       "      <th>zip</th>\n",
       "      <th>categories</th>\n",
       "      <th>point_of_interest</th>\n",
       "    </tr>\n",
       "  </thead>\n",
       "  <tbody>\n",
       "    <tr>\n",
       "      <th>161948</th>\n",
       "      <td>Nationwide Insurance - Bruce Sargent Insurance...</td>\n",
       "      <td>34.262962</td>\n",
       "      <td>-92.084663</td>\n",
       "      <td>White Hall</td>\n",
       "      <td>AR</td>\n",
       "      <td>71602</td>\n",
       "      <td>Financial or Legal Services</td>\n",
       "      <td>P_399ab9d64f2a2e</td>\n",
       "    </tr>\n",
       "    <tr>\n",
       "      <th>193359</th>\n",
       "      <td>Nationwide Insurance - Gates Ins Inc</td>\n",
       "      <td>33.396255</td>\n",
       "      <td>-111.684190</td>\n",
       "      <td>Mesa</td>\n",
       "      <td>AZ</td>\n",
       "      <td>85206</td>\n",
       "      <td>Financial or Legal Services</td>\n",
       "      <td>P_399ab9d64f2a2e</td>\n",
       "    </tr>\n",
       "    <tr>\n",
       "      <th>1109854</th>\n",
       "      <td>Nationwide Insurance</td>\n",
       "      <td>37.771586</td>\n",
       "      <td>-122.276649</td>\n",
       "      <td>Alameda</td>\n",
       "      <td>CA</td>\n",
       "      <td>94501</td>\n",
       "      <td>Financial or Legal Services</td>\n",
       "      <td>P_399ab9d64f2a2e</td>\n",
       "    </tr>\n",
       "    <tr>\n",
       "      <th>642307</th>\n",
       "      <td>Gregg Steiner - Nationwide Insurance &amp; Financi...</td>\n",
       "      <td>33.607341</td>\n",
       "      <td>-117.877248</td>\n",
       "      <td>Newport Beach</td>\n",
       "      <td>CA</td>\n",
       "      <td>92660</td>\n",
       "      <td>Financial or Legal Services</td>\n",
       "      <td>P_399ab9d64f2a2e</td>\n",
       "    </tr>\n",
       "    <tr>\n",
       "      <th>582169</th>\n",
       "      <td>Nationwide Insurance - Alison Maureen Rielli A...</td>\n",
       "      <td>38.607881</td>\n",
       "      <td>-121.435018</td>\n",
       "      <td>Sacramento</td>\n",
       "      <td>CA</td>\n",
       "      <td>95815</td>\n",
       "      <td>Financial or Legal Services</td>\n",
       "      <td>P_399ab9d64f2a2e</td>\n",
       "    </tr>\n",
       "    <tr>\n",
       "      <th>52883</th>\n",
       "      <td>Nationwide Insurance - Ronald Scott Madden Agency</td>\n",
       "      <td>36.828552</td>\n",
       "      <td>-119.701050</td>\n",
       "      <td>Clovis</td>\n",
       "      <td>CA</td>\n",
       "      <td>93612</td>\n",
       "      <td>Financial or Legal Services</td>\n",
       "      <td>P_399ab9d64f2a2e</td>\n",
       "    </tr>\n",
       "    <tr>\n",
       "      <th>630340</th>\n",
       "      <td>Nationwide Insurance - Colorado Insurance Group</td>\n",
       "      <td>39.678352</td>\n",
       "      <td>-105.082184</td>\n",
       "      <td>Denver</td>\n",
       "      <td>CO</td>\n",
       "      <td>80246</td>\n",
       "      <td>Financial or Legal Services</td>\n",
       "      <td>P_399ab9d64f2a2e</td>\n",
       "    </tr>\n",
       "    <tr>\n",
       "      <th>233839</th>\n",
       "      <td>Nationwide Insurance</td>\n",
       "      <td>41.224360</td>\n",
       "      <td>-73.071814</td>\n",
       "      <td>Milford</td>\n",
       "      <td>CT</td>\n",
       "      <td>06460</td>\n",
       "      <td>Financial or Legal Services</td>\n",
       "      <td>P_399ab9d64f2a2e</td>\n",
       "    </tr>\n",
       "    <tr>\n",
       "      <th>272625</th>\n",
       "      <td>Nationwide Insurance - Bryan Slater Agency</td>\n",
       "      <td>33.740365</td>\n",
       "      <td>-84.392853</td>\n",
       "      <td>Atlanta</td>\n",
       "      <td>GA</td>\n",
       "      <td>30312</td>\n",
       "      <td>Financial or Legal Services</td>\n",
       "      <td>P_399ab9d64f2a2e</td>\n",
       "    </tr>\n",
       "    <tr>\n",
       "      <th>1009171</th>\n",
       "      <td>Nationwide Insurance - Nicholas Greene Agency</td>\n",
       "      <td>34.111238</td>\n",
       "      <td>-84.039890</td>\n",
       "      <td>Sugar Hill</td>\n",
       "      <td>GA</td>\n",
       "      <td>30518</td>\n",
       "      <td>Financial or Legal Services</td>\n",
       "      <td>P_399ab9d64f2a2e</td>\n",
       "    </tr>\n",
       "  </tbody>\n",
       "</table>\n",
       "</div>"
      ],
      "text/plain": [
       "                                                      name   latitude  \\\n",
       "161948   Nationwide Insurance - Bruce Sargent Insurance...  34.262962   \n",
       "193359                Nationwide Insurance - Gates Ins Inc  33.396255   \n",
       "1109854                               Nationwide Insurance  37.771586   \n",
       "642307   Gregg Steiner - Nationwide Insurance & Financi...  33.607341   \n",
       "582169   Nationwide Insurance - Alison Maureen Rielli A...  38.607881   \n",
       "52883    Nationwide Insurance - Ronald Scott Madden Agency  36.828552   \n",
       "630340     Nationwide Insurance - Colorado Insurance Group  39.678352   \n",
       "233839                                Nationwide Insurance  41.224360   \n",
       "272625          Nationwide Insurance - Bryan Slater Agency  33.740365   \n",
       "1009171      Nationwide Insurance - Nicholas Greene Agency  34.111238   \n",
       "\n",
       "          longitude           city state    zip                   categories  \\\n",
       "161948   -92.084663     White Hall    AR  71602  Financial or Legal Services   \n",
       "193359  -111.684190           Mesa    AZ  85206  Financial or Legal Services   \n",
       "1109854 -122.276649        Alameda    CA  94501  Financial or Legal Services   \n",
       "642307  -117.877248  Newport Beach    CA  92660  Financial or Legal Services   \n",
       "582169  -121.435018     Sacramento    CA  95815  Financial or Legal Services   \n",
       "52883   -119.701050         Clovis    CA  93612  Financial or Legal Services   \n",
       "630340  -105.082184         Denver    CO  80246  Financial or Legal Services   \n",
       "233839   -73.071814        Milford    CT  06460  Financial or Legal Services   \n",
       "272625   -84.392853        Atlanta    GA  30312  Financial or Legal Services   \n",
       "1009171  -84.039890     Sugar Hill    GA  30518  Financial or Legal Services   \n",
       "\n",
       "        point_of_interest  \n",
       "161948   P_399ab9d64f2a2e  \n",
       "193359   P_399ab9d64f2a2e  \n",
       "1109854  P_399ab9d64f2a2e  \n",
       "642307   P_399ab9d64f2a2e  \n",
       "582169   P_399ab9d64f2a2e  \n",
       "52883    P_399ab9d64f2a2e  \n",
       "630340   P_399ab9d64f2a2e  \n",
       "233839   P_399ab9d64f2a2e  \n",
       "272625   P_399ab9d64f2a2e  \n",
       "1009171  P_399ab9d64f2a2e  "
      ]
     },
     "execution_count": 39,
     "metadata": {},
     "output_type": "execute_result"
    }
   ],
   "source": [
    "# Noise: same POI with different physical places; sorted by 'state'.\n",
    "df_us.loc[df_us['point_of_interest']=='P_399ab9d64f2a2e',\n",
    "          ['name','latitude','longitude','city','state','zip','categories','point_of_interest']].sort_values(by='state').head(10)"
   ]
  },
  {
   "cell_type": "code",
   "execution_count": 40,
   "metadata": {},
   "outputs": [
    {
     "data": {
      "text/html": [
       "<div>\n",
       "<style scoped>\n",
       "    .dataframe tbody tr th:only-of-type {\n",
       "        vertical-align: middle;\n",
       "    }\n",
       "\n",
       "    .dataframe tbody tr th {\n",
       "        vertical-align: top;\n",
       "    }\n",
       "\n",
       "    .dataframe thead th {\n",
       "        text-align: right;\n",
       "    }\n",
       "</style>\n",
       "<table border=\"1\" class=\"dataframe\">\n",
       "  <thead>\n",
       "    <tr style=\"text-align: right;\">\n",
       "      <th></th>\n",
       "      <th>name</th>\n",
       "      <th>latitude</th>\n",
       "      <th>longitude</th>\n",
       "      <th>city</th>\n",
       "      <th>state</th>\n",
       "      <th>zip</th>\n",
       "      <th>categories</th>\n",
       "      <th>point_of_interest</th>\n",
       "    </tr>\n",
       "  </thead>\n",
       "  <tbody>\n",
       "    <tr>\n",
       "      <th>1109854</th>\n",
       "      <td>Nationwide Insurance</td>\n",
       "      <td>37.771586</td>\n",
       "      <td>-122.276649</td>\n",
       "      <td>Alameda</td>\n",
       "      <td>CA</td>\n",
       "      <td>94501</td>\n",
       "      <td>Financial or Legal Services</td>\n",
       "      <td>P_399ab9d64f2a2e</td>\n",
       "    </tr>\n",
       "    <tr>\n",
       "      <th>272625</th>\n",
       "      <td>Nationwide Insurance - Bryan Slater Agency</td>\n",
       "      <td>33.740365</td>\n",
       "      <td>-84.392853</td>\n",
       "      <td>Atlanta</td>\n",
       "      <td>GA</td>\n",
       "      <td>30312</td>\n",
       "      <td>Financial or Legal Services</td>\n",
       "      <td>P_399ab9d64f2a2e</td>\n",
       "    </tr>\n",
       "    <tr>\n",
       "      <th>671771</th>\n",
       "      <td>Nationwide Insurance - Corrigan Insurance Agen...</td>\n",
       "      <td>39.280465</td>\n",
       "      <td>-76.610727</td>\n",
       "      <td>Baltimore</td>\n",
       "      <td>MD</td>\n",
       "      <td>21230</td>\n",
       "      <td>Financial or Legal Services</td>\n",
       "      <td>P_399ab9d64f2a2e</td>\n",
       "    </tr>\n",
       "    <tr>\n",
       "      <th>585453</th>\n",
       "      <td>Nationwide Insurance</td>\n",
       "      <td>39.280624</td>\n",
       "      <td>-76.611005</td>\n",
       "      <td>Baltimore</td>\n",
       "      <td>MD</td>\n",
       "      <td>21230</td>\n",
       "      <td>Financial or Legal Services</td>\n",
       "      <td>P_399ab9d64f2a2e</td>\n",
       "    </tr>\n",
       "    <tr>\n",
       "      <th>472930</th>\n",
       "      <td>Nationwide Insurance - Robertson Financial Group</td>\n",
       "      <td>39.280121</td>\n",
       "      <td>-80.233749</td>\n",
       "      <td>Bridgeport</td>\n",
       "      <td>WV</td>\n",
       "      <td>26330</td>\n",
       "      <td>Financial or Legal Services</td>\n",
       "      <td>P_399ab9d64f2a2e</td>\n",
       "    </tr>\n",
       "    <tr>\n",
       "      <th>748106</th>\n",
       "      <td>Nationwide Insurance - Michael Glick Agency Inc</td>\n",
       "      <td>36.080887</td>\n",
       "      <td>-79.474373</td>\n",
       "      <td>Burlington</td>\n",
       "      <td>NC</td>\n",
       "      <td>27215</td>\n",
       "      <td>Financial or Legal Services</td>\n",
       "      <td>P_399ab9d64f2a2e</td>\n",
       "    </tr>\n",
       "    <tr>\n",
       "      <th>675426</th>\n",
       "      <td>Nationwide Insurance - Bouldin Williams Agency...</td>\n",
       "      <td>36.072111</td>\n",
       "      <td>-79.427535</td>\n",
       "      <td>Burlington</td>\n",
       "      <td>NC</td>\n",
       "      <td>27215</td>\n",
       "      <td>Financial or Legal Services</td>\n",
       "      <td>P_399ab9d64f2a2e</td>\n",
       "    </tr>\n",
       "    <tr>\n",
       "      <th>418003</th>\n",
       "      <td>Nationwide Insurance - Mcglothin Insurance And Co</td>\n",
       "      <td>39.603920</td>\n",
       "      <td>-82.918571</td>\n",
       "      <td>Circleville</td>\n",
       "      <td>OH</td>\n",
       "      <td>43113</td>\n",
       "      <td>Financial or Legal Services</td>\n",
       "      <td>P_399ab9d64f2a2e</td>\n",
       "    </tr>\n",
       "    <tr>\n",
       "      <th>52883</th>\n",
       "      <td>Nationwide Insurance - Ronald Scott Madden Agency</td>\n",
       "      <td>36.828552</td>\n",
       "      <td>-119.701050</td>\n",
       "      <td>Clovis</td>\n",
       "      <td>CA</td>\n",
       "      <td>93612</td>\n",
       "      <td>Financial or Legal Services</td>\n",
       "      <td>P_399ab9d64f2a2e</td>\n",
       "    </tr>\n",
       "    <tr>\n",
       "      <th>303528</th>\n",
       "      <td>Nationwide Insurance - Thomas S Davis</td>\n",
       "      <td>36.201122</td>\n",
       "      <td>-76.767464</td>\n",
       "      <td>Colerain</td>\n",
       "      <td>NC</td>\n",
       "      <td>27924</td>\n",
       "      <td>Financial or Legal Services</td>\n",
       "      <td>P_399ab9d64f2a2e</td>\n",
       "    </tr>\n",
       "  </tbody>\n",
       "</table>\n",
       "</div>"
      ],
      "text/plain": [
       "                                                      name   latitude  \\\n",
       "1109854                               Nationwide Insurance  37.771586   \n",
       "272625          Nationwide Insurance - Bryan Slater Agency  33.740365   \n",
       "671771   Nationwide Insurance - Corrigan Insurance Agen...  39.280465   \n",
       "585453                                Nationwide Insurance  39.280624   \n",
       "472930    Nationwide Insurance - Robertson Financial Group  39.280121   \n",
       "748106     Nationwide Insurance - Michael Glick Agency Inc  36.080887   \n",
       "675426   Nationwide Insurance - Bouldin Williams Agency...  36.072111   \n",
       "418003   Nationwide Insurance - Mcglothin Insurance And Co  39.603920   \n",
       "52883    Nationwide Insurance - Ronald Scott Madden Agency  36.828552   \n",
       "303528               Nationwide Insurance - Thomas S Davis  36.201122   \n",
       "\n",
       "          longitude         city state    zip                   categories  \\\n",
       "1109854 -122.276649      Alameda    CA  94501  Financial or Legal Services   \n",
       "272625   -84.392853      Atlanta    GA  30312  Financial or Legal Services   \n",
       "671771   -76.610727    Baltimore    MD  21230  Financial or Legal Services   \n",
       "585453   -76.611005    Baltimore    MD  21230  Financial or Legal Services   \n",
       "472930   -80.233749   Bridgeport    WV  26330  Financial or Legal Services   \n",
       "748106   -79.474373   Burlington    NC  27215  Financial or Legal Services   \n",
       "675426   -79.427535   Burlington    NC  27215  Financial or Legal Services   \n",
       "418003   -82.918571  Circleville    OH  43113  Financial or Legal Services   \n",
       "52883   -119.701050       Clovis    CA  93612  Financial or Legal Services   \n",
       "303528   -76.767464     Colerain    NC  27924  Financial or Legal Services   \n",
       "\n",
       "        point_of_interest  \n",
       "1109854  P_399ab9d64f2a2e  \n",
       "272625   P_399ab9d64f2a2e  \n",
       "671771   P_399ab9d64f2a2e  \n",
       "585453   P_399ab9d64f2a2e  \n",
       "472930   P_399ab9d64f2a2e  \n",
       "748106   P_399ab9d64f2a2e  \n",
       "675426   P_399ab9d64f2a2e  \n",
       "418003   P_399ab9d64f2a2e  \n",
       "52883    P_399ab9d64f2a2e  \n",
       "303528   P_399ab9d64f2a2e  "
      ]
     },
     "execution_count": 40,
     "metadata": {},
     "output_type": "execute_result"
    }
   ],
   "source": [
    "# Noise: same POI with different physical places; sorted by 'city'.\n",
    "df_us.loc[df_us['point_of_interest']=='P_399ab9d64f2a2e',\n",
    "          ['name','latitude','longitude','city','state','zip','categories','point_of_interest']].sort_values(by='city').head(10)\n",
    "# df_us[df_us['name']=='CVS'].sort_values(by='point_of_interest').head()"
   ]
  },
  {
   "cell_type": "markdown",
   "metadata": {
    "tags": []
   },
   "source": [
    "### `state`"
   ]
  },
  {
   "cell_type": "code",
   "execution_count": 42,
   "metadata": {},
   "outputs": [
    {
     "data": {
      "text/plain": [
       "array(['CA', 'GA', 'NM', 'FL', 'PA', 'VA', 'NJ', 'OH', 'WI', 'MO', 'SC',\n",
       "       'TN', 'OR', 'AZ', 'TX', 'MD', 'NY', 'MI', 'MA', 'NC', 'UT', 'IN',\n",
       "       'IL', nan, 'Calif', 'NV', 'KS', 'MS', 'WA', 'AL', 'OK', 'AR', 'CT',\n",
       "       'KY', 'NE', 'WV', 'CO', 'HI', 'ID', 'LA', 'MN', 'MT', 'ME', 'NH',\n",
       "       'nv', 'WY', 'IA', 'DE', 'RI', 'VT', 'il', 'ND', 'AK', 'DC', 'SD',\n",
       "       'D.C.', 'Ia', 'Ohio', 'Nj', 'Georgia', 'Nc', 'de', 'New York',\n",
       "       'New Jersey', 'Ca', 'texas', 'Pa', 'Missouri', 'pa', 'Tx',\n",
       "       'Connecticut', 'Ok', 'co', 'wi', 'Va', 'Az', 'ca',\n",
       "       'North Carolina', 'Tennessee', 'Pennsylvania', 'Florida',\n",
       "       'Massachusetts', 'tx', 'Kansas', 'Ny', 'Ga', 'Virginia', 'fl',\n",
       "       'Tamaulipas', 'LOUISIANA', 'nc', 'Il', 'California', 'Ma', 'PR',\n",
       "       'wa', 'Maryland', 'ny', 'Illinois', 'District of Columbia', 'Iowa',\n",
       "       'Texas', 'CE', 'Wisconsin', 'Fl', 'mi', 'az', 'Arkansas',\n",
       "       'Capital Region of Denmark', 'Minnesota', 'Md', 'Tn',\n",
       "       'Mississippi', 'Idaho', 'Oregon', 'Mo', 'In', 'Or', 'Kentucky',\n",
       "       'Co', 'ky', 'nj', 'al', 'Alabama', 'Ky', 'Oklahoma', 'Ct', 'oh',\n",
       "       'New york', 'Nebraska', 'Indiana', 'BCN', 'Louisiana', 'Al', 'Ks',\n",
       "       'Delaware', 'Colorado', 'florida', 'Vermont', 'va', 'Arizona',\n",
       "       'Michigan', 'South Carolina', 'georgia', 'Baja California', 'mn',\n",
       "       'Me', 'in', 'ga', 'Oh', 'Washington', 'Nevada', 'Wv', 'ks',\n",
       "       'ON/NY', 'Mi', 'Mn', 'North Dakota', 'sc', 'dc', 'vt',\n",
       "       'West Virginia', 'NU', 'La', 'ohio', 'New Mexico', 'London', 'or',\n",
       "       'Sc', 'md', 'ar', 'South Dakota', 'ma', 'Nv', '国外', 'UK', 'Ri',\n",
       "       'tn', 'Wa', 'Hawaii', 'la', 'Wi', 'ct'], dtype=object)"
      ]
     },
     "execution_count": 42,
     "metadata": {},
     "output_type": "execute_result"
    }
   ],
   "source": [
    "df_us['state'].unique()"
   ]
  },
  {
   "cell_type": "code",
   "execution_count": 43,
   "metadata": {},
   "outputs": [
    {
     "data": {
      "text/html": [
       "<div>\n",
       "<style scoped>\n",
       "    .dataframe tbody tr th:only-of-type {\n",
       "        vertical-align: middle;\n",
       "    }\n",
       "\n",
       "    .dataframe tbody tr th {\n",
       "        vertical-align: top;\n",
       "    }\n",
       "\n",
       "    .dataframe thead th {\n",
       "        text-align: right;\n",
       "    }\n",
       "</style>\n",
       "<table border=\"1\" class=\"dataframe\">\n",
       "  <thead>\n",
       "    <tr style=\"text-align: right;\">\n",
       "      <th></th>\n",
       "      <th>id</th>\n",
       "      <th>name</th>\n",
       "      <th>latitude</th>\n",
       "      <th>longitude</th>\n",
       "      <th>address</th>\n",
       "      <th>city</th>\n",
       "      <th>state</th>\n",
       "      <th>zip</th>\n",
       "      <th>country</th>\n",
       "      <th>url</th>\n",
       "      <th>phone</th>\n",
       "      <th>categories</th>\n",
       "      <th>point_of_interest</th>\n",
       "    </tr>\n",
       "  </thead>\n",
       "  <tbody>\n",
       "    <tr>\n",
       "      <th>75113</th>\n",
       "      <td>E_10d0a514fabcc6</td>\n",
       "      <td>AutoZone</td>\n",
       "      <td>26.080340</td>\n",
       "      <td>-98.304671</td>\n",
       "      <td>Blvd. Hidalgo # 1750 Col. Morelos</td>\n",
       "      <td>Reynosa</td>\n",
       "      <td>Tamaulipas</td>\n",
       "      <td>88651</td>\n",
       "      <td>US</td>\n",
       "      <td>https://www.autozone.com.mx</td>\n",
       "      <td>8999238990</td>\n",
       "      <td>Automotive Shops</td>\n",
       "      <td>P_caaec985490160</td>\n",
       "    </tr>\n",
       "    <tr>\n",
       "      <th>153657</th>\n",
       "      <td>E_226eb110eb0a4e</td>\n",
       "      <td>Evevideo 8</td>\n",
       "      <td>40.771182</td>\n",
       "      <td>-73.977953</td>\n",
       "      <td>Av Pedro Alves</td>\n",
       "      <td>Acopiara</td>\n",
       "      <td>CE</td>\n",
       "      <td>63560-000</td>\n",
       "      <td>US</td>\n",
       "      <td>NaN</td>\n",
       "      <td>NaN</td>\n",
       "      <td>Conferences</td>\n",
       "      <td>P_ac5a6fb63841d4</td>\n",
       "    </tr>\n",
       "    <tr>\n",
       "      <th>182570</th>\n",
       "      <td>E_28f6a8c1810d42</td>\n",
       "      <td>Copenhagen Airport (CPH)</td>\n",
       "      <td>55.613190</td>\n",
       "      <td>12.647946</td>\n",
       "      <td>NaN</td>\n",
       "      <td>Copenhagen</td>\n",
       "      <td>Capital Region of Denmark</td>\n",
       "      <td>NaN</td>\n",
       "      <td>US</td>\n",
       "      <td>NaN</td>\n",
       "      <td>NaN</td>\n",
       "      <td>Airports</td>\n",
       "      <td>P_de322dff6e3a8b</td>\n",
       "    </tr>\n",
       "    <tr>\n",
       "      <th>251224</th>\n",
       "      <td>E_3869cbc132af4a</td>\n",
       "      <td>Evevideo 1</td>\n",
       "      <td>40.770792</td>\n",
       "      <td>-73.976183</td>\n",
       "      <td>Av Pedro Alves</td>\n",
       "      <td>Acopiara</td>\n",
       "      <td>CE</td>\n",
       "      <td>63560-000</td>\n",
       "      <td>US</td>\n",
       "      <td>NaN</td>\n",
       "      <td>NaN</td>\n",
       "      <td>Conferences</td>\n",
       "      <td>P_ac5a6fb63841d4</td>\n",
       "    </tr>\n",
       "    <tr>\n",
       "      <th>295772</th>\n",
       "      <td>E_426b4d3c7f12cf</td>\n",
       "      <td>Evevideo 7</td>\n",
       "      <td>40.771361</td>\n",
       "      <td>-73.977191</td>\n",
       "      <td>Av Pedro Alves</td>\n",
       "      <td>Acopiara</td>\n",
       "      <td>CE</td>\n",
       "      <td>63560-000</td>\n",
       "      <td>US</td>\n",
       "      <td>NaN</td>\n",
       "      <td>NaN</td>\n",
       "      <td>Conferences</td>\n",
       "      <td>P_ac5a6fb63841d4</td>\n",
       "    </tr>\n",
       "    <tr>\n",
       "      <th>361799</th>\n",
       "      <td>E_514da8554757c7</td>\n",
       "      <td>Dulceria Alejandra</td>\n",
       "      <td>32.659417</td>\n",
       "      <td>-115.486806</td>\n",
       "      <td>NaN</td>\n",
       "      <td>Mexicali</td>\n",
       "      <td>BCN</td>\n",
       "      <td>NaN</td>\n",
       "      <td>US</td>\n",
       "      <td>NaN</td>\n",
       "      <td>NaN</td>\n",
       "      <td>Candy Stores</td>\n",
       "      <td>P_363b19f021fb6f</td>\n",
       "    </tr>\n",
       "    <tr>\n",
       "      <th>600387</th>\n",
       "      <td>E_86ee21433a06ce</td>\n",
       "      <td>Canada / US Border</td>\n",
       "      <td>42.907269</td>\n",
       "      <td>-78.907035</td>\n",
       "      <td>Peace Bridge</td>\n",
       "      <td>Fort Erie/Buffalo</td>\n",
       "      <td>ON/NY</td>\n",
       "      <td>NaN</td>\n",
       "      <td>US</td>\n",
       "      <td>NaN</td>\n",
       "      <td>NaN</td>\n",
       "      <td>Border Crossings</td>\n",
       "      <td>P_856fc237546080</td>\n",
       "    </tr>\n",
       "    <tr>\n",
       "      <th>738444</th>\n",
       "      <td>E_a5e59da858ec99</td>\n",
       "      <td>Wegmans Pharmacy</td>\n",
       "      <td>42.145954</td>\n",
       "      <td>-77.062603</td>\n",
       "      <td>24 S. Bridge St.</td>\n",
       "      <td>Corning</td>\n",
       "      <td>NU</td>\n",
       "      <td>14830</td>\n",
       "      <td>US</td>\n",
       "      <td>NaN</td>\n",
       "      <td>NaN</td>\n",
       "      <td>Pharmacies</td>\n",
       "      <td>P_fcf4397457178a</td>\n",
       "    </tr>\n",
       "    <tr>\n",
       "      <th>886639</th>\n",
       "      <td>E_c72776cf1d131b</td>\n",
       "      <td>boiling crab</td>\n",
       "      <td>37.302755</td>\n",
       "      <td>-121.864208</td>\n",
       "      <td>1631 E Capitol Expy San Jose, CA 95121-1826 (4...</td>\n",
       "      <td>海外</td>\n",
       "      <td>国外</td>\n",
       "      <td>95121</td>\n",
       "      <td>US</td>\n",
       "      <td>NaN</td>\n",
       "      <td>NaN</td>\n",
       "      <td>NaN</td>\n",
       "      <td>P_0cc38b5ae552c4</td>\n",
       "    </tr>\n",
       "    <tr>\n",
       "      <th>918520</th>\n",
       "      <td>E_ce51ff08bea33e</td>\n",
       "      <td>Albemarle Art Gallery, London UK</td>\n",
       "      <td>33.636645</td>\n",
       "      <td>-84.437706</td>\n",
       "      <td>Albermarle</td>\n",
       "      <td>London</td>\n",
       "      <td>UK</td>\n",
       "      <td>NaN</td>\n",
       "      <td>US</td>\n",
       "      <td>NaN</td>\n",
       "      <td>NaN</td>\n",
       "      <td>NaN</td>\n",
       "      <td>P_a2569d6f26dd5c</td>\n",
       "    </tr>\n",
       "  </tbody>\n",
       "</table>\n",
       "</div>"
      ],
      "text/plain": [
       "                      id                              name   latitude  \\\n",
       "75113   E_10d0a514fabcc6                          AutoZone  26.080340   \n",
       "153657  E_226eb110eb0a4e                        Evevideo 8  40.771182   \n",
       "182570  E_28f6a8c1810d42          Copenhagen Airport (CPH)  55.613190   \n",
       "251224  E_3869cbc132af4a                        Evevideo 1  40.770792   \n",
       "295772  E_426b4d3c7f12cf                        Evevideo 7  40.771361   \n",
       "361799  E_514da8554757c7                Dulceria Alejandra  32.659417   \n",
       "600387  E_86ee21433a06ce                Canada / US Border  42.907269   \n",
       "738444  E_a5e59da858ec99                  Wegmans Pharmacy  42.145954   \n",
       "886639  E_c72776cf1d131b                      boiling crab  37.302755   \n",
       "918520  E_ce51ff08bea33e  Albemarle Art Gallery, London UK  33.636645   \n",
       "\n",
       "         longitude                                            address  \\\n",
       "75113   -98.304671                  Blvd. Hidalgo # 1750 Col. Morelos   \n",
       "153657  -73.977953                                     Av Pedro Alves   \n",
       "182570   12.647946                                                NaN   \n",
       "251224  -73.976183                                     Av Pedro Alves   \n",
       "295772  -73.977191                                     Av Pedro Alves   \n",
       "361799 -115.486806                                                NaN   \n",
       "600387  -78.907035                                       Peace Bridge   \n",
       "738444  -77.062603                                   24 S. Bridge St.   \n",
       "886639 -121.864208  1631 E Capitol Expy San Jose, CA 95121-1826 (4...   \n",
       "918520  -84.437706                                         Albermarle   \n",
       "\n",
       "                     city                      state        zip country  \\\n",
       "75113             Reynosa                 Tamaulipas      88651      US   \n",
       "153657           Acopiara                         CE  63560-000      US   \n",
       "182570         Copenhagen  Capital Region of Denmark        NaN      US   \n",
       "251224           Acopiara                         CE  63560-000      US   \n",
       "295772           Acopiara                         CE  63560-000      US   \n",
       "361799           Mexicali                        BCN        NaN      US   \n",
       "600387  Fort Erie/Buffalo                      ON/NY        NaN      US   \n",
       "738444            Corning                         NU      14830      US   \n",
       "886639                 海外                         国外      95121      US   \n",
       "918520             London                         UK        NaN      US   \n",
       "\n",
       "                                url       phone        categories  \\\n",
       "75113   https://www.autozone.com.mx  8999238990  Automotive Shops   \n",
       "153657                          NaN         NaN       Conferences   \n",
       "182570                          NaN         NaN          Airports   \n",
       "251224                          NaN         NaN       Conferences   \n",
       "295772                          NaN         NaN       Conferences   \n",
       "361799                          NaN         NaN      Candy Stores   \n",
       "600387                          NaN         NaN  Border Crossings   \n",
       "738444                          NaN         NaN        Pharmacies   \n",
       "886639                          NaN         NaN               NaN   \n",
       "918520                          NaN         NaN               NaN   \n",
       "\n",
       "       point_of_interest  \n",
       "75113   P_caaec985490160  \n",
       "153657  P_ac5a6fb63841d4  \n",
       "182570  P_de322dff6e3a8b  \n",
       "251224  P_ac5a6fb63841d4  \n",
       "295772  P_ac5a6fb63841d4  \n",
       "361799  P_363b19f021fb6f  \n",
       "600387  P_856fc237546080  \n",
       "738444  P_fcf4397457178a  \n",
       "886639  P_0cc38b5ae552c4  \n",
       "918520  P_a2569d6f26dd5c  "
      ]
     },
     "execution_count": 43,
     "metadata": {},
     "output_type": "execute_result"
    }
   ],
   "source": [
    "# Drop these.\n",
    "filter_set = ['国外','UK','CE','ON/NY','Capital Region of Denmark','BCN','Tamaulipas','NU']\n",
    "df_us[df_us['state'].isin(filter_set)]"
   ]
  },
  {
   "cell_type": "markdown",
   "metadata": {},
   "source": [
    "### `categories`"
   ]
  },
  {
   "cell_type": "code",
   "execution_count": 44,
   "metadata": {},
   "outputs": [
    {
     "data": {
      "text/plain": [
       "254755                                 Ethiopian Restaurants\n",
       "236277                               Home Services & Repairs\n",
       "579231                                             Breweries\n",
       "26639                            Financial or Legal Services\n",
       "594782                                  Salons / Barbershops\n",
       "636770                                               Offices\n",
       "791308                                       Gyms, Buildings\n",
       "1009860                                Ethiopian Restaurants\n",
       "536059          Gas Stations, Car Washes, Convenience Stores\n",
       "576858                                   Seafood Restaurants\n",
       "881716                                                 Parks\n",
       "1037774                                             Churches\n",
       "831371                Mobile Phone Shops, Electronics Stores\n",
       "90861                                             Cemeteries\n",
       "81684                                             Wine Shops\n",
       "241994                                      Doctor's Offices\n",
       "791614                              Meeting Rooms, Ballrooms\n",
       "943347                                    Recreation Centers\n",
       "339546                                          Pizza Places\n",
       "775158                                   Persian Restaurants\n",
       "1084916                       Big Box Stores, Grocery Stores\n",
       "594652                      Gas Stations, Convenience Stores\n",
       "636130     Residential Buildings (Apartments / Condos), B...\n",
       "1106445                                         Gas Stations\n",
       "228560        Convenience Stores, Pizza Places, Gas Stations\n",
       "1127744         Big Box Stores, Supermarkets, Grocery Stores\n",
       "973458                                         Chiropractors\n",
       "521224                Restaurants, Speakeasies, Music Venues\n",
       "666279                                   Miscellaneous Shops\n",
       "102803                                             Libraries\n",
       "Name: categories, dtype: object"
      ]
     },
     "execution_count": 44,
     "metadata": {},
     "output_type": "execute_result"
    }
   ],
   "source": [
    "df_us.categories.sample(30)"
   ]
  },
  {
   "cell_type": "code",
   "execution_count": null,
   "metadata": {},
   "outputs": [],
   "source": []
  },
  {
   "cell_type": "code",
   "execution_count": null,
   "metadata": {},
   "outputs": [],
   "source": []
  },
  {
   "cell_type": "code",
   "execution_count": null,
   "metadata": {},
   "outputs": [],
   "source": []
  },
  {
   "cell_type": "code",
   "execution_count": null,
   "metadata": {},
   "outputs": [],
   "source": []
  },
  {
   "cell_type": "code",
   "execution_count": null,
   "metadata": {},
   "outputs": [],
   "source": []
  },
  {
   "cell_type": "code",
   "execution_count": null,
   "metadata": {},
   "outputs": [],
   "source": []
  },
  {
   "cell_type": "markdown",
   "metadata": {
    "id": "outOvIIAU4xM"
   },
   "source": [
    "## The US data"
   ]
  },
  {
   "cell_type": "code",
   "execution_count": null,
   "metadata": {
    "id": "5bogvEdsU4xM"
   },
   "outputs": [],
   "source": [
    "df_us = df_train[df_train['country']=='US']"
   ]
  },
  {
   "cell_type": "code",
   "execution_count": null,
   "metadata": {
    "id": "6x4BsFeWU4xN",
    "outputId": "185602cd-5ec0-46ba-ad85-57e5270166fc"
   },
   "outputs": [
    {
     "name": "stdout",
     "output_type": "stream",
     "text": [
      "<class 'pandas.core.frame.DataFrame'>\n",
      "Int64Index: 245284 entries, 8 to 1138808\n",
      "Data columns (total 13 columns):\n",
      " #   Column             Non-Null Count   Dtype  \n",
      "---  ------             --------------   -----  \n",
      " 0   id                 245284 non-null  object \n",
      " 1   name               245283 non-null  object \n",
      " 2   latitude           245284 non-null  float64\n",
      " 3   longitude          245284 non-null  float64\n",
      " 4   address            188824 non-null  object \n",
      " 5   city               236241 non-null  object \n",
      " 6   state              239373 non-null  object \n",
      " 7   zip                213277 non-null  object \n",
      " 8   country            245284 non-null  object \n",
      " 9   url                99477 non-null   object \n",
      " 10  phone              131597 non-null  object \n",
      " 11  categories         232133 non-null  object \n",
      " 12  point_of_interest  245284 non-null  object \n",
      "dtypes: float64(2), object(11)\n",
      "memory usage: 26.2+ MB\n"
     ]
    }
   ],
   "source": [
    "df_us.info()"
   ]
  },
  {
   "cell_type": "code",
   "execution_count": null,
   "metadata": {
    "id": "6NFk48mHU4xN",
    "outputId": "9d61bd58-a318-4453-86fe-3dd65cef4d67"
   },
   "outputs": [
    {
     "data": {
      "image/png": "[encoded data removed]",
      "text/plain": [
       "<Figure size 2880x720 with 1 Axes>"
      ]
     },
     "metadata": {
      "needs_background": "light"
     },
     "output_type": "display_data"
    }
   ],
   "source": [
    "fig, ax = plt.subplots(figsize=(40,10))\n",
    "ax.scatter(df_us['longitude'],df_us['latitude'])\n",
    "ax.set_xlabel('longitude',fontsize=40)\n",
    "ax.set_ylabel('latitude',fontsize=40)\n",
    "ax.tick_params(axis='both', labelsize=40)\n",
    "ax.set_title('US data',fontsize=40)\n",
    "ax.grid()\n",
    "plt.show()"
   ]
  },
  {
   "cell_type": "code",
   "execution_count": null,
   "metadata": {
    "id": "deEfey_EU4xN",
    "outputId": "580c35b4-3ff7-409d-fbe7-dbc28b8e2992"
   },
   "outputs": [
    {
     "data": {
      "text/html": [
       "<div>\n",
       "<style scoped>\n",
       "    .dataframe tbody tr th:only-of-type {\n",
       "        vertical-align: middle;\n",
       "    }\n",
       "\n",
       "    .dataframe tbody tr th {\n",
       "        vertical-align: top;\n",
       "    }\n",
       "\n",
       "    .dataframe thead th {\n",
       "        text-align: right;\n",
       "    }\n",
       "</style>\n",
       "<table border=\"1\" class=\"dataframe\">\n",
       "  <thead>\n",
       "    <tr style=\"text-align: right;\">\n",
       "      <th></th>\n",
       "      <th>id</th>\n",
       "      <th>name</th>\n",
       "      <th>latitude</th>\n",
       "      <th>longitude</th>\n",
       "      <th>address</th>\n",
       "      <th>city</th>\n",
       "      <th>state</th>\n",
       "      <th>zip</th>\n",
       "      <th>country</th>\n",
       "      <th>url</th>\n",
       "      <th>phone</th>\n",
       "      <th>categories</th>\n",
       "      <th>point_of_interest</th>\n",
       "    </tr>\n",
       "  </thead>\n",
       "  <tbody>\n",
       "    <tr>\n",
       "      <th>182570</th>\n",
       "      <td>E_28f6a8c1810d42</td>\n",
       "      <td>Copenhagen Airport (CPH)</td>\n",
       "      <td>55.613190</td>\n",
       "      <td>12.647946</td>\n",
       "      <td>NaN</td>\n",
       "      <td>Copenhagen</td>\n",
       "      <td>Capital Region of Denmark</td>\n",
       "      <td>NaN</td>\n",
       "      <td>US</td>\n",
       "      <td>NaN</td>\n",
       "      <td>NaN</td>\n",
       "      <td>Airports</td>\n",
       "      <td>P_de322dff6e3a8b</td>\n",
       "    </tr>\n",
       "    <tr>\n",
       "      <th>411088</th>\n",
       "      <td>E_5c62949becf17d</td>\n",
       "      <td>u.s. post office. Roland Park, Maryland</td>\n",
       "      <td>51.227604</td>\n",
       "      <td>-0.322765</td>\n",
       "      <td>Deepdene Avenue</td>\n",
       "      <td>NaN</td>\n",
       "      <td>NaN</td>\n",
       "      <td>NaN</td>\n",
       "      <td>US</td>\n",
       "      <td>http://www.postoffice.co.uk</td>\n",
       "      <td>NaN</td>\n",
       "      <td>Post Offices</td>\n",
       "      <td>P_c15c1ca3fd79fc</td>\n",
       "    </tr>\n",
       "    <tr>\n",
       "      <th>802054</th>\n",
       "      <td>E_b41d3d0482fa69</td>\n",
       "      <td>The App Business</td>\n",
       "      <td>51.531921</td>\n",
       "      <td>-0.119336</td>\n",
       "      <td>71 Collier Street</td>\n",
       "      <td>London</td>\n",
       "      <td>London</td>\n",
       "      <td>N1 9BE</td>\n",
       "      <td>US</td>\n",
       "      <td>http://www.theappbusiness.com</td>\n",
       "      <td>+442036579785</td>\n",
       "      <td>Tech Startups</td>\n",
       "      <td>P_91619d1673cbad</td>\n",
       "    </tr>\n",
       "    <tr>\n",
       "      <th>973858</th>\n",
       "      <td>E_dac30d0d02c283</td>\n",
       "      <td>Ashley HomeStore</td>\n",
       "      <td>47.492458</td>\n",
       "      <td>111.230481</td>\n",
       "      <td>4500 10th Ave S</td>\n",
       "      <td>Great Falls</td>\n",
       "      <td>MT</td>\n",
       "      <td>59405</td>\n",
       "      <td>US</td>\n",
       "      <td>https://stores.ashleyfurniture.com/store/us/mo...</td>\n",
       "      <td>4069521950</td>\n",
       "      <td>Furniture / Home Stores</td>\n",
       "      <td>P_445cfb4d88156e</td>\n",
       "    </tr>\n",
       "    <tr>\n",
       "      <th>1067601</th>\n",
       "      <td>E_eff18c64b0035b</td>\n",
       "      <td>Caffè Nero</td>\n",
       "      <td>41.068343</td>\n",
       "      <td>29.006095</td>\n",
       "      <td>Büyükdere Caddesi Astoria Alışveriş Merkezi Es...</td>\n",
       "      <td>İstanbul</td>\n",
       "      <td>NaN</td>\n",
       "      <td>NaN</td>\n",
       "      <td>US</td>\n",
       "      <td>NaN</td>\n",
       "      <td>NaN</td>\n",
       "      <td>Coffee Shops</td>\n",
       "      <td>P_03e3feca1ddcc5</td>\n",
       "    </tr>\n",
       "  </tbody>\n",
       "</table>\n",
       "</div>"
      ],
      "text/plain": [
       "                       id                                     name   latitude  \\\n",
       "182570   E_28f6a8c1810d42                 Copenhagen Airport (CPH)  55.613190   \n",
       "411088   E_5c62949becf17d  u.s. post office. Roland Park, Maryland  51.227604   \n",
       "802054   E_b41d3d0482fa69                         The App Business  51.531921   \n",
       "973858   E_dac30d0d02c283                         Ashley HomeStore  47.492458   \n",
       "1067601  E_eff18c64b0035b                               Caffè Nero  41.068343   \n",
       "\n",
       "          longitude                                            address  \\\n",
       "182570    12.647946                                                NaN   \n",
       "411088    -0.322765                                    Deepdene Avenue   \n",
       "802054    -0.119336                                  71 Collier Street   \n",
       "973858   111.230481                                    4500 10th Ave S   \n",
       "1067601   29.006095  Büyükdere Caddesi Astoria Alışveriş Merkezi Es...   \n",
       "\n",
       "                city                      state     zip country  \\\n",
       "182570    Copenhagen  Capital Region of Denmark     NaN      US   \n",
       "411088           NaN                        NaN     NaN      US   \n",
       "802054        London                     London  N1 9BE      US   \n",
       "973858   Great Falls                         MT   59405      US   \n",
       "1067601     İstanbul                        NaN     NaN      US   \n",
       "\n",
       "                                                       url          phone  \\\n",
       "182570                                                 NaN            NaN   \n",
       "411088                         http://www.postoffice.co.uk            NaN   \n",
       "802054                       http://www.theappbusiness.com  +442036579785   \n",
       "973858   https://stores.ashleyfurniture.com/store/us/mo...     4069521950   \n",
       "1067601                                                NaN            NaN   \n",
       "\n",
       "                      categories point_of_interest  \n",
       "182570                  Airports  P_de322dff6e3a8b  \n",
       "411088              Post Offices  P_c15c1ca3fd79fc  \n",
       "802054             Tech Startups  P_91619d1673cbad  \n",
       "973858   Furniture / Home Stores  P_445cfb4d88156e  \n",
       "1067601             Coffee Shops  P_03e3feca1ddcc5  "
      ]
     },
     "execution_count": 25,
     "metadata": {},
     "output_type": "execute_result"
    }
   ],
   "source": [
    "df_us[df_us['longitude']>-50]"
   ]
  },
  {
   "cell_type": "markdown",
   "metadata": {
    "id": "T6_CxSi5U4xN"
   },
   "source": [
    "# Exploring and Manipulating `pairs.csv`\n",
    "\n",
    "The file `pairs.csv` is a subset of pairs from `train.csv`. The value of `match` is \"True\" if an only if the pair has the same `point_of_interest` (POI) value in `train.csv`. We will focus on the US pairs. "
   ]
  },
  {
   "cell_type": "markdown",
   "metadata": {
    "id": "CkQkT7NvU4xN"
   },
   "source": [
    "## Loading the Pairs Dataset"
   ]
  },
  {
   "cell_type": "code",
   "execution_count": 83,
   "metadata": {
    "id": "U3nKi21PU4xN"
   },
   "outputs": [],
   "source": [
    "# # Tim loading\n",
    "# df_pairs = pd.read_csv(r'C:\\Users\\gorma\\OneDrive\\Documents\\Erdos\\foursquare-location-matching\\data_raw\\pairs.csv')\n",
    "# Yu loading\n",
    "df_pairs = pd.read_csv('../../code-2022/final_project/data-foursquare-location-matching/pairs.csv')"
   ]
  },
  {
   "cell_type": "code",
   "execution_count": 84,
   "metadata": {
    "collapsed": true,
    "id": "Qo_BdR09U4xO",
    "jupyter": {
     "outputs_hidden": true
    },
    "outputId": "8aeb2c42-d1d2-4ef6-d6c7-8c4bd2d2d96e",
    "tags": []
   },
   "outputs": [
    {
     "data": {
      "text/html": [
       "<div>\n",
       "<style scoped>\n",
       "    .dataframe tbody tr th:only-of-type {\n",
       "        vertical-align: middle;\n",
       "    }\n",
       "\n",
       "    .dataframe tbody tr th {\n",
       "        vertical-align: top;\n",
       "    }\n",
       "\n",
       "    .dataframe thead th {\n",
       "        text-align: right;\n",
       "    }\n",
       "</style>\n",
       "<table border=\"1\" class=\"dataframe\">\n",
       "  <thead>\n",
       "    <tr style=\"text-align: right;\">\n",
       "      <th></th>\n",
       "      <th>id_1</th>\n",
       "      <th>name_1</th>\n",
       "      <th>latitude_1</th>\n",
       "      <th>longitude_1</th>\n",
       "      <th>address_1</th>\n",
       "      <th>city_1</th>\n",
       "      <th>state_1</th>\n",
       "      <th>zip_1</th>\n",
       "      <th>country_1</th>\n",
       "      <th>url_1</th>\n",
       "      <th>...</th>\n",
       "      <th>longitude_2</th>\n",
       "      <th>address_2</th>\n",
       "      <th>city_2</th>\n",
       "      <th>state_2</th>\n",
       "      <th>zip_2</th>\n",
       "      <th>country_2</th>\n",
       "      <th>url_2</th>\n",
       "      <th>phone_2</th>\n",
       "      <th>categories_2</th>\n",
       "      <th>match</th>\n",
       "    </tr>\n",
       "  </thead>\n",
       "  <tbody>\n",
       "    <tr>\n",
       "      <th>0</th>\n",
       "      <td>E_000001272c6c5d</td>\n",
       "      <td>Café Stad Oudenaarde</td>\n",
       "      <td>50.859975</td>\n",
       "      <td>3.634196</td>\n",
       "      <td>Abdijstraat</td>\n",
       "      <td>Nederename</td>\n",
       "      <td>Oost-Vlaanderen</td>\n",
       "      <td>9700</td>\n",
       "      <td>BE</td>\n",
       "      <td>NaN</td>\n",
       "      <td>...</td>\n",
       "      <td>3.635206</td>\n",
       "      <td>NaN</td>\n",
       "      <td>NaN</td>\n",
       "      <td>NaN</td>\n",
       "      <td>NaN</td>\n",
       "      <td>BE</td>\n",
       "      <td>NaN</td>\n",
       "      <td>NaN</td>\n",
       "      <td>Bars</td>\n",
       "      <td>True</td>\n",
       "    </tr>\n",
       "    <tr>\n",
       "      <th>1</th>\n",
       "      <td>E_000008a8ba4f48</td>\n",
       "      <td>Turkcell</td>\n",
       "      <td>37.844510</td>\n",
       "      <td>27.844202</td>\n",
       "      <td>Adnan Menderes Bulvarı</td>\n",
       "      <td>NaN</td>\n",
       "      <td>NaN</td>\n",
       "      <td>NaN</td>\n",
       "      <td>TR</td>\n",
       "      <td>NaN</td>\n",
       "      <td>...</td>\n",
       "      <td>27.845560</td>\n",
       "      <td>batı aydın</td>\n",
       "      <td>aydın</td>\n",
       "      <td>NaN</td>\n",
       "      <td>67500</td>\n",
       "      <td>TR</td>\n",
       "      <td>NaN</td>\n",
       "      <td>NaN</td>\n",
       "      <td>Electronics Stores</td>\n",
       "      <td>False</td>\n",
       "    </tr>\n",
       "    <tr>\n",
       "      <th>2</th>\n",
       "      <td>E_000023d8f4be44</td>\n",
       "      <td>Island Spa</td>\n",
       "      <td>14.518970</td>\n",
       "      <td>121.018702</td>\n",
       "      <td>5th Flr, Newport Mall, Resorts World Manila</td>\n",
       "      <td>Pasay City</td>\n",
       "      <td>Metro Manila</td>\n",
       "      <td>NaN</td>\n",
       "      <td>PH</td>\n",
       "      <td>NaN</td>\n",
       "      <td>...</td>\n",
       "      <td>121.019827</td>\n",
       "      <td>NaN</td>\n",
       "      <td>NaN</td>\n",
       "      <td>NaN</td>\n",
       "      <td>NaN</td>\n",
       "      <td>PH</td>\n",
       "      <td>NaN</td>\n",
       "      <td>NaN</td>\n",
       "      <td>Spas</td>\n",
       "      <td>True</td>\n",
       "    </tr>\n",
       "    <tr>\n",
       "      <th>3</th>\n",
       "      <td>E_00007dcd2bb53f</td>\n",
       "      <td>TOGO'S Sandwiches</td>\n",
       "      <td>38.257797</td>\n",
       "      <td>-122.064599</td>\n",
       "      <td>1380 Holiday Ln., Ste. B</td>\n",
       "      <td>Fairfield</td>\n",
       "      <td>CA</td>\n",
       "      <td>94534</td>\n",
       "      <td>US</td>\n",
       "      <td>https://locations.togos.com/ll/US/CA/Fairfield...</td>\n",
       "      <td>...</td>\n",
       "      <td>-122.064606</td>\n",
       "      <td>NaN</td>\n",
       "      <td>Fairfield</td>\n",
       "      <td>CA</td>\n",
       "      <td>NaN</td>\n",
       "      <td>US</td>\n",
       "      <td>NaN</td>\n",
       "      <td>NaN</td>\n",
       "      <td>Sandwich Places</td>\n",
       "      <td>True</td>\n",
       "    </tr>\n",
       "    <tr>\n",
       "      <th>4</th>\n",
       "      <td>E_0000c362229d93</td>\n",
       "      <td>Coffee Cat</td>\n",
       "      <td>7.082218</td>\n",
       "      <td>125.610244</td>\n",
       "      <td>F. Torres St.</td>\n",
       "      <td>Davao City</td>\n",
       "      <td>Davao Region</td>\n",
       "      <td>8000</td>\n",
       "      <td>PH</td>\n",
       "      <td>NaN</td>\n",
       "      <td>...</td>\n",
       "      <td>125.611457</td>\n",
       "      <td>E. Jacinto Extension</td>\n",
       "      <td>Davao City</td>\n",
       "      <td>Davao Region</td>\n",
       "      <td>8000</td>\n",
       "      <td>PH</td>\n",
       "      <td>NaN</td>\n",
       "      <td>NaN</td>\n",
       "      <td>Coffee Shops, Cafés, Dessert Shops</td>\n",
       "      <td>False</td>\n",
       "    </tr>\n",
       "  </tbody>\n",
       "</table>\n",
       "<p>5 rows × 25 columns</p>\n",
       "</div>"
      ],
      "text/plain": [
       "               id_1                name_1  latitude_1  longitude_1  \\\n",
       "0  E_000001272c6c5d  Café Stad Oudenaarde   50.859975     3.634196   \n",
       "1  E_000008a8ba4f48              Turkcell   37.844510    27.844202   \n",
       "2  E_000023d8f4be44            Island Spa   14.518970   121.018702   \n",
       "3  E_00007dcd2bb53f     TOGO'S Sandwiches   38.257797  -122.064599   \n",
       "4  E_0000c362229d93            Coffee Cat    7.082218   125.610244   \n",
       "\n",
       "                                     address_1      city_1          state_1  \\\n",
       "0                                  Abdijstraat  Nederename  Oost-Vlaanderen   \n",
       "1                       Adnan Menderes Bulvarı         NaN              NaN   \n",
       "2  5th Flr, Newport Mall, Resorts World Manila  Pasay City     Metro Manila   \n",
       "3                     1380 Holiday Ln., Ste. B   Fairfield               CA   \n",
       "4                                F. Torres St.  Davao City     Davao Region   \n",
       "\n",
       "   zip_1 country_1                                              url_1  ...  \\\n",
       "0   9700        BE                                                NaN  ...   \n",
       "1    NaN        TR                                                NaN  ...   \n",
       "2    NaN        PH                                                NaN  ...   \n",
       "3  94534        US  https://locations.togos.com/ll/US/CA/Fairfield...  ...   \n",
       "4   8000        PH                                                NaN  ...   \n",
       "\n",
       "  longitude_2             address_2      city_2       state_2  zip_2  \\\n",
       "0    3.635206                   NaN         NaN           NaN    NaN   \n",
       "1   27.845560            batı aydın       aydın           NaN  67500   \n",
       "2  121.019827                   NaN         NaN           NaN    NaN   \n",
       "3 -122.064606                   NaN   Fairfield            CA    NaN   \n",
       "4  125.611457  E. Jacinto Extension  Davao City  Davao Region   8000   \n",
       "\n",
       "   country_2 url_2 phone_2                        categories_2  match  \n",
       "0         BE   NaN     NaN                                Bars   True  \n",
       "1         TR   NaN     NaN                  Electronics Stores  False  \n",
       "2         PH   NaN     NaN                                Spas   True  \n",
       "3         US   NaN     NaN                     Sandwich Places   True  \n",
       "4         PH   NaN     NaN  Coffee Shops, Cafés, Dessert Shops  False  \n",
       "\n",
       "[5 rows x 25 columns]"
      ]
     },
     "execution_count": 84,
     "metadata": {},
     "output_type": "execute_result"
    }
   ],
   "source": [
    "df_pairs.head()"
   ]
  },
  {
   "cell_type": "code",
   "execution_count": 76,
   "metadata": {
    "colab": {
     "base_uri": "https://localhost:8080/"
    },
    "id": "vuTlOrZZigig",
    "outputId": "b420ffb5-c11d-4b91-bdea-37445e9ecfd8"
   },
   "outputs": [
    {
     "name": "stdout",
     "output_type": "stream",
     "text": [
      "There are 578907 pairs, 464765 id_1s and 565512 id_2s.\n",
      "\n"
     ]
    }
   ],
   "source": [
    "print('There are', len(df_pairs), 'pairs,', len(set(df_pairs.id_1)), 'id_1s and', len(set(df_pairs.id_2)), 'id_2s.\\n')"
   ]
  },
  {
   "cell_type": "code",
   "execution_count": null,
   "metadata": {
    "colab": {
     "base_uri": "https://localhost:8080/"
    },
    "collapsed": true,
    "id": "QJMYK5X9gnKz",
    "jupyter": {
     "outputs_hidden": true
    },
    "outputId": "39ce778c-1e89-4d5c-e052-c3ae8ffda39a",
    "tags": []
   },
   "outputs": [
    {
     "name": "stdout",
     "output_type": "stream",
     "text": [
      "<class 'pandas.core.frame.DataFrame'>\n",
      "RangeIndex: 578907 entries, 0 to 578906\n",
      "Data columns (total 25 columns):\n",
      " #   Column        Non-Null Count   Dtype  \n",
      "---  ------        --------------   -----  \n",
      " 0   id_1          578907 non-null  object \n",
      " 1   name_1        578907 non-null  object \n",
      " 2   latitude_1    578907 non-null  float64\n",
      " 3   longitude_1   578907 non-null  float64\n",
      " 4   address_1     475383 non-null  object \n",
      " 5   city_1        512928 non-null  object \n",
      " 6   state_1       452316 non-null  object \n",
      " 7   zip_1         359509 non-null  object \n",
      " 8   country_1     578899 non-null  object \n",
      " 9   url_1         231806 non-null  object \n",
      " 10  phone_1       270022 non-null  object \n",
      " 11  categories_1  562613 non-null  object \n",
      " 12  id_2          578907 non-null  object \n",
      " 13  name_2        578907 non-null  object \n",
      " 14  latitude_2    578907 non-null  float64\n",
      " 15  longitude_2   578907 non-null  float64\n",
      " 16  address_2     312497 non-null  object \n",
      " 17  city_2        367490 non-null  object \n",
      " 18  state_2       309689 non-null  object \n",
      " 19  zip_2         224827 non-null  object \n",
      " 20  country_2     578901 non-null  object \n",
      " 21  url_2         84850 non-null   object \n",
      " 22  phone_2       118963 non-null  object \n",
      " 23  categories_2  502931 non-null  object \n",
      " 24  match         578907 non-null  bool   \n",
      "dtypes: bool(1), float64(4), object(20)\n",
      "memory usage: 106.6+ MB\n"
     ]
    }
   ],
   "source": [
    "df_pairs.info()"
   ]
  },
  {
   "cell_type": "code",
   "execution_count": 79,
   "metadata": {
    "id": "XSIfs7woU4xT",
    "outputId": "174bb349-11bf-4518-a4af-b7df7e586e7a"
   },
   "outputs": [
    {
     "data": {
      "text/html": [
       "<div>\n",
       "<style scoped>\n",
       "    .dataframe tbody tr th:only-of-type {\n",
       "        vertical-align: middle;\n",
       "    }\n",
       "\n",
       "    .dataframe tbody tr th {\n",
       "        vertical-align: top;\n",
       "    }\n",
       "\n",
       "    .dataframe thead th {\n",
       "        text-align: right;\n",
       "    }\n",
       "</style>\n",
       "<table border=\"1\" class=\"dataframe\">\n",
       "  <thead>\n",
       "    <tr style=\"text-align: right;\">\n",
       "      <th></th>\n",
       "      <th>latitude_1</th>\n",
       "      <th>longitude_1</th>\n",
       "      <th>latitude_2</th>\n",
       "      <th>longitude_2</th>\n",
       "    </tr>\n",
       "  </thead>\n",
       "  <tbody>\n",
       "    <tr>\n",
       "      <th>count</th>\n",
       "      <td>578907.000000</td>\n",
       "      <td>578907.000000</td>\n",
       "      <td>578907.000000</td>\n",
       "      <td>578907.000000</td>\n",
       "    </tr>\n",
       "    <tr>\n",
       "      <th>mean</th>\n",
       "      <td>26.104358</td>\n",
       "      <td>24.759940</td>\n",
       "      <td>26.092840</td>\n",
       "      <td>24.785947</td>\n",
       "    </tr>\n",
       "    <tr>\n",
       "      <th>std</th>\n",
       "      <td>23.210853</td>\n",
       "      <td>82.244791</td>\n",
       "      <td>23.213278</td>\n",
       "      <td>82.250231</td>\n",
       "    </tr>\n",
       "    <tr>\n",
       "      <th>min</th>\n",
       "      <td>-80.857570</td>\n",
       "      <td>-175.141634</td>\n",
       "      <td>-84.927740</td>\n",
       "      <td>-175.160248</td>\n",
       "    </tr>\n",
       "    <tr>\n",
       "      <th>25%</th>\n",
       "      <td>6.032218</td>\n",
       "      <td>-61.467652</td>\n",
       "      <td>5.987273</td>\n",
       "      <td>-61.462669</td>\n",
       "    </tr>\n",
       "    <tr>\n",
       "      <th>50%</th>\n",
       "      <td>35.623278</td>\n",
       "      <td>30.214258</td>\n",
       "      <td>35.618854</td>\n",
       "      <td>30.220696</td>\n",
       "    </tr>\n",
       "    <tr>\n",
       "      <th>75%</th>\n",
       "      <td>41.290456</td>\n",
       "      <td>103.844485</td>\n",
       "      <td>41.285191</td>\n",
       "      <td>103.845012</td>\n",
       "    </tr>\n",
       "    <tr>\n",
       "      <th>max</th>\n",
       "      <td>84.928321</td>\n",
       "      <td>178.437698</td>\n",
       "      <td>85.051128</td>\n",
       "      <td>178.440386</td>\n",
       "    </tr>\n",
       "  </tbody>\n",
       "</table>\n",
       "</div>"
      ],
      "text/plain": [
       "          latitude_1    longitude_1     latitude_2    longitude_2\n",
       "count  578907.000000  578907.000000  578907.000000  578907.000000\n",
       "mean       26.104358      24.759940      26.092840      24.785947\n",
       "std        23.210853      82.244791      23.213278      82.250231\n",
       "min       -80.857570    -175.141634     -84.927740    -175.160248\n",
       "25%         6.032218     -61.467652       5.987273     -61.462669\n",
       "50%        35.623278      30.214258      35.618854      30.220696\n",
       "75%        41.290456     103.844485      41.285191     103.845012\n",
       "max        84.928321     178.437698      85.051128     178.440386"
      ]
     },
     "execution_count": 79,
     "metadata": {},
     "output_type": "execute_result"
    }
   ],
   "source": [
    "df_pairs.describe()"
   ]
  },
  {
   "cell_type": "markdown",
   "metadata": {
    "id": "xDBWCz6BjabY"
   },
   "source": [
    "## Feature analysis\n",
    "\n",
    "---\n",
    "\n",
    "The available pairs of features from `train.csv` include\n",
    "\n",
    "```\n",
    "'name', 'latitude', 'longitude', 'address', 'city', 'state',\n",
    "       'zip', 'country', 'url', 'phone', 'categories'\n",
    "```"
   ]
  },
  {
   "cell_type": "code",
   "execution_count": 82,
   "metadata": {},
   "outputs": [
    {
     "data": {
      "text/plain": [
       "Index(['id_1', 'name_1', 'latitude_1', 'longitude_1', 'address_1', 'city_1',\n",
       "       'state_1', 'zip_1', 'country_1', 'url_1', 'phone_1', 'categories_1',\n",
       "       'id_2', 'name_2', 'latitude_2', 'longitude_2', 'address_2', 'city_2',\n",
       "       'state_2', 'zip_2', 'country_2', 'url_2', 'phone_2', 'categories_2',\n",
       "       'match'],\n",
       "      dtype='object')"
      ]
     },
     "execution_count": 82,
     "metadata": {},
     "output_type": "execute_result"
    }
   ],
   "source": [
    "df_pairs.columns"
   ]
  },
  {
   "cell_type": "markdown",
   "metadata": {
    "id": "3ROFAHSvjp2i"
   },
   "source": [
    "### latitude and longitude\n",
    "\n",
    "\n",
    "---\n",
    "We compute the difference for (latitude, longitude) of each pair in `pairs.csv`. It turns out \n",
    "  * locations with close (difference less than 0.001) can have have different POIs: stores are next to each other in a shopping center. In some extreme cases, places with identical coordinates can have different POI. For example, one classroom can be located vertically on top of another.  \n",
    "  * conversely, locations physically far can represent the same POI, such as mountains."
   ]
  },
  {
   "cell_type": "code",
   "execution_count": 85,
   "metadata": {
    "colab": {
     "base_uri": "https://localhost:8080/"
    },
    "id": "2kmvhtodjsOt",
    "outputId": "09ae32d6-30e2-4234-8f08-7d9cc2ef2602"
   },
   "outputs": [
    {
     "data": {
      "text/plain": [
       "count    578907.000000\n",
       "mean          0.131210\n",
       "std           2.964284\n",
       "min           0.000000\n",
       "25%           0.000316\n",
       "50%           0.001111\n",
       "75%           0.004946\n",
       "max         270.865670\n",
       "Name: location_diff, dtype: float64"
      ]
     },
     "execution_count": 85,
     "metadata": {},
     "output_type": "execute_result"
    }
   ],
   "source": [
    "# Compute the L^\\infty difference of (latitude, longitude) of each pair in df_pairs.csv\n",
    "df_pairs['location_diff'] = pd.concat([(df_pairs['latitude_1']-df_pairs['latitude_2']).abs(), \n",
    "                                       (df_pairs['longitude_1']-df_pairs['longitude_2']).abs()], axis=1).max(axis=1)\n",
    "\n",
    "df_pairs.location_diff.describe()"
   ]
  },
  {
   "cell_type": "code",
   "execution_count": 90,
   "metadata": {
    "colab": {
     "base_uri": "https://localhost:8080/",
     "height": 279
    },
    "id": "GjRGIvBCjtr1",
    "outputId": "146ddf84-5690-48a8-cd90-de7565ded4ed"
   },
   "outputs": [
    {
     "data": {
      "image/png": "[encoded data removed]",
      "text/plain": [
       "<Figure size 576x432 with 1 Axes>"
      ]
     },
     "metadata": {
      "needs_background": "light"
     },
     "output_type": "display_data"
    }
   ],
   "source": [
    "fig, ax = plt.subplots(figsize = (8,6))\n",
    "sns.stripplot(x=\"match\", y=\"location_diff\", data=df_pairs.loc[df_pairs.location_diff<0.001], ax=ax)\n",
    "ax.set_ylabel(r\"location difference\", fontsize=18)\n",
    "ax.set_xlabel(\"match\", fontsize=18)\n",
    "ax.tick_params(labelsize=14)\n",
    "plt.show()"
   ]
  },
  {
   "cell_type": "code",
   "execution_count": 91,
   "metadata": {
    "colab": {
     "base_uri": "https://localhost:8080/",
     "height": 279
    },
    "id": "lE2QZGghjvZT",
    "outputId": "e4e2b54a-dafd-40a1-9c01-e136ee9c4700"
   },
   "outputs": [
    {
     "data": {
      "image/png": "[encoded data removed]",
      "text/plain": [
       "<Figure size 576x432 with 1 Axes>"
      ]
     },
     "metadata": {
      "needs_background": "light"
     },
     "output_type": "display_data"
    }
   ],
   "source": [
    "fig, ax = plt.subplots(figsize = (8,6))\n",
    "sns.stripplot(x=\"match\", y=\"location_diff\", data=df_pairs.loc[df_pairs.location_diff==0],ax=ax)\n",
    "ax.set_ylabel(r\"location difference\", fontsize=18)\n",
    "ax.set_xlabel(\"match\", fontsize=18)\n",
    "ax.tick_params(labelsize=14)\n",
    "plt.show()"
   ]
  },
  {
   "cell_type": "code",
   "execution_count": 93,
   "metadata": {
    "colab": {
     "base_uri": "https://localhost:8080/"
    },
    "id": "uLGuEQP1jwnH",
    "outputId": "24cdda0f-21ec-45bb-f54b-9e184a7cd299"
   },
   "outputs": [
    {
     "name": "stdout",
     "output_type": "stream",
     "text": [
      "There are 574 df_pairs with location_diff=0 but different POIs, out of all 578907 df_pairs.\n"
     ]
    }
   ],
   "source": [
    "print('There are',len(df_pairs.loc[(df_pairs.location_diff==0) & (df_pairs.match==False)]),\n",
    "      'df_pairs with location_diff=0 but different POIs, out of all',len(df_pairs),'df_pairs.')"
   ]
  },
  {
   "cell_type": "markdown",
   "metadata": {
    "id": "xeKcOoJMjxm1"
   },
   "source": [
    "### name\n",
    "\n",
    "  * There are some true pairs with slightly different names, e.g. short name v.s. full name.\n",
    "  * Conversely, there are false pairs with the same name, e.g. chain stores in different cities."
   ]
  },
  {
   "cell_type": "code",
   "execution_count": 94,
   "metadata": {
    "colab": {
     "base_uri": "https://localhost:8080/"
    },
    "id": "Kk68YMgWj0tW",
    "outputId": "6f6ccd40-74e3-40a9-fb1e-47d6e2a1535a"
   },
   "outputs": [
    {
     "data": {
      "text/plain": [
       "array(['E_000001272c6c5d', 'Café Stad Oudenaarde', 50.85997533509319,\n",
       "       3.6341963487748346, 'Abdijstraat', 'Nederename', 'Oost-Vlaanderen',\n",
       "       '9700', 'BE', nan, nan, 'Bars', 'E_da7fa3963561f8',\n",
       "       'Café Oudenaarde', 50.869358, 3.635206, nan, nan, nan, nan, 'BE',\n",
       "       nan, nan, 'Bars', True, 0.009382664906809168], dtype=object)"
      ]
     },
     "execution_count": 94,
     "metadata": {},
     "output_type": "execute_result"
    }
   ],
   "source": [
    "df_pairs.loc[df_pairs.match==True].values[0]"
   ]
  },
  {
   "cell_type": "code",
   "execution_count": 95,
   "metadata": {
    "colab": {
     "base_uri": "https://localhost:8080/"
    },
    "id": "NSb8fX7oj5Im",
    "outputId": "2451d545-66b6-40cb-e453-b24e264f1331"
   },
   "outputs": [
    {
     "data": {
      "text/plain": [
       "array(['E_0054712d9d9857', \"McDonald's\", 41.80434733686549,\n",
       "       -88.04684628582879, '2535 Ogden Ave', 'Downers Grove', 'IL',\n",
       "       '60515', 'US',\n",
       "       'https://www.mcdonalds.com/us/en-us/location/il/downers-grove/2535-ogden-ave/36793.html',\n",
       "       '+16309647433', 'Fast Food Restaurants', 'E_3d2134a9e1c29a',\n",
       "       \"McDonald's\", 41.802858161557765, -88.14267043789413,\n",
       "       '2535 Ogden Ave', 'Downers Grove', 'IL', '60515', 'US', nan, nan,\n",
       "       'American Restaurants', True, 0.09582415206533312], dtype=object)"
      ]
     },
     "execution_count": 95,
     "metadata": {},
     "output_type": "execute_result"
    }
   ],
   "source": [
    "df_pairs.loc[(df_pairs.name_1==df_pairs.name_2)&(df_pairs.name_1==\"McDonald's\")&(df_pairs.match==True)].values[0]"
   ]
  },
  {
   "cell_type": "markdown",
   "metadata": {
    "id": "BFw4k-Pcj8hn"
   },
   "source": [
    "### address"
   ]
  },
  {
   "cell_type": "markdown",
   "metadata": {
    "id": "rAyRT6N5U4xU"
   },
   "source": [
    "### Filling NAs and  Making Combined Full Addresses"
   ]
  },
  {
   "cell_type": "code",
   "execution_count": 96,
   "metadata": {
    "id": "iyE4moKJU4xU"
   },
   "outputs": [],
   "source": [
    "df_pairs['categories_1']   = df_pairs['categories_1'].fillna('')\n",
    "df_pairs['categories_2']   = df_pairs['categories_2'].fillna('')\n",
    "df_pairs['full_address_1'] = df_pairs['address_1'].fillna('') + ' ' + df_pairs['city_1'].fillna('') + ' ' + df_pairs['state_1'].fillna('') + ' ' + df_pairs['zip_1'].fillna('')  + ' ' + df_pairs['country_1'].fillna('')"
   ]
  },
  {
   "cell_type": "code",
   "execution_count": 97,
   "metadata": {
    "id": "QaQaD1SLU4xU"
   },
   "outputs": [],
   "source": [
    "df_pairs['full_address_1'] = df_pairs['address_1'].fillna('') + ' ' + df_pairs['city_1'].fillna('') + ' ' + df_pairs['state_1'].fillna('') + ' ' + df_pairs['zip_1'].fillna('')  + ' ' + df_pairs['country_1'].fillna('')\n",
    "df_pairs['full_address_2'] = df_pairs['address_2'].fillna('') + ' ' + df_pairs['city_2'].fillna('') + ' ' + df_pairs['state_2'].fillna('') + ' ' + df_pairs['zip_2'].fillna('')  + ' ' + df_pairs['country_2'].fillna('')"
   ]
  },
  {
   "cell_type": "markdown",
   "metadata": {
    "id": "V7FTSOWtU4xU"
   },
   "source": [
    "### Reducing to only columns that seems useful. (Mostly based on shear amount of nans)"
   ]
  },
  {
   "cell_type": "code",
   "execution_count": 98,
   "metadata": {
    "id": "rfrQhgJEU4xU"
   },
   "outputs": [],
   "source": [
    "column_list = ['id_1','name_1', 'latitude_1', 'longitude_1', 'country_1', 'full_address_1', 'categories_1', 'id_2','name_2', 'latitude_2', 'longitude_2', 'country_2', 'full_address_2', 'categories_2', 'match']"
   ]
  },
  {
   "cell_type": "code",
   "execution_count": 100,
   "metadata": {
    "id": "6W8TYd17U4xU"
   },
   "outputs": [],
   "source": [
    "pairs_reduced = df_pairs[column_list]"
   ]
  },
  {
   "cell_type": "code",
   "execution_count": 101,
   "metadata": {
    "id": "9U6kXpEmU4xU",
    "outputId": "5e0b79b6-2358-4dd6-fc0a-20ec4d50acf5"
   },
   "outputs": [
    {
     "data": {
      "text/html": [
       "<div>\n",
       "<style scoped>\n",
       "    .dataframe tbody tr th:only-of-type {\n",
       "        vertical-align: middle;\n",
       "    }\n",
       "\n",
       "    .dataframe tbody tr th {\n",
       "        vertical-align: top;\n",
       "    }\n",
       "\n",
       "    .dataframe thead th {\n",
       "        text-align: right;\n",
       "    }\n",
       "</style>\n",
       "<table border=\"1\" class=\"dataframe\">\n",
       "  <thead>\n",
       "    <tr style=\"text-align: right;\">\n",
       "      <th></th>\n",
       "      <th>id_1</th>\n",
       "      <th>name_1</th>\n",
       "      <th>latitude_1</th>\n",
       "      <th>longitude_1</th>\n",
       "      <th>country_1</th>\n",
       "      <th>full_address_1</th>\n",
       "      <th>categories_1</th>\n",
       "      <th>id_2</th>\n",
       "      <th>name_2</th>\n",
       "      <th>latitude_2</th>\n",
       "      <th>longitude_2</th>\n",
       "      <th>country_2</th>\n",
       "      <th>full_address_2</th>\n",
       "      <th>categories_2</th>\n",
       "      <th>match</th>\n",
       "    </tr>\n",
       "  </thead>\n",
       "  <tbody>\n",
       "    <tr>\n",
       "      <th>0</th>\n",
       "      <td>E_000001272c6c5d</td>\n",
       "      <td>Café Stad Oudenaarde</td>\n",
       "      <td>50.859975</td>\n",
       "      <td>3.634196</td>\n",
       "      <td>BE</td>\n",
       "      <td>Abdijstraat Nederename Oost-Vlaanderen 9700 BE</td>\n",
       "      <td>Bars</td>\n",
       "      <td>E_da7fa3963561f8</td>\n",
       "      <td>Café Oudenaarde</td>\n",
       "      <td>50.869358</td>\n",
       "      <td>3.635206</td>\n",
       "      <td>BE</td>\n",
       "      <td>BE</td>\n",
       "      <td>Bars</td>\n",
       "      <td>True</td>\n",
       "    </tr>\n",
       "    <tr>\n",
       "      <th>1</th>\n",
       "      <td>E_000008a8ba4f48</td>\n",
       "      <td>Turkcell</td>\n",
       "      <td>37.844510</td>\n",
       "      <td>27.844202</td>\n",
       "      <td>TR</td>\n",
       "      <td>Adnan Menderes Bulvarı    TR</td>\n",
       "      <td>Mobile Phone Shops</td>\n",
       "      <td>E_3f12df0b045062</td>\n",
       "      <td>Turkcell</td>\n",
       "      <td>37.838020</td>\n",
       "      <td>27.845560</td>\n",
       "      <td>TR</td>\n",
       "      <td>batı aydın aydın  67500 TR</td>\n",
       "      <td>Electronics Stores</td>\n",
       "      <td>False</td>\n",
       "    </tr>\n",
       "    <tr>\n",
       "      <th>2</th>\n",
       "      <td>E_000023d8f4be44</td>\n",
       "      <td>Island Spa</td>\n",
       "      <td>14.518970</td>\n",
       "      <td>121.018702</td>\n",
       "      <td>PH</td>\n",
       "      <td>5th Flr, Newport Mall, Resorts World Manila Pa...</td>\n",
       "      <td>Spas</td>\n",
       "      <td>E_12453effe251db</td>\n",
       "      <td>Island Spa Theater</td>\n",
       "      <td>14.518330</td>\n",
       "      <td>121.019827</td>\n",
       "      <td>PH</td>\n",
       "      <td>PH</td>\n",
       "      <td>Spas</td>\n",
       "      <td>True</td>\n",
       "    </tr>\n",
       "    <tr>\n",
       "      <th>3</th>\n",
       "      <td>E_00007dcd2bb53f</td>\n",
       "      <td>TOGO'S Sandwiches</td>\n",
       "      <td>38.257797</td>\n",
       "      <td>-122.064599</td>\n",
       "      <td>US</td>\n",
       "      <td>1380 Holiday Ln., Ste. B Fairfield CA 94534 US</td>\n",
       "      <td>Sandwich Places</td>\n",
       "      <td>E_f131dcb7f07be9</td>\n",
       "      <td>Togo's</td>\n",
       "      <td>38.257938</td>\n",
       "      <td>-122.064606</td>\n",
       "      <td>US</td>\n",
       "      <td>Fairfield CA  US</td>\n",
       "      <td>Sandwich Places</td>\n",
       "      <td>True</td>\n",
       "    </tr>\n",
       "    <tr>\n",
       "      <th>4</th>\n",
       "      <td>E_0000c362229d93</td>\n",
       "      <td>Coffee Cat</td>\n",
       "      <td>7.082218</td>\n",
       "      <td>125.610244</td>\n",
       "      <td>PH</td>\n",
       "      <td>F. Torres St. Davao City Davao Region 8000 PH</td>\n",
       "      <td>Cafés, Coffee Shops</td>\n",
       "      <td>E_d52c3c4d53831c</td>\n",
       "      <td>Coffeecat</td>\n",
       "      <td>7.076016</td>\n",
       "      <td>125.611457</td>\n",
       "      <td>PH</td>\n",
       "      <td>E. Jacinto Extension Davao City Davao Region 8...</td>\n",
       "      <td>Coffee Shops, Cafés, Dessert Shops</td>\n",
       "      <td>False</td>\n",
       "    </tr>\n",
       "  </tbody>\n",
       "</table>\n",
       "</div>"
      ],
      "text/plain": [
       "               id_1                name_1  latitude_1  longitude_1 country_1  \\\n",
       "0  E_000001272c6c5d  Café Stad Oudenaarde   50.859975     3.634196        BE   \n",
       "1  E_000008a8ba4f48              Turkcell   37.844510    27.844202        TR   \n",
       "2  E_000023d8f4be44            Island Spa   14.518970   121.018702        PH   \n",
       "3  E_00007dcd2bb53f     TOGO'S Sandwiches   38.257797  -122.064599        US   \n",
       "4  E_0000c362229d93            Coffee Cat    7.082218   125.610244        PH   \n",
       "\n",
       "                                      full_address_1         categories_1  \\\n",
       "0     Abdijstraat Nederename Oost-Vlaanderen 9700 BE                 Bars   \n",
       "1                       Adnan Menderes Bulvarı    TR   Mobile Phone Shops   \n",
       "2  5th Flr, Newport Mall, Resorts World Manila Pa...                 Spas   \n",
       "3     1380 Holiday Ln., Ste. B Fairfield CA 94534 US      Sandwich Places   \n",
       "4      F. Torres St. Davao City Davao Region 8000 PH  Cafés, Coffee Shops   \n",
       "\n",
       "               id_2              name_2  latitude_2  longitude_2 country_2  \\\n",
       "0  E_da7fa3963561f8     Café Oudenaarde   50.869358     3.635206        BE   \n",
       "1  E_3f12df0b045062            Turkcell   37.838020    27.845560        TR   \n",
       "2  E_12453effe251db  Island Spa Theater   14.518330   121.019827        PH   \n",
       "3  E_f131dcb7f07be9              Togo's   38.257938  -122.064606        US   \n",
       "4  E_d52c3c4d53831c           Coffeecat    7.076016   125.611457        PH   \n",
       "\n",
       "                                      full_address_2  \\\n",
       "0                                                 BE   \n",
       "1                         batı aydın aydın  67500 TR   \n",
       "2                                                 PH   \n",
       "3                                   Fairfield CA  US   \n",
       "4  E. Jacinto Extension Davao City Davao Region 8...   \n",
       "\n",
       "                         categories_2  match  \n",
       "0                                Bars   True  \n",
       "1                  Electronics Stores  False  \n",
       "2                                Spas   True  \n",
       "3                     Sandwich Places   True  \n",
       "4  Coffee Shops, Cafés, Dessert Shops  False  "
      ]
     },
     "execution_count": 101,
     "metadata": {},
     "output_type": "execute_result"
    }
   ],
   "source": [
    "pairs_reduced.head()"
   ]
  },
  {
   "cell_type": "code",
   "execution_count": 102,
   "metadata": {
    "id": "DR57jTIKU4xU",
    "outputId": "1e34fabf-7b3a-4c60-a88b-d8b3adac4ec6"
   },
   "outputs": [
    {
     "name": "stdout",
     "output_type": "stream",
     "text": [
      "<class 'pandas.core.frame.DataFrame'>\n",
      "RangeIndex: 578907 entries, 0 to 578906\n",
      "Data columns (total 15 columns):\n",
      " #   Column          Non-Null Count   Dtype  \n",
      "---  ------          --------------   -----  \n",
      " 0   id_1            578907 non-null  object \n",
      " 1   name_1          578907 non-null  object \n",
      " 2   latitude_1      578907 non-null  float64\n",
      " 3   longitude_1     578907 non-null  float64\n",
      " 4   country_1       578899 non-null  object \n",
      " 5   full_address_1  578907 non-null  object \n",
      " 6   categories_1    578907 non-null  object \n",
      " 7   id_2            578907 non-null  object \n",
      " 8   name_2          578907 non-null  object \n",
      " 9   latitude_2      578907 non-null  float64\n",
      " 10  longitude_2     578907 non-null  float64\n",
      " 11  country_2       578901 non-null  object \n",
      " 12  full_address_2  578907 non-null  object \n",
      " 13  categories_2    578907 non-null  object \n",
      " 14  match           578907 non-null  bool   \n",
      "dtypes: bool(1), float64(4), object(10)\n",
      "memory usage: 62.4+ MB\n"
     ]
    }
   ],
   "source": [
    "pairs_reduced.info()"
   ]
  },
  {
   "cell_type": "markdown",
   "metadata": {
    "id": "YfAyUUY8U4xU"
   },
   "source": [
    "### Calculating angular difference of latitude and longitude"
   ]
  },
  {
   "cell_type": "code",
   "execution_count": null,
   "metadata": {
    "id": "zVn9rSo3U4xU"
   },
   "outputs": [],
   "source": [
    "# pairs_reduced['theta_diff'] = np.arccos(np.sin(np.radians(pairs_reduced['latitude_1']))*np.sin(np.radians(pairs_reduced['latitude_2']))+\n",
    "#                                        np.cos(np.radians(pairs_reduced['latitude_1']))*np.cos(np.radians(pairs_reduced['latitude_2']))*\n",
    "#                                         np.cos(np.radians(pairs_reduced['longitude_1']-pairs_reduced['longitude_2']))\n",
    "#                                        )"
   ]
  },
  {
   "cell_type": "code",
   "execution_count": null,
   "metadata": {
    "id": "hi4CDENPU4xV",
    "outputId": "e4cb56bd-4704-4431-bfcc-1588b3dd7aac"
   },
   "outputs": [
    {
     "name": "stderr",
     "output_type": "stream",
     "text": [
      "<ipython-input-46-4562924af0b8>:1: SettingWithCopyWarning: \n",
      "A value is trying to be set on a copy of a slice from a DataFrame.\n",
      "Try using .loc[row_indexer,col_indexer] = value instead\n",
      "\n",
      "See the caveats in the documentation: https://pandas.pydata.org/pandas-docs/stable/user_guide/indexing.html#returning-a-view-versus-a-copy\n",
      "  pairs_reduced['theta_diff'] = np.abs(np.arctan(np.sqrt(\n"
     ]
    }
   ],
   "source": [
    "pairs_reduced['theta_diff'] = np.abs(np.arctan(np.sqrt(\n",
    "    (np.cos(np.radians(pairs_reduced['latitude_2']))*np.sin(np.radians(pairs_reduced['longitude_1']-pairs_reduced['longitude_2'])))**2 +\n",
    "        (np.cos(np.radians(pairs_reduced['latitude_1']))*np.sin(np.radians(pairs_reduced['latitude_2']))-\n",
    "            np.sin(np.radians(pairs_reduced['latitude_1']))*np.cos(np.radians(pairs_reduced['latitude_2']))*np.cos(np.radians(pairs_reduced['longitude_1']-pairs_reduced['longitude_2'])))**2\n",
    "                                                )/\n",
    "    (np.sin(np.radians(pairs_reduced['latitude_1']))*np.sin(np.radians(pairs_reduced['latitude_2']))+\n",
    "        np.cos(np.radians(pairs_reduced['latitude_1']))*np.cos(np.radians(pairs_reduced['latitude_2']))*np.cos(np.radians(pairs_reduced['longitude_1']-pairs_reduced['longitude_2']))\n",
    "    )\n",
    "                                               )\n",
    "                                      )"
   ]
  },
  {
   "cell_type": "code",
   "execution_count": null,
   "metadata": {
    "id": "9h09OBMRU4xV"
   },
   "outputs": [],
   "source": [
    "# pairs_reduced['theta_diff'] = np.sqrt((np.radians(pairs_reduced['longitude_1'])-np.radians(pairs_reduced['longitude_2'])*np.cos(np.radians(pairs_reduced['latitude_1'])))**2 +\n",
    "#         (np.radians(pairs_reduced['latitude_1'])-np.radians(pairs_reduced['latitude_2']))**2\n",
    "#        )"
   ]
  },
  {
   "cell_type": "code",
   "execution_count": null,
   "metadata": {
    "id": "Yn_cW7VUU4xV"
   },
   "outputs": [],
   "source": [
    "# pairs_reduced['theta_diff'] = (np.radians(pairs_reduced['longitude_1'])-np.radians(pairs_reduced['longitude_2']))**2 + (np.radians(pairs_reduced['latitude_1'])-np.radians(pairs_reduced['latitude_2']))**2"
   ]
  },
  {
   "cell_type": "code",
   "execution_count": null,
   "metadata": {
    "id": "8GECDH0nU4xV",
    "outputId": "271cf488-5481-4b26-a074-a50b1dfc2deb"
   },
   "outputs": [
    {
     "data": {
      "text/html": [
       "<div>\n",
       "<style scoped>\n",
       "    .dataframe tbody tr th:only-of-type {\n",
       "        vertical-align: middle;\n",
       "    }\n",
       "\n",
       "    .dataframe tbody tr th {\n",
       "        vertical-align: top;\n",
       "    }\n",
       "\n",
       "    .dataframe thead th {\n",
       "        text-align: right;\n",
       "    }\n",
       "</style>\n",
       "<table border=\"1\" class=\"dataframe\">\n",
       "  <thead>\n",
       "    <tr style=\"text-align: right;\">\n",
       "      <th></th>\n",
       "      <th>id_1</th>\n",
       "      <th>name_1</th>\n",
       "      <th>latitude_1</th>\n",
       "      <th>longitude_1</th>\n",
       "      <th>country_1</th>\n",
       "      <th>full_address_1</th>\n",
       "      <th>categories_1</th>\n",
       "      <th>id_2</th>\n",
       "      <th>name_2</th>\n",
       "      <th>latitude_2</th>\n",
       "      <th>longitude_2</th>\n",
       "      <th>country_2</th>\n",
       "      <th>full_address_2</th>\n",
       "      <th>categories_2</th>\n",
       "      <th>match</th>\n",
       "      <th>theta_diff</th>\n",
       "    </tr>\n",
       "  </thead>\n",
       "  <tbody>\n",
       "  </tbody>\n",
       "</table>\n",
       "</div>"
      ],
      "text/plain": [
       "Empty DataFrame\n",
       "Columns: [id_1, name_1, latitude_1, longitude_1, country_1, full_address_1, categories_1, id_2, name_2, latitude_2, longitude_2, country_2, full_address_2, categories_2, match, theta_diff]\n",
       "Index: []"
      ]
     },
     "execution_count": 49,
     "metadata": {},
     "output_type": "execute_result"
    }
   ],
   "source": [
    "pairs_reduced[pairs_reduced['theta_diff'].isna()]"
   ]
  },
  {
   "cell_type": "markdown",
   "metadata": {
    "id": "Qu6X-NR3U4xV"
   },
   "source": [
    "# Reducing `pairs.csv` to only US data"
   ]
  },
  {
   "cell_type": "code",
   "execution_count": null,
   "metadata": {
    "id": "YKy9sHefU4xV",
    "outputId": "039e4d1b-61d8-4bf3-9782-e95c22315361"
   },
   "outputs": [
    {
     "data": {
      "text/plain": [
       "117793"
      ]
     },
     "execution_count": 50,
     "metadata": {},
     "output_type": "execute_result"
    }
   ],
   "source": [
    "len(pairs_reduced[(pairs_reduced['country_1'] == 'US') & (pairs_reduced['country_1'] == 'US')])"
   ]
  },
  {
   "cell_type": "markdown",
   "metadata": {
    "id": "9hsoZlxdU4xV"
   },
   "source": [
    "Dropping no longer needed columns"
   ]
  },
  {
   "cell_type": "code",
   "execution_count": null,
   "metadata": {
    "id": "_CFueOCeU4xV"
   },
   "outputs": [],
   "source": [
    "pairs_red_us = pairs_reduced[(pairs_reduced['country_1'] == 'US') & (pairs_reduced['country_1'] == 'US')]"
   ]
  },
  {
   "cell_type": "code",
   "execution_count": null,
   "metadata": {
    "id": "OozA0cQYU4xV"
   },
   "outputs": [],
   "source": [
    "pairs_red_us = pairs_red_us.drop(['country_1','country_2', 'latitude_1', 'longitude_1', 'latitude_2', 'longitude_2'], axis = 1)"
   ]
  },
  {
   "cell_type": "code",
   "execution_count": null,
   "metadata": {
    "id": "qYdoE1iWU4xV",
    "outputId": "1aed2aa3-bd2a-41e6-c69e-c163849f9afd"
   },
   "outputs": [
    {
     "data": {
      "text/html": [
       "<div>\n",
       "<style scoped>\n",
       "    .dataframe tbody tr th:only-of-type {\n",
       "        vertical-align: middle;\n",
       "    }\n",
       "\n",
       "    .dataframe tbody tr th {\n",
       "        vertical-align: top;\n",
       "    }\n",
       "\n",
       "    .dataframe thead th {\n",
       "        text-align: right;\n",
       "    }\n",
       "</style>\n",
       "<table border=\"1\" class=\"dataframe\">\n",
       "  <thead>\n",
       "    <tr style=\"text-align: right;\">\n",
       "      <th></th>\n",
       "      <th>id_1</th>\n",
       "      <th>name_1</th>\n",
       "      <th>full_address_1</th>\n",
       "      <th>categories_1</th>\n",
       "      <th>id_2</th>\n",
       "      <th>name_2</th>\n",
       "      <th>full_address_2</th>\n",
       "      <th>categories_2</th>\n",
       "      <th>match</th>\n",
       "      <th>theta_diff</th>\n",
       "    </tr>\n",
       "  </thead>\n",
       "  <tbody>\n",
       "    <tr>\n",
       "      <th>3</th>\n",
       "      <td>E_00007dcd2bb53f</td>\n",
       "      <td>TOGO'S Sandwiches</td>\n",
       "      <td>1380 Holiday Ln., Ste. B Fairfield CA 94534 US</td>\n",
       "      <td>Sandwich Places</td>\n",
       "      <td>E_f131dcb7f07be9</td>\n",
       "      <td>Togo's</td>\n",
       "      <td>Fairfield CA  US</td>\n",
       "      <td>Sandwich Places</td>\n",
       "      <td>True</td>\n",
       "      <td>0.000002</td>\n",
       "    </tr>\n",
       "    <tr>\n",
       "      <th>6</th>\n",
       "      <td>E_0000d9e584ed9f</td>\n",
       "      <td>Signature Properties Savannah</td>\n",
       "      <td>100 Commercial Ct Ste C Savannah GA 31406 US</td>\n",
       "      <td>Real Estate Offices</td>\n",
       "      <td>E_caad79f6ed7c44</td>\n",
       "      <td>Signature Properties Savannah</td>\n",
       "      <td>7014 Abercorn St Savannah GA 31406 US</td>\n",
       "      <td>NaN</td>\n",
       "      <td>True</td>\n",
       "      <td>0.000082</td>\n",
       "    </tr>\n",
       "    <tr>\n",
       "      <th>7</th>\n",
       "      <td>E_00011cca3f0bd6</td>\n",
       "      <td>Inner Workings</td>\n",
       "      <td>Serving General Area Santa Fe NM 87501 US</td>\n",
       "      <td>Massage Studios</td>\n",
       "      <td>E_aeffddf31a4b9e</td>\n",
       "      <td>Inner Workings</td>\n",
       "      <td>Serving General Area Santa Fe NM 87501 US</td>\n",
       "      <td>Massage Studios</td>\n",
       "      <td>True</td>\n",
       "      <td>0.000019</td>\n",
       "    </tr>\n",
       "    <tr>\n",
       "      <th>8</th>\n",
       "      <td>E_00015cd7e0227f</td>\n",
       "      <td>Lake Destiny</td>\n",
       "      <td>Maitland FL 32751 US</td>\n",
       "      <td>Lakes</td>\n",
       "      <td>E_7250ab441d9d42</td>\n",
       "      <td>Lake destiny field</td>\n",
       "      <td>Maitland FL 32751 US</td>\n",
       "      <td>Soccer Fields</td>\n",
       "      <td>False</td>\n",
       "      <td>0.000253</td>\n",
       "    </tr>\n",
       "    <tr>\n",
       "      <th>11</th>\n",
       "      <td>E_0001a397f67ad5</td>\n",
       "      <td>Dale City Truck-Only Safety Rest Area North</td>\n",
       "      <td>Interstate 95 North Montclair VA 22026 US</td>\n",
       "      <td>Rest Areas</td>\n",
       "      <td>E_4b83e498f06eff</td>\n",
       "      <td>I-95 Exit 152 Truck Stop</td>\n",
       "      <td>Dumfries VA 22026 US</td>\n",
       "      <td>Rest Areas</td>\n",
       "      <td>True</td>\n",
       "      <td>0.000119</td>\n",
       "    </tr>\n",
       "  </tbody>\n",
       "</table>\n",
       "</div>"
      ],
      "text/plain": [
       "                id_1                                       name_1  \\\n",
       "3   E_00007dcd2bb53f                            TOGO'S Sandwiches   \n",
       "6   E_0000d9e584ed9f                Signature Properties Savannah   \n",
       "7   E_00011cca3f0bd6                               Inner Workings   \n",
       "8   E_00015cd7e0227f                                 Lake Destiny   \n",
       "11  E_0001a397f67ad5  Dale City Truck-Only Safety Rest Area North   \n",
       "\n",
       "                                    full_address_1         categories_1  \\\n",
       "3   1380 Holiday Ln., Ste. B Fairfield CA 94534 US      Sandwich Places   \n",
       "6     100 Commercial Ct Ste C Savannah GA 31406 US  Real Estate Offices   \n",
       "7        Serving General Area Santa Fe NM 87501 US      Massage Studios   \n",
       "8                             Maitland FL 32751 US                Lakes   \n",
       "11       Interstate 95 North Montclair VA 22026 US           Rest Areas   \n",
       "\n",
       "                id_2                         name_2  \\\n",
       "3   E_f131dcb7f07be9                         Togo's   \n",
       "6   E_caad79f6ed7c44  Signature Properties Savannah   \n",
       "7   E_aeffddf31a4b9e                 Inner Workings   \n",
       "8   E_7250ab441d9d42             Lake destiny field   \n",
       "11  E_4b83e498f06eff       I-95 Exit 152 Truck Stop   \n",
       "\n",
       "                               full_address_2     categories_2  match  \\\n",
       "3                            Fairfield CA  US  Sandwich Places   True   \n",
       "6       7014 Abercorn St Savannah GA 31406 US              NaN   True   \n",
       "7   Serving General Area Santa Fe NM 87501 US  Massage Studios   True   \n",
       "8                        Maitland FL 32751 US    Soccer Fields  False   \n",
       "11                       Dumfries VA 22026 US       Rest Areas   True   \n",
       "\n",
       "    theta_diff  \n",
       "3     0.000002  \n",
       "6     0.000082  \n",
       "7     0.000019  \n",
       "8     0.000253  \n",
       "11    0.000119  "
      ]
     },
     "execution_count": 53,
     "metadata": {},
     "output_type": "execute_result"
    }
   ],
   "source": [
    "pairs_red_us.head()"
   ]
  },
  {
   "cell_type": "markdown",
   "metadata": {
    "id": "Q5UWiep-U4xW"
   },
   "source": [
    "It's probably in my best interest to lower case all of the strings when doing the string matching aspect"
   ]
  },
  {
   "cell_type": "code",
   "execution_count": null,
   "metadata": {
    "id": "uhPVnrf5U4xW"
   },
   "outputs": [],
   "source": [
    "pairs_red_us['name_1'] = pairs_red_us['name_1'].astype(str)\n",
    "pairs_red_us['name_2'] = pairs_red_us['name_2'].astype(str)\n",
    "pairs_red_us['full_address_1'] = pairs_red_us['full_address_1'].astype(str)\n",
    "pairs_red_us['full_address_2'] = pairs_red_us['full_address_2'].astype(str)\n",
    "pairs_red_us['categories_1'] = pairs_red_us['categories_1'].astype(str)\n",
    "pairs_red_us['categories_2'] = pairs_red_us['categories_2'].astype(str)\n",
    "\n",
    "pairs_red_us['name_1'] = pairs_red_us['name_1'].str.lower()\n",
    "pairs_red_us['full_address_1'] = pairs_red_us['full_address_1'].str.lower()\n",
    "pairs_red_us['categories_1'] = pairs_red_us['categories_1'].str.lower()\n",
    "pairs_red_us['name_2'] = pairs_red_us['name_2'].str.lower()\n",
    "pairs_red_us['full_address_2'] = pairs_red_us['full_address_2'].str.lower()\n",
    "pairs_red_us['categories_2'] = pairs_red_us['categories_2'].str.lower()"
   ]
  },
  {
   "cell_type": "code",
   "execution_count": null,
   "metadata": {
    "id": "ozBHmXePU4xW",
    "outputId": "60e99e19-a33d-454d-da5c-06c86ae80cd7"
   },
   "outputs": [
    {
     "data": {
      "text/html": [
       "<div>\n",
       "<style scoped>\n",
       "    .dataframe tbody tr th:only-of-type {\n",
       "        vertical-align: middle;\n",
       "    }\n",
       "\n",
       "    .dataframe tbody tr th {\n",
       "        vertical-align: top;\n",
       "    }\n",
       "\n",
       "    .dataframe thead th {\n",
       "        text-align: right;\n",
       "    }\n",
       "</style>\n",
       "<table border=\"1\" class=\"dataframe\">\n",
       "  <thead>\n",
       "    <tr style=\"text-align: right;\">\n",
       "      <th></th>\n",
       "      <th>id_1</th>\n",
       "      <th>name_1</th>\n",
       "      <th>full_address_1</th>\n",
       "      <th>categories_1</th>\n",
       "      <th>id_2</th>\n",
       "      <th>name_2</th>\n",
       "      <th>full_address_2</th>\n",
       "      <th>categories_2</th>\n",
       "      <th>match</th>\n",
       "      <th>theta_diff</th>\n",
       "    </tr>\n",
       "  </thead>\n",
       "  <tbody>\n",
       "    <tr>\n",
       "      <th>3</th>\n",
       "      <td>E_00007dcd2bb53f</td>\n",
       "      <td>togo's sandwiches</td>\n",
       "      <td>1380 holiday ln., ste. b fairfield ca 94534 us</td>\n",
       "      <td>sandwich places</td>\n",
       "      <td>E_f131dcb7f07be9</td>\n",
       "      <td>togo's</td>\n",
       "      <td>fairfield ca  us</td>\n",
       "      <td>sandwich places</td>\n",
       "      <td>True</td>\n",
       "      <td>0.000002</td>\n",
       "    </tr>\n",
       "    <tr>\n",
       "      <th>6</th>\n",
       "      <td>E_0000d9e584ed9f</td>\n",
       "      <td>signature properties savannah</td>\n",
       "      <td>100 commercial ct ste c savannah ga 31406 us</td>\n",
       "      <td>real estate offices</td>\n",
       "      <td>E_caad79f6ed7c44</td>\n",
       "      <td>signature properties savannah</td>\n",
       "      <td>7014 abercorn st savannah ga 31406 us</td>\n",
       "      <td></td>\n",
       "      <td>True</td>\n",
       "      <td>0.000082</td>\n",
       "    </tr>\n",
       "    <tr>\n",
       "      <th>7</th>\n",
       "      <td>E_00011cca3f0bd6</td>\n",
       "      <td>inner workings</td>\n",
       "      <td>serving general area santa fe nm 87501 us</td>\n",
       "      <td>massage studios</td>\n",
       "      <td>E_aeffddf31a4b9e</td>\n",
       "      <td>inner workings</td>\n",
       "      <td>serving general area santa fe nm 87501 us</td>\n",
       "      <td>massage studios</td>\n",
       "      <td>True</td>\n",
       "      <td>0.000019</td>\n",
       "    </tr>\n",
       "    <tr>\n",
       "      <th>8</th>\n",
       "      <td>E_00015cd7e0227f</td>\n",
       "      <td>lake destiny</td>\n",
       "      <td>maitland fl 32751 us</td>\n",
       "      <td>lakes</td>\n",
       "      <td>E_7250ab441d9d42</td>\n",
       "      <td>lake destiny field</td>\n",
       "      <td>maitland fl 32751 us</td>\n",
       "      <td>soccer fields</td>\n",
       "      <td>False</td>\n",
       "      <td>0.000253</td>\n",
       "    </tr>\n",
       "    <tr>\n",
       "      <th>11</th>\n",
       "      <td>E_0001a397f67ad5</td>\n",
       "      <td>dale city truck-only safety rest area north</td>\n",
       "      <td>interstate 95 north montclair va 22026 us</td>\n",
       "      <td>rest areas</td>\n",
       "      <td>E_4b83e498f06eff</td>\n",
       "      <td>i-95 exit 152 truck stop</td>\n",
       "      <td>dumfries va 22026 us</td>\n",
       "      <td>rest areas</td>\n",
       "      <td>True</td>\n",
       "      <td>0.000119</td>\n",
       "    </tr>\n",
       "  </tbody>\n",
       "</table>\n",
       "</div>"
      ],
      "text/plain": [
       "                id_1                                       name_1  \\\n",
       "3   E_00007dcd2bb53f                            togo's sandwiches   \n",
       "6   E_0000d9e584ed9f                signature properties savannah   \n",
       "7   E_00011cca3f0bd6                               inner workings   \n",
       "8   E_00015cd7e0227f                                 lake destiny   \n",
       "11  E_0001a397f67ad5  dale city truck-only safety rest area north   \n",
       "\n",
       "                                    full_address_1         categories_1  \\\n",
       "3   1380 holiday ln., ste. b fairfield ca 94534 us      sandwich places   \n",
       "6     100 commercial ct ste c savannah ga 31406 us  real estate offices   \n",
       "7        serving general area santa fe nm 87501 us      massage studios   \n",
       "8                             maitland fl 32751 us                lakes   \n",
       "11       interstate 95 north montclair va 22026 us           rest areas   \n",
       "\n",
       "                id_2                         name_2  \\\n",
       "3   E_f131dcb7f07be9                         togo's   \n",
       "6   E_caad79f6ed7c44  signature properties savannah   \n",
       "7   E_aeffddf31a4b9e                 inner workings   \n",
       "8   E_7250ab441d9d42             lake destiny field   \n",
       "11  E_4b83e498f06eff       i-95 exit 152 truck stop   \n",
       "\n",
       "                               full_address_2     categories_2  match  \\\n",
       "3                            fairfield ca  us  sandwich places   True   \n",
       "6       7014 abercorn st savannah ga 31406 us                    True   \n",
       "7   serving general area santa fe nm 87501 us  massage studios   True   \n",
       "8                        maitland fl 32751 us    soccer fields  False   \n",
       "11                       dumfries va 22026 us       rest areas   True   \n",
       "\n",
       "    theta_diff  \n",
       "3     0.000002  \n",
       "6     0.000082  \n",
       "7     0.000019  \n",
       "8     0.000253  \n",
       "11    0.000119  "
      ]
     },
     "execution_count": 30,
     "metadata": {},
     "output_type": "execute_result"
    }
   ],
   "source": [
    "pairs_red_us.head()"
   ]
  },
  {
   "cell_type": "markdown",
   "metadata": {
    "id": "7V6mmvBXU4xW"
   },
   "source": [
    "I tihnk I can drop ids as well"
   ]
  },
  {
   "cell_type": "code",
   "execution_count": null,
   "metadata": {
    "id": "DqQ84BbkU4xW"
   },
   "outputs": [],
   "source": [
    "pairs_red_us = pairs_red_us.drop(['id_1', 'id_2'], axis = 1)"
   ]
  },
  {
   "cell_type": "code",
   "execution_count": null,
   "metadata": {
    "id": "W3cdivbGU4xW",
    "outputId": "868cfdbd-9d18-47c8-814b-acb6f008583d"
   },
   "outputs": [
    {
     "data": {
      "text/plain": [
       "117793"
      ]
     },
     "execution_count": 59,
     "metadata": {},
     "output_type": "execute_result"
    }
   ],
   "source": [
    "len(pairs_red_us['name_1'])"
   ]
  },
  {
   "cell_type": "code",
   "execution_count": null,
   "metadata": {
    "id": "lu-hnqpeU4xW",
    "outputId": "069a1245-a6e8-4eba-b07a-2f1ab58e99f8"
   },
   "outputs": [
    {
     "data": {
      "text/plain": [
       "0"
      ]
     },
     "execution_count": 60,
     "metadata": {},
     "output_type": "execute_result"
    }
   ],
   "source": [
    "len(pairs_red_us['name_1'][pairs_red_us['name_1'].isna()])"
   ]
  },
  {
   "cell_type": "code",
   "execution_count": null,
   "metadata": {
    "collapsed": true,
    "id": "dWPC4WakU4xW",
    "jupyter": {
     "outputs_hidden": true
    },
    "outputId": "19004d3c-c558-440a-bbde-524bc3062ccb"
   },
   "outputs": [
    {
     "data": {
      "text/plain": [
       "['signature properties savannah',\n",
       " 'inner workings',\n",
       " 'lake destiny',\n",
       " 'dale city truck-only safety rest area north',\n",
       " 'del mar motel',\n",
       " 'trinity united methodist church',\n",
       " 'la quinta inn & suites memphis wolfchase',\n",
       " 'la quinta inn & suites memphis wolfchase',\n",
       " 'apa hotel woodbridge',\n",
       " 'g&m',\n",
       " 'g&m',\n",
       " 'hampton inn & suites',\n",
       " 'the home depot',\n",
       " 'scoots',\n",
       " 'potbelly sandwich shop',\n",
       " 'jibarra',\n",
       " 'seaport village',\n",
       " 'witt ford',\n",
       " 'harbor freight tools',\n",
       " 'local@biztraffic.com',\n",
       " 'walmart neighborhood market',\n",
       " 'la quinta inn & suites jacksonville mandarin',\n",
       " \"nick's liquors\",\n",
       " 'adp alpharetta',\n",
       " 'north terre haute, in',\n",
       " 'gucci男士内裤-一比一原单a货奢侈品他',\n",
       " 'brookville dental associates',\n",
       " 'carmax',\n",
       " 'sun devil marketplace',\n",
       " 'premier relocations',\n",
       " 'zoom tan - tanning salon',\n",
       " 'tecumseh elementary school',\n",
       " 'asha indian restaurant',\n",
       " 'lambo chinese buffet',\n",
       " 'the galley',\n",
       " 'rockledge dental',\n",
       " 'stellar car services',\n",
       " 'panda express',\n",
       " 'mhc truck leasing - atlanta',\n",
       " 'sears auto center',\n",
       " 'jamba juice',\n",
       " 'jamba juice',\n",
       " 'the falls apartments',\n",
       " \"albert paul's salon\",\n",
       " 'kimpton goodland',\n",
       " 'cutting',\n",
       " 'walmart 1300',\n",
       " 'office depot',\n",
       " 'redbox',\n",
       " 'uf/shands nicu',\n",
       " 'radioshack',\n",
       " 'oak haven resort cabin 80',\n",
       " 'lafayette station',\n",
       " 'brant lake',\n",
       " \"lindberg's\",\n",
       " 'the flats at hursbourne',\n",
       " 'villas at beaver creek',\n",
       " 'mrs. cruse room',\n",
       " 'advance auto parts',\n",
       " 'youfit health clubs',\n",
       " 'dw手表图片女士-一比一原单a货奢侈品蓬',\n",
       " 'murchison bell tower',\n",
       " 'amigos/kings classic',\n",
       " 'amigos/kings classic',\n",
       " 'barcelona tapas bar & restaurant',\n",
       " 'kalahari parking lot',\n",
       " 'mercadito midtown',\n",
       " 'concierge cleaners',\n",
       " 'häagen-dazs',\n",
       " 'simply slavic festival 2012',\n",
       " 'mars center for science & technology',\n",
       " 'catoosa county court house',\n",
       " 'the home depot',\n",
       " 'shearwater',\n",
       " 'the ceili house',\n",
       " 'kalahari water park',\n",
       " 'embassy suites by hilton',\n",
       " 'aldo',\n",
       " 'sneden hall - room 313',\n",
       " 'extended stay hotels',\n",
       " 'extended stay hotels',\n",
       " 'subway',\n",
       " 'dickeys barbecue pit',\n",
       " 'academic buiding a210',\n",
       " 'dr lauder',\n",
       " 'wilmerhale',\n",
       " 'seo near me - sites by sara',\n",
       " 'seo near me - sites by sara',\n",
       " 'pier 1 imports',\n",
       " '5 star rental',\n",
       " 'ironmonger brewing',\n",
       " 'wildd wings',\n",
       " 'lafayette dental group',\n",
       " 'jet wine bar',\n",
       " 'tricomb2b',\n",
       " 'henry county airport (7w5)',\n",
       " 'high point smile dentistry',\n",
       " 'red lodge lounge',\n",
       " 'peirce island playground']"
      ]
     },
     "execution_count": 79,
     "metadata": {},
     "output_type": "execute_result"
    }
   ],
   "source": [
    "pairs_red_us['name_1'].tolist()[1:100]"
   ]
  },
  {
   "cell_type": "markdown",
   "metadata": {
    "id": "2kIdUhFlU4xW"
   },
   "source": [
    "Now following the article \"Calculating STring Similarity in Python\""
   ]
  },
  {
   "cell_type": "code",
   "execution_count": null,
   "metadata": {
    "id": "ahbyO9GSU4xW",
    "outputId": "03d5de27-79cf-4f34-9e4e-374e5a3d8a92"
   },
   "outputs": [
    {
     "data": {
      "text/plain": [
       "3                                   togo's sandwiches\n",
       "6                       signature properties savannah\n",
       "7                                      inner workings\n",
       "8                                        lake destiny\n",
       "11        dale city truck-only safety rest area north\n",
       "                             ...                     \n",
       "578885                                        talbots\n",
       "578888                                    bank street\n",
       "578890                             signature plumbing\n",
       "578900                                      walgreens\n",
       "578904           cricket wireless authorized retailer\n",
       "Name: name_1, Length: 117793, dtype: object"
      ]
     },
     "execution_count": 33,
     "metadata": {},
     "output_type": "execute_result"
    }
   ],
   "source": [
    "pairs_red_us['name_1']"
   ]
  },
  {
   "cell_type": "code",
   "execution_count": null,
   "metadata": {
    "id": "99giZrxYU4xX"
   },
   "outputs": [],
   "source": [
    "pairs_red_us['name_1'] = pairs_red_us['name_1'].str.replace('[{}]'.format(string.punctuation),'')\n",
    "pairs_red_us['name_2'] = pairs_red_us['name_2'].str.replace('[{}]'.format(string.punctuation),'')\n",
    "pairs_red_us['full_address_1'] = pairs_red_us['full_address_1'].str.replace('[{}]'.format(string.punctuation),'')\n",
    "pairs_red_us['full_address_2'] = pairs_red_us['full_address_2'].str.replace('[{}]'.format(string.punctuation),'')\n",
    "pairs_red_us['categories_1'] = pairs_red_us['categories_1'].str.replace('[{}]'.format(string.punctuation),'')\n",
    "pairs_red_us['categories_2'] = pairs_red_us['categories_2'].str.replace('[{}]'.format(string.punctuation),'')"
   ]
  },
  {
   "cell_type": "code",
   "execution_count": null,
   "metadata": {
    "id": "XWohhtXkU4xX",
    "outputId": "470b486b-9d3f-4778-a414-0128b54420af"
   },
   "outputs": [
    {
     "data": {
      "text/plain": [
       "'togos sandwiches'"
      ]
     },
     "execution_count": 35,
     "metadata": {},
     "output_type": "execute_result"
    }
   ],
   "source": [
    "pairs_red_us['name_1'].iloc[0]"
   ]
  },
  {
   "cell_type": "code",
   "execution_count": null,
   "metadata": {
    "id": "qk_TMHmoU4xX",
    "outputId": "6ed19375-0bd5-4235-ed43-56a72e3d3a3d"
   },
   "outputs": [
    {
     "data": {
      "text/html": [
       "<div>\n",
       "<style scoped>\n",
       "    .dataframe tbody tr th:only-of-type {\n",
       "        vertical-align: middle;\n",
       "    }\n",
       "\n",
       "    .dataframe tbody tr th {\n",
       "        vertical-align: top;\n",
       "    }\n",
       "\n",
       "    .dataframe thead th {\n",
       "        text-align: right;\n",
       "    }\n",
       "</style>\n",
       "<table border=\"1\" class=\"dataframe\">\n",
       "  <thead>\n",
       "    <tr style=\"text-align: right;\">\n",
       "      <th></th>\n",
       "      <th>name_1</th>\n",
       "      <th>full_address_1</th>\n",
       "      <th>categories_1</th>\n",
       "      <th>name_2</th>\n",
       "      <th>full_address_2</th>\n",
       "      <th>categories_2</th>\n",
       "      <th>match</th>\n",
       "      <th>theta_diff</th>\n",
       "    </tr>\n",
       "  </thead>\n",
       "  <tbody>\n",
       "    <tr>\n",
       "      <th>3</th>\n",
       "      <td>togos sandwiches</td>\n",
       "      <td>1380 holiday ln ste b fairfield ca 94534 us</td>\n",
       "      <td>sandwich places</td>\n",
       "      <td>togos</td>\n",
       "      <td>fairfield ca  us</td>\n",
       "      <td>sandwich places</td>\n",
       "      <td>True</td>\n",
       "      <td>0.000002</td>\n",
       "    </tr>\n",
       "    <tr>\n",
       "      <th>6</th>\n",
       "      <td>signature properties savannah</td>\n",
       "      <td>100 commercial ct ste c savannah ga 31406 us</td>\n",
       "      <td>real estate offices</td>\n",
       "      <td>signature properties savannah</td>\n",
       "      <td>7014 abercorn st savannah ga 31406 us</td>\n",
       "      <td></td>\n",
       "      <td>True</td>\n",
       "      <td>0.000082</td>\n",
       "    </tr>\n",
       "    <tr>\n",
       "      <th>7</th>\n",
       "      <td>inner workings</td>\n",
       "      <td>serving general area santa fe nm 87501 us</td>\n",
       "      <td>massage studios</td>\n",
       "      <td>inner workings</td>\n",
       "      <td>serving general area santa fe nm 87501 us</td>\n",
       "      <td>massage studios</td>\n",
       "      <td>True</td>\n",
       "      <td>0.000019</td>\n",
       "    </tr>\n",
       "    <tr>\n",
       "      <th>8</th>\n",
       "      <td>lake destiny</td>\n",
       "      <td>maitland fl 32751 us</td>\n",
       "      <td>lakes</td>\n",
       "      <td>lake destiny field</td>\n",
       "      <td>maitland fl 32751 us</td>\n",
       "      <td>soccer fields</td>\n",
       "      <td>False</td>\n",
       "      <td>0.000253</td>\n",
       "    </tr>\n",
       "    <tr>\n",
       "      <th>11</th>\n",
       "      <td>dale city truckonly safety rest area north</td>\n",
       "      <td>interstate 95 north montclair va 22026 us</td>\n",
       "      <td>rest areas</td>\n",
       "      <td>i95 exit 152 truck stop</td>\n",
       "      <td>dumfries va 22026 us</td>\n",
       "      <td>rest areas</td>\n",
       "      <td>True</td>\n",
       "      <td>0.000119</td>\n",
       "    </tr>\n",
       "  </tbody>\n",
       "</table>\n",
       "</div>"
      ],
      "text/plain": [
       "                                        name_1  \\\n",
       "3                             togos sandwiches   \n",
       "6                signature properties savannah   \n",
       "7                               inner workings   \n",
       "8                                 lake destiny   \n",
       "11  dale city truckonly safety rest area north   \n",
       "\n",
       "                                  full_address_1         categories_1  \\\n",
       "3    1380 holiday ln ste b fairfield ca 94534 us      sandwich places   \n",
       "6   100 commercial ct ste c savannah ga 31406 us  real estate offices   \n",
       "7      serving general area santa fe nm 87501 us      massage studios   \n",
       "8                           maitland fl 32751 us                lakes   \n",
       "11     interstate 95 north montclair va 22026 us           rest areas   \n",
       "\n",
       "                           name_2                             full_address_2  \\\n",
       "3                           togos                           fairfield ca  us   \n",
       "6   signature properties savannah      7014 abercorn st savannah ga 31406 us   \n",
       "7                  inner workings  serving general area santa fe nm 87501 us   \n",
       "8              lake destiny field                       maitland fl 32751 us   \n",
       "11        i95 exit 152 truck stop                       dumfries va 22026 us   \n",
       "\n",
       "       categories_2  match  theta_diff  \n",
       "3   sandwich places   True    0.000002  \n",
       "6                     True    0.000082  \n",
       "7   massage studios   True    0.000019  \n",
       "8     soccer fields  False    0.000253  \n",
       "11       rest areas   True    0.000119  "
      ]
     },
     "execution_count": 36,
     "metadata": {},
     "output_type": "execute_result"
    }
   ],
   "source": [
    "pairs_red_us.head()"
   ]
  },
  {
   "cell_type": "code",
   "execution_count": null,
   "metadata": {
    "id": "O1MDITeUU4xX"
   },
   "outputs": [],
   "source": [
    "pairs_red_us = pairs_red_us.reset_index().drop('index', axis = 1)"
   ]
  },
  {
   "cell_type": "code",
   "execution_count": null,
   "metadata": {
    "id": "_nYUj4d5U4xX",
    "outputId": "e268a84b-5bd1-4987-df32-d68bbaf013f9"
   },
   "outputs": [
    {
     "data": {
      "text/html": [
       "<div>\n",
       "<style scoped>\n",
       "    .dataframe tbody tr th:only-of-type {\n",
       "        vertical-align: middle;\n",
       "    }\n",
       "\n",
       "    .dataframe tbody tr th {\n",
       "        vertical-align: top;\n",
       "    }\n",
       "\n",
       "    .dataframe thead th {\n",
       "        text-align: right;\n",
       "    }\n",
       "</style>\n",
       "<table border=\"1\" class=\"dataframe\">\n",
       "  <thead>\n",
       "    <tr style=\"text-align: right;\">\n",
       "      <th></th>\n",
       "      <th>name_1</th>\n",
       "      <th>full_address_1</th>\n",
       "      <th>categories_1</th>\n",
       "      <th>name_2</th>\n",
       "      <th>full_address_2</th>\n",
       "      <th>categories_2</th>\n",
       "      <th>match</th>\n",
       "      <th>theta_diff</th>\n",
       "    </tr>\n",
       "  </thead>\n",
       "  <tbody>\n",
       "    <tr>\n",
       "      <th>0</th>\n",
       "      <td>togos sandwiches</td>\n",
       "      <td>1380 holiday ln ste b fairfield ca 94534 us</td>\n",
       "      <td>sandwich places</td>\n",
       "      <td>togos</td>\n",
       "      <td>fairfield ca  us</td>\n",
       "      <td>sandwich places</td>\n",
       "      <td>True</td>\n",
       "      <td>0.000002</td>\n",
       "    </tr>\n",
       "    <tr>\n",
       "      <th>1</th>\n",
       "      <td>signature properties savannah</td>\n",
       "      <td>100 commercial ct ste c savannah ga 31406 us</td>\n",
       "      <td>real estate offices</td>\n",
       "      <td>signature properties savannah</td>\n",
       "      <td>7014 abercorn st savannah ga 31406 us</td>\n",
       "      <td></td>\n",
       "      <td>True</td>\n",
       "      <td>0.000082</td>\n",
       "    </tr>\n",
       "    <tr>\n",
       "      <th>2</th>\n",
       "      <td>inner workings</td>\n",
       "      <td>serving general area santa fe nm 87501 us</td>\n",
       "      <td>massage studios</td>\n",
       "      <td>inner workings</td>\n",
       "      <td>serving general area santa fe nm 87501 us</td>\n",
       "      <td>massage studios</td>\n",
       "      <td>True</td>\n",
       "      <td>0.000019</td>\n",
       "    </tr>\n",
       "    <tr>\n",
       "      <th>3</th>\n",
       "      <td>lake destiny</td>\n",
       "      <td>maitland fl 32751 us</td>\n",
       "      <td>lakes</td>\n",
       "      <td>lake destiny field</td>\n",
       "      <td>maitland fl 32751 us</td>\n",
       "      <td>soccer fields</td>\n",
       "      <td>False</td>\n",
       "      <td>0.000253</td>\n",
       "    </tr>\n",
       "    <tr>\n",
       "      <th>4</th>\n",
       "      <td>dale city truckonly safety rest area north</td>\n",
       "      <td>interstate 95 north montclair va 22026 us</td>\n",
       "      <td>rest areas</td>\n",
       "      <td>i95 exit 152 truck stop</td>\n",
       "      <td>dumfries va 22026 us</td>\n",
       "      <td>rest areas</td>\n",
       "      <td>True</td>\n",
       "      <td>0.000119</td>\n",
       "    </tr>\n",
       "  </tbody>\n",
       "</table>\n",
       "</div>"
      ],
      "text/plain": [
       "                                       name_1  \\\n",
       "0                            togos sandwiches   \n",
       "1               signature properties savannah   \n",
       "2                              inner workings   \n",
       "3                                lake destiny   \n",
       "4  dale city truckonly safety rest area north   \n",
       "\n",
       "                                 full_address_1         categories_1  \\\n",
       "0   1380 holiday ln ste b fairfield ca 94534 us      sandwich places   \n",
       "1  100 commercial ct ste c savannah ga 31406 us  real estate offices   \n",
       "2     serving general area santa fe nm 87501 us      massage studios   \n",
       "3                          maitland fl 32751 us                lakes   \n",
       "4     interstate 95 north montclair va 22026 us           rest areas   \n",
       "\n",
       "                          name_2                             full_address_2  \\\n",
       "0                          togos                           fairfield ca  us   \n",
       "1  signature properties savannah      7014 abercorn st savannah ga 31406 us   \n",
       "2                 inner workings  serving general area santa fe nm 87501 us   \n",
       "3             lake destiny field                       maitland fl 32751 us   \n",
       "4        i95 exit 152 truck stop                       dumfries va 22026 us   \n",
       "\n",
       "      categories_2  match  theta_diff  \n",
       "0  sandwich places   True    0.000002  \n",
       "1                    True    0.000082  \n",
       "2  massage studios   True    0.000019  \n",
       "3    soccer fields  False    0.000253  \n",
       "4       rest areas   True    0.000119  "
      ]
     },
     "execution_count": 38,
     "metadata": {},
     "output_type": "execute_result"
    }
   ],
   "source": [
    "pairs_red_us.head()"
   ]
  },
  {
   "cell_type": "code",
   "execution_count": null,
   "metadata": {
    "id": "WMk8CgtmU4xX"
   },
   "outputs": [],
   "source": [
    "pairs_red_us.to_csv(r'C:\\Users\\gorma\\OneDrive\\Documents\\Erdos\\foursquare-location-matching\\tim_code\\working_data\\pairs_reduced_us.csv')"
   ]
  },
  {
   "cell_type": "code",
   "execution_count": null,
   "metadata": {
    "id": "t6-CVK-8U4xX"
   },
   "outputs": [],
   "source": [
    "vectors = CountVectorizer().fit_transform([pairs_red_us['name_1'].iloc[0], pairs_red_us['name_2'].iloc[0]]).toarray()"
   ]
  },
  {
   "cell_type": "code",
   "execution_count": null,
   "metadata": {
    "id": "C6SjtQNCU4xX"
   },
   "outputs": [],
   "source": [
    "csim = cosine_similarity(vectors)"
   ]
  },
  {
   "cell_type": "code",
   "execution_count": null,
   "metadata": {
    "id": "QsCd7hunU4xX",
    "outputId": "4a8295c6-0100-40fb-cd4a-4087cebe2ba2"
   },
   "outputs": [
    {
     "data": {
      "text/plain": [
       "array([[1.        , 0.70710678],\n",
       "       [0.70710678, 1.        ]])"
      ]
     },
     "execution_count": 42,
     "metadata": {},
     "output_type": "execute_result"
    }
   ],
   "source": [
    "csim"
   ]
  },
  {
   "cell_type": "code",
   "execution_count": null,
   "metadata": {
    "id": "X6rv_c5WU4xY",
    "outputId": "3bed2b83-1c10-47e8-aa82-8644bdedb820"
   },
   "outputs": [
    {
     "data": {
      "text/plain": [
       "0.7071067811865475"
      ]
     },
     "execution_count": 43,
     "metadata": {},
     "output_type": "execute_result"
    }
   ],
   "source": [
    "csim[0][1]"
   ]
  },
  {
   "cell_type": "code",
   "execution_count": null,
   "metadata": {
    "id": "VwGOJaLQU4xY",
    "outputId": "17b6c104-3b62-469e-fd66-3e066d87eb49"
   },
   "outputs": [
    {
     "data": {
      "text/plain": [
       "range(0, 117793)"
      ]
     },
     "execution_count": 44,
     "metadata": {},
     "output_type": "execute_result"
    }
   ],
   "source": [
    "range(len(pairs_red_us.iloc[:]))"
   ]
  },
  {
   "cell_type": "code",
   "execution_count": null,
   "metadata": {
    "id": "0maKzFrHU4xY"
   },
   "outputs": [],
   "source": [
    "name_cosines = []\n",
    "for i in range(len(pairs_red_us)):\n",
    "    if (pairs_red_us['name_1'].iloc[i] == '') | (pairs_red_us['name_2'].iloc[i] == ''):\n",
    "        csim = -1\n",
    "    else:\n",
    "        csim = cosine_similarity(CountVectorizer().fit_transform([pairs_red_us['name_1'].iloc[i], pairs_red_us['name_2'].iloc[i]]).toarray())[0][1]\n",
    "    name_cosines.append(csim)"
   ]
  },
  {
   "cell_type": "code",
   "execution_count": null,
   "metadata": {
    "id": "hSpNAIyRU4xY",
    "outputId": "d8c881c5-0f1e-4054-abdc-fce5e308bb40"
   },
   "outputs": [
    {
     "data": {
      "text/plain": [
       "117793"
      ]
     },
     "execution_count": 46,
     "metadata": {},
     "output_type": "execute_result"
    }
   ],
   "source": [
    "len(name_cosines)"
   ]
  },
  {
   "cell_type": "code",
   "execution_count": null,
   "metadata": {
    "id": "5OZKEs7gU4xY"
   },
   "outputs": [],
   "source": [
    "pairs_red_us['name_cosines'] = pd.DataFrame(name_cosines)"
   ]
  },
  {
   "cell_type": "code",
   "execution_count": null,
   "metadata": {
    "id": "fiU7BblvU4xY",
    "outputId": "ef90b87c-6f54-4c01-ecf6-dfcb618034ad"
   },
   "outputs": [
    {
     "name": "stdout",
     "output_type": "stream",
     "text": [
      "<class 'pandas.core.frame.DataFrame'>\n",
      "RangeIndex: 117793 entries, 0 to 117792\n",
      "Data columns (total 9 columns):\n",
      " #   Column          Non-Null Count   Dtype  \n",
      "---  ------          --------------   -----  \n",
      " 0   name_1          117793 non-null  object \n",
      " 1   full_address_1  117793 non-null  object \n",
      " 2   categories_1    117793 non-null  object \n",
      " 3   name_2          117793 non-null  object \n",
      " 4   full_address_2  117793 non-null  object \n",
      " 5   categories_2    117793 non-null  object \n",
      " 6   match           117793 non-null  bool   \n",
      " 7   theta_diff      117793 non-null  float64\n",
      " 8   name_cosines    117793 non-null  float64\n",
      "dtypes: bool(1), float64(2), object(6)\n",
      "memory usage: 7.3+ MB\n"
     ]
    }
   ],
   "source": [
    "pairs_red_us.info()"
   ]
  },
  {
   "cell_type": "code",
   "execution_count": null,
   "metadata": {
    "id": "u2acEbjKU4xY",
    "outputId": "e4c7d950-0e04-4e42-f1ad-18b65377dfcb"
   },
   "outputs": [
    {
     "data": {
      "text/html": [
       "<div>\n",
       "<style scoped>\n",
       "    .dataframe tbody tr th:only-of-type {\n",
       "        vertical-align: middle;\n",
       "    }\n",
       "\n",
       "    .dataframe tbody tr th {\n",
       "        vertical-align: top;\n",
       "    }\n",
       "\n",
       "    .dataframe thead th {\n",
       "        text-align: right;\n",
       "    }\n",
       "</style>\n",
       "<table border=\"1\" class=\"dataframe\">\n",
       "  <thead>\n",
       "    <tr style=\"text-align: right;\">\n",
       "      <th></th>\n",
       "      <th>name_1</th>\n",
       "      <th>full_address_1</th>\n",
       "      <th>categories_1</th>\n",
       "      <th>name_2</th>\n",
       "      <th>full_address_2</th>\n",
       "      <th>categories_2</th>\n",
       "      <th>match</th>\n",
       "      <th>theta_diff</th>\n",
       "      <th>name_cosines</th>\n",
       "    </tr>\n",
       "  </thead>\n",
       "  <tbody>\n",
       "  </tbody>\n",
       "</table>\n",
       "</div>"
      ],
      "text/plain": [
       "Empty DataFrame\n",
       "Columns: [name_1, full_address_1, categories_1, name_2, full_address_2, categories_2, match, theta_diff, name_cosines]\n",
       "Index: []"
      ]
     },
     "execution_count": 49,
     "metadata": {},
     "output_type": "execute_result"
    }
   ],
   "source": [
    "pairs_red_us[pairs_red_us['name_cosines'].isna()]"
   ]
  },
  {
   "cell_type": "code",
   "execution_count": null,
   "metadata": {
    "id": "JHTMZHeoU4xY",
    "outputId": "a78cee6a-3f1e-4861-a20b-455577aed8cf"
   },
   "outputs": [
    {
     "data": {
      "text/html": [
       "<div>\n",
       "<style scoped>\n",
       "    .dataframe tbody tr th:only-of-type {\n",
       "        vertical-align: middle;\n",
       "    }\n",
       "\n",
       "    .dataframe tbody tr th {\n",
       "        vertical-align: top;\n",
       "    }\n",
       "\n",
       "    .dataframe thead th {\n",
       "        text-align: right;\n",
       "    }\n",
       "</style>\n",
       "<table border=\"1\" class=\"dataframe\">\n",
       "  <thead>\n",
       "    <tr style=\"text-align: right;\">\n",
       "      <th></th>\n",
       "      <th>name_1</th>\n",
       "      <th>full_address_1</th>\n",
       "      <th>categories_1</th>\n",
       "      <th>name_2</th>\n",
       "      <th>full_address_2</th>\n",
       "      <th>categories_2</th>\n",
       "      <th>match</th>\n",
       "      <th>theta_diff</th>\n",
       "      <th>name_cosines</th>\n",
       "    </tr>\n",
       "  </thead>\n",
       "  <tbody>\n",
       "  </tbody>\n",
       "</table>\n",
       "</div>"
      ],
      "text/plain": [
       "Empty DataFrame\n",
       "Columns: [name_1, full_address_1, categories_1, name_2, full_address_2, categories_2, match, theta_diff, name_cosines]\n",
       "Index: []"
      ]
     },
     "execution_count": 50,
     "metadata": {},
     "output_type": "execute_result"
    }
   ],
   "source": [
    "pairs_red_us[pairs_red_us['categories_2'].isna()]"
   ]
  },
  {
   "cell_type": "code",
   "execution_count": null,
   "metadata": {
    "id": "9j233zqAU4xY",
    "outputId": "643f42e4-3e29-49f4-ea6a-c46e58dd7906"
   },
   "outputs": [
    {
     "data": {
      "text/html": [
       "<div>\n",
       "<style scoped>\n",
       "    .dataframe tbody tr th:only-of-type {\n",
       "        vertical-align: middle;\n",
       "    }\n",
       "\n",
       "    .dataframe tbody tr th {\n",
       "        vertical-align: top;\n",
       "    }\n",
       "\n",
       "    .dataframe thead th {\n",
       "        text-align: right;\n",
       "    }\n",
       "</style>\n",
       "<table border=\"1\" class=\"dataframe\">\n",
       "  <thead>\n",
       "    <tr style=\"text-align: right;\">\n",
       "      <th></th>\n",
       "      <th>name_1</th>\n",
       "      <th>full_address_1</th>\n",
       "      <th>categories_1</th>\n",
       "      <th>name_2</th>\n",
       "      <th>full_address_2</th>\n",
       "      <th>categories_2</th>\n",
       "      <th>match</th>\n",
       "      <th>theta_diff</th>\n",
       "      <th>name_cosines</th>\n",
       "    </tr>\n",
       "  </thead>\n",
       "  <tbody>\n",
       "    <tr>\n",
       "      <th>0</th>\n",
       "      <td>togos sandwiches</td>\n",
       "      <td>1380 holiday ln ste b fairfield ca 94534 us</td>\n",
       "      <td>sandwich places</td>\n",
       "      <td>togos</td>\n",
       "      <td>fairfield ca  us</td>\n",
       "      <td>sandwich places</td>\n",
       "      <td>True</td>\n",
       "      <td>0.000002</td>\n",
       "      <td>0.707107</td>\n",
       "    </tr>\n",
       "    <tr>\n",
       "      <th>1</th>\n",
       "      <td>signature properties savannah</td>\n",
       "      <td>100 commercial ct ste c savannah ga 31406 us</td>\n",
       "      <td>real estate offices</td>\n",
       "      <td>signature properties savannah</td>\n",
       "      <td>7014 abercorn st savannah ga 31406 us</td>\n",
       "      <td></td>\n",
       "      <td>True</td>\n",
       "      <td>0.000082</td>\n",
       "      <td>1.000000</td>\n",
       "    </tr>\n",
       "    <tr>\n",
       "      <th>2</th>\n",
       "      <td>inner workings</td>\n",
       "      <td>serving general area santa fe nm 87501 us</td>\n",
       "      <td>massage studios</td>\n",
       "      <td>inner workings</td>\n",
       "      <td>serving general area santa fe nm 87501 us</td>\n",
       "      <td>massage studios</td>\n",
       "      <td>True</td>\n",
       "      <td>0.000019</td>\n",
       "      <td>1.000000</td>\n",
       "    </tr>\n",
       "    <tr>\n",
       "      <th>3</th>\n",
       "      <td>lake destiny</td>\n",
       "      <td>maitland fl 32751 us</td>\n",
       "      <td>lakes</td>\n",
       "      <td>lake destiny field</td>\n",
       "      <td>maitland fl 32751 us</td>\n",
       "      <td>soccer fields</td>\n",
       "      <td>False</td>\n",
       "      <td>0.000253</td>\n",
       "      <td>0.816497</td>\n",
       "    </tr>\n",
       "    <tr>\n",
       "      <th>4</th>\n",
       "      <td>dale city truckonly safety rest area north</td>\n",
       "      <td>interstate 95 north montclair va 22026 us</td>\n",
       "      <td>rest areas</td>\n",
       "      <td>i95 exit 152 truck stop</td>\n",
       "      <td>dumfries va 22026 us</td>\n",
       "      <td>rest areas</td>\n",
       "      <td>True</td>\n",
       "      <td>0.000119</td>\n",
       "      <td>0.000000</td>\n",
       "    </tr>\n",
       "  </tbody>\n",
       "</table>\n",
       "</div>"
      ],
      "text/plain": [
       "                                       name_1  \\\n",
       "0                            togos sandwiches   \n",
       "1               signature properties savannah   \n",
       "2                              inner workings   \n",
       "3                                lake destiny   \n",
       "4  dale city truckonly safety rest area north   \n",
       "\n",
       "                                 full_address_1         categories_1  \\\n",
       "0   1380 holiday ln ste b fairfield ca 94534 us      sandwich places   \n",
       "1  100 commercial ct ste c savannah ga 31406 us  real estate offices   \n",
       "2     serving general area santa fe nm 87501 us      massage studios   \n",
       "3                          maitland fl 32751 us                lakes   \n",
       "4     interstate 95 north montclair va 22026 us           rest areas   \n",
       "\n",
       "                          name_2                             full_address_2  \\\n",
       "0                          togos                           fairfield ca  us   \n",
       "1  signature properties savannah      7014 abercorn st savannah ga 31406 us   \n",
       "2                 inner workings  serving general area santa fe nm 87501 us   \n",
       "3             lake destiny field                       maitland fl 32751 us   \n",
       "4        i95 exit 152 truck stop                       dumfries va 22026 us   \n",
       "\n",
       "      categories_2  match  theta_diff  name_cosines  \n",
       "0  sandwich places   True    0.000002      0.707107  \n",
       "1                    True    0.000082      1.000000  \n",
       "2  massage studios   True    0.000019      1.000000  \n",
       "3    soccer fields  False    0.000253      0.816497  \n",
       "4       rest areas   True    0.000119      0.000000  "
      ]
     },
     "execution_count": 51,
     "metadata": {},
     "output_type": "execute_result"
    }
   ],
   "source": [
    "pairs_red_us.head()"
   ]
  },
  {
   "cell_type": "code",
   "execution_count": null,
   "metadata": {
    "id": "0GCw8oTDU4xY"
   },
   "outputs": [],
   "source": [
    "address_cosines = []\n",
    "for i in range(len(pairs_red_us)):\n",
    "    if (pairs_red_us['full_address_1'].iloc[i] == '') | (pairs_red_us['full_address_2'].iloc[i] == ''):\n",
    "        csim = -1\n",
    "    else:\n",
    "        csim = cosine_similarity(CountVectorizer().fit_transform([pairs_red_us['full_address_1'].iloc[i], pairs_red_us['full_address_2'].iloc[i]]).toarray())[0][1]\n",
    "    address_cosines.append(csim)\n",
    "\n",
    "pairs_red_us['full_address_cosines'] = pd.DataFrame(address_cosines)"
   ]
  },
  {
   "cell_type": "code",
   "execution_count": null,
   "metadata": {
    "id": "CZhEy5SSU4xZ",
    "outputId": "c5734dae-7251-429e-bd57-0a411572c93c"
   },
   "outputs": [
    {
     "data": {
      "text/html": [
       "<div>\n",
       "<style scoped>\n",
       "    .dataframe tbody tr th:only-of-type {\n",
       "        vertical-align: middle;\n",
       "    }\n",
       "\n",
       "    .dataframe tbody tr th {\n",
       "        vertical-align: top;\n",
       "    }\n",
       "\n",
       "    .dataframe thead th {\n",
       "        text-align: right;\n",
       "    }\n",
       "</style>\n",
       "<table border=\"1\" class=\"dataframe\">\n",
       "  <thead>\n",
       "    <tr style=\"text-align: right;\">\n",
       "      <th></th>\n",
       "      <th>name_1</th>\n",
       "      <th>full_address_1</th>\n",
       "      <th>categories_1</th>\n",
       "      <th>name_2</th>\n",
       "      <th>full_address_2</th>\n",
       "      <th>categories_2</th>\n",
       "      <th>match</th>\n",
       "      <th>theta_diff</th>\n",
       "      <th>name_cosines</th>\n",
       "      <th>full_address_cosines</th>\n",
       "    </tr>\n",
       "  </thead>\n",
       "  <tbody>\n",
       "    <tr>\n",
       "      <th>0</th>\n",
       "      <td>togos sandwiches</td>\n",
       "      <td>1380 holiday ln ste b fairfield ca 94534 us</td>\n",
       "      <td>sandwich places</td>\n",
       "      <td>togos</td>\n",
       "      <td>fairfield ca  us</td>\n",
       "      <td>sandwich places</td>\n",
       "      <td>True</td>\n",
       "      <td>0.000002</td>\n",
       "      <td>0.707107</td>\n",
       "      <td>0.612372</td>\n",
       "    </tr>\n",
       "    <tr>\n",
       "      <th>1</th>\n",
       "      <td>signature properties savannah</td>\n",
       "      <td>100 commercial ct ste c savannah ga 31406 us</td>\n",
       "      <td>real estate offices</td>\n",
       "      <td>signature properties savannah</td>\n",
       "      <td>7014 abercorn st savannah ga 31406 us</td>\n",
       "      <td></td>\n",
       "      <td>True</td>\n",
       "      <td>0.000082</td>\n",
       "      <td>1.000000</td>\n",
       "      <td>0.534522</td>\n",
       "    </tr>\n",
       "    <tr>\n",
       "      <th>2</th>\n",
       "      <td>inner workings</td>\n",
       "      <td>serving general area santa fe nm 87501 us</td>\n",
       "      <td>massage studios</td>\n",
       "      <td>inner workings</td>\n",
       "      <td>serving general area santa fe nm 87501 us</td>\n",
       "      <td>massage studios</td>\n",
       "      <td>True</td>\n",
       "      <td>0.000019</td>\n",
       "      <td>1.000000</td>\n",
       "      <td>1.000000</td>\n",
       "    </tr>\n",
       "    <tr>\n",
       "      <th>3</th>\n",
       "      <td>lake destiny</td>\n",
       "      <td>maitland fl 32751 us</td>\n",
       "      <td>lakes</td>\n",
       "      <td>lake destiny field</td>\n",
       "      <td>maitland fl 32751 us</td>\n",
       "      <td>soccer fields</td>\n",
       "      <td>False</td>\n",
       "      <td>0.000253</td>\n",
       "      <td>0.816497</td>\n",
       "      <td>1.000000</td>\n",
       "    </tr>\n",
       "    <tr>\n",
       "      <th>4</th>\n",
       "      <td>dale city truckonly safety rest area north</td>\n",
       "      <td>interstate 95 north montclair va 22026 us</td>\n",
       "      <td>rest areas</td>\n",
       "      <td>i95 exit 152 truck stop</td>\n",
       "      <td>dumfries va 22026 us</td>\n",
       "      <td>rest areas</td>\n",
       "      <td>True</td>\n",
       "      <td>0.000119</td>\n",
       "      <td>0.000000</td>\n",
       "      <td>0.566947</td>\n",
       "    </tr>\n",
       "  </tbody>\n",
       "</table>\n",
       "</div>"
      ],
      "text/plain": [
       "                                       name_1  \\\n",
       "0                            togos sandwiches   \n",
       "1               signature properties savannah   \n",
       "2                              inner workings   \n",
       "3                                lake destiny   \n",
       "4  dale city truckonly safety rest area north   \n",
       "\n",
       "                                 full_address_1         categories_1  \\\n",
       "0   1380 holiday ln ste b fairfield ca 94534 us      sandwich places   \n",
       "1  100 commercial ct ste c savannah ga 31406 us  real estate offices   \n",
       "2     serving general area santa fe nm 87501 us      massage studios   \n",
       "3                          maitland fl 32751 us                lakes   \n",
       "4     interstate 95 north montclair va 22026 us           rest areas   \n",
       "\n",
       "                          name_2                             full_address_2  \\\n",
       "0                          togos                           fairfield ca  us   \n",
       "1  signature properties savannah      7014 abercorn st savannah ga 31406 us   \n",
       "2                 inner workings  serving general area santa fe nm 87501 us   \n",
       "3             lake destiny field                       maitland fl 32751 us   \n",
       "4        i95 exit 152 truck stop                       dumfries va 22026 us   \n",
       "\n",
       "      categories_2  match  theta_diff  name_cosines  full_address_cosines  \n",
       "0  sandwich places   True    0.000002      0.707107              0.612372  \n",
       "1                    True    0.000082      1.000000              0.534522  \n",
       "2  massage studios   True    0.000019      1.000000              1.000000  \n",
       "3    soccer fields  False    0.000253      0.816497              1.000000  \n",
       "4       rest areas   True    0.000119      0.000000              0.566947  "
      ]
     },
     "execution_count": 53,
     "metadata": {},
     "output_type": "execute_result"
    }
   ],
   "source": [
    "pairs_red_us.head()"
   ]
  },
  {
   "cell_type": "code",
   "execution_count": null,
   "metadata": {
    "id": "68oIP2HKU4xZ"
   },
   "outputs": [],
   "source": [
    "categories_cosines = []\n",
    "for i in range(len(pairs_red_us)):\n",
    "    if (pairs_red_us['categories_1'].iloc[i] == '') | (pairs_red_us['categories_2'].iloc[i] == ''):\n",
    "        csim = -1\n",
    "    else:\n",
    "        csim = cosine_similarity(CountVectorizer().fit_transform([pairs_red_us['categories_1'].iloc[i], pairs_red_us['categories_2'].iloc[i]]).toarray())[0][1]\n",
    "    categories_cosines.append(csim)\n",
    "    \n",
    "pairs_red_us['categories_cosines'] = pd.DataFrame(categories_cosines)"
   ]
  },
  {
   "cell_type": "code",
   "execution_count": null,
   "metadata": {
    "id": "5KItRltTU4xZ",
    "outputId": "330668ce-6fe0-4519-beee-0a7966073ea8"
   },
   "outputs": [
    {
     "data": {
      "text/html": [
       "<div>\n",
       "<style scoped>\n",
       "    .dataframe tbody tr th:only-of-type {\n",
       "        vertical-align: middle;\n",
       "    }\n",
       "\n",
       "    .dataframe tbody tr th {\n",
       "        vertical-align: top;\n",
       "    }\n",
       "\n",
       "    .dataframe thead th {\n",
       "        text-align: right;\n",
       "    }\n",
       "</style>\n",
       "<table border=\"1\" class=\"dataframe\">\n",
       "  <thead>\n",
       "    <tr style=\"text-align: right;\">\n",
       "      <th></th>\n",
       "      <th>name_1</th>\n",
       "      <th>full_address_1</th>\n",
       "      <th>categories_1</th>\n",
       "      <th>name_2</th>\n",
       "      <th>full_address_2</th>\n",
       "      <th>categories_2</th>\n",
       "      <th>match</th>\n",
       "      <th>theta_diff</th>\n",
       "      <th>name_cosines</th>\n",
       "      <th>full_address_cosines</th>\n",
       "      <th>categories_cosines</th>\n",
       "    </tr>\n",
       "  </thead>\n",
       "  <tbody>\n",
       "    <tr>\n",
       "      <th>0</th>\n",
       "      <td>togos sandwiches</td>\n",
       "      <td>1380 holiday ln ste b fairfield ca 94534 us</td>\n",
       "      <td>sandwich places</td>\n",
       "      <td>togos</td>\n",
       "      <td>fairfield ca  us</td>\n",
       "      <td>sandwich places</td>\n",
       "      <td>True</td>\n",
       "      <td>0.000002</td>\n",
       "      <td>0.707107</td>\n",
       "      <td>0.612372</td>\n",
       "      <td>1.0</td>\n",
       "    </tr>\n",
       "    <tr>\n",
       "      <th>1</th>\n",
       "      <td>signature properties savannah</td>\n",
       "      <td>100 commercial ct ste c savannah ga 31406 us</td>\n",
       "      <td>real estate offices</td>\n",
       "      <td>signature properties savannah</td>\n",
       "      <td>7014 abercorn st savannah ga 31406 us</td>\n",
       "      <td></td>\n",
       "      <td>True</td>\n",
       "      <td>0.000082</td>\n",
       "      <td>1.000000</td>\n",
       "      <td>0.534522</td>\n",
       "      <td>-1.0</td>\n",
       "    </tr>\n",
       "    <tr>\n",
       "      <th>2</th>\n",
       "      <td>inner workings</td>\n",
       "      <td>serving general area santa fe nm 87501 us</td>\n",
       "      <td>massage studios</td>\n",
       "      <td>inner workings</td>\n",
       "      <td>serving general area santa fe nm 87501 us</td>\n",
       "      <td>massage studios</td>\n",
       "      <td>True</td>\n",
       "      <td>0.000019</td>\n",
       "      <td>1.000000</td>\n",
       "      <td>1.000000</td>\n",
       "      <td>1.0</td>\n",
       "    </tr>\n",
       "    <tr>\n",
       "      <th>3</th>\n",
       "      <td>lake destiny</td>\n",
       "      <td>maitland fl 32751 us</td>\n",
       "      <td>lakes</td>\n",
       "      <td>lake destiny field</td>\n",
       "      <td>maitland fl 32751 us</td>\n",
       "      <td>soccer fields</td>\n",
       "      <td>False</td>\n",
       "      <td>0.000253</td>\n",
       "      <td>0.816497</td>\n",
       "      <td>1.000000</td>\n",
       "      <td>0.0</td>\n",
       "    </tr>\n",
       "    <tr>\n",
       "      <th>4</th>\n",
       "      <td>dale city truckonly safety rest area north</td>\n",
       "      <td>interstate 95 north montclair va 22026 us</td>\n",
       "      <td>rest areas</td>\n",
       "      <td>i95 exit 152 truck stop</td>\n",
       "      <td>dumfries va 22026 us</td>\n",
       "      <td>rest areas</td>\n",
       "      <td>True</td>\n",
       "      <td>0.000119</td>\n",
       "      <td>0.000000</td>\n",
       "      <td>0.566947</td>\n",
       "      <td>1.0</td>\n",
       "    </tr>\n",
       "  </tbody>\n",
       "</table>\n",
       "</div>"
      ],
      "text/plain": [
       "                                       name_1  \\\n",
       "0                            togos sandwiches   \n",
       "1               signature properties savannah   \n",
       "2                              inner workings   \n",
       "3                                lake destiny   \n",
       "4  dale city truckonly safety rest area north   \n",
       "\n",
       "                                 full_address_1         categories_1  \\\n",
       "0   1380 holiday ln ste b fairfield ca 94534 us      sandwich places   \n",
       "1  100 commercial ct ste c savannah ga 31406 us  real estate offices   \n",
       "2     serving general area santa fe nm 87501 us      massage studios   \n",
       "3                          maitland fl 32751 us                lakes   \n",
       "4     interstate 95 north montclair va 22026 us           rest areas   \n",
       "\n",
       "                          name_2                             full_address_2  \\\n",
       "0                          togos                           fairfield ca  us   \n",
       "1  signature properties savannah      7014 abercorn st savannah ga 31406 us   \n",
       "2                 inner workings  serving general area santa fe nm 87501 us   \n",
       "3             lake destiny field                       maitland fl 32751 us   \n",
       "4        i95 exit 152 truck stop                       dumfries va 22026 us   \n",
       "\n",
       "      categories_2  match  theta_diff  name_cosines  full_address_cosines  \\\n",
       "0  sandwich places   True    0.000002      0.707107              0.612372   \n",
       "1                    True    0.000082      1.000000              0.534522   \n",
       "2  massage studios   True    0.000019      1.000000              1.000000   \n",
       "3    soccer fields  False    0.000253      0.816497              1.000000   \n",
       "4       rest areas   True    0.000119      0.000000              0.566947   \n",
       "\n",
       "   categories_cosines  \n",
       "0                 1.0  \n",
       "1                -1.0  \n",
       "2                 1.0  \n",
       "3                 0.0  \n",
       "4                 1.0  "
      ]
     },
     "execution_count": 55,
     "metadata": {},
     "output_type": "execute_result"
    }
   ],
   "source": [
    "pairs_red_us.head()"
   ]
  },
  {
   "cell_type": "code",
   "execution_count": null,
   "metadata": {
    "id": "r7NWk1oVU4xZ"
   },
   "outputs": [],
   "source": [
    "pairs_final_diffed_us = pairs_red_us[['theta_diff', 'name_cosines', 'full_address_cosines', 'categories_cosines', 'match']]"
   ]
  },
  {
   "cell_type": "code",
   "execution_count": null,
   "metadata": {
    "id": "yYR2S0ZZU4xZ",
    "outputId": "b9939efc-8cc1-4dd7-d6c7-a5d647036d23"
   },
   "outputs": [
    {
     "data": {
      "text/html": [
       "<div>\n",
       "<style scoped>\n",
       "    .dataframe tbody tr th:only-of-type {\n",
       "        vertical-align: middle;\n",
       "    }\n",
       "\n",
       "    .dataframe tbody tr th {\n",
       "        vertical-align: top;\n",
       "    }\n",
       "\n",
       "    .dataframe thead th {\n",
       "        text-align: right;\n",
       "    }\n",
       "</style>\n",
       "<table border=\"1\" class=\"dataframe\">\n",
       "  <thead>\n",
       "    <tr style=\"text-align: right;\">\n",
       "      <th></th>\n",
       "      <th>theta_diff</th>\n",
       "      <th>name_cosines</th>\n",
       "      <th>full_address_cosines</th>\n",
       "      <th>categories_cosines</th>\n",
       "      <th>match</th>\n",
       "    </tr>\n",
       "  </thead>\n",
       "  <tbody>\n",
       "    <tr>\n",
       "      <th>0</th>\n",
       "      <td>0.000002</td>\n",
       "      <td>0.707107</td>\n",
       "      <td>0.612372</td>\n",
       "      <td>1.000000</td>\n",
       "      <td>True</td>\n",
       "    </tr>\n",
       "    <tr>\n",
       "      <th>1</th>\n",
       "      <td>0.000082</td>\n",
       "      <td>1.000000</td>\n",
       "      <td>0.534522</td>\n",
       "      <td>-1.000000</td>\n",
       "      <td>True</td>\n",
       "    </tr>\n",
       "    <tr>\n",
       "      <th>2</th>\n",
       "      <td>0.000019</td>\n",
       "      <td>1.000000</td>\n",
       "      <td>1.000000</td>\n",
       "      <td>1.000000</td>\n",
       "      <td>True</td>\n",
       "    </tr>\n",
       "    <tr>\n",
       "      <th>3</th>\n",
       "      <td>0.000253</td>\n",
       "      <td>0.816497</td>\n",
       "      <td>1.000000</td>\n",
       "      <td>0.000000</td>\n",
       "      <td>False</td>\n",
       "    </tr>\n",
       "    <tr>\n",
       "      <th>4</th>\n",
       "      <td>0.000119</td>\n",
       "      <td>0.000000</td>\n",
       "      <td>0.566947</td>\n",
       "      <td>1.000000</td>\n",
       "      <td>True</td>\n",
       "    </tr>\n",
       "    <tr>\n",
       "      <th>...</th>\n",
       "      <td>...</td>\n",
       "      <td>...</td>\n",
       "      <td>...</td>\n",
       "      <td>...</td>\n",
       "      <td>...</td>\n",
       "    </tr>\n",
       "    <tr>\n",
       "      <th>117788</th>\n",
       "      <td>0.000691</td>\n",
       "      <td>1.000000</td>\n",
       "      <td>0.408248</td>\n",
       "      <td>0.816497</td>\n",
       "      <td>True</td>\n",
       "    </tr>\n",
       "    <tr>\n",
       "      <th>117789</th>\n",
       "      <td>0.000034</td>\n",
       "      <td>0.408248</td>\n",
       "      <td>0.750000</td>\n",
       "      <td>0.000000</td>\n",
       "      <td>False</td>\n",
       "    </tr>\n",
       "    <tr>\n",
       "      <th>117790</th>\n",
       "      <td>0.000002</td>\n",
       "      <td>1.000000</td>\n",
       "      <td>1.000000</td>\n",
       "      <td>0.000000</td>\n",
       "      <td>True</td>\n",
       "    </tr>\n",
       "    <tr>\n",
       "      <th>117791</th>\n",
       "      <td>0.001709</td>\n",
       "      <td>1.000000</td>\n",
       "      <td>0.235702</td>\n",
       "      <td>0.316228</td>\n",
       "      <td>False</td>\n",
       "    </tr>\n",
       "    <tr>\n",
       "      <th>117792</th>\n",
       "      <td>0.000136</td>\n",
       "      <td>1.000000</td>\n",
       "      <td>1.000000</td>\n",
       "      <td>1.000000</td>\n",
       "      <td>True</td>\n",
       "    </tr>\n",
       "  </tbody>\n",
       "</table>\n",
       "<p>117793 rows × 5 columns</p>\n",
       "</div>"
      ],
      "text/plain": [
       "        theta_diff  name_cosines  full_address_cosines  categories_cosines  \\\n",
       "0         0.000002      0.707107              0.612372            1.000000   \n",
       "1         0.000082      1.000000              0.534522           -1.000000   \n",
       "2         0.000019      1.000000              1.000000            1.000000   \n",
       "3         0.000253      0.816497              1.000000            0.000000   \n",
       "4         0.000119      0.000000              0.566947            1.000000   \n",
       "...            ...           ...                   ...                 ...   \n",
       "117788    0.000691      1.000000              0.408248            0.816497   \n",
       "117789    0.000034      0.408248              0.750000            0.000000   \n",
       "117790    0.000002      1.000000              1.000000            0.000000   \n",
       "117791    0.001709      1.000000              0.235702            0.316228   \n",
       "117792    0.000136      1.000000              1.000000            1.000000   \n",
       "\n",
       "        match  \n",
       "0        True  \n",
       "1        True  \n",
       "2        True  \n",
       "3       False  \n",
       "4        True  \n",
       "...       ...  \n",
       "117788   True  \n",
       "117789  False  \n",
       "117790   True  \n",
       "117791  False  \n",
       "117792   True  \n",
       "\n",
       "[117793 rows x 5 columns]"
      ]
     },
     "execution_count": 57,
     "metadata": {},
     "output_type": "execute_result"
    }
   ],
   "source": [
    "pairs_final_diffed_us"
   ]
  },
  {
   "cell_type": "markdown",
   "metadata": {
    "id": "6Ag0xdrrU4xZ"
   },
   "source": [
    "# Exploring the transformed data"
   ]
  },
  {
   "cell_type": "code",
   "execution_count": null,
   "metadata": {
    "id": "W3Kzs-x9U4xZ",
    "outputId": "4dc17973-862d-4ae3-829c-67ca84e250a9"
   },
   "outputs": [
    {
     "data": {
      "text/plain": [
       "0         0.000002\n",
       "1         0.000082\n",
       "2         0.000019\n",
       "3         0.000253\n",
       "4         0.000119\n",
       "            ...   \n",
       "117788    0.000691\n",
       "117789    0.000034\n",
       "117790    0.000002\n",
       "117791    0.001709\n",
       "117792    0.000136\n",
       "Name: theta_diff, Length: 117793, dtype: float64"
      ]
     },
     "execution_count": 58,
     "metadata": {},
     "output_type": "execute_result"
    }
   ],
   "source": [
    "pairs_final_diffed_us['theta_diff']"
   ]
  },
  {
   "cell_type": "code",
   "execution_count": null,
   "metadata": {
    "id": "37HMtlUYU4xZ",
    "outputId": "39384057-148b-41ab-a681-9bf572614afb"
   },
   "outputs": [
    {
     "data": {
      "text/html": [
       "<div>\n",
       "<style scoped>\n",
       "    .dataframe tbody tr th:only-of-type {\n",
       "        vertical-align: middle;\n",
       "    }\n",
       "\n",
       "    .dataframe tbody tr th {\n",
       "        vertical-align: top;\n",
       "    }\n",
       "\n",
       "    .dataframe thead th {\n",
       "        text-align: right;\n",
       "    }\n",
       "</style>\n",
       "<table border=\"1\" class=\"dataframe\">\n",
       "  <thead>\n",
       "    <tr style=\"text-align: right;\">\n",
       "      <th></th>\n",
       "      <th>theta_diff</th>\n",
       "      <th>name_cosines</th>\n",
       "      <th>full_address_cosines</th>\n",
       "      <th>categories_cosines</th>\n",
       "    </tr>\n",
       "  </thead>\n",
       "  <tbody>\n",
       "    <tr>\n",
       "      <th>count</th>\n",
       "      <td>117793.000000</td>\n",
       "      <td>117793.000000</td>\n",
       "      <td>117793.000000</td>\n",
       "      <td>117793.000000</td>\n",
       "    </tr>\n",
       "    <tr>\n",
       "      <th>mean</th>\n",
       "      <td>0.001800</td>\n",
       "      <td>0.649019</td>\n",
       "      <td>0.781899</td>\n",
       "      <td>0.468062</td>\n",
       "    </tr>\n",
       "    <tr>\n",
       "      <th>std</th>\n",
       "      <td>0.029048</td>\n",
       "      <td>0.359314</td>\n",
       "      <td>0.218063</td>\n",
       "      <td>0.616417</td>\n",
       "    </tr>\n",
       "    <tr>\n",
       "      <th>min</th>\n",
       "      <td>0.000000</td>\n",
       "      <td>0.000000</td>\n",
       "      <td>0.000000</td>\n",
       "      <td>-1.000000</td>\n",
       "    </tr>\n",
       "    <tr>\n",
       "      <th>25%</th>\n",
       "      <td>0.000005</td>\n",
       "      <td>0.408248</td>\n",
       "      <td>0.632456</td>\n",
       "      <td>0.000000</td>\n",
       "    </tr>\n",
       "    <tr>\n",
       "      <th>50%</th>\n",
       "      <td>0.000019</td>\n",
       "      <td>0.707107</td>\n",
       "      <td>0.816497</td>\n",
       "      <td>0.707107</td>\n",
       "    </tr>\n",
       "    <tr>\n",
       "      <th>75%</th>\n",
       "      <td>0.000099</td>\n",
       "      <td>1.000000</td>\n",
       "      <td>1.000000</td>\n",
       "      <td>1.000000</td>\n",
       "    </tr>\n",
       "    <tr>\n",
       "      <th>max</th>\n",
       "      <td>1.563694</td>\n",
       "      <td>1.000000</td>\n",
       "      <td>1.000000</td>\n",
       "      <td>1.000000</td>\n",
       "    </tr>\n",
       "  </tbody>\n",
       "</table>\n",
       "</div>"
      ],
      "text/plain": [
       "          theta_diff   name_cosines  full_address_cosines  categories_cosines\n",
       "count  117793.000000  117793.000000         117793.000000       117793.000000\n",
       "mean        0.001800       0.649019              0.781899            0.468062\n",
       "std         0.029048       0.359314              0.218063            0.616417\n",
       "min         0.000000       0.000000              0.000000           -1.000000\n",
       "25%         0.000005       0.408248              0.632456            0.000000\n",
       "50%         0.000019       0.707107              0.816497            0.707107\n",
       "75%         0.000099       1.000000              1.000000            1.000000\n",
       "max         1.563694       1.000000              1.000000            1.000000"
      ]
     },
     "execution_count": 59,
     "metadata": {},
     "output_type": "execute_result"
    }
   ],
   "source": [
    "pairs_final_diffed_us.describe()"
   ]
  },
  {
   "cell_type": "code",
   "execution_count": null,
   "metadata": {
    "id": "sb3rJEBFU4xZ"
   },
   "outputs": [],
   "source": [
    "import seaborn as sns"
   ]
  },
  {
   "cell_type": "code",
   "execution_count": null,
   "metadata": {
    "id": "DXEtnZKAU4xZ"
   },
   "outputs": [],
   "source": [
    "pairs_corr = pairs_final_diffed_us.corr()"
   ]
  },
  {
   "cell_type": "code",
   "execution_count": null,
   "metadata": {
    "id": "ccoe3_WpU4xZ",
    "outputId": "97f2c402-41fe-45f3-b010-a086038ccfc4"
   },
   "outputs": [
    {
     "data": {
      "text/plain": [
       "<AxesSubplot:>"
      ]
     },
     "execution_count": 62,
     "metadata": {},
     "output_type": "execute_result"
    },
    {
     "data": {
      "image/png": "[encoded data removed]",
      "text/plain": [
       "<Figure size 432x288 with 2 Axes>"
      ]
     },
     "metadata": {
      "needs_background": "light"
     },
     "output_type": "display_data"
    }
   ],
   "source": [
    "sns.heatmap(pairs_corr)"
   ]
  },
  {
   "cell_type": "code",
   "execution_count": null,
   "metadata": {
    "id": "gT70y1rlU4xa",
    "outputId": "17975063-3825-431f-af20-3eb69d5495b8"
   },
   "outputs": [
    {
     "data": {
      "text/html": [
       "<div>\n",
       "<style scoped>\n",
       "    .dataframe tbody tr th:only-of-type {\n",
       "        vertical-align: middle;\n",
       "    }\n",
       "\n",
       "    .dataframe tbody tr th {\n",
       "        vertical-align: top;\n",
       "    }\n",
       "\n",
       "    .dataframe thead th {\n",
       "        text-align: right;\n",
       "    }\n",
       "</style>\n",
       "<table border=\"1\" class=\"dataframe\">\n",
       "  <thead>\n",
       "    <tr style=\"text-align: right;\">\n",
       "      <th></th>\n",
       "      <th>theta_diff</th>\n",
       "      <th>name_cosines</th>\n",
       "      <th>full_address_cosines</th>\n",
       "      <th>categories_cosines</th>\n",
       "      <th>match</th>\n",
       "    </tr>\n",
       "  </thead>\n",
       "  <tbody>\n",
       "    <tr>\n",
       "      <th>theta_diff</th>\n",
       "      <td>1.000000</td>\n",
       "      <td>-0.009203</td>\n",
       "      <td>-0.080235</td>\n",
       "      <td>-0.001742</td>\n",
       "      <td>0.014765</td>\n",
       "    </tr>\n",
       "    <tr>\n",
       "      <th>name_cosines</th>\n",
       "      <td>-0.009203</td>\n",
       "      <td>1.000000</td>\n",
       "      <td>0.192721</td>\n",
       "      <td>0.202642</td>\n",
       "      <td>0.318856</td>\n",
       "    </tr>\n",
       "    <tr>\n",
       "      <th>full_address_cosines</th>\n",
       "      <td>-0.080235</td>\n",
       "      <td>0.192721</td>\n",
       "      <td>1.000000</td>\n",
       "      <td>0.125937</td>\n",
       "      <td>0.169836</td>\n",
       "    </tr>\n",
       "    <tr>\n",
       "      <th>categories_cosines</th>\n",
       "      <td>-0.001742</td>\n",
       "      <td>0.202642</td>\n",
       "      <td>0.125937</td>\n",
       "      <td>1.000000</td>\n",
       "      <td>0.187185</td>\n",
       "    </tr>\n",
       "    <tr>\n",
       "      <th>match</th>\n",
       "      <td>0.014765</td>\n",
       "      <td>0.318856</td>\n",
       "      <td>0.169836</td>\n",
       "      <td>0.187185</td>\n",
       "      <td>1.000000</td>\n",
       "    </tr>\n",
       "  </tbody>\n",
       "</table>\n",
       "</div>"
      ],
      "text/plain": [
       "                      theta_diff  name_cosines  full_address_cosines  \\\n",
       "theta_diff              1.000000     -0.009203             -0.080235   \n",
       "name_cosines           -0.009203      1.000000              0.192721   \n",
       "full_address_cosines   -0.080235      0.192721              1.000000   \n",
       "categories_cosines     -0.001742      0.202642              0.125937   \n",
       "match                   0.014765      0.318856              0.169836   \n",
       "\n",
       "                      categories_cosines     match  \n",
       "theta_diff                     -0.001742  0.014765  \n",
       "name_cosines                    0.202642  0.318856  \n",
       "full_address_cosines            0.125937  0.169836  \n",
       "categories_cosines              1.000000  0.187185  \n",
       "match                           0.187185  1.000000  "
      ]
     },
     "execution_count": 63,
     "metadata": {},
     "output_type": "execute_result"
    }
   ],
   "source": [
    "pairs_corr"
   ]
  },
  {
   "cell_type": "code",
   "execution_count": null,
   "metadata": {
    "id": "E2q5WukEU4xa",
    "outputId": "1fdb3f39-c53d-408d-c29c-3ff0a9d17768"
   },
   "outputs": [
    {
     "data": {
      "text/plain": [
       "count    84674.000000\n",
       "mean         0.002068\n",
       "std          0.029835\n",
       "min          0.000000\n",
       "25%          0.000004\n",
       "50%          0.000017\n",
       "75%          0.000124\n",
       "max          1.556511\n",
       "Name: theta_diff, dtype: float64"
      ]
     },
     "execution_count": 64,
     "metadata": {},
     "output_type": "execute_result"
    }
   ],
   "source": [
    "pairs_final_diffed_us['theta_diff'][pairs_final_diffed_us['match']==True].describe()"
   ]
  },
  {
   "cell_type": "code",
   "execution_count": null,
   "metadata": {
    "id": "GQR3PoXoU4xa",
    "outputId": "94bc9931-f898-400d-cff2-ba18f174ab62"
   },
   "outputs": [
    {
     "data": {
      "text/plain": [
       "count    33119.000000\n",
       "mean         0.001114\n",
       "std          0.026920\n",
       "min          0.000000\n",
       "25%          0.000008\n",
       "50%          0.000023\n",
       "75%          0.000069\n",
       "max          1.563694\n",
       "Name: theta_diff, dtype: float64"
      ]
     },
     "execution_count": 65,
     "metadata": {},
     "output_type": "execute_result"
    }
   ],
   "source": [
    "pairs_final_diffed_us['theta_diff'][pairs_final_diffed_us['match']==False].describe()"
   ]
  },
  {
   "cell_type": "raw",
   "metadata": {
    "id": "yGFdMLwQU4xa"
   },
   "source": [
    "from sklearn.preprocessing import StandardScaler"
   ]
  },
  {
   "cell_type": "raw",
   "metadata": {
    "id": "GD76fEIiU4xa"
   },
   "source": [
    "cols_to_scale = ['theta_diff', 'name_cosines', 'full_address_cosines', 'categories_cosines']"
   ]
  },
  {
   "cell_type": "raw",
   "metadata": {
    "id": "a1rCB6g8U4xa"
   },
   "source": [
    "scaler = StandardScaler()"
   ]
  },
  {
   "cell_type": "code",
   "execution_count": null,
   "metadata": {
    "id": "rhIRTcUAU4xb",
    "outputId": "e753891f-5e2b-4aae-8483-b06fb8ad61ba"
   },
   "outputs": [
    {
     "data": {
      "text/html": [
       "<div>\n",
       "<style scoped>\n",
       "    .dataframe tbody tr th:only-of-type {\n",
       "        vertical-align: middle;\n",
       "    }\n",
       "\n",
       "    .dataframe tbody tr th {\n",
       "        vertical-align: top;\n",
       "    }\n",
       "\n",
       "    .dataframe thead th {\n",
       "        text-align: right;\n",
       "    }\n",
       "</style>\n",
       "<table border=\"1\" class=\"dataframe\">\n",
       "  <thead>\n",
       "    <tr style=\"text-align: right;\">\n",
       "      <th></th>\n",
       "      <th>theta_diff</th>\n",
       "      <th>name_cosines</th>\n",
       "      <th>full_address_cosines</th>\n",
       "      <th>categories_cosines</th>\n",
       "    </tr>\n",
       "  </thead>\n",
       "  <tbody>\n",
       "    <tr>\n",
       "      <th>count</th>\n",
       "      <td>117793.000000</td>\n",
       "      <td>117793.000000</td>\n",
       "      <td>117793.000000</td>\n",
       "      <td>117793.000000</td>\n",
       "    </tr>\n",
       "    <tr>\n",
       "      <th>mean</th>\n",
       "      <td>0.001800</td>\n",
       "      <td>0.649019</td>\n",
       "      <td>0.781899</td>\n",
       "      <td>0.468062</td>\n",
       "    </tr>\n",
       "    <tr>\n",
       "      <th>std</th>\n",
       "      <td>0.029048</td>\n",
       "      <td>0.359314</td>\n",
       "      <td>0.218063</td>\n",
       "      <td>0.616417</td>\n",
       "    </tr>\n",
       "    <tr>\n",
       "      <th>min</th>\n",
       "      <td>0.000000</td>\n",
       "      <td>0.000000</td>\n",
       "      <td>0.000000</td>\n",
       "      <td>-1.000000</td>\n",
       "    </tr>\n",
       "    <tr>\n",
       "      <th>25%</th>\n",
       "      <td>0.000005</td>\n",
       "      <td>0.408248</td>\n",
       "      <td>0.632456</td>\n",
       "      <td>0.000000</td>\n",
       "    </tr>\n",
       "    <tr>\n",
       "      <th>50%</th>\n",
       "      <td>0.000019</td>\n",
       "      <td>0.707107</td>\n",
       "      <td>0.816497</td>\n",
       "      <td>0.707107</td>\n",
       "    </tr>\n",
       "    <tr>\n",
       "      <th>75%</th>\n",
       "      <td>0.000099</td>\n",
       "      <td>1.000000</td>\n",
       "      <td>1.000000</td>\n",
       "      <td>1.000000</td>\n",
       "    </tr>\n",
       "    <tr>\n",
       "      <th>max</th>\n",
       "      <td>1.563694</td>\n",
       "      <td>1.000000</td>\n",
       "      <td>1.000000</td>\n",
       "      <td>1.000000</td>\n",
       "    </tr>\n",
       "  </tbody>\n",
       "</table>\n",
       "</div>"
      ],
      "text/plain": [
       "          theta_diff   name_cosines  full_address_cosines  categories_cosines\n",
       "count  117793.000000  117793.000000         117793.000000       117793.000000\n",
       "mean        0.001800       0.649019              0.781899            0.468062\n",
       "std         0.029048       0.359314              0.218063            0.616417\n",
       "min         0.000000       0.000000              0.000000           -1.000000\n",
       "25%         0.000005       0.408248              0.632456            0.000000\n",
       "50%         0.000019       0.707107              0.816497            0.707107\n",
       "75%         0.000099       1.000000              1.000000            1.000000\n",
       "max         1.563694       1.000000              1.000000            1.000000"
      ]
     },
     "execution_count": 67,
     "metadata": {},
     "output_type": "execute_result"
    }
   ],
   "source": [
    "pairs_final_diffed_us.describe()"
   ]
  },
  {
   "cell_type": "raw",
   "metadata": {
    "id": "oiUDvHIOU4xb"
   },
   "source": [
    "scaler.fit(pairs_final_diffed_us[cols_to_scale])"
   ]
  },
  {
   "cell_type": "raw",
   "metadata": {
    "id": "WlE7n2-kU4xb"
   },
   "source": [
    "pairs_final_diffed_us[cols_to_scale] = scaler.transform(pairs_final_diffed_us[cols_to_scale])"
   ]
  },
  {
   "cell_type": "code",
   "execution_count": null,
   "metadata": {
    "id": "rSiw1yFFU4xb",
    "outputId": "fcb34851-494a-4033-d2e4-b065fbb03588"
   },
   "outputs": [
    {
     "data": {
      "text/html": [
       "<div>\n",
       "<style scoped>\n",
       "    .dataframe tbody tr th:only-of-type {\n",
       "        vertical-align: middle;\n",
       "    }\n",
       "\n",
       "    .dataframe tbody tr th {\n",
       "        vertical-align: top;\n",
       "    }\n",
       "\n",
       "    .dataframe thead th {\n",
       "        text-align: right;\n",
       "    }\n",
       "</style>\n",
       "<table border=\"1\" class=\"dataframe\">\n",
       "  <thead>\n",
       "    <tr style=\"text-align: right;\">\n",
       "      <th></th>\n",
       "      <th>theta_diff</th>\n",
       "      <th>name_cosines</th>\n",
       "      <th>full_address_cosines</th>\n",
       "      <th>categories_cosines</th>\n",
       "      <th>match</th>\n",
       "    </tr>\n",
       "  </thead>\n",
       "  <tbody>\n",
       "    <tr>\n",
       "      <th>0</th>\n",
       "      <td>0.000002</td>\n",
       "      <td>0.707107</td>\n",
       "      <td>0.612372</td>\n",
       "      <td>1.0</td>\n",
       "      <td>True</td>\n",
       "    </tr>\n",
       "    <tr>\n",
       "      <th>1</th>\n",
       "      <td>0.000082</td>\n",
       "      <td>1.000000</td>\n",
       "      <td>0.534522</td>\n",
       "      <td>-1.0</td>\n",
       "      <td>True</td>\n",
       "    </tr>\n",
       "    <tr>\n",
       "      <th>2</th>\n",
       "      <td>0.000019</td>\n",
       "      <td>1.000000</td>\n",
       "      <td>1.000000</td>\n",
       "      <td>1.0</td>\n",
       "      <td>True</td>\n",
       "    </tr>\n",
       "    <tr>\n",
       "      <th>3</th>\n",
       "      <td>0.000253</td>\n",
       "      <td>0.816497</td>\n",
       "      <td>1.000000</td>\n",
       "      <td>0.0</td>\n",
       "      <td>False</td>\n",
       "    </tr>\n",
       "    <tr>\n",
       "      <th>4</th>\n",
       "      <td>0.000119</td>\n",
       "      <td>0.000000</td>\n",
       "      <td>0.566947</td>\n",
       "      <td>1.0</td>\n",
       "      <td>True</td>\n",
       "    </tr>\n",
       "  </tbody>\n",
       "</table>\n",
       "</div>"
      ],
      "text/plain": [
       "   theta_diff  name_cosines  full_address_cosines  categories_cosines  match\n",
       "0    0.000002      0.707107              0.612372                 1.0   True\n",
       "1    0.000082      1.000000              0.534522                -1.0   True\n",
       "2    0.000019      1.000000              1.000000                 1.0   True\n",
       "3    0.000253      0.816497              1.000000                 0.0  False\n",
       "4    0.000119      0.000000              0.566947                 1.0   True"
      ]
     },
     "execution_count": 66,
     "metadata": {},
     "output_type": "execute_result"
    }
   ],
   "source": [
    "pairs_final_diffed_us.head()"
   ]
  },
  {
   "cell_type": "raw",
   "metadata": {
    "id": "skV0rnAWU4xb"
   },
   "source": [
    "pairs_corr = pairs_final_diffed_us.corr()"
   ]
  },
  {
   "cell_type": "raw",
   "metadata": {
    "id": "65R9snczU4xb"
   },
   "source": [
    "pairs_corr"
   ]
  },
  {
   "cell_type": "raw",
   "metadata": {
    "id": "gbvsQyihU4xb"
   },
   "source": [
    "sns.heatmap(pairs_corr)"
   ]
  },
  {
   "cell_type": "code",
   "execution_count": null,
   "metadata": {
    "id": "RvIaSIfQU4xb"
   },
   "outputs": [],
   "source": [
    "pairs_final_diffed_us.to_csv(r'C:\\Users\\gorma\\OneDrive\\Documents\\Erdos\\foursquare-location-matching\\tim_code\\working_data\\pairs_final_diffed_us.csv')"
   ]
  },
  {
   "cell_type": "markdown",
   "metadata": {
    "id": "6zc-reOTU4xb"
   },
   "source": [
    "## Optional Scaling"
   ]
  },
  {
   "cell_type": "code",
   "execution_count": null,
   "metadata": {
    "id": "tPYavjoSU4xb"
   },
   "outputs": [],
   "source": [
    "pairs_final_diffed_us = pd.read_csv(r'C:\\Users\\gorma\\OneDrive\\Documents\\Erdos\\foursquare-location-matching\\tim_code\\working_data\\pairs_final_diffed_us.csv')"
   ]
  },
  {
   "cell_type": "code",
   "execution_count": null,
   "metadata": {
    "id": "dBgbd6CAU4xb"
   },
   "outputs": [],
   "source": [
    "pairs_final_diffed_us = pairs_final_diffed_us.drop('Unnamed: 0', axis =1)"
   ]
  },
  {
   "cell_type": "code",
   "execution_count": null,
   "metadata": {
    "id": "B6WcZ85UU4xc",
    "outputId": "8a8e4dd3-6113-4a56-de41-931ca4d6a75b"
   },
   "outputs": [
    {
     "data": {
      "text/html": [
       "<div>\n",
       "<style scoped>\n",
       "    .dataframe tbody tr th:only-of-type {\n",
       "        vertical-align: middle;\n",
       "    }\n",
       "\n",
       "    .dataframe tbody tr th {\n",
       "        vertical-align: top;\n",
       "    }\n",
       "\n",
       "    .dataframe thead th {\n",
       "        text-align: right;\n",
       "    }\n",
       "</style>\n",
       "<table border=\"1\" class=\"dataframe\">\n",
       "  <thead>\n",
       "    <tr style=\"text-align: right;\">\n",
       "      <th></th>\n",
       "      <th>theta_diff</th>\n",
       "      <th>name_cosines</th>\n",
       "      <th>full_address_cosines</th>\n",
       "      <th>categories_cosines</th>\n",
       "      <th>match</th>\n",
       "    </tr>\n",
       "  </thead>\n",
       "  <tbody>\n",
       "    <tr>\n",
       "      <th>0</th>\n",
       "      <td>0.000002</td>\n",
       "      <td>0.707107</td>\n",
       "      <td>0.612372</td>\n",
       "      <td>1.0</td>\n",
       "      <td>True</td>\n",
       "    </tr>\n",
       "    <tr>\n",
       "      <th>1</th>\n",
       "      <td>0.000082</td>\n",
       "      <td>1.000000</td>\n",
       "      <td>0.534522</td>\n",
       "      <td>-1.0</td>\n",
       "      <td>True</td>\n",
       "    </tr>\n",
       "    <tr>\n",
       "      <th>2</th>\n",
       "      <td>0.000019</td>\n",
       "      <td>1.000000</td>\n",
       "      <td>1.000000</td>\n",
       "      <td>1.0</td>\n",
       "      <td>True</td>\n",
       "    </tr>\n",
       "    <tr>\n",
       "      <th>3</th>\n",
       "      <td>0.000253</td>\n",
       "      <td>0.816497</td>\n",
       "      <td>1.000000</td>\n",
       "      <td>0.0</td>\n",
       "      <td>False</td>\n",
       "    </tr>\n",
       "    <tr>\n",
       "      <th>4</th>\n",
       "      <td>0.000119</td>\n",
       "      <td>0.000000</td>\n",
       "      <td>0.566947</td>\n",
       "      <td>1.0</td>\n",
       "      <td>True</td>\n",
       "    </tr>\n",
       "  </tbody>\n",
       "</table>\n",
       "</div>"
      ],
      "text/plain": [
       "   theta_diff  name_cosines  full_address_cosines  categories_cosines  match\n",
       "0    0.000002      0.707107              0.612372                 1.0   True\n",
       "1    0.000082      1.000000              0.534522                -1.0   True\n",
       "2    0.000019      1.000000              1.000000                 1.0   True\n",
       "3    0.000253      0.816497              1.000000                 0.0  False\n",
       "4    0.000119      0.000000              0.566947                 1.0   True"
      ]
     },
     "execution_count": 4,
     "metadata": {},
     "output_type": "execute_result"
    }
   ],
   "source": [
    "pairs_final_diffed_us.head()"
   ]
  },
  {
   "cell_type": "code",
   "execution_count": null,
   "metadata": {
    "id": "NdThkOFuU4xc",
    "outputId": "e6eb07c5-04e3-4c59-d015-3ba485ba15fb"
   },
   "outputs": [
    {
     "data": {
      "text/html": [
       "<div>\n",
       "<style scoped>\n",
       "    .dataframe tbody tr th:only-of-type {\n",
       "        vertical-align: middle;\n",
       "    }\n",
       "\n",
       "    .dataframe tbody tr th {\n",
       "        vertical-align: top;\n",
       "    }\n",
       "\n",
       "    .dataframe thead th {\n",
       "        text-align: right;\n",
       "    }\n",
       "</style>\n",
       "<table border=\"1\" class=\"dataframe\">\n",
       "  <thead>\n",
       "    <tr style=\"text-align: right;\">\n",
       "      <th></th>\n",
       "      <th>theta_diff</th>\n",
       "      <th>name_cosines</th>\n",
       "      <th>full_address_cosines</th>\n",
       "      <th>categories_cosines</th>\n",
       "    </tr>\n",
       "  </thead>\n",
       "  <tbody>\n",
       "    <tr>\n",
       "      <th>count</th>\n",
       "      <td>117793.000000</td>\n",
       "      <td>117793.000000</td>\n",
       "      <td>117793.000000</td>\n",
       "      <td>117793.000000</td>\n",
       "    </tr>\n",
       "    <tr>\n",
       "      <th>mean</th>\n",
       "      <td>0.001800</td>\n",
       "      <td>0.649019</td>\n",
       "      <td>0.781899</td>\n",
       "      <td>0.468062</td>\n",
       "    </tr>\n",
       "    <tr>\n",
       "      <th>std</th>\n",
       "      <td>0.029048</td>\n",
       "      <td>0.359314</td>\n",
       "      <td>0.218063</td>\n",
       "      <td>0.616417</td>\n",
       "    </tr>\n",
       "    <tr>\n",
       "      <th>min</th>\n",
       "      <td>0.000000</td>\n",
       "      <td>0.000000</td>\n",
       "      <td>0.000000</td>\n",
       "      <td>-1.000000</td>\n",
       "    </tr>\n",
       "    <tr>\n",
       "      <th>25%</th>\n",
       "      <td>0.000005</td>\n",
       "      <td>0.408248</td>\n",
       "      <td>0.632456</td>\n",
       "      <td>0.000000</td>\n",
       "    </tr>\n",
       "    <tr>\n",
       "      <th>50%</th>\n",
       "      <td>0.000019</td>\n",
       "      <td>0.707107</td>\n",
       "      <td>0.816497</td>\n",
       "      <td>0.707107</td>\n",
       "    </tr>\n",
       "    <tr>\n",
       "      <th>75%</th>\n",
       "      <td>0.000099</td>\n",
       "      <td>1.000000</td>\n",
       "      <td>1.000000</td>\n",
       "      <td>1.000000</td>\n",
       "    </tr>\n",
       "    <tr>\n",
       "      <th>max</th>\n",
       "      <td>1.563694</td>\n",
       "      <td>1.000000</td>\n",
       "      <td>1.000000</td>\n",
       "      <td>1.000000</td>\n",
       "    </tr>\n",
       "  </tbody>\n",
       "</table>\n",
       "</div>"
      ],
      "text/plain": [
       "          theta_diff   name_cosines  full_address_cosines  categories_cosines\n",
       "count  117793.000000  117793.000000         117793.000000       117793.000000\n",
       "mean        0.001800       0.649019              0.781899            0.468062\n",
       "std         0.029048       0.359314              0.218063            0.616417\n",
       "min         0.000000       0.000000              0.000000           -1.000000\n",
       "25%         0.000005       0.408248              0.632456            0.000000\n",
       "50%         0.000019       0.707107              0.816497            0.707107\n",
       "75%         0.000099       1.000000              1.000000            1.000000\n",
       "max         1.563694       1.000000              1.000000            1.000000"
      ]
     },
     "execution_count": 5,
     "metadata": {},
     "output_type": "execute_result"
    }
   ],
   "source": [
    "pairs_final_diffed_us.describe()"
   ]
  },
  {
   "cell_type": "code",
   "execution_count": null,
   "metadata": {
    "id": "6-jyIITfU4xc"
   },
   "outputs": [],
   "source": [
    "from sklearn.preprocessing import StandardScaler\n",
    "cols_to_scale = ['theta_diff', 'name_cosines', 'full_address_cosines', 'categories_cosines']\n",
    "scaler = StandardScaler()\n",
    "scaler.fit(pairs_final_diffed_us[cols_to_scale])\n",
    "pairs_final_diffed_us[cols_to_scale] = scaler.transform(pairs_final_diffed_us[cols_to_scale])"
   ]
  },
  {
   "cell_type": "code",
   "execution_count": null,
   "metadata": {
    "id": "Jwp7QBL8U4xc",
    "outputId": "42d9bdd5-e773-4326-cba4-e6dab3fd91bc"
   },
   "outputs": [
    {
     "data": {
      "text/html": [
       "<div>\n",
       "<style scoped>\n",
       "    .dataframe tbody tr th:only-of-type {\n",
       "        vertical-align: middle;\n",
       "    }\n",
       "\n",
       "    .dataframe tbody tr th {\n",
       "        vertical-align: top;\n",
       "    }\n",
       "\n",
       "    .dataframe thead th {\n",
       "        text-align: right;\n",
       "    }\n",
       "</style>\n",
       "<table border=\"1\" class=\"dataframe\">\n",
       "  <thead>\n",
       "    <tr style=\"text-align: right;\">\n",
       "      <th></th>\n",
       "      <th>theta_diff</th>\n",
       "      <th>name_cosines</th>\n",
       "      <th>full_address_cosines</th>\n",
       "      <th>categories_cosines</th>\n",
       "    </tr>\n",
       "  </thead>\n",
       "  <tbody>\n",
       "    <tr>\n",
       "      <th>count</th>\n",
       "      <td>1.177930e+05</td>\n",
       "      <td>1.177930e+05</td>\n",
       "      <td>1.177930e+05</td>\n",
       "      <td>1.177930e+05</td>\n",
       "    </tr>\n",
       "    <tr>\n",
       "      <th>mean</th>\n",
       "      <td>-5.673124e-17</td>\n",
       "      <td>-6.075524e-16</td>\n",
       "      <td>-4.158984e-16</td>\n",
       "      <td>2.867844e-16</td>\n",
       "    </tr>\n",
       "    <tr>\n",
       "      <th>std</th>\n",
       "      <td>1.000004e+00</td>\n",
       "      <td>1.000004e+00</td>\n",
       "      <td>1.000004e+00</td>\n",
       "      <td>1.000004e+00</td>\n",
       "    </tr>\n",
       "    <tr>\n",
       "      <th>min</th>\n",
       "      <td>-6.195319e-02</td>\n",
       "      <td>-1.806282e+00</td>\n",
       "      <td>-3.585681e+00</td>\n",
       "      <td>-2.381617e+00</td>\n",
       "    </tr>\n",
       "    <tr>\n",
       "      <th>25%</th>\n",
       "      <td>-6.178098e-02</td>\n",
       "      <td>-6.700873e-01</td>\n",
       "      <td>-6.853287e-01</td>\n",
       "      <td>-7.593302e-01</td>\n",
       "    </tr>\n",
       "    <tr>\n",
       "      <th>50%</th>\n",
       "      <td>-6.129996e-02</td>\n",
       "      <td>1.616648e-01</td>\n",
       "      <td>1.586576e-01</td>\n",
       "      <td>3.877996e-01</td>\n",
       "    </tr>\n",
       "    <tr>\n",
       "      <th>75%</th>\n",
       "      <td>-5.853338e-02</td>\n",
       "      <td>9.768149e-01</td>\n",
       "      <td>1.000179e+00</td>\n",
       "      <td>8.629563e-01</td>\n",
       "    </tr>\n",
       "    <tr>\n",
       "      <th>max</th>\n",
       "      <td>5.376932e+01</td>\n",
       "      <td>9.768149e-01</td>\n",
       "      <td>1.000179e+00</td>\n",
       "      <td>8.629563e-01</td>\n",
       "    </tr>\n",
       "  </tbody>\n",
       "</table>\n",
       "</div>"
      ],
      "text/plain": [
       "         theta_diff  name_cosines  full_address_cosines  categories_cosines\n",
       "count  1.177930e+05  1.177930e+05          1.177930e+05        1.177930e+05\n",
       "mean  -5.673124e-17 -6.075524e-16         -4.158984e-16        2.867844e-16\n",
       "std    1.000004e+00  1.000004e+00          1.000004e+00        1.000004e+00\n",
       "min   -6.195319e-02 -1.806282e+00         -3.585681e+00       -2.381617e+00\n",
       "25%   -6.178098e-02 -6.700873e-01         -6.853287e-01       -7.593302e-01\n",
       "50%   -6.129996e-02  1.616648e-01          1.586576e-01        3.877996e-01\n",
       "75%   -5.853338e-02  9.768149e-01          1.000179e+00        8.629563e-01\n",
       "max    5.376932e+01  9.768149e-01          1.000179e+00        8.629563e-01"
      ]
     },
     "execution_count": 7,
     "metadata": {},
     "output_type": "execute_result"
    }
   ],
   "source": [
    "pairs_final_diffed_us.describe()"
   ]
  },
  {
   "cell_type": "code",
   "execution_count": null,
   "metadata": {
    "id": "9JyyNs3qU4xc"
   },
   "outputs": [],
   "source": [
    "pairs_final_diffed_us.to_csv(r'C:\\Users\\gorma\\OneDrive\\Documents\\Erdos\\foursquare-location-matching\\tim_code\\working_data\\pairs_final_diffed_us_scaled.csv', index = False)"
   ]
  },
  {
   "cell_type": "markdown",
   "metadata": {
    "id": "5E1AxwtXkbOO"
   },
   "source": [
    "# Comparing string features\n",
    "\n",
    "Most columns in this data are strings. We consider different metrics for string comparison letter by letter, including:\n",
    "\n",
    "*   `SequenceMatcher`\n",
    "*   `Levenshtein distance`\n",
    "\n",
    "or word by word using a `CountVectorizer` and `cosine_similarity`\n",
    "\n",
    "If one value of a pair of features is missing, we set the distance to be -1.\n",
    "\n"
   ]
  },
  {
   "cell_type": "code",
   "execution_count": null,
   "metadata": {
    "id": "C-0Kfscskd0R"
   },
   "outputs": [],
   "source": [
    "from difflib import SequenceMatcher\n",
    "import math\n",
    "# Reference: https://stackoverflow.com/questions/43916271/python-pandas-sequencematch-columns-for-each-value-and-return-closet-match\n",
    "\n",
    "def seq_metric(df, col1, col2):\n",
    "    a = df[col1]\n",
    "    b = df[col2]\n",
    "    \n",
    "    if type(a)!=str or type(b)!=str:\n",
    "        return -1\n",
    "    else:\n",
    "        a = a.lower().replace(\" \", \"\").replace(\"'\", \"\")\n",
    "        b = b.lower().replace(\" \", \"\").replace(\"'\", \"\")\n",
    "        \n",
    "    return 1-SequenceMatcher(None, a, b).ratio()"
   ]
  },
  {
   "cell_type": "code",
   "execution_count": null,
   "metadata": {
    "id": "CPLr87wlkfi6"
   },
   "outputs": [],
   "source": [
    "!pip install python-Levenshtein\n",
    "\n",
    "from Levenshtein import distance as lev\n",
    "def lev_metric(df, col1, col2):\n",
    "    a = df[col1]\n",
    "    b = df[col2]\n",
    "    \n",
    "    if type(a)!=str or type(b)!=str:\n",
    "        return -1\n",
    "    else:\n",
    "        a = a.lower().replace(\" \", \"\").replace(\"'\", \"\")\n",
    "        b = b.lower().replace(\" \", \"\").replace(\"'\", \"\")\n",
    "    #if a in b or b in a: \n",
    "    #    return 0\n",
    "    return lev(a,b)/max(len(a),len(b))"
   ]
  },
  {
   "cell_type": "code",
   "execution_count": null,
   "metadata": {
    "id": "uxB-SVLokjNt"
   },
   "outputs": [],
   "source": [
    "from sklearn.feature_extraction.text import CountVectorizer\n",
    "from sklearn.metrics.pairwise import cosine_similarity\n",
    "\n",
    "def countvec_metric(df, col1, col2):\n",
    "    a = df[col1]\n",
    "    b = df[col2]\n",
    "    if type(a)!=str or type(b)!=str:\n",
    "        return -1\n",
    "    else:\n",
    "        a = a.lower().replace(\"'\", \"\")\n",
    "        b = b.lower().replace(\"'\", \"\")\n",
    "    return cosine_similarity(CountVectorizer().fit_transform([a,b]).toarray())[0][1]"
   ]
  },
  {
   "cell_type": "code",
   "execution_count": null,
   "metadata": {
    "id": "jIKO8FP7km5t"
   },
   "outputs": [],
   "source": [
    "# The following function allows us to apply different metric on the columns of pairs.csv to generate distance between features.\n",
    "def compute_diffs(df, cols, string_metric):\n",
    "    df_copy = df\n",
    "    for col in cols:\n",
    "        df_copy[col+'_diff'] = df.apply(string_metric,\n",
    "                          args=(col+'_1', col+'_2'),\n",
    "                          axis=1)\n",
    "    return df_copy[ ['id_1','id_2','match']+['location_diff']+ [col+'_diff' for col in cols] ]"
   ]
  },
  {
   "cell_type": "markdown",
   "metadata": {
    "id": "CMVHl-9PkpRK"
   },
   "source": [
    "We now construct the new dataframe with the selected feactures and chosen methods to compute a metric between the features."
   ]
  },
  {
   "cell_type": "code",
   "execution_count": null,
   "metadata": {
    "id": "OSyQwzRWk8Qy"
   },
   "outputs": [],
   "source": [
    "# Using SequenceMatcher\n",
    "\n",
    "columns = ['name', 'address', 'city', 'state',\n",
    "       'zip', 'url', 'phone', 'categories']\n",
    "       \n",
    "df_pairs_seq = compute_diffs(df_pairs, columns, seq_metric)"
   ]
  },
  {
   "cell_type": "code",
   "execution_count": null,
   "metadata": {
    "id": "H6HnWh59k90t"
   },
   "outputs": [],
   "source": [
    "# Using Levenshtein distance\n",
    "\n",
    "columns = ['name', 'address', 'city', 'state',\n",
    "       'zip', 'url', 'phone', 'categories']\n",
    "       \n",
    "df_pairs_lev = compute_diffs(df_pairs, columns, lev_metric)"
   ]
  },
  {
   "cell_type": "code",
   "execution_count": null,
   "metadata": {
    "colab": {
     "base_uri": "https://localhost:8080/",
     "height": 360
    },
    "id": "91MkfhY1roaU",
    "outputId": "0fc0cd33-0899-4877-cf9e-921fb30cb239"
   },
   "outputs": [
    {
     "ename": "ValueError",
     "evalue": "ignored",
     "output_type": "error",
     "traceback": [
      "\u001b[0;31m---------------------------------------------------------------------------\u001b[0m",
      "\u001b[0;31mValueError\u001b[0m                                Traceback (most recent call last)",
      "\u001b[0;32m<ipython-input-56-dbf23992416c>\u001b[0m in \u001b[0;36m<module>\u001b[0;34m()\u001b[0m\n\u001b[1;32m      3\u001b[0m \u001b[0mcolumns\u001b[0m \u001b[0;34m=\u001b[0m \u001b[0;34m[\u001b[0m\u001b[0;34m'name'\u001b[0m\u001b[0;34m]\u001b[0m\u001b[0;31m#, 'address', 'city', 'state', 'zip', 'url', 'phone', 'categories']\u001b[0m\u001b[0;34m\u001b[0m\u001b[0;34m\u001b[0m\u001b[0m\n\u001b[1;32m      4\u001b[0m \u001b[0;34m\u001b[0m\u001b[0m\n\u001b[0;32m----> 5\u001b[0;31m \u001b[0mdf_pairs_count\u001b[0m \u001b[0;34m=\u001b[0m \u001b[0mcompute_diffs\u001b[0m\u001b[0;34m(\u001b[0m\u001b[0mdf_pairs\u001b[0m\u001b[0;34m,\u001b[0m \u001b[0mcolumns\u001b[0m\u001b[0;34m,\u001b[0m \u001b[0mcountvec_metric\u001b[0m\u001b[0;34m)\u001b[0m\u001b[0;34m\u001b[0m\u001b[0;34m\u001b[0m\u001b[0m\n\u001b[0m",
      "\u001b[0;32m<ipython-input-22-c7867591128c>\u001b[0m in \u001b[0;36mcompute_diffs\u001b[0;34m(df, cols, string_metric)\u001b[0m\n\u001b[1;32m      5\u001b[0m         df_copy[col+'_diff'] = df.apply(string_metric,\n\u001b[1;32m      6\u001b[0m                           \u001b[0margs\u001b[0m\u001b[0;34m=\u001b[0m\u001b[0;34m(\u001b[0m\u001b[0mcol\u001b[0m\u001b[0;34m+\u001b[0m\u001b[0;34m'_1'\u001b[0m\u001b[0;34m,\u001b[0m \u001b[0mcol\u001b[0m\u001b[0;34m+\u001b[0m\u001b[0;34m'_2'\u001b[0m\u001b[0;34m)\u001b[0m\u001b[0;34m,\u001b[0m\u001b[0;34m\u001b[0m\u001b[0;34m\u001b[0m\u001b[0m\n\u001b[0;32m----> 7\u001b[0;31m                           axis=1)\n\u001b[0m\u001b[1;32m      8\u001b[0m     \u001b[0;32mreturn\u001b[0m \u001b[0mdf_copy\u001b[0m\u001b[0;34m[\u001b[0m \u001b[0;34m[\u001b[0m\u001b[0;34m'id_1'\u001b[0m\u001b[0;34m,\u001b[0m\u001b[0;34m'id_2'\u001b[0m\u001b[0;34m,\u001b[0m\u001b[0;34m'match'\u001b[0m\u001b[0;34m]\u001b[0m\u001b[0;34m+\u001b[0m\u001b[0;34m[\u001b[0m\u001b[0;34m'location_diff'\u001b[0m\u001b[0;34m]\u001b[0m\u001b[0;34m+\u001b[0m \u001b[0;34m[\u001b[0m\u001b[0mcol\u001b[0m\u001b[0;34m+\u001b[0m\u001b[0;34m'_diff'\u001b[0m \u001b[0;32mfor\u001b[0m \u001b[0mcol\u001b[0m \u001b[0;32min\u001b[0m \u001b[0mcols\u001b[0m\u001b[0;34m]\u001b[0m \u001b[0;34m]\u001b[0m\u001b[0;34m\u001b[0m\u001b[0;34m\u001b[0m\u001b[0m\n",
      "\u001b[0;32m/usr/local/lib/python3.7/dist-packages/pandas/core/frame.py\u001b[0m in \u001b[0;36mapply\u001b[0;34m(self, func, axis, raw, result_type, args, **kwargs)\u001b[0m\n\u001b[1;32m   8738\u001b[0m             \u001b[0mkwargs\u001b[0m\u001b[0;34m=\u001b[0m\u001b[0mkwargs\u001b[0m\u001b[0;34m,\u001b[0m\u001b[0;34m\u001b[0m\u001b[0;34m\u001b[0m\u001b[0m\n\u001b[1;32m   8739\u001b[0m         )\n\u001b[0;32m-> 8740\u001b[0;31m         \u001b[0;32mreturn\u001b[0m \u001b[0mop\u001b[0m\u001b[0;34m.\u001b[0m\u001b[0mapply\u001b[0m\u001b[0;34m(\u001b[0m\u001b[0;34m)\u001b[0m\u001b[0;34m\u001b[0m\u001b[0;34m\u001b[0m\u001b[0m\n\u001b[0m\u001b[1;32m   8741\u001b[0m \u001b[0;34m\u001b[0m\u001b[0m\n\u001b[1;32m   8742\u001b[0m     def applymap(\n",
      "\u001b[0;32m/usr/local/lib/python3.7/dist-packages/pandas/core/apply.py\u001b[0m in \u001b[0;36mapply\u001b[0;34m(self)\u001b[0m\n\u001b[1;32m    686\u001b[0m             \u001b[0;32mreturn\u001b[0m \u001b[0mself\u001b[0m\u001b[0;34m.\u001b[0m\u001b[0mapply_raw\u001b[0m\u001b[0;34m(\u001b[0m\u001b[0;34m)\u001b[0m\u001b[0;34m\u001b[0m\u001b[0;34m\u001b[0m\u001b[0m\n\u001b[1;32m    687\u001b[0m \u001b[0;34m\u001b[0m\u001b[0m\n\u001b[0;32m--> 688\u001b[0;31m         \u001b[0;32mreturn\u001b[0m \u001b[0mself\u001b[0m\u001b[0;34m.\u001b[0m\u001b[0mapply_standard\u001b[0m\u001b[0;34m(\u001b[0m\u001b[0;34m)\u001b[0m\u001b[0;34m\u001b[0m\u001b[0;34m\u001b[0m\u001b[0m\n\u001b[0m\u001b[1;32m    689\u001b[0m \u001b[0;34m\u001b[0m\u001b[0m\n\u001b[1;32m    690\u001b[0m     \u001b[0;32mdef\u001b[0m \u001b[0magg\u001b[0m\u001b[0;34m(\u001b[0m\u001b[0mself\u001b[0m\u001b[0;34m)\u001b[0m\u001b[0;34m:\u001b[0m\u001b[0;34m\u001b[0m\u001b[0;34m\u001b[0m\u001b[0m\n",
      "\u001b[0;32m/usr/local/lib/python3.7/dist-packages/pandas/core/apply.py\u001b[0m in \u001b[0;36mapply_standard\u001b[0;34m(self)\u001b[0m\n\u001b[1;32m    810\u001b[0m \u001b[0;34m\u001b[0m\u001b[0m\n\u001b[1;32m    811\u001b[0m     \u001b[0;32mdef\u001b[0m \u001b[0mapply_standard\u001b[0m\u001b[0;34m(\u001b[0m\u001b[0mself\u001b[0m\u001b[0;34m)\u001b[0m\u001b[0;34m:\u001b[0m\u001b[0;34m\u001b[0m\u001b[0;34m\u001b[0m\u001b[0m\n\u001b[0;32m--> 812\u001b[0;31m         \u001b[0mresults\u001b[0m\u001b[0;34m,\u001b[0m \u001b[0mres_index\u001b[0m \u001b[0;34m=\u001b[0m \u001b[0mself\u001b[0m\u001b[0;34m.\u001b[0m\u001b[0mapply_series_generator\u001b[0m\u001b[0;34m(\u001b[0m\u001b[0;34m)\u001b[0m\u001b[0;34m\u001b[0m\u001b[0;34m\u001b[0m\u001b[0m\n\u001b[0m\u001b[1;32m    813\u001b[0m \u001b[0;34m\u001b[0m\u001b[0m\n\u001b[1;32m    814\u001b[0m         \u001b[0;31m# wrap results\u001b[0m\u001b[0;34m\u001b[0m\u001b[0;34m\u001b[0m\u001b[0;34m\u001b[0m\u001b[0m\n",
      "\u001b[0;32m/usr/local/lib/python3.7/dist-packages/pandas/core/apply.py\u001b[0m in \u001b[0;36mapply_series_generator\u001b[0;34m(self)\u001b[0m\n\u001b[1;32m    826\u001b[0m             \u001b[0;32mfor\u001b[0m \u001b[0mi\u001b[0m\u001b[0;34m,\u001b[0m \u001b[0mv\u001b[0m \u001b[0;32min\u001b[0m \u001b[0menumerate\u001b[0m\u001b[0;34m(\u001b[0m\u001b[0mseries_gen\u001b[0m\u001b[0;34m)\u001b[0m\u001b[0;34m:\u001b[0m\u001b[0;34m\u001b[0m\u001b[0;34m\u001b[0m\u001b[0m\n\u001b[1;32m    827\u001b[0m                 \u001b[0;31m# ignore SettingWithCopy here in case the user mutates\u001b[0m\u001b[0;34m\u001b[0m\u001b[0;34m\u001b[0m\u001b[0;34m\u001b[0m\u001b[0m\n\u001b[0;32m--> 828\u001b[0;31m                 \u001b[0mresults\u001b[0m\u001b[0;34m[\u001b[0m\u001b[0mi\u001b[0m\u001b[0;34m]\u001b[0m \u001b[0;34m=\u001b[0m \u001b[0mself\u001b[0m\u001b[0;34m.\u001b[0m\u001b[0mf\u001b[0m\u001b[0;34m(\u001b[0m\u001b[0mv\u001b[0m\u001b[0;34m)\u001b[0m\u001b[0;34m\u001b[0m\u001b[0;34m\u001b[0m\u001b[0m\n\u001b[0m\u001b[1;32m    829\u001b[0m                 \u001b[0;32mif\u001b[0m \u001b[0misinstance\u001b[0m\u001b[0;34m(\u001b[0m\u001b[0mresults\u001b[0m\u001b[0;34m[\u001b[0m\u001b[0mi\u001b[0m\u001b[0;34m]\u001b[0m\u001b[0;34m,\u001b[0m \u001b[0mABCSeries\u001b[0m\u001b[0;34m)\u001b[0m\u001b[0;34m:\u001b[0m\u001b[0;34m\u001b[0m\u001b[0;34m\u001b[0m\u001b[0m\n\u001b[1;32m    830\u001b[0m                     \u001b[0;31m# If we have a view on v, we need to make a copy because\u001b[0m\u001b[0;34m\u001b[0m\u001b[0;34m\u001b[0m\u001b[0;34m\u001b[0m\u001b[0m\n",
      "\u001b[0;32m/usr/local/lib/python3.7/dist-packages/pandas/core/apply.py\u001b[0m in \u001b[0;36mf\u001b[0;34m(x)\u001b[0m\n\u001b[1;32m    129\u001b[0m \u001b[0;34m\u001b[0m\u001b[0m\n\u001b[1;32m    130\u001b[0m             \u001b[0;32mdef\u001b[0m \u001b[0mf\u001b[0m\u001b[0;34m(\u001b[0m\u001b[0mx\u001b[0m\u001b[0;34m)\u001b[0m\u001b[0;34m:\u001b[0m\u001b[0;34m\u001b[0m\u001b[0;34m\u001b[0m\u001b[0m\n\u001b[0;32m--> 131\u001b[0;31m                 \u001b[0;32mreturn\u001b[0m \u001b[0mfunc\u001b[0m\u001b[0;34m(\u001b[0m\u001b[0mx\u001b[0m\u001b[0;34m,\u001b[0m \u001b[0;34m*\u001b[0m\u001b[0margs\u001b[0m\u001b[0;34m,\u001b[0m \u001b[0;34m**\u001b[0m\u001b[0mkwargs\u001b[0m\u001b[0;34m)\u001b[0m\u001b[0;34m\u001b[0m\u001b[0;34m\u001b[0m\u001b[0m\n\u001b[0m\u001b[1;32m    132\u001b[0m \u001b[0;34m\u001b[0m\u001b[0m\n\u001b[1;32m    133\u001b[0m         \u001b[0;32melse\u001b[0m\u001b[0;34m:\u001b[0m\u001b[0;34m\u001b[0m\u001b[0;34m\u001b[0m\u001b[0m\n",
      "\u001b[0;32m<ipython-input-54-ec869c9fd377>\u001b[0m in \u001b[0;36mcountvec_metric\u001b[0;34m(df, col1, col2)\u001b[0m\n\u001b[1;32m     10\u001b[0m         \u001b[0ma\u001b[0m \u001b[0;34m=\u001b[0m \u001b[0ma\u001b[0m\u001b[0;34m.\u001b[0m\u001b[0mlower\u001b[0m\u001b[0;34m(\u001b[0m\u001b[0;34m)\u001b[0m\u001b[0;34m.\u001b[0m\u001b[0mreplace\u001b[0m\u001b[0;34m(\u001b[0m\u001b[0;34m\"'\"\u001b[0m\u001b[0;34m,\u001b[0m \u001b[0;34m\"\"\u001b[0m\u001b[0;34m)\u001b[0m\u001b[0;34m\u001b[0m\u001b[0;34m\u001b[0m\u001b[0m\n\u001b[1;32m     11\u001b[0m         \u001b[0mb\u001b[0m \u001b[0;34m=\u001b[0m \u001b[0mb\u001b[0m\u001b[0;34m.\u001b[0m\u001b[0mlower\u001b[0m\u001b[0;34m(\u001b[0m\u001b[0;34m)\u001b[0m\u001b[0;34m.\u001b[0m\u001b[0mreplace\u001b[0m\u001b[0;34m(\u001b[0m\u001b[0;34m\"'\"\u001b[0m\u001b[0;34m,\u001b[0m \u001b[0;34m\"\"\u001b[0m\u001b[0;34m)\u001b[0m\u001b[0;34m\u001b[0m\u001b[0;34m\u001b[0m\u001b[0m\n\u001b[0;32m---> 12\u001b[0;31m     \u001b[0;32mreturn\u001b[0m \u001b[0mcosine_similarity\u001b[0m\u001b[0;34m(\u001b[0m\u001b[0mCountVectorizer\u001b[0m\u001b[0;34m(\u001b[0m\u001b[0;34m)\u001b[0m\u001b[0;34m.\u001b[0m\u001b[0mfit_transform\u001b[0m\u001b[0;34m(\u001b[0m\u001b[0;34m[\u001b[0m\u001b[0ma\u001b[0m\u001b[0;34m,\u001b[0m\u001b[0mb\u001b[0m\u001b[0;34m]\u001b[0m\u001b[0;34m)\u001b[0m\u001b[0;34m.\u001b[0m\u001b[0mtoarray\u001b[0m\u001b[0;34m(\u001b[0m\u001b[0;34m)\u001b[0m\u001b[0;34m)\u001b[0m\u001b[0;34m[\u001b[0m\u001b[0;36m0\u001b[0m\u001b[0;34m]\u001b[0m\u001b[0;34m[\u001b[0m\u001b[0;36m1\u001b[0m\u001b[0;34m]\u001b[0m\u001b[0;34m\u001b[0m\u001b[0;34m\u001b[0m\u001b[0m\n\u001b[0m",
      "\u001b[0;32m/usr/local/lib/python3.7/dist-packages/sklearn/feature_extraction/text.py\u001b[0m in \u001b[0;36mfit_transform\u001b[0;34m(self, raw_documents, y)\u001b[0m\n\u001b[1;32m   1328\u001b[0m                     \u001b[0;32mbreak\u001b[0m\u001b[0;34m\u001b[0m\u001b[0;34m\u001b[0m\u001b[0m\n\u001b[1;32m   1329\u001b[0m \u001b[0;34m\u001b[0m\u001b[0m\n\u001b[0;32m-> 1330\u001b[0;31m         \u001b[0mvocabulary\u001b[0m\u001b[0;34m,\u001b[0m \u001b[0mX\u001b[0m \u001b[0;34m=\u001b[0m \u001b[0mself\u001b[0m\u001b[0;34m.\u001b[0m\u001b[0m_count_vocab\u001b[0m\u001b[0;34m(\u001b[0m\u001b[0mraw_documents\u001b[0m\u001b[0;34m,\u001b[0m \u001b[0mself\u001b[0m\u001b[0;34m.\u001b[0m\u001b[0mfixed_vocabulary_\u001b[0m\u001b[0;34m)\u001b[0m\u001b[0;34m\u001b[0m\u001b[0;34m\u001b[0m\u001b[0m\n\u001b[0m\u001b[1;32m   1331\u001b[0m \u001b[0;34m\u001b[0m\u001b[0m\n\u001b[1;32m   1332\u001b[0m         \u001b[0;32mif\u001b[0m \u001b[0mself\u001b[0m\u001b[0;34m.\u001b[0m\u001b[0mbinary\u001b[0m\u001b[0;34m:\u001b[0m\u001b[0;34m\u001b[0m\u001b[0;34m\u001b[0m\u001b[0m\n",
      "\u001b[0;32m/usr/local/lib/python3.7/dist-packages/sklearn/feature_extraction/text.py\u001b[0m in \u001b[0;36m_count_vocab\u001b[0;34m(self, raw_documents, fixed_vocab)\u001b[0m\n\u001b[1;32m   1219\u001b[0m             \u001b[0;32mif\u001b[0m \u001b[0;32mnot\u001b[0m \u001b[0mvocabulary\u001b[0m\u001b[0;34m:\u001b[0m\u001b[0;34m\u001b[0m\u001b[0;34m\u001b[0m\u001b[0m\n\u001b[1;32m   1220\u001b[0m                 raise ValueError(\n\u001b[0;32m-> 1221\u001b[0;31m                     \u001b[0;34m\"empty vocabulary; perhaps the documents only contain stop words\"\u001b[0m\u001b[0;34m\u001b[0m\u001b[0;34m\u001b[0m\u001b[0m\n\u001b[0m\u001b[1;32m   1222\u001b[0m                 )\n\u001b[1;32m   1223\u001b[0m \u001b[0;34m\u001b[0m\u001b[0m\n",
      "\u001b[0;31mValueError\u001b[0m: empty vocabulary; perhaps the documents only contain stop words"
     ]
    }
   ],
   "source": [
    "# Using CountVectorizer\n",
    "\n",
    "columns = ['name']#, 'address', 'city', 'state', 'zip', 'url', 'phone', 'categories']\n",
    "       \n",
    "df_pairs_count = compute_diffs(df_pairs, columns, countvec_metric)"
   ]
  },
  {
   "cell_type": "markdown",
   "metadata": {
    "id": "i9qZD8FolBSA"
   },
   "source": [
    "## Histogram"
   ]
  },
  {
   "cell_type": "code",
   "execution_count": null,
   "metadata": {
    "colab": {
     "base_uri": "https://localhost:8080/",
     "height": 1000
    },
    "id": "Q75uUWwAlDei",
    "outputId": "a8ce487e-35f2-4b01-e086-aec837fcf8ed"
   },
   "outputs": [
    {
     "data": {
      "image/png": "[encoded data removed]",
      "text/plain": [
       "<Figure size 432x288 with 1 Axes>"
      ]
     },
     "metadata": {
      "needs_background": "light"
     },
     "output_type": "display_data"
    },
    {
     "data": {
      "image/png": "[encoded data removed]",
      "text/plain": [
       "<Figure size 432x288 with 1 Axes>"
      ]
     },
     "metadata": {
      "needs_background": "light"
     },
     "output_type": "display_data"
    },
    {
     "data": {
      "image/png": "[encoded data removed]",
      "text/plain": [
       "<Figure size 432x288 with 1 Axes>"
      ]
     },
     "metadata": {
      "needs_background": "light"
     },
     "output_type": "display_data"
    },
    {
     "data": {
      "image/png": "[encoded data removed]",
      "text/plain": [
       "<Figure size 432x288 with 1 Axes>"
      ]
     },
     "metadata": {
      "needs_background": "light"
     },
     "output_type": "display_data"
    },
    {
     "data": {
      "image/png": "[encoded data removed]",
      "text/plain": [
       "<Figure size 432x288 with 1 Axes>"
      ]
     },
     "metadata": {
      "needs_background": "light"
     },
     "output_type": "display_data"
    },
    {
     "data": {
      "image/png": "[encoded data removed]",
      "text/plain": [
       "<Figure size 432x288 with 1 Axes>"
      ]
     },
     "metadata": {
      "needs_background": "light"
     },
     "output_type": "display_data"
    },
    {
     "data": {
      "image/png": "[encoded data removed]",
      "text/plain": [
       "<Figure size 432x288 with 1 Axes>"
      ]
     },
     "metadata": {
      "needs_background": "light"
     },
     "output_type": "display_data"
    },
    {
     "data": {
      "image/png": "[encoded data removed]",
      "text/plain": [
       "<Figure size 432x288 with 1 Axes>"
      ]
     },
     "metadata": {
      "needs_background": "light"
     },
     "output_type": "display_data"
    }
   ],
   "source": [
    "## histograms for SequenceMatcher\n",
    "\n",
    "columns = ['location_diff','name_diff','address_diff','city_diff','zip_diff','url_diff', 'phone_diff', 'categories_diff']\n",
    "\n",
    "for i in range(len(columns)):\n",
    "    column=columns[i]\n",
    "    plt.hist(df_pairs_seq.loc[(df_pairs_seq.match==True)&(df_pairs_seq.location_diff<1), column], color='b', label=\"True\")\n",
    "    plt.hist(df_pairs_seq.loc[(df_pairs_seq.match==False)&(df_pairs_seq.location_diff<1), column], color='r', label=\"False\")\n",
    "    plt.legend(fontsize=14)\n",
    "    plt.title(column,fontsize=16)\n",
    "    plt.show()"
   ]
  },
  {
   "cell_type": "code",
   "execution_count": null,
   "metadata": {
    "colab": {
     "base_uri": "https://localhost:8080/",
     "height": 1000
    },
    "id": "PSpEqV7vlEoU",
    "outputId": "2260bc74-c229-4713-850d-e7324ed240ff"
   },
   "outputs": [
    {
     "data": {
      "image/png": "[encoded data removed]",
      "text/plain": [
       "<Figure size 432x288 with 1 Axes>"
      ]
     },
     "metadata": {
      "needs_background": "light"
     },
     "output_type": "display_data"
    },
    {
     "data": {
      "image/png": "[encoded data removed]",
      "text/plain": [
       "<Figure size 432x288 with 1 Axes>"
      ]
     },
     "metadata": {
      "needs_background": "light"
     },
     "output_type": "display_data"
    },
    {
     "data": {
      "image/png": "[encoded data removed]",
      "text/plain": [
       "<Figure size 432x288 with 1 Axes>"
      ]
     },
     "metadata": {
      "needs_background": "light"
     },
     "output_type": "display_data"
    },
    {
     "data": {
      "image/png": "[encoded data removed]",
      "text/plain": [
       "<Figure size 432x288 with 1 Axes>"
      ]
     },
     "metadata": {
      "needs_background": "light"
     },
     "output_type": "display_data"
    },
    {
     "data": {
      "image/png": "[encoded data removed]",
      "text/plain": [
       "<Figure size 432x288 with 1 Axes>"
      ]
     },
     "metadata": {
      "needs_background": "light"
     },
     "output_type": "display_data"
    },
    {
     "data": {
      "image/png": "[encoded data removed]",
      "text/plain": [
       "<Figure size 432x288 with 1 Axes>"
      ]
     },
     "metadata": {
      "needs_background": "light"
     },
     "output_type": "display_data"
    },
    {
     "data": {
      "image/png": "[encoded data removed]",
      "text/plain": [
       "<Figure size 432x288 with 1 Axes>"
      ]
     },
     "metadata": {
      "needs_background": "light"
     },
     "output_type": "display_data"
    },
    {
     "data": {
      "image/png": "[encoded data removed]",
      "text/plain": [
       "<Figure size 432x288 with 1 Axes>"
      ]
     },
     "metadata": {
      "needs_background": "light"
     },
     "output_type": "display_data"
    }
   ],
   "source": [
    "# Histogram for Levenshtein distance\n",
    "\n",
    "columns = ['location_diff','name_diff','address_diff','city_diff','zip_diff','url_diff', 'phone_diff', 'categories_diff']\n",
    "\n",
    "for i in range(len(columns)):\n",
    "    column=columns[i]\n",
    "    plt.hist(df_pairs_lev.loc[(df_pairs_lev.match==True)&(df_pairs_lev.location_diff<1), column], color='b', label=\"True\")\n",
    "    plt.hist(df_pairs_lev.loc[(df_pairs_lev.match==False)&(df_pairs_lev.location_diff<1), column], color='r', label=\"False\")\n",
    "    plt.legend(fontsize=14)\n",
    "    plt.title(column,fontsize=16)\n",
    "    plt.show()"
   ]
  },
  {
   "cell_type": "code",
   "execution_count": null,
   "metadata": {
    "id": "3wFNM5QSopyS"
   },
   "outputs": [],
   "source": []
  },
  {
   "cell_type": "markdown",
   "metadata": {
    "id": "ZR79pqXSp7a2"
   },
   "source": [
    "# To improve (to be filled)\n",
    "\n",
    "\n",
    "\n",
    "1.   Generate more pairs: mention how many pairs there are blabla\n",
    "2.   Consider places in other countries blabla\n",
    "3.   Filling in missing values: for example, zip codes can be obtained from the coordinates.\n",
    "4.   Balance the dataset: change the ratio of true/false pairs blabla.\n",
    "\n"
   ]
  },
  {
   "cell_type": "code",
   "execution_count": null,
   "metadata": {
    "id": "DDJH8jePp9L_"
   },
   "outputs": [],
   "source": []
  }
 ],
 "metadata": {
  "colab": {
   "name": "2022.05.25_train_and_pairs_eda.ipynb",
   "provenance": [],
   "toc_visible": true
  },
  "kernelspec": {
   "display_name": "Python 3",
   "language": "python",
   "name": "python3"
  },
  "language_info": {
   "codemirror_mode": {
    "name": "ipython",
    "version": 3
   },
   "file_extension": ".py",
   "mimetype": "text/x-python",
   "name": "python",
   "nbconvert_exporter": "python",
   "pygments_lexer": "ipython3",
   "version": "3.8.5"
  },
  "toc-autonumbering": false,
  "toc-showcode": false,
  "toc-showmarkdowntxt": false
 },
 "nbformat": 4,
 "nbformat_minor": 4
}
