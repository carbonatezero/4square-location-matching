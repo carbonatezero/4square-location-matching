{
  "nbformat": 4,
  "nbformat_minor": 0,
  "metadata": {
    "colab": {
      "name": "Ling EDA.ipynb",
      "provenance": [],
      "toc_visible": true,
      "authorship_tag": "ABX9TyONaXRNU8Y8m3zf97xlU1zi",
      "include_colab_link": true
    },
    "kernelspec": {
      "name": "python3",
      "display_name": "Python 3"
    },
    "language_info": {
      "name": "python"
    }
  },
  "cells": [
    {
      "cell_type": "markdown",
      "metadata": {
        "id": "view-in-github",
        "colab_type": "text"
      },
      "source": [
        "<a href=\"https://colab.research.google.com/github/gormantt/foursquare-location-matching/blob/main/Ling_EDA.ipynb\" target=\"_parent\"><img src=\"https://colab.research.google.com/assets/colab-badge.svg\" alt=\"Open In Colab\"/></a>"
      ]
    },
    {
      "cell_type": "markdown",
      "source": [
        "# Exploratory data analysis\n",
        "\n",
        "---\n",
        "Data analyzed in this notebook is from [Kaggle's code competation: Foursquare - Location Matching](https://www.kaggle.com/competitions/foursquare-location-matching/data). The data comprises over one-and-a-half million place entries for hundreds of thousands of commercial Points-of-Interest (POIs) around the globe. The task is to **determine which place entries describe the same point-of-interest**. Though the data entries may represent or resemble entries for real places, they may also contain artificial information or additional noise.\n"
      ],
      "metadata": {
        "id": "n25cn50iyFUf"
      }
    },
    {
      "cell_type": "code",
      "source": [
        "import pandas as pd\n",
        "import numpy as np\n",
        "import seaborn as sns\n",
        "\n",
        "#For plotting\n",
        "import matplotlib.pyplot as plt\n",
        "from pandas.plotting import scatter_matrix"
      ],
      "metadata": {
        "id": "K_gFE3lTynyQ"
      },
      "execution_count": 1,
      "outputs": []
    },
    {
      "cell_type": "markdown",
      "source": [
        "We read the data below and take a look at some columns."
      ],
      "metadata": {
        "id": "ck3p8I8x0NzY"
      }
    },
    {
      "cell_type": "code",
      "source": [
        "from google.colab import drive\n",
        "drive.mount('/content/drive')"
      ],
      "metadata": {
        "colab": {
          "base_uri": "https://localhost:8080/"
        },
        "id": "SMKbHydTz0FO",
        "outputId": "216136ab-365c-4b48-f234-81c658aab773"
      },
      "execution_count": 2,
      "outputs": [
        {
          "output_type": "stream",
          "name": "stdout",
          "text": [
            "Mounted at /content/drive\n"
          ]
        }
      ]
    },
    {
      "cell_type": "code",
      "source": [
        "pairs = pd.read_csv('/content/drive/MyDrive/Summer 2022/foursquare-location-matching/pairs.csv')\n",
        "test = pd.read_csv('/content/drive/MyDrive/Summer 2022/foursquare-location-matching/test.csv')\n",
        "train = pd.read_csv('/content/drive/MyDrive/Summer 2022/foursquare-location-matching/train.csv')"
      ],
      "metadata": {
        "id": "u8Qz-YOLzGfV"
      },
      "execution_count": 3,
      "outputs": []
    },
    {
      "cell_type": "markdown",
      "source": [
        "# Training data\n",
        "\n",
        "---\n",
        "\n",
        "## The data\n",
        "\n",
        "\n",
        "*   `train.csv` - The training set, comprising eleven attribute fields for over one million place entries, together with:\n",
        "  * `id` - A unique identifier for each entry.\n",
        "  * `point_of_interest` - An identifier for the POI the entry represents. There may be one or many entries describing the same POI. Two entries \"match\" when they describe a common POI. \n",
        "*   `pairs.csv` - A pregenerated set of pairs of place entries from `train.csv` designed to improve detection of matches.\n",
        "  * `match` - Whether (`True` or `False`) the pair of entries describes a common POI.\n",
        "\n"
      ],
      "metadata": {
        "id": "Zg1IqrfV0fDu"
      }
    },
    {
      "cell_type": "code",
      "source": [
        "print('There are', len(set(train.id)), 'id, and', len(set(train.point_of_interest)), 'distinct POIs.\\n')\n",
        "print('About', np.round(len(set(train.point_of_interest))/len(set(train.id))*100,2),'% POIs are unique.\\n')"
      ],
      "metadata": {
        "colab": {
          "base_uri": "https://localhost:8080/"
        },
        "id": "NhuiJ9tqTHom",
        "outputId": "f084553c-fb6d-41e6-9056-64737004dfd4"
      },
      "execution_count": 4,
      "outputs": [
        {
          "output_type": "stream",
          "name": "stdout",
          "text": [
            "There are 1138812 id, and 739972 distinct POIs.\n",
            "\n",
            "About 64.98 % POIs are unique.\n",
            "\n"
          ]
        }
      ]
    },
    {
      "cell_type": "code",
      "source": [
        "train.sample(5)"
      ],
      "metadata": {
        "colab": {
          "base_uri": "https://localhost:8080/",
          "height": 391
        },
        "id": "jVUWPXXvzZnk",
        "outputId": "0f28ed22-12e2-4938-9246-178de2400f39"
      },
      "execution_count": 5,
      "outputs": [
        {
          "output_type": "execute_result",
          "data": {
            "text/plain": [
              "                       id                                 name   latitude  \\\n",
              "582137   E_82d9750ddf2add                                pet10 -31.888159   \n",
              "146966   E_20f3a633d0f6df                         Simit Sarayı  40.151431   \n",
              "1108305  E_f91c45050b140f                     Bodleian Library  51.754018   \n",
              "219460   E_314689317f016a                     Wegmans Catering  43.123072   \n",
              "533697   E_77f0fb3a9c75da  Aeroporto Municipal Leite De Castro -17.836716   \n",
              "\n",
              "          longitude                         address       city        state  \\\n",
              "582137   115.842924                             NaN        NaN          NaN   \n",
              "146966    26.404170  Kayserili Ahmetpaşa Cad. No:23  Çanakkale    Canakkale   \n",
              "1108305   -1.254357                        Broad St     Oxford  Oxfordshire   \n",
              "219460   -76.169950             4979 West Taft Road  Liverpool           NY   \n",
              "533697   -50.958592                               .  Rio Verde          NaN   \n",
              "\n",
              "             zip country                                       url  \\\n",
              "582137       NaN      AU                                       NaN   \n",
              "146966     17100      TR                http://www.simitsarayi.com   \n",
              "1108305  OX1 3BG      GB              http://www.bodleian.ox.ac.uk   \n",
              "219460     13088      US  https://wegmans.onelink.me/G8oB/68301518   \n",
              "533697       NaN      BR                                       NaN   \n",
              "\n",
              "                 phone          categories point_of_interest  \n",
              "582137             NaN          Pet Stores  P_808dbc28f3d09a  \n",
              "146966   +902867770027         Bagel Shops  P_e5cd7b61a2534b  \n",
              "1108305     1865277162   College Libraries  P_16c8a615dd4f77  \n",
              "219460    +13157013208  Food & Drink Shops  P_e31dc9c4c486e3  \n",
              "533697             NaN            Airports  P_d219c33c9a663f  "
            ],
            "text/html": [
              "\n",
              "  <div id=\"df-a5bd6b71-bbee-4c69-a0c3-901496e76b3c\">\n",
              "    <div class=\"colab-df-container\">\n",
              "      <div>\n",
              "<style scoped>\n",
              "    .dataframe tbody tr th:only-of-type {\n",
              "        vertical-align: middle;\n",
              "    }\n",
              "\n",
              "    .dataframe tbody tr th {\n",
              "        vertical-align: top;\n",
              "    }\n",
              "\n",
              "    .dataframe thead th {\n",
              "        text-align: right;\n",
              "    }\n",
              "</style>\n",
              "<table border=\"1\" class=\"dataframe\">\n",
              "  <thead>\n",
              "    <tr style=\"text-align: right;\">\n",
              "      <th></th>\n",
              "      <th>id</th>\n",
              "      <th>name</th>\n",
              "      <th>latitude</th>\n",
              "      <th>longitude</th>\n",
              "      <th>address</th>\n",
              "      <th>city</th>\n",
              "      <th>state</th>\n",
              "      <th>zip</th>\n",
              "      <th>country</th>\n",
              "      <th>url</th>\n",
              "      <th>phone</th>\n",
              "      <th>categories</th>\n",
              "      <th>point_of_interest</th>\n",
              "    </tr>\n",
              "  </thead>\n",
              "  <tbody>\n",
              "    <tr>\n",
              "      <th>582137</th>\n",
              "      <td>E_82d9750ddf2add</td>\n",
              "      <td>pet10</td>\n",
              "      <td>-31.888159</td>\n",
              "      <td>115.842924</td>\n",
              "      <td>NaN</td>\n",
              "      <td>NaN</td>\n",
              "      <td>NaN</td>\n",
              "      <td>NaN</td>\n",
              "      <td>AU</td>\n",
              "      <td>NaN</td>\n",
              "      <td>NaN</td>\n",
              "      <td>Pet Stores</td>\n",
              "      <td>P_808dbc28f3d09a</td>\n",
              "    </tr>\n",
              "    <tr>\n",
              "      <th>146966</th>\n",
              "      <td>E_20f3a633d0f6df</td>\n",
              "      <td>Simit Sarayı</td>\n",
              "      <td>40.151431</td>\n",
              "      <td>26.404170</td>\n",
              "      <td>Kayserili Ahmetpaşa Cad. No:23</td>\n",
              "      <td>Çanakkale</td>\n",
              "      <td>Canakkale</td>\n",
              "      <td>17100</td>\n",
              "      <td>TR</td>\n",
              "      <td>http://www.simitsarayi.com</td>\n",
              "      <td>+902867770027</td>\n",
              "      <td>Bagel Shops</td>\n",
              "      <td>P_e5cd7b61a2534b</td>\n",
              "    </tr>\n",
              "    <tr>\n",
              "      <th>1108305</th>\n",
              "      <td>E_f91c45050b140f</td>\n",
              "      <td>Bodleian Library</td>\n",
              "      <td>51.754018</td>\n",
              "      <td>-1.254357</td>\n",
              "      <td>Broad St</td>\n",
              "      <td>Oxford</td>\n",
              "      <td>Oxfordshire</td>\n",
              "      <td>OX1 3BG</td>\n",
              "      <td>GB</td>\n",
              "      <td>http://www.bodleian.ox.ac.uk</td>\n",
              "      <td>1865277162</td>\n",
              "      <td>College Libraries</td>\n",
              "      <td>P_16c8a615dd4f77</td>\n",
              "    </tr>\n",
              "    <tr>\n",
              "      <th>219460</th>\n",
              "      <td>E_314689317f016a</td>\n",
              "      <td>Wegmans Catering</td>\n",
              "      <td>43.123072</td>\n",
              "      <td>-76.169950</td>\n",
              "      <td>4979 West Taft Road</td>\n",
              "      <td>Liverpool</td>\n",
              "      <td>NY</td>\n",
              "      <td>13088</td>\n",
              "      <td>US</td>\n",
              "      <td>https://wegmans.onelink.me/G8oB/68301518</td>\n",
              "      <td>+13157013208</td>\n",
              "      <td>Food &amp; Drink Shops</td>\n",
              "      <td>P_e31dc9c4c486e3</td>\n",
              "    </tr>\n",
              "    <tr>\n",
              "      <th>533697</th>\n",
              "      <td>E_77f0fb3a9c75da</td>\n",
              "      <td>Aeroporto Municipal Leite De Castro</td>\n",
              "      <td>-17.836716</td>\n",
              "      <td>-50.958592</td>\n",
              "      <td>.</td>\n",
              "      <td>Rio Verde</td>\n",
              "      <td>NaN</td>\n",
              "      <td>NaN</td>\n",
              "      <td>BR</td>\n",
              "      <td>NaN</td>\n",
              "      <td>NaN</td>\n",
              "      <td>Airports</td>\n",
              "      <td>P_d219c33c9a663f</td>\n",
              "    </tr>\n",
              "  </tbody>\n",
              "</table>\n",
              "</div>\n",
              "      <button class=\"colab-df-convert\" onclick=\"convertToInteractive('df-a5bd6b71-bbee-4c69-a0c3-901496e76b3c')\"\n",
              "              title=\"Convert this dataframe to an interactive table.\"\n",
              "              style=\"display:none;\">\n",
              "        \n",
              "  <svg xmlns=\"http://www.w3.org/2000/svg\" height=\"24px\"viewBox=\"0 0 24 24\"\n",
              "       width=\"24px\">\n",
              "    <path d=\"M0 0h24v24H0V0z\" fill=\"none\"/>\n",
              "    <path d=\"M18.56 5.44l.94 2.06.94-2.06 2.06-.94-2.06-.94-.94-2.06-.94 2.06-2.06.94zm-11 1L8.5 8.5l.94-2.06 2.06-.94-2.06-.94L8.5 2.5l-.94 2.06-2.06.94zm10 10l.94 2.06.94-2.06 2.06-.94-2.06-.94-.94-2.06-.94 2.06-2.06.94z\"/><path d=\"M17.41 7.96l-1.37-1.37c-.4-.4-.92-.59-1.43-.59-.52 0-1.04.2-1.43.59L10.3 9.45l-7.72 7.72c-.78.78-.78 2.05 0 2.83L4 21.41c.39.39.9.59 1.41.59.51 0 1.02-.2 1.41-.59l7.78-7.78 2.81-2.81c.8-.78.8-2.07 0-2.86zM5.41 20L4 18.59l7.72-7.72 1.47 1.35L5.41 20z\"/>\n",
              "  </svg>\n",
              "      </button>\n",
              "      \n",
              "  <style>\n",
              "    .colab-df-container {\n",
              "      display:flex;\n",
              "      flex-wrap:wrap;\n",
              "      gap: 12px;\n",
              "    }\n",
              "\n",
              "    .colab-df-convert {\n",
              "      background-color: #E8F0FE;\n",
              "      border: none;\n",
              "      border-radius: 50%;\n",
              "      cursor: pointer;\n",
              "      display: none;\n",
              "      fill: #1967D2;\n",
              "      height: 32px;\n",
              "      padding: 0 0 0 0;\n",
              "      width: 32px;\n",
              "    }\n",
              "\n",
              "    .colab-df-convert:hover {\n",
              "      background-color: #E2EBFA;\n",
              "      box-shadow: 0px 1px 2px rgba(60, 64, 67, 0.3), 0px 1px 3px 1px rgba(60, 64, 67, 0.15);\n",
              "      fill: #174EA6;\n",
              "    }\n",
              "\n",
              "    [theme=dark] .colab-df-convert {\n",
              "      background-color: #3B4455;\n",
              "      fill: #D2E3FC;\n",
              "    }\n",
              "\n",
              "    [theme=dark] .colab-df-convert:hover {\n",
              "      background-color: #434B5C;\n",
              "      box-shadow: 0px 1px 3px 1px rgba(0, 0, 0, 0.15);\n",
              "      filter: drop-shadow(0px 1px 2px rgba(0, 0, 0, 0.3));\n",
              "      fill: #FFFFFF;\n",
              "    }\n",
              "  </style>\n",
              "\n",
              "      <script>\n",
              "        const buttonEl =\n",
              "          document.querySelector('#df-a5bd6b71-bbee-4c69-a0c3-901496e76b3c button.colab-df-convert');\n",
              "        buttonEl.style.display =\n",
              "          google.colab.kernel.accessAllowed ? 'block' : 'none';\n",
              "\n",
              "        async function convertToInteractive(key) {\n",
              "          const element = document.querySelector('#df-a5bd6b71-bbee-4c69-a0c3-901496e76b3c');\n",
              "          const dataTable =\n",
              "            await google.colab.kernel.invokeFunction('convertToInteractive',\n",
              "                                                     [key], {});\n",
              "          if (!dataTable) return;\n",
              "\n",
              "          const docLinkHtml = 'Like what you see? Visit the ' +\n",
              "            '<a target=\"_blank\" href=https://colab.research.google.com/notebooks/data_table.ipynb>data table notebook</a>'\n",
              "            + ' to learn more about interactive tables.';\n",
              "          element.innerHTML = '';\n",
              "          dataTable['output_type'] = 'display_data';\n",
              "          await google.colab.output.renderOutput(dataTable, element);\n",
              "          const docLink = document.createElement('div');\n",
              "          docLink.innerHTML = docLinkHtml;\n",
              "          element.appendChild(docLink);\n",
              "        }\n",
              "      </script>\n",
              "    </div>\n",
              "  </div>\n",
              "  "
            ]
          },
          "metadata": {},
          "execution_count": 5
        }
      ]
    },
    {
      "cell_type": "code",
      "source": [
        "print('There are', len(pairs), 'pairs,', len(set(pairs.id_1)), 'id_1s and', len(set(pairs.id_2)), 'id_2s.\\n')"
      ],
      "metadata": {
        "colab": {
          "base_uri": "https://localhost:8080/"
        },
        "id": "s_95avseVk10",
        "outputId": "ee5ba441-5221-462c-f80a-402cfe6aae3e"
      },
      "execution_count": 6,
      "outputs": [
        {
          "output_type": "stream",
          "name": "stdout",
          "text": [
            "There are 578907 pairs, 464765 id_1s and 565512 id_2s.\n",
            "\n"
          ]
        }
      ]
    },
    {
      "cell_type": "code",
      "source": [
        "pairs.loc[0]"
      ],
      "metadata": {
        "colab": {
          "base_uri": "https://localhost:8080/"
        },
        "id": "Ya9fzOwu0Y52",
        "outputId": "395df6c9-5ee9-4b6a-d12d-6bd150336363"
      },
      "execution_count": 120,
      "outputs": [
        {
          "output_type": "execute_result",
          "data": {
            "text/plain": [
              "id_1                 E_000001272c6c5d\n",
              "name_1           Café Stad Oudenaarde\n",
              "latitude_1                  50.859975\n",
              "longitude_1                  3.634196\n",
              "address_1                 Abdijstraat\n",
              "city_1                     Nederename\n",
              "state_1               Oost-Vlaanderen\n",
              "zip_1                            9700\n",
              "country_1                          BE\n",
              "url_1                             NaN\n",
              "phone_1                           NaN\n",
              "categories_1                     Bars\n",
              "id_2                 E_da7fa3963561f8\n",
              "name_2                Café Oudenaarde\n",
              "latitude_2                  50.869358\n",
              "longitude_2                  3.635206\n",
              "address_2                         NaN\n",
              "city_2                            NaN\n",
              "state_2                           NaN\n",
              "zip_2                             NaN\n",
              "country_2                          BE\n",
              "url_2                             NaN\n",
              "phone_2                           NaN\n",
              "categories_2                     Bars\n",
              "match                            True\n",
              "location_diff                0.009383\n",
              "name_diff                       0.125\n",
              "address_diff                     -1.0\n",
              "city_diff                        -1.0\n",
              "zip_diff                         -1.0\n",
              "Name: 0, dtype: object"
            ]
          },
          "metadata": {},
          "execution_count": 120
        }
      ]
    },
    {
      "cell_type": "markdown",
      "source": [
        "## Considering only US locations"
      ],
      "metadata": {
        "id": "3QuzyE2Zquij"
      }
    },
    {
      "cell_type": "code",
      "source": [
        "train_US = train.loc[train.country=='US']\n",
        "pairs_US = pairs.loc[(pairs.country_1=='US') & (pairs.country_2=='US')]"
      ],
      "metadata": {
        "id": "GgD_L7GvpW0Y"
      },
      "execution_count": 8,
      "outputs": []
    },
    {
      "cell_type": "code",
      "source": [
        "print(\"{:.2%}\".format(len(train_US)/len(train)),'locations are in US')\n",
        "print(\"{:.2%}\".format(len(pairs_US)/len(pairs)),'pairs are in US')"
      ],
      "metadata": {
        "colab": {
          "base_uri": "https://localhost:8080/"
        },
        "id": "TWXN_RgBrH8t",
        "outputId": "87e32145-cc31-4ba2-cac5-c460ebc435bc"
      },
      "execution_count": 9,
      "outputs": [
        {
          "output_type": "stream",
          "name": "stdout",
          "text": [
            "21.54% locations are in US\n",
            "20.33% pairs are in US\n"
          ]
        }
      ]
    },
    {
      "cell_type": "markdown",
      "source": [
        "## Missing values\n",
        "\n",
        "\n"
      ],
      "metadata": {
        "id": "PRODlbdR814G"
      }
    },
    {
      "cell_type": "code",
      "source": [
        "for col in train.columns:\n",
        "    print('In train.csv,',\"{:.6%}\".format(1-len(train[col].dropna())/len(train[col])), 'rows have \"NaN\" for', col)"
      ],
      "metadata": {
        "colab": {
          "base_uri": "https://localhost:8080/"
        },
        "id": "WEH9EmCP9hW8",
        "outputId": "bf94eb9c-b864-4814-c4e4-99df4f7fb95d"
      },
      "execution_count": 128,
      "outputs": [
        {
          "output_type": "stream",
          "name": "stdout",
          "text": [
            "In train.csv, 0.000000% rows have \"NaN\" for id\n",
            "In train.csv, 0.000088% rows have \"NaN\" for name\n",
            "In train.csv, 0.000000% rows have \"NaN\" for latitude\n",
            "In train.csv, 0.000000% rows have \"NaN\" for longitude\n",
            "In train.csv, 34.827610% rows have \"NaN\" for address\n",
            "In train.csv, 26.272027% rows have \"NaN\" for city\n",
            "In train.csv, 36.931996% rows have \"NaN\" for state\n",
            "In train.csv, 52.284837% rows have \"NaN\" for zip\n",
            "In train.csv, 0.000966% rows have \"NaN\" for country\n",
            "In train.csv, 76.490940% rows have \"NaN\" for url\n",
            "In train.csv, 69.893626% rows have \"NaN\" for phone\n",
            "In train.csv, 8.632417% rows have \"NaN\" for categories\n",
            "In train.csv, 0.000000% rows have \"NaN\" for point_of_interest\n"
          ]
        }
      ]
    },
    {
      "cell_type": "code",
      "source": [
        "for col in train_US.columns:\n",
        "    print('In train_US.csv,',\"{:.6%}\".format(1-len(train_US[col].dropna())/len(train_US[col])), 'rows have \"NaN\" for', col)"
      ],
      "metadata": {
        "colab": {
          "base_uri": "https://localhost:8080/"
        },
        "id": "bqDLoK8i_9Nw",
        "outputId": "8018c5b8-2976-4bb8-b99a-3bc9f02e4ed6"
      },
      "execution_count": 129,
      "outputs": [
        {
          "output_type": "stream",
          "name": "stdout",
          "text": [
            "In train_US.csv, 0.000000% rows have \"NaN\" for id\n",
            "In train_US.csv, 0.000408% rows have \"NaN\" for name\n",
            "In train_US.csv, 0.000000% rows have \"NaN\" for latitude\n",
            "In train_US.csv, 0.000000% rows have \"NaN\" for longitude\n",
            "In train_US.csv, 23.018216% rows have \"NaN\" for address\n",
            "In train_US.csv, 3.686747% rows have \"NaN\" for city\n",
            "In train_US.csv, 2.409860% rows have \"NaN\" for state\n",
            "In train_US.csv, 13.048955% rows have \"NaN\" for zip\n",
            "In train_US.csv, 0.000000% rows have \"NaN\" for country\n",
            "In train_US.csv, 59.444155% rows have \"NaN\" for url\n",
            "In train_US.csv, 46.349130% rows have \"NaN\" for phone\n",
            "In train_US.csv, 5.361540% rows have \"NaN\" for categories\n",
            "In train_US.csv, 0.000000% rows have \"NaN\" for point_of_interest\n"
          ]
        }
      ]
    },
    {
      "cell_type": "markdown",
      "source": [
        "## Generate more pairs\n",
        "\n"
      ],
      "metadata": {
        "id": "niSwEp1WovhW"
      }
    },
    {
      "cell_type": "code",
      "source": [
        "len(set(list(pairs.id_1)+list(pairs.id_2)))"
      ],
      "metadata": {
        "colab": {
          "base_uri": "https://localhost:8080/"
        },
        "id": "uALymGALpFED",
        "outputId": "73ae0965-e0e3-4ec9-d6ba-88f499b5021b"
      },
      "execution_count": 13,
      "outputs": [
        {
          "output_type": "execute_result",
          "data": {
            "text/plain": [
              "1008661"
            ]
          },
          "metadata": {},
          "execution_count": 13
        }
      ]
    },
    {
      "cell_type": "code",
      "source": [
        "len(set(train.id)-set(list(pairs.id_1)+list(pairs.id_2)))"
      ],
      "metadata": {
        "colab": {
          "base_uri": "https://localhost:8080/"
        },
        "id": "SOu_OVl2pOeg",
        "outputId": "14b83957-b229-4606-9236-86e1c7e84563"
      },
      "execution_count": 14,
      "outputs": [
        {
          "output_type": "execute_result",
          "data": {
            "text/plain": [
              "130151"
            ]
          },
          "metadata": {},
          "execution_count": 14
        }
      ]
    },
    {
      "cell_type": "markdown",
      "source": [
        "## Features\n",
        "\n",
        "---\n",
        "\n",
        "The features available in `test.csv` include \n",
        "\n",
        "```\n",
        "'name', 'latitude', 'longitude', 'address', 'city', 'state',\n",
        "       'zip', 'country', 'url', 'phone', 'categories'\n",
        "```\n"
      ],
      "metadata": {
        "id": "VCpYBKeqbby8"
      }
    },
    {
      "cell_type": "code",
      "source": [
        "from difflib import SequenceMatcher\n",
        "import math\n",
        "# Reference: https://stackoverflow.com/questions/43916271/python-pandas-sequencematch-columns-for-each-value-and-return-closet-match\n",
        "\n",
        "def sim_metric(df, col1, col2):\n",
        "    a = df[col1]\n",
        "    b = df[col2]\n",
        "    \n",
        "    if type(a)!=str or type(b)!=str:\n",
        "        return -1\n",
        "    else:\n",
        "        a = a.lower().replace(\" \", \"\").replace(\"'\", \"\")\n",
        "        b = b.lower().replace(\" \", \"\").replace(\"'\", \"\")\n",
        "    #if a in b or b in a: \n",
        "    #    return 0\n",
        "    return 1-SequenceMatcher(None, a, b).ratio()\n"
      ],
      "metadata": {
        "id": "xTKecP6ZuAYd"
      },
      "execution_count": 21,
      "outputs": []
    },
    {
      "cell_type": "code",
      "source": [
        "a ='ab'\n",
        "b = 'cd'\n",
        "count_matrix=coun_vect.fit_transform([a,b])\n",
        "\n",
        "count_matrix.toarray()[0]\n"
      ],
      "metadata": {
        "colab": {
          "base_uri": "https://localhost:8080/"
        },
        "id": "5IDy_fUPFap1",
        "outputId": "9c5e9609-3053-4dfe-dfc3-4463aa647fc0"
      },
      "execution_count": 71,
      "outputs": [
        {
          "output_type": "execute_result",
          "data": {
            "text/plain": [
              "array([1, 0])"
            ]
          },
          "metadata": {},
          "execution_count": 71
        }
      ]
    },
    {
      "cell_type": "code",
      "source": [
        "from sklearn.feature_extraction.text import CountVectorizer\n",
        "\n",
        "coun_vect=CountVectorizer()\n",
        "\n",
        "def countvec_metric(df, col1, col2):\n",
        "    a = df[col1]\n",
        "    b = df[col2]\n",
        "    if type(a)!=str or type(b)!=str:\n",
        "        return -1\n",
        "    else:\n",
        "        count_matrix=coun_vect.fit_transform([a,b])\n",
        "    return np.count_nonzero(count_matrix.toarray()[0]!=count_matrix.toarray()[1])/len(count_matrix.toarray()[0])"
      ],
      "metadata": {
        "id": "xkY0juSbCeCH"
      },
      "execution_count": 72,
      "outputs": []
    },
    {
      "cell_type": "code",
      "source": [
        "pairs['name_coun_vect_diff'] = pairs.apply(countvec_metric,\n",
        "                          args=('name_1', 'name_2'),\n",
        "                          axis=1)"
      ],
      "metadata": {
        "colab": {
          "base_uri": "https://localhost:8080/",
          "height": 360
        },
        "id": "zqNPtUrmD6HG",
        "outputId": "e15885e8-f1cd-48cd-bf7a-7bf8c2d72358"
      },
      "execution_count": 85,
      "outputs": [
        {
          "output_type": "error",
          "ename": "ValueError",
          "evalue": "ignored",
          "traceback": [
            "\u001b[0;31m---------------------------------------------------------------------------\u001b[0m",
            "\u001b[0;31mValueError\u001b[0m                                Traceback (most recent call last)",
            "\u001b[0;32m<ipython-input-85-b85b43c942bc>\u001b[0m in \u001b[0;36m<module>\u001b[0;34m()\u001b[0m\n\u001b[1;32m      1\u001b[0m pairs['name_coun_vect_diff'] = pairs.apply(countvec_metric,\n\u001b[1;32m      2\u001b[0m                           \u001b[0margs\u001b[0m\u001b[0;34m=\u001b[0m\u001b[0;34m(\u001b[0m\u001b[0;34m'name_1'\u001b[0m\u001b[0;34m,\u001b[0m \u001b[0;34m'name_2'\u001b[0m\u001b[0;34m)\u001b[0m\u001b[0;34m,\u001b[0m\u001b[0;34m\u001b[0m\u001b[0;34m\u001b[0m\u001b[0m\n\u001b[0;32m----> 3\u001b[0;31m                           axis=1)\n\u001b[0m",
            "\u001b[0;32m/usr/local/lib/python3.7/dist-packages/pandas/core/frame.py\u001b[0m in \u001b[0;36mapply\u001b[0;34m(self, func, axis, raw, result_type, args, **kwargs)\u001b[0m\n\u001b[1;32m   8738\u001b[0m             \u001b[0mkwargs\u001b[0m\u001b[0;34m=\u001b[0m\u001b[0mkwargs\u001b[0m\u001b[0;34m,\u001b[0m\u001b[0;34m\u001b[0m\u001b[0;34m\u001b[0m\u001b[0m\n\u001b[1;32m   8739\u001b[0m         )\n\u001b[0;32m-> 8740\u001b[0;31m         \u001b[0;32mreturn\u001b[0m \u001b[0mop\u001b[0m\u001b[0;34m.\u001b[0m\u001b[0mapply\u001b[0m\u001b[0;34m(\u001b[0m\u001b[0;34m)\u001b[0m\u001b[0;34m\u001b[0m\u001b[0;34m\u001b[0m\u001b[0m\n\u001b[0m\u001b[1;32m   8741\u001b[0m \u001b[0;34m\u001b[0m\u001b[0m\n\u001b[1;32m   8742\u001b[0m     def applymap(\n",
            "\u001b[0;32m/usr/local/lib/python3.7/dist-packages/pandas/core/apply.py\u001b[0m in \u001b[0;36mapply\u001b[0;34m(self)\u001b[0m\n\u001b[1;32m    686\u001b[0m             \u001b[0;32mreturn\u001b[0m \u001b[0mself\u001b[0m\u001b[0;34m.\u001b[0m\u001b[0mapply_raw\u001b[0m\u001b[0;34m(\u001b[0m\u001b[0;34m)\u001b[0m\u001b[0;34m\u001b[0m\u001b[0;34m\u001b[0m\u001b[0m\n\u001b[1;32m    687\u001b[0m \u001b[0;34m\u001b[0m\u001b[0m\n\u001b[0;32m--> 688\u001b[0;31m         \u001b[0;32mreturn\u001b[0m \u001b[0mself\u001b[0m\u001b[0;34m.\u001b[0m\u001b[0mapply_standard\u001b[0m\u001b[0;34m(\u001b[0m\u001b[0;34m)\u001b[0m\u001b[0;34m\u001b[0m\u001b[0;34m\u001b[0m\u001b[0m\n\u001b[0m\u001b[1;32m    689\u001b[0m \u001b[0;34m\u001b[0m\u001b[0m\n\u001b[1;32m    690\u001b[0m     \u001b[0;32mdef\u001b[0m \u001b[0magg\u001b[0m\u001b[0;34m(\u001b[0m\u001b[0mself\u001b[0m\u001b[0;34m)\u001b[0m\u001b[0;34m:\u001b[0m\u001b[0;34m\u001b[0m\u001b[0;34m\u001b[0m\u001b[0m\n",
            "\u001b[0;32m/usr/local/lib/python3.7/dist-packages/pandas/core/apply.py\u001b[0m in \u001b[0;36mapply_standard\u001b[0;34m(self)\u001b[0m\n\u001b[1;32m    810\u001b[0m \u001b[0;34m\u001b[0m\u001b[0m\n\u001b[1;32m    811\u001b[0m     \u001b[0;32mdef\u001b[0m \u001b[0mapply_standard\u001b[0m\u001b[0;34m(\u001b[0m\u001b[0mself\u001b[0m\u001b[0;34m)\u001b[0m\u001b[0;34m:\u001b[0m\u001b[0;34m\u001b[0m\u001b[0;34m\u001b[0m\u001b[0m\n\u001b[0;32m--> 812\u001b[0;31m         \u001b[0mresults\u001b[0m\u001b[0;34m,\u001b[0m \u001b[0mres_index\u001b[0m \u001b[0;34m=\u001b[0m \u001b[0mself\u001b[0m\u001b[0;34m.\u001b[0m\u001b[0mapply_series_generator\u001b[0m\u001b[0;34m(\u001b[0m\u001b[0;34m)\u001b[0m\u001b[0;34m\u001b[0m\u001b[0;34m\u001b[0m\u001b[0m\n\u001b[0m\u001b[1;32m    813\u001b[0m \u001b[0;34m\u001b[0m\u001b[0m\n\u001b[1;32m    814\u001b[0m         \u001b[0;31m# wrap results\u001b[0m\u001b[0;34m\u001b[0m\u001b[0;34m\u001b[0m\u001b[0;34m\u001b[0m\u001b[0m\n",
            "\u001b[0;32m/usr/local/lib/python3.7/dist-packages/pandas/core/apply.py\u001b[0m in \u001b[0;36mapply_series_generator\u001b[0;34m(self)\u001b[0m\n\u001b[1;32m    826\u001b[0m             \u001b[0;32mfor\u001b[0m \u001b[0mi\u001b[0m\u001b[0;34m,\u001b[0m \u001b[0mv\u001b[0m \u001b[0;32min\u001b[0m \u001b[0menumerate\u001b[0m\u001b[0;34m(\u001b[0m\u001b[0mseries_gen\u001b[0m\u001b[0;34m)\u001b[0m\u001b[0;34m:\u001b[0m\u001b[0;34m\u001b[0m\u001b[0;34m\u001b[0m\u001b[0m\n\u001b[1;32m    827\u001b[0m                 \u001b[0;31m# ignore SettingWithCopy here in case the user mutates\u001b[0m\u001b[0;34m\u001b[0m\u001b[0;34m\u001b[0m\u001b[0;34m\u001b[0m\u001b[0m\n\u001b[0;32m--> 828\u001b[0;31m                 \u001b[0mresults\u001b[0m\u001b[0;34m[\u001b[0m\u001b[0mi\u001b[0m\u001b[0;34m]\u001b[0m \u001b[0;34m=\u001b[0m \u001b[0mself\u001b[0m\u001b[0;34m.\u001b[0m\u001b[0mf\u001b[0m\u001b[0;34m(\u001b[0m\u001b[0mv\u001b[0m\u001b[0;34m)\u001b[0m\u001b[0;34m\u001b[0m\u001b[0;34m\u001b[0m\u001b[0m\n\u001b[0m\u001b[1;32m    829\u001b[0m                 \u001b[0;32mif\u001b[0m \u001b[0misinstance\u001b[0m\u001b[0;34m(\u001b[0m\u001b[0mresults\u001b[0m\u001b[0;34m[\u001b[0m\u001b[0mi\u001b[0m\u001b[0;34m]\u001b[0m\u001b[0;34m,\u001b[0m \u001b[0mABCSeries\u001b[0m\u001b[0;34m)\u001b[0m\u001b[0;34m:\u001b[0m\u001b[0;34m\u001b[0m\u001b[0;34m\u001b[0m\u001b[0m\n\u001b[1;32m    830\u001b[0m                     \u001b[0;31m# If we have a view on v, we need to make a copy because\u001b[0m\u001b[0;34m\u001b[0m\u001b[0;34m\u001b[0m\u001b[0;34m\u001b[0m\u001b[0m\n",
            "\u001b[0;32m/usr/local/lib/python3.7/dist-packages/pandas/core/apply.py\u001b[0m in \u001b[0;36mf\u001b[0;34m(x)\u001b[0m\n\u001b[1;32m    129\u001b[0m \u001b[0;34m\u001b[0m\u001b[0m\n\u001b[1;32m    130\u001b[0m             \u001b[0;32mdef\u001b[0m \u001b[0mf\u001b[0m\u001b[0;34m(\u001b[0m\u001b[0mx\u001b[0m\u001b[0;34m)\u001b[0m\u001b[0;34m:\u001b[0m\u001b[0;34m\u001b[0m\u001b[0;34m\u001b[0m\u001b[0m\n\u001b[0;32m--> 131\u001b[0;31m                 \u001b[0;32mreturn\u001b[0m \u001b[0mfunc\u001b[0m\u001b[0;34m(\u001b[0m\u001b[0mx\u001b[0m\u001b[0;34m,\u001b[0m \u001b[0;34m*\u001b[0m\u001b[0margs\u001b[0m\u001b[0;34m,\u001b[0m \u001b[0;34m**\u001b[0m\u001b[0mkwargs\u001b[0m\u001b[0;34m)\u001b[0m\u001b[0;34m\u001b[0m\u001b[0;34m\u001b[0m\u001b[0m\n\u001b[0m\u001b[1;32m    132\u001b[0m \u001b[0;34m\u001b[0m\u001b[0m\n\u001b[1;32m    133\u001b[0m         \u001b[0;32melse\u001b[0m\u001b[0;34m:\u001b[0m\u001b[0;34m\u001b[0m\u001b[0;34m\u001b[0m\u001b[0m\n",
            "\u001b[0;32m<ipython-input-72-9143b7ba0e2f>\u001b[0m in \u001b[0;36mcountvec_metric\u001b[0;34m(df, col1, col2)\u001b[0m\n\u001b[1;32m      9\u001b[0m         \u001b[0;32mreturn\u001b[0m \u001b[0;34m-\u001b[0m\u001b[0;36m1\u001b[0m\u001b[0;34m\u001b[0m\u001b[0;34m\u001b[0m\u001b[0m\n\u001b[1;32m     10\u001b[0m     \u001b[0;32melse\u001b[0m\u001b[0;34m:\u001b[0m\u001b[0;34m\u001b[0m\u001b[0;34m\u001b[0m\u001b[0m\n\u001b[0;32m---> 11\u001b[0;31m         \u001b[0mcount_matrix\u001b[0m\u001b[0;34m=\u001b[0m\u001b[0mcoun_vect\u001b[0m\u001b[0;34m.\u001b[0m\u001b[0mfit_transform\u001b[0m\u001b[0;34m(\u001b[0m\u001b[0;34m[\u001b[0m\u001b[0ma\u001b[0m\u001b[0;34m,\u001b[0m\u001b[0mb\u001b[0m\u001b[0;34m]\u001b[0m\u001b[0;34m)\u001b[0m\u001b[0;34m\u001b[0m\u001b[0;34m\u001b[0m\u001b[0m\n\u001b[0m\u001b[1;32m     12\u001b[0m     \u001b[0;32mreturn\u001b[0m \u001b[0mnp\u001b[0m\u001b[0;34m.\u001b[0m\u001b[0mcount_nonzero\u001b[0m\u001b[0;34m(\u001b[0m\u001b[0mcount_matrix\u001b[0m\u001b[0;34m.\u001b[0m\u001b[0mtoarray\u001b[0m\u001b[0;34m(\u001b[0m\u001b[0;34m)\u001b[0m\u001b[0;34m[\u001b[0m\u001b[0;36m0\u001b[0m\u001b[0;34m]\u001b[0m\u001b[0;34m!=\u001b[0m\u001b[0mcount_matrix\u001b[0m\u001b[0;34m.\u001b[0m\u001b[0mtoarray\u001b[0m\u001b[0;34m(\u001b[0m\u001b[0;34m)\u001b[0m\u001b[0;34m[\u001b[0m\u001b[0;36m1\u001b[0m\u001b[0;34m]\u001b[0m\u001b[0;34m)\u001b[0m\u001b[0;34m/\u001b[0m\u001b[0mlen\u001b[0m\u001b[0;34m(\u001b[0m\u001b[0mcount_matrix\u001b[0m\u001b[0;34m.\u001b[0m\u001b[0mtoarray\u001b[0m\u001b[0;34m(\u001b[0m\u001b[0;34m)\u001b[0m\u001b[0;34m[\u001b[0m\u001b[0;36m0\u001b[0m\u001b[0;34m]\u001b[0m\u001b[0;34m)\u001b[0m\u001b[0;34m\u001b[0m\u001b[0;34m\u001b[0m\u001b[0m\n",
            "\u001b[0;32m/usr/local/lib/python3.7/dist-packages/sklearn/feature_extraction/text.py\u001b[0m in \u001b[0;36mfit_transform\u001b[0;34m(self, raw_documents, y)\u001b[0m\n\u001b[1;32m   1328\u001b[0m                     \u001b[0;32mbreak\u001b[0m\u001b[0;34m\u001b[0m\u001b[0;34m\u001b[0m\u001b[0m\n\u001b[1;32m   1329\u001b[0m \u001b[0;34m\u001b[0m\u001b[0m\n\u001b[0;32m-> 1330\u001b[0;31m         \u001b[0mvocabulary\u001b[0m\u001b[0;34m,\u001b[0m \u001b[0mX\u001b[0m \u001b[0;34m=\u001b[0m \u001b[0mself\u001b[0m\u001b[0;34m.\u001b[0m\u001b[0m_count_vocab\u001b[0m\u001b[0;34m(\u001b[0m\u001b[0mraw_documents\u001b[0m\u001b[0;34m,\u001b[0m \u001b[0mself\u001b[0m\u001b[0;34m.\u001b[0m\u001b[0mfixed_vocabulary_\u001b[0m\u001b[0;34m)\u001b[0m\u001b[0;34m\u001b[0m\u001b[0;34m\u001b[0m\u001b[0m\n\u001b[0m\u001b[1;32m   1331\u001b[0m \u001b[0;34m\u001b[0m\u001b[0m\n\u001b[1;32m   1332\u001b[0m         \u001b[0;32mif\u001b[0m \u001b[0mself\u001b[0m\u001b[0;34m.\u001b[0m\u001b[0mbinary\u001b[0m\u001b[0;34m:\u001b[0m\u001b[0;34m\u001b[0m\u001b[0;34m\u001b[0m\u001b[0m\n",
            "\u001b[0;32m/usr/local/lib/python3.7/dist-packages/sklearn/feature_extraction/text.py\u001b[0m in \u001b[0;36m_count_vocab\u001b[0;34m(self, raw_documents, fixed_vocab)\u001b[0m\n\u001b[1;32m   1219\u001b[0m             \u001b[0;32mif\u001b[0m \u001b[0;32mnot\u001b[0m \u001b[0mvocabulary\u001b[0m\u001b[0;34m:\u001b[0m\u001b[0;34m\u001b[0m\u001b[0;34m\u001b[0m\u001b[0m\n\u001b[1;32m   1220\u001b[0m                 raise ValueError(\n\u001b[0;32m-> 1221\u001b[0;31m                     \u001b[0;34m\"empty vocabulary; perhaps the documents only contain stop words\"\u001b[0m\u001b[0;34m\u001b[0m\u001b[0;34m\u001b[0m\u001b[0m\n\u001b[0m\u001b[1;32m   1222\u001b[0m                 )\n\u001b[1;32m   1223\u001b[0m \u001b[0;34m\u001b[0m\u001b[0m\n",
            "\u001b[0;31mValueError\u001b[0m: empty vocabulary; perhaps the documents only contain stop words"
          ]
        }
      ]
    },
    {
      "cell_type": "markdown",
      "source": [
        "### Latitude and longitude\n",
        "\n",
        "\n",
        "---\n",
        "We compute the difference for (latitude, longitude) of each pair in `pairs.csv`. It turns out \n",
        "  * locations with close (difference less than 0.001) can have have different POIs: stores are next to each other in a shopping center. In some extreme cases, places with identical coordinates can have different POI. For example, one classroom can be located vertically on top of another.  \n",
        "  * conversely, locations physically far can represent the same POI, such as mountains."
      ],
      "metadata": {
        "id": "9Xdkh5XXbiv-"
      }
    },
    {
      "cell_type": "code",
      "source": [
        "#pairs['latitude_diff'] = (pairs['latitude_1']-pairs['latitude_2']).abs()\n",
        "#pairs['longitude_diff'] = (pairs['longitude_1']-pairs['longitude_2']).abs()\n",
        "#pairs['location_diff'] = pairs['latitude_1']-pairs['latitude_2']\n",
        "\n",
        "# Compute the difference of (latitude, longitude) of each pair in pairs.csv\n",
        "pairs['location_diff'] = pd.concat([(pairs['latitude_1']-pairs['latitude_2']).abs(), (pairs['longitude_1']-pairs['longitude_2']).abs()], axis=1).max(axis=1)\n",
        "\n",
        "print(pairs.location_diff, '\\nThe largest difference is', pairs.location_diff.max(),'\\nThe average difference is', pairs.location_diff.mean())"
      ],
      "metadata": {
        "colab": {
          "base_uri": "https://localhost:8080/"
        },
        "id": "2Y455w2siJI3",
        "outputId": "e9bda182-f39f-4424-e0a5-8dc3fc6c8b18"
      },
      "execution_count": 121,
      "outputs": [
        {
          "output_type": "stream",
          "name": "stdout",
          "text": [
            "0         0.009383\n",
            "1         0.006490\n",
            "2         0.001126\n",
            "3         0.000141\n",
            "4         0.006202\n",
            "            ...   \n",
            "578902    0.000693\n",
            "578903    0.001052\n",
            "578904    0.008220\n",
            "578905    0.000300\n",
            "578906    0.011056\n",
            "Name: location_diff, Length: 578907, dtype: float64 \n",
            "The largest difference is 270.8656697298361 \n",
            "The average difference is 0.13120959656239997\n"
          ]
        }
      ]
    },
    {
      "cell_type": "code",
      "source": [
        "pairs.country_1.value_counts()"
      ],
      "metadata": {
        "colab": {
          "base_uri": "https://localhost:8080/"
        },
        "id": "iHG_tAXjn7xb",
        "outputId": "8af677de-f542-4795-ba46-3b121a9f7ad8"
      },
      "execution_count": 122,
      "outputs": [
        {
          "output_type": "execute_result",
          "data": {
            "text/plain": [
              "US    117793\n",
              "ID     68412\n",
              "TR     61497\n",
              "JP     34217\n",
              "TH     31591\n",
              "       ...  \n",
              "YT         1\n",
              "PW         1\n",
              "DJ         1\n",
              "SH         1\n",
              "EH         1\n",
              "Name: country_1, Length: 213, dtype: int64"
            ]
          },
          "metadata": {},
          "execution_count": 122
        }
      ]
    },
    {
      "cell_type": "code",
      "source": [
        "len(pairs.loc[(pairs.country_1=='NZ') & (pairs.location_diff<0.001)])"
      ],
      "metadata": {
        "colab": {
          "base_uri": "https://localhost:8080/"
        },
        "id": "qk6xQvWnkD46",
        "outputId": "091c03b8-dce3-4af6-c1e5-feeba31a64c8"
      },
      "execution_count": 123,
      "outputs": [
        {
          "output_type": "execute_result",
          "data": {
            "text/plain": [
              "286"
            ]
          },
          "metadata": {},
          "execution_count": 123
        }
      ]
    },
    {
      "cell_type": "code",
      "source": [
        "sns.stripplot(x=\"match\", y=\"location_diff\", data=pairs.loc[(pairs.country_1=='NZ') & (pairs.location_diff<0.001)])\n",
        "plt.show()"
      ],
      "metadata": {
        "colab": {
          "base_uri": "https://localhost:8080/",
          "height": 281
        },
        "id": "wCHMVs33nL6-",
        "outputId": "5e93095a-1c8d-42ce-9a54-41c18da42f06"
      },
      "execution_count": 124,
      "outputs": [
        {
          "output_type": "display_data",
          "data": {
            "text/plain": [
              "<Figure size 432x288 with 1 Axes>"
            ],
            "image/png": "[encoded data removed]"
          },
          "metadata": {
            "needs_background": "light"
          }
        }
      ]
    },
    {
      "cell_type": "code",
      "source": [
        "print('There are',len(pairs.loc[(pairs.location_diff==0) & (pairs.match==False)]),'pairs with location_diff=0 but different POIs, out of all',len(pairs),'pairs.')"
      ],
      "metadata": {
        "colab": {
          "base_uri": "https://localhost:8080/"
        },
        "id": "6DlOAlWhhQHM",
        "outputId": "abb62ec9-bdaa-4a30-ca89-3046ae021f3c"
      },
      "execution_count": 125,
      "outputs": [
        {
          "output_type": "stream",
          "name": "stdout",
          "text": [
            "There are 574 pairs with location_diff=0 but different POIs, out of all 578907 pairs.\n"
          ]
        }
      ]
    },
    {
      "cell_type": "code",
      "source": [
        "pairs.loc[(pairs.country_1=='NZ') & (pairs.location_diff>5)].values"
      ],
      "metadata": {
        "colab": {
          "base_uri": "https://localhost:8080/"
        },
        "id": "sKU0SDovcmji",
        "outputId": "9bb49d2f-fe18-4005-a7aa-0aba3df0b30d"
      },
      "execution_count": 126,
      "outputs": [
        {
          "output_type": "execute_result",
          "data": {
            "text/plain": [
              "array([['E_e4da3f6a7ad158', 'Aoraki Mount Cook', -43.73289364636436,\n",
              "        170.09544602116455, 'Mt Cook National Park',\n",
              "        'Mount Cook Village', 'Canterbury', nan, 'NZ',\n",
              "        'http://www.doc.govt.nz', nan, 'Mountains', 'E_faaaf010fbdf76',\n",
              "        'Mt. Cook', -38.13113938012586, 176.24823588915947, nan, nan,\n",
              "        nan, nan, 'NZ', nan, nan, 'Mountains', True, 6.152789867994926,\n",
              "        0.4545454545454546, -1.0, -1.0, -1.0]], dtype=object)"
            ]
          },
          "metadata": {},
          "execution_count": 126
        }
      ]
    },
    {
      "cell_type": "markdown",
      "source": [
        "### Name\n",
        "\n",
        "---\n",
        "\n",
        "We compute the difference for names of each pair in `pairs.csv`. "
      ],
      "metadata": {
        "id": "dyq-Ele_tUdk"
      }
    },
    {
      "cell_type": "code",
      "source": [
        "pairs['name_diff'] = pairs.apply(sim_metric,\n",
        "                          args=('name_1', 'name_2'),\n",
        "                          axis=1)"
      ],
      "metadata": {
        "id": "I0MikHep2rW-"
      },
      "execution_count": 92,
      "outputs": []
    },
    {
      "cell_type": "code",
      "source": [
        "sns.stripplot(x=\"match\", y=\"name_diff\", data=pairs.loc[pairs.country_1=='NZ'])\n",
        "plt.show()"
      ],
      "metadata": {
        "colab": {
          "base_uri": "https://localhost:8080/",
          "height": 279
        },
        "id": "9By4VxpsyqXo",
        "outputId": "59c584e5-72d8-480a-e78d-b6ceb4708d64"
      },
      "execution_count": 93,
      "outputs": [
        {
          "output_type": "display_data",
          "data": {
            "text/plain": [
              "<Figure size 432x288 with 1 Axes>"
            ],
            "image/png": "[encoded data removed]"
          },
          "metadata": {
            "needs_background": "light"
          }
        }
      ]
    },
    {
      "cell_type": "code",
      "source": [
        "sns.stripplot(x=\"match\", y=\"name_diff\", data=pairs.loc[(pairs.country_1=='NZ') & (pairs.name_diff<0.1)])\n",
        "plt.show()"
      ],
      "metadata": {
        "colab": {
          "base_uri": "https://localhost:8080/",
          "height": 279
        },
        "id": "XImegvFXwQRw",
        "outputId": "8e7f83fa-a837-420e-e0d6-e1e9a87c521f"
      },
      "execution_count": 94,
      "outputs": [
        {
          "output_type": "display_data",
          "data": {
            "text/plain": [
              "<Figure size 432x288 with 1 Axes>"
            ],
            "image/png": "[encoded data removed]"
          },
          "metadata": {
            "needs_background": "light"
          }
        }
      ]
    },
    {
      "cell_type": "code",
      "source": [
        "pairs.loc[(pairs.location_diff<0.01)&(pairs.name_diff==0)&(pairs.match==False)][['name_1','name_2']]"
      ],
      "metadata": {
        "colab": {
          "base_uri": "https://localhost:8080/",
          "height": 423
        },
        "id": "tReb11xB0XT4",
        "outputId": "e44111ab-19d7-43a4-f26e-0c190e7c1906"
      },
      "execution_count": 95,
      "outputs": [
        {
          "output_type": "execute_result",
          "data": {
            "text/plain": [
              "                            name_1                      name_2\n",
              "1                         Turkcell                    Turkcell\n",
              "4                       Coffee Cat                   Coffeecat\n",
              "37                      Kipa Extra                  Kipa Extra\n",
              "94                       Рубль бум                   Рубль Бум\n",
              "151                           LiHO                        LiHO\n",
              "...                            ...                         ...\n",
              "578607                        Cosi                        Cosi\n",
              "578614                         ПЭК                         ПЭК\n",
              "578773  The Coffee Bean & Tea Leaf  The Coffee Bean & Tea Leaf\n",
              "578894                    7-Eleven                    7-Eleven\n",
              "578895                   WESTLOTTO                   WESTLOTTO\n",
              "\n",
              "[13352 rows x 2 columns]"
            ],
            "text/html": [
              "\n",
              "  <div id=\"df-1a33a0a6-1fc7-40b2-a524-aa4a01616eeb\">\n",
              "    <div class=\"colab-df-container\">\n",
              "      <div>\n",
              "<style scoped>\n",
              "    .dataframe tbody tr th:only-of-type {\n",
              "        vertical-align: middle;\n",
              "    }\n",
              "\n",
              "    .dataframe tbody tr th {\n",
              "        vertical-align: top;\n",
              "    }\n",
              "\n",
              "    .dataframe thead th {\n",
              "        text-align: right;\n",
              "    }\n",
              "</style>\n",
              "<table border=\"1\" class=\"dataframe\">\n",
              "  <thead>\n",
              "    <tr style=\"text-align: right;\">\n",
              "      <th></th>\n",
              "      <th>name_1</th>\n",
              "      <th>name_2</th>\n",
              "    </tr>\n",
              "  </thead>\n",
              "  <tbody>\n",
              "    <tr>\n",
              "      <th>1</th>\n",
              "      <td>Turkcell</td>\n",
              "      <td>Turkcell</td>\n",
              "    </tr>\n",
              "    <tr>\n",
              "      <th>4</th>\n",
              "      <td>Coffee Cat</td>\n",
              "      <td>Coffeecat</td>\n",
              "    </tr>\n",
              "    <tr>\n",
              "      <th>37</th>\n",
              "      <td>Kipa Extra</td>\n",
              "      <td>Kipa Extra</td>\n",
              "    </tr>\n",
              "    <tr>\n",
              "      <th>94</th>\n",
              "      <td>Рубль бум</td>\n",
              "      <td>Рубль Бум</td>\n",
              "    </tr>\n",
              "    <tr>\n",
              "      <th>151</th>\n",
              "      <td>LiHO</td>\n",
              "      <td>LiHO</td>\n",
              "    </tr>\n",
              "    <tr>\n",
              "      <th>...</th>\n",
              "      <td>...</td>\n",
              "      <td>...</td>\n",
              "    </tr>\n",
              "    <tr>\n",
              "      <th>578607</th>\n",
              "      <td>Cosi</td>\n",
              "      <td>Cosi</td>\n",
              "    </tr>\n",
              "    <tr>\n",
              "      <th>578614</th>\n",
              "      <td>ПЭК</td>\n",
              "      <td>ПЭК</td>\n",
              "    </tr>\n",
              "    <tr>\n",
              "      <th>578773</th>\n",
              "      <td>The Coffee Bean &amp; Tea Leaf</td>\n",
              "      <td>The Coffee Bean &amp; Tea Leaf</td>\n",
              "    </tr>\n",
              "    <tr>\n",
              "      <th>578894</th>\n",
              "      <td>7-Eleven</td>\n",
              "      <td>7-Eleven</td>\n",
              "    </tr>\n",
              "    <tr>\n",
              "      <th>578895</th>\n",
              "      <td>WESTLOTTO</td>\n",
              "      <td>WESTLOTTO</td>\n",
              "    </tr>\n",
              "  </tbody>\n",
              "</table>\n",
              "<p>13352 rows × 2 columns</p>\n",
              "</div>\n",
              "      <button class=\"colab-df-convert\" onclick=\"convertToInteractive('df-1a33a0a6-1fc7-40b2-a524-aa4a01616eeb')\"\n",
              "              title=\"Convert this dataframe to an interactive table.\"\n",
              "              style=\"display:none;\">\n",
              "        \n",
              "  <svg xmlns=\"http://www.w3.org/2000/svg\" height=\"24px\"viewBox=\"0 0 24 24\"\n",
              "       width=\"24px\">\n",
              "    <path d=\"M0 0h24v24H0V0z\" fill=\"none\"/>\n",
              "    <path d=\"M18.56 5.44l.94 2.06.94-2.06 2.06-.94-2.06-.94-.94-2.06-.94 2.06-2.06.94zm-11 1L8.5 8.5l.94-2.06 2.06-.94-2.06-.94L8.5 2.5l-.94 2.06-2.06.94zm10 10l.94 2.06.94-2.06 2.06-.94-2.06-.94-.94-2.06-.94 2.06-2.06.94z\"/><path d=\"M17.41 7.96l-1.37-1.37c-.4-.4-.92-.59-1.43-.59-.52 0-1.04.2-1.43.59L10.3 9.45l-7.72 7.72c-.78.78-.78 2.05 0 2.83L4 21.41c.39.39.9.59 1.41.59.51 0 1.02-.2 1.41-.59l7.78-7.78 2.81-2.81c.8-.78.8-2.07 0-2.86zM5.41 20L4 18.59l7.72-7.72 1.47 1.35L5.41 20z\"/>\n",
              "  </svg>\n",
              "      </button>\n",
              "      \n",
              "  <style>\n",
              "    .colab-df-container {\n",
              "      display:flex;\n",
              "      flex-wrap:wrap;\n",
              "      gap: 12px;\n",
              "    }\n",
              "\n",
              "    .colab-df-convert {\n",
              "      background-color: #E8F0FE;\n",
              "      border: none;\n",
              "      border-radius: 50%;\n",
              "      cursor: pointer;\n",
              "      display: none;\n",
              "      fill: #1967D2;\n",
              "      height: 32px;\n",
              "      padding: 0 0 0 0;\n",
              "      width: 32px;\n",
              "    }\n",
              "\n",
              "    .colab-df-convert:hover {\n",
              "      background-color: #E2EBFA;\n",
              "      box-shadow: 0px 1px 2px rgba(60, 64, 67, 0.3), 0px 1px 3px 1px rgba(60, 64, 67, 0.15);\n",
              "      fill: #174EA6;\n",
              "    }\n",
              "\n",
              "    [theme=dark] .colab-df-convert {\n",
              "      background-color: #3B4455;\n",
              "      fill: #D2E3FC;\n",
              "    }\n",
              "\n",
              "    [theme=dark] .colab-df-convert:hover {\n",
              "      background-color: #434B5C;\n",
              "      box-shadow: 0px 1px 3px 1px rgba(0, 0, 0, 0.15);\n",
              "      filter: drop-shadow(0px 1px 2px rgba(0, 0, 0, 0.3));\n",
              "      fill: #FFFFFF;\n",
              "    }\n",
              "  </style>\n",
              "\n",
              "      <script>\n",
              "        const buttonEl =\n",
              "          document.querySelector('#df-1a33a0a6-1fc7-40b2-a524-aa4a01616eeb button.colab-df-convert');\n",
              "        buttonEl.style.display =\n",
              "          google.colab.kernel.accessAllowed ? 'block' : 'none';\n",
              "\n",
              "        async function convertToInteractive(key) {\n",
              "          const element = document.querySelector('#df-1a33a0a6-1fc7-40b2-a524-aa4a01616eeb');\n",
              "          const dataTable =\n",
              "            await google.colab.kernel.invokeFunction('convertToInteractive',\n",
              "                                                     [key], {});\n",
              "          if (!dataTable) return;\n",
              "\n",
              "          const docLinkHtml = 'Like what you see? Visit the ' +\n",
              "            '<a target=\"_blank\" href=https://colab.research.google.com/notebooks/data_table.ipynb>data table notebook</a>'\n",
              "            + ' to learn more about interactive tables.';\n",
              "          element.innerHTML = '';\n",
              "          dataTable['output_type'] = 'display_data';\n",
              "          await google.colab.output.renderOutput(dataTable, element);\n",
              "          const docLink = document.createElement('div');\n",
              "          docLink.innerHTML = docLinkHtml;\n",
              "          element.appendChild(docLink);\n",
              "        }\n",
              "      </script>\n",
              "    </div>\n",
              "  </div>\n",
              "  "
            ]
          },
          "metadata": {},
          "execution_count": 95
        }
      ]
    },
    {
      "cell_type": "code",
      "source": [
        "pairs.loc[pairs.name_1=='Turkcell']"
      ],
      "metadata": {
        "colab": {
          "base_uri": "https://localhost:8080/",
          "height": 438
        },
        "id": "pCUkjnTx20-a",
        "outputId": "17edb776-7420-4d91-8955-b96f0eba69fa"
      },
      "execution_count": 96,
      "outputs": [
        {
          "output_type": "execute_result",
          "data": {
            "text/plain": [
              "                    id_1    name_1  latitude_1  longitude_1  \\\n",
              "1       E_000008a8ba4f48  Turkcell   37.844510    27.844202   \n",
              "43268   E_13399d0868886d  Turkcell   38.455899    27.118820   \n",
              "263706  E_744ad2ebec744d  Turkcell   40.983061    29.132542   \n",
              "305574  E_86e160273c83bb  Turkcell   38.723480    35.496717   \n",
              "385307  E_aa2cc5e2aa773e  Turkcell   36.863923    30.728908   \n",
              "\n",
              "                                        address_1     city_1   state_1  zip_1  \\\n",
              "1                          Adnan Menderes Bulvarı        NaN       NaN    NaN   \n",
              "43268                                         NaN        NaN       NaN    NaN   \n",
              "263706  Küçükbakkalköy Mah. Dudullu Cad. No:23-25   Ataşehir  Atasehir  34750   \n",
              "305574              Hunat Mah. Sivas Cad. No:24/1  Melikgazi   Kayseri  38140   \n",
              "385307                                        NaN        NaN       NaN    NaN   \n",
              "\n",
              "       country_1                       url_1  ... country_2 url_2 phone_2  \\\n",
              "1             TR                         NaN  ...        TR   NaN     NaN   \n",
              "43268         TR                         NaN  ...        TR   NaN     NaN   \n",
              "263706        TR                         NaN  ...        TR   NaN     NaN   \n",
              "305574        TR  http://www.turkcell.com.tr  ...        TR   NaN     NaN   \n",
              "385307        TR                         NaN  ...        TR   NaN     NaN   \n",
              "\n",
              "                categories_2  match  location_diff name_diff address_diff  \\\n",
              "1         Electronics Stores  False       0.006490  0.000000     0.793103   \n",
              "43268   Distribution Centers  False       0.003390  0.000000    -1.000000   \n",
              "263706    Mobile Phone Shops   True       0.001002  0.407407    -1.000000   \n",
              "305574    Electronics Stores   True       0.000082  0.238095    -1.000000   \n",
              "385307    Mobile Phone Shops   True       0.000477  0.000000    -1.000000   \n",
              "\n",
              "       city_diff zip_diff  \n",
              "1           -1.0     -1.0  \n",
              "43268       -1.0     -1.0  \n",
              "263706      -1.0     -1.0  \n",
              "305574      -1.0     -1.0  \n",
              "385307      -1.0     -1.0  \n",
              "\n",
              "[5 rows x 30 columns]"
            ],
            "text/html": [
              "\n",
              "  <div id=\"df-0f1b8ca5-a541-4989-b5e5-40727a77c16b\">\n",
              "    <div class=\"colab-df-container\">\n",
              "      <div>\n",
              "<style scoped>\n",
              "    .dataframe tbody tr th:only-of-type {\n",
              "        vertical-align: middle;\n",
              "    }\n",
              "\n",
              "    .dataframe tbody tr th {\n",
              "        vertical-align: top;\n",
              "    }\n",
              "\n",
              "    .dataframe thead th {\n",
              "        text-align: right;\n",
              "    }\n",
              "</style>\n",
              "<table border=\"1\" class=\"dataframe\">\n",
              "  <thead>\n",
              "    <tr style=\"text-align: right;\">\n",
              "      <th></th>\n",
              "      <th>id_1</th>\n",
              "      <th>name_1</th>\n",
              "      <th>latitude_1</th>\n",
              "      <th>longitude_1</th>\n",
              "      <th>address_1</th>\n",
              "      <th>city_1</th>\n",
              "      <th>state_1</th>\n",
              "      <th>zip_1</th>\n",
              "      <th>country_1</th>\n",
              "      <th>url_1</th>\n",
              "      <th>...</th>\n",
              "      <th>country_2</th>\n",
              "      <th>url_2</th>\n",
              "      <th>phone_2</th>\n",
              "      <th>categories_2</th>\n",
              "      <th>match</th>\n",
              "      <th>location_diff</th>\n",
              "      <th>name_diff</th>\n",
              "      <th>address_diff</th>\n",
              "      <th>city_diff</th>\n",
              "      <th>zip_diff</th>\n",
              "    </tr>\n",
              "  </thead>\n",
              "  <tbody>\n",
              "    <tr>\n",
              "      <th>1</th>\n",
              "      <td>E_000008a8ba4f48</td>\n",
              "      <td>Turkcell</td>\n",
              "      <td>37.844510</td>\n",
              "      <td>27.844202</td>\n",
              "      <td>Adnan Menderes Bulvarı</td>\n",
              "      <td>NaN</td>\n",
              "      <td>NaN</td>\n",
              "      <td>NaN</td>\n",
              "      <td>TR</td>\n",
              "      <td>NaN</td>\n",
              "      <td>...</td>\n",
              "      <td>TR</td>\n",
              "      <td>NaN</td>\n",
              "      <td>NaN</td>\n",
              "      <td>Electronics Stores</td>\n",
              "      <td>False</td>\n",
              "      <td>0.006490</td>\n",
              "      <td>0.000000</td>\n",
              "      <td>0.793103</td>\n",
              "      <td>-1.0</td>\n",
              "      <td>-1.0</td>\n",
              "    </tr>\n",
              "    <tr>\n",
              "      <th>43268</th>\n",
              "      <td>E_13399d0868886d</td>\n",
              "      <td>Turkcell</td>\n",
              "      <td>38.455899</td>\n",
              "      <td>27.118820</td>\n",
              "      <td>NaN</td>\n",
              "      <td>NaN</td>\n",
              "      <td>NaN</td>\n",
              "      <td>NaN</td>\n",
              "      <td>TR</td>\n",
              "      <td>NaN</td>\n",
              "      <td>...</td>\n",
              "      <td>TR</td>\n",
              "      <td>NaN</td>\n",
              "      <td>NaN</td>\n",
              "      <td>Distribution Centers</td>\n",
              "      <td>False</td>\n",
              "      <td>0.003390</td>\n",
              "      <td>0.000000</td>\n",
              "      <td>-1.000000</td>\n",
              "      <td>-1.0</td>\n",
              "      <td>-1.0</td>\n",
              "    </tr>\n",
              "    <tr>\n",
              "      <th>263706</th>\n",
              "      <td>E_744ad2ebec744d</td>\n",
              "      <td>Turkcell</td>\n",
              "      <td>40.983061</td>\n",
              "      <td>29.132542</td>\n",
              "      <td>Küçükbakkalköy Mah. Dudullu Cad. No:23-25</td>\n",
              "      <td>Ataşehir</td>\n",
              "      <td>Atasehir</td>\n",
              "      <td>34750</td>\n",
              "      <td>TR</td>\n",
              "      <td>NaN</td>\n",
              "      <td>...</td>\n",
              "      <td>TR</td>\n",
              "      <td>NaN</td>\n",
              "      <td>NaN</td>\n",
              "      <td>Mobile Phone Shops</td>\n",
              "      <td>True</td>\n",
              "      <td>0.001002</td>\n",
              "      <td>0.407407</td>\n",
              "      <td>-1.000000</td>\n",
              "      <td>-1.0</td>\n",
              "      <td>-1.0</td>\n",
              "    </tr>\n",
              "    <tr>\n",
              "      <th>305574</th>\n",
              "      <td>E_86e160273c83bb</td>\n",
              "      <td>Turkcell</td>\n",
              "      <td>38.723480</td>\n",
              "      <td>35.496717</td>\n",
              "      <td>Hunat Mah. Sivas Cad. No:24/1</td>\n",
              "      <td>Melikgazi</td>\n",
              "      <td>Kayseri</td>\n",
              "      <td>38140</td>\n",
              "      <td>TR</td>\n",
              "      <td>http://www.turkcell.com.tr</td>\n",
              "      <td>...</td>\n",
              "      <td>TR</td>\n",
              "      <td>NaN</td>\n",
              "      <td>NaN</td>\n",
              "      <td>Electronics Stores</td>\n",
              "      <td>True</td>\n",
              "      <td>0.000082</td>\n",
              "      <td>0.238095</td>\n",
              "      <td>-1.000000</td>\n",
              "      <td>-1.0</td>\n",
              "      <td>-1.0</td>\n",
              "    </tr>\n",
              "    <tr>\n",
              "      <th>385307</th>\n",
              "      <td>E_aa2cc5e2aa773e</td>\n",
              "      <td>Turkcell</td>\n",
              "      <td>36.863923</td>\n",
              "      <td>30.728908</td>\n",
              "      <td>NaN</td>\n",
              "      <td>NaN</td>\n",
              "      <td>NaN</td>\n",
              "      <td>NaN</td>\n",
              "      <td>TR</td>\n",
              "      <td>NaN</td>\n",
              "      <td>...</td>\n",
              "      <td>TR</td>\n",
              "      <td>NaN</td>\n",
              "      <td>NaN</td>\n",
              "      <td>Mobile Phone Shops</td>\n",
              "      <td>True</td>\n",
              "      <td>0.000477</td>\n",
              "      <td>0.000000</td>\n",
              "      <td>-1.000000</td>\n",
              "      <td>-1.0</td>\n",
              "      <td>-1.0</td>\n",
              "    </tr>\n",
              "  </tbody>\n",
              "</table>\n",
              "<p>5 rows × 30 columns</p>\n",
              "</div>\n",
              "      <button class=\"colab-df-convert\" onclick=\"convertToInteractive('df-0f1b8ca5-a541-4989-b5e5-40727a77c16b')\"\n",
              "              title=\"Convert this dataframe to an interactive table.\"\n",
              "              style=\"display:none;\">\n",
              "        \n",
              "  <svg xmlns=\"http://www.w3.org/2000/svg\" height=\"24px\"viewBox=\"0 0 24 24\"\n",
              "       width=\"24px\">\n",
              "    <path d=\"M0 0h24v24H0V0z\" fill=\"none\"/>\n",
              "    <path d=\"M18.56 5.44l.94 2.06.94-2.06 2.06-.94-2.06-.94-.94-2.06-.94 2.06-2.06.94zm-11 1L8.5 8.5l.94-2.06 2.06-.94-2.06-.94L8.5 2.5l-.94 2.06-2.06.94zm10 10l.94 2.06.94-2.06 2.06-.94-2.06-.94-.94-2.06-.94 2.06-2.06.94z\"/><path d=\"M17.41 7.96l-1.37-1.37c-.4-.4-.92-.59-1.43-.59-.52 0-1.04.2-1.43.59L10.3 9.45l-7.72 7.72c-.78.78-.78 2.05 0 2.83L4 21.41c.39.39.9.59 1.41.59.51 0 1.02-.2 1.41-.59l7.78-7.78 2.81-2.81c.8-.78.8-2.07 0-2.86zM5.41 20L4 18.59l7.72-7.72 1.47 1.35L5.41 20z\"/>\n",
              "  </svg>\n",
              "      </button>\n",
              "      \n",
              "  <style>\n",
              "    .colab-df-container {\n",
              "      display:flex;\n",
              "      flex-wrap:wrap;\n",
              "      gap: 12px;\n",
              "    }\n",
              "\n",
              "    .colab-df-convert {\n",
              "      background-color: #E8F0FE;\n",
              "      border: none;\n",
              "      border-radius: 50%;\n",
              "      cursor: pointer;\n",
              "      display: none;\n",
              "      fill: #1967D2;\n",
              "      height: 32px;\n",
              "      padding: 0 0 0 0;\n",
              "      width: 32px;\n",
              "    }\n",
              "\n",
              "    .colab-df-convert:hover {\n",
              "      background-color: #E2EBFA;\n",
              "      box-shadow: 0px 1px 2px rgba(60, 64, 67, 0.3), 0px 1px 3px 1px rgba(60, 64, 67, 0.15);\n",
              "      fill: #174EA6;\n",
              "    }\n",
              "\n",
              "    [theme=dark] .colab-df-convert {\n",
              "      background-color: #3B4455;\n",
              "      fill: #D2E3FC;\n",
              "    }\n",
              "\n",
              "    [theme=dark] .colab-df-convert:hover {\n",
              "      background-color: #434B5C;\n",
              "      box-shadow: 0px 1px 3px 1px rgba(0, 0, 0, 0.15);\n",
              "      filter: drop-shadow(0px 1px 2px rgba(0, 0, 0, 0.3));\n",
              "      fill: #FFFFFF;\n",
              "    }\n",
              "  </style>\n",
              "\n",
              "      <script>\n",
              "        const buttonEl =\n",
              "          document.querySelector('#df-0f1b8ca5-a541-4989-b5e5-40727a77c16b button.colab-df-convert');\n",
              "        buttonEl.style.display =\n",
              "          google.colab.kernel.accessAllowed ? 'block' : 'none';\n",
              "\n",
              "        async function convertToInteractive(key) {\n",
              "          const element = document.querySelector('#df-0f1b8ca5-a541-4989-b5e5-40727a77c16b');\n",
              "          const dataTable =\n",
              "            await google.colab.kernel.invokeFunction('convertToInteractive',\n",
              "                                                     [key], {});\n",
              "          if (!dataTable) return;\n",
              "\n",
              "          const docLinkHtml = 'Like what you see? Visit the ' +\n",
              "            '<a target=\"_blank\" href=https://colab.research.google.com/notebooks/data_table.ipynb>data table notebook</a>'\n",
              "            + ' to learn more about interactive tables.';\n",
              "          element.innerHTML = '';\n",
              "          dataTable['output_type'] = 'display_data';\n",
              "          await google.colab.output.renderOutput(dataTable, element);\n",
              "          const docLink = document.createElement('div');\n",
              "          docLink.innerHTML = docLinkHtml;\n",
              "          element.appendChild(docLink);\n",
              "        }\n",
              "      </script>\n",
              "    </div>\n",
              "  </div>\n",
              "  "
            ]
          },
          "metadata": {},
          "execution_count": 96
        }
      ]
    },
    {
      "cell_type": "markdown",
      "source": [
        "### Address"
      ],
      "metadata": {
        "id": "TNLatSS55NQ-"
      }
    },
    {
      "cell_type": "code",
      "source": [
        "pairs['address_diff'] = pairs.apply(sim_metric,\n",
        "                          args=('address_1', 'address_2'),\n",
        "                          axis=1)"
      ],
      "metadata": {
        "id": "DT6QUtHb3Btp"
      },
      "execution_count": 97,
      "outputs": []
    },
    {
      "cell_type": "code",
      "source": [
        "sns.stripplot(x=\"match\", y=\"address_diff\", data=pairs.loc[pairs.country_1=='NZ'])\n",
        "plt.show()"
      ],
      "metadata": {
        "colab": {
          "base_uri": "https://localhost:8080/",
          "height": 0
        },
        "id": "gEyh32Hy5G3j",
        "outputId": "1d3fc0eb-d5f5-474b-b43b-ac55fb4e370e"
      },
      "execution_count": 98,
      "outputs": [
        {
          "output_type": "display_data",
          "data": {
            "text/plain": [
              "<Figure size 432x288 with 1 Axes>"
            ],
            "image/png": "[encoded data removed]"
          },
          "metadata": {
            "needs_background": "light"
          }
        }
      ]
    },
    {
      "cell_type": "code",
      "source": [
        "sns.stripplot(x=\"match\", y=\"address_diff\", data=pairs.loc[(pairs.country_1=='NZ')&(pairs.address_diff>=0)])\n",
        "plt.show()"
      ],
      "metadata": {
        "colab": {
          "base_uri": "https://localhost:8080/",
          "height": 0
        },
        "id": "61qiJkbJ5VQT",
        "outputId": "d2047994-256b-4dc6-8e2e-0caa506deb23"
      },
      "execution_count": 99,
      "outputs": [
        {
          "output_type": "display_data",
          "data": {
            "text/plain": [
              "<Figure size 432x288 with 1 Axes>"
            ],
            "image/png": "[encoded data removed]"
          },
          "metadata": {
            "needs_background": "light"
          }
        }
      ]
    },
    {
      "cell_type": "code",
      "source": [
        "pairs.loc[(pairs.location_diff<0.01)&(pairs.name_diff<0.1)&(pairs.address_diff==0)&(pairs.match==False)&(pairs.country_1=='US')][['name_1','name_2','address_1','address_2']]"
      ],
      "metadata": {
        "colab": {
          "base_uri": "https://localhost:8080/",
          "height": 0
        },
        "id": "kBll3hel5SvN",
        "outputId": "bab8da88-7fa8-4e31-d41f-b2b8f24f0a52"
      },
      "execution_count": 100,
      "outputs": [
        {
          "output_type": "execute_result",
          "data": {
            "text/plain": [
              "                                      name_1  \\\n",
              "532          Parkview High School Building H   \n",
              "2526      Sprague Lake Rest Area (Westbound)   \n",
              "5315                             Section 304   \n",
              "5316                             Section 304   \n",
              "6259                Facebook 1050 Building 2   \n",
              "...                                      ...   \n",
              "571522               Conference Room HS 2007   \n",
              "572791   Mann Center for the Performing Arts   \n",
              "575350   Pozez Education Center Centennial D   \n",
              "576064  UCF Business Administration II (BA2)   \n",
              "578153        Gym @ Spinnaker Bay Apartments   \n",
              "\n",
              "                                            name_2  \\\n",
              "532                Parkview High School Building C   \n",
              "2526            Sprague Lake Rest Area (Eastbound)   \n",
              "5315                                   Section 305   \n",
              "5316                                   Section 308   \n",
              "6259                      Facebook 1050 Building 1   \n",
              "...                                            ...   \n",
              "571522                     Conference Room HS 2038   \n",
              "572791  Mann Center for the Performing Arts D Gate   \n",
              "575350         Pozez Education Center Centennial A   \n",
              "576064         UCF Business Administration I (BA1)   \n",
              "578153                    Spinnaker Bay Apartments   \n",
              "\n",
              "                                                address_1  \\\n",
              "532                        998 Cole Dr, Lilburn, GA 30047   \n",
              "2526                                        Interstate 90   \n",
              "5315                                       KeyBank Center   \n",
              "5316                                       KeyBank Center   \n",
              "6259                                    1050 Page Mill Rd   \n",
              "...                                                   ...   \n",
              "571522  Health Information and Translational Science (HS)   \n",
              "572791                                  5201 Parkside Ave   \n",
              "575350                                    1505 SW 8th Ave   \n",
              "576064                          4000 Central Florida Blvd   \n",
              "578153                                   707 President St   \n",
              "\n",
              "                                                address_2  \n",
              "532                        998 Cole Dr, Lilburn, GA 30047  \n",
              "2526                                        Interstate 90  \n",
              "5315                                       KeyBank Center  \n",
              "5316                                       KeyBank Center  \n",
              "6259                                    1050 Page Mill Rd  \n",
              "...                                                   ...  \n",
              "571522  Health Information and Translational Science (HS)  \n",
              "572791                                  5201 Parkside Ave  \n",
              "575350                                    1505 SW 8th Ave  \n",
              "576064                          4000 Central Florida Blvd  \n",
              "578153                                   707 President St  \n",
              "\n",
              "[375 rows x 4 columns]"
            ],
            "text/html": [
              "\n",
              "  <div id=\"df-34ce23b7-fb5c-4081-80b8-622650b5ab84\">\n",
              "    <div class=\"colab-df-container\">\n",
              "      <div>\n",
              "<style scoped>\n",
              "    .dataframe tbody tr th:only-of-type {\n",
              "        vertical-align: middle;\n",
              "    }\n",
              "\n",
              "    .dataframe tbody tr th {\n",
              "        vertical-align: top;\n",
              "    }\n",
              "\n",
              "    .dataframe thead th {\n",
              "        text-align: right;\n",
              "    }\n",
              "</style>\n",
              "<table border=\"1\" class=\"dataframe\">\n",
              "  <thead>\n",
              "    <tr style=\"text-align: right;\">\n",
              "      <th></th>\n",
              "      <th>name_1</th>\n",
              "      <th>name_2</th>\n",
              "      <th>address_1</th>\n",
              "      <th>address_2</th>\n",
              "    </tr>\n",
              "  </thead>\n",
              "  <tbody>\n",
              "    <tr>\n",
              "      <th>532</th>\n",
              "      <td>Parkview High School Building H</td>\n",
              "      <td>Parkview High School Building C</td>\n",
              "      <td>998 Cole Dr, Lilburn, GA 30047</td>\n",
              "      <td>998 Cole Dr, Lilburn, GA 30047</td>\n",
              "    </tr>\n",
              "    <tr>\n",
              "      <th>2526</th>\n",
              "      <td>Sprague Lake Rest Area (Westbound)</td>\n",
              "      <td>Sprague Lake Rest Area (Eastbound)</td>\n",
              "      <td>Interstate 90</td>\n",
              "      <td>Interstate 90</td>\n",
              "    </tr>\n",
              "    <tr>\n",
              "      <th>5315</th>\n",
              "      <td>Section 304</td>\n",
              "      <td>Section 305</td>\n",
              "      <td>KeyBank Center</td>\n",
              "      <td>KeyBank Center</td>\n",
              "    </tr>\n",
              "    <tr>\n",
              "      <th>5316</th>\n",
              "      <td>Section 304</td>\n",
              "      <td>Section 308</td>\n",
              "      <td>KeyBank Center</td>\n",
              "      <td>KeyBank Center</td>\n",
              "    </tr>\n",
              "    <tr>\n",
              "      <th>6259</th>\n",
              "      <td>Facebook 1050 Building 2</td>\n",
              "      <td>Facebook 1050 Building 1</td>\n",
              "      <td>1050 Page Mill Rd</td>\n",
              "      <td>1050 Page Mill Rd</td>\n",
              "    </tr>\n",
              "    <tr>\n",
              "      <th>...</th>\n",
              "      <td>...</td>\n",
              "      <td>...</td>\n",
              "      <td>...</td>\n",
              "      <td>...</td>\n",
              "    </tr>\n",
              "    <tr>\n",
              "      <th>571522</th>\n",
              "      <td>Conference Room HS 2007</td>\n",
              "      <td>Conference Room HS 2038</td>\n",
              "      <td>Health Information and Translational Science (HS)</td>\n",
              "      <td>Health Information and Translational Science (HS)</td>\n",
              "    </tr>\n",
              "    <tr>\n",
              "      <th>572791</th>\n",
              "      <td>Mann Center for the Performing Arts</td>\n",
              "      <td>Mann Center for the Performing Arts D Gate</td>\n",
              "      <td>5201 Parkside Ave</td>\n",
              "      <td>5201 Parkside Ave</td>\n",
              "    </tr>\n",
              "    <tr>\n",
              "      <th>575350</th>\n",
              "      <td>Pozez Education Center Centennial D</td>\n",
              "      <td>Pozez Education Center Centennial A</td>\n",
              "      <td>1505 SW 8th Ave</td>\n",
              "      <td>1505 SW 8th Ave</td>\n",
              "    </tr>\n",
              "    <tr>\n",
              "      <th>576064</th>\n",
              "      <td>UCF Business Administration II (BA2)</td>\n",
              "      <td>UCF Business Administration I (BA1)</td>\n",
              "      <td>4000 Central Florida Blvd</td>\n",
              "      <td>4000 Central Florida Blvd</td>\n",
              "    </tr>\n",
              "    <tr>\n",
              "      <th>578153</th>\n",
              "      <td>Gym @ Spinnaker Bay Apartments</td>\n",
              "      <td>Spinnaker Bay Apartments</td>\n",
              "      <td>707 President St</td>\n",
              "      <td>707 President St</td>\n",
              "    </tr>\n",
              "  </tbody>\n",
              "</table>\n",
              "<p>375 rows × 4 columns</p>\n",
              "</div>\n",
              "      <button class=\"colab-df-convert\" onclick=\"convertToInteractive('df-34ce23b7-fb5c-4081-80b8-622650b5ab84')\"\n",
              "              title=\"Convert this dataframe to an interactive table.\"\n",
              "              style=\"display:none;\">\n",
              "        \n",
              "  <svg xmlns=\"http://www.w3.org/2000/svg\" height=\"24px\"viewBox=\"0 0 24 24\"\n",
              "       width=\"24px\">\n",
              "    <path d=\"M0 0h24v24H0V0z\" fill=\"none\"/>\n",
              "    <path d=\"M18.56 5.44l.94 2.06.94-2.06 2.06-.94-2.06-.94-.94-2.06-.94 2.06-2.06.94zm-11 1L8.5 8.5l.94-2.06 2.06-.94-2.06-.94L8.5 2.5l-.94 2.06-2.06.94zm10 10l.94 2.06.94-2.06 2.06-.94-2.06-.94-.94-2.06-.94 2.06-2.06.94z\"/><path d=\"M17.41 7.96l-1.37-1.37c-.4-.4-.92-.59-1.43-.59-.52 0-1.04.2-1.43.59L10.3 9.45l-7.72 7.72c-.78.78-.78 2.05 0 2.83L4 21.41c.39.39.9.59 1.41.59.51 0 1.02-.2 1.41-.59l7.78-7.78 2.81-2.81c.8-.78.8-2.07 0-2.86zM5.41 20L4 18.59l7.72-7.72 1.47 1.35L5.41 20z\"/>\n",
              "  </svg>\n",
              "      </button>\n",
              "      \n",
              "  <style>\n",
              "    .colab-df-container {\n",
              "      display:flex;\n",
              "      flex-wrap:wrap;\n",
              "      gap: 12px;\n",
              "    }\n",
              "\n",
              "    .colab-df-convert {\n",
              "      background-color: #E8F0FE;\n",
              "      border: none;\n",
              "      border-radius: 50%;\n",
              "      cursor: pointer;\n",
              "      display: none;\n",
              "      fill: #1967D2;\n",
              "      height: 32px;\n",
              "      padding: 0 0 0 0;\n",
              "      width: 32px;\n",
              "    }\n",
              "\n",
              "    .colab-df-convert:hover {\n",
              "      background-color: #E2EBFA;\n",
              "      box-shadow: 0px 1px 2px rgba(60, 64, 67, 0.3), 0px 1px 3px 1px rgba(60, 64, 67, 0.15);\n",
              "      fill: #174EA6;\n",
              "    }\n",
              "\n",
              "    [theme=dark] .colab-df-convert {\n",
              "      background-color: #3B4455;\n",
              "      fill: #D2E3FC;\n",
              "    }\n",
              "\n",
              "    [theme=dark] .colab-df-convert:hover {\n",
              "      background-color: #434B5C;\n",
              "      box-shadow: 0px 1px 3px 1px rgba(0, 0, 0, 0.15);\n",
              "      filter: drop-shadow(0px 1px 2px rgba(0, 0, 0, 0.3));\n",
              "      fill: #FFFFFF;\n",
              "    }\n",
              "  </style>\n",
              "\n",
              "      <script>\n",
              "        const buttonEl =\n",
              "          document.querySelector('#df-34ce23b7-fb5c-4081-80b8-622650b5ab84 button.colab-df-convert');\n",
              "        buttonEl.style.display =\n",
              "          google.colab.kernel.accessAllowed ? 'block' : 'none';\n",
              "\n",
              "        async function convertToInteractive(key) {\n",
              "          const element = document.querySelector('#df-34ce23b7-fb5c-4081-80b8-622650b5ab84');\n",
              "          const dataTable =\n",
              "            await google.colab.kernel.invokeFunction('convertToInteractive',\n",
              "                                                     [key], {});\n",
              "          if (!dataTable) return;\n",
              "\n",
              "          const docLinkHtml = 'Like what you see? Visit the ' +\n",
              "            '<a target=\"_blank\" href=https://colab.research.google.com/notebooks/data_table.ipynb>data table notebook</a>'\n",
              "            + ' to learn more about interactive tables.';\n",
              "          element.innerHTML = '';\n",
              "          dataTable['output_type'] = 'display_data';\n",
              "          await google.colab.output.renderOutput(dataTable, element);\n",
              "          const docLink = document.createElement('div');\n",
              "          docLink.innerHTML = docLinkHtml;\n",
              "          element.appendChild(docLink);\n",
              "        }\n",
              "      </script>\n",
              "    </div>\n",
              "  </div>\n",
              "  "
            ]
          },
          "metadata": {},
          "execution_count": 100
        }
      ]
    },
    {
      "cell_type": "code",
      "source": [
        "pairs.match.value_counts()"
      ],
      "metadata": {
        "colab": {
          "base_uri": "https://localhost:8080/"
        },
        "id": "eOBs8T7OK0JY",
        "outputId": "892c9cd5-4a35-4e24-a8bf-28b9d22ffdb6"
      },
      "execution_count": 101,
      "outputs": [
        {
          "output_type": "execute_result",
          "data": {
            "text/plain": [
              "True     398786\n",
              "False    180121\n",
              "Name: match, dtype: int64"
            ]
          },
          "metadata": {},
          "execution_count": 101
        }
      ]
    },
    {
      "cell_type": "code",
      "source": [
        "pairs.loc[pairs.location_diff<1].match.value_counts()"
      ],
      "metadata": {
        "colab": {
          "base_uri": "https://localhost:8080/"
        },
        "id": "mzuSWES4KJHt",
        "outputId": "7cf59447-345c-4650-fd3e-0110b37a3d76"
      },
      "execution_count": 102,
      "outputs": [
        {
          "output_type": "execute_result",
          "data": {
            "text/plain": [
              "True     394720\n",
              "False    179720\n",
              "Name: match, dtype: int64"
            ]
          },
          "metadata": {},
          "execution_count": 102
        }
      ]
    },
    {
      "cell_type": "markdown",
      "source": [
        "### City"
      ],
      "metadata": {
        "id": "6pbFEc26581Z"
      }
    },
    {
      "cell_type": "code",
      "source": [
        "pairs['city_diff'] = pairs.apply(sim_metric,\n",
        "                          args=('city_1', 'city_2'),\n",
        "                          axis=1)"
      ],
      "metadata": {
        "id": "-Grf2BqZ6D6U"
      },
      "execution_count": 103,
      "outputs": []
    },
    {
      "cell_type": "code",
      "source": [
        "sns.stripplot(x=\"match\", y=\"city_diff\", data=pairs.loc[(pairs.country_1=='NZ')&(pairs.city_diff>=0)])\n",
        "plt.show()"
      ],
      "metadata": {
        "colab": {
          "base_uri": "https://localhost:8080/",
          "height": 0
        },
        "id": "gsSp-XK26qtH",
        "outputId": "ab10d792-1c7b-4a84-e4fb-c39f5a24c073"
      },
      "execution_count": 104,
      "outputs": [
        {
          "output_type": "display_data",
          "data": {
            "text/plain": [
              "<Figure size 432x288 with 1 Axes>"
            ],
            "image/png": "[encoded data removed]"
          },
          "metadata": {
            "needs_background": "light"
          }
        }
      ]
    },
    {
      "cell_type": "code",
      "source": [
        "pairs.loc[(pairs.location_diff<0.01)&(pairs.name_diff<0.1)&(pairs.address_diff==0)&(pairs.city_diff==0)&(pairs.match==False)&(pairs.country_1=='US')][['name_1','name_2','address_1','address_2']]"
      ],
      "metadata": {
        "colab": {
          "base_uri": "https://localhost:8080/",
          "height": 0
        },
        "id": "SJmcI4MA7Sr_",
        "outputId": "960eb384-f52f-4442-baa1-4360e22a27b9"
      },
      "execution_count": 105,
      "outputs": [
        {
          "output_type": "execute_result",
          "data": {
            "text/plain": [
              "                                      name_1  \\\n",
              "532          Parkview High School Building H   \n",
              "2526      Sprague Lake Rest Area (Westbound)   \n",
              "5315                             Section 304   \n",
              "5316                             Section 304   \n",
              "6259                Facebook 1050 Building 2   \n",
              "...                                      ...   \n",
              "571522               Conference Room HS 2007   \n",
              "572791   Mann Center for the Performing Arts   \n",
              "575350   Pozez Education Center Centennial D   \n",
              "576064  UCF Business Administration II (BA2)   \n",
              "578153        Gym @ Spinnaker Bay Apartments   \n",
              "\n",
              "                                            name_2  \\\n",
              "532                Parkview High School Building C   \n",
              "2526            Sprague Lake Rest Area (Eastbound)   \n",
              "5315                                   Section 305   \n",
              "5316                                   Section 308   \n",
              "6259                      Facebook 1050 Building 1   \n",
              "...                                            ...   \n",
              "571522                     Conference Room HS 2038   \n",
              "572791  Mann Center for the Performing Arts D Gate   \n",
              "575350         Pozez Education Center Centennial A   \n",
              "576064         UCF Business Administration I (BA1)   \n",
              "578153                    Spinnaker Bay Apartments   \n",
              "\n",
              "                                                address_1  \\\n",
              "532                        998 Cole Dr, Lilburn, GA 30047   \n",
              "2526                                        Interstate 90   \n",
              "5315                                       KeyBank Center   \n",
              "5316                                       KeyBank Center   \n",
              "6259                                    1050 Page Mill Rd   \n",
              "...                                                   ...   \n",
              "571522  Health Information and Translational Science (HS)   \n",
              "572791                                  5201 Parkside Ave   \n",
              "575350                                    1505 SW 8th Ave   \n",
              "576064                          4000 Central Florida Blvd   \n",
              "578153                                   707 President St   \n",
              "\n",
              "                                                address_2  \n",
              "532                        998 Cole Dr, Lilburn, GA 30047  \n",
              "2526                                        Interstate 90  \n",
              "5315                                       KeyBank Center  \n",
              "5316                                       KeyBank Center  \n",
              "6259                                    1050 Page Mill Rd  \n",
              "...                                                   ...  \n",
              "571522  Health Information and Translational Science (HS)  \n",
              "572791                                  5201 Parkside Ave  \n",
              "575350                                    1505 SW 8th Ave  \n",
              "576064                          4000 Central Florida Blvd  \n",
              "578153                                   707 President St  \n",
              "\n",
              "[353 rows x 4 columns]"
            ],
            "text/html": [
              "\n",
              "  <div id=\"df-fd308842-81e5-407c-ab3a-d4e979e5cf86\">\n",
              "    <div class=\"colab-df-container\">\n",
              "      <div>\n",
              "<style scoped>\n",
              "    .dataframe tbody tr th:only-of-type {\n",
              "        vertical-align: middle;\n",
              "    }\n",
              "\n",
              "    .dataframe tbody tr th {\n",
              "        vertical-align: top;\n",
              "    }\n",
              "\n",
              "    .dataframe thead th {\n",
              "        text-align: right;\n",
              "    }\n",
              "</style>\n",
              "<table border=\"1\" class=\"dataframe\">\n",
              "  <thead>\n",
              "    <tr style=\"text-align: right;\">\n",
              "      <th></th>\n",
              "      <th>name_1</th>\n",
              "      <th>name_2</th>\n",
              "      <th>address_1</th>\n",
              "      <th>address_2</th>\n",
              "    </tr>\n",
              "  </thead>\n",
              "  <tbody>\n",
              "    <tr>\n",
              "      <th>532</th>\n",
              "      <td>Parkview High School Building H</td>\n",
              "      <td>Parkview High School Building C</td>\n",
              "      <td>998 Cole Dr, Lilburn, GA 30047</td>\n",
              "      <td>998 Cole Dr, Lilburn, GA 30047</td>\n",
              "    </tr>\n",
              "    <tr>\n",
              "      <th>2526</th>\n",
              "      <td>Sprague Lake Rest Area (Westbound)</td>\n",
              "      <td>Sprague Lake Rest Area (Eastbound)</td>\n",
              "      <td>Interstate 90</td>\n",
              "      <td>Interstate 90</td>\n",
              "    </tr>\n",
              "    <tr>\n",
              "      <th>5315</th>\n",
              "      <td>Section 304</td>\n",
              "      <td>Section 305</td>\n",
              "      <td>KeyBank Center</td>\n",
              "      <td>KeyBank Center</td>\n",
              "    </tr>\n",
              "    <tr>\n",
              "      <th>5316</th>\n",
              "      <td>Section 304</td>\n",
              "      <td>Section 308</td>\n",
              "      <td>KeyBank Center</td>\n",
              "      <td>KeyBank Center</td>\n",
              "    </tr>\n",
              "    <tr>\n",
              "      <th>6259</th>\n",
              "      <td>Facebook 1050 Building 2</td>\n",
              "      <td>Facebook 1050 Building 1</td>\n",
              "      <td>1050 Page Mill Rd</td>\n",
              "      <td>1050 Page Mill Rd</td>\n",
              "    </tr>\n",
              "    <tr>\n",
              "      <th>...</th>\n",
              "      <td>...</td>\n",
              "      <td>...</td>\n",
              "      <td>...</td>\n",
              "      <td>...</td>\n",
              "    </tr>\n",
              "    <tr>\n",
              "      <th>571522</th>\n",
              "      <td>Conference Room HS 2007</td>\n",
              "      <td>Conference Room HS 2038</td>\n",
              "      <td>Health Information and Translational Science (HS)</td>\n",
              "      <td>Health Information and Translational Science (HS)</td>\n",
              "    </tr>\n",
              "    <tr>\n",
              "      <th>572791</th>\n",
              "      <td>Mann Center for the Performing Arts</td>\n",
              "      <td>Mann Center for the Performing Arts D Gate</td>\n",
              "      <td>5201 Parkside Ave</td>\n",
              "      <td>5201 Parkside Ave</td>\n",
              "    </tr>\n",
              "    <tr>\n",
              "      <th>575350</th>\n",
              "      <td>Pozez Education Center Centennial D</td>\n",
              "      <td>Pozez Education Center Centennial A</td>\n",
              "      <td>1505 SW 8th Ave</td>\n",
              "      <td>1505 SW 8th Ave</td>\n",
              "    </tr>\n",
              "    <tr>\n",
              "      <th>576064</th>\n",
              "      <td>UCF Business Administration II (BA2)</td>\n",
              "      <td>UCF Business Administration I (BA1)</td>\n",
              "      <td>4000 Central Florida Blvd</td>\n",
              "      <td>4000 Central Florida Blvd</td>\n",
              "    </tr>\n",
              "    <tr>\n",
              "      <th>578153</th>\n",
              "      <td>Gym @ Spinnaker Bay Apartments</td>\n",
              "      <td>Spinnaker Bay Apartments</td>\n",
              "      <td>707 President St</td>\n",
              "      <td>707 President St</td>\n",
              "    </tr>\n",
              "  </tbody>\n",
              "</table>\n",
              "<p>353 rows × 4 columns</p>\n",
              "</div>\n",
              "      <button class=\"colab-df-convert\" onclick=\"convertToInteractive('df-fd308842-81e5-407c-ab3a-d4e979e5cf86')\"\n",
              "              title=\"Convert this dataframe to an interactive table.\"\n",
              "              style=\"display:none;\">\n",
              "        \n",
              "  <svg xmlns=\"http://www.w3.org/2000/svg\" height=\"24px\"viewBox=\"0 0 24 24\"\n",
              "       width=\"24px\">\n",
              "    <path d=\"M0 0h24v24H0V0z\" fill=\"none\"/>\n",
              "    <path d=\"M18.56 5.44l.94 2.06.94-2.06 2.06-.94-2.06-.94-.94-2.06-.94 2.06-2.06.94zm-11 1L8.5 8.5l.94-2.06 2.06-.94-2.06-.94L8.5 2.5l-.94 2.06-2.06.94zm10 10l.94 2.06.94-2.06 2.06-.94-2.06-.94-.94-2.06-.94 2.06-2.06.94z\"/><path d=\"M17.41 7.96l-1.37-1.37c-.4-.4-.92-.59-1.43-.59-.52 0-1.04.2-1.43.59L10.3 9.45l-7.72 7.72c-.78.78-.78 2.05 0 2.83L4 21.41c.39.39.9.59 1.41.59.51 0 1.02-.2 1.41-.59l7.78-7.78 2.81-2.81c.8-.78.8-2.07 0-2.86zM5.41 20L4 18.59l7.72-7.72 1.47 1.35L5.41 20z\"/>\n",
              "  </svg>\n",
              "      </button>\n",
              "      \n",
              "  <style>\n",
              "    .colab-df-container {\n",
              "      display:flex;\n",
              "      flex-wrap:wrap;\n",
              "      gap: 12px;\n",
              "    }\n",
              "\n",
              "    .colab-df-convert {\n",
              "      background-color: #E8F0FE;\n",
              "      border: none;\n",
              "      border-radius: 50%;\n",
              "      cursor: pointer;\n",
              "      display: none;\n",
              "      fill: #1967D2;\n",
              "      height: 32px;\n",
              "      padding: 0 0 0 0;\n",
              "      width: 32px;\n",
              "    }\n",
              "\n",
              "    .colab-df-convert:hover {\n",
              "      background-color: #E2EBFA;\n",
              "      box-shadow: 0px 1px 2px rgba(60, 64, 67, 0.3), 0px 1px 3px 1px rgba(60, 64, 67, 0.15);\n",
              "      fill: #174EA6;\n",
              "    }\n",
              "\n",
              "    [theme=dark] .colab-df-convert {\n",
              "      background-color: #3B4455;\n",
              "      fill: #D2E3FC;\n",
              "    }\n",
              "\n",
              "    [theme=dark] .colab-df-convert:hover {\n",
              "      background-color: #434B5C;\n",
              "      box-shadow: 0px 1px 3px 1px rgba(0, 0, 0, 0.15);\n",
              "      filter: drop-shadow(0px 1px 2px rgba(0, 0, 0, 0.3));\n",
              "      fill: #FFFFFF;\n",
              "    }\n",
              "  </style>\n",
              "\n",
              "      <script>\n",
              "        const buttonEl =\n",
              "          document.querySelector('#df-fd308842-81e5-407c-ab3a-d4e979e5cf86 button.colab-df-convert');\n",
              "        buttonEl.style.display =\n",
              "          google.colab.kernel.accessAllowed ? 'block' : 'none';\n",
              "\n",
              "        async function convertToInteractive(key) {\n",
              "          const element = document.querySelector('#df-fd308842-81e5-407c-ab3a-d4e979e5cf86');\n",
              "          const dataTable =\n",
              "            await google.colab.kernel.invokeFunction('convertToInteractive',\n",
              "                                                     [key], {});\n",
              "          if (!dataTable) return;\n",
              "\n",
              "          const docLinkHtml = 'Like what you see? Visit the ' +\n",
              "            '<a target=\"_blank\" href=https://colab.research.google.com/notebooks/data_table.ipynb>data table notebook</a>'\n",
              "            + ' to learn more about interactive tables.';\n",
              "          element.innerHTML = '';\n",
              "          dataTable['output_type'] = 'display_data';\n",
              "          await google.colab.output.renderOutput(dataTable, element);\n",
              "          const docLink = document.createElement('div');\n",
              "          docLink.innerHTML = docLinkHtml;\n",
              "          element.appendChild(docLink);\n",
              "        }\n",
              "      </script>\n",
              "    </div>\n",
              "  </div>\n",
              "  "
            ]
          },
          "metadata": {},
          "execution_count": 105
        }
      ]
    },
    {
      "cell_type": "markdown",
      "source": [
        "### State"
      ],
      "metadata": {
        "id": "pl6JpKso6EOM"
      }
    },
    {
      "cell_type": "code",
      "source": [
        ""
      ],
      "metadata": {
        "id": "wu3jPxZx6GyC"
      },
      "execution_count": 105,
      "outputs": []
    },
    {
      "cell_type": "markdown",
      "source": [
        "### Zip\n",
        "\n",
        "\n",
        "---\n",
        "\n",
        "Zip codes are stored as strings in the orginal data."
      ],
      "metadata": {
        "id": "gWcwqa636I8-"
      }
    },
    {
      "cell_type": "code",
      "source": [
        "pairs['zip_diff'] = pairs.apply(sim_metric,\n",
        "                          args=('zip_1', 'zip_2'),\n",
        "                          axis=1)"
      ],
      "metadata": {
        "id": "Nevbkao86MW-"
      },
      "execution_count": 106,
      "outputs": []
    },
    {
      "cell_type": "markdown",
      "source": [
        "### Histogram"
      ],
      "metadata": {
        "id": "KJ9Uw4Y26N0K"
      }
    },
    {
      "cell_type": "code",
      "source": [
        "## histograms\n",
        "for column in ['location_diff','name_diff','address_diff','city_diff','zip_diff']:\n",
        "    plt.figure(figsize=(14,4))\n",
        "    plt.hist(pairs.loc[(pairs.match==True)&(pairs.location_diff<1), column], color='b', label=\"True\")\n",
        "    plt.hist(pairs.loc[(pairs.match==False)&(pairs.location_diff<1), column], color='r', label=\"False\")\n",
        "    plt.legend(fontsize=14)\n",
        "    plt.title(column,fontsize=16)\n",
        "    plt.show()"
      ],
      "metadata": {
        "colab": {
          "base_uri": "https://localhost:8080/",
          "height": 1000
        },
        "id": "1QVl771m54fH",
        "outputId": "11c3f486-de40-4be2-d1ff-74e03c568a8b"
      },
      "execution_count": 107,
      "outputs": [
        {
          "output_type": "display_data",
          "data": {
            "text/plain": [
              "<Figure size 1008x288 with 1 Axes>"
            ],
            "image/png": "[encoded data removed]"
          },
          "metadata": {
            "needs_background": "light"
          }
        },
        {
          "output_type": "display_data",
          "data": {
            "text/plain": [
              "<Figure size 1008x288 with 1 Axes>"
            ],
            "image/png": "[encoded data removed]"
          },
          "metadata": {
            "needs_background": "light"
          }
        },
        {
          "output_type": "display_data",
          "data": {
            "text/plain": [
              "<Figure size 1008x288 with 1 Axes>"
            ],
            "image/png": "[encoded data removed]"
          },
          "metadata": {
            "needs_background": "light"
          }
        },
        {
          "output_type": "display_data",
          "data": {
            "text/plain": [
              "<Figure size 1008x288 with 1 Axes>"
            ],
            "image/png": "[encoded data removed]"
          },
          "metadata": {
            "needs_background": "light"
          }
        },
        {
          "output_type": "display_data",
          "data": {
            "text/plain": [
              "<Figure size 1008x288 with 1 Axes>"
            ],
            "image/png": "[encoded data removed]"
          },
          "metadata": {
            "needs_background": "light"
          }
        }
      ]
    },
    {
      "cell_type": "code",
      "source": [
        "pairs.loc[(pairs.zip_diff>=0)& (pairs.address_diff>=0) &(pairs.city_diff>=0)].describe()"
      ],
      "metadata": {
        "colab": {
          "base_uri": "https://localhost:8080/",
          "height": 300
        },
        "id": "oLuU5v8674BZ",
        "outputId": "3032b929-1495-4b91-a4ac-b0c87403d0ee"
      },
      "execution_count": 108,
      "outputs": [
        {
          "output_type": "execute_result",
          "data": {
            "text/plain": [
              "          latitude_1    longitude_1     latitude_2    longitude_2  \\\n",
              "count  146296.000000  146296.000000  146296.000000  146296.000000   \n",
              "mean       32.508102     -19.754487      32.507059     -19.749836   \n",
              "std        19.752757      86.559842      19.752648      86.555004   \n",
              "min       -54.799297    -165.408817     -54.794648    -164.436100   \n",
              "25%        30.402049     -87.476469      30.402455     -87.473680   \n",
              "50%        37.919794     -71.079899      37.912299     -71.082107   \n",
              "75%        42.879486      29.328887      42.877831      29.315263   \n",
              "max        71.169826     176.919425      71.170043     176.929571   \n",
              "\n",
              "       location_diff      name_diff   address_diff      city_diff  \\\n",
              "count  146296.000000  146296.000000  146296.000000  146296.000000   \n",
              "mean        0.112072       0.272320       0.259217       0.101759   \n",
              "std         2.783567       0.293101       0.311993       0.259665   \n",
              "min         0.000000       0.000000       0.000000       0.000000   \n",
              "25%         0.000270       0.000000       0.000000       0.000000   \n",
              "50%         0.000926       0.187500       0.103448       0.000000   \n",
              "75%         0.004111       0.483871       0.538462       0.000000   \n",
              "max       244.365184       1.000000       1.000000       1.000000   \n",
              "\n",
              "            zip_diff  \n",
              "count  146296.000000  \n",
              "mean        0.064743  \n",
              "std         0.158218  \n",
              "min         0.000000  \n",
              "25%         0.000000  \n",
              "50%         0.000000  \n",
              "75%         0.000000  \n",
              "max         1.000000  "
            ],
            "text/html": [
              "\n",
              "  <div id=\"df-0d7e7078-79d1-4820-b1a4-750199c10036\">\n",
              "    <div class=\"colab-df-container\">\n",
              "      <div>\n",
              "<style scoped>\n",
              "    .dataframe tbody tr th:only-of-type {\n",
              "        vertical-align: middle;\n",
              "    }\n",
              "\n",
              "    .dataframe tbody tr th {\n",
              "        vertical-align: top;\n",
              "    }\n",
              "\n",
              "    .dataframe thead th {\n",
              "        text-align: right;\n",
              "    }\n",
              "</style>\n",
              "<table border=\"1\" class=\"dataframe\">\n",
              "  <thead>\n",
              "    <tr style=\"text-align: right;\">\n",
              "      <th></th>\n",
              "      <th>latitude_1</th>\n",
              "      <th>longitude_1</th>\n",
              "      <th>latitude_2</th>\n",
              "      <th>longitude_2</th>\n",
              "      <th>location_diff</th>\n",
              "      <th>name_diff</th>\n",
              "      <th>address_diff</th>\n",
              "      <th>city_diff</th>\n",
              "      <th>zip_diff</th>\n",
              "    </tr>\n",
              "  </thead>\n",
              "  <tbody>\n",
              "    <tr>\n",
              "      <th>count</th>\n",
              "      <td>146296.000000</td>\n",
              "      <td>146296.000000</td>\n",
              "      <td>146296.000000</td>\n",
              "      <td>146296.000000</td>\n",
              "      <td>146296.000000</td>\n",
              "      <td>146296.000000</td>\n",
              "      <td>146296.000000</td>\n",
              "      <td>146296.000000</td>\n",
              "      <td>146296.000000</td>\n",
              "    </tr>\n",
              "    <tr>\n",
              "      <th>mean</th>\n",
              "      <td>32.508102</td>\n",
              "      <td>-19.754487</td>\n",
              "      <td>32.507059</td>\n",
              "      <td>-19.749836</td>\n",
              "      <td>0.112072</td>\n",
              "      <td>0.272320</td>\n",
              "      <td>0.259217</td>\n",
              "      <td>0.101759</td>\n",
              "      <td>0.064743</td>\n",
              "    </tr>\n",
              "    <tr>\n",
              "      <th>std</th>\n",
              "      <td>19.752757</td>\n",
              "      <td>86.559842</td>\n",
              "      <td>19.752648</td>\n",
              "      <td>86.555004</td>\n",
              "      <td>2.783567</td>\n",
              "      <td>0.293101</td>\n",
              "      <td>0.311993</td>\n",
              "      <td>0.259665</td>\n",
              "      <td>0.158218</td>\n",
              "    </tr>\n",
              "    <tr>\n",
              "      <th>min</th>\n",
              "      <td>-54.799297</td>\n",
              "      <td>-165.408817</td>\n",
              "      <td>-54.794648</td>\n",
              "      <td>-164.436100</td>\n",
              "      <td>0.000000</td>\n",
              "      <td>0.000000</td>\n",
              "      <td>0.000000</td>\n",
              "      <td>0.000000</td>\n",
              "      <td>0.000000</td>\n",
              "    </tr>\n",
              "    <tr>\n",
              "      <th>25%</th>\n",
              "      <td>30.402049</td>\n",
              "      <td>-87.476469</td>\n",
              "      <td>30.402455</td>\n",
              "      <td>-87.473680</td>\n",
              "      <td>0.000270</td>\n",
              "      <td>0.000000</td>\n",
              "      <td>0.000000</td>\n",
              "      <td>0.000000</td>\n",
              "      <td>0.000000</td>\n",
              "    </tr>\n",
              "    <tr>\n",
              "      <th>50%</th>\n",
              "      <td>37.919794</td>\n",
              "      <td>-71.079899</td>\n",
              "      <td>37.912299</td>\n",
              "      <td>-71.082107</td>\n",
              "      <td>0.000926</td>\n",
              "      <td>0.187500</td>\n",
              "      <td>0.103448</td>\n",
              "      <td>0.000000</td>\n",
              "      <td>0.000000</td>\n",
              "    </tr>\n",
              "    <tr>\n",
              "      <th>75%</th>\n",
              "      <td>42.879486</td>\n",
              "      <td>29.328887</td>\n",
              "      <td>42.877831</td>\n",
              "      <td>29.315263</td>\n",
              "      <td>0.004111</td>\n",
              "      <td>0.483871</td>\n",
              "      <td>0.538462</td>\n",
              "      <td>0.000000</td>\n",
              "      <td>0.000000</td>\n",
              "    </tr>\n",
              "    <tr>\n",
              "      <th>max</th>\n",
              "      <td>71.169826</td>\n",
              "      <td>176.919425</td>\n",
              "      <td>71.170043</td>\n",
              "      <td>176.929571</td>\n",
              "      <td>244.365184</td>\n",
              "      <td>1.000000</td>\n",
              "      <td>1.000000</td>\n",
              "      <td>1.000000</td>\n",
              "      <td>1.000000</td>\n",
              "    </tr>\n",
              "  </tbody>\n",
              "</table>\n",
              "</div>\n",
              "      <button class=\"colab-df-convert\" onclick=\"convertToInteractive('df-0d7e7078-79d1-4820-b1a4-750199c10036')\"\n",
              "              title=\"Convert this dataframe to an interactive table.\"\n",
              "              style=\"display:none;\">\n",
              "        \n",
              "  <svg xmlns=\"http://www.w3.org/2000/svg\" height=\"24px\"viewBox=\"0 0 24 24\"\n",
              "       width=\"24px\">\n",
              "    <path d=\"M0 0h24v24H0V0z\" fill=\"none\"/>\n",
              "    <path d=\"M18.56 5.44l.94 2.06.94-2.06 2.06-.94-2.06-.94-.94-2.06-.94 2.06-2.06.94zm-11 1L8.5 8.5l.94-2.06 2.06-.94-2.06-.94L8.5 2.5l-.94 2.06-2.06.94zm10 10l.94 2.06.94-2.06 2.06-.94-2.06-.94-.94-2.06-.94 2.06-2.06.94z\"/><path d=\"M17.41 7.96l-1.37-1.37c-.4-.4-.92-.59-1.43-.59-.52 0-1.04.2-1.43.59L10.3 9.45l-7.72 7.72c-.78.78-.78 2.05 0 2.83L4 21.41c.39.39.9.59 1.41.59.51 0 1.02-.2 1.41-.59l7.78-7.78 2.81-2.81c.8-.78.8-2.07 0-2.86zM5.41 20L4 18.59l7.72-7.72 1.47 1.35L5.41 20z\"/>\n",
              "  </svg>\n",
              "      </button>\n",
              "      \n",
              "  <style>\n",
              "    .colab-df-container {\n",
              "      display:flex;\n",
              "      flex-wrap:wrap;\n",
              "      gap: 12px;\n",
              "    }\n",
              "\n",
              "    .colab-df-convert {\n",
              "      background-color: #E8F0FE;\n",
              "      border: none;\n",
              "      border-radius: 50%;\n",
              "      cursor: pointer;\n",
              "      display: none;\n",
              "      fill: #1967D2;\n",
              "      height: 32px;\n",
              "      padding: 0 0 0 0;\n",
              "      width: 32px;\n",
              "    }\n",
              "\n",
              "    .colab-df-convert:hover {\n",
              "      background-color: #E2EBFA;\n",
              "      box-shadow: 0px 1px 2px rgba(60, 64, 67, 0.3), 0px 1px 3px 1px rgba(60, 64, 67, 0.15);\n",
              "      fill: #174EA6;\n",
              "    }\n",
              "\n",
              "    [theme=dark] .colab-df-convert {\n",
              "      background-color: #3B4455;\n",
              "      fill: #D2E3FC;\n",
              "    }\n",
              "\n",
              "    [theme=dark] .colab-df-convert:hover {\n",
              "      background-color: #434B5C;\n",
              "      box-shadow: 0px 1px 3px 1px rgba(0, 0, 0, 0.15);\n",
              "      filter: drop-shadow(0px 1px 2px rgba(0, 0, 0, 0.3));\n",
              "      fill: #FFFFFF;\n",
              "    }\n",
              "  </style>\n",
              "\n",
              "      <script>\n",
              "        const buttonEl =\n",
              "          document.querySelector('#df-0d7e7078-79d1-4820-b1a4-750199c10036 button.colab-df-convert');\n",
              "        buttonEl.style.display =\n",
              "          google.colab.kernel.accessAllowed ? 'block' : 'none';\n",
              "\n",
              "        async function convertToInteractive(key) {\n",
              "          const element = document.querySelector('#df-0d7e7078-79d1-4820-b1a4-750199c10036');\n",
              "          const dataTable =\n",
              "            await google.colab.kernel.invokeFunction('convertToInteractive',\n",
              "                                                     [key], {});\n",
              "          if (!dataTable) return;\n",
              "\n",
              "          const docLinkHtml = 'Like what you see? Visit the ' +\n",
              "            '<a target=\"_blank\" href=https://colab.research.google.com/notebooks/data_table.ipynb>data table notebook</a>'\n",
              "            + ' to learn more about interactive tables.';\n",
              "          element.innerHTML = '';\n",
              "          dataTable['output_type'] = 'display_data';\n",
              "          await google.colab.output.renderOutput(dataTable, element);\n",
              "          const docLink = document.createElement('div');\n",
              "          docLink.innerHTML = docLinkHtml;\n",
              "          element.appendChild(docLink);\n",
              "        }\n",
              "      </script>\n",
              "    </div>\n",
              "  </div>\n",
              "  "
            ]
          },
          "metadata": {},
          "execution_count": 108
        }
      ]
    },
    {
      "cell_type": "code",
      "source": [
        "pairs.head()"
      ],
      "metadata": {
        "colab": {
          "base_uri": "https://localhost:8080/",
          "height": 508
        },
        "id": "CfB5lzmp8GYg",
        "outputId": "79c49709-4cef-4b66-dad4-246898e511b8"
      },
      "execution_count": 130,
      "outputs": [
        {
          "output_type": "execute_result",
          "data": {
            "text/plain": [
              "               id_1                name_1  latitude_1  longitude_1  \\\n",
              "0  E_000001272c6c5d  Café Stad Oudenaarde   50.859975     3.634196   \n",
              "1  E_000008a8ba4f48              Turkcell   37.844510    27.844202   \n",
              "2  E_000023d8f4be44            Island Spa   14.518970   121.018702   \n",
              "3  E_00007dcd2bb53f     TOGO'S Sandwiches   38.257797  -122.064599   \n",
              "4  E_0000c362229d93            Coffee Cat    7.082218   125.610244   \n",
              "\n",
              "                                     address_1      city_1          state_1  \\\n",
              "0                                  Abdijstraat  Nederename  Oost-Vlaanderen   \n",
              "1                       Adnan Menderes Bulvarı         NaN              NaN   \n",
              "2  5th Flr, Newport Mall, Resorts World Manila  Pasay City     Metro Manila   \n",
              "3                     1380 Holiday Ln., Ste. B   Fairfield               CA   \n",
              "4                                F. Torres St.  Davao City     Davao Region   \n",
              "\n",
              "   zip_1 country_1                                              url_1  ...  \\\n",
              "0   9700        BE                                                NaN  ...   \n",
              "1    NaN        TR                                                NaN  ...   \n",
              "2    NaN        PH                                                NaN  ...   \n",
              "3  94534        US  https://locations.togos.com/ll/US/CA/Fairfield...  ...   \n",
              "4   8000        PH                                                NaN  ...   \n",
              "\n",
              "  country_2 url_2 phone_2                        categories_2  match  \\\n",
              "0        BE   NaN     NaN                                Bars   True   \n",
              "1        TR   NaN     NaN                  Electronics Stores  False   \n",
              "2        PH   NaN     NaN                                Spas   True   \n",
              "3        US   NaN     NaN                     Sandwich Places   True   \n",
              "4        PH   NaN     NaN  Coffee Shops, Cafés, Dessert Shops  False   \n",
              "\n",
              "   location_diff name_diff address_diff city_diff zip_diff  \n",
              "0       0.009383     0.125    -1.000000      -1.0     -1.0  \n",
              "1       0.006490     0.000     0.793103      -1.0     -1.0  \n",
              "2       0.001126     0.280    -1.000000      -1.0     -1.0  \n",
              "3       0.000141     0.500    -1.000000       0.0     -1.0  \n",
              "4       0.006202     0.000     0.655172       0.0      0.0  \n",
              "\n",
              "[5 rows x 30 columns]"
            ],
            "text/html": [
              "\n",
              "  <div id=\"df-b532cbf9-ce48-48b9-ad75-a2516ad2b85f\">\n",
              "    <div class=\"colab-df-container\">\n",
              "      <div>\n",
              "<style scoped>\n",
              "    .dataframe tbody tr th:only-of-type {\n",
              "        vertical-align: middle;\n",
              "    }\n",
              "\n",
              "    .dataframe tbody tr th {\n",
              "        vertical-align: top;\n",
              "    }\n",
              "\n",
              "    .dataframe thead th {\n",
              "        text-align: right;\n",
              "    }\n",
              "</style>\n",
              "<table border=\"1\" class=\"dataframe\">\n",
              "  <thead>\n",
              "    <tr style=\"text-align: right;\">\n",
              "      <th></th>\n",
              "      <th>id_1</th>\n",
              "      <th>name_1</th>\n",
              "      <th>latitude_1</th>\n",
              "      <th>longitude_1</th>\n",
              "      <th>address_1</th>\n",
              "      <th>city_1</th>\n",
              "      <th>state_1</th>\n",
              "      <th>zip_1</th>\n",
              "      <th>country_1</th>\n",
              "      <th>url_1</th>\n",
              "      <th>...</th>\n",
              "      <th>country_2</th>\n",
              "      <th>url_2</th>\n",
              "      <th>phone_2</th>\n",
              "      <th>categories_2</th>\n",
              "      <th>match</th>\n",
              "      <th>location_diff</th>\n",
              "      <th>name_diff</th>\n",
              "      <th>address_diff</th>\n",
              "      <th>city_diff</th>\n",
              "      <th>zip_diff</th>\n",
              "    </tr>\n",
              "  </thead>\n",
              "  <tbody>\n",
              "    <tr>\n",
              "      <th>0</th>\n",
              "      <td>E_000001272c6c5d</td>\n",
              "      <td>Café Stad Oudenaarde</td>\n",
              "      <td>50.859975</td>\n",
              "      <td>3.634196</td>\n",
              "      <td>Abdijstraat</td>\n",
              "      <td>Nederename</td>\n",
              "      <td>Oost-Vlaanderen</td>\n",
              "      <td>9700</td>\n",
              "      <td>BE</td>\n",
              "      <td>NaN</td>\n",
              "      <td>...</td>\n",
              "      <td>BE</td>\n",
              "      <td>NaN</td>\n",
              "      <td>NaN</td>\n",
              "      <td>Bars</td>\n",
              "      <td>True</td>\n",
              "      <td>0.009383</td>\n",
              "      <td>0.125</td>\n",
              "      <td>-1.000000</td>\n",
              "      <td>-1.0</td>\n",
              "      <td>-1.0</td>\n",
              "    </tr>\n",
              "    <tr>\n",
              "      <th>1</th>\n",
              "      <td>E_000008a8ba4f48</td>\n",
              "      <td>Turkcell</td>\n",
              "      <td>37.844510</td>\n",
              "      <td>27.844202</td>\n",
              "      <td>Adnan Menderes Bulvarı</td>\n",
              "      <td>NaN</td>\n",
              "      <td>NaN</td>\n",
              "      <td>NaN</td>\n",
              "      <td>TR</td>\n",
              "      <td>NaN</td>\n",
              "      <td>...</td>\n",
              "      <td>TR</td>\n",
              "      <td>NaN</td>\n",
              "      <td>NaN</td>\n",
              "      <td>Electronics Stores</td>\n",
              "      <td>False</td>\n",
              "      <td>0.006490</td>\n",
              "      <td>0.000</td>\n",
              "      <td>0.793103</td>\n",
              "      <td>-1.0</td>\n",
              "      <td>-1.0</td>\n",
              "    </tr>\n",
              "    <tr>\n",
              "      <th>2</th>\n",
              "      <td>E_000023d8f4be44</td>\n",
              "      <td>Island Spa</td>\n",
              "      <td>14.518970</td>\n",
              "      <td>121.018702</td>\n",
              "      <td>5th Flr, Newport Mall, Resorts World Manila</td>\n",
              "      <td>Pasay City</td>\n",
              "      <td>Metro Manila</td>\n",
              "      <td>NaN</td>\n",
              "      <td>PH</td>\n",
              "      <td>NaN</td>\n",
              "      <td>...</td>\n",
              "      <td>PH</td>\n",
              "      <td>NaN</td>\n",
              "      <td>NaN</td>\n",
              "      <td>Spas</td>\n",
              "      <td>True</td>\n",
              "      <td>0.001126</td>\n",
              "      <td>0.280</td>\n",
              "      <td>-1.000000</td>\n",
              "      <td>-1.0</td>\n",
              "      <td>-1.0</td>\n",
              "    </tr>\n",
              "    <tr>\n",
              "      <th>3</th>\n",
              "      <td>E_00007dcd2bb53f</td>\n",
              "      <td>TOGO'S Sandwiches</td>\n",
              "      <td>38.257797</td>\n",
              "      <td>-122.064599</td>\n",
              "      <td>1380 Holiday Ln., Ste. B</td>\n",
              "      <td>Fairfield</td>\n",
              "      <td>CA</td>\n",
              "      <td>94534</td>\n",
              "      <td>US</td>\n",
              "      <td>https://locations.togos.com/ll/US/CA/Fairfield...</td>\n",
              "      <td>...</td>\n",
              "      <td>US</td>\n",
              "      <td>NaN</td>\n",
              "      <td>NaN</td>\n",
              "      <td>Sandwich Places</td>\n",
              "      <td>True</td>\n",
              "      <td>0.000141</td>\n",
              "      <td>0.500</td>\n",
              "      <td>-1.000000</td>\n",
              "      <td>0.0</td>\n",
              "      <td>-1.0</td>\n",
              "    </tr>\n",
              "    <tr>\n",
              "      <th>4</th>\n",
              "      <td>E_0000c362229d93</td>\n",
              "      <td>Coffee Cat</td>\n",
              "      <td>7.082218</td>\n",
              "      <td>125.610244</td>\n",
              "      <td>F. Torres St.</td>\n",
              "      <td>Davao City</td>\n",
              "      <td>Davao Region</td>\n",
              "      <td>8000</td>\n",
              "      <td>PH</td>\n",
              "      <td>NaN</td>\n",
              "      <td>...</td>\n",
              "      <td>PH</td>\n",
              "      <td>NaN</td>\n",
              "      <td>NaN</td>\n",
              "      <td>Coffee Shops, Cafés, Dessert Shops</td>\n",
              "      <td>False</td>\n",
              "      <td>0.006202</td>\n",
              "      <td>0.000</td>\n",
              "      <td>0.655172</td>\n",
              "      <td>0.0</td>\n",
              "      <td>0.0</td>\n",
              "    </tr>\n",
              "  </tbody>\n",
              "</table>\n",
              "<p>5 rows × 30 columns</p>\n",
              "</div>\n",
              "      <button class=\"colab-df-convert\" onclick=\"convertToInteractive('df-b532cbf9-ce48-48b9-ad75-a2516ad2b85f')\"\n",
              "              title=\"Convert this dataframe to an interactive table.\"\n",
              "              style=\"display:none;\">\n",
              "        \n",
              "  <svg xmlns=\"http://www.w3.org/2000/svg\" height=\"24px\"viewBox=\"0 0 24 24\"\n",
              "       width=\"24px\">\n",
              "    <path d=\"M0 0h24v24H0V0z\" fill=\"none\"/>\n",
              "    <path d=\"M18.56 5.44l.94 2.06.94-2.06 2.06-.94-2.06-.94-.94-2.06-.94 2.06-2.06.94zm-11 1L8.5 8.5l.94-2.06 2.06-.94-2.06-.94L8.5 2.5l-.94 2.06-2.06.94zm10 10l.94 2.06.94-2.06 2.06-.94-2.06-.94-.94-2.06-.94 2.06-2.06.94z\"/><path d=\"M17.41 7.96l-1.37-1.37c-.4-.4-.92-.59-1.43-.59-.52 0-1.04.2-1.43.59L10.3 9.45l-7.72 7.72c-.78.78-.78 2.05 0 2.83L4 21.41c.39.39.9.59 1.41.59.51 0 1.02-.2 1.41-.59l7.78-7.78 2.81-2.81c.8-.78.8-2.07 0-2.86zM5.41 20L4 18.59l7.72-7.72 1.47 1.35L5.41 20z\"/>\n",
              "  </svg>\n",
              "      </button>\n",
              "      \n",
              "  <style>\n",
              "    .colab-df-container {\n",
              "      display:flex;\n",
              "      flex-wrap:wrap;\n",
              "      gap: 12px;\n",
              "    }\n",
              "\n",
              "    .colab-df-convert {\n",
              "      background-color: #E8F0FE;\n",
              "      border: none;\n",
              "      border-radius: 50%;\n",
              "      cursor: pointer;\n",
              "      display: none;\n",
              "      fill: #1967D2;\n",
              "      height: 32px;\n",
              "      padding: 0 0 0 0;\n",
              "      width: 32px;\n",
              "    }\n",
              "\n",
              "    .colab-df-convert:hover {\n",
              "      background-color: #E2EBFA;\n",
              "      box-shadow: 0px 1px 2px rgba(60, 64, 67, 0.3), 0px 1px 3px 1px rgba(60, 64, 67, 0.15);\n",
              "      fill: #174EA6;\n",
              "    }\n",
              "\n",
              "    [theme=dark] .colab-df-convert {\n",
              "      background-color: #3B4455;\n",
              "      fill: #D2E3FC;\n",
              "    }\n",
              "\n",
              "    [theme=dark] .colab-df-convert:hover {\n",
              "      background-color: #434B5C;\n",
              "      box-shadow: 0px 1px 3px 1px rgba(0, 0, 0, 0.15);\n",
              "      filter: drop-shadow(0px 1px 2px rgba(0, 0, 0, 0.3));\n",
              "      fill: #FFFFFF;\n",
              "    }\n",
              "  </style>\n",
              "\n",
              "      <script>\n",
              "        const buttonEl =\n",
              "          document.querySelector('#df-b532cbf9-ce48-48b9-ad75-a2516ad2b85f button.colab-df-convert');\n",
              "        buttonEl.style.display =\n",
              "          google.colab.kernel.accessAllowed ? 'block' : 'none';\n",
              "\n",
              "        async function convertToInteractive(key) {\n",
              "          const element = document.querySelector('#df-b532cbf9-ce48-48b9-ad75-a2516ad2b85f');\n",
              "          const dataTable =\n",
              "            await google.colab.kernel.invokeFunction('convertToInteractive',\n",
              "                                                     [key], {});\n",
              "          if (!dataTable) return;\n",
              "\n",
              "          const docLinkHtml = 'Like what you see? Visit the ' +\n",
              "            '<a target=\"_blank\" href=https://colab.research.google.com/notebooks/data_table.ipynb>data table notebook</a>'\n",
              "            + ' to learn more about interactive tables.';\n",
              "          element.innerHTML = '';\n",
              "          dataTable['output_type'] = 'display_data';\n",
              "          await google.colab.output.renderOutput(dataTable, element);\n",
              "          const docLink = document.createElement('div');\n",
              "          docLink.innerHTML = docLinkHtml;\n",
              "          element.appendChild(docLink);\n",
              "        }\n",
              "      </script>\n",
              "    </div>\n",
              "  </div>\n",
              "  "
            ]
          },
          "metadata": {},
          "execution_count": 130
        }
      ]
    },
    {
      "cell_type": "markdown",
      "source": [
        "# PCA"
      ],
      "metadata": {
        "id": "uM6TxTDoMTn8"
      }
    },
    {
      "cell_type": "code",
      "source": [
        "from sklearn.preprocessing import StandardScaler\n",
        "from sklearn.pipeline import Pipeline\n",
        "from sklearn.decomposition import PCA"
      ],
      "metadata": {
        "id": "O_l9wzHOMaLM"
      },
      "execution_count": 109,
      "outputs": []
    },
    {
      "cell_type": "code",
      "source": [
        "## Make a pipeline for your PCA\n",
        "pipe = Pipeline([('scale', StandardScaler()),\n",
        "                    ('pca', PCA(2))])\n",
        "\n",
        "feature_col = ['location_diff','name_diff']\n",
        "#['location_diff','name_diff','address_diff', 'city_diff',\t'zip_diff']\n",
        "\n",
        "pairs_sample = pairs.loc[pairs.location_diff<1]\n",
        "X_train = pairs_sample[feature_col]\n",
        "\n",
        "pipe.fit(X_train.values)\n",
        "\n",
        "fit = pipe.transform(X_train.values)"
      ],
      "metadata": {
        "id": "NCNT8kExMbIy"
      },
      "execution_count": 116,
      "outputs": []
    },
    {
      "cell_type": "code",
      "source": [
        "y_train = pairs_sample['match']\n",
        "\n",
        "plt.figure(figsize=(8,8))\n",
        "\n",
        "plt.scatter(fit[y_train==0, 0],\n",
        "               fit[y_train==0, 1],\n",
        "               c = 'b',\n",
        "               alpha = .6,\n",
        "               label='Benign')\n",
        "\n",
        "plt.scatter(fit[y_train==1, 0],\n",
        "               fit[y_train==1, 1],\n",
        "               c = 'orange',\n",
        "               marker = 'v',\n",
        "               alpha = .6,\n",
        "               label='Malignant')\n",
        "\n",
        "plt.legend(fontsize=14)\n",
        "\n",
        "plt.xlabel(\"First PCA Value\", fontsize=16)\n",
        "plt.ylabel(\"Second PCA Value\", fontsize=16)\n",
        "\n",
        "plt.show()"
      ],
      "metadata": {
        "colab": {
          "base_uri": "https://localhost:8080/",
          "height": 502
        },
        "id": "gwrvawh-M1B7",
        "outputId": "3818bfbe-cefb-4795-8f2c-3ce16544fc50"
      },
      "execution_count": 117,
      "outputs": [
        {
          "output_type": "display_data",
          "data": {
            "text/plain": [
              "<Figure size 576x576 with 1 Axes>"
            ],
            "image/png": "[encoded data removed]"
          },
          "metadata": {
            "needs_background": "light"
          }
        }
      ]
    },
    {
      "cell_type": "markdown",
      "source": [
        "# Plotting latitude and longitude\n",
        "\n",
        "\n",
        "---\n",
        "\n"
      ],
      "metadata": {
        "id": "QD9d-ndTZ6_m"
      }
    },
    {
      "cell_type": "code",
      "source": [
        "latitude_all = train.latitude.values\n",
        "longitude_all = train.longitude.values"
      ],
      "metadata": {
        "id": "x4Jd03IKDWA3"
      },
      "execution_count": null,
      "outputs": []
    },
    {
      "cell_type": "code",
      "source": [
        "plt.scatter(latitude_all, longitude_all)\n",
        "plt.xlabel('Latitude')\n",
        "plt.ylabel('Longitude')\n",
        "plt.show()"
      ],
      "metadata": {
        "colab": {
          "base_uri": "https://localhost:8080/",
          "height": 279
        },
        "id": "mo9LD8_PSYaZ",
        "outputId": "a6a5c44d-7083-4daa-c6b8-9279894ae387"
      },
      "execution_count": null,
      "outputs": [
        {
          "output_type": "display_data",
          "data": {
            "text/plain": [
              "<Figure size 432x288 with 1 Axes>"
            ],
            "image/png": "[encoded data removed]"
          },
          "metadata": {
            "needs_background": "light"
          }
        }
      ]
    },
    {
      "cell_type": "code",
      "source": [
        "pairs.iloc[4]"
      ],
      "metadata": {
        "colab": {
          "base_uri": "https://localhost:8080/"
        },
        "id": "jjOHOtQ6alTL",
        "outputId": "85f46042-0c97-434e-c43f-3225d9a3d1f9"
      },
      "execution_count": null,
      "outputs": [
        {
          "output_type": "execute_result",
          "data": {
            "text/plain": [
              "id_1                              E_0000c362229d93\n",
              "name_1                                  Coffee Cat\n",
              "latitude_1                                7.082218\n",
              "longitude_1                             125.610244\n",
              "address_1                            F. Torres St.\n",
              "city_1                                  Davao City\n",
              "state_1                               Davao Region\n",
              "zip_1                                         8000\n",
              "country_1                                       PH\n",
              "url_1                                          NaN\n",
              "phone_1                                        NaN\n",
              "categories_1                   Cafés, Coffee Shops\n",
              "id_2                              E_d52c3c4d53831c\n",
              "name_2                                   Coffeecat\n",
              "latitude_2                                7.076016\n",
              "longitude_2                             125.611457\n",
              "address_2                     E. Jacinto Extension\n",
              "city_2                                  Davao City\n",
              "state_2                               Davao Region\n",
              "zip_2                                         8000\n",
              "country_2                                       PH\n",
              "url_2                                          NaN\n",
              "phone_2                                        NaN\n",
              "categories_2    Coffee Shops, Cafés, Dessert Shops\n",
              "match                                        False\n",
              "Name: 4, dtype: object"
            ]
          },
          "metadata": {},
          "execution_count": 51
        }
      ]
    },
    {
      "cell_type": "markdown",
      "source": [
        "# Submission\n",
        "\n",
        "---\n"
      ],
      "metadata": {
        "id": "RvQexhJCVd_x"
      }
    },
    {
      "cell_type": "code",
      "source": [
        "submission = pd.read_csv('/content/drive/MyDrive/Summer 2022/foursquare-location-matching/sample_submission.csv')"
      ],
      "metadata": {
        "id": "zf5Lh0--cc_z"
      },
      "execution_count": null,
      "outputs": []
    },
    {
      "cell_type": "code",
      "source": [
        "submission"
      ],
      "metadata": {
        "colab": {
          "base_uri": "https://localhost:8080/",
          "height": 206
        },
        "id": "kEBhDcC2VkU0",
        "outputId": "a295a6ca-6335-48e9-f6e9-56c8783a3fc8"
      },
      "execution_count": null,
      "outputs": [
        {
          "output_type": "execute_result",
          "data": {
            "text/plain": [
              "                 id                            matches\n",
              "0  E_00001118ad0191                   E_00001118ad0191\n",
              "1  E_000020eb6fed40                   E_000020eb6fed40\n",
              "2  E_00002f98667edf                   E_00002f98667edf\n",
              "3  E_001b6bad66eb98  E_001b6bad66eb98 E_0283d9f61e569d\n",
              "4  E_0283d9f61e569d  E_0283d9f61e569d E_001b6bad66eb98"
            ],
            "text/html": [
              "\n",
              "  <div id=\"df-2ee22b96-5db1-434b-8af5-36c257c93052\">\n",
              "    <div class=\"colab-df-container\">\n",
              "      <div>\n",
              "<style scoped>\n",
              "    .dataframe tbody tr th:only-of-type {\n",
              "        vertical-align: middle;\n",
              "    }\n",
              "\n",
              "    .dataframe tbody tr th {\n",
              "        vertical-align: top;\n",
              "    }\n",
              "\n",
              "    .dataframe thead th {\n",
              "        text-align: right;\n",
              "    }\n",
              "</style>\n",
              "<table border=\"1\" class=\"dataframe\">\n",
              "  <thead>\n",
              "    <tr style=\"text-align: right;\">\n",
              "      <th></th>\n",
              "      <th>id</th>\n",
              "      <th>matches</th>\n",
              "    </tr>\n",
              "  </thead>\n",
              "  <tbody>\n",
              "    <tr>\n",
              "      <th>0</th>\n",
              "      <td>E_00001118ad0191</td>\n",
              "      <td>E_00001118ad0191</td>\n",
              "    </tr>\n",
              "    <tr>\n",
              "      <th>1</th>\n",
              "      <td>E_000020eb6fed40</td>\n",
              "      <td>E_000020eb6fed40</td>\n",
              "    </tr>\n",
              "    <tr>\n",
              "      <th>2</th>\n",
              "      <td>E_00002f98667edf</td>\n",
              "      <td>E_00002f98667edf</td>\n",
              "    </tr>\n",
              "    <tr>\n",
              "      <th>3</th>\n",
              "      <td>E_001b6bad66eb98</td>\n",
              "      <td>E_001b6bad66eb98 E_0283d9f61e569d</td>\n",
              "    </tr>\n",
              "    <tr>\n",
              "      <th>4</th>\n",
              "      <td>E_0283d9f61e569d</td>\n",
              "      <td>E_0283d9f61e569d E_001b6bad66eb98</td>\n",
              "    </tr>\n",
              "  </tbody>\n",
              "</table>\n",
              "</div>\n",
              "      <button class=\"colab-df-convert\" onclick=\"convertToInteractive('df-2ee22b96-5db1-434b-8af5-36c257c93052')\"\n",
              "              title=\"Convert this dataframe to an interactive table.\"\n",
              "              style=\"display:none;\">\n",
              "        \n",
              "  <svg xmlns=\"http://www.w3.org/2000/svg\" height=\"24px\"viewBox=\"0 0 24 24\"\n",
              "       width=\"24px\">\n",
              "    <path d=\"M0 0h24v24H0V0z\" fill=\"none\"/>\n",
              "    <path d=\"M18.56 5.44l.94 2.06.94-2.06 2.06-.94-2.06-.94-.94-2.06-.94 2.06-2.06.94zm-11 1L8.5 8.5l.94-2.06 2.06-.94-2.06-.94L8.5 2.5l-.94 2.06-2.06.94zm10 10l.94 2.06.94-2.06 2.06-.94-2.06-.94-.94-2.06-.94 2.06-2.06.94z\"/><path d=\"M17.41 7.96l-1.37-1.37c-.4-.4-.92-.59-1.43-.59-.52 0-1.04.2-1.43.59L10.3 9.45l-7.72 7.72c-.78.78-.78 2.05 0 2.83L4 21.41c.39.39.9.59 1.41.59.51 0 1.02-.2 1.41-.59l7.78-7.78 2.81-2.81c.8-.78.8-2.07 0-2.86zM5.41 20L4 18.59l7.72-7.72 1.47 1.35L5.41 20z\"/>\n",
              "  </svg>\n",
              "      </button>\n",
              "      \n",
              "  <style>\n",
              "    .colab-df-container {\n",
              "      display:flex;\n",
              "      flex-wrap:wrap;\n",
              "      gap: 12px;\n",
              "    }\n",
              "\n",
              "    .colab-df-convert {\n",
              "      background-color: #E8F0FE;\n",
              "      border: none;\n",
              "      border-radius: 50%;\n",
              "      cursor: pointer;\n",
              "      display: none;\n",
              "      fill: #1967D2;\n",
              "      height: 32px;\n",
              "      padding: 0 0 0 0;\n",
              "      width: 32px;\n",
              "    }\n",
              "\n",
              "    .colab-df-convert:hover {\n",
              "      background-color: #E2EBFA;\n",
              "      box-shadow: 0px 1px 2px rgba(60, 64, 67, 0.3), 0px 1px 3px 1px rgba(60, 64, 67, 0.15);\n",
              "      fill: #174EA6;\n",
              "    }\n",
              "\n",
              "    [theme=dark] .colab-df-convert {\n",
              "      background-color: #3B4455;\n",
              "      fill: #D2E3FC;\n",
              "    }\n",
              "\n",
              "    [theme=dark] .colab-df-convert:hover {\n",
              "      background-color: #434B5C;\n",
              "      box-shadow: 0px 1px 3px 1px rgba(0, 0, 0, 0.15);\n",
              "      filter: drop-shadow(0px 1px 2px rgba(0, 0, 0, 0.3));\n",
              "      fill: #FFFFFF;\n",
              "    }\n",
              "  </style>\n",
              "\n",
              "      <script>\n",
              "        const buttonEl =\n",
              "          document.querySelector('#df-2ee22b96-5db1-434b-8af5-36c257c93052 button.colab-df-convert');\n",
              "        buttonEl.style.display =\n",
              "          google.colab.kernel.accessAllowed ? 'block' : 'none';\n",
              "\n",
              "        async function convertToInteractive(key) {\n",
              "          const element = document.querySelector('#df-2ee22b96-5db1-434b-8af5-36c257c93052');\n",
              "          const dataTable =\n",
              "            await google.colab.kernel.invokeFunction('convertToInteractive',\n",
              "                                                     [key], {});\n",
              "          if (!dataTable) return;\n",
              "\n",
              "          const docLinkHtml = 'Like what you see? Visit the ' +\n",
              "            '<a target=\"_blank\" href=https://colab.research.google.com/notebooks/data_table.ipynb>data table notebook</a>'\n",
              "            + ' to learn more about interactive tables.';\n",
              "          element.innerHTML = '';\n",
              "          dataTable['output_type'] = 'display_data';\n",
              "          await google.colab.output.renderOutput(dataTable, element);\n",
              "          const docLink = document.createElement('div');\n",
              "          docLink.innerHTML = docLinkHtml;\n",
              "          element.appendChild(docLink);\n",
              "        }\n",
              "      </script>\n",
              "    </div>\n",
              "  </div>\n",
              "  "
            ]
          },
          "metadata": {},
          "execution_count": 20
        }
      ]
    },
    {
      "cell_type": "code",
      "source": [
        "set(test.id).intersection(set(train.id))"
      ],
      "metadata": {
        "colab": {
          "base_uri": "https://localhost:8080/"
        },
        "id": "EfPTR_lIVqq1",
        "outputId": "8a5a88f2-4716-495d-c25e-01cbb4a0a63f"
      },
      "execution_count": null,
      "outputs": [
        {
          "output_type": "execute_result",
          "data": {
            "text/plain": [
              "{'E_001b6bad66eb98', 'E_0283d9f61e569d'}"
            ]
          },
          "metadata": {},
          "execution_count": 21
        }
      ]
    },
    {
      "cell_type": "code",
      "source": [
        "df = train.loc[train.id==test.id[3]]\n",
        "df.append(train.loc[train.id==test.id[4]])"
      ],
      "metadata": {
        "colab": {
          "base_uri": "https://localhost:8080/",
          "height": 112
        },
        "id": "dwCoM8pJWTf1",
        "outputId": "0be212c3-da7c-4424-ebe7-b488142ddccd"
      },
      "execution_count": null,
      "outputs": [
        {
          "output_type": "execute_result",
          "data": {
            "text/plain": [
              "                     id                    name   latitude   longitude  \\\n",
              "434    E_001b6bad66eb98  Foreword Communicatons   1.302216  103.861456   \n",
              "11033  E_0283d9f61e569d           風雲児 (Fu-unji)  35.687101  139.696684   \n",
              "\n",
              "         address city state       zip country                     url  \\\n",
              "434          NaN  NaN   NaN       NaN      SG                     NaN   \n",
              "11033  代々木2-14-3  渋谷区   東京都  151-0053      JP  http://www.fu-unji.com   \n",
              "\n",
              "            phone         categories point_of_interest  \n",
              "434           NaN                NaN  P_540b73568b0d3c  \n",
              "11033  0364138480  Ramen Restaurants  P_fe5531aa3acd9d  "
            ],
            "text/html": [
              "\n",
              "  <div id=\"df-64794db7-dce0-4081-bba9-4042aad5d3d1\">\n",
              "    <div class=\"colab-df-container\">\n",
              "      <div>\n",
              "<style scoped>\n",
              "    .dataframe tbody tr th:only-of-type {\n",
              "        vertical-align: middle;\n",
              "    }\n",
              "\n",
              "    .dataframe tbody tr th {\n",
              "        vertical-align: top;\n",
              "    }\n",
              "\n",
              "    .dataframe thead th {\n",
              "        text-align: right;\n",
              "    }\n",
              "</style>\n",
              "<table border=\"1\" class=\"dataframe\">\n",
              "  <thead>\n",
              "    <tr style=\"text-align: right;\">\n",
              "      <th></th>\n",
              "      <th>id</th>\n",
              "      <th>name</th>\n",
              "      <th>latitude</th>\n",
              "      <th>longitude</th>\n",
              "      <th>address</th>\n",
              "      <th>city</th>\n",
              "      <th>state</th>\n",
              "      <th>zip</th>\n",
              "      <th>country</th>\n",
              "      <th>url</th>\n",
              "      <th>phone</th>\n",
              "      <th>categories</th>\n",
              "      <th>point_of_interest</th>\n",
              "    </tr>\n",
              "  </thead>\n",
              "  <tbody>\n",
              "    <tr>\n",
              "      <th>434</th>\n",
              "      <td>E_001b6bad66eb98</td>\n",
              "      <td>Foreword Communicatons</td>\n",
              "      <td>1.302216</td>\n",
              "      <td>103.861456</td>\n",
              "      <td>NaN</td>\n",
              "      <td>NaN</td>\n",
              "      <td>NaN</td>\n",
              "      <td>NaN</td>\n",
              "      <td>SG</td>\n",
              "      <td>NaN</td>\n",
              "      <td>NaN</td>\n",
              "      <td>NaN</td>\n",
              "      <td>P_540b73568b0d3c</td>\n",
              "    </tr>\n",
              "    <tr>\n",
              "      <th>11033</th>\n",
              "      <td>E_0283d9f61e569d</td>\n",
              "      <td>風雲児 (Fu-unji)</td>\n",
              "      <td>35.687101</td>\n",
              "      <td>139.696684</td>\n",
              "      <td>代々木2-14-3</td>\n",
              "      <td>渋谷区</td>\n",
              "      <td>東京都</td>\n",
              "      <td>151-0053</td>\n",
              "      <td>JP</td>\n",
              "      <td>http://www.fu-unji.com</td>\n",
              "      <td>0364138480</td>\n",
              "      <td>Ramen Restaurants</td>\n",
              "      <td>P_fe5531aa3acd9d</td>\n",
              "    </tr>\n",
              "  </tbody>\n",
              "</table>\n",
              "</div>\n",
              "      <button class=\"colab-df-convert\" onclick=\"convertToInteractive('df-64794db7-dce0-4081-bba9-4042aad5d3d1')\"\n",
              "              title=\"Convert this dataframe to an interactive table.\"\n",
              "              style=\"display:none;\">\n",
              "        \n",
              "  <svg xmlns=\"http://www.w3.org/2000/svg\" height=\"24px\"viewBox=\"0 0 24 24\"\n",
              "       width=\"24px\">\n",
              "    <path d=\"M0 0h24v24H0V0z\" fill=\"none\"/>\n",
              "    <path d=\"M18.56 5.44l.94 2.06.94-2.06 2.06-.94-2.06-.94-.94-2.06-.94 2.06-2.06.94zm-11 1L8.5 8.5l.94-2.06 2.06-.94-2.06-.94L8.5 2.5l-.94 2.06-2.06.94zm10 10l.94 2.06.94-2.06 2.06-.94-2.06-.94-.94-2.06-.94 2.06-2.06.94z\"/><path d=\"M17.41 7.96l-1.37-1.37c-.4-.4-.92-.59-1.43-.59-.52 0-1.04.2-1.43.59L10.3 9.45l-7.72 7.72c-.78.78-.78 2.05 0 2.83L4 21.41c.39.39.9.59 1.41.59.51 0 1.02-.2 1.41-.59l7.78-7.78 2.81-2.81c.8-.78.8-2.07 0-2.86zM5.41 20L4 18.59l7.72-7.72 1.47 1.35L5.41 20z\"/>\n",
              "  </svg>\n",
              "      </button>\n",
              "      \n",
              "  <style>\n",
              "    .colab-df-container {\n",
              "      display:flex;\n",
              "      flex-wrap:wrap;\n",
              "      gap: 12px;\n",
              "    }\n",
              "\n",
              "    .colab-df-convert {\n",
              "      background-color: #E8F0FE;\n",
              "      border: none;\n",
              "      border-radius: 50%;\n",
              "      cursor: pointer;\n",
              "      display: none;\n",
              "      fill: #1967D2;\n",
              "      height: 32px;\n",
              "      padding: 0 0 0 0;\n",
              "      width: 32px;\n",
              "    }\n",
              "\n",
              "    .colab-df-convert:hover {\n",
              "      background-color: #E2EBFA;\n",
              "      box-shadow: 0px 1px 2px rgba(60, 64, 67, 0.3), 0px 1px 3px 1px rgba(60, 64, 67, 0.15);\n",
              "      fill: #174EA6;\n",
              "    }\n",
              "\n",
              "    [theme=dark] .colab-df-convert {\n",
              "      background-color: #3B4455;\n",
              "      fill: #D2E3FC;\n",
              "    }\n",
              "\n",
              "    [theme=dark] .colab-df-convert:hover {\n",
              "      background-color: #434B5C;\n",
              "      box-shadow: 0px 1px 3px 1px rgba(0, 0, 0, 0.15);\n",
              "      filter: drop-shadow(0px 1px 2px rgba(0, 0, 0, 0.3));\n",
              "      fill: #FFFFFF;\n",
              "    }\n",
              "  </style>\n",
              "\n",
              "      <script>\n",
              "        const buttonEl =\n",
              "          document.querySelector('#df-64794db7-dce0-4081-bba9-4042aad5d3d1 button.colab-df-convert');\n",
              "        buttonEl.style.display =\n",
              "          google.colab.kernel.accessAllowed ? 'block' : 'none';\n",
              "\n",
              "        async function convertToInteractive(key) {\n",
              "          const element = document.querySelector('#df-64794db7-dce0-4081-bba9-4042aad5d3d1');\n",
              "          const dataTable =\n",
              "            await google.colab.kernel.invokeFunction('convertToInteractive',\n",
              "                                                     [key], {});\n",
              "          if (!dataTable) return;\n",
              "\n",
              "          const docLinkHtml = 'Like what you see? Visit the ' +\n",
              "            '<a target=\"_blank\" href=https://colab.research.google.com/notebooks/data_table.ipynb>data table notebook</a>'\n",
              "            + ' to learn more about interactive tables.';\n",
              "          element.innerHTML = '';\n",
              "          dataTable['output_type'] = 'display_data';\n",
              "          await google.colab.output.renderOutput(dataTable, element);\n",
              "          const docLink = document.createElement('div');\n",
              "          docLink.innerHTML = docLinkHtml;\n",
              "          element.appendChild(docLink);\n",
              "        }\n",
              "      </script>\n",
              "    </div>\n",
              "  </div>\n",
              "  "
            ]
          },
          "metadata": {},
          "execution_count": 43
        }
      ]
    },
    {
      "cell_type": "code",
      "source": [
        "test.columns"
      ],
      "metadata": {
        "colab": {
          "base_uri": "https://localhost:8080/"
        },
        "id": "Iy6AMLpyX8If",
        "outputId": "872376c8-0f18-4419-f7f2-5ebd0ef37ff9"
      },
      "execution_count": null,
      "outputs": [
        {
          "output_type": "execute_result",
          "data": {
            "text/plain": [
              "Index(['id', 'name', 'latitude', 'longitude', 'address', 'city', 'state',\n",
              "       'zip', 'country', 'url', 'phone', 'categories'],\n",
              "      dtype='object')"
            ]
          },
          "metadata": {},
          "execution_count": 45
        }
      ]
    },
    {
      "cell_type": "code",
      "source": [
        "test.country"
      ],
      "metadata": {
        "colab": {
          "base_uri": "https://localhost:8080/"
        },
        "id": "2LyFlsz6ZCKg",
        "outputId": "3a2b5b3b-1405-4e7d-f2e3-0f5bf1c7cbe0"
      },
      "execution_count": null,
      "outputs": [
        {
          "output_type": "execute_result",
          "data": {
            "text/plain": [
              "0    MY\n",
              "1    US\n",
              "2    RU\n",
              "3    ID\n",
              "4    ID\n",
              "Name: country, dtype: object"
            ]
          },
          "metadata": {},
          "execution_count": 107
        }
      ]
    },
    {
      "cell_type": "code",
      "source": [
        ""
      ],
      "metadata": {
        "id": "hqix-nirq0ZX"
      },
      "execution_count": null,
      "outputs": []
    }
  ]
}