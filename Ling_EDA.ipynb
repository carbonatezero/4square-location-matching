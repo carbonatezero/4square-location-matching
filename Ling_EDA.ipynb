{
  "nbformat": 4,
  "nbformat_minor": 0,
  "metadata": {
    "colab": {
      "name": "Ling EDA.ipynb",
      "provenance": [],
      "toc_visible": true,
      "authorship_tag": "ABX9TyMuSWcXbFvb89apBe2CXkHn",
      "include_colab_link": true
    },
    "kernelspec": {
      "name": "python3",
      "display_name": "Python 3"
    },
    "language_info": {
      "name": "python"
    }
  },
  "cells": [
    {
      "cell_type": "markdown",
      "metadata": {
        "id": "view-in-github",
        "colab_type": "text"
      },
      "source": [
        "<a href=\"https://colab.research.google.com/github/gormantt/foursquare-location-matching/blob/main/Ling_EDA.ipynb\" target=\"_parent\"><img src=\"https://colab.research.google.com/assets/colab-badge.svg\" alt=\"Open In Colab\"/></a>"
      ]
    },
    {
      "cell_type": "markdown",
      "source": [
        "# Exploratory data analysis\n",
        "\n",
        "---\n",
        "Data analyzed in this notebook is from [Kaggle's code competation: Foursquare - Location Matching](https://www.kaggle.com/competitions/foursquare-location-matching/data). The data comprises over one-and-a-half million place entries for hundreds of thousands of commercial Points-of-Interest (POIs) around the globe. The task is to **determine which place entries describe the same point-of-interest**. Though the data entries may represent or resemble entries for real places, they may also contain artificial information or additional noise.\n"
      ],
      "metadata": {
        "id": "n25cn50iyFUf"
      }
    },
    {
      "cell_type": "code",
      "source": [
        "import pandas as pd\n",
        "import numpy as np\n",
        "import seaborn as sns\n",
        "\n",
        "#For plotting\n",
        "import matplotlib.pyplot as plt\n",
        "from pandas.plotting import scatter_matrix"
      ],
      "metadata": {
        "id": "K_gFE3lTynyQ"
      },
      "execution_count": 137,
      "outputs": []
    },
    {
      "cell_type": "code",
      "source": [
        "from sklearn.linear_model import LogisticRegression\n",
        "from sklearn.model_selection import train_test_split\n",
        "from sklearn.metrics import confusion_matrix\n",
        "from sklearn.metrics import roc_auc_score\n",
        "\n",
        "lreg = LogisticRegression()"
      ],
      "metadata": {
        "id": "D3cAEvXlj6Zo"
      },
      "execution_count": 120,
      "outputs": []
    },
    {
      "cell_type": "markdown",
      "source": [
        "We read the data below and take a look at some columns."
      ],
      "metadata": {
        "id": "ck3p8I8x0NzY"
      }
    },
    {
      "cell_type": "code",
      "source": [
        "from google.colab import drive\n",
        "drive.mount('/content/drive')"
      ],
      "metadata": {
        "colab": {
          "base_uri": "https://localhost:8080/"
        },
        "id": "SMKbHydTz0FO",
        "outputId": "e85b0bb9-b10e-4a49-cb09-e5fa0659adea"
      },
      "execution_count": 138,
      "outputs": [
        {
          "output_type": "stream",
          "name": "stdout",
          "text": [
            "Drive already mounted at /content/drive; to attempt to forcibly remount, call drive.mount(\"/content/drive\", force_remount=True).\n"
          ]
        }
      ]
    },
    {
      "cell_type": "code",
      "source": [
        "pairs = pd.read_csv('/content/drive/MyDrive/Summer 2022/foursquare-location-matching/pairs.csv')\n",
        "test = pd.read_csv('/content/drive/MyDrive/Summer 2022/foursquare-location-matching/test.csv')\n",
        "train = pd.read_csv('/content/drive/MyDrive/Summer 2022/foursquare-location-matching/train.csv')"
      ],
      "metadata": {
        "id": "u8Qz-YOLzGfV"
      },
      "execution_count": 139,
      "outputs": []
    },
    {
      "cell_type": "markdown",
      "source": [
        "# Training data\n",
        "\n",
        "---\n",
        "\n",
        "## The data\n",
        "\n",
        "\n",
        "*   `train.csv` - The training set, comprising eleven attribute fields for over one million place entries, together with:\n",
        "  * `id` - A unique identifier for each entry.\n",
        "  * `point_of_interest` - An identifier for the POI the entry represents. There may be one or many entries describing the same POI. Two entries \"match\" when they describe a common POI. \n",
        "*   `pairs.csv` - A pregenerated set of pairs of place entries from `train.csv` designed to improve detection of matches.\n",
        "  * `match` - Whether (`True` or `False`) the pair of entries describes a common POI.\n",
        "\n"
      ],
      "metadata": {
        "id": "Zg1IqrfV0fDu"
      }
    },
    {
      "cell_type": "code",
      "source": [
        "print('There are', len(set(train.id)), 'id, and', len(set(train.point_of_interest)), 'distinct POIs.\\n')\n",
        "print('About', np.round(len(set(train.point_of_interest))/len(set(train.id))*100,2),'% POIs are unique.\\n')"
      ],
      "metadata": {
        "colab": {
          "base_uri": "https://localhost:8080/"
        },
        "id": "NhuiJ9tqTHom",
        "outputId": "8fab020f-81e4-47a8-eea2-ef645c58a27c"
      },
      "execution_count": 140,
      "outputs": [
        {
          "output_type": "stream",
          "name": "stdout",
          "text": [
            "There are 1138812 id, and 739972 distinct POIs.\n",
            "\n",
            "About 64.98 % POIs are unique.\n",
            "\n"
          ]
        }
      ]
    },
    {
      "cell_type": "code",
      "source": [
        "train.sample(5)"
      ],
      "metadata": {
        "colab": {
          "base_uri": "https://localhost:8080/",
          "height": 458
        },
        "id": "jVUWPXXvzZnk",
        "outputId": "3d1798bf-2d1b-4309-f749-ecdababf9138"
      },
      "execution_count": 141,
      "outputs": [
        {
          "output_type": "execute_result",
          "data": {
            "text/plain": [
              "                       id                             name   latitude  \\\n",
              "276067   E_3df85b4877fbc2  Departure Platform At Jb Castam   1.464381   \n",
              "607590   E_8890ce3d821d55              Gelibolu Yarımadası  40.148943   \n",
              "920646   E_cecd328af46ca9  Four Points by Sheraton Jakarta  -6.188392   \n",
              "946704   E_d4a4cdf0a03c2d  Билайн - Домашний интернет и ТВ  55.343985   \n",
              "1084593  E_f3b8be3a5b20ec                   WTC Mangga Dua  -6.133441   \n",
              "\n",
              "          longitude                    address           city  \\\n",
              "276067   103.766303                  Jb castam            NaN   \n",
              "607590    26.378255        Gelibolu Yarımadası      Canakkale   \n",
              "920646   106.822830               Menara Topas  Jakarta Pusat   \n",
              "946704    86.063998           пр. Ленина, д. 3       Кемерово   \n",
              "1084593  106.830885  Jl. Mangga Dua Raya No. 8  Jakarta Utara   \n",
              "\n",
              "                    state     zip country                             url  \\\n",
              "276067                NaN     NaN      MY                             NaN   \n",
              "607590            Turkiye     NaN      TR                             NaN   \n",
              "920646        DKI Jakarta     NaN      ID                             NaN   \n",
              "946704   Кемеровская обл.  650000      RU  https://mirbeeline.ru/kemerovo   \n",
              "1084593       DKI Jakarta   14430      ID                             NaN   \n",
              "\n",
              "              phone                            categories point_of_interest  \n",
              "276067          NaN                                   NaN  P_a7829bfa2c8bc6  \n",
              "607590          NaN  Other Great Outdoors, Historic Sites  P_342498539b6c87  \n",
              "920646          NaN                                Hotels  P_b66cd78d41ba91  \n",
              "946704   8007000611                    Mobile Phone Shops  P_dfbcfc6199776f  \n",
              "1084593  2130018888    Shopping Malls, Convenience Stores  P_4ba5cdd1d72d25  "
            ],
            "text/html": [
              "\n",
              "  <div id=\"df-652e5824-25f4-4c90-affc-0799d3bf2ffb\">\n",
              "    <div class=\"colab-df-container\">\n",
              "      <div>\n",
              "<style scoped>\n",
              "    .dataframe tbody tr th:only-of-type {\n",
              "        vertical-align: middle;\n",
              "    }\n",
              "\n",
              "    .dataframe tbody tr th {\n",
              "        vertical-align: top;\n",
              "    }\n",
              "\n",
              "    .dataframe thead th {\n",
              "        text-align: right;\n",
              "    }\n",
              "</style>\n",
              "<table border=\"1\" class=\"dataframe\">\n",
              "  <thead>\n",
              "    <tr style=\"text-align: right;\">\n",
              "      <th></th>\n",
              "      <th>id</th>\n",
              "      <th>name</th>\n",
              "      <th>latitude</th>\n",
              "      <th>longitude</th>\n",
              "      <th>address</th>\n",
              "      <th>city</th>\n",
              "      <th>state</th>\n",
              "      <th>zip</th>\n",
              "      <th>country</th>\n",
              "      <th>url</th>\n",
              "      <th>phone</th>\n",
              "      <th>categories</th>\n",
              "      <th>point_of_interest</th>\n",
              "    </tr>\n",
              "  </thead>\n",
              "  <tbody>\n",
              "    <tr>\n",
              "      <th>276067</th>\n",
              "      <td>E_3df85b4877fbc2</td>\n",
              "      <td>Departure Platform At Jb Castam</td>\n",
              "      <td>1.464381</td>\n",
              "      <td>103.766303</td>\n",
              "      <td>Jb castam</td>\n",
              "      <td>NaN</td>\n",
              "      <td>NaN</td>\n",
              "      <td>NaN</td>\n",
              "      <td>MY</td>\n",
              "      <td>NaN</td>\n",
              "      <td>NaN</td>\n",
              "      <td>NaN</td>\n",
              "      <td>P_a7829bfa2c8bc6</td>\n",
              "    </tr>\n",
              "    <tr>\n",
              "      <th>607590</th>\n",
              "      <td>E_8890ce3d821d55</td>\n",
              "      <td>Gelibolu Yarımadası</td>\n",
              "      <td>40.148943</td>\n",
              "      <td>26.378255</td>\n",
              "      <td>Gelibolu Yarımadası</td>\n",
              "      <td>Canakkale</td>\n",
              "      <td>Turkiye</td>\n",
              "      <td>NaN</td>\n",
              "      <td>TR</td>\n",
              "      <td>NaN</td>\n",
              "      <td>NaN</td>\n",
              "      <td>Other Great Outdoors, Historic Sites</td>\n",
              "      <td>P_342498539b6c87</td>\n",
              "    </tr>\n",
              "    <tr>\n",
              "      <th>920646</th>\n",
              "      <td>E_cecd328af46ca9</td>\n",
              "      <td>Four Points by Sheraton Jakarta</td>\n",
              "      <td>-6.188392</td>\n",
              "      <td>106.822830</td>\n",
              "      <td>Menara Topas</td>\n",
              "      <td>Jakarta Pusat</td>\n",
              "      <td>DKI Jakarta</td>\n",
              "      <td>NaN</td>\n",
              "      <td>ID</td>\n",
              "      <td>NaN</td>\n",
              "      <td>NaN</td>\n",
              "      <td>Hotels</td>\n",
              "      <td>P_b66cd78d41ba91</td>\n",
              "    </tr>\n",
              "    <tr>\n",
              "      <th>946704</th>\n",
              "      <td>E_d4a4cdf0a03c2d</td>\n",
              "      <td>Билайн - Домашний интернет и ТВ</td>\n",
              "      <td>55.343985</td>\n",
              "      <td>86.063998</td>\n",
              "      <td>пр. Ленина, д. 3</td>\n",
              "      <td>Кемерово</td>\n",
              "      <td>Кемеровская обл.</td>\n",
              "      <td>650000</td>\n",
              "      <td>RU</td>\n",
              "      <td>https://mirbeeline.ru/kemerovo</td>\n",
              "      <td>8007000611</td>\n",
              "      <td>Mobile Phone Shops</td>\n",
              "      <td>P_dfbcfc6199776f</td>\n",
              "    </tr>\n",
              "    <tr>\n",
              "      <th>1084593</th>\n",
              "      <td>E_f3b8be3a5b20ec</td>\n",
              "      <td>WTC Mangga Dua</td>\n",
              "      <td>-6.133441</td>\n",
              "      <td>106.830885</td>\n",
              "      <td>Jl. Mangga Dua Raya No. 8</td>\n",
              "      <td>Jakarta Utara</td>\n",
              "      <td>DKI Jakarta</td>\n",
              "      <td>14430</td>\n",
              "      <td>ID</td>\n",
              "      <td>NaN</td>\n",
              "      <td>2130018888</td>\n",
              "      <td>Shopping Malls, Convenience Stores</td>\n",
              "      <td>P_4ba5cdd1d72d25</td>\n",
              "    </tr>\n",
              "  </tbody>\n",
              "</table>\n",
              "</div>\n",
              "      <button class=\"colab-df-convert\" onclick=\"convertToInteractive('df-652e5824-25f4-4c90-affc-0799d3bf2ffb')\"\n",
              "              title=\"Convert this dataframe to an interactive table.\"\n",
              "              style=\"display:none;\">\n",
              "        \n",
              "  <svg xmlns=\"http://www.w3.org/2000/svg\" height=\"24px\"viewBox=\"0 0 24 24\"\n",
              "       width=\"24px\">\n",
              "    <path d=\"M0 0h24v24H0V0z\" fill=\"none\"/>\n",
              "    <path d=\"M18.56 5.44l.94 2.06.94-2.06 2.06-.94-2.06-.94-.94-2.06-.94 2.06-2.06.94zm-11 1L8.5 8.5l.94-2.06 2.06-.94-2.06-.94L8.5 2.5l-.94 2.06-2.06.94zm10 10l.94 2.06.94-2.06 2.06-.94-2.06-.94-.94-2.06-.94 2.06-2.06.94z\"/><path d=\"M17.41 7.96l-1.37-1.37c-.4-.4-.92-.59-1.43-.59-.52 0-1.04.2-1.43.59L10.3 9.45l-7.72 7.72c-.78.78-.78 2.05 0 2.83L4 21.41c.39.39.9.59 1.41.59.51 0 1.02-.2 1.41-.59l7.78-7.78 2.81-2.81c.8-.78.8-2.07 0-2.86zM5.41 20L4 18.59l7.72-7.72 1.47 1.35L5.41 20z\"/>\n",
              "  </svg>\n",
              "      </button>\n",
              "      \n",
              "  <style>\n",
              "    .colab-df-container {\n",
              "      display:flex;\n",
              "      flex-wrap:wrap;\n",
              "      gap: 12px;\n",
              "    }\n",
              "\n",
              "    .colab-df-convert {\n",
              "      background-color: #E8F0FE;\n",
              "      border: none;\n",
              "      border-radius: 50%;\n",
              "      cursor: pointer;\n",
              "      display: none;\n",
              "      fill: #1967D2;\n",
              "      height: 32px;\n",
              "      padding: 0 0 0 0;\n",
              "      width: 32px;\n",
              "    }\n",
              "\n",
              "    .colab-df-convert:hover {\n",
              "      background-color: #E2EBFA;\n",
              "      box-shadow: 0px 1px 2px rgba(60, 64, 67, 0.3), 0px 1px 3px 1px rgba(60, 64, 67, 0.15);\n",
              "      fill: #174EA6;\n",
              "    }\n",
              "\n",
              "    [theme=dark] .colab-df-convert {\n",
              "      background-color: #3B4455;\n",
              "      fill: #D2E3FC;\n",
              "    }\n",
              "\n",
              "    [theme=dark] .colab-df-convert:hover {\n",
              "      background-color: #434B5C;\n",
              "      box-shadow: 0px 1px 3px 1px rgba(0, 0, 0, 0.15);\n",
              "      filter: drop-shadow(0px 1px 2px rgba(0, 0, 0, 0.3));\n",
              "      fill: #FFFFFF;\n",
              "    }\n",
              "  </style>\n",
              "\n",
              "      <script>\n",
              "        const buttonEl =\n",
              "          document.querySelector('#df-652e5824-25f4-4c90-affc-0799d3bf2ffb button.colab-df-convert');\n",
              "        buttonEl.style.display =\n",
              "          google.colab.kernel.accessAllowed ? 'block' : 'none';\n",
              "\n",
              "        async function convertToInteractive(key) {\n",
              "          const element = document.querySelector('#df-652e5824-25f4-4c90-affc-0799d3bf2ffb');\n",
              "          const dataTable =\n",
              "            await google.colab.kernel.invokeFunction('convertToInteractive',\n",
              "                                                     [key], {});\n",
              "          if (!dataTable) return;\n",
              "\n",
              "          const docLinkHtml = 'Like what you see? Visit the ' +\n",
              "            '<a target=\"_blank\" href=https://colab.research.google.com/notebooks/data_table.ipynb>data table notebook</a>'\n",
              "            + ' to learn more about interactive tables.';\n",
              "          element.innerHTML = '';\n",
              "          dataTable['output_type'] = 'display_data';\n",
              "          await google.colab.output.renderOutput(dataTable, element);\n",
              "          const docLink = document.createElement('div');\n",
              "          docLink.innerHTML = docLinkHtml;\n",
              "          element.appendChild(docLink);\n",
              "        }\n",
              "      </script>\n",
              "    </div>\n",
              "  </div>\n",
              "  "
            ]
          },
          "metadata": {},
          "execution_count": 141
        }
      ]
    },
    {
      "cell_type": "code",
      "source": [
        "print('There are', len(pairs), 'pairs,', len(set(pairs.id_1)), 'id_1s and', len(set(pairs.id_2)), 'id_2s.\\n')"
      ],
      "metadata": {
        "colab": {
          "base_uri": "https://localhost:8080/"
        },
        "id": "s_95avseVk10",
        "outputId": "a9f769e3-c129-40bf-854a-dc11a7a81d9f"
      },
      "execution_count": 142,
      "outputs": [
        {
          "output_type": "stream",
          "name": "stdout",
          "text": [
            "There are 578907 pairs, 464765 id_1s and 565512 id_2s.\n",
            "\n"
          ]
        }
      ]
    },
    {
      "cell_type": "code",
      "source": [
        "pairs.loc[0]"
      ],
      "metadata": {
        "colab": {
          "base_uri": "https://localhost:8080/"
        },
        "id": "Ya9fzOwu0Y52",
        "outputId": "82c6249f-6570-4681-f7aa-8ba8d9f62ad2"
      },
      "execution_count": 143,
      "outputs": [
        {
          "output_type": "execute_result",
          "data": {
            "text/plain": [
              "id_1                E_000001272c6c5d\n",
              "name_1          Café Stad Oudenaarde\n",
              "latitude_1                 50.859975\n",
              "longitude_1                 3.634196\n",
              "address_1                Abdijstraat\n",
              "city_1                    Nederename\n",
              "state_1              Oost-Vlaanderen\n",
              "zip_1                           9700\n",
              "country_1                         BE\n",
              "url_1                            NaN\n",
              "phone_1                          NaN\n",
              "categories_1                    Bars\n",
              "id_2                E_da7fa3963561f8\n",
              "name_2               Café Oudenaarde\n",
              "latitude_2                 50.869358\n",
              "longitude_2                 3.635206\n",
              "address_2                        NaN\n",
              "city_2                           NaN\n",
              "state_2                          NaN\n",
              "zip_2                            NaN\n",
              "country_2                         BE\n",
              "url_2                            NaN\n",
              "phone_2                          NaN\n",
              "categories_2                    Bars\n",
              "match                           True\n",
              "Name: 0, dtype: object"
            ]
          },
          "metadata": {},
          "execution_count": 143
        }
      ]
    },
    {
      "cell_type": "markdown",
      "source": [
        "## Considering only US locations"
      ],
      "metadata": {
        "id": "3QuzyE2Zquij"
      }
    },
    {
      "cell_type": "code",
      "source": [
        "train_US = train.loc[train.country=='US']\n",
        "pairs = pairs.loc[(pairs.country_1=='US') & (pairs.country_2=='US')]"
      ],
      "metadata": {
        "id": "GgD_L7GvpW0Y"
      },
      "execution_count": 144,
      "outputs": []
    },
    {
      "cell_type": "code",
      "source": [
        "print(\"{:.2%}\".format(len(train_US)/len(train)),'locations are in US')\n",
        "print(\"{:.2%}\".format(len(pairs_US)/len(pairs)),'pairs are in US')"
      ],
      "metadata": {
        "colab": {
          "base_uri": "https://localhost:8080/"
        },
        "id": "TWXN_RgBrH8t",
        "outputId": "8ea25e26-3db4-4756-9620-34b2ae80ea91"
      },
      "execution_count": 145,
      "outputs": [
        {
          "output_type": "stream",
          "name": "stdout",
          "text": [
            "21.54% locations are in US\n",
            "100.00% pairs are in US\n"
          ]
        }
      ]
    },
    {
      "cell_type": "markdown",
      "source": [
        "## Missing values\n",
        "\n",
        "\n"
      ],
      "metadata": {
        "id": "PRODlbdR814G"
      }
    },
    {
      "cell_type": "code",
      "source": [
        "for col in train.columns:\n",
        "    print('In train.csv,',\"{:.6%}\".format(1-len(train[col].dropna())/len(train[col])), 'rows have \"NaN\" for', col)"
      ],
      "metadata": {
        "colab": {
          "base_uri": "https://localhost:8080/"
        },
        "id": "WEH9EmCP9hW8",
        "outputId": "9cc5be5e-0e53-442a-f6d8-78f5caff3e65"
      },
      "execution_count": 146,
      "outputs": [
        {
          "output_type": "stream",
          "name": "stdout",
          "text": [
            "In train.csv, 0.000000% rows have \"NaN\" for id\n",
            "In train.csv, 0.000088% rows have \"NaN\" for name\n",
            "In train.csv, 0.000000% rows have \"NaN\" for latitude\n",
            "In train.csv, 0.000000% rows have \"NaN\" for longitude\n",
            "In train.csv, 34.827610% rows have \"NaN\" for address\n",
            "In train.csv, 26.272027% rows have \"NaN\" for city\n",
            "In train.csv, 36.931996% rows have \"NaN\" for state\n",
            "In train.csv, 52.284837% rows have \"NaN\" for zip\n",
            "In train.csv, 0.000966% rows have \"NaN\" for country\n",
            "In train.csv, 76.490940% rows have \"NaN\" for url\n",
            "In train.csv, 69.893626% rows have \"NaN\" for phone\n",
            "In train.csv, 8.632417% rows have \"NaN\" for categories\n",
            "In train.csv, 0.000000% rows have \"NaN\" for point_of_interest\n"
          ]
        }
      ]
    },
    {
      "cell_type": "code",
      "source": [
        "for col in train_US.columns:\n",
        "    print('In train_US.csv,',\"{:.6%}\".format(1-len(train_US[col].dropna())/len(train_US[col])), 'rows have \"NaN\" for', col)"
      ],
      "metadata": {
        "colab": {
          "base_uri": "https://localhost:8080/"
        },
        "id": "bqDLoK8i_9Nw",
        "outputId": "643115dd-48b4-4805-c9fc-e66b23444dba"
      },
      "execution_count": 147,
      "outputs": [
        {
          "output_type": "stream",
          "name": "stdout",
          "text": [
            "In train_US.csv, 0.000000% rows have \"NaN\" for id\n",
            "In train_US.csv, 0.000408% rows have \"NaN\" for name\n",
            "In train_US.csv, 0.000000% rows have \"NaN\" for latitude\n",
            "In train_US.csv, 0.000000% rows have \"NaN\" for longitude\n",
            "In train_US.csv, 23.018216% rows have \"NaN\" for address\n",
            "In train_US.csv, 3.686747% rows have \"NaN\" for city\n",
            "In train_US.csv, 2.409860% rows have \"NaN\" for state\n",
            "In train_US.csv, 13.048955% rows have \"NaN\" for zip\n",
            "In train_US.csv, 0.000000% rows have \"NaN\" for country\n",
            "In train_US.csv, 59.444155% rows have \"NaN\" for url\n",
            "In train_US.csv, 46.349130% rows have \"NaN\" for phone\n",
            "In train_US.csv, 5.361540% rows have \"NaN\" for categories\n",
            "In train_US.csv, 0.000000% rows have \"NaN\" for point_of_interest\n"
          ]
        }
      ]
    },
    {
      "cell_type": "markdown",
      "source": [
        "## Generate more pairs\n",
        "\n"
      ],
      "metadata": {
        "id": "niSwEp1WovhW"
      }
    },
    {
      "cell_type": "code",
      "source": [
        "len(set(list(pairs.id_1)+list(pairs.id_2)))"
      ],
      "metadata": {
        "colab": {
          "base_uri": "https://localhost:8080/"
        },
        "id": "uALymGALpFED",
        "outputId": "36cb0cbd-4b7f-4588-c1ef-c15f9a646a44"
      },
      "execution_count": 148,
      "outputs": [
        {
          "output_type": "execute_result",
          "data": {
            "text/plain": [
              "219240"
            ]
          },
          "metadata": {},
          "execution_count": 148
        }
      ]
    },
    {
      "cell_type": "code",
      "source": [
        "len(set(train.id)-set(list(pairs.id_1)+list(pairs.id_2)))"
      ],
      "metadata": {
        "colab": {
          "base_uri": "https://localhost:8080/"
        },
        "id": "SOu_OVl2pOeg",
        "outputId": "6c94313a-a4bd-4650-ac00-a8bcf763c2cf"
      },
      "execution_count": 149,
      "outputs": [
        {
          "output_type": "execute_result",
          "data": {
            "text/plain": [
              "919572"
            ]
          },
          "metadata": {},
          "execution_count": 149
        }
      ]
    },
    {
      "cell_type": "markdown",
      "source": [
        "# Features\n",
        "\n",
        "---\n",
        "\n",
        "The features available in `test.csv` include \n",
        "\n",
        "```\n",
        "'name', 'latitude', 'longitude', 'address', 'city', 'state',\n",
        "       'zip', 'country', 'url', 'phone', 'categories'\n",
        "```\n"
      ],
      "metadata": {
        "id": "VCpYBKeqbby8"
      }
    },
    {
      "cell_type": "code",
      "source": [
        "from sklearn.feature_extraction.text import CountVectorizer\n",
        "\n",
        "coun_vect=CountVectorizer()\n",
        "\n",
        "def countvec_metric(df, col1, col2):\n",
        "    a = df[col1]\n",
        "    b = df[col2]\n",
        "    if type(a)!=str or type(b)!=str:\n",
        "        return -1\n",
        "    else:\n",
        "        count_matrix=coun_vect.fit_transform([a,b])\n",
        "    return np.count_nonzero(count_matrix.toarray()[0]!=count_matrix.toarray()[1])/len(count_matrix.toarray()[0])"
      ],
      "metadata": {
        "id": "xkY0juSbCeCH"
      },
      "execution_count": 151,
      "outputs": []
    },
    {
      "cell_type": "code",
      "source": [
        "pairs['name_coun_vect_diff'] = pairs.apply(countvec_metric,\n",
        "                          args=('name_1', 'name_2'),\n",
        "                          axis=1)"
      ],
      "metadata": {
        "colab": {
          "base_uri": "https://localhost:8080/",
          "height": 360
        },
        "id": "zqNPtUrmD6HG",
        "outputId": "238b142d-6258-401c-d883-37948eb9d8cf"
      },
      "execution_count": 152,
      "outputs": [
        {
          "output_type": "error",
          "ename": "ValueError",
          "evalue": "ignored",
          "traceback": [
            "\u001b[0;31m---------------------------------------------------------------------------\u001b[0m",
            "\u001b[0;31mValueError\u001b[0m                                Traceback (most recent call last)",
            "\u001b[0;32m<ipython-input-152-b85b43c942bc>\u001b[0m in \u001b[0;36m<module>\u001b[0;34m()\u001b[0m\n\u001b[1;32m      1\u001b[0m pairs['name_coun_vect_diff'] = pairs.apply(countvec_metric,\n\u001b[1;32m      2\u001b[0m                           \u001b[0margs\u001b[0m\u001b[0;34m=\u001b[0m\u001b[0;34m(\u001b[0m\u001b[0;34m'name_1'\u001b[0m\u001b[0;34m,\u001b[0m \u001b[0;34m'name_2'\u001b[0m\u001b[0;34m)\u001b[0m\u001b[0;34m,\u001b[0m\u001b[0;34m\u001b[0m\u001b[0;34m\u001b[0m\u001b[0m\n\u001b[0;32m----> 3\u001b[0;31m                           axis=1)\n\u001b[0m",
            "\u001b[0;32m/usr/local/lib/python3.7/dist-packages/pandas/core/frame.py\u001b[0m in \u001b[0;36mapply\u001b[0;34m(self, func, axis, raw, result_type, args, **kwargs)\u001b[0m\n\u001b[1;32m   8738\u001b[0m             \u001b[0mkwargs\u001b[0m\u001b[0;34m=\u001b[0m\u001b[0mkwargs\u001b[0m\u001b[0;34m,\u001b[0m\u001b[0;34m\u001b[0m\u001b[0;34m\u001b[0m\u001b[0m\n\u001b[1;32m   8739\u001b[0m         )\n\u001b[0;32m-> 8740\u001b[0;31m         \u001b[0;32mreturn\u001b[0m \u001b[0mop\u001b[0m\u001b[0;34m.\u001b[0m\u001b[0mapply\u001b[0m\u001b[0;34m(\u001b[0m\u001b[0;34m)\u001b[0m\u001b[0;34m\u001b[0m\u001b[0;34m\u001b[0m\u001b[0m\n\u001b[0m\u001b[1;32m   8741\u001b[0m \u001b[0;34m\u001b[0m\u001b[0m\n\u001b[1;32m   8742\u001b[0m     def applymap(\n",
            "\u001b[0;32m/usr/local/lib/python3.7/dist-packages/pandas/core/apply.py\u001b[0m in \u001b[0;36mapply\u001b[0;34m(self)\u001b[0m\n\u001b[1;32m    686\u001b[0m             \u001b[0;32mreturn\u001b[0m \u001b[0mself\u001b[0m\u001b[0;34m.\u001b[0m\u001b[0mapply_raw\u001b[0m\u001b[0;34m(\u001b[0m\u001b[0;34m)\u001b[0m\u001b[0;34m\u001b[0m\u001b[0;34m\u001b[0m\u001b[0m\n\u001b[1;32m    687\u001b[0m \u001b[0;34m\u001b[0m\u001b[0m\n\u001b[0;32m--> 688\u001b[0;31m         \u001b[0;32mreturn\u001b[0m \u001b[0mself\u001b[0m\u001b[0;34m.\u001b[0m\u001b[0mapply_standard\u001b[0m\u001b[0;34m(\u001b[0m\u001b[0;34m)\u001b[0m\u001b[0;34m\u001b[0m\u001b[0;34m\u001b[0m\u001b[0m\n\u001b[0m\u001b[1;32m    689\u001b[0m \u001b[0;34m\u001b[0m\u001b[0m\n\u001b[1;32m    690\u001b[0m     \u001b[0;32mdef\u001b[0m \u001b[0magg\u001b[0m\u001b[0;34m(\u001b[0m\u001b[0mself\u001b[0m\u001b[0;34m)\u001b[0m\u001b[0;34m:\u001b[0m\u001b[0;34m\u001b[0m\u001b[0;34m\u001b[0m\u001b[0m\n",
            "\u001b[0;32m/usr/local/lib/python3.7/dist-packages/pandas/core/apply.py\u001b[0m in \u001b[0;36mapply_standard\u001b[0;34m(self)\u001b[0m\n\u001b[1;32m    810\u001b[0m \u001b[0;34m\u001b[0m\u001b[0m\n\u001b[1;32m    811\u001b[0m     \u001b[0;32mdef\u001b[0m \u001b[0mapply_standard\u001b[0m\u001b[0;34m(\u001b[0m\u001b[0mself\u001b[0m\u001b[0;34m)\u001b[0m\u001b[0;34m:\u001b[0m\u001b[0;34m\u001b[0m\u001b[0;34m\u001b[0m\u001b[0m\n\u001b[0;32m--> 812\u001b[0;31m         \u001b[0mresults\u001b[0m\u001b[0;34m,\u001b[0m \u001b[0mres_index\u001b[0m \u001b[0;34m=\u001b[0m \u001b[0mself\u001b[0m\u001b[0;34m.\u001b[0m\u001b[0mapply_series_generator\u001b[0m\u001b[0;34m(\u001b[0m\u001b[0;34m)\u001b[0m\u001b[0;34m\u001b[0m\u001b[0;34m\u001b[0m\u001b[0m\n\u001b[0m\u001b[1;32m    813\u001b[0m \u001b[0;34m\u001b[0m\u001b[0m\n\u001b[1;32m    814\u001b[0m         \u001b[0;31m# wrap results\u001b[0m\u001b[0;34m\u001b[0m\u001b[0;34m\u001b[0m\u001b[0;34m\u001b[0m\u001b[0m\n",
            "\u001b[0;32m/usr/local/lib/python3.7/dist-packages/pandas/core/apply.py\u001b[0m in \u001b[0;36mapply_series_generator\u001b[0;34m(self)\u001b[0m\n\u001b[1;32m    826\u001b[0m             \u001b[0;32mfor\u001b[0m \u001b[0mi\u001b[0m\u001b[0;34m,\u001b[0m \u001b[0mv\u001b[0m \u001b[0;32min\u001b[0m \u001b[0menumerate\u001b[0m\u001b[0;34m(\u001b[0m\u001b[0mseries_gen\u001b[0m\u001b[0;34m)\u001b[0m\u001b[0;34m:\u001b[0m\u001b[0;34m\u001b[0m\u001b[0;34m\u001b[0m\u001b[0m\n\u001b[1;32m    827\u001b[0m                 \u001b[0;31m# ignore SettingWithCopy here in case the user mutates\u001b[0m\u001b[0;34m\u001b[0m\u001b[0;34m\u001b[0m\u001b[0;34m\u001b[0m\u001b[0m\n\u001b[0;32m--> 828\u001b[0;31m                 \u001b[0mresults\u001b[0m\u001b[0;34m[\u001b[0m\u001b[0mi\u001b[0m\u001b[0;34m]\u001b[0m \u001b[0;34m=\u001b[0m \u001b[0mself\u001b[0m\u001b[0;34m.\u001b[0m\u001b[0mf\u001b[0m\u001b[0;34m(\u001b[0m\u001b[0mv\u001b[0m\u001b[0;34m)\u001b[0m\u001b[0;34m\u001b[0m\u001b[0;34m\u001b[0m\u001b[0m\n\u001b[0m\u001b[1;32m    829\u001b[0m                 \u001b[0;32mif\u001b[0m \u001b[0misinstance\u001b[0m\u001b[0;34m(\u001b[0m\u001b[0mresults\u001b[0m\u001b[0;34m[\u001b[0m\u001b[0mi\u001b[0m\u001b[0;34m]\u001b[0m\u001b[0;34m,\u001b[0m \u001b[0mABCSeries\u001b[0m\u001b[0;34m)\u001b[0m\u001b[0;34m:\u001b[0m\u001b[0;34m\u001b[0m\u001b[0;34m\u001b[0m\u001b[0m\n\u001b[1;32m    830\u001b[0m                     \u001b[0;31m# If we have a view on v, we need to make a copy because\u001b[0m\u001b[0;34m\u001b[0m\u001b[0;34m\u001b[0m\u001b[0;34m\u001b[0m\u001b[0m\n",
            "\u001b[0;32m/usr/local/lib/python3.7/dist-packages/pandas/core/apply.py\u001b[0m in \u001b[0;36mf\u001b[0;34m(x)\u001b[0m\n\u001b[1;32m    129\u001b[0m \u001b[0;34m\u001b[0m\u001b[0m\n\u001b[1;32m    130\u001b[0m             \u001b[0;32mdef\u001b[0m \u001b[0mf\u001b[0m\u001b[0;34m(\u001b[0m\u001b[0mx\u001b[0m\u001b[0;34m)\u001b[0m\u001b[0;34m:\u001b[0m\u001b[0;34m\u001b[0m\u001b[0;34m\u001b[0m\u001b[0m\n\u001b[0;32m--> 131\u001b[0;31m                 \u001b[0;32mreturn\u001b[0m \u001b[0mfunc\u001b[0m\u001b[0;34m(\u001b[0m\u001b[0mx\u001b[0m\u001b[0;34m,\u001b[0m \u001b[0;34m*\u001b[0m\u001b[0margs\u001b[0m\u001b[0;34m,\u001b[0m \u001b[0;34m**\u001b[0m\u001b[0mkwargs\u001b[0m\u001b[0;34m)\u001b[0m\u001b[0;34m\u001b[0m\u001b[0;34m\u001b[0m\u001b[0m\n\u001b[0m\u001b[1;32m    132\u001b[0m \u001b[0;34m\u001b[0m\u001b[0m\n\u001b[1;32m    133\u001b[0m         \u001b[0;32melse\u001b[0m\u001b[0;34m:\u001b[0m\u001b[0;34m\u001b[0m\u001b[0;34m\u001b[0m\u001b[0m\n",
            "\u001b[0;32m<ipython-input-151-9143b7ba0e2f>\u001b[0m in \u001b[0;36mcountvec_metric\u001b[0;34m(df, col1, col2)\u001b[0m\n\u001b[1;32m      9\u001b[0m         \u001b[0;32mreturn\u001b[0m \u001b[0;34m-\u001b[0m\u001b[0;36m1\u001b[0m\u001b[0;34m\u001b[0m\u001b[0;34m\u001b[0m\u001b[0m\n\u001b[1;32m     10\u001b[0m     \u001b[0;32melse\u001b[0m\u001b[0;34m:\u001b[0m\u001b[0;34m\u001b[0m\u001b[0;34m\u001b[0m\u001b[0m\n\u001b[0;32m---> 11\u001b[0;31m         \u001b[0mcount_matrix\u001b[0m\u001b[0;34m=\u001b[0m\u001b[0mcoun_vect\u001b[0m\u001b[0;34m.\u001b[0m\u001b[0mfit_transform\u001b[0m\u001b[0;34m(\u001b[0m\u001b[0;34m[\u001b[0m\u001b[0ma\u001b[0m\u001b[0;34m,\u001b[0m\u001b[0mb\u001b[0m\u001b[0;34m]\u001b[0m\u001b[0;34m)\u001b[0m\u001b[0;34m\u001b[0m\u001b[0;34m\u001b[0m\u001b[0m\n\u001b[0m\u001b[1;32m     12\u001b[0m     \u001b[0;32mreturn\u001b[0m \u001b[0mnp\u001b[0m\u001b[0;34m.\u001b[0m\u001b[0mcount_nonzero\u001b[0m\u001b[0;34m(\u001b[0m\u001b[0mcount_matrix\u001b[0m\u001b[0;34m.\u001b[0m\u001b[0mtoarray\u001b[0m\u001b[0;34m(\u001b[0m\u001b[0;34m)\u001b[0m\u001b[0;34m[\u001b[0m\u001b[0;36m0\u001b[0m\u001b[0;34m]\u001b[0m\u001b[0;34m!=\u001b[0m\u001b[0mcount_matrix\u001b[0m\u001b[0;34m.\u001b[0m\u001b[0mtoarray\u001b[0m\u001b[0;34m(\u001b[0m\u001b[0;34m)\u001b[0m\u001b[0;34m[\u001b[0m\u001b[0;36m1\u001b[0m\u001b[0;34m]\u001b[0m\u001b[0;34m)\u001b[0m\u001b[0;34m/\u001b[0m\u001b[0mlen\u001b[0m\u001b[0;34m(\u001b[0m\u001b[0mcount_matrix\u001b[0m\u001b[0;34m.\u001b[0m\u001b[0mtoarray\u001b[0m\u001b[0;34m(\u001b[0m\u001b[0;34m)\u001b[0m\u001b[0;34m[\u001b[0m\u001b[0;36m0\u001b[0m\u001b[0;34m]\u001b[0m\u001b[0;34m)\u001b[0m\u001b[0;34m\u001b[0m\u001b[0;34m\u001b[0m\u001b[0m\n",
            "\u001b[0;32m/usr/local/lib/python3.7/dist-packages/sklearn/feature_extraction/text.py\u001b[0m in \u001b[0;36mfit_transform\u001b[0;34m(self, raw_documents, y)\u001b[0m\n\u001b[1;32m   1328\u001b[0m                     \u001b[0;32mbreak\u001b[0m\u001b[0;34m\u001b[0m\u001b[0;34m\u001b[0m\u001b[0m\n\u001b[1;32m   1329\u001b[0m \u001b[0;34m\u001b[0m\u001b[0m\n\u001b[0;32m-> 1330\u001b[0;31m         \u001b[0mvocabulary\u001b[0m\u001b[0;34m,\u001b[0m \u001b[0mX\u001b[0m \u001b[0;34m=\u001b[0m \u001b[0mself\u001b[0m\u001b[0;34m.\u001b[0m\u001b[0m_count_vocab\u001b[0m\u001b[0;34m(\u001b[0m\u001b[0mraw_documents\u001b[0m\u001b[0;34m,\u001b[0m \u001b[0mself\u001b[0m\u001b[0;34m.\u001b[0m\u001b[0mfixed_vocabulary_\u001b[0m\u001b[0;34m)\u001b[0m\u001b[0;34m\u001b[0m\u001b[0;34m\u001b[0m\u001b[0m\n\u001b[0m\u001b[1;32m   1331\u001b[0m \u001b[0;34m\u001b[0m\u001b[0m\n\u001b[1;32m   1332\u001b[0m         \u001b[0;32mif\u001b[0m \u001b[0mself\u001b[0m\u001b[0;34m.\u001b[0m\u001b[0mbinary\u001b[0m\u001b[0;34m:\u001b[0m\u001b[0;34m\u001b[0m\u001b[0;34m\u001b[0m\u001b[0m\n",
            "\u001b[0;32m/usr/local/lib/python3.7/dist-packages/sklearn/feature_extraction/text.py\u001b[0m in \u001b[0;36m_count_vocab\u001b[0;34m(self, raw_documents, fixed_vocab)\u001b[0m\n\u001b[1;32m   1219\u001b[0m             \u001b[0;32mif\u001b[0m \u001b[0;32mnot\u001b[0m \u001b[0mvocabulary\u001b[0m\u001b[0;34m:\u001b[0m\u001b[0;34m\u001b[0m\u001b[0;34m\u001b[0m\u001b[0m\n\u001b[1;32m   1220\u001b[0m                 raise ValueError(\n\u001b[0;32m-> 1221\u001b[0;31m                     \u001b[0;34m\"empty vocabulary; perhaps the documents only contain stop words\"\u001b[0m\u001b[0;34m\u001b[0m\u001b[0;34m\u001b[0m\u001b[0m\n\u001b[0m\u001b[1;32m   1222\u001b[0m                 )\n\u001b[1;32m   1223\u001b[0m \u001b[0;34m\u001b[0m\u001b[0m\n",
            "\u001b[0;31mValueError\u001b[0m: empty vocabulary; perhaps the documents only contain stop words"
          ]
        }
      ]
    },
    {
      "cell_type": "markdown",
      "source": [
        "## Latitude and longitude\n",
        "\n",
        "\n",
        "---\n",
        "We compute the difference for (latitude, longitude) of each pair in `pairs.csv`. It turns out \n",
        "  * locations with close (difference less than 0.001) can have have different POIs: stores are next to each other in a shopping center. In some extreme cases, places with identical coordinates can have different POI. For example, one classroom can be located vertically on top of another.  \n",
        "  * conversely, locations physically far can represent the same POI, such as mountains."
      ],
      "metadata": {
        "id": "9Xdkh5XXbiv-"
      }
    },
    {
      "cell_type": "code",
      "source": [
        "#pairs['latitude_diff'] = (pairs['latitude_1']-pairs['latitude_2']).abs()\n",
        "#pairs['longitude_diff'] = (pairs['longitude_1']-pairs['longitude_2']).abs()\n",
        "#pairs['location_diff'] = pairs['latitude_1']-pairs['latitude_2']\n",
        "\n",
        "# Compute the difference of (latitude, longitude) of each pair in pairs.csv\n",
        "pairs['location_diff'] = pd.concat([(pairs['latitude_1']-pairs['latitude_2']).abs(), (pairs['longitude_1']-pairs['longitude_2']).abs()], axis=1).max(axis=1)\n",
        "\n",
        "print(pairs.location_diff, '\\nThe largest difference is', pairs.location_diff.max(),'\\nThe average difference is', pairs.location_diff.mean())"
      ],
      "metadata": {
        "colab": {
          "base_uri": "https://localhost:8080/"
        },
        "id": "2Y455w2siJI3",
        "outputId": "bcb1837b-1a90-415f-eede-0caa8fe863b1"
      },
      "execution_count": 154,
      "outputs": [
        {
          "output_type": "stream",
          "name": "stdout",
          "text": [
            "3         0.000141\n",
            "6         0.005068\n",
            "7         0.001011\n",
            "8         0.014307\n",
            "11        0.006102\n",
            "            ...   \n",
            "578885    0.038925\n",
            "578888    0.001929\n",
            "578890    0.000119\n",
            "578900    0.100096\n",
            "578904    0.008220\n",
            "Name: location_diff, Length: 117708, dtype: float64 \n",
            "The largest difference is 222.460965008789 \n",
            "The average difference is 0.08730819055571455\n"
          ]
        }
      ]
    },
    {
      "cell_type": "code",
      "source": [
        "pairs.country_1.value_counts()"
      ],
      "metadata": {
        "colab": {
          "base_uri": "https://localhost:8080/"
        },
        "id": "iHG_tAXjn7xb",
        "outputId": "72803213-64c8-430c-ce0e-307d0df1f2ab"
      },
      "execution_count": 155,
      "outputs": [
        {
          "output_type": "execute_result",
          "data": {
            "text/plain": [
              "US    117708\n",
              "Name: country_1, dtype: int64"
            ]
          },
          "metadata": {},
          "execution_count": 155
        }
      ]
    },
    {
      "cell_type": "code",
      "source": [
        "len(pairs.loc[(pairs.country_1=='NZ') & (pairs.location_diff<0.001)])"
      ],
      "metadata": {
        "colab": {
          "base_uri": "https://localhost:8080/"
        },
        "id": "qk6xQvWnkD46",
        "outputId": "d595da59-7813-4a11-e61b-5091e502f5bc"
      },
      "execution_count": 156,
      "outputs": [
        {
          "output_type": "execute_result",
          "data": {
            "text/plain": [
              "0"
            ]
          },
          "metadata": {},
          "execution_count": 156
        }
      ]
    },
    {
      "cell_type": "code",
      "source": [
        "sns.stripplot(x=\"match\", y=\"location_diff\", data=pairs.loc[pairs.location_diff<0.001])\n",
        "plt.show()"
      ],
      "metadata": {
        "colab": {
          "base_uri": "https://localhost:8080/",
          "height": 279
        },
        "id": "wCHMVs33nL6-",
        "outputId": "b9482acd-a70b-4e08-bf73-7185cf68b6bb"
      },
      "execution_count": 159,
      "outputs": [
        {
          "output_type": "display_data",
          "data": {
            "text/plain": [
              "<Figure size 432x288 with 1 Axes>"
            ],
            "image/png": "[encoded data removed]"
          },
          "metadata": {
            "needs_background": "light"
          }
        }
      ]
    },
    {
      "cell_type": "code",
      "source": [
        "print('There are',len(pairs.loc[(pairs.location_diff==0) & (pairs.match==False)]),'pairs with location_diff=0 but different POIs, out of all',len(pairs),'pairs.')"
      ],
      "metadata": {
        "colab": {
          "base_uri": "https://localhost:8080/"
        },
        "id": "6DlOAlWhhQHM",
        "outputId": "c3258f5a-a7ae-45be-d5dc-4cfe7b46b160"
      },
      "execution_count": 160,
      "outputs": [
        {
          "output_type": "stream",
          "name": "stdout",
          "text": [
            "There are 146 pairs with location_diff=0 but different POIs, out of all 117708 pairs.\n"
          ]
        }
      ]
    },
    {
      "cell_type": "code",
      "source": [
        "pairs.columns"
      ],
      "metadata": {
        "colab": {
          "base_uri": "https://localhost:8080/"
        },
        "id": "MWVHIXxYMIil",
        "outputId": "e98e820b-bb6c-44ba-b08b-1a71cf06e9f4"
      },
      "execution_count": 283,
      "outputs": [
        {
          "output_type": "execute_result",
          "data": {
            "text/plain": [
              "Index(['id_1', 'name_1', 'latitude_1', 'longitude_1', 'address_1', 'city_1',\n",
              "       'state_1', 'zip_1', 'country_1', 'url_1', 'phone_1', 'categories_1',\n",
              "       'id_2', 'name_2', 'latitude_2', 'longitude_2', 'address_2', 'city_2',\n",
              "       'state_2', 'zip_2', 'country_2', 'url_2', 'phone_2', 'categories_2',\n",
              "       'match', 'location_diff', 'name_diff', 'address_diff', 'city_diff',\n",
              "       'zip_diff', 'state_diff', 'country_diff', 'url_diff', 'phone_diff',\n",
              "       'categories_diff'],\n",
              "      dtype='object')"
            ]
          },
          "metadata": {},
          "execution_count": 283
        }
      ]
    },
    {
      "cell_type": "markdown",
      "source": [
        "## Comparing strings\n",
        "\n",
        "Most columns in this data are strings. We consider different metrics for string comparison."
      ],
      "metadata": {
        "id": "iDLtD8Zas9ev"
      }
    },
    {
      "cell_type": "code",
      "source": [
        "def compute_diffs(df, cols, string_metric):\n",
        "    df_copy = df\n",
        "    for col in cols:\n",
        "        df_copy[col+'_diff'] = df.apply(string_metric,\n",
        "                          args=(col+'_1', col+'_2'),\n",
        "                          axis=1)\n",
        "    return df_copy[ ['id_1','id_2','match']+['location_diff']+ [col+'_diff' for col in cols] ]"
      ],
      "metadata": {
        "id": "fr8QOlnTrmzv"
      },
      "execution_count": 284,
      "outputs": []
    },
    {
      "cell_type": "markdown",
      "source": [
        "# SequenceMatcher"
      ],
      "metadata": {
        "id": "sGlYnyTbty5K"
      }
    },
    {
      "cell_type": "code",
      "source": [
        "from difflib import SequenceMatcher\n",
        "import math\n",
        "# Reference: https://stackoverflow.com/questions/43916271/python-pandas-sequencematch-columns-for-each-value-and-return-closet-match\n",
        "\n",
        "def seq_metric(df, col1, col2):\n",
        "    a = df[col1]\n",
        "    b = df[col2]\n",
        "    \n",
        "    if type(a)!=str or type(b)!=str:\n",
        "        return -1\n",
        "    else:\n",
        "        a = a.lower().replace(\" \", \"\").replace(\"'\", \"\")\n",
        "        b = b.lower().replace(\" \", \"\").replace(\"'\", \"\")\n",
        "        \n",
        "    return 1-SequenceMatcher(None, a, b).ratio()"
      ],
      "metadata": {
        "id": "xTKecP6ZuAYd"
      },
      "execution_count": 285,
      "outputs": []
    },
    {
      "cell_type": "code",
      "source": [
        "columns = ['name', 'address', 'city', #'state',\n",
        "       'zip', 'url', 'phone', 'categories']\n",
        "       \n",
        "pairs_seq = compute_diffs(pairs, columns, seq_metric)"
      ],
      "metadata": {
        "id": "U8vKJY6ZsbH9"
      },
      "execution_count": 286,
      "outputs": []
    },
    {
      "cell_type": "markdown",
      "source": [
        "### Histogram"
      ],
      "metadata": {
        "id": "KJ9Uw4Y26N0K"
      }
    },
    {
      "cell_type": "code",
      "source": [
        "## histograms\n",
        "for column in ['location_diff','name_diff','address_diff','city_diff','zip_diff','url_diff', 'phone_diff', 'categories_diff']:\n",
        "    plt.figure(figsize=(14,4))\n",
        "    plt.hist(pairs_seq.loc[(pairs_seq.match==True)&(pairs_seq.location_diff<1), column], color='b', label=\"True\")\n",
        "    plt.hist(pairs_seq.loc[(pairs_seq.match==False)&(pairs_seq.location_diff<1), column], color='r', label=\"False\")\n",
        "    plt.legend(fontsize=14)\n",
        "    plt.title(column,fontsize=16)\n",
        "    plt.show()"
      ],
      "metadata": {
        "colab": {
          "base_uri": "https://localhost:8080/",
          "height": 1000
        },
        "id": "1QVl771m54fH",
        "outputId": "537375b6-5ac1-4921-ffae-0b7140ee810a"
      },
      "execution_count": 287,
      "outputs": [
        {
          "output_type": "display_data",
          "data": {
            "text/plain": [
              "<Figure size 1008x288 with 1 Axes>"
            ],
            "image/png": "[encoded data removed]"
          },
          "metadata": {
            "needs_background": "light"
          }
        },
        {
          "output_type": "display_data",
          "data": {
            "text/plain": [
              "<Figure size 1008x288 with 1 Axes>"
            ],
            "image/png": "[encoded data removed]"
          },
          "metadata": {
            "needs_background": "light"
          }
        },
        {
          "output_type": "display_data",
          "data": {
            "text/plain": [
              "<Figure size 1008x288 with 1 Axes>"
            ],
            "image/png": "[encoded data removed]"
          },
          "metadata": {
            "needs_background": "light"
          }
        },
        {
          "output_type": "display_data",
          "data": {
            "text/plain": [
              "<Figure size 1008x288 with 1 Axes>"
            ],
            "image/png": "[encoded data removed]"
          },
          "metadata": {
            "needs_background": "light"
          }
        },
        {
          "output_type": "display_data",
          "data": {
            "text/plain": [
              "<Figure size 1008x288 with 1 Axes>"
            ],
            "image/png": "[encoded data removed]"
          },
          "metadata": {
            "needs_background": "light"
          }
        },
        {
          "output_type": "display_data",
          "data": {
            "text/plain": [
              "<Figure size 1008x288 with 1 Axes>"
            ],
            "image/png": "[encoded data removed]"
          },
          "metadata": {
            "needs_background": "light"
          }
        },
        {
          "output_type": "display_data",
          "data": {
            "text/plain": [
              "<Figure size 1008x288 with 1 Axes>"
            ],
            "image/png": "[encoded data removed]"
          },
          "metadata": {
            "needs_background": "light"
          }
        },
        {
          "output_type": "display_data",
          "data": {
            "text/plain": [
              "<Figure size 1008x288 with 1 Axes>"
            ],
            "image/png": "[encoded data removed]"
          },
          "metadata": {
            "needs_background": "light"
          }
        }
      ]
    },
    {
      "cell_type": "markdown",
      "source": [
        "## Logistic regression"
      ],
      "metadata": {
        "id": "06Jb467Xixcx"
      }
    },
    {
      "cell_type": "code",
      "source": [
        "cols = ['location_diff','name_diff','address_diff','city_diff','zip_diff','url_diff', 'phone_diff', 'categories_diff']\n",
        "\n",
        "columns = [ cols[1:i+2] for i in range(len(cols)-1)]\n",
        "\n",
        "scores=[]\n",
        "\n",
        "for cols in columns:\n",
        "    pairs_copy=pairs_seq[['match']+cols]\n",
        "\n",
        "    train,test=train_test_split(pairs_copy, test_size=.2, random_state=0)\n",
        "\n",
        "    X_train = train[cols]\n",
        "    X_test = test[cols]\n",
        "\n",
        "    y_train = train['match']\n",
        "    y_test = test['match']\n",
        "\n",
        "    lreg = LogisticRegression()\n",
        "    lreg.fit(X_train,y_train)\n",
        "\n",
        "    y_pred = lreg.predict(X_test)\n",
        "\n",
        "    confusion_matrix(y_test,y_pred)\n",
        "    scores.append(roc_auc_score(y_test,y_pred))\n",
        "\n",
        "print(scores)"
      ],
      "metadata": {
        "colab": {
          "base_uri": "https://localhost:8080/"
        },
        "id": "0w7ExUYDmPvN",
        "outputId": "6807b5bc-3494-4ada-e5b1-7cd1902c252f"
      },
      "execution_count": 288,
      "outputs": [
        {
          "output_type": "stream",
          "name": "stdout",
          "text": [
            "[0.5829470534457306, 0.5941154061908662, 0.5944947963348373, 0.5959446320062841, 0.5957718894181423, 0.5944024930140148, 0.6302253379825387]\n"
          ]
        }
      ]
    },
    {
      "cell_type": "code",
      "source": [
        "print('The percentage of true matches is',\"{:.2%}\".format(pairs.match.value_counts()[1]/len(pairs)))"
      ],
      "metadata": {
        "colab": {
          "base_uri": "https://localhost:8080/"
        },
        "id": "Dt68B_XAqNbu",
        "outputId": "10ec01d6-7963-47b4-ccc0-af9d8cbf3c2a"
      },
      "execution_count": 289,
      "outputs": [
        {
          "output_type": "stream",
          "name": "stdout",
          "text": [
            "The percentage of true matches is 71.88%\n"
          ]
        }
      ]
    },
    {
      "cell_type": "markdown",
      "source": [
        "# Levenshtein distance"
      ],
      "metadata": {
        "id": "TVUqwx1-CaEA"
      }
    },
    {
      "cell_type": "code",
      "source": [
        "!pip install python-Levenshtein"
      ],
      "metadata": {
        "id": "mse587e1CdOC"
      },
      "execution_count": null,
      "outputs": []
    },
    {
      "cell_type": "code",
      "source": [
        "from Levenshtein import distance as lev\n",
        "def lev_metric(df, col1, col2):\n",
        "    a = df[col1]\n",
        "    b = df[col2]\n",
        "    \n",
        "    if type(a)!=str or type(b)!=str:\n",
        "        return -1\n",
        "    else:\n",
        "        a = a.lower().replace(\" \", \"\").replace(\"'\", \"\")\n",
        "        b = b.lower().replace(\" \", \"\").replace(\"'\", \"\")\n",
        "    #if a in b or b in a: \n",
        "    #    return 0\n",
        "    return lev(a,b)/max(len(a),len(b))"
      ],
      "metadata": {
        "id": "CofuDKTZCkoo"
      },
      "execution_count": 291,
      "outputs": []
    },
    {
      "cell_type": "code",
      "source": [
        "columns = ['name', 'address', 'city', 'state', 'zip', 'url', 'phone', 'categories']\n",
        "       \n",
        "pairs_lev = compute_diffs(pairs, columns, lev_metric)"
      ],
      "metadata": {
        "id": "fxsUFKlKC7si"
      },
      "execution_count": 292,
      "outputs": []
    },
    {
      "cell_type": "markdown",
      "source": [
        "### Histogram"
      ],
      "metadata": {
        "id": "SG4D3Vn7FoWV"
      }
    },
    {
      "cell_type": "code",
      "source": [
        "## histograms\n",
        "for column in ['location_diff','name_diff','address_diff','city_diff','zip_diff','url_diff', 'phone_diff', 'categories_diff']:\n",
        "    plt.figure(figsize=(14,4))\n",
        "    plt.hist(pairs_lev.loc[(pairs_lev.match==True)&(pairs_lev.location_diff<1), column], color='b', label=\"True\")\n",
        "    plt.hist(pairs_lev.loc[(pairs_lev.match==False)&(pairs_lev.location_diff<1), column], color='r', label=\"False\")\n",
        "    plt.legend(fontsize=14)\n",
        "    plt.title(column,fontsize=16)\n",
        "    plt.show()"
      ],
      "metadata": {
        "colab": {
          "base_uri": "https://localhost:8080/",
          "height": 1000
        },
        "id": "WkyTHNstDoQk",
        "outputId": "617f80a0-4b5a-4945-bee1-01bd9253e09f"
      },
      "execution_count": 293,
      "outputs": [
        {
          "output_type": "display_data",
          "data": {
            "text/plain": [
              "<Figure size 1008x288 with 1 Axes>"
            ],
            "image/png": "[encoded data removed]"
          },
          "metadata": {
            "needs_background": "light"
          }
        },
        {
          "output_type": "display_data",
          "data": {
            "text/plain": [
              "<Figure size 1008x288 with 1 Axes>"
            ],
            "image/png": "[encoded data removed]"
          },
          "metadata": {
            "needs_background": "light"
          }
        },
        {
          "output_type": "display_data",
          "data": {
            "text/plain": [
              "<Figure size 1008x288 with 1 Axes>"
            ],
            "image/png": "[encoded data removed]"
          },
          "metadata": {
            "needs_background": "light"
          }
        },
        {
          "output_type": "display_data",
          "data": {
            "text/plain": [
              "<Figure size 1008x288 with 1 Axes>"
            ],
            "image/png": "[encoded data removed]"
          },
          "metadata": {
            "needs_background": "light"
          }
        },
        {
          "output_type": "display_data",
          "data": {
            "text/plain": [
              "<Figure size 1008x288 with 1 Axes>"
            ],
            "image/png": "[encoded data removed]"
          },
          "metadata": {
            "needs_background": "light"
          }
        },
        {
          "output_type": "display_data",
          "data": {
            "text/plain": [
              "<Figure size 1008x288 with 1 Axes>"
            ],
            "image/png": "[encoded data removed]"
          },
          "metadata": {
            "needs_background": "light"
          }
        },
        {
          "output_type": "display_data",
          "data": {
            "text/plain": [
              "<Figure size 1008x288 with 1 Axes>"
            ],
            "image/png": "[encoded data removed]"
          },
          "metadata": {
            "needs_background": "light"
          }
        },
        {
          "output_type": "display_data",
          "data": {
            "text/plain": [
              "<Figure size 1008x288 with 1 Axes>"
            ],
            "image/png": "[encoded data removed]"
          },
          "metadata": {
            "needs_background": "light"
          }
        }
      ]
    },
    {
      "cell_type": "code",
      "source": [
        "cols = ['location_diff','name_diff','address_diff','city_diff','zip_diff','url_diff', 'phone_diff', 'categories_diff']\n",
        "cols[:len(cols)]"
      ],
      "metadata": {
        "colab": {
          "base_uri": "https://localhost:8080/"
        },
        "id": "5XU6VXx0HsNq",
        "outputId": "f07f5e33-f3cd-413c-f63b-2d90f76b6759"
      },
      "execution_count": 294,
      "outputs": [
        {
          "output_type": "execute_result",
          "data": {
            "text/plain": [
              "['location_diff',\n",
              " 'name_diff',\n",
              " 'address_diff',\n",
              " 'city_diff',\n",
              " 'zip_diff',\n",
              " 'url_diff',\n",
              " 'phone_diff',\n",
              " 'categories_diff']"
            ]
          },
          "metadata": {},
          "execution_count": 294
        }
      ]
    },
    {
      "cell_type": "markdown",
      "source": [
        "## Logistic regression"
      ],
      "metadata": {
        "id": "Bo3PmUV7FzDB"
      }
    },
    {
      "cell_type": "code",
      "source": [
        "cols = ['location_diff','name_diff','address_diff','city_diff','zip_diff','url_diff', 'phone_diff', 'categories_diff']\n",
        "\n",
        "columns = [ cols[1:i+2] for i in range(len(cols)-1)]\n",
        "\n",
        "scores=[]\n",
        "for cols in columns:\n",
        "    pairs_copy=pairs_lev[['match']+cols]\n",
        "\n",
        "    train,test=train_test_split(pairs_copy, test_size=.2, random_state=0)\n",
        "\n",
        "    X_train = train[cols]\n",
        "    X_test = test[cols]\n",
        "\n",
        "    y_train = train['match']\n",
        "    y_test = test['match']\n",
        "\n",
        "    lreg = LogisticRegression(C=1)\n",
        "    lreg.fit(X_train,y_train)\n",
        "\n",
        "    y_pred = lreg.predict(X_test)\n",
        "\n",
        "    confusion_matrix(y_test,y_pred)\n",
        "    scores.append(roc_auc_score(y_test,y_pred))\n",
        "\n",
        "print(scores)"
      ],
      "metadata": {
        "colab": {
          "base_uri": "https://localhost:8080/"
        },
        "outputId": "1e030728-a88a-4b33-c1b7-44d15d30eed9",
        "id": "GLDHwd62FzDB"
      },
      "execution_count": 338,
      "outputs": [
        {
          "output_type": "stream",
          "name": "stdout",
          "text": [
            "[0.5726763186089913, 0.591725486370476, 0.5925178315023532, 0.5947179712198201, 0.5947771348513969, 0.588388111561414, 0.6270264606701792]\n"
          ]
        }
      ]
    },
    {
      "cell_type": "markdown",
      "source": [
        "## Threshoding location_diff"
      ],
      "metadata": {
        "id": "PUWWAUzmJkRQ"
      }
    },
    {
      "cell_type": "code",
      "source": [
        "name_thresh, address_thresh, location_thresh = 0.1,0.1,0.1\n",
        "cols = ['name_diff','location_diff', 'address_diff']\n",
        "\n",
        "df = pairs_lev.loc[(pairs_lev.name_diff<name_thresh)&(pairs_lev.address_diff<address_thresh)&(pairs_lev.location_diff<location_thresh)]\n",
        "\n",
        "fig,ax = plt.subplots(3,1, figsize=(10,8), sharex=True)\n",
        "\n",
        "fig.suptitle('name_thresh, address_thresh, location_thresh are 0.1, 0.1, 0.1')\n",
        "\n",
        "for i in range(len(cols)):\n",
        "    sns.stripplot(x=\"match\", y=cols[i], data=df, ax=ax[i])\n",
        "\n",
        "plt.show()\n",
        "\n",
        "df.match.value_counts()/len(df), len(df)/len(pairs_lev)"
      ],
      "metadata": {
        "colab": {
          "base_uri": "https://localhost:8080/",
          "height": 609
        },
        "id": "26QJTrBSJwCT",
        "outputId": "2c1cfe2b-eaf4-40b9-e109-8b49379dca75"
      },
      "execution_count": 346,
      "outputs": [
        {
          "output_type": "display_data",
          "data": {
            "text/plain": [
              "<Figure size 720x576 with 3 Axes>"
            ],
            "image/png": "[encoded data removed]"
          },
          "metadata": {
            "needs_background": "light"
          }
        },
        {
          "output_type": "execute_result",
          "data": {
            "text/plain": [
              "(True     0.951418\n",
              " False    0.048582\n",
              " Name: match, dtype: float64, 0.26056002990450944)"
            ]
          },
          "metadata": {},
          "execution_count": 346
        }
      ]
    },
    {
      "cell_type": "code",
      "source": [
        "name_thresh, address_thresh, location_thresh = 0.8,0.8,0.8\n",
        "cols = ['name_diff','location_diff', 'address_diff']\n",
        "\n",
        "df = pairs_lev.loc[(pairs_lev.name_diff>name_thresh)&(pairs_lev.address_diff>address_thresh)&(pairs_lev.location_diff>location_thresh)]\n",
        "\n",
        "fig,ax = plt.subplots(3,1, figsize=(10,8), sharex=True)\n",
        "\n",
        "fig.suptitle('name_thresh, address_thresh, location_thresh are 0.1, 0.1, 0.1')\n",
        "\n",
        "for i in range(len(cols)):\n",
        "    sns.stripplot(x=\"match\", y=cols[i], data=df, ax=ax[i])\n",
        "\n",
        "plt.show()\n",
        "\n",
        "df.match.value_counts()/len(df)"
      ],
      "metadata": {
        "colab": {
          "base_uri": "https://localhost:8080/",
          "height": 609
        },
        "id": "0dMKn4zXgpxy",
        "outputId": "ee5368ef-b1ea-4c4f-f1ad-831ffe45e718"
      },
      "execution_count": 343,
      "outputs": [
        {
          "output_type": "display_data",
          "data": {
            "text/plain": [
              "<Figure size 720x576 with 3 Axes>"
            ],
            "image/png": "[encoded data removed]"
          },
          "metadata": {
            "needs_background": "light"
          }
        },
        {
          "output_type": "execute_result",
          "data": {
            "text/plain": [
              "False    0.769231\n",
              "True     0.230769\n",
              "Name: match, dtype: float64"
            ]
          },
          "metadata": {},
          "execution_count": 343
        }
      ]
    },
    {
      "cell_type": "code",
      "source": [
        "name_thresh, address_thresh, location_thresh = 0.5, 0.5, 0.5\n",
        "cols = ['name_diff','location_diff', 'address_diff']\n",
        "\n",
        "df = pairs_lev.loc[(pairs_lev.name_diff<name_thresh)&(pairs_lev.address_diff<address_thresh)&(pairs_lev.location_diff<location_thresh)]\n",
        "\n",
        "fig,ax = plt.subplots(3,1, figsize=(10,8), sharex=True)\n",
        "\n",
        "fig.suptitle('name_thresh, address_thresh, location_thresh are 0.5, 0.5, 0.5')\n",
        "\n",
        "for i in range(len(cols)):\n",
        "    sns.stripplot(x=\"match\", y=cols[i], data=df, ax=ax[i])\n",
        "\n",
        "plt.show()\n",
        "\n",
        "df.match.value_counts()/len(df)"
      ],
      "metadata": {
        "colab": {
          "base_uri": "https://localhost:8080/",
          "height": 609
        },
        "id": "Cnjh3_2lJhcC",
        "outputId": "c5615d21-cbe8-49d0-90ea-299790340dec"
      },
      "execution_count": 337,
      "outputs": [
        {
          "output_type": "display_data",
          "data": {
            "text/plain": [
              "<Figure size 720x576 with 3 Axes>"
            ],
            "image/png": "[encoded data removed]"
          },
          "metadata": {
            "needs_background": "light"
          }
        },
        {
          "output_type": "execute_result",
          "data": {
            "text/plain": [
              "True     0.832563\n",
              "False    0.167437\n",
              "Name: match, dtype: float64"
            ]
          },
          "metadata": {},
          "execution_count": 337
        }
      ]
    },
    {
      "cell_type": "code",
      "source": [
        ""
      ],
      "metadata": {
        "colab": {
          "base_uri": "https://localhost:8080/"
        },
        "id": "W9pAUIsLKEZM",
        "outputId": "0c19e087-14f1-425e-e562-3cdc50b413dd"
      },
      "execution_count": 319,
      "outputs": [
        {
          "output_type": "execute_result",
          "data": {
            "text/plain": [
              "True     0.832563\n",
              "False    0.167437\n",
              "Name: match, dtype: float64"
            ]
          },
          "metadata": {},
          "execution_count": 319
        }
      ]
    },
    {
      "cell_type": "code",
      "source": [
        "pairs.loc[pairs.id_1=='E_00efc97ecd2a98'].values"
      ],
      "metadata": {
        "colab": {
          "base_uri": "https://localhost:8080/"
        },
        "id": "5o_1r7nGKyi1",
        "outputId": "b334732e-976e-451b-e23f-4bf80160bc96"
      },
      "execution_count": 300,
      "outputs": [
        {
          "output_type": "execute_result",
          "data": {
            "text/plain": [
              "array([['E_00efc97ecd2a98', 'Greek From Greece', 40.75195022641434,\n",
              "        -73.99019108026202, nan, 'New York', 'NY', '10018', 'US', nan,\n",
              "        nan, 'Greek Restaurants', 'E_b213a99b54954a',\n",
              "        'Greek From Greece', 40.759575, -73.989365, '45 W 45th St',\n",
              "        'New York', 'NY', '10036', 'US', nan, nan, 'Cafés', False,\n",
              "        0.00762477358566116, 0.0, -1.0, 0.0, 0.4, 0.0, 0, -1.0, -1.0,\n",
              "        0.875]], dtype=object)"
            ]
          },
          "metadata": {},
          "execution_count": 300
        }
      ]
    },
    {
      "cell_type": "code",
      "source": [
        "len(pairs_lev)"
      ],
      "metadata": {
        "colab": {
          "base_uri": "https://localhost:8080/"
        },
        "id": "nr4s6wUaLGI6",
        "outputId": "5f8f0b5c-2e07-4c0a-8d37-c1f411357c9c"
      },
      "execution_count": 303,
      "outputs": [
        {
          "output_type": "execute_result",
          "data": {
            "text/plain": [
              "117708"
            ]
          },
          "metadata": {},
          "execution_count": 303
        }
      ]
    },
    {
      "cell_type": "markdown",
      "source": [
        "# cosine_similarity"
      ],
      "metadata": {
        "id": "WKefswk59_FO"
      }
    },
    {
      "cell_type": "code",
      "source": [
        "from sklearn.metrics.pairwise import cosine_similarity\n",
        "\n"
      ],
      "metadata": {
        "id": "G0TvudCPBKiu"
      },
      "execution_count": 195,
      "outputs": []
    },
    {
      "cell_type": "code",
      "source": [
        ""
      ],
      "metadata": {
        "id": "Drgn4xFYBKpA"
      },
      "execution_count": null,
      "outputs": []
    },
    {
      "cell_type": "markdown",
      "source": [
        "# Old notes"
      ],
      "metadata": {
        "id": "3S5QpYE-tkXp"
      }
    },
    {
      "cell_type": "markdown",
      "source": [
        "### Name\n",
        "\n",
        "---\n",
        "\n",
        "We compute the difference for names of each pair in `pairs.csv`. "
      ],
      "metadata": {
        "id": "dyq-Ele_tUdk"
      }
    },
    {
      "cell_type": "code",
      "source": [
        "pairs['name_diff'] = pairs.apply(sim_metric,\n",
        "                          args=('name_1', 'name_2'),\n",
        "                          axis=1)"
      ],
      "metadata": {
        "id": "I0MikHep2rW-"
      },
      "execution_count": 162,
      "outputs": []
    },
    {
      "cell_type": "code",
      "source": [
        "sns.stripplot(x=\"match\", y=\"name_diff\", data=pairs)\n",
        "plt.show()"
      ],
      "metadata": {
        "colab": {
          "base_uri": "https://localhost:8080/",
          "height": 279
        },
        "id": "9By4VxpsyqXo",
        "outputId": "27137714-af95-4e44-f0fd-1b40086da433"
      },
      "execution_count": 163,
      "outputs": [
        {
          "output_type": "display_data",
          "data": {
            "text/plain": [
              "<Figure size 432x288 with 1 Axes>"
            ],
            "image/png": "[encoded data removed]"
          },
          "metadata": {
            "needs_background": "light"
          }
        }
      ]
    },
    {
      "cell_type": "code",
      "source": [
        "sns.stripplot(x=\"match\", y=\"name_diff\", data=pairs.loc[pairs.name_diff<0.1])\n",
        "plt.show()"
      ],
      "metadata": {
        "colab": {
          "base_uri": "https://localhost:8080/",
          "height": 279
        },
        "id": "XImegvFXwQRw",
        "outputId": "16b16ff0-be6c-4b0d-acde-3ddc62d010a1"
      },
      "execution_count": 164,
      "outputs": [
        {
          "output_type": "display_data",
          "data": {
            "text/plain": [
              "<Figure size 432x288 with 1 Axes>"
            ],
            "image/png": "[encoded data removed]"
          },
          "metadata": {
            "needs_background": "light"
          }
        }
      ]
    },
    {
      "cell_type": "code",
      "source": [
        "pairs.loc[(pairs.location_diff<0.01)&(pairs.name_diff==0)&(pairs.match==False)][['name_1','name_2']]"
      ],
      "metadata": {
        "colab": {
          "base_uri": "https://localhost:8080/",
          "height": 423
        },
        "id": "tReb11xB0XT4",
        "outputId": "f3b8186b-a507-4820-cdda-7204c1a07db9"
      },
      "execution_count": 165,
      "outputs": [
        {
          "output_type": "execute_result",
          "data": {
            "text/plain": [
              "                          name_1                    name_2\n",
              "702                 Panera Bread              Panera Bread\n",
              "755                    Starbucks                 Starbucks\n",
              "849                     Wingstop                  Wingstop\n",
              "1071             Bank of America           Bank of America\n",
              "1403                AT&T U-verse              AT&T U-verse\n",
              "...                          ...                       ...\n",
              "577660                   Dunkin'                   Dunkin'\n",
              "577867              Jimmy John's              Jimmy John's\n",
              "578340                 Starbucks                 Starbucks\n",
              "578407  XFINITY Store by Comcast  XFINITY Store by Comcast\n",
              "578607                      Cosi                      Cosi\n",
              "\n",
              "[2692 rows x 2 columns]"
            ],
            "text/html": [
              "\n",
              "  <div id=\"df-65453484-23f3-4c49-984e-aad6f5900c27\">\n",
              "    <div class=\"colab-df-container\">\n",
              "      <div>\n",
              "<style scoped>\n",
              "    .dataframe tbody tr th:only-of-type {\n",
              "        vertical-align: middle;\n",
              "    }\n",
              "\n",
              "    .dataframe tbody tr th {\n",
              "        vertical-align: top;\n",
              "    }\n",
              "\n",
              "    .dataframe thead th {\n",
              "        text-align: right;\n",
              "    }\n",
              "</style>\n",
              "<table border=\"1\" class=\"dataframe\">\n",
              "  <thead>\n",
              "    <tr style=\"text-align: right;\">\n",
              "      <th></th>\n",
              "      <th>name_1</th>\n",
              "      <th>name_2</th>\n",
              "    </tr>\n",
              "  </thead>\n",
              "  <tbody>\n",
              "    <tr>\n",
              "      <th>702</th>\n",
              "      <td>Panera Bread</td>\n",
              "      <td>Panera Bread</td>\n",
              "    </tr>\n",
              "    <tr>\n",
              "      <th>755</th>\n",
              "      <td>Starbucks</td>\n",
              "      <td>Starbucks</td>\n",
              "    </tr>\n",
              "    <tr>\n",
              "      <th>849</th>\n",
              "      <td>Wingstop</td>\n",
              "      <td>Wingstop</td>\n",
              "    </tr>\n",
              "    <tr>\n",
              "      <th>1071</th>\n",
              "      <td>Bank of America</td>\n",
              "      <td>Bank of America</td>\n",
              "    </tr>\n",
              "    <tr>\n",
              "      <th>1403</th>\n",
              "      <td>AT&amp;T U-verse</td>\n",
              "      <td>AT&amp;T U-verse</td>\n",
              "    </tr>\n",
              "    <tr>\n",
              "      <th>...</th>\n",
              "      <td>...</td>\n",
              "      <td>...</td>\n",
              "    </tr>\n",
              "    <tr>\n",
              "      <th>577660</th>\n",
              "      <td>Dunkin'</td>\n",
              "      <td>Dunkin'</td>\n",
              "    </tr>\n",
              "    <tr>\n",
              "      <th>577867</th>\n",
              "      <td>Jimmy John's</td>\n",
              "      <td>Jimmy John's</td>\n",
              "    </tr>\n",
              "    <tr>\n",
              "      <th>578340</th>\n",
              "      <td>Starbucks</td>\n",
              "      <td>Starbucks</td>\n",
              "    </tr>\n",
              "    <tr>\n",
              "      <th>578407</th>\n",
              "      <td>XFINITY Store by Comcast</td>\n",
              "      <td>XFINITY Store by Comcast</td>\n",
              "    </tr>\n",
              "    <tr>\n",
              "      <th>578607</th>\n",
              "      <td>Cosi</td>\n",
              "      <td>Cosi</td>\n",
              "    </tr>\n",
              "  </tbody>\n",
              "</table>\n",
              "<p>2692 rows × 2 columns</p>\n",
              "</div>\n",
              "      <button class=\"colab-df-convert\" onclick=\"convertToInteractive('df-65453484-23f3-4c49-984e-aad6f5900c27')\"\n",
              "              title=\"Convert this dataframe to an interactive table.\"\n",
              "              style=\"display:none;\">\n",
              "        \n",
              "  <svg xmlns=\"http://www.w3.org/2000/svg\" height=\"24px\"viewBox=\"0 0 24 24\"\n",
              "       width=\"24px\">\n",
              "    <path d=\"M0 0h24v24H0V0z\" fill=\"none\"/>\n",
              "    <path d=\"M18.56 5.44l.94 2.06.94-2.06 2.06-.94-2.06-.94-.94-2.06-.94 2.06-2.06.94zm-11 1L8.5 8.5l.94-2.06 2.06-.94-2.06-.94L8.5 2.5l-.94 2.06-2.06.94zm10 10l.94 2.06.94-2.06 2.06-.94-2.06-.94-.94-2.06-.94 2.06-2.06.94z\"/><path d=\"M17.41 7.96l-1.37-1.37c-.4-.4-.92-.59-1.43-.59-.52 0-1.04.2-1.43.59L10.3 9.45l-7.72 7.72c-.78.78-.78 2.05 0 2.83L4 21.41c.39.39.9.59 1.41.59.51 0 1.02-.2 1.41-.59l7.78-7.78 2.81-2.81c.8-.78.8-2.07 0-2.86zM5.41 20L4 18.59l7.72-7.72 1.47 1.35L5.41 20z\"/>\n",
              "  </svg>\n",
              "      </button>\n",
              "      \n",
              "  <style>\n",
              "    .colab-df-container {\n",
              "      display:flex;\n",
              "      flex-wrap:wrap;\n",
              "      gap: 12px;\n",
              "    }\n",
              "\n",
              "    .colab-df-convert {\n",
              "      background-color: #E8F0FE;\n",
              "      border: none;\n",
              "      border-radius: 50%;\n",
              "      cursor: pointer;\n",
              "      display: none;\n",
              "      fill: #1967D2;\n",
              "      height: 32px;\n",
              "      padding: 0 0 0 0;\n",
              "      width: 32px;\n",
              "    }\n",
              "\n",
              "    .colab-df-convert:hover {\n",
              "      background-color: #E2EBFA;\n",
              "      box-shadow: 0px 1px 2px rgba(60, 64, 67, 0.3), 0px 1px 3px 1px rgba(60, 64, 67, 0.15);\n",
              "      fill: #174EA6;\n",
              "    }\n",
              "\n",
              "    [theme=dark] .colab-df-convert {\n",
              "      background-color: #3B4455;\n",
              "      fill: #D2E3FC;\n",
              "    }\n",
              "\n",
              "    [theme=dark] .colab-df-convert:hover {\n",
              "      background-color: #434B5C;\n",
              "      box-shadow: 0px 1px 3px 1px rgba(0, 0, 0, 0.15);\n",
              "      filter: drop-shadow(0px 1px 2px rgba(0, 0, 0, 0.3));\n",
              "      fill: #FFFFFF;\n",
              "    }\n",
              "  </style>\n",
              "\n",
              "      <script>\n",
              "        const buttonEl =\n",
              "          document.querySelector('#df-65453484-23f3-4c49-984e-aad6f5900c27 button.colab-df-convert');\n",
              "        buttonEl.style.display =\n",
              "          google.colab.kernel.accessAllowed ? 'block' : 'none';\n",
              "\n",
              "        async function convertToInteractive(key) {\n",
              "          const element = document.querySelector('#df-65453484-23f3-4c49-984e-aad6f5900c27');\n",
              "          const dataTable =\n",
              "            await google.colab.kernel.invokeFunction('convertToInteractive',\n",
              "                                                     [key], {});\n",
              "          if (!dataTable) return;\n",
              "\n",
              "          const docLinkHtml = 'Like what you see? Visit the ' +\n",
              "            '<a target=\"_blank\" href=https://colab.research.google.com/notebooks/data_table.ipynb>data table notebook</a>'\n",
              "            + ' to learn more about interactive tables.';\n",
              "          element.innerHTML = '';\n",
              "          dataTable['output_type'] = 'display_data';\n",
              "          await google.colab.output.renderOutput(dataTable, element);\n",
              "          const docLink = document.createElement('div');\n",
              "          docLink.innerHTML = docLinkHtml;\n",
              "          element.appendChild(docLink);\n",
              "        }\n",
              "      </script>\n",
              "    </div>\n",
              "  </div>\n",
              "  "
            ]
          },
          "metadata": {},
          "execution_count": 165
        }
      ]
    },
    {
      "cell_type": "markdown",
      "source": [
        "### Address"
      ],
      "metadata": {
        "id": "TNLatSS55NQ-"
      }
    },
    {
      "cell_type": "code",
      "source": [
        "pairs['address_diff'] = pairs.apply(sim_metric,\n",
        "                          args=('address_1', 'address_2'),\n",
        "                          axis=1)"
      ],
      "metadata": {
        "id": "DT6QUtHb3Btp"
      },
      "execution_count": 166,
      "outputs": []
    },
    {
      "cell_type": "code",
      "source": [
        "sns.stripplot(x=\"match\", y=\"address_diff\", data=pairs)\n",
        "plt.show()"
      ],
      "metadata": {
        "colab": {
          "base_uri": "https://localhost:8080/",
          "height": 279
        },
        "id": "gEyh32Hy5G3j",
        "outputId": "88462dc9-ac28-4cdb-8493-af382d7a5b89"
      },
      "execution_count": 167,
      "outputs": [
        {
          "output_type": "display_data",
          "data": {
            "text/plain": [
              "<Figure size 432x288 with 1 Axes>"
            ],
            "image/png": "[encoded data removed]"
          },
          "metadata": {
            "needs_background": "light"
          }
        }
      ]
    },
    {
      "cell_type": "code",
      "source": [
        "sns.stripplot(x=\"match\", y=\"address_diff\", data=pairs.loc[pairs.address_diff>=0])\n",
        "plt.show()"
      ],
      "metadata": {
        "colab": {
          "base_uri": "https://localhost:8080/",
          "height": 279
        },
        "id": "61qiJkbJ5VQT",
        "outputId": "e395f29c-ebbe-4e50-e8e9-8842ce96e9d8"
      },
      "execution_count": 168,
      "outputs": [
        {
          "output_type": "display_data",
          "data": {
            "text/plain": [
              "<Figure size 432x288 with 1 Axes>"
            ],
            "image/png": "[encoded data removed]"
          },
          "metadata": {
            "needs_background": "light"
          }
        }
      ]
    },
    {
      "cell_type": "code",
      "source": [
        "pairs.loc[(pairs.location_diff<0.01)&(pairs.name_diff<0.1)&(pairs.address_diff==0)&(pairs.match==False)&(pairs.country_1=='US')][['name_1','name_2','address_1','address_2']]"
      ],
      "metadata": {
        "colab": {
          "base_uri": "https://localhost:8080/",
          "height": 423
        },
        "id": "kBll3hel5SvN",
        "outputId": "9290cd2a-cc3c-4aac-d661-84dab1178ddb"
      },
      "execution_count": 169,
      "outputs": [
        {
          "output_type": "execute_result",
          "data": {
            "text/plain": [
              "                                      name_1  \\\n",
              "532          Parkview High School Building H   \n",
              "2526      Sprague Lake Rest Area (Westbound)   \n",
              "5315                             Section 304   \n",
              "5316                             Section 304   \n",
              "6259                Facebook 1050 Building 2   \n",
              "...                                      ...   \n",
              "571522               Conference Room HS 2007   \n",
              "572791   Mann Center for the Performing Arts   \n",
              "575350   Pozez Education Center Centennial D   \n",
              "576064  UCF Business Administration II (BA2)   \n",
              "578153        Gym @ Spinnaker Bay Apartments   \n",
              "\n",
              "                                            name_2  \\\n",
              "532                Parkview High School Building C   \n",
              "2526            Sprague Lake Rest Area (Eastbound)   \n",
              "5315                                   Section 305   \n",
              "5316                                   Section 308   \n",
              "6259                      Facebook 1050 Building 1   \n",
              "...                                            ...   \n",
              "571522                     Conference Room HS 2038   \n",
              "572791  Mann Center for the Performing Arts D Gate   \n",
              "575350         Pozez Education Center Centennial A   \n",
              "576064         UCF Business Administration I (BA1)   \n",
              "578153                    Spinnaker Bay Apartments   \n",
              "\n",
              "                                                address_1  \\\n",
              "532                        998 Cole Dr, Lilburn, GA 30047   \n",
              "2526                                        Interstate 90   \n",
              "5315                                       KeyBank Center   \n",
              "5316                                       KeyBank Center   \n",
              "6259                                    1050 Page Mill Rd   \n",
              "...                                                   ...   \n",
              "571522  Health Information and Translational Science (HS)   \n",
              "572791                                  5201 Parkside Ave   \n",
              "575350                                    1505 SW 8th Ave   \n",
              "576064                          4000 Central Florida Blvd   \n",
              "578153                                   707 President St   \n",
              "\n",
              "                                                address_2  \n",
              "532                        998 Cole Dr, Lilburn, GA 30047  \n",
              "2526                                        Interstate 90  \n",
              "5315                                       KeyBank Center  \n",
              "5316                                       KeyBank Center  \n",
              "6259                                    1050 Page Mill Rd  \n",
              "...                                                   ...  \n",
              "571522  Health Information and Translational Science (HS)  \n",
              "572791                                  5201 Parkside Ave  \n",
              "575350                                    1505 SW 8th Ave  \n",
              "576064                          4000 Central Florida Blvd  \n",
              "578153                                   707 President St  \n",
              "\n",
              "[375 rows x 4 columns]"
            ],
            "text/html": [
              "\n",
              "  <div id=\"df-2cccc353-c64b-4dc5-afbe-16271c9f0223\">\n",
              "    <div class=\"colab-df-container\">\n",
              "      <div>\n",
              "<style scoped>\n",
              "    .dataframe tbody tr th:only-of-type {\n",
              "        vertical-align: middle;\n",
              "    }\n",
              "\n",
              "    .dataframe tbody tr th {\n",
              "        vertical-align: top;\n",
              "    }\n",
              "\n",
              "    .dataframe thead th {\n",
              "        text-align: right;\n",
              "    }\n",
              "</style>\n",
              "<table border=\"1\" class=\"dataframe\">\n",
              "  <thead>\n",
              "    <tr style=\"text-align: right;\">\n",
              "      <th></th>\n",
              "      <th>name_1</th>\n",
              "      <th>name_2</th>\n",
              "      <th>address_1</th>\n",
              "      <th>address_2</th>\n",
              "    </tr>\n",
              "  </thead>\n",
              "  <tbody>\n",
              "    <tr>\n",
              "      <th>532</th>\n",
              "      <td>Parkview High School Building H</td>\n",
              "      <td>Parkview High School Building C</td>\n",
              "      <td>998 Cole Dr, Lilburn, GA 30047</td>\n",
              "      <td>998 Cole Dr, Lilburn, GA 30047</td>\n",
              "    </tr>\n",
              "    <tr>\n",
              "      <th>2526</th>\n",
              "      <td>Sprague Lake Rest Area (Westbound)</td>\n",
              "      <td>Sprague Lake Rest Area (Eastbound)</td>\n",
              "      <td>Interstate 90</td>\n",
              "      <td>Interstate 90</td>\n",
              "    </tr>\n",
              "    <tr>\n",
              "      <th>5315</th>\n",
              "      <td>Section 304</td>\n",
              "      <td>Section 305</td>\n",
              "      <td>KeyBank Center</td>\n",
              "      <td>KeyBank Center</td>\n",
              "    </tr>\n",
              "    <tr>\n",
              "      <th>5316</th>\n",
              "      <td>Section 304</td>\n",
              "      <td>Section 308</td>\n",
              "      <td>KeyBank Center</td>\n",
              "      <td>KeyBank Center</td>\n",
              "    </tr>\n",
              "    <tr>\n",
              "      <th>6259</th>\n",
              "      <td>Facebook 1050 Building 2</td>\n",
              "      <td>Facebook 1050 Building 1</td>\n",
              "      <td>1050 Page Mill Rd</td>\n",
              "      <td>1050 Page Mill Rd</td>\n",
              "    </tr>\n",
              "    <tr>\n",
              "      <th>...</th>\n",
              "      <td>...</td>\n",
              "      <td>...</td>\n",
              "      <td>...</td>\n",
              "      <td>...</td>\n",
              "    </tr>\n",
              "    <tr>\n",
              "      <th>571522</th>\n",
              "      <td>Conference Room HS 2007</td>\n",
              "      <td>Conference Room HS 2038</td>\n",
              "      <td>Health Information and Translational Science (HS)</td>\n",
              "      <td>Health Information and Translational Science (HS)</td>\n",
              "    </tr>\n",
              "    <tr>\n",
              "      <th>572791</th>\n",
              "      <td>Mann Center for the Performing Arts</td>\n",
              "      <td>Mann Center for the Performing Arts D Gate</td>\n",
              "      <td>5201 Parkside Ave</td>\n",
              "      <td>5201 Parkside Ave</td>\n",
              "    </tr>\n",
              "    <tr>\n",
              "      <th>575350</th>\n",
              "      <td>Pozez Education Center Centennial D</td>\n",
              "      <td>Pozez Education Center Centennial A</td>\n",
              "      <td>1505 SW 8th Ave</td>\n",
              "      <td>1505 SW 8th Ave</td>\n",
              "    </tr>\n",
              "    <tr>\n",
              "      <th>576064</th>\n",
              "      <td>UCF Business Administration II (BA2)</td>\n",
              "      <td>UCF Business Administration I (BA1)</td>\n",
              "      <td>4000 Central Florida Blvd</td>\n",
              "      <td>4000 Central Florida Blvd</td>\n",
              "    </tr>\n",
              "    <tr>\n",
              "      <th>578153</th>\n",
              "      <td>Gym @ Spinnaker Bay Apartments</td>\n",
              "      <td>Spinnaker Bay Apartments</td>\n",
              "      <td>707 President St</td>\n",
              "      <td>707 President St</td>\n",
              "    </tr>\n",
              "  </tbody>\n",
              "</table>\n",
              "<p>375 rows × 4 columns</p>\n",
              "</div>\n",
              "      <button class=\"colab-df-convert\" onclick=\"convertToInteractive('df-2cccc353-c64b-4dc5-afbe-16271c9f0223')\"\n",
              "              title=\"Convert this dataframe to an interactive table.\"\n",
              "              style=\"display:none;\">\n",
              "        \n",
              "  <svg xmlns=\"http://www.w3.org/2000/svg\" height=\"24px\"viewBox=\"0 0 24 24\"\n",
              "       width=\"24px\">\n",
              "    <path d=\"M0 0h24v24H0V0z\" fill=\"none\"/>\n",
              "    <path d=\"M18.56 5.44l.94 2.06.94-2.06 2.06-.94-2.06-.94-.94-2.06-.94 2.06-2.06.94zm-11 1L8.5 8.5l.94-2.06 2.06-.94-2.06-.94L8.5 2.5l-.94 2.06-2.06.94zm10 10l.94 2.06.94-2.06 2.06-.94-2.06-.94-.94-2.06-.94 2.06-2.06.94z\"/><path d=\"M17.41 7.96l-1.37-1.37c-.4-.4-.92-.59-1.43-.59-.52 0-1.04.2-1.43.59L10.3 9.45l-7.72 7.72c-.78.78-.78 2.05 0 2.83L4 21.41c.39.39.9.59 1.41.59.51 0 1.02-.2 1.41-.59l7.78-7.78 2.81-2.81c.8-.78.8-2.07 0-2.86zM5.41 20L4 18.59l7.72-7.72 1.47 1.35L5.41 20z\"/>\n",
              "  </svg>\n",
              "      </button>\n",
              "      \n",
              "  <style>\n",
              "    .colab-df-container {\n",
              "      display:flex;\n",
              "      flex-wrap:wrap;\n",
              "      gap: 12px;\n",
              "    }\n",
              "\n",
              "    .colab-df-convert {\n",
              "      background-color: #E8F0FE;\n",
              "      border: none;\n",
              "      border-radius: 50%;\n",
              "      cursor: pointer;\n",
              "      display: none;\n",
              "      fill: #1967D2;\n",
              "      height: 32px;\n",
              "      padding: 0 0 0 0;\n",
              "      width: 32px;\n",
              "    }\n",
              "\n",
              "    .colab-df-convert:hover {\n",
              "      background-color: #E2EBFA;\n",
              "      box-shadow: 0px 1px 2px rgba(60, 64, 67, 0.3), 0px 1px 3px 1px rgba(60, 64, 67, 0.15);\n",
              "      fill: #174EA6;\n",
              "    }\n",
              "\n",
              "    [theme=dark] .colab-df-convert {\n",
              "      background-color: #3B4455;\n",
              "      fill: #D2E3FC;\n",
              "    }\n",
              "\n",
              "    [theme=dark] .colab-df-convert:hover {\n",
              "      background-color: #434B5C;\n",
              "      box-shadow: 0px 1px 3px 1px rgba(0, 0, 0, 0.15);\n",
              "      filter: drop-shadow(0px 1px 2px rgba(0, 0, 0, 0.3));\n",
              "      fill: #FFFFFF;\n",
              "    }\n",
              "  </style>\n",
              "\n",
              "      <script>\n",
              "        const buttonEl =\n",
              "          document.querySelector('#df-2cccc353-c64b-4dc5-afbe-16271c9f0223 button.colab-df-convert');\n",
              "        buttonEl.style.display =\n",
              "          google.colab.kernel.accessAllowed ? 'block' : 'none';\n",
              "\n",
              "        async function convertToInteractive(key) {\n",
              "          const element = document.querySelector('#df-2cccc353-c64b-4dc5-afbe-16271c9f0223');\n",
              "          const dataTable =\n",
              "            await google.colab.kernel.invokeFunction('convertToInteractive',\n",
              "                                                     [key], {});\n",
              "          if (!dataTable) return;\n",
              "\n",
              "          const docLinkHtml = 'Like what you see? Visit the ' +\n",
              "            '<a target=\"_blank\" href=https://colab.research.google.com/notebooks/data_table.ipynb>data table notebook</a>'\n",
              "            + ' to learn more about interactive tables.';\n",
              "          element.innerHTML = '';\n",
              "          dataTable['output_type'] = 'display_data';\n",
              "          await google.colab.output.renderOutput(dataTable, element);\n",
              "          const docLink = document.createElement('div');\n",
              "          docLink.innerHTML = docLinkHtml;\n",
              "          element.appendChild(docLink);\n",
              "        }\n",
              "      </script>\n",
              "    </div>\n",
              "  </div>\n",
              "  "
            ]
          },
          "metadata": {},
          "execution_count": 169
        }
      ]
    },
    {
      "cell_type": "code",
      "source": [
        "pairs.match.value_counts()"
      ],
      "metadata": {
        "colab": {
          "base_uri": "https://localhost:8080/"
        },
        "id": "eOBs8T7OK0JY",
        "outputId": "510c59ba-bc6f-4d7e-8935-3f8043dbc319"
      },
      "execution_count": 170,
      "outputs": [
        {
          "output_type": "execute_result",
          "data": {
            "text/plain": [
              "True     84611\n",
              "False    33097\n",
              "Name: match, dtype: int64"
            ]
          },
          "metadata": {},
          "execution_count": 170
        }
      ]
    },
    {
      "cell_type": "code",
      "source": [
        "pairs.loc[pairs.location_diff<1].match.value_counts()"
      ],
      "metadata": {
        "colab": {
          "base_uri": "https://localhost:8080/"
        },
        "id": "mzuSWES4KJHt",
        "outputId": "b4836357-b21a-466e-8cc2-e07cee4146d0"
      },
      "execution_count": 171,
      "outputs": [
        {
          "output_type": "execute_result",
          "data": {
            "text/plain": [
              "True     83822\n",
              "False    33006\n",
              "Name: match, dtype: int64"
            ]
          },
          "metadata": {},
          "execution_count": 171
        }
      ]
    },
    {
      "cell_type": "markdown",
      "source": [
        "### City"
      ],
      "metadata": {
        "id": "6pbFEc26581Z"
      }
    },
    {
      "cell_type": "code",
      "source": [
        "pairs['city_diff'] = pairs.apply(sim_metric,\n",
        "                          args=('city_1', 'city_2'),\n",
        "                          axis=1)"
      ],
      "metadata": {
        "id": "-Grf2BqZ6D6U"
      },
      "execution_count": 172,
      "outputs": []
    },
    {
      "cell_type": "code",
      "source": [
        "sns.stripplot(x=\"match\", y=\"city_diff\", data=pairs.loc[pairs.city_diff>=0])\n",
        "plt.show()"
      ],
      "metadata": {
        "colab": {
          "base_uri": "https://localhost:8080/",
          "height": 279
        },
        "id": "gsSp-XK26qtH",
        "outputId": "5240b608-4acd-4b9f-a737-0dc1a13d668d"
      },
      "execution_count": 173,
      "outputs": [
        {
          "output_type": "display_data",
          "data": {
            "text/plain": [
              "<Figure size 432x288 with 1 Axes>"
            ],
            "image/png": "[encoded data removed]"
          },
          "metadata": {
            "needs_background": "light"
          }
        }
      ]
    },
    {
      "cell_type": "code",
      "source": [
        "pairs.loc[(pairs.location_diff<0.01)&(pairs.name_diff<0.1)&(pairs.address_diff==0)&(pairs.city_diff==0)&(pairs.match==False)&(pairs.country_1=='US')][['name_1','name_2','address_1','address_2']]"
      ],
      "metadata": {
        "colab": {
          "base_uri": "https://localhost:8080/",
          "height": 423
        },
        "id": "SJmcI4MA7Sr_",
        "outputId": "02fc61a3-d294-4fe1-f25e-167be995884f"
      },
      "execution_count": 174,
      "outputs": [
        {
          "output_type": "execute_result",
          "data": {
            "text/plain": [
              "                                      name_1  \\\n",
              "532          Parkview High School Building H   \n",
              "2526      Sprague Lake Rest Area (Westbound)   \n",
              "5315                             Section 304   \n",
              "5316                             Section 304   \n",
              "6259                Facebook 1050 Building 2   \n",
              "...                                      ...   \n",
              "571522               Conference Room HS 2007   \n",
              "572791   Mann Center for the Performing Arts   \n",
              "575350   Pozez Education Center Centennial D   \n",
              "576064  UCF Business Administration II (BA2)   \n",
              "578153        Gym @ Spinnaker Bay Apartments   \n",
              "\n",
              "                                            name_2  \\\n",
              "532                Parkview High School Building C   \n",
              "2526            Sprague Lake Rest Area (Eastbound)   \n",
              "5315                                   Section 305   \n",
              "5316                                   Section 308   \n",
              "6259                      Facebook 1050 Building 1   \n",
              "...                                            ...   \n",
              "571522                     Conference Room HS 2038   \n",
              "572791  Mann Center for the Performing Arts D Gate   \n",
              "575350         Pozez Education Center Centennial A   \n",
              "576064         UCF Business Administration I (BA1)   \n",
              "578153                    Spinnaker Bay Apartments   \n",
              "\n",
              "                                                address_1  \\\n",
              "532                        998 Cole Dr, Lilburn, GA 30047   \n",
              "2526                                        Interstate 90   \n",
              "5315                                       KeyBank Center   \n",
              "5316                                       KeyBank Center   \n",
              "6259                                    1050 Page Mill Rd   \n",
              "...                                                   ...   \n",
              "571522  Health Information and Translational Science (HS)   \n",
              "572791                                  5201 Parkside Ave   \n",
              "575350                                    1505 SW 8th Ave   \n",
              "576064                          4000 Central Florida Blvd   \n",
              "578153                                   707 President St   \n",
              "\n",
              "                                                address_2  \n",
              "532                        998 Cole Dr, Lilburn, GA 30047  \n",
              "2526                                        Interstate 90  \n",
              "5315                                       KeyBank Center  \n",
              "5316                                       KeyBank Center  \n",
              "6259                                    1050 Page Mill Rd  \n",
              "...                                                   ...  \n",
              "571522  Health Information and Translational Science (HS)  \n",
              "572791                                  5201 Parkside Ave  \n",
              "575350                                    1505 SW 8th Ave  \n",
              "576064                          4000 Central Florida Blvd  \n",
              "578153                                   707 President St  \n",
              "\n",
              "[353 rows x 4 columns]"
            ],
            "text/html": [
              "\n",
              "  <div id=\"df-cf1c31fd-5726-4c20-8e64-3963de00e70e\">\n",
              "    <div class=\"colab-df-container\">\n",
              "      <div>\n",
              "<style scoped>\n",
              "    .dataframe tbody tr th:only-of-type {\n",
              "        vertical-align: middle;\n",
              "    }\n",
              "\n",
              "    .dataframe tbody tr th {\n",
              "        vertical-align: top;\n",
              "    }\n",
              "\n",
              "    .dataframe thead th {\n",
              "        text-align: right;\n",
              "    }\n",
              "</style>\n",
              "<table border=\"1\" class=\"dataframe\">\n",
              "  <thead>\n",
              "    <tr style=\"text-align: right;\">\n",
              "      <th></th>\n",
              "      <th>name_1</th>\n",
              "      <th>name_2</th>\n",
              "      <th>address_1</th>\n",
              "      <th>address_2</th>\n",
              "    </tr>\n",
              "  </thead>\n",
              "  <tbody>\n",
              "    <tr>\n",
              "      <th>532</th>\n",
              "      <td>Parkview High School Building H</td>\n",
              "      <td>Parkview High School Building C</td>\n",
              "      <td>998 Cole Dr, Lilburn, GA 30047</td>\n",
              "      <td>998 Cole Dr, Lilburn, GA 30047</td>\n",
              "    </tr>\n",
              "    <tr>\n",
              "      <th>2526</th>\n",
              "      <td>Sprague Lake Rest Area (Westbound)</td>\n",
              "      <td>Sprague Lake Rest Area (Eastbound)</td>\n",
              "      <td>Interstate 90</td>\n",
              "      <td>Interstate 90</td>\n",
              "    </tr>\n",
              "    <tr>\n",
              "      <th>5315</th>\n",
              "      <td>Section 304</td>\n",
              "      <td>Section 305</td>\n",
              "      <td>KeyBank Center</td>\n",
              "      <td>KeyBank Center</td>\n",
              "    </tr>\n",
              "    <tr>\n",
              "      <th>5316</th>\n",
              "      <td>Section 304</td>\n",
              "      <td>Section 308</td>\n",
              "      <td>KeyBank Center</td>\n",
              "      <td>KeyBank Center</td>\n",
              "    </tr>\n",
              "    <tr>\n",
              "      <th>6259</th>\n",
              "      <td>Facebook 1050 Building 2</td>\n",
              "      <td>Facebook 1050 Building 1</td>\n",
              "      <td>1050 Page Mill Rd</td>\n",
              "      <td>1050 Page Mill Rd</td>\n",
              "    </tr>\n",
              "    <tr>\n",
              "      <th>...</th>\n",
              "      <td>...</td>\n",
              "      <td>...</td>\n",
              "      <td>...</td>\n",
              "      <td>...</td>\n",
              "    </tr>\n",
              "    <tr>\n",
              "      <th>571522</th>\n",
              "      <td>Conference Room HS 2007</td>\n",
              "      <td>Conference Room HS 2038</td>\n",
              "      <td>Health Information and Translational Science (HS)</td>\n",
              "      <td>Health Information and Translational Science (HS)</td>\n",
              "    </tr>\n",
              "    <tr>\n",
              "      <th>572791</th>\n",
              "      <td>Mann Center for the Performing Arts</td>\n",
              "      <td>Mann Center for the Performing Arts D Gate</td>\n",
              "      <td>5201 Parkside Ave</td>\n",
              "      <td>5201 Parkside Ave</td>\n",
              "    </tr>\n",
              "    <tr>\n",
              "      <th>575350</th>\n",
              "      <td>Pozez Education Center Centennial D</td>\n",
              "      <td>Pozez Education Center Centennial A</td>\n",
              "      <td>1505 SW 8th Ave</td>\n",
              "      <td>1505 SW 8th Ave</td>\n",
              "    </tr>\n",
              "    <tr>\n",
              "      <th>576064</th>\n",
              "      <td>UCF Business Administration II (BA2)</td>\n",
              "      <td>UCF Business Administration I (BA1)</td>\n",
              "      <td>4000 Central Florida Blvd</td>\n",
              "      <td>4000 Central Florida Blvd</td>\n",
              "    </tr>\n",
              "    <tr>\n",
              "      <th>578153</th>\n",
              "      <td>Gym @ Spinnaker Bay Apartments</td>\n",
              "      <td>Spinnaker Bay Apartments</td>\n",
              "      <td>707 President St</td>\n",
              "      <td>707 President St</td>\n",
              "    </tr>\n",
              "  </tbody>\n",
              "</table>\n",
              "<p>353 rows × 4 columns</p>\n",
              "</div>\n",
              "      <button class=\"colab-df-convert\" onclick=\"convertToInteractive('df-cf1c31fd-5726-4c20-8e64-3963de00e70e')\"\n",
              "              title=\"Convert this dataframe to an interactive table.\"\n",
              "              style=\"display:none;\">\n",
              "        \n",
              "  <svg xmlns=\"http://www.w3.org/2000/svg\" height=\"24px\"viewBox=\"0 0 24 24\"\n",
              "       width=\"24px\">\n",
              "    <path d=\"M0 0h24v24H0V0z\" fill=\"none\"/>\n",
              "    <path d=\"M18.56 5.44l.94 2.06.94-2.06 2.06-.94-2.06-.94-.94-2.06-.94 2.06-2.06.94zm-11 1L8.5 8.5l.94-2.06 2.06-.94-2.06-.94L8.5 2.5l-.94 2.06-2.06.94zm10 10l.94 2.06.94-2.06 2.06-.94-2.06-.94-.94-2.06-.94 2.06-2.06.94z\"/><path d=\"M17.41 7.96l-1.37-1.37c-.4-.4-.92-.59-1.43-.59-.52 0-1.04.2-1.43.59L10.3 9.45l-7.72 7.72c-.78.78-.78 2.05 0 2.83L4 21.41c.39.39.9.59 1.41.59.51 0 1.02-.2 1.41-.59l7.78-7.78 2.81-2.81c.8-.78.8-2.07 0-2.86zM5.41 20L4 18.59l7.72-7.72 1.47 1.35L5.41 20z\"/>\n",
              "  </svg>\n",
              "      </button>\n",
              "      \n",
              "  <style>\n",
              "    .colab-df-container {\n",
              "      display:flex;\n",
              "      flex-wrap:wrap;\n",
              "      gap: 12px;\n",
              "    }\n",
              "\n",
              "    .colab-df-convert {\n",
              "      background-color: #E8F0FE;\n",
              "      border: none;\n",
              "      border-radius: 50%;\n",
              "      cursor: pointer;\n",
              "      display: none;\n",
              "      fill: #1967D2;\n",
              "      height: 32px;\n",
              "      padding: 0 0 0 0;\n",
              "      width: 32px;\n",
              "    }\n",
              "\n",
              "    .colab-df-convert:hover {\n",
              "      background-color: #E2EBFA;\n",
              "      box-shadow: 0px 1px 2px rgba(60, 64, 67, 0.3), 0px 1px 3px 1px rgba(60, 64, 67, 0.15);\n",
              "      fill: #174EA6;\n",
              "    }\n",
              "\n",
              "    [theme=dark] .colab-df-convert {\n",
              "      background-color: #3B4455;\n",
              "      fill: #D2E3FC;\n",
              "    }\n",
              "\n",
              "    [theme=dark] .colab-df-convert:hover {\n",
              "      background-color: #434B5C;\n",
              "      box-shadow: 0px 1px 3px 1px rgba(0, 0, 0, 0.15);\n",
              "      filter: drop-shadow(0px 1px 2px rgba(0, 0, 0, 0.3));\n",
              "      fill: #FFFFFF;\n",
              "    }\n",
              "  </style>\n",
              "\n",
              "      <script>\n",
              "        const buttonEl =\n",
              "          document.querySelector('#df-cf1c31fd-5726-4c20-8e64-3963de00e70e button.colab-df-convert');\n",
              "        buttonEl.style.display =\n",
              "          google.colab.kernel.accessAllowed ? 'block' : 'none';\n",
              "\n",
              "        async function convertToInteractive(key) {\n",
              "          const element = document.querySelector('#df-cf1c31fd-5726-4c20-8e64-3963de00e70e');\n",
              "          const dataTable =\n",
              "            await google.colab.kernel.invokeFunction('convertToInteractive',\n",
              "                                                     [key], {});\n",
              "          if (!dataTable) return;\n",
              "\n",
              "          const docLinkHtml = 'Like what you see? Visit the ' +\n",
              "            '<a target=\"_blank\" href=https://colab.research.google.com/notebooks/data_table.ipynb>data table notebook</a>'\n",
              "            + ' to learn more about interactive tables.';\n",
              "          element.innerHTML = '';\n",
              "          dataTable['output_type'] = 'display_data';\n",
              "          await google.colab.output.renderOutput(dataTable, element);\n",
              "          const docLink = document.createElement('div');\n",
              "          docLink.innerHTML = docLinkHtml;\n",
              "          element.appendChild(docLink);\n",
              "        }\n",
              "      </script>\n",
              "    </div>\n",
              "  </div>\n",
              "  "
            ]
          },
          "metadata": {},
          "execution_count": 174
        }
      ]
    },
    {
      "cell_type": "markdown",
      "source": [
        "### State"
      ],
      "metadata": {
        "id": "pl6JpKso6EOM"
      }
    },
    {
      "cell_type": "code",
      "source": [
        ""
      ],
      "metadata": {
        "id": "wu3jPxZx6GyC"
      },
      "execution_count": 174,
      "outputs": []
    },
    {
      "cell_type": "markdown",
      "source": [
        "### Zip\n",
        "\n",
        "\n",
        "---\n",
        "\n",
        "Zip codes are stored as strings in the orginal data."
      ],
      "metadata": {
        "id": "gWcwqa636I8-"
      }
    },
    {
      "cell_type": "code",
      "source": [
        "pairs['zip_diff'] = pairs.apply(sim_metric,\n",
        "                          args=('zip_1', 'zip_2'),\n",
        "                          axis=1)"
      ],
      "metadata": {
        "id": "Nevbkao86MW-"
      },
      "execution_count": 175,
      "outputs": []
    },
    {
      "cell_type": "markdown",
      "source": [
        "# PCA"
      ],
      "metadata": {
        "id": "uM6TxTDoMTn8"
      }
    },
    {
      "cell_type": "code",
      "source": [
        "from sklearn.preprocessing import StandardScaler\n",
        "from sklearn.pipeline import Pipeline\n",
        "from sklearn.decomposition import PCA"
      ],
      "metadata": {
        "id": "O_l9wzHOMaLM"
      },
      "execution_count": 46,
      "outputs": []
    },
    {
      "cell_type": "code",
      "source": [
        "## Make a pipeline for your PCA\n",
        "pipe = Pipeline([('scale', StandardScaler()),\n",
        "                    ('pca', PCA(2))])\n",
        "\n",
        "feature_col = ['location_diff','name_diff']\n",
        "#['location_diff','name_diff','address_diff', 'city_diff',\t'zip_diff']\n",
        "\n",
        "pairs_sample = pairs.loc[pairs.location_diff<1]\n",
        "X_train = pairs_sample[feature_col]\n",
        "\n",
        "pipe.fit(X_train.values)\n",
        "\n",
        "fit = pipe.transform(X_train.values)"
      ],
      "metadata": {
        "id": "NCNT8kExMbIy"
      },
      "execution_count": 47,
      "outputs": []
    },
    {
      "cell_type": "code",
      "source": [
        "y_train = pairs_sample['match']\n",
        "\n",
        "plt.figure(figsize=(8,8))\n",
        "\n",
        "plt.scatter(fit[y_train==0, 0],\n",
        "               fit[y_train==0, 1],\n",
        "               c = 'b',\n",
        "               alpha = .6,\n",
        "               label='Benign')\n",
        "\n",
        "plt.scatter(fit[y_train==1, 0],\n",
        "               fit[y_train==1, 1],\n",
        "               c = 'orange',\n",
        "               marker = 'v',\n",
        "               alpha = .6,\n",
        "               label='Malignant')\n",
        "\n",
        "plt.legend(fontsize=14)\n",
        "\n",
        "plt.xlabel(\"First PCA Value\", fontsize=16)\n",
        "plt.ylabel(\"Second PCA Value\", fontsize=16)\n",
        "\n",
        "plt.show()"
      ],
      "metadata": {
        "colab": {
          "base_uri": "https://localhost:8080/",
          "height": 502
        },
        "id": "gwrvawh-M1B7",
        "outputId": "cdc892fb-5cf8-41cd-ad09-0c86ac0cf687"
      },
      "execution_count": 48,
      "outputs": [
        {
          "output_type": "display_data",
          "data": {
            "text/plain": [
              "<Figure size 576x576 with 1 Axes>"
            ],
            "image/png": "[encoded data removed]"
          },
          "metadata": {
            "needs_background": "light"
          }
        }
      ]
    },
    {
      "cell_type": "markdown",
      "source": [
        "# Plotting latitude and longitude\n",
        "\n",
        "\n",
        "---\n",
        "\n"
      ],
      "metadata": {
        "id": "QD9d-ndTZ6_m"
      }
    },
    {
      "cell_type": "code",
      "source": [
        "latitude_all = train.latitude.values\n",
        "longitude_all = train.longitude.values"
      ],
      "metadata": {
        "id": "x4Jd03IKDWA3"
      },
      "execution_count": null,
      "outputs": []
    },
    {
      "cell_type": "code",
      "source": [
        "plt.scatter(longitude_all, latitude_all)\n",
        "plt.xlabel('Longitude')\n",
        "plt.ylabel('Latitude')\n",
        "plt.show()"
      ],
      "metadata": {
        "colab": {
          "base_uri": "https://localhost:8080/",
          "height": 279
        },
        "id": "mo9LD8_PSYaZ",
        "outputId": "64b164b6-716c-4044-9145-bcbc2717cbfc"
      },
      "execution_count": null,
      "outputs": [
        {
          "output_type": "display_data",
          "data": {
            "text/plain": [
              "<Figure size 432x288 with 1 Axes>"
            ],
            "image/png": "[encoded data removed]"
          },
          "metadata": {
            "needs_background": "light"
          }
        }
      ]
    },
    {
      "cell_type": "code",
      "source": [
        "pairs.iloc[4]"
      ],
      "metadata": {
        "colab": {
          "base_uri": "https://localhost:8080/"
        },
        "id": "jjOHOtQ6alTL",
        "outputId": "85f46042-0c97-434e-c43f-3225d9a3d1f9"
      },
      "execution_count": null,
      "outputs": [
        {
          "output_type": "execute_result",
          "data": {
            "text/plain": [
              "id_1                              E_0000c362229d93\n",
              "name_1                                  Coffee Cat\n",
              "latitude_1                                7.082218\n",
              "longitude_1                             125.610244\n",
              "address_1                            F. Torres St.\n",
              "city_1                                  Davao City\n",
              "state_1                               Davao Region\n",
              "zip_1                                         8000\n",
              "country_1                                       PH\n",
              "url_1                                          NaN\n",
              "phone_1                                        NaN\n",
              "categories_1                   Cafés, Coffee Shops\n",
              "id_2                              E_d52c3c4d53831c\n",
              "name_2                                   Coffeecat\n",
              "latitude_2                                7.076016\n",
              "longitude_2                             125.611457\n",
              "address_2                     E. Jacinto Extension\n",
              "city_2                                  Davao City\n",
              "state_2                               Davao Region\n",
              "zip_2                                         8000\n",
              "country_2                                       PH\n",
              "url_2                                          NaN\n",
              "phone_2                                        NaN\n",
              "categories_2    Coffee Shops, Cafés, Dessert Shops\n",
              "match                                        False\n",
              "Name: 4, dtype: object"
            ]
          },
          "metadata": {},
          "execution_count": 51
        }
      ]
    },
    {
      "cell_type": "markdown",
      "source": [
        "# Submission\n",
        "\n",
        "---\n"
      ],
      "metadata": {
        "id": "RvQexhJCVd_x"
      }
    },
    {
      "cell_type": "code",
      "source": [
        "submission = pd.read_csv('/content/drive/MyDrive/Summer 2022/foursquare-location-matching/sample_submission.csv')"
      ],
      "metadata": {
        "id": "zf5Lh0--cc_z"
      },
      "execution_count": null,
      "outputs": []
    },
    {
      "cell_type": "code",
      "source": [
        "submission"
      ],
      "metadata": {
        "colab": {
          "base_uri": "https://localhost:8080/",
          "height": 206
        },
        "id": "kEBhDcC2VkU0",
        "outputId": "a295a6ca-6335-48e9-f6e9-56c8783a3fc8"
      },
      "execution_count": null,
      "outputs": [
        {
          "output_type": "execute_result",
          "data": {
            "text/plain": [
              "                 id                            matches\n",
              "0  E_00001118ad0191                   E_00001118ad0191\n",
              "1  E_000020eb6fed40                   E_000020eb6fed40\n",
              "2  E_00002f98667edf                   E_00002f98667edf\n",
              "3  E_001b6bad66eb98  E_001b6bad66eb98 E_0283d9f61e569d\n",
              "4  E_0283d9f61e569d  E_0283d9f61e569d E_001b6bad66eb98"
            ],
            "text/html": [
              "\n",
              "  <div id=\"df-2ee22b96-5db1-434b-8af5-36c257c93052\">\n",
              "    <div class=\"colab-df-container\">\n",
              "      <div>\n",
              "<style scoped>\n",
              "    .dataframe tbody tr th:only-of-type {\n",
              "        vertical-align: middle;\n",
              "    }\n",
              "\n",
              "    .dataframe tbody tr th {\n",
              "        vertical-align: top;\n",
              "    }\n",
              "\n",
              "    .dataframe thead th {\n",
              "        text-align: right;\n",
              "    }\n",
              "</style>\n",
              "<table border=\"1\" class=\"dataframe\">\n",
              "  <thead>\n",
              "    <tr style=\"text-align: right;\">\n",
              "      <th></th>\n",
              "      <th>id</th>\n",
              "      <th>matches</th>\n",
              "    </tr>\n",
              "  </thead>\n",
              "  <tbody>\n",
              "    <tr>\n",
              "      <th>0</th>\n",
              "      <td>E_00001118ad0191</td>\n",
              "      <td>E_00001118ad0191</td>\n",
              "    </tr>\n",
              "    <tr>\n",
              "      <th>1</th>\n",
              "      <td>E_000020eb6fed40</td>\n",
              "      <td>E_000020eb6fed40</td>\n",
              "    </tr>\n",
              "    <tr>\n",
              "      <th>2</th>\n",
              "      <td>E_00002f98667edf</td>\n",
              "      <td>E_00002f98667edf</td>\n",
              "    </tr>\n",
              "    <tr>\n",
              "      <th>3</th>\n",
              "      <td>E_001b6bad66eb98</td>\n",
              "      <td>E_001b6bad66eb98 E_0283d9f61e569d</td>\n",
              "    </tr>\n",
              "    <tr>\n",
              "      <th>4</th>\n",
              "      <td>E_0283d9f61e569d</td>\n",
              "      <td>E_0283d9f61e569d E_001b6bad66eb98</td>\n",
              "    </tr>\n",
              "  </tbody>\n",
              "</table>\n",
              "</div>\n",
              "      <button class=\"colab-df-convert\" onclick=\"convertToInteractive('df-2ee22b96-5db1-434b-8af5-36c257c93052')\"\n",
              "              title=\"Convert this dataframe to an interactive table.\"\n",
              "              style=\"display:none;\">\n",
              "        \n",
              "  <svg xmlns=\"http://www.w3.org/2000/svg\" height=\"24px\"viewBox=\"0 0 24 24\"\n",
              "       width=\"24px\">\n",
              "    <path d=\"M0 0h24v24H0V0z\" fill=\"none\"/>\n",
              "    <path d=\"M18.56 5.44l.94 2.06.94-2.06 2.06-.94-2.06-.94-.94-2.06-.94 2.06-2.06.94zm-11 1L8.5 8.5l.94-2.06 2.06-.94-2.06-.94L8.5 2.5l-.94 2.06-2.06.94zm10 10l.94 2.06.94-2.06 2.06-.94-2.06-.94-.94-2.06-.94 2.06-2.06.94z\"/><path d=\"M17.41 7.96l-1.37-1.37c-.4-.4-.92-.59-1.43-.59-.52 0-1.04.2-1.43.59L10.3 9.45l-7.72 7.72c-.78.78-.78 2.05 0 2.83L4 21.41c.39.39.9.59 1.41.59.51 0 1.02-.2 1.41-.59l7.78-7.78 2.81-2.81c.8-.78.8-2.07 0-2.86zM5.41 20L4 18.59l7.72-7.72 1.47 1.35L5.41 20z\"/>\n",
              "  </svg>\n",
              "      </button>\n",
              "      \n",
              "  <style>\n",
              "    .colab-df-container {\n",
              "      display:flex;\n",
              "      flex-wrap:wrap;\n",
              "      gap: 12px;\n",
              "    }\n",
              "\n",
              "    .colab-df-convert {\n",
              "      background-color: #E8F0FE;\n",
              "      border: none;\n",
              "      border-radius: 50%;\n",
              "      cursor: pointer;\n",
              "      display: none;\n",
              "      fill: #1967D2;\n",
              "      height: 32px;\n",
              "      padding: 0 0 0 0;\n",
              "      width: 32px;\n",
              "    }\n",
              "\n",
              "    .colab-df-convert:hover {\n",
              "      background-color: #E2EBFA;\n",
              "      box-shadow: 0px 1px 2px rgba(60, 64, 67, 0.3), 0px 1px 3px 1px rgba(60, 64, 67, 0.15);\n",
              "      fill: #174EA6;\n",
              "    }\n",
              "\n",
              "    [theme=dark] .colab-df-convert {\n",
              "      background-color: #3B4455;\n",
              "      fill: #D2E3FC;\n",
              "    }\n",
              "\n",
              "    [theme=dark] .colab-df-convert:hover {\n",
              "      background-color: #434B5C;\n",
              "      box-shadow: 0px 1px 3px 1px rgba(0, 0, 0, 0.15);\n",
              "      filter: drop-shadow(0px 1px 2px rgba(0, 0, 0, 0.3));\n",
              "      fill: #FFFFFF;\n",
              "    }\n",
              "  </style>\n",
              "\n",
              "      <script>\n",
              "        const buttonEl =\n",
              "          document.querySelector('#df-2ee22b96-5db1-434b-8af5-36c257c93052 button.colab-df-convert');\n",
              "        buttonEl.style.display =\n",
              "          google.colab.kernel.accessAllowed ? 'block' : 'none';\n",
              "\n",
              "        async function convertToInteractive(key) {\n",
              "          const element = document.querySelector('#df-2ee22b96-5db1-434b-8af5-36c257c93052');\n",
              "          const dataTable =\n",
              "            await google.colab.kernel.invokeFunction('convertToInteractive',\n",
              "                                                     [key], {});\n",
              "          if (!dataTable) return;\n",
              "\n",
              "          const docLinkHtml = 'Like what you see? Visit the ' +\n",
              "            '<a target=\"_blank\" href=https://colab.research.google.com/notebooks/data_table.ipynb>data table notebook</a>'\n",
              "            + ' to learn more about interactive tables.';\n",
              "          element.innerHTML = '';\n",
              "          dataTable['output_type'] = 'display_data';\n",
              "          await google.colab.output.renderOutput(dataTable, element);\n",
              "          const docLink = document.createElement('div');\n",
              "          docLink.innerHTML = docLinkHtml;\n",
              "          element.appendChild(docLink);\n",
              "        }\n",
              "      </script>\n",
              "    </div>\n",
              "  </div>\n",
              "  "
            ]
          },
          "metadata": {},
          "execution_count": 20
        }
      ]
    },
    {
      "cell_type": "code",
      "source": [
        "set(test.id).intersection(set(train.id))"
      ],
      "metadata": {
        "colab": {
          "base_uri": "https://localhost:8080/"
        },
        "id": "EfPTR_lIVqq1",
        "outputId": "8a5a88f2-4716-495d-c25e-01cbb4a0a63f"
      },
      "execution_count": null,
      "outputs": [
        {
          "output_type": "execute_result",
          "data": {
            "text/plain": [
              "{'E_001b6bad66eb98', 'E_0283d9f61e569d'}"
            ]
          },
          "metadata": {},
          "execution_count": 21
        }
      ]
    },
    {
      "cell_type": "code",
      "source": [
        "df = train.loc[train.id==test.id[3]]\n",
        "df.append(train.loc[train.id==test.id[4]])"
      ],
      "metadata": {
        "colab": {
          "base_uri": "https://localhost:8080/",
          "height": 112
        },
        "id": "dwCoM8pJWTf1",
        "outputId": "0be212c3-da7c-4424-ebe7-b488142ddccd"
      },
      "execution_count": null,
      "outputs": [
        {
          "output_type": "execute_result",
          "data": {
            "text/plain": [
              "                     id                    name   latitude   longitude  \\\n",
              "434    E_001b6bad66eb98  Foreword Communicatons   1.302216  103.861456   \n",
              "11033  E_0283d9f61e569d           風雲児 (Fu-unji)  35.687101  139.696684   \n",
              "\n",
              "         address city state       zip country                     url  \\\n",
              "434          NaN  NaN   NaN       NaN      SG                     NaN   \n",
              "11033  代々木2-14-3  渋谷区   東京都  151-0053      JP  http://www.fu-unji.com   \n",
              "\n",
              "            phone         categories point_of_interest  \n",
              "434           NaN                NaN  P_540b73568b0d3c  \n",
              "11033  0364138480  Ramen Restaurants  P_fe5531aa3acd9d  "
            ],
            "text/html": [
              "\n",
              "  <div id=\"df-64794db7-dce0-4081-bba9-4042aad5d3d1\">\n",
              "    <div class=\"colab-df-container\">\n",
              "      <div>\n",
              "<style scoped>\n",
              "    .dataframe tbody tr th:only-of-type {\n",
              "        vertical-align: middle;\n",
              "    }\n",
              "\n",
              "    .dataframe tbody tr th {\n",
              "        vertical-align: top;\n",
              "    }\n",
              "\n",
              "    .dataframe thead th {\n",
              "        text-align: right;\n",
              "    }\n",
              "</style>\n",
              "<table border=\"1\" class=\"dataframe\">\n",
              "  <thead>\n",
              "    <tr style=\"text-align: right;\">\n",
              "      <th></th>\n",
              "      <th>id</th>\n",
              "      <th>name</th>\n",
              "      <th>latitude</th>\n",
              "      <th>longitude</th>\n",
              "      <th>address</th>\n",
              "      <th>city</th>\n",
              "      <th>state</th>\n",
              "      <th>zip</th>\n",
              "      <th>country</th>\n",
              "      <th>url</th>\n",
              "      <th>phone</th>\n",
              "      <th>categories</th>\n",
              "      <th>point_of_interest</th>\n",
              "    </tr>\n",
              "  </thead>\n",
              "  <tbody>\n",
              "    <tr>\n",
              "      <th>434</th>\n",
              "      <td>E_001b6bad66eb98</td>\n",
              "      <td>Foreword Communicatons</td>\n",
              "      <td>1.302216</td>\n",
              "      <td>103.861456</td>\n",
              "      <td>NaN</td>\n",
              "      <td>NaN</td>\n",
              "      <td>NaN</td>\n",
              "      <td>NaN</td>\n",
              "      <td>SG</td>\n",
              "      <td>NaN</td>\n",
              "      <td>NaN</td>\n",
              "      <td>NaN</td>\n",
              "      <td>P_540b73568b0d3c</td>\n",
              "    </tr>\n",
              "    <tr>\n",
              "      <th>11033</th>\n",
              "      <td>E_0283d9f61e569d</td>\n",
              "      <td>風雲児 (Fu-unji)</td>\n",
              "      <td>35.687101</td>\n",
              "      <td>139.696684</td>\n",
              "      <td>代々木2-14-3</td>\n",
              "      <td>渋谷区</td>\n",
              "      <td>東京都</td>\n",
              "      <td>151-0053</td>\n",
              "      <td>JP</td>\n",
              "      <td>http://www.fu-unji.com</td>\n",
              "      <td>0364138480</td>\n",
              "      <td>Ramen Restaurants</td>\n",
              "      <td>P_fe5531aa3acd9d</td>\n",
              "    </tr>\n",
              "  </tbody>\n",
              "</table>\n",
              "</div>\n",
              "      <button class=\"colab-df-convert\" onclick=\"convertToInteractive('df-64794db7-dce0-4081-bba9-4042aad5d3d1')\"\n",
              "              title=\"Convert this dataframe to an interactive table.\"\n",
              "              style=\"display:none;\">\n",
              "        \n",
              "  <svg xmlns=\"http://www.w3.org/2000/svg\" height=\"24px\"viewBox=\"0 0 24 24\"\n",
              "       width=\"24px\">\n",
              "    <path d=\"M0 0h24v24H0V0z\" fill=\"none\"/>\n",
              "    <path d=\"M18.56 5.44l.94 2.06.94-2.06 2.06-.94-2.06-.94-.94-2.06-.94 2.06-2.06.94zm-11 1L8.5 8.5l.94-2.06 2.06-.94-2.06-.94L8.5 2.5l-.94 2.06-2.06.94zm10 10l.94 2.06.94-2.06 2.06-.94-2.06-.94-.94-2.06-.94 2.06-2.06.94z\"/><path d=\"M17.41 7.96l-1.37-1.37c-.4-.4-.92-.59-1.43-.59-.52 0-1.04.2-1.43.59L10.3 9.45l-7.72 7.72c-.78.78-.78 2.05 0 2.83L4 21.41c.39.39.9.59 1.41.59.51 0 1.02-.2 1.41-.59l7.78-7.78 2.81-2.81c.8-.78.8-2.07 0-2.86zM5.41 20L4 18.59l7.72-7.72 1.47 1.35L5.41 20z\"/>\n",
              "  </svg>\n",
              "      </button>\n",
              "      \n",
              "  <style>\n",
              "    .colab-df-container {\n",
              "      display:flex;\n",
              "      flex-wrap:wrap;\n",
              "      gap: 12px;\n",
              "    }\n",
              "\n",
              "    .colab-df-convert {\n",
              "      background-color: #E8F0FE;\n",
              "      border: none;\n",
              "      border-radius: 50%;\n",
              "      cursor: pointer;\n",
              "      display: none;\n",
              "      fill: #1967D2;\n",
              "      height: 32px;\n",
              "      padding: 0 0 0 0;\n",
              "      width: 32px;\n",
              "    }\n",
              "\n",
              "    .colab-df-convert:hover {\n",
              "      background-color: #E2EBFA;\n",
              "      box-shadow: 0px 1px 2px rgba(60, 64, 67, 0.3), 0px 1px 3px 1px rgba(60, 64, 67, 0.15);\n",
              "      fill: #174EA6;\n",
              "    }\n",
              "\n",
              "    [theme=dark] .colab-df-convert {\n",
              "      background-color: #3B4455;\n",
              "      fill: #D2E3FC;\n",
              "    }\n",
              "\n",
              "    [theme=dark] .colab-df-convert:hover {\n",
              "      background-color: #434B5C;\n",
              "      box-shadow: 0px 1px 3px 1px rgba(0, 0, 0, 0.15);\n",
              "      filter: drop-shadow(0px 1px 2px rgba(0, 0, 0, 0.3));\n",
              "      fill: #FFFFFF;\n",
              "    }\n",
              "  </style>\n",
              "\n",
              "      <script>\n",
              "        const buttonEl =\n",
              "          document.querySelector('#df-64794db7-dce0-4081-bba9-4042aad5d3d1 button.colab-df-convert');\n",
              "        buttonEl.style.display =\n",
              "          google.colab.kernel.accessAllowed ? 'block' : 'none';\n",
              "\n",
              "        async function convertToInteractive(key) {\n",
              "          const element = document.querySelector('#df-64794db7-dce0-4081-bba9-4042aad5d3d1');\n",
              "          const dataTable =\n",
              "            await google.colab.kernel.invokeFunction('convertToInteractive',\n",
              "                                                     [key], {});\n",
              "          if (!dataTable) return;\n",
              "\n",
              "          const docLinkHtml = 'Like what you see? Visit the ' +\n",
              "            '<a target=\"_blank\" href=https://colab.research.google.com/notebooks/data_table.ipynb>data table notebook</a>'\n",
              "            + ' to learn more about interactive tables.';\n",
              "          element.innerHTML = '';\n",
              "          dataTable['output_type'] = 'display_data';\n",
              "          await google.colab.output.renderOutput(dataTable, element);\n",
              "          const docLink = document.createElement('div');\n",
              "          docLink.innerHTML = docLinkHtml;\n",
              "          element.appendChild(docLink);\n",
              "        }\n",
              "      </script>\n",
              "    </div>\n",
              "  </div>\n",
              "  "
            ]
          },
          "metadata": {},
          "execution_count": 43
        }
      ]
    },
    {
      "cell_type": "code",
      "source": [
        "test.columns"
      ],
      "metadata": {
        "colab": {
          "base_uri": "https://localhost:8080/"
        },
        "id": "Iy6AMLpyX8If",
        "outputId": "872376c8-0f18-4419-f7f2-5ebd0ef37ff9"
      },
      "execution_count": null,
      "outputs": [
        {
          "output_type": "execute_result",
          "data": {
            "text/plain": [
              "Index(['id', 'name', 'latitude', 'longitude', 'address', 'city', 'state',\n",
              "       'zip', 'country', 'url', 'phone', 'categories'],\n",
              "      dtype='object')"
            ]
          },
          "metadata": {},
          "execution_count": 45
        }
      ]
    },
    {
      "cell_type": "code",
      "source": [
        "test.country"
      ],
      "metadata": {
        "colab": {
          "base_uri": "https://localhost:8080/"
        },
        "id": "2LyFlsz6ZCKg",
        "outputId": "3a2b5b3b-1405-4e7d-f2e3-0f5bf1c7cbe0"
      },
      "execution_count": null,
      "outputs": [
        {
          "output_type": "execute_result",
          "data": {
            "text/plain": [
              "0    MY\n",
              "1    US\n",
              "2    RU\n",
              "3    ID\n",
              "4    ID\n",
              "Name: country, dtype: object"
            ]
          },
          "metadata": {},
          "execution_count": 107
        }
      ]
    },
    {
      "cell_type": "code",
      "source": [
        ""
      ],
      "metadata": {
        "id": "hqix-nirq0ZX"
      },
      "execution_count": null,
      "outputs": []
    }
  ]
}