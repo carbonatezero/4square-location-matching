{
 "cells": [
  {
   "cell_type": "markdown",
   "metadata": {
    "colab_type": "text",
    "id": "view-in-github"
   },
   "source": [
    "<a href=\"https://colab.research.google.com/github/gormantt/foursquare-location-matching/blob/main/Ling_EDA.ipynb\" target=\"_parent\"><img src=\"https://colab.research.google.com/assets/colab-badge.svg\" alt=\"Open In Colab\"/></a>"
   ]
  },
  {
   "cell_type": "markdown",
   "metadata": {
    "id": "n25cn50iyFUf"
   },
   "source": [
    "# Exploratory data analysis\n",
    "\n",
    "---\n",
    "Data analyzed in this notebook is from [Kaggle's code competation: Foursquare - Location Matching](https://www.kaggle.com/competitions/foursquare-location-matching/data). The data comprises over one-and-a-half million place entries for hundreds of thousands of commercial Points-of-Interest (POIs) around the globe. The task is to **determine which place entries describe the same point-of-interest**. Though the data entries may represent or resemble entries for real places, they may also contain artificial information or additional noise.\n"
   ]
  },
  {
   "cell_type": "code",
   "execution_count": null,
   "metadata": {
    "id": "K_gFE3lTynyQ"
   },
   "outputs": [],
   "source": [
    "import pandas as pd\n",
    "import numpy as np\n",
    "import seaborn as sns\n",
    "\n",
    "#For plotting\n",
    "import matplotlib.pyplot as plt\n",
    "from pandas.plotting import scatter_matrix"
   ]
  },
  {
   "cell_type": "markdown",
   "metadata": {
    "id": "ck3p8I8x0NzY"
   },
   "source": [
    "We read the data below and take a look at some columns."
   ]
  },
  {
   "cell_type": "code",
   "execution_count": null,
   "metadata": {
    "colab": {
     "base_uri": "https://localhost:8080/"
    },
    "id": "SMKbHydTz0FO",
    "outputId": "7e5a6757-7cbe-45be-f752-e69fdfcb6337"
   },
   "outputs": [
    {
     "name": "stdout",
     "output_type": "stream",
     "text": [
      "Mounted at /content/drive\n"
     ]
    }
   ],
   "source": [
    "from google.colab import drive\n",
    "drive.mount('/content/drive')"
   ]
  },
  {
   "cell_type": "code",
   "execution_count": null,
   "metadata": {
    "id": "u8Qz-YOLzGfV"
   },
   "outputs": [],
   "source": [
    "pairs = pd.read_csv('/content/drive/MyDrive/Summer 2022/foursquare-location-matching/pairs.csv')\n",
    "test = pd.read_csv('/content/drive/MyDrive/Summer 2022/foursquare-location-matching/test.csv')\n",
    "train = pd.read_csv('/content/drive/MyDrive/Summer 2022/foursquare-location-matching/train.csv')"
   ]
  },
  {
   "cell_type": "markdown",
   "metadata": {
    "id": "Zg1IqrfV0fDu"
   },
   "source": [
    "# Training data\n",
    "\n",
    "---\n",
    "\n",
    "## The data\n",
    "\n",
    "\n",
    "*   `train.csv` - The training set, comprising eleven attribute fields for over one million place entries, together with:\n",
    "  * `id` - A unique identifier for each entry.\n",
    "  * `point_of_interest` - An identifier for the POI the entry represents. There may be one or many entries describing the same POI. Two entries \"match\" when they describe a common POI. \n",
    "*   `pairs.csv` - A pregenerated set of pairs of place entries from `train.csv` designed to improve detection of matches.\n",
    "  * `match` - Whether (`True` or `False`) the pair of entries describes a common POI.\n",
    "\n"
   ]
  },
  {
   "cell_type": "code",
   "execution_count": null,
   "metadata": {
    "colab": {
     "base_uri": "https://localhost:8080/"
    },
    "id": "NhuiJ9tqTHom",
    "outputId": "57e6f8c8-ed98-45ac-eb4a-c27c188851ab"
   },
   "outputs": [
    {
     "name": "stdout",
     "output_type": "stream",
     "text": [
      "There are 1138812 id, and 739972 distinct POIs.\n",
      "\n",
      "About 64.98 % POIs are unique.\n",
      "\n"
     ]
    }
   ],
   "source": [
    "print('There are', len(set(train.id)), 'id, and', len(set(train.point_of_interest)), 'distinct POIs.\\n')\n",
    "print('About', np.round(len(set(train.point_of_interest))/len(set(train.id))*100,2),'% POIs are unique.\\n')"
   ]
  },
  {
   "cell_type": "code",
   "execution_count": null,
   "metadata": {
    "colab": {
     "base_uri": "https://localhost:8080/",
     "height": 206
    },
    "id": "jVUWPXXvzZnk",
    "outputId": "74effba2-2ef1-4a27-9b22-d74cd3e418ed"
   },
   "outputs": [
    {
     "data": {
      "text/html": [
       "\n",
       "  <div id=\"df-e7060a8b-a0fb-4630-a1cd-0b7317f51def\">\n",
       "    <div class=\"colab-df-container\">\n",
       "      <div>\n",
       "<style scoped>\n",
       "    .dataframe tbody tr th:only-of-type {\n",
       "        vertical-align: middle;\n",
       "    }\n",
       "\n",
       "    .dataframe tbody tr th {\n",
       "        vertical-align: top;\n",
       "    }\n",
       "\n",
       "    .dataframe thead th {\n",
       "        text-align: right;\n",
       "    }\n",
       "</style>\n",
       "<table border=\"1\" class=\"dataframe\">\n",
       "  <thead>\n",
       "    <tr style=\"text-align: right;\">\n",
       "      <th></th>\n",
       "      <th>id</th>\n",
       "      <th>name</th>\n",
       "      <th>latitude</th>\n",
       "      <th>longitude</th>\n",
       "      <th>address</th>\n",
       "      <th>city</th>\n",
       "      <th>state</th>\n",
       "      <th>zip</th>\n",
       "      <th>country</th>\n",
       "      <th>url</th>\n",
       "      <th>phone</th>\n",
       "      <th>categories</th>\n",
       "      <th>point_of_interest</th>\n",
       "    </tr>\n",
       "  </thead>\n",
       "  <tbody>\n",
       "    <tr>\n",
       "      <th>173577</th>\n",
       "      <td>E_26ef84eb715951</td>\n",
       "      <td>北海道エネルギー米里</td>\n",
       "      <td>43.072128</td>\n",
       "      <td>141.408112</td>\n",
       "      <td>NaN</td>\n",
       "      <td>NaN</td>\n",
       "      <td>NaN</td>\n",
       "      <td>NaN</td>\n",
       "      <td>JP</td>\n",
       "      <td>NaN</td>\n",
       "      <td>NaN</td>\n",
       "      <td>Gas Stations</td>\n",
       "      <td>P_d5116b1dfd2c4a</td>\n",
       "    </tr>\n",
       "    <tr>\n",
       "      <th>598596</th>\n",
       "      <td>E_86894993083b72</td>\n",
       "      <td>Kaya Çay Ocaği</td>\n",
       "      <td>38.155328</td>\n",
       "      <td>27.357737</td>\n",
       "      <td>NaN</td>\n",
       "      <td>NaN</td>\n",
       "      <td>NaN</td>\n",
       "      <td>NaN</td>\n",
       "      <td>TR</td>\n",
       "      <td>NaN</td>\n",
       "      <td>NaN</td>\n",
       "      <td>Tea Rooms</td>\n",
       "      <td>P_80741d334aed3d</td>\n",
       "    </tr>\n",
       "    <tr>\n",
       "      <th>1045660</th>\n",
       "      <td>E_eaf5d745d65505</td>\n",
       "      <td>Arepa &amp; Pizza</td>\n",
       "      <td>6.209766</td>\n",
       "      <td>-75.567632</td>\n",
       "      <td>NaN</td>\n",
       "      <td>NaN</td>\n",
       "      <td>NaN</td>\n",
       "      <td>NaN</td>\n",
       "      <td>CO</td>\n",
       "      <td>NaN</td>\n",
       "      <td>NaN</td>\n",
       "      <td>Arepa Restaurants</td>\n",
       "      <td>P_4f61823f4492f8</td>\n",
       "    </tr>\n",
       "    <tr>\n",
       "      <th>82833</th>\n",
       "      <td>E_12889abf8b06ec</td>\n",
       "      <td>WYANDOTTE AT 11TH</td>\n",
       "      <td>39.100807</td>\n",
       "      <td>-94.585485</td>\n",
       "      <td>NaN</td>\n",
       "      <td>Kansas City</td>\n",
       "      <td>MO</td>\n",
       "      <td>NaN</td>\n",
       "      <td>US</td>\n",
       "      <td>NaN</td>\n",
       "      <td>NaN</td>\n",
       "      <td>Bus Stops</td>\n",
       "      <td>P_1889d5af129f2f</td>\n",
       "    </tr>\n",
       "    <tr>\n",
       "      <th>603118</th>\n",
       "      <td>E_878b59392ee860</td>\n",
       "      <td>Üzer Kardeşler Alüminyum</td>\n",
       "      <td>36.759840</td>\n",
       "      <td>27.688953</td>\n",
       "      <td>kizlan sokak</td>\n",
       "      <td>Kızlan Köyü</td>\n",
       "      <td>Muğla</td>\n",
       "      <td>48900</td>\n",
       "      <td>TR</td>\n",
       "      <td>NaN</td>\n",
       "      <td>NaN</td>\n",
       "      <td>Street Fairs</td>\n",
       "      <td>P_6e5067a2301224</td>\n",
       "    </tr>\n",
       "  </tbody>\n",
       "</table>\n",
       "</div>\n",
       "      <button class=\"colab-df-convert\" onclick=\"convertToInteractive('df-e7060a8b-a0fb-4630-a1cd-0b7317f51def')\"\n",
       "              title=\"Convert this dataframe to an interactive table.\"\n",
       "              style=\"display:none;\">\n",
       "        \n",
       "  <svg xmlns=\"http://www.w3.org/2000/svg\" height=\"24px\"viewBox=\"0 0 24 24\"\n",
       "       width=\"24px\">\n",
       "    <path d=\"M0 0h24v24H0V0z\" fill=\"none\"/>\n",
       "    <path d=\"M18.56 5.44l.94 2.06.94-2.06 2.06-.94-2.06-.94-.94-2.06-.94 2.06-2.06.94zm-11 1L8.5 8.5l.94-2.06 2.06-.94-2.06-.94L8.5 2.5l-.94 2.06-2.06.94zm10 10l.94 2.06.94-2.06 2.06-.94-2.06-.94-.94-2.06-.94 2.06-2.06.94z\"/><path d=\"M17.41 7.96l-1.37-1.37c-.4-.4-.92-.59-1.43-.59-.52 0-1.04.2-1.43.59L10.3 9.45l-7.72 7.72c-.78.78-.78 2.05 0 2.83L4 21.41c.39.39.9.59 1.41.59.51 0 1.02-.2 1.41-.59l7.78-7.78 2.81-2.81c.8-.78.8-2.07 0-2.86zM5.41 20L4 18.59l7.72-7.72 1.47 1.35L5.41 20z\"/>\n",
       "  </svg>\n",
       "      </button>\n",
       "      \n",
       "  <style>\n",
       "    .colab-df-container {\n",
       "      display:flex;\n",
       "      flex-wrap:wrap;\n",
       "      gap: 12px;\n",
       "    }\n",
       "\n",
       "    .colab-df-convert {\n",
       "      background-color: #E8F0FE;\n",
       "      border: none;\n",
       "      border-radius: 50%;\n",
       "      cursor: pointer;\n",
       "      display: none;\n",
       "      fill: #1967D2;\n",
       "      height: 32px;\n",
       "      padding: 0 0 0 0;\n",
       "      width: 32px;\n",
       "    }\n",
       "\n",
       "    .colab-df-convert:hover {\n",
       "      background-color: #E2EBFA;\n",
       "      box-shadow: 0px 1px 2px rgba(60, 64, 67, 0.3), 0px 1px 3px 1px rgba(60, 64, 67, 0.15);\n",
       "      fill: #174EA6;\n",
       "    }\n",
       "\n",
       "    [theme=dark] .colab-df-convert {\n",
       "      background-color: #3B4455;\n",
       "      fill: #D2E3FC;\n",
       "    }\n",
       "\n",
       "    [theme=dark] .colab-df-convert:hover {\n",
       "      background-color: #434B5C;\n",
       "      box-shadow: 0px 1px 3px 1px rgba(0, 0, 0, 0.15);\n",
       "      filter: drop-shadow(0px 1px 2px rgba(0, 0, 0, 0.3));\n",
       "      fill: #FFFFFF;\n",
       "    }\n",
       "  </style>\n",
       "\n",
       "      <script>\n",
       "        const buttonEl =\n",
       "          document.querySelector('#df-e7060a8b-a0fb-4630-a1cd-0b7317f51def button.colab-df-convert');\n",
       "        buttonEl.style.display =\n",
       "          google.colab.kernel.accessAllowed ? 'block' : 'none';\n",
       "\n",
       "        async function convertToInteractive(key) {\n",
       "          const element = document.querySelector('#df-e7060a8b-a0fb-4630-a1cd-0b7317f51def');\n",
       "          const dataTable =\n",
       "            await google.colab.kernel.invokeFunction('convertToInteractive',\n",
       "                                                     [key], {});\n",
       "          if (!dataTable) return;\n",
       "\n",
       "          const docLinkHtml = 'Like what you see? Visit the ' +\n",
       "            '<a target=\"_blank\" href=https://colab.research.google.com/notebooks/data_table.ipynb>data table notebook</a>'\n",
       "            + ' to learn more about interactive tables.';\n",
       "          element.innerHTML = '';\n",
       "          dataTable['output_type'] = 'display_data';\n",
       "          await google.colab.output.renderOutput(dataTable, element);\n",
       "          const docLink = document.createElement('div');\n",
       "          docLink.innerHTML = docLinkHtml;\n",
       "          element.appendChild(docLink);\n",
       "        }\n",
       "      </script>\n",
       "    </div>\n",
       "  </div>\n",
       "  "
      ],
      "text/plain": [
       "                       id                      name   latitude   longitude  \\\n",
       "173577   E_26ef84eb715951                北海道エネルギー米里  43.072128  141.408112   \n",
       "598596   E_86894993083b72            Kaya Çay Ocaği  38.155328   27.357737   \n",
       "1045660  E_eaf5d745d65505             Arepa & Pizza   6.209766  -75.567632   \n",
       "82833    E_12889abf8b06ec         WYANDOTTE AT 11TH  39.100807  -94.585485   \n",
       "603118   E_878b59392ee860  Üzer Kardeşler Alüminyum  36.759840   27.688953   \n",
       "\n",
       "              address         city  state    zip country  url phone  \\\n",
       "173577            NaN          NaN    NaN    NaN      JP  NaN   NaN   \n",
       "598596            NaN          NaN    NaN    NaN      TR  NaN   NaN   \n",
       "1045660           NaN          NaN    NaN    NaN      CO  NaN   NaN   \n",
       "82833             NaN  Kansas City     MO    NaN      US  NaN   NaN   \n",
       "603118   kizlan sokak  Kızlan Köyü  Muğla  48900      TR  NaN   NaN   \n",
       "\n",
       "                categories point_of_interest  \n",
       "173577        Gas Stations  P_d5116b1dfd2c4a  \n",
       "598596           Tea Rooms  P_80741d334aed3d  \n",
       "1045660  Arepa Restaurants  P_4f61823f4492f8  \n",
       "82833            Bus Stops  P_1889d5af129f2f  \n",
       "603118        Street Fairs  P_6e5067a2301224  "
      ]
     },
     "execution_count": 7,
     "metadata": {},
     "output_type": "execute_result"
    }
   ],
   "source": [
    "train.sample(5)"
   ]
  },
  {
   "cell_type": "code",
   "execution_count": null,
   "metadata": {
    "colab": {
     "base_uri": "https://localhost:8080/"
    },
    "id": "s_95avseVk10",
    "outputId": "5a5f4e40-5f3a-4e43-d665-a37cda9f67c3"
   },
   "outputs": [
    {
     "name": "stdout",
     "output_type": "stream",
     "text": [
      "There are 578907 pairs, 464765 id_1s and 565512 id_2s.\n",
      "\n"
     ]
    }
   ],
   "source": [
    "print('There are', len(pairs), 'pairs,', len(set(pairs.id_1)), 'id_1s and', len(set(pairs.id_2)), 'id_2s.\\n')"
   ]
  },
  {
   "cell_type": "code",
   "execution_count": null,
   "metadata": {
    "colab": {
     "base_uri": "https://localhost:8080/",
     "height": 508
    },
    "id": "Ya9fzOwu0Y52",
    "outputId": "9ee218bf-bbe3-4a5d-b3fd-26ca5122fae5"
   },
   "outputs": [
    {
     "data": {
      "text/html": [
       "\n",
       "  <div id=\"df-d7d50db4-9596-4fde-934e-1ae69947d90c\">\n",
       "    <div class=\"colab-df-container\">\n",
       "      <div>\n",
       "<style scoped>\n",
       "    .dataframe tbody tr th:only-of-type {\n",
       "        vertical-align: middle;\n",
       "    }\n",
       "\n",
       "    .dataframe tbody tr th {\n",
       "        vertical-align: top;\n",
       "    }\n",
       "\n",
       "    .dataframe thead th {\n",
       "        text-align: right;\n",
       "    }\n",
       "</style>\n",
       "<table border=\"1\" class=\"dataframe\">\n",
       "  <thead>\n",
       "    <tr style=\"text-align: right;\">\n",
       "      <th></th>\n",
       "      <th>id_1</th>\n",
       "      <th>name_1</th>\n",
       "      <th>latitude_1</th>\n",
       "      <th>longitude_1</th>\n",
       "      <th>address_1</th>\n",
       "      <th>city_1</th>\n",
       "      <th>state_1</th>\n",
       "      <th>zip_1</th>\n",
       "      <th>country_1</th>\n",
       "      <th>url_1</th>\n",
       "      <th>...</th>\n",
       "      <th>longitude_2</th>\n",
       "      <th>address_2</th>\n",
       "      <th>city_2</th>\n",
       "      <th>state_2</th>\n",
       "      <th>zip_2</th>\n",
       "      <th>country_2</th>\n",
       "      <th>url_2</th>\n",
       "      <th>phone_2</th>\n",
       "      <th>categories_2</th>\n",
       "      <th>match</th>\n",
       "    </tr>\n",
       "  </thead>\n",
       "  <tbody>\n",
       "    <tr>\n",
       "      <th>0</th>\n",
       "      <td>E_000001272c6c5d</td>\n",
       "      <td>Café Stad Oudenaarde</td>\n",
       "      <td>50.859975</td>\n",
       "      <td>3.634196</td>\n",
       "      <td>Abdijstraat</td>\n",
       "      <td>Nederename</td>\n",
       "      <td>Oost-Vlaanderen</td>\n",
       "      <td>9700</td>\n",
       "      <td>BE</td>\n",
       "      <td>NaN</td>\n",
       "      <td>...</td>\n",
       "      <td>3.635206</td>\n",
       "      <td>NaN</td>\n",
       "      <td>NaN</td>\n",
       "      <td>NaN</td>\n",
       "      <td>NaN</td>\n",
       "      <td>BE</td>\n",
       "      <td>NaN</td>\n",
       "      <td>NaN</td>\n",
       "      <td>Bars</td>\n",
       "      <td>True</td>\n",
       "    </tr>\n",
       "    <tr>\n",
       "      <th>1</th>\n",
       "      <td>E_000008a8ba4f48</td>\n",
       "      <td>Turkcell</td>\n",
       "      <td>37.844510</td>\n",
       "      <td>27.844202</td>\n",
       "      <td>Adnan Menderes Bulvarı</td>\n",
       "      <td>NaN</td>\n",
       "      <td>NaN</td>\n",
       "      <td>NaN</td>\n",
       "      <td>TR</td>\n",
       "      <td>NaN</td>\n",
       "      <td>...</td>\n",
       "      <td>27.845560</td>\n",
       "      <td>batı aydın</td>\n",
       "      <td>aydın</td>\n",
       "      <td>NaN</td>\n",
       "      <td>67500</td>\n",
       "      <td>TR</td>\n",
       "      <td>NaN</td>\n",
       "      <td>NaN</td>\n",
       "      <td>Electronics Stores</td>\n",
       "      <td>False</td>\n",
       "    </tr>\n",
       "    <tr>\n",
       "      <th>2</th>\n",
       "      <td>E_000023d8f4be44</td>\n",
       "      <td>Island Spa</td>\n",
       "      <td>14.518970</td>\n",
       "      <td>121.018702</td>\n",
       "      <td>5th Flr, Newport Mall, Resorts World Manila</td>\n",
       "      <td>Pasay City</td>\n",
       "      <td>Metro Manila</td>\n",
       "      <td>NaN</td>\n",
       "      <td>PH</td>\n",
       "      <td>NaN</td>\n",
       "      <td>...</td>\n",
       "      <td>121.019827</td>\n",
       "      <td>NaN</td>\n",
       "      <td>NaN</td>\n",
       "      <td>NaN</td>\n",
       "      <td>NaN</td>\n",
       "      <td>PH</td>\n",
       "      <td>NaN</td>\n",
       "      <td>NaN</td>\n",
       "      <td>Spas</td>\n",
       "      <td>True</td>\n",
       "    </tr>\n",
       "    <tr>\n",
       "      <th>3</th>\n",
       "      <td>E_00007dcd2bb53f</td>\n",
       "      <td>TOGO'S Sandwiches</td>\n",
       "      <td>38.257797</td>\n",
       "      <td>-122.064599</td>\n",
       "      <td>1380 Holiday Ln., Ste. B</td>\n",
       "      <td>Fairfield</td>\n",
       "      <td>CA</td>\n",
       "      <td>94534</td>\n",
       "      <td>US</td>\n",
       "      <td>https://locations.togos.com/ll/US/CA/Fairfield...</td>\n",
       "      <td>...</td>\n",
       "      <td>-122.064606</td>\n",
       "      <td>NaN</td>\n",
       "      <td>Fairfield</td>\n",
       "      <td>CA</td>\n",
       "      <td>NaN</td>\n",
       "      <td>US</td>\n",
       "      <td>NaN</td>\n",
       "      <td>NaN</td>\n",
       "      <td>Sandwich Places</td>\n",
       "      <td>True</td>\n",
       "    </tr>\n",
       "    <tr>\n",
       "      <th>4</th>\n",
       "      <td>E_0000c362229d93</td>\n",
       "      <td>Coffee Cat</td>\n",
       "      <td>7.082218</td>\n",
       "      <td>125.610244</td>\n",
       "      <td>F. Torres St.</td>\n",
       "      <td>Davao City</td>\n",
       "      <td>Davao Region</td>\n",
       "      <td>8000</td>\n",
       "      <td>PH</td>\n",
       "      <td>NaN</td>\n",
       "      <td>...</td>\n",
       "      <td>125.611457</td>\n",
       "      <td>E. Jacinto Extension</td>\n",
       "      <td>Davao City</td>\n",
       "      <td>Davao Region</td>\n",
       "      <td>8000</td>\n",
       "      <td>PH</td>\n",
       "      <td>NaN</td>\n",
       "      <td>NaN</td>\n",
       "      <td>Coffee Shops, Cafés, Dessert Shops</td>\n",
       "      <td>False</td>\n",
       "    </tr>\n",
       "  </tbody>\n",
       "</table>\n",
       "<p>5 rows × 25 columns</p>\n",
       "</div>\n",
       "      <button class=\"colab-df-convert\" onclick=\"convertToInteractive('df-d7d50db4-9596-4fde-934e-1ae69947d90c')\"\n",
       "              title=\"Convert this dataframe to an interactive table.\"\n",
       "              style=\"display:none;\">\n",
       "        \n",
       "  <svg xmlns=\"http://www.w3.org/2000/svg\" height=\"24px\"viewBox=\"0 0 24 24\"\n",
       "       width=\"24px\">\n",
       "    <path d=\"M0 0h24v24H0V0z\" fill=\"none\"/>\n",
       "    <path d=\"M18.56 5.44l.94 2.06.94-2.06 2.06-.94-2.06-.94-.94-2.06-.94 2.06-2.06.94zm-11 1L8.5 8.5l.94-2.06 2.06-.94-2.06-.94L8.5 2.5l-.94 2.06-2.06.94zm10 10l.94 2.06.94-2.06 2.06-.94-2.06-.94-.94-2.06-.94 2.06-2.06.94z\"/><path d=\"M17.41 7.96l-1.37-1.37c-.4-.4-.92-.59-1.43-.59-.52 0-1.04.2-1.43.59L10.3 9.45l-7.72 7.72c-.78.78-.78 2.05 0 2.83L4 21.41c.39.39.9.59 1.41.59.51 0 1.02-.2 1.41-.59l7.78-7.78 2.81-2.81c.8-.78.8-2.07 0-2.86zM5.41 20L4 18.59l7.72-7.72 1.47 1.35L5.41 20z\"/>\n",
       "  </svg>\n",
       "      </button>\n",
       "      \n",
       "  <style>\n",
       "    .colab-df-container {\n",
       "      display:flex;\n",
       "      flex-wrap:wrap;\n",
       "      gap: 12px;\n",
       "    }\n",
       "\n",
       "    .colab-df-convert {\n",
       "      background-color: #E8F0FE;\n",
       "      border: none;\n",
       "      border-radius: 50%;\n",
       "      cursor: pointer;\n",
       "      display: none;\n",
       "      fill: #1967D2;\n",
       "      height: 32px;\n",
       "      padding: 0 0 0 0;\n",
       "      width: 32px;\n",
       "    }\n",
       "\n",
       "    .colab-df-convert:hover {\n",
       "      background-color: #E2EBFA;\n",
       "      box-shadow: 0px 1px 2px rgba(60, 64, 67, 0.3), 0px 1px 3px 1px rgba(60, 64, 67, 0.15);\n",
       "      fill: #174EA6;\n",
       "    }\n",
       "\n",
       "    [theme=dark] .colab-df-convert {\n",
       "      background-color: #3B4455;\n",
       "      fill: #D2E3FC;\n",
       "    }\n",
       "\n",
       "    [theme=dark] .colab-df-convert:hover {\n",
       "      background-color: #434B5C;\n",
       "      box-shadow: 0px 1px 3px 1px rgba(0, 0, 0, 0.15);\n",
       "      filter: drop-shadow(0px 1px 2px rgba(0, 0, 0, 0.3));\n",
       "      fill: #FFFFFF;\n",
       "    }\n",
       "  </style>\n",
       "\n",
       "      <script>\n",
       "        const buttonEl =\n",
       "          document.querySelector('#df-d7d50db4-9596-4fde-934e-1ae69947d90c button.colab-df-convert');\n",
       "        buttonEl.style.display =\n",
       "          google.colab.kernel.accessAllowed ? 'block' : 'none';\n",
       "\n",
       "        async function convertToInteractive(key) {\n",
       "          const element = document.querySelector('#df-d7d50db4-9596-4fde-934e-1ae69947d90c');\n",
       "          const dataTable =\n",
       "            await google.colab.kernel.invokeFunction('convertToInteractive',\n",
       "                                                     [key], {});\n",
       "          if (!dataTable) return;\n",
       "\n",
       "          const docLinkHtml = 'Like what you see? Visit the ' +\n",
       "            '<a target=\"_blank\" href=https://colab.research.google.com/notebooks/data_table.ipynb>data table notebook</a>'\n",
       "            + ' to learn more about interactive tables.';\n",
       "          element.innerHTML = '';\n",
       "          dataTable['output_type'] = 'display_data';\n",
       "          await google.colab.output.renderOutput(dataTable, element);\n",
       "          const docLink = document.createElement('div');\n",
       "          docLink.innerHTML = docLinkHtml;\n",
       "          element.appendChild(docLink);\n",
       "        }\n",
       "      </script>\n",
       "    </div>\n",
       "  </div>\n",
       "  "
      ],
      "text/plain": [
       "               id_1                name_1  latitude_1  longitude_1  \\\n",
       "0  E_000001272c6c5d  Café Stad Oudenaarde   50.859975     3.634196   \n",
       "1  E_000008a8ba4f48              Turkcell   37.844510    27.844202   \n",
       "2  E_000023d8f4be44            Island Spa   14.518970   121.018702   \n",
       "3  E_00007dcd2bb53f     TOGO'S Sandwiches   38.257797  -122.064599   \n",
       "4  E_0000c362229d93            Coffee Cat    7.082218   125.610244   \n",
       "\n",
       "                                     address_1      city_1          state_1  \\\n",
       "0                                  Abdijstraat  Nederename  Oost-Vlaanderen   \n",
       "1                       Adnan Menderes Bulvarı         NaN              NaN   \n",
       "2  5th Flr, Newport Mall, Resorts World Manila  Pasay City     Metro Manila   \n",
       "3                     1380 Holiday Ln., Ste. B   Fairfield               CA   \n",
       "4                                F. Torres St.  Davao City     Davao Region   \n",
       "\n",
       "   zip_1 country_1                                              url_1  ...  \\\n",
       "0   9700        BE                                                NaN  ...   \n",
       "1    NaN        TR                                                NaN  ...   \n",
       "2    NaN        PH                                                NaN  ...   \n",
       "3  94534        US  https://locations.togos.com/ll/US/CA/Fairfield...  ...   \n",
       "4   8000        PH                                                NaN  ...   \n",
       "\n",
       "  longitude_2             address_2      city_2       state_2  zip_2  \\\n",
       "0    3.635206                   NaN         NaN           NaN    NaN   \n",
       "1   27.845560            batı aydın       aydın           NaN  67500   \n",
       "2  121.019827                   NaN         NaN           NaN    NaN   \n",
       "3 -122.064606                   NaN   Fairfield            CA    NaN   \n",
       "4  125.611457  E. Jacinto Extension  Davao City  Davao Region   8000   \n",
       "\n",
       "   country_2 url_2 phone_2                        categories_2  match  \n",
       "0         BE   NaN     NaN                                Bars   True  \n",
       "1         TR   NaN     NaN                  Electronics Stores  False  \n",
       "2         PH   NaN     NaN                                Spas   True  \n",
       "3         US   NaN     NaN                     Sandwich Places   True  \n",
       "4         PH   NaN     NaN  Coffee Shops, Cafés, Dessert Shops  False  \n",
       "\n",
       "[5 rows x 25 columns]"
      ]
     },
     "execution_count": 9,
     "metadata": {},
     "output_type": "execute_result"
    }
   ],
   "source": [
    "pairs.head()"
   ]
  },
  {
   "cell_type": "markdown",
   "metadata": {
    "id": "3QuzyE2Zquij"
   },
   "source": [
    "## Considering only US locations"
   ]
  },
  {
   "cell_type": "code",
   "execution_count": null,
   "metadata": {
    "id": "GgD_L7GvpW0Y"
   },
   "outputs": [],
   "source": [
    "train_US = train.loc[train.country=='US']\n",
    "pairs_US = pairs.loc[(pairs.country_1=='US') & (pairs.country_2=='US')]"
   ]
  },
  {
   "cell_type": "code",
   "execution_count": null,
   "metadata": {
    "colab": {
     "base_uri": "https://localhost:8080/"
    },
    "id": "TWXN_RgBrH8t",
    "outputId": "a9555f22-62ec-4a13-f4c1-d7c64a1dc9c4"
   },
   "outputs": [
    {
     "name": "stdout",
     "output_type": "stream",
     "text": [
      "21.54% locations are in US\n",
      "20.33% pairs are in US\n"
     ]
    }
   ],
   "source": [
    "print(\"{:.2%}\".format(len(train_US)/len(train)),'locations are in US')\n",
    "print(\"{:.2%}\".format(len(pairs_US)/len(pairs)),'pairs are in US')"
   ]
  },
  {
   "cell_type": "markdown",
   "metadata": {
    "id": "PRODlbdR814G"
   },
   "source": [
    "## Missing values\n",
    "\n",
    "\n"
   ]
  },
  {
   "cell_type": "code",
   "execution_count": null,
   "metadata": {
    "colab": {
     "base_uri": "https://localhost:8080/"
    },
    "id": "WEH9EmCP9hW8",
    "outputId": "d258da97-80aa-4da6-c1a0-ecb07a096dd0"
   },
   "outputs": [
    {
     "name": "stdout",
     "output_type": "stream",
     "text": [
      "In train.csv, 0.00% rows have \"NaN\" for id\n",
      "In train.csv, 0.00% rows have \"NaN\" for name\n",
      "In train.csv, 0.00% rows have \"NaN\" for latitude\n",
      "In train.csv, 0.00% rows have \"NaN\" for longitude\n",
      "In train.csv, 34.83% rows have \"NaN\" for address\n",
      "In train.csv, 26.27% rows have \"NaN\" for city\n",
      "In train.csv, 36.93% rows have \"NaN\" for state\n",
      "In train.csv, 52.28% rows have \"NaN\" for zip\n",
      "In train.csv, 0.00% rows have \"NaN\" for country\n",
      "In train.csv, 76.49% rows have \"NaN\" for url\n",
      "In train.csv, 69.89% rows have \"NaN\" for phone\n",
      "In train.csv, 8.63% rows have \"NaN\" for categories\n",
      "In train.csv, 0.00% rows have \"NaN\" for point_of_interest\n"
     ]
    }
   ],
   "source": [
    "for col in train.columns:\n",
    "    print('In train.csv,',\"{:.2%}\".format(1-len(train[col].dropna())/len(train[col])), 'rows have \"NaN\" for', col)"
   ]
  },
  {
   "cell_type": "code",
   "execution_count": null,
   "metadata": {
    "colab": {
     "base_uri": "https://localhost:8080/"
    },
    "id": "bqDLoK8i_9Nw",
    "outputId": "cc24a838-073e-4a4d-be2a-0e934442f56f"
   },
   "outputs": [
    {
     "name": "stdout",
     "output_type": "stream",
     "text": [
      "In train_US.csv, 0.00% rows have \"NaN\" for id\n",
      "In train_US.csv, 0.00% rows have \"NaN\" for name\n",
      "In train_US.csv, 0.00% rows have \"NaN\" for latitude\n",
      "In train_US.csv, 0.00% rows have \"NaN\" for longitude\n",
      "In train_US.csv, 23.02% rows have \"NaN\" for address\n",
      "In train_US.csv, 3.69% rows have \"NaN\" for city\n",
      "In train_US.csv, 2.41% rows have \"NaN\" for state\n",
      "In train_US.csv, 13.05% rows have \"NaN\" for zip\n",
      "In train_US.csv, 0.00% rows have \"NaN\" for country\n",
      "In train_US.csv, 59.44% rows have \"NaN\" for url\n",
      "In train_US.csv, 46.35% rows have \"NaN\" for phone\n",
      "In train_US.csv, 5.36% rows have \"NaN\" for categories\n",
      "In train_US.csv, 0.00% rows have \"NaN\" for point_of_interest\n"
     ]
    }
   ],
   "source": [
    "for col in train_US.columns:\n",
    "    print('In train_US.csv,',\"{:.2%}\".format(1-len(train_US[col].dropna())/len(train_US[col])), 'rows have \"NaN\" for', col)"
   ]
  },
  {
   "cell_type": "markdown",
   "metadata": {
    "id": "niSwEp1WovhW"
   },
   "source": [
    "## Generate more pairs\n",
    "\n"
   ]
  },
  {
   "cell_type": "code",
   "execution_count": null,
   "metadata": {
    "colab": {
     "base_uri": "https://localhost:8080/"
    },
    "id": "uALymGALpFED",
    "outputId": "a21b85fe-9fa0-4b7e-8067-09e08d9adadf"
   },
   "outputs": [
    {
     "data": {
      "text/plain": [
       "1008661"
      ]
     },
     "execution_count": 10,
     "metadata": {},
     "output_type": "execute_result"
    }
   ],
   "source": [
    "len(set(list(pairs.id_1)+list(pairs.id_2)))"
   ]
  },
  {
   "cell_type": "code",
   "execution_count": null,
   "metadata": {
    "colab": {
     "base_uri": "https://localhost:8080/"
    },
    "id": "SOu_OVl2pOeg",
    "outputId": "1f0fec7b-2cdc-4ca9-de9b-7c6c7c48f380"
   },
   "outputs": [
    {
     "data": {
      "text/plain": [
       "130151"
      ]
     },
     "execution_count": 11,
     "metadata": {},
     "output_type": "execute_result"
    }
   ],
   "source": [
    "len(set(train.id)-set(list(pairs.id_1)+list(pairs.id_2)))"
   ]
  },
  {
   "cell_type": "markdown",
   "metadata": {
    "id": "VCpYBKeqbby8"
   },
   "source": [
    "## Features\n",
    "\n",
    "---\n",
    "\n",
    "The features available in `test.csv` include \n",
    "\n",
    "```\n",
    "'name', 'latitude', 'longitude', 'address', 'city', 'state',\n",
    "       'zip', 'country', 'url', 'phone', 'categories'\n",
    "```\n"
   ]
  },
  {
   "cell_type": "markdown",
   "metadata": {
    "id": "9Xdkh5XXbiv-"
   },
   "source": [
    "### Latitude and longitude\n",
    "\n",
    "\n",
    "---\n",
    "We compute the difference for (latitude, longitude) of each pair in `pairs.csv`. It turns out \n",
    "  * locations with close (difference less than 0.001) can have have different POIs: stores are next to each other in a shopping center. In some extreme cases, places with identical coordinates can have different POI. For example, one classroom can be located vertically on top of another.  \n",
    "  * conversely, locations physically far can represent the same POI, such as mountains."
   ]
  },
  {
   "cell_type": "code",
   "execution_count": null,
   "metadata": {
    "colab": {
     "base_uri": "https://localhost:8080/"
    },
    "id": "2Y455w2siJI3",
    "outputId": "30be516b-5ceb-4ef7-959e-8c485c594bb3"
   },
   "outputs": [
    {
     "name": "stdout",
     "output_type": "stream",
     "text": [
      "0         0.009383\n",
      "1         0.006490\n",
      "2         0.001126\n",
      "3         0.000141\n",
      "4         0.006202\n",
      "            ...   \n",
      "578902    0.000693\n",
      "578903    0.001052\n",
      "578904    0.008220\n",
      "578905    0.000300\n",
      "578906    0.011056\n",
      "Name: location_diff, Length: 578907, dtype: float64 \n",
      "The largest difference is 270.8656697298361 \n",
      "The average difference is 0.13120959656239997\n"
     ]
    }
   ],
   "source": [
    "#pairs['latitude_diff'] = (pairs['latitude_1']-pairs['latitude_2']).abs()\n",
    "#pairs['longitude_diff'] = (pairs['longitude_1']-pairs['longitude_2']).abs()\n",
    "#pairs['location_diff'] = pairs['latitude_1']-pairs['latitude_2']\n",
    "\n",
    "# Compute the difference of (latitude, longitude) of each pair in pairs.csv\n",
    "pairs['location_diff'] = pd.concat([(pairs['latitude_1']-pairs['latitude_2']).abs(), (pairs['longitude_1']-pairs['longitude_2']).abs()], axis=1).max(axis=1)\n",
    "\n",
    "print(pairs.location_diff, '\\nThe largest difference is', pairs.location_diff.max(),'\\nThe average difference is', pairs.location_diff.mean())"
   ]
  },
  {
   "cell_type": "code",
   "execution_count": null,
   "metadata": {
    "colab": {
     "base_uri": "https://localhost:8080/"
    },
    "id": "iHG_tAXjn7xb",
    "outputId": "3685ed6a-38ab-48d1-8c10-7b162c18b198"
   },
   "outputs": [
    {
     "data": {
      "text/plain": [
       "US    117793\n",
       "ID     68412\n",
       "TR     61497\n",
       "JP     34217\n",
       "TH     31591\n",
       "       ...  \n",
       "YT         1\n",
       "PW         1\n",
       "DJ         1\n",
       "SH         1\n",
       "EH         1\n",
       "Name: country_1, Length: 213, dtype: int64"
      ]
     },
     "execution_count": 39,
     "metadata": {},
     "output_type": "execute_result"
    }
   ],
   "source": [
    "pairs.country_1.value_counts()"
   ]
  },
  {
   "cell_type": "code",
   "execution_count": null,
   "metadata": {
    "colab": {
     "base_uri": "https://localhost:8080/"
    },
    "id": "qk6xQvWnkD46",
    "outputId": "8d86a926-e0a6-4628-fa41-9fbcce806708"
   },
   "outputs": [
    {
     "data": {
      "text/plain": [
       "286"
      ]
     },
     "execution_count": 40,
     "metadata": {},
     "output_type": "execute_result"
    }
   ],
   "source": [
    "len(pairs.loc[(pairs.country_1=='NZ') & (pairs.location_diff<0.001)])"
   ]
  },
  {
   "cell_type": "code",
   "execution_count": null,
   "metadata": {
    "colab": {
     "base_uri": "https://localhost:8080/",
     "height": 281
    },
    "id": "wCHMVs33nL6-",
    "outputId": "762edd73-4ba5-4c3d-c357-087bc6d1ff08"
   },
   "outputs": [
    {
     "data": {
      "image/png": "[encoded data removed]",
      "text/plain": [
       "<Figure size 432x288 with 1 Axes>"
      ]
     },
     "metadata": {
      "needs_background": "light"
     },
     "output_type": "display_data"
    }
   ],
   "source": [
    "sns.stripplot(x=\"match\", y=\"location_diff\", data=pairs.loc[(pairs.country_1=='NZ') & (pairs.location_diff<0.001)])\n",
    "plt.show()"
   ]
  },
  {
   "cell_type": "code",
   "execution_count": null,
   "metadata": {
    "colab": {
     "base_uri": "https://localhost:8080/"
    },
    "id": "6DlOAlWhhQHM",
    "outputId": "c23835e4-7e57-455f-b6fb-8038e2ce948d"
   },
   "outputs": [
    {
     "name": "stdout",
     "output_type": "stream",
     "text": [
      "There are 574 pairs with location_diff=0 but different POIs, out of all 578907 pairs.\n"
     ]
    }
   ],
   "source": [
    "print('There are',len(pairs.loc[(pairs.location_diff==0) & (pairs.match==False)]),'pairs with location_diff=0 but different POIs, out of all',len(pairs),'pairs.')"
   ]
  },
  {
   "cell_type": "code",
   "execution_count": null,
   "metadata": {
    "colab": {
     "base_uri": "https://localhost:8080/"
    },
    "id": "sKU0SDovcmji",
    "outputId": "0ce5b625-41a3-450d-ad07-d33544c446ac"
   },
   "outputs": [
    {
     "data": {
      "text/plain": [
       "array([['E_e4da3f6a7ad158', 'Aoraki Mount Cook', -43.73289364636436,\n",
       "        170.09544602116455, 'Mt Cook National Park',\n",
       "        'Mount Cook Village', 'Canterbury', nan, 'NZ',\n",
       "        'http://www.doc.govt.nz', nan, 'Mountains', 'E_faaaf010fbdf76',\n",
       "        'Mt. Cook', -38.13113938012586, 176.24823588915947, nan, nan,\n",
       "        nan, nan, 'NZ', nan, nan, 'Mountains', True, 6.152789867994926,\n",
       "        -1.0, 0.4545454545454546]], dtype=object)"
      ]
     },
     "execution_count": 43,
     "metadata": {},
     "output_type": "execute_result"
    }
   ],
   "source": [
    "pairs.loc[(pairs.country_1=='NZ') & (pairs.location_diff>5)].values"
   ]
  },
  {
   "cell_type": "markdown",
   "metadata": {
    "id": "dyq-Ele_tUdk"
   },
   "source": [
    "### Name\n",
    "\n",
    "---\n",
    "\n",
    "We compute the difference for names of each pair in `pairs.csv`. "
   ]
  },
  {
   "cell_type": "code",
   "execution_count": null,
   "metadata": {
    "id": "xTKecP6ZuAYd"
   },
   "outputs": [],
   "source": [
    "from difflib import SequenceMatcher\n",
    "import math"
   ]
  },
  {
   "cell_type": "code",
   "execution_count": null,
   "metadata": {
    "id": "w5OyBOHCvHO-"
   },
   "outputs": [],
   "source": [
    "# Reference: https://stackoverflow.com/questions/43916271/python-pandas-sequencematch-columns-for-each-value-and-return-closet-match\n",
    "\n",
    "def sim_metric(df, col1, col2):\n",
    "    a = df[col1]\n",
    "    b = df[col2]\n",
    "    \n",
    "    if type(a)!=str or type(b)!=str:\n",
    "        return -1\n",
    "    else:\n",
    "        a = a.lower().replace(\" \", \"\").replace(\"'\", \"\")\n",
    "        b = b.lower().replace(\" \", \"\").replace(\"'\", \"\")\n",
    "    #if a in b or b in a: \n",
    "    #    return 0\n",
    "    return 1-SequenceMatcher(None, a, b).ratio()\n"
   ]
  },
  {
   "cell_type": "code",
   "execution_count": null,
   "metadata": {
    "id": "I0MikHep2rW-"
   },
   "outputs": [],
   "source": [
    "pairs['name_diff'] = pairs.apply(sim_metric,\n",
    "                          args=('name_1', 'name_2'),\n",
    "                          axis=1)"
   ]
  },
  {
   "cell_type": "code",
   "execution_count": null,
   "metadata": {
    "colab": {
     "base_uri": "https://localhost:8080/",
     "height": 279
    },
    "id": "9By4VxpsyqXo",
    "outputId": "cf34311d-ca32-4c5c-f0f6-28b0b814b3fc"
   },
   "outputs": [
    {
     "data": {
      "image/png": "[encoded data removed]",
      "text/plain": [
       "<Figure size 432x288 with 1 Axes>"
      ]
     },
     "metadata": {
      "needs_background": "light"
     },
     "output_type": "display_data"
    }
   ],
   "source": [
    "sns.stripplot(x=\"match\", y=\"name_diff\", data=pairs.loc[pairs.country_1=='NZ'])\n",
    "plt.show()"
   ]
  },
  {
   "cell_type": "code",
   "execution_count": null,
   "metadata": {
    "colab": {
     "base_uri": "https://localhost:8080/",
     "height": 279
    },
    "id": "XImegvFXwQRw",
    "outputId": "48057c74-6713-48cd-d436-9effa6e3a16d"
   },
   "outputs": [
    {
     "data": {
      "image/png": "[encoded data removed]",
      "text/plain": [
       "<Figure size 432x288 with 1 Axes>"
      ]
     },
     "metadata": {
      "needs_background": "light"
     },
     "output_type": "display_data"
    }
   ],
   "source": [
    "sns.stripplot(x=\"match\", y=\"name_diff\", data=pairs.loc[(pairs.country_1=='NZ') & (pairs.name_diff<0.1)])\n",
    "plt.show()"
   ]
  },
  {
   "cell_type": "code",
   "execution_count": null,
   "metadata": {
    "colab": {
     "base_uri": "https://localhost:8080/",
     "height": 424
    },
    "id": "tReb11xB0XT4",
    "outputId": "e44edb74-281d-4d7a-cc13-fdcd1156232a"
   },
   "outputs": [
    {
     "data": {
      "text/html": [
       "\n",
       "  <div id=\"df-ce61af6f-8c1c-49fb-ae2c-5d2d5d112f27\">\n",
       "    <div class=\"colab-df-container\">\n",
       "      <div>\n",
       "<style scoped>\n",
       "    .dataframe tbody tr th:only-of-type {\n",
       "        vertical-align: middle;\n",
       "    }\n",
       "\n",
       "    .dataframe tbody tr th {\n",
       "        vertical-align: top;\n",
       "    }\n",
       "\n",
       "    .dataframe thead th {\n",
       "        text-align: right;\n",
       "    }\n",
       "</style>\n",
       "<table border=\"1\" class=\"dataframe\">\n",
       "  <thead>\n",
       "    <tr style=\"text-align: right;\">\n",
       "      <th></th>\n",
       "      <th>name_1</th>\n",
       "      <th>name_2</th>\n",
       "    </tr>\n",
       "  </thead>\n",
       "  <tbody>\n",
       "    <tr>\n",
       "      <th>1</th>\n",
       "      <td>Turkcell</td>\n",
       "      <td>Turkcell</td>\n",
       "    </tr>\n",
       "    <tr>\n",
       "      <th>4</th>\n",
       "      <td>Coffee Cat</td>\n",
       "      <td>Coffeecat</td>\n",
       "    </tr>\n",
       "    <tr>\n",
       "      <th>37</th>\n",
       "      <td>Kipa Extra</td>\n",
       "      <td>Kipa Extra</td>\n",
       "    </tr>\n",
       "    <tr>\n",
       "      <th>94</th>\n",
       "      <td>Рубль бум</td>\n",
       "      <td>Рубль Бум</td>\n",
       "    </tr>\n",
       "    <tr>\n",
       "      <th>151</th>\n",
       "      <td>LiHO</td>\n",
       "      <td>LiHO</td>\n",
       "    </tr>\n",
       "    <tr>\n",
       "      <th>...</th>\n",
       "      <td>...</td>\n",
       "      <td>...</td>\n",
       "    </tr>\n",
       "    <tr>\n",
       "      <th>578607</th>\n",
       "      <td>Cosi</td>\n",
       "      <td>Cosi</td>\n",
       "    </tr>\n",
       "    <tr>\n",
       "      <th>578614</th>\n",
       "      <td>ПЭК</td>\n",
       "      <td>ПЭК</td>\n",
       "    </tr>\n",
       "    <tr>\n",
       "      <th>578773</th>\n",
       "      <td>The Coffee Bean &amp; Tea Leaf</td>\n",
       "      <td>The Coffee Bean &amp; Tea Leaf</td>\n",
       "    </tr>\n",
       "    <tr>\n",
       "      <th>578894</th>\n",
       "      <td>7-Eleven</td>\n",
       "      <td>7-Eleven</td>\n",
       "    </tr>\n",
       "    <tr>\n",
       "      <th>578895</th>\n",
       "      <td>WESTLOTTO</td>\n",
       "      <td>WESTLOTTO</td>\n",
       "    </tr>\n",
       "  </tbody>\n",
       "</table>\n",
       "<p>13352 rows × 2 columns</p>\n",
       "</div>\n",
       "      <button class=\"colab-df-convert\" onclick=\"convertToInteractive('df-ce61af6f-8c1c-49fb-ae2c-5d2d5d112f27')\"\n",
       "              title=\"Convert this dataframe to an interactive table.\"\n",
       "              style=\"display:none;\">\n",
       "        \n",
       "  <svg xmlns=\"http://www.w3.org/2000/svg\" height=\"24px\"viewBox=\"0 0 24 24\"\n",
       "       width=\"24px\">\n",
       "    <path d=\"M0 0h24v24H0V0z\" fill=\"none\"/>\n",
       "    <path d=\"M18.56 5.44l.94 2.06.94-2.06 2.06-.94-2.06-.94-.94-2.06-.94 2.06-2.06.94zm-11 1L8.5 8.5l.94-2.06 2.06-.94-2.06-.94L8.5 2.5l-.94 2.06-2.06.94zm10 10l.94 2.06.94-2.06 2.06-.94-2.06-.94-.94-2.06-.94 2.06-2.06.94z\"/><path d=\"M17.41 7.96l-1.37-1.37c-.4-.4-.92-.59-1.43-.59-.52 0-1.04.2-1.43.59L10.3 9.45l-7.72 7.72c-.78.78-.78 2.05 0 2.83L4 21.41c.39.39.9.59 1.41.59.51 0 1.02-.2 1.41-.59l7.78-7.78 2.81-2.81c.8-.78.8-2.07 0-2.86zM5.41 20L4 18.59l7.72-7.72 1.47 1.35L5.41 20z\"/>\n",
       "  </svg>\n",
       "      </button>\n",
       "      \n",
       "  <style>\n",
       "    .colab-df-container {\n",
       "      display:flex;\n",
       "      flex-wrap:wrap;\n",
       "      gap: 12px;\n",
       "    }\n",
       "\n",
       "    .colab-df-convert {\n",
       "      background-color: #E8F0FE;\n",
       "      border: none;\n",
       "      border-radius: 50%;\n",
       "      cursor: pointer;\n",
       "      display: none;\n",
       "      fill: #1967D2;\n",
       "      height: 32px;\n",
       "      padding: 0 0 0 0;\n",
       "      width: 32px;\n",
       "    }\n",
       "\n",
       "    .colab-df-convert:hover {\n",
       "      background-color: #E2EBFA;\n",
       "      box-shadow: 0px 1px 2px rgba(60, 64, 67, 0.3), 0px 1px 3px 1px rgba(60, 64, 67, 0.15);\n",
       "      fill: #174EA6;\n",
       "    }\n",
       "\n",
       "    [theme=dark] .colab-df-convert {\n",
       "      background-color: #3B4455;\n",
       "      fill: #D2E3FC;\n",
       "    }\n",
       "\n",
       "    [theme=dark] .colab-df-convert:hover {\n",
       "      background-color: #434B5C;\n",
       "      box-shadow: 0px 1px 3px 1px rgba(0, 0, 0, 0.15);\n",
       "      filter: drop-shadow(0px 1px 2px rgba(0, 0, 0, 0.3));\n",
       "      fill: #FFFFFF;\n",
       "    }\n",
       "  </style>\n",
       "\n",
       "      <script>\n",
       "        const buttonEl =\n",
       "          document.querySelector('#df-ce61af6f-8c1c-49fb-ae2c-5d2d5d112f27 button.colab-df-convert');\n",
       "        buttonEl.style.display =\n",
       "          google.colab.kernel.accessAllowed ? 'block' : 'none';\n",
       "\n",
       "        async function convertToInteractive(key) {\n",
       "          const element = document.querySelector('#df-ce61af6f-8c1c-49fb-ae2c-5d2d5d112f27');\n",
       "          const dataTable =\n",
       "            await google.colab.kernel.invokeFunction('convertToInteractive',\n",
       "                                                     [key], {});\n",
       "          if (!dataTable) return;\n",
       "\n",
       "          const docLinkHtml = 'Like what you see? Visit the ' +\n",
       "            '<a target=\"_blank\" href=https://colab.research.google.com/notebooks/data_table.ipynb>data table notebook</a>'\n",
       "            + ' to learn more about interactive tables.';\n",
       "          element.innerHTML = '';\n",
       "          dataTable['output_type'] = 'display_data';\n",
       "          await google.colab.output.renderOutput(dataTable, element);\n",
       "          const docLink = document.createElement('div');\n",
       "          docLink.innerHTML = docLinkHtml;\n",
       "          element.appendChild(docLink);\n",
       "        }\n",
       "      </script>\n",
       "    </div>\n",
       "  </div>\n",
       "  "
      ],
      "text/plain": [
       "                            name_1                      name_2\n",
       "1                         Turkcell                    Turkcell\n",
       "4                       Coffee Cat                   Coffeecat\n",
       "37                      Kipa Extra                  Kipa Extra\n",
       "94                       Рубль бум                   Рубль Бум\n",
       "151                           LiHO                        LiHO\n",
       "...                            ...                         ...\n",
       "578607                        Cosi                        Cosi\n",
       "578614                         ПЭК                         ПЭК\n",
       "578773  The Coffee Bean & Tea Leaf  The Coffee Bean & Tea Leaf\n",
       "578894                    7-Eleven                    7-Eleven\n",
       "578895                   WESTLOTTO                   WESTLOTTO\n",
       "\n",
       "[13352 rows x 2 columns]"
      ]
     },
     "execution_count": 36,
     "metadata": {},
     "output_type": "execute_result"
    }
   ],
   "source": [
    "pairs.loc[(pairs.location_diff<0.01)&(pairs.name_diff==0)&(pairs.match==False)][['name_1','name_2']]"
   ]
  },
  {
   "cell_type": "code",
   "execution_count": null,
   "metadata": {
    "colab": {
     "base_uri": "https://localhost:8080/",
     "height": 438
    },
    "id": "pCUkjnTx20-a",
    "outputId": "e1163ff9-4324-4780-b23f-92d0d283dedc"
   },
   "outputs": [
    {
     "data": {
      "text/html": [
       "\n",
       "  <div id=\"df-e628b1b9-b338-4c60-ba8c-c53f12e21be3\">\n",
       "    <div class=\"colab-df-container\">\n",
       "      <div>\n",
       "<style scoped>\n",
       "    .dataframe tbody tr th:only-of-type {\n",
       "        vertical-align: middle;\n",
       "    }\n",
       "\n",
       "    .dataframe tbody tr th {\n",
       "        vertical-align: top;\n",
       "    }\n",
       "\n",
       "    .dataframe thead th {\n",
       "        text-align: right;\n",
       "    }\n",
       "</style>\n",
       "<table border=\"1\" class=\"dataframe\">\n",
       "  <thead>\n",
       "    <tr style=\"text-align: right;\">\n",
       "      <th></th>\n",
       "      <th>id_1</th>\n",
       "      <th>name_1</th>\n",
       "      <th>latitude_1</th>\n",
       "      <th>longitude_1</th>\n",
       "      <th>address_1</th>\n",
       "      <th>city_1</th>\n",
       "      <th>state_1</th>\n",
       "      <th>zip_1</th>\n",
       "      <th>country_1</th>\n",
       "      <th>url_1</th>\n",
       "      <th>...</th>\n",
       "      <th>state_2</th>\n",
       "      <th>zip_2</th>\n",
       "      <th>country_2</th>\n",
       "      <th>url_2</th>\n",
       "      <th>phone_2</th>\n",
       "      <th>categories_2</th>\n",
       "      <th>match</th>\n",
       "      <th>location_diff</th>\n",
       "      <th>address_diff</th>\n",
       "      <th>name_diff</th>\n",
       "    </tr>\n",
       "  </thead>\n",
       "  <tbody>\n",
       "    <tr>\n",
       "      <th>1</th>\n",
       "      <td>E_000008a8ba4f48</td>\n",
       "      <td>Turkcell</td>\n",
       "      <td>37.844510</td>\n",
       "      <td>27.844202</td>\n",
       "      <td>Adnan Menderes Bulvarı</td>\n",
       "      <td>NaN</td>\n",
       "      <td>NaN</td>\n",
       "      <td>NaN</td>\n",
       "      <td>TR</td>\n",
       "      <td>NaN</td>\n",
       "      <td>...</td>\n",
       "      <td>NaN</td>\n",
       "      <td>67500</td>\n",
       "      <td>TR</td>\n",
       "      <td>NaN</td>\n",
       "      <td>NaN</td>\n",
       "      <td>Electronics Stores</td>\n",
       "      <td>False</td>\n",
       "      <td>0.006490</td>\n",
       "      <td>0.793103</td>\n",
       "      <td>0.000000</td>\n",
       "    </tr>\n",
       "    <tr>\n",
       "      <th>43268</th>\n",
       "      <td>E_13399d0868886d</td>\n",
       "      <td>Turkcell</td>\n",
       "      <td>38.455899</td>\n",
       "      <td>27.118820</td>\n",
       "      <td>NaN</td>\n",
       "      <td>NaN</td>\n",
       "      <td>NaN</td>\n",
       "      <td>NaN</td>\n",
       "      <td>TR</td>\n",
       "      <td>NaN</td>\n",
       "      <td>...</td>\n",
       "      <td>Karşıyaka</td>\n",
       "      <td>NaN</td>\n",
       "      <td>TR</td>\n",
       "      <td>NaN</td>\n",
       "      <td>NaN</td>\n",
       "      <td>Distribution Centers</td>\n",
       "      <td>False</td>\n",
       "      <td>0.003390</td>\n",
       "      <td>-1.000000</td>\n",
       "      <td>0.000000</td>\n",
       "    </tr>\n",
       "    <tr>\n",
       "      <th>263706</th>\n",
       "      <td>E_744ad2ebec744d</td>\n",
       "      <td>Turkcell</td>\n",
       "      <td>40.983061</td>\n",
       "      <td>29.132542</td>\n",
       "      <td>Küçükbakkalköy Mah. Dudullu Cad. No:23-25</td>\n",
       "      <td>Ataşehir</td>\n",
       "      <td>Atasehir</td>\n",
       "      <td>34750</td>\n",
       "      <td>TR</td>\n",
       "      <td>NaN</td>\n",
       "      <td>...</td>\n",
       "      <td>NaN</td>\n",
       "      <td>NaN</td>\n",
       "      <td>TR</td>\n",
       "      <td>NaN</td>\n",
       "      <td>NaN</td>\n",
       "      <td>Mobile Phone Shops</td>\n",
       "      <td>True</td>\n",
       "      <td>0.001002</td>\n",
       "      <td>-1.000000</td>\n",
       "      <td>0.407407</td>\n",
       "    </tr>\n",
       "    <tr>\n",
       "      <th>305574</th>\n",
       "      <td>E_86e160273c83bb</td>\n",
       "      <td>Turkcell</td>\n",
       "      <td>38.723480</td>\n",
       "      <td>35.496717</td>\n",
       "      <td>Hunat Mah. Sivas Cad. No:24/1</td>\n",
       "      <td>Melikgazi</td>\n",
       "      <td>Kayseri</td>\n",
       "      <td>38140</td>\n",
       "      <td>TR</td>\n",
       "      <td>http://www.turkcell.com.tr</td>\n",
       "      <td>...</td>\n",
       "      <td>NaN</td>\n",
       "      <td>NaN</td>\n",
       "      <td>TR</td>\n",
       "      <td>NaN</td>\n",
       "      <td>NaN</td>\n",
       "      <td>Electronics Stores</td>\n",
       "      <td>True</td>\n",
       "      <td>0.000082</td>\n",
       "      <td>-1.000000</td>\n",
       "      <td>0.238095</td>\n",
       "    </tr>\n",
       "    <tr>\n",
       "      <th>385307</th>\n",
       "      <td>E_aa2cc5e2aa773e</td>\n",
       "      <td>Turkcell</td>\n",
       "      <td>36.863923</td>\n",
       "      <td>30.728908</td>\n",
       "      <td>NaN</td>\n",
       "      <td>NaN</td>\n",
       "      <td>NaN</td>\n",
       "      <td>NaN</td>\n",
       "      <td>TR</td>\n",
       "      <td>NaN</td>\n",
       "      <td>...</td>\n",
       "      <td>NaN</td>\n",
       "      <td>NaN</td>\n",
       "      <td>TR</td>\n",
       "      <td>NaN</td>\n",
       "      <td>NaN</td>\n",
       "      <td>Mobile Phone Shops</td>\n",
       "      <td>True</td>\n",
       "      <td>0.000477</td>\n",
       "      <td>-1.000000</td>\n",
       "      <td>0.000000</td>\n",
       "    </tr>\n",
       "  </tbody>\n",
       "</table>\n",
       "<p>5 rows × 28 columns</p>\n",
       "</div>\n",
       "      <button class=\"colab-df-convert\" onclick=\"convertToInteractive('df-e628b1b9-b338-4c60-ba8c-c53f12e21be3')\"\n",
       "              title=\"Convert this dataframe to an interactive table.\"\n",
       "              style=\"display:none;\">\n",
       "        \n",
       "  <svg xmlns=\"http://www.w3.org/2000/svg\" height=\"24px\"viewBox=\"0 0 24 24\"\n",
       "       width=\"24px\">\n",
       "    <path d=\"M0 0h24v24H0V0z\" fill=\"none\"/>\n",
       "    <path d=\"M18.56 5.44l.94 2.06.94-2.06 2.06-.94-2.06-.94-.94-2.06-.94 2.06-2.06.94zm-11 1L8.5 8.5l.94-2.06 2.06-.94-2.06-.94L8.5 2.5l-.94 2.06-2.06.94zm10 10l.94 2.06.94-2.06 2.06-.94-2.06-.94-.94-2.06-.94 2.06-2.06.94z\"/><path d=\"M17.41 7.96l-1.37-1.37c-.4-.4-.92-.59-1.43-.59-.52 0-1.04.2-1.43.59L10.3 9.45l-7.72 7.72c-.78.78-.78 2.05 0 2.83L4 21.41c.39.39.9.59 1.41.59.51 0 1.02-.2 1.41-.59l7.78-7.78 2.81-2.81c.8-.78.8-2.07 0-2.86zM5.41 20L4 18.59l7.72-7.72 1.47 1.35L5.41 20z\"/>\n",
       "  </svg>\n",
       "      </button>\n",
       "      \n",
       "  <style>\n",
       "    .colab-df-container {\n",
       "      display:flex;\n",
       "      flex-wrap:wrap;\n",
       "      gap: 12px;\n",
       "    }\n",
       "\n",
       "    .colab-df-convert {\n",
       "      background-color: #E8F0FE;\n",
       "      border: none;\n",
       "      border-radius: 50%;\n",
       "      cursor: pointer;\n",
       "      display: none;\n",
       "      fill: #1967D2;\n",
       "      height: 32px;\n",
       "      padding: 0 0 0 0;\n",
       "      width: 32px;\n",
       "    }\n",
       "\n",
       "    .colab-df-convert:hover {\n",
       "      background-color: #E2EBFA;\n",
       "      box-shadow: 0px 1px 2px rgba(60, 64, 67, 0.3), 0px 1px 3px 1px rgba(60, 64, 67, 0.15);\n",
       "      fill: #174EA6;\n",
       "    }\n",
       "\n",
       "    [theme=dark] .colab-df-convert {\n",
       "      background-color: #3B4455;\n",
       "      fill: #D2E3FC;\n",
       "    }\n",
       "\n",
       "    [theme=dark] .colab-df-convert:hover {\n",
       "      background-color: #434B5C;\n",
       "      box-shadow: 0px 1px 3px 1px rgba(0, 0, 0, 0.15);\n",
       "      filter: drop-shadow(0px 1px 2px rgba(0, 0, 0, 0.3));\n",
       "      fill: #FFFFFF;\n",
       "    }\n",
       "  </style>\n",
       "\n",
       "      <script>\n",
       "        const buttonEl =\n",
       "          document.querySelector('#df-e628b1b9-b338-4c60-ba8c-c53f12e21be3 button.colab-df-convert');\n",
       "        buttonEl.style.display =\n",
       "          google.colab.kernel.accessAllowed ? 'block' : 'none';\n",
       "\n",
       "        async function convertToInteractive(key) {\n",
       "          const element = document.querySelector('#df-e628b1b9-b338-4c60-ba8c-c53f12e21be3');\n",
       "          const dataTable =\n",
       "            await google.colab.kernel.invokeFunction('convertToInteractive',\n",
       "                                                     [key], {});\n",
       "          if (!dataTable) return;\n",
       "\n",
       "          const docLinkHtml = 'Like what you see? Visit the ' +\n",
       "            '<a target=\"_blank\" href=https://colab.research.google.com/notebooks/data_table.ipynb>data table notebook</a>'\n",
       "            + ' to learn more about interactive tables.';\n",
       "          element.innerHTML = '';\n",
       "          dataTable['output_type'] = 'display_data';\n",
       "          await google.colab.output.renderOutput(dataTable, element);\n",
       "          const docLink = document.createElement('div');\n",
       "          docLink.innerHTML = docLinkHtml;\n",
       "          element.appendChild(docLink);\n",
       "        }\n",
       "      </script>\n",
       "    </div>\n",
       "  </div>\n",
       "  "
      ],
      "text/plain": [
       "                    id_1    name_1  latitude_1  longitude_1  \\\n",
       "1       E_000008a8ba4f48  Turkcell   37.844510    27.844202   \n",
       "43268   E_13399d0868886d  Turkcell   38.455899    27.118820   \n",
       "263706  E_744ad2ebec744d  Turkcell   40.983061    29.132542   \n",
       "305574  E_86e160273c83bb  Turkcell   38.723480    35.496717   \n",
       "385307  E_aa2cc5e2aa773e  Turkcell   36.863923    30.728908   \n",
       "\n",
       "                                        address_1     city_1   state_1  zip_1  \\\n",
       "1                          Adnan Menderes Bulvarı        NaN       NaN    NaN   \n",
       "43268                                         NaN        NaN       NaN    NaN   \n",
       "263706  Küçükbakkalköy Mah. Dudullu Cad. No:23-25   Ataşehir  Atasehir  34750   \n",
       "305574              Hunat Mah. Sivas Cad. No:24/1  Melikgazi   Kayseri  38140   \n",
       "385307                                        NaN        NaN       NaN    NaN   \n",
       "\n",
       "       country_1                       url_1  ...    state_2  zip_2 country_2  \\\n",
       "1             TR                         NaN  ...        NaN  67500        TR   \n",
       "43268         TR                         NaN  ...  Karşıyaka    NaN        TR   \n",
       "263706        TR                         NaN  ...        NaN    NaN        TR   \n",
       "305574        TR  http://www.turkcell.com.tr  ...        NaN    NaN        TR   \n",
       "385307        TR                         NaN  ...        NaN    NaN        TR   \n",
       "\n",
       "       url_2  phone_2          categories_2  match location_diff address_diff  \\\n",
       "1        NaN      NaN    Electronics Stores  False      0.006490     0.793103   \n",
       "43268    NaN      NaN  Distribution Centers  False      0.003390    -1.000000   \n",
       "263706   NaN      NaN    Mobile Phone Shops   True      0.001002    -1.000000   \n",
       "305574   NaN      NaN    Electronics Stores   True      0.000082    -1.000000   \n",
       "385307   NaN      NaN    Mobile Phone Shops   True      0.000477    -1.000000   \n",
       "\n",
       "       name_diff  \n",
       "1       0.000000  \n",
       "43268   0.000000  \n",
       "263706  0.407407  \n",
       "305574  0.238095  \n",
       "385307  0.000000  \n",
       "\n",
       "[5 rows x 28 columns]"
      ]
     },
     "execution_count": 37,
     "metadata": {},
     "output_type": "execute_result"
    }
   ],
   "source": [
    "pairs.loc[pairs.name_1=='Turkcell']"
   ]
  },
  {
   "cell_type": "markdown",
   "metadata": {
    "id": "TNLatSS55NQ-"
   },
   "source": [
    "### Address"
   ]
  },
  {
   "cell_type": "code",
   "execution_count": null,
   "metadata": {
    "id": "DT6QUtHb3Btp"
   },
   "outputs": [],
   "source": [
    "pairs['address_diff'] = pairs.apply(sim_metric,\n",
    "                          args=('address_1', 'address_2'),\n",
    "                          axis=1)"
   ]
  },
  {
   "cell_type": "code",
   "execution_count": null,
   "metadata": {
    "colab": {
     "base_uri": "https://localhost:8080/",
     "height": 279
    },
    "id": "gEyh32Hy5G3j",
    "outputId": "381330d7-df63-40c3-85e1-8a1ea9921ed4"
   },
   "outputs": [
    {
     "data": {
      "image/png": "[encoded data removed]",
      "text/plain": [
       "<Figure size 432x288 with 1 Axes>"
      ]
     },
     "metadata": {
      "needs_background": "light"
     },
     "output_type": "display_data"
    }
   ],
   "source": [
    "sns.stripplot(x=\"match\", y=\"address_diff\", data=pairs.loc[pairs.country_1=='NZ'])\n",
    "plt.show()"
   ]
  },
  {
   "cell_type": "code",
   "execution_count": null,
   "metadata": {
    "colab": {
     "base_uri": "https://localhost:8080/",
     "height": 279
    },
    "id": "61qiJkbJ5VQT",
    "outputId": "93eb3143-b77d-436b-bf10-f563a6ecec95"
   },
   "outputs": [
    {
     "data": {
      "image/png": "[encoded data removed]",
      "text/plain": [
       "<Figure size 432x288 with 1 Axes>"
      ]
     },
     "metadata": {
      "needs_background": "light"
     },
     "output_type": "display_data"
    }
   ],
   "source": [
    "sns.stripplot(x=\"match\", y=\"address_diff\", data=pairs.loc[(pairs.country_1=='NZ')&(pairs.address_diff>=0)])\n",
    "plt.show()"
   ]
  },
  {
   "cell_type": "code",
   "execution_count": null,
   "metadata": {
    "colab": {
     "base_uri": "https://localhost:8080/",
     "height": 424
    },
    "id": "kBll3hel5SvN",
    "outputId": "86aabb01-04eb-4138-fc7e-37f011fbae12"
   },
   "outputs": [
    {
     "data": {
      "text/html": [
       "\n",
       "  <div id=\"df-1b3e593c-bdd7-4cad-b374-01ec5acaf4bf\">\n",
       "    <div class=\"colab-df-container\">\n",
       "      <div>\n",
       "<style scoped>\n",
       "    .dataframe tbody tr th:only-of-type {\n",
       "        vertical-align: middle;\n",
       "    }\n",
       "\n",
       "    .dataframe tbody tr th {\n",
       "        vertical-align: top;\n",
       "    }\n",
       "\n",
       "    .dataframe thead th {\n",
       "        text-align: right;\n",
       "    }\n",
       "</style>\n",
       "<table border=\"1\" class=\"dataframe\">\n",
       "  <thead>\n",
       "    <tr style=\"text-align: right;\">\n",
       "      <th></th>\n",
       "      <th>name_1</th>\n",
       "      <th>name_2</th>\n",
       "      <th>address_1</th>\n",
       "      <th>address_2</th>\n",
       "    </tr>\n",
       "  </thead>\n",
       "  <tbody>\n",
       "    <tr>\n",
       "      <th>532</th>\n",
       "      <td>Parkview High School Building H</td>\n",
       "      <td>Parkview High School Building C</td>\n",
       "      <td>998 Cole Dr, Lilburn, GA 30047</td>\n",
       "      <td>998 Cole Dr, Lilburn, GA 30047</td>\n",
       "    </tr>\n",
       "    <tr>\n",
       "      <th>2526</th>\n",
       "      <td>Sprague Lake Rest Area (Westbound)</td>\n",
       "      <td>Sprague Lake Rest Area (Eastbound)</td>\n",
       "      <td>Interstate 90</td>\n",
       "      <td>Interstate 90</td>\n",
       "    </tr>\n",
       "    <tr>\n",
       "      <th>5315</th>\n",
       "      <td>Section 304</td>\n",
       "      <td>Section 305</td>\n",
       "      <td>KeyBank Center</td>\n",
       "      <td>KeyBank Center</td>\n",
       "    </tr>\n",
       "    <tr>\n",
       "      <th>5316</th>\n",
       "      <td>Section 304</td>\n",
       "      <td>Section 308</td>\n",
       "      <td>KeyBank Center</td>\n",
       "      <td>KeyBank Center</td>\n",
       "    </tr>\n",
       "    <tr>\n",
       "      <th>6259</th>\n",
       "      <td>Facebook 1050 Building 2</td>\n",
       "      <td>Facebook 1050 Building 1</td>\n",
       "      <td>1050 Page Mill Rd</td>\n",
       "      <td>1050 Page Mill Rd</td>\n",
       "    </tr>\n",
       "    <tr>\n",
       "      <th>...</th>\n",
       "      <td>...</td>\n",
       "      <td>...</td>\n",
       "      <td>...</td>\n",
       "      <td>...</td>\n",
       "    </tr>\n",
       "    <tr>\n",
       "      <th>571522</th>\n",
       "      <td>Conference Room HS 2007</td>\n",
       "      <td>Conference Room HS 2038</td>\n",
       "      <td>Health Information and Translational Science (HS)</td>\n",
       "      <td>Health Information and Translational Science (HS)</td>\n",
       "    </tr>\n",
       "    <tr>\n",
       "      <th>572791</th>\n",
       "      <td>Mann Center for the Performing Arts</td>\n",
       "      <td>Mann Center for the Performing Arts D Gate</td>\n",
       "      <td>5201 Parkside Ave</td>\n",
       "      <td>5201 Parkside Ave</td>\n",
       "    </tr>\n",
       "    <tr>\n",
       "      <th>575350</th>\n",
       "      <td>Pozez Education Center Centennial D</td>\n",
       "      <td>Pozez Education Center Centennial A</td>\n",
       "      <td>1505 SW 8th Ave</td>\n",
       "      <td>1505 SW 8th Ave</td>\n",
       "    </tr>\n",
       "    <tr>\n",
       "      <th>576064</th>\n",
       "      <td>UCF Business Administration II (BA2)</td>\n",
       "      <td>UCF Business Administration I (BA1)</td>\n",
       "      <td>4000 Central Florida Blvd</td>\n",
       "      <td>4000 Central Florida Blvd</td>\n",
       "    </tr>\n",
       "    <tr>\n",
       "      <th>578153</th>\n",
       "      <td>Gym @ Spinnaker Bay Apartments</td>\n",
       "      <td>Spinnaker Bay Apartments</td>\n",
       "      <td>707 President St</td>\n",
       "      <td>707 President St</td>\n",
       "    </tr>\n",
       "  </tbody>\n",
       "</table>\n",
       "<p>375 rows × 4 columns</p>\n",
       "</div>\n",
       "      <button class=\"colab-df-convert\" onclick=\"convertToInteractive('df-1b3e593c-bdd7-4cad-b374-01ec5acaf4bf')\"\n",
       "              title=\"Convert this dataframe to an interactive table.\"\n",
       "              style=\"display:none;\">\n",
       "        \n",
       "  <svg xmlns=\"http://www.w3.org/2000/svg\" height=\"24px\"viewBox=\"0 0 24 24\"\n",
       "       width=\"24px\">\n",
       "    <path d=\"M0 0h24v24H0V0z\" fill=\"none\"/>\n",
       "    <path d=\"M18.56 5.44l.94 2.06.94-2.06 2.06-.94-2.06-.94-.94-2.06-.94 2.06-2.06.94zm-11 1L8.5 8.5l.94-2.06 2.06-.94-2.06-.94L8.5 2.5l-.94 2.06-2.06.94zm10 10l.94 2.06.94-2.06 2.06-.94-2.06-.94-.94-2.06-.94 2.06-2.06.94z\"/><path d=\"M17.41 7.96l-1.37-1.37c-.4-.4-.92-.59-1.43-.59-.52 0-1.04.2-1.43.59L10.3 9.45l-7.72 7.72c-.78.78-.78 2.05 0 2.83L4 21.41c.39.39.9.59 1.41.59.51 0 1.02-.2 1.41-.59l7.78-7.78 2.81-2.81c.8-.78.8-2.07 0-2.86zM5.41 20L4 18.59l7.72-7.72 1.47 1.35L5.41 20z\"/>\n",
       "  </svg>\n",
       "      </button>\n",
       "      \n",
       "  <style>\n",
       "    .colab-df-container {\n",
       "      display:flex;\n",
       "      flex-wrap:wrap;\n",
       "      gap: 12px;\n",
       "    }\n",
       "\n",
       "    .colab-df-convert {\n",
       "      background-color: #E8F0FE;\n",
       "      border: none;\n",
       "      border-radius: 50%;\n",
       "      cursor: pointer;\n",
       "      display: none;\n",
       "      fill: #1967D2;\n",
       "      height: 32px;\n",
       "      padding: 0 0 0 0;\n",
       "      width: 32px;\n",
       "    }\n",
       "\n",
       "    .colab-df-convert:hover {\n",
       "      background-color: #E2EBFA;\n",
       "      box-shadow: 0px 1px 2px rgba(60, 64, 67, 0.3), 0px 1px 3px 1px rgba(60, 64, 67, 0.15);\n",
       "      fill: #174EA6;\n",
       "    }\n",
       "\n",
       "    [theme=dark] .colab-df-convert {\n",
       "      background-color: #3B4455;\n",
       "      fill: #D2E3FC;\n",
       "    }\n",
       "\n",
       "    [theme=dark] .colab-df-convert:hover {\n",
       "      background-color: #434B5C;\n",
       "      box-shadow: 0px 1px 3px 1px rgba(0, 0, 0, 0.15);\n",
       "      filter: drop-shadow(0px 1px 2px rgba(0, 0, 0, 0.3));\n",
       "      fill: #FFFFFF;\n",
       "    }\n",
       "  </style>\n",
       "\n",
       "      <script>\n",
       "        const buttonEl =\n",
       "          document.querySelector('#df-1b3e593c-bdd7-4cad-b374-01ec5acaf4bf button.colab-df-convert');\n",
       "        buttonEl.style.display =\n",
       "          google.colab.kernel.accessAllowed ? 'block' : 'none';\n",
       "\n",
       "        async function convertToInteractive(key) {\n",
       "          const element = document.querySelector('#df-1b3e593c-bdd7-4cad-b374-01ec5acaf4bf');\n",
       "          const dataTable =\n",
       "            await google.colab.kernel.invokeFunction('convertToInteractive',\n",
       "                                                     [key], {});\n",
       "          if (!dataTable) return;\n",
       "\n",
       "          const docLinkHtml = 'Like what you see? Visit the ' +\n",
       "            '<a target=\"_blank\" href=https://colab.research.google.com/notebooks/data_table.ipynb>data table notebook</a>'\n",
       "            + ' to learn more about interactive tables.';\n",
       "          element.innerHTML = '';\n",
       "          dataTable['output_type'] = 'display_data';\n",
       "          await google.colab.output.renderOutput(dataTable, element);\n",
       "          const docLink = document.createElement('div');\n",
       "          docLink.innerHTML = docLinkHtml;\n",
       "          element.appendChild(docLink);\n",
       "        }\n",
       "      </script>\n",
       "    </div>\n",
       "  </div>\n",
       "  "
      ],
      "text/plain": [
       "                                      name_1  \\\n",
       "532          Parkview High School Building H   \n",
       "2526      Sprague Lake Rest Area (Westbound)   \n",
       "5315                             Section 304   \n",
       "5316                             Section 304   \n",
       "6259                Facebook 1050 Building 2   \n",
       "...                                      ...   \n",
       "571522               Conference Room HS 2007   \n",
       "572791   Mann Center for the Performing Arts   \n",
       "575350   Pozez Education Center Centennial D   \n",
       "576064  UCF Business Administration II (BA2)   \n",
       "578153        Gym @ Spinnaker Bay Apartments   \n",
       "\n",
       "                                            name_2  \\\n",
       "532                Parkview High School Building C   \n",
       "2526            Sprague Lake Rest Area (Eastbound)   \n",
       "5315                                   Section 305   \n",
       "5316                                   Section 308   \n",
       "6259                      Facebook 1050 Building 1   \n",
       "...                                            ...   \n",
       "571522                     Conference Room HS 2038   \n",
       "572791  Mann Center for the Performing Arts D Gate   \n",
       "575350         Pozez Education Center Centennial A   \n",
       "576064         UCF Business Administration I (BA1)   \n",
       "578153                    Spinnaker Bay Apartments   \n",
       "\n",
       "                                                address_1  \\\n",
       "532                        998 Cole Dr, Lilburn, GA 30047   \n",
       "2526                                        Interstate 90   \n",
       "5315                                       KeyBank Center   \n",
       "5316                                       KeyBank Center   \n",
       "6259                                    1050 Page Mill Rd   \n",
       "...                                                   ...   \n",
       "571522  Health Information and Translational Science (HS)   \n",
       "572791                                  5201 Parkside Ave   \n",
       "575350                                    1505 SW 8th Ave   \n",
       "576064                          4000 Central Florida Blvd   \n",
       "578153                                   707 President St   \n",
       "\n",
       "                                                address_2  \n",
       "532                        998 Cole Dr, Lilburn, GA 30047  \n",
       "2526                                        Interstate 90  \n",
       "5315                                       KeyBank Center  \n",
       "5316                                       KeyBank Center  \n",
       "6259                                    1050 Page Mill Rd  \n",
       "...                                                   ...  \n",
       "571522  Health Information and Translational Science (HS)  \n",
       "572791                                  5201 Parkside Ave  \n",
       "575350                                    1505 SW 8th Ave  \n",
       "576064                          4000 Central Florida Blvd  \n",
       "578153                                   707 President St  \n",
       "\n",
       "[375 rows x 4 columns]"
      ]
     },
     "execution_count": 45,
     "metadata": {},
     "output_type": "execute_result"
    }
   ],
   "source": [
    "pairs.loc[(pairs.location_diff<0.01)&(pairs.name_diff<0.1)&(pairs.address_diff==0)&(pairs.match==False)&(pairs.country_1=='US')][['name_1','name_2','address_1','address_2']]"
   ]
  },
  {
   "cell_type": "code",
   "execution_count": null,
   "metadata": {
    "colab": {
     "base_uri": "https://localhost:8080/"
    },
    "id": "eOBs8T7OK0JY",
    "outputId": "20f4eea6-5901-45d8-fe9e-a41531c34bb7"
   },
   "outputs": [
    {
     "data": {
      "text/plain": [
       "True     398786\n",
       "False    180121\n",
       "Name: match, dtype: int64"
      ]
     },
     "execution_count": 46,
     "metadata": {},
     "output_type": "execute_result"
    }
   ],
   "source": [
    "pairs.match.value_counts()"
   ]
  },
  {
   "cell_type": "code",
   "execution_count": null,
   "metadata": {
    "colab": {
     "base_uri": "https://localhost:8080/"
    },
    "id": "mzuSWES4KJHt",
    "outputId": "01ccffe2-217d-4fbc-bcaf-b6e7d5657858"
   },
   "outputs": [
    {
     "data": {
      "text/plain": [
       "True     394720\n",
       "False    179720\n",
       "Name: match, dtype: int64"
      ]
     },
     "execution_count": 47,
     "metadata": {},
     "output_type": "execute_result"
    }
   ],
   "source": [
    "pairs.loc[pairs.location_diff<1].match.value_counts()"
   ]
  },
  {
   "cell_type": "markdown",
   "metadata": {
    "id": "6pbFEc26581Z"
   },
   "source": [
    "### City"
   ]
  },
  {
   "cell_type": "code",
   "execution_count": null,
   "metadata": {
    "id": "-Grf2BqZ6D6U"
   },
   "outputs": [],
   "source": [
    "pairs['city_diff'] = pairs.apply(sim_metric,\n",
    "                          args=('city_1', 'city_2'),\n",
    "                          axis=1)"
   ]
  },
  {
   "cell_type": "code",
   "execution_count": null,
   "metadata": {
    "colab": {
     "base_uri": "https://localhost:8080/",
     "height": 279
    },
    "id": "gsSp-XK26qtH",
    "outputId": "01e3e423-14bc-4525-888d-50d213306c6d"
   },
   "outputs": [
    {
     "data": {
      "image/png": "[encoded data removed]",
      "text/plain": [
       "<Figure size 432x288 with 1 Axes>"
      ]
     },
     "metadata": {
      "needs_background": "light"
     },
     "output_type": "display_data"
    }
   ],
   "source": [
    "sns.stripplot(x=\"match\", y=\"city_diff\", data=pairs.loc[(pairs.country_1=='NZ')&(pairs.city_diff>=0)])\n",
    "plt.show()"
   ]
  },
  {
   "cell_type": "code",
   "execution_count": null,
   "metadata": {
    "colab": {
     "base_uri": "https://localhost:8080/",
     "height": 424
    },
    "id": "SJmcI4MA7Sr_",
    "outputId": "34beafa5-7548-4803-947f-75853f9591e0"
   },
   "outputs": [
    {
     "data": {
      "text/html": [
       "\n",
       "  <div id=\"df-dcdd6879-73ec-46e3-99e0-1bc46868ac64\">\n",
       "    <div class=\"colab-df-container\">\n",
       "      <div>\n",
       "<style scoped>\n",
       "    .dataframe tbody tr th:only-of-type {\n",
       "        vertical-align: middle;\n",
       "    }\n",
       "\n",
       "    .dataframe tbody tr th {\n",
       "        vertical-align: top;\n",
       "    }\n",
       "\n",
       "    .dataframe thead th {\n",
       "        text-align: right;\n",
       "    }\n",
       "</style>\n",
       "<table border=\"1\" class=\"dataframe\">\n",
       "  <thead>\n",
       "    <tr style=\"text-align: right;\">\n",
       "      <th></th>\n",
       "      <th>name_1</th>\n",
       "      <th>name_2</th>\n",
       "      <th>address_1</th>\n",
       "      <th>address_2</th>\n",
       "    </tr>\n",
       "  </thead>\n",
       "  <tbody>\n",
       "    <tr>\n",
       "      <th>532</th>\n",
       "      <td>Parkview High School Building H</td>\n",
       "      <td>Parkview High School Building C</td>\n",
       "      <td>998 Cole Dr, Lilburn, GA 30047</td>\n",
       "      <td>998 Cole Dr, Lilburn, GA 30047</td>\n",
       "    </tr>\n",
       "    <tr>\n",
       "      <th>2526</th>\n",
       "      <td>Sprague Lake Rest Area (Westbound)</td>\n",
       "      <td>Sprague Lake Rest Area (Eastbound)</td>\n",
       "      <td>Interstate 90</td>\n",
       "      <td>Interstate 90</td>\n",
       "    </tr>\n",
       "    <tr>\n",
       "      <th>5315</th>\n",
       "      <td>Section 304</td>\n",
       "      <td>Section 305</td>\n",
       "      <td>KeyBank Center</td>\n",
       "      <td>KeyBank Center</td>\n",
       "    </tr>\n",
       "    <tr>\n",
       "      <th>5316</th>\n",
       "      <td>Section 304</td>\n",
       "      <td>Section 308</td>\n",
       "      <td>KeyBank Center</td>\n",
       "      <td>KeyBank Center</td>\n",
       "    </tr>\n",
       "    <tr>\n",
       "      <th>6259</th>\n",
       "      <td>Facebook 1050 Building 2</td>\n",
       "      <td>Facebook 1050 Building 1</td>\n",
       "      <td>1050 Page Mill Rd</td>\n",
       "      <td>1050 Page Mill Rd</td>\n",
       "    </tr>\n",
       "    <tr>\n",
       "      <th>...</th>\n",
       "      <td>...</td>\n",
       "      <td>...</td>\n",
       "      <td>...</td>\n",
       "      <td>...</td>\n",
       "    </tr>\n",
       "    <tr>\n",
       "      <th>571522</th>\n",
       "      <td>Conference Room HS 2007</td>\n",
       "      <td>Conference Room HS 2038</td>\n",
       "      <td>Health Information and Translational Science (HS)</td>\n",
       "      <td>Health Information and Translational Science (HS)</td>\n",
       "    </tr>\n",
       "    <tr>\n",
       "      <th>572791</th>\n",
       "      <td>Mann Center for the Performing Arts</td>\n",
       "      <td>Mann Center for the Performing Arts D Gate</td>\n",
       "      <td>5201 Parkside Ave</td>\n",
       "      <td>5201 Parkside Ave</td>\n",
       "    </tr>\n",
       "    <tr>\n",
       "      <th>575350</th>\n",
       "      <td>Pozez Education Center Centennial D</td>\n",
       "      <td>Pozez Education Center Centennial A</td>\n",
       "      <td>1505 SW 8th Ave</td>\n",
       "      <td>1505 SW 8th Ave</td>\n",
       "    </tr>\n",
       "    <tr>\n",
       "      <th>576064</th>\n",
       "      <td>UCF Business Administration II (BA2)</td>\n",
       "      <td>UCF Business Administration I (BA1)</td>\n",
       "      <td>4000 Central Florida Blvd</td>\n",
       "      <td>4000 Central Florida Blvd</td>\n",
       "    </tr>\n",
       "    <tr>\n",
       "      <th>578153</th>\n",
       "      <td>Gym @ Spinnaker Bay Apartments</td>\n",
       "      <td>Spinnaker Bay Apartments</td>\n",
       "      <td>707 President St</td>\n",
       "      <td>707 President St</td>\n",
       "    </tr>\n",
       "  </tbody>\n",
       "</table>\n",
       "<p>353 rows × 4 columns</p>\n",
       "</div>\n",
       "      <button class=\"colab-df-convert\" onclick=\"convertToInteractive('df-dcdd6879-73ec-46e3-99e0-1bc46868ac64')\"\n",
       "              title=\"Convert this dataframe to an interactive table.\"\n",
       "              style=\"display:none;\">\n",
       "        \n",
       "  <svg xmlns=\"http://www.w3.org/2000/svg\" height=\"24px\"viewBox=\"0 0 24 24\"\n",
       "       width=\"24px\">\n",
       "    <path d=\"M0 0h24v24H0V0z\" fill=\"none\"/>\n",
       "    <path d=\"M18.56 5.44l.94 2.06.94-2.06 2.06-.94-2.06-.94-.94-2.06-.94 2.06-2.06.94zm-11 1L8.5 8.5l.94-2.06 2.06-.94-2.06-.94L8.5 2.5l-.94 2.06-2.06.94zm10 10l.94 2.06.94-2.06 2.06-.94-2.06-.94-.94-2.06-.94 2.06-2.06.94z\"/><path d=\"M17.41 7.96l-1.37-1.37c-.4-.4-.92-.59-1.43-.59-.52 0-1.04.2-1.43.59L10.3 9.45l-7.72 7.72c-.78.78-.78 2.05 0 2.83L4 21.41c.39.39.9.59 1.41.59.51 0 1.02-.2 1.41-.59l7.78-7.78 2.81-2.81c.8-.78.8-2.07 0-2.86zM5.41 20L4 18.59l7.72-7.72 1.47 1.35L5.41 20z\"/>\n",
       "  </svg>\n",
       "      </button>\n",
       "      \n",
       "  <style>\n",
       "    .colab-df-container {\n",
       "      display:flex;\n",
       "      flex-wrap:wrap;\n",
       "      gap: 12px;\n",
       "    }\n",
       "\n",
       "    .colab-df-convert {\n",
       "      background-color: #E8F0FE;\n",
       "      border: none;\n",
       "      border-radius: 50%;\n",
       "      cursor: pointer;\n",
       "      display: none;\n",
       "      fill: #1967D2;\n",
       "      height: 32px;\n",
       "      padding: 0 0 0 0;\n",
       "      width: 32px;\n",
       "    }\n",
       "\n",
       "    .colab-df-convert:hover {\n",
       "      background-color: #E2EBFA;\n",
       "      box-shadow: 0px 1px 2px rgba(60, 64, 67, 0.3), 0px 1px 3px 1px rgba(60, 64, 67, 0.15);\n",
       "      fill: #174EA6;\n",
       "    }\n",
       "\n",
       "    [theme=dark] .colab-df-convert {\n",
       "      background-color: #3B4455;\n",
       "      fill: #D2E3FC;\n",
       "    }\n",
       "\n",
       "    [theme=dark] .colab-df-convert:hover {\n",
       "      background-color: #434B5C;\n",
       "      box-shadow: 0px 1px 3px 1px rgba(0, 0, 0, 0.15);\n",
       "      filter: drop-shadow(0px 1px 2px rgba(0, 0, 0, 0.3));\n",
       "      fill: #FFFFFF;\n",
       "    }\n",
       "  </style>\n",
       "\n",
       "      <script>\n",
       "        const buttonEl =\n",
       "          document.querySelector('#df-dcdd6879-73ec-46e3-99e0-1bc46868ac64 button.colab-df-convert');\n",
       "        buttonEl.style.display =\n",
       "          google.colab.kernel.accessAllowed ? 'block' : 'none';\n",
       "\n",
       "        async function convertToInteractive(key) {\n",
       "          const element = document.querySelector('#df-dcdd6879-73ec-46e3-99e0-1bc46868ac64');\n",
       "          const dataTable =\n",
       "            await google.colab.kernel.invokeFunction('convertToInteractive',\n",
       "                                                     [key], {});\n",
       "          if (!dataTable) return;\n",
       "\n",
       "          const docLinkHtml = 'Like what you see? Visit the ' +\n",
       "            '<a target=\"_blank\" href=https://colab.research.google.com/notebooks/data_table.ipynb>data table notebook</a>'\n",
       "            + ' to learn more about interactive tables.';\n",
       "          element.innerHTML = '';\n",
       "          dataTable['output_type'] = 'display_data';\n",
       "          await google.colab.output.renderOutput(dataTable, element);\n",
       "          const docLink = document.createElement('div');\n",
       "          docLink.innerHTML = docLinkHtml;\n",
       "          element.appendChild(docLink);\n",
       "        }\n",
       "      </script>\n",
       "    </div>\n",
       "  </div>\n",
       "  "
      ],
      "text/plain": [
       "                                      name_1  \\\n",
       "532          Parkview High School Building H   \n",
       "2526      Sprague Lake Rest Area (Westbound)   \n",
       "5315                             Section 304   \n",
       "5316                             Section 304   \n",
       "6259                Facebook 1050 Building 2   \n",
       "...                                      ...   \n",
       "571522               Conference Room HS 2007   \n",
       "572791   Mann Center for the Performing Arts   \n",
       "575350   Pozez Education Center Centennial D   \n",
       "576064  UCF Business Administration II (BA2)   \n",
       "578153        Gym @ Spinnaker Bay Apartments   \n",
       "\n",
       "                                            name_2  \\\n",
       "532                Parkview High School Building C   \n",
       "2526            Sprague Lake Rest Area (Eastbound)   \n",
       "5315                                   Section 305   \n",
       "5316                                   Section 308   \n",
       "6259                      Facebook 1050 Building 1   \n",
       "...                                            ...   \n",
       "571522                     Conference Room HS 2038   \n",
       "572791  Mann Center for the Performing Arts D Gate   \n",
       "575350         Pozez Education Center Centennial A   \n",
       "576064         UCF Business Administration I (BA1)   \n",
       "578153                    Spinnaker Bay Apartments   \n",
       "\n",
       "                                                address_1  \\\n",
       "532                        998 Cole Dr, Lilburn, GA 30047   \n",
       "2526                                        Interstate 90   \n",
       "5315                                       KeyBank Center   \n",
       "5316                                       KeyBank Center   \n",
       "6259                                    1050 Page Mill Rd   \n",
       "...                                                   ...   \n",
       "571522  Health Information and Translational Science (HS)   \n",
       "572791                                  5201 Parkside Ave   \n",
       "575350                                    1505 SW 8th Ave   \n",
       "576064                          4000 Central Florida Blvd   \n",
       "578153                                   707 President St   \n",
       "\n",
       "                                                address_2  \n",
       "532                        998 Cole Dr, Lilburn, GA 30047  \n",
       "2526                                        Interstate 90  \n",
       "5315                                       KeyBank Center  \n",
       "5316                                       KeyBank Center  \n",
       "6259                                    1050 Page Mill Rd  \n",
       "...                                                   ...  \n",
       "571522  Health Information and Translational Science (HS)  \n",
       "572791                                  5201 Parkside Ave  \n",
       "575350                                    1505 SW 8th Ave  \n",
       "576064                          4000 Central Florida Blvd  \n",
       "578153                                   707 President St  \n",
       "\n",
       "[353 rows x 4 columns]"
      ]
     },
     "execution_count": 57,
     "metadata": {},
     "output_type": "execute_result"
    }
   ],
   "source": [
    "pairs.loc[(pairs.location_diff<0.01)&(pairs.name_diff<0.1)&(pairs.address_diff==0)&(pairs.city_diff==0)&(pairs.match==False)&(pairs.country_1=='US')][['name_1','name_2','address_1','address_2']]"
   ]
  },
  {
   "cell_type": "markdown",
   "metadata": {
    "id": "pl6JpKso6EOM"
   },
   "source": [
    "### State"
   ]
  },
  {
   "cell_type": "code",
   "execution_count": null,
   "metadata": {
    "id": "wu3jPxZx6GyC"
   },
   "outputs": [],
   "source": []
  },
  {
   "cell_type": "markdown",
   "metadata": {
    "id": "gWcwqa636I8-"
   },
   "source": [
    "### Zip\n",
    "\n",
    "\n",
    "---\n",
    "\n",
    "Zip codes are stored as strings in the orginal data."
   ]
  },
  {
   "cell_type": "code",
   "execution_count": null,
   "metadata": {
    "id": "Nevbkao86MW-"
   },
   "outputs": [],
   "source": [
    "pairs['zip_diff'] = pairs.apply(sim_metric,\n",
    "                          args=('zip_1', 'zip_2'),\n",
    "                          axis=1)"
   ]
  },
  {
   "cell_type": "markdown",
   "metadata": {
    "id": "KJ9Uw4Y26N0K"
   },
   "source": [
    "### Histogram"
   ]
  },
  {
   "cell_type": "code",
   "execution_count": null,
   "metadata": {
    "colab": {
     "base_uri": "https://localhost:8080/",
     "height": 1000
    },
    "id": "1QVl771m54fH",
    "outputId": "28064b1b-ca1c-4dd9-d7cb-6857d4ef1072"
   },
   "outputs": [
    {
     "data": {
      "image/png": "[encoded data removed]",
      "text/plain": [
       "<Figure size 1008x288 with 1 Axes>"
      ]
     },
     "metadata": {
      "needs_background": "light"
     },
     "output_type": "display_data"
    },
    {
     "data": {
      "image/png": "[encoded data removed]",
      "text/plain": [
       "<Figure size 1008x288 with 1 Axes>"
      ]
     },
     "metadata": {
      "needs_background": "light"
     },
     "output_type": "display_data"
    },
    {
     "data": {
      "image/png": "[encoded data removed]",
      "text/plain": [
       "<Figure size 1008x288 with 1 Axes>"
      ]
     },
     "metadata": {
      "needs_background": "light"
     },
     "output_type": "display_data"
    },
    {
     "data": {
      "image/png": "[encoded data removed]",
      "text/plain": [
       "<Figure size 1008x288 with 1 Axes>"
      ]
     },
     "metadata": {
      "needs_background": "light"
     },
     "output_type": "display_data"
    },
    {
     "data": {
      "image/png": "[encoded data removed]",
      "text/plain": [
       "<Figure size 1008x288 with 1 Axes>"
      ]
     },
     "metadata": {
      "needs_background": "light"
     },
     "output_type": "display_data"
    }
   ],
   "source": [
    "## histograms\n",
    "for column in ['location_diff','name_diff','address_diff','city_diff','zip_diff']:\n",
    "    plt.figure(figsize=(14,4))\n",
    "    plt.hist(pairs.loc[(pairs.match==True)&(pairs.location_diff<1), column], color='b', label=\"True\")\n",
    "    plt.hist(pairs.loc[(pairs.match==False)&(pairs.location_diff<1), column], color='r', label=\"False\")\n",
    "    plt.legend(fontsize=14)\n",
    "    plt.title(column,fontsize=16)\n",
    "    plt.show()"
   ]
  },
  {
   "cell_type": "code",
   "execution_count": null,
   "metadata": {
    "colab": {
     "base_uri": "https://localhost:8080/",
     "height": 300
    },
    "id": "oLuU5v8674BZ",
    "outputId": "61ccf28b-059c-4c17-b9a3-0851b1a7b975"
   },
   "outputs": [
    {
     "data": {
      "text/html": [
       "\n",
       "  <div id=\"df-039f92cc-a998-48c4-89af-f58a017c7c8e\">\n",
       "    <div class=\"colab-df-container\">\n",
       "      <div>\n",
       "<style scoped>\n",
       "    .dataframe tbody tr th:only-of-type {\n",
       "        vertical-align: middle;\n",
       "    }\n",
       "\n",
       "    .dataframe tbody tr th {\n",
       "        vertical-align: top;\n",
       "    }\n",
       "\n",
       "    .dataframe thead th {\n",
       "        text-align: right;\n",
       "    }\n",
       "</style>\n",
       "<table border=\"1\" class=\"dataframe\">\n",
       "  <thead>\n",
       "    <tr style=\"text-align: right;\">\n",
       "      <th></th>\n",
       "      <th>latitude_1</th>\n",
       "      <th>longitude_1</th>\n",
       "      <th>latitude_2</th>\n",
       "      <th>longitude_2</th>\n",
       "      <th>location_diff</th>\n",
       "      <th>address_diff</th>\n",
       "      <th>name_diff</th>\n",
       "      <th>city_diff</th>\n",
       "      <th>zip_diff</th>\n",
       "    </tr>\n",
       "  </thead>\n",
       "  <tbody>\n",
       "    <tr>\n",
       "      <th>count</th>\n",
       "      <td>146296.000000</td>\n",
       "      <td>146296.000000</td>\n",
       "      <td>146296.000000</td>\n",
       "      <td>146296.000000</td>\n",
       "      <td>146296.000000</td>\n",
       "      <td>146296.000000</td>\n",
       "      <td>146296.000000</td>\n",
       "      <td>146296.000000</td>\n",
       "      <td>146296.000000</td>\n",
       "    </tr>\n",
       "    <tr>\n",
       "      <th>mean</th>\n",
       "      <td>32.508102</td>\n",
       "      <td>-19.754487</td>\n",
       "      <td>32.507059</td>\n",
       "      <td>-19.749836</td>\n",
       "      <td>0.112072</td>\n",
       "      <td>0.259217</td>\n",
       "      <td>0.272320</td>\n",
       "      <td>0.101759</td>\n",
       "      <td>0.064743</td>\n",
       "    </tr>\n",
       "    <tr>\n",
       "      <th>std</th>\n",
       "      <td>19.752757</td>\n",
       "      <td>86.559842</td>\n",
       "      <td>19.752648</td>\n",
       "      <td>86.555004</td>\n",
       "      <td>2.783567</td>\n",
       "      <td>0.311993</td>\n",
       "      <td>0.293101</td>\n",
       "      <td>0.259665</td>\n",
       "      <td>0.158218</td>\n",
       "    </tr>\n",
       "    <tr>\n",
       "      <th>min</th>\n",
       "      <td>-54.799297</td>\n",
       "      <td>-165.408817</td>\n",
       "      <td>-54.794648</td>\n",
       "      <td>-164.436100</td>\n",
       "      <td>0.000000</td>\n",
       "      <td>0.000000</td>\n",
       "      <td>0.000000</td>\n",
       "      <td>0.000000</td>\n",
       "      <td>0.000000</td>\n",
       "    </tr>\n",
       "    <tr>\n",
       "      <th>25%</th>\n",
       "      <td>30.402049</td>\n",
       "      <td>-87.476469</td>\n",
       "      <td>30.402455</td>\n",
       "      <td>-87.473680</td>\n",
       "      <td>0.000270</td>\n",
       "      <td>0.000000</td>\n",
       "      <td>0.000000</td>\n",
       "      <td>0.000000</td>\n",
       "      <td>0.000000</td>\n",
       "    </tr>\n",
       "    <tr>\n",
       "      <th>50%</th>\n",
       "      <td>37.919794</td>\n",
       "      <td>-71.079899</td>\n",
       "      <td>37.912299</td>\n",
       "      <td>-71.082107</td>\n",
       "      <td>0.000926</td>\n",
       "      <td>0.103448</td>\n",
       "      <td>0.187500</td>\n",
       "      <td>0.000000</td>\n",
       "      <td>0.000000</td>\n",
       "    </tr>\n",
       "    <tr>\n",
       "      <th>75%</th>\n",
       "      <td>42.879486</td>\n",
       "      <td>29.328887</td>\n",
       "      <td>42.877831</td>\n",
       "      <td>29.315263</td>\n",
       "      <td>0.004111</td>\n",
       "      <td>0.538462</td>\n",
       "      <td>0.483871</td>\n",
       "      <td>0.000000</td>\n",
       "      <td>0.000000</td>\n",
       "    </tr>\n",
       "    <tr>\n",
       "      <th>max</th>\n",
       "      <td>71.169826</td>\n",
       "      <td>176.919425</td>\n",
       "      <td>71.170043</td>\n",
       "      <td>176.929571</td>\n",
       "      <td>244.365184</td>\n",
       "      <td>1.000000</td>\n",
       "      <td>1.000000</td>\n",
       "      <td>1.000000</td>\n",
       "      <td>1.000000</td>\n",
       "    </tr>\n",
       "  </tbody>\n",
       "</table>\n",
       "</div>\n",
       "      <button class=\"colab-df-convert\" onclick=\"convertToInteractive('df-039f92cc-a998-48c4-89af-f58a017c7c8e')\"\n",
       "              title=\"Convert this dataframe to an interactive table.\"\n",
       "              style=\"display:none;\">\n",
       "        \n",
       "  <svg xmlns=\"http://www.w3.org/2000/svg\" height=\"24px\"viewBox=\"0 0 24 24\"\n",
       "       width=\"24px\">\n",
       "    <path d=\"M0 0h24v24H0V0z\" fill=\"none\"/>\n",
       "    <path d=\"M18.56 5.44l.94 2.06.94-2.06 2.06-.94-2.06-.94-.94-2.06-.94 2.06-2.06.94zm-11 1L8.5 8.5l.94-2.06 2.06-.94-2.06-.94L8.5 2.5l-.94 2.06-2.06.94zm10 10l.94 2.06.94-2.06 2.06-.94-2.06-.94-.94-2.06-.94 2.06-2.06.94z\"/><path d=\"M17.41 7.96l-1.37-1.37c-.4-.4-.92-.59-1.43-.59-.52 0-1.04.2-1.43.59L10.3 9.45l-7.72 7.72c-.78.78-.78 2.05 0 2.83L4 21.41c.39.39.9.59 1.41.59.51 0 1.02-.2 1.41-.59l7.78-7.78 2.81-2.81c.8-.78.8-2.07 0-2.86zM5.41 20L4 18.59l7.72-7.72 1.47 1.35L5.41 20z\"/>\n",
       "  </svg>\n",
       "      </button>\n",
       "      \n",
       "  <style>\n",
       "    .colab-df-container {\n",
       "      display:flex;\n",
       "      flex-wrap:wrap;\n",
       "      gap: 12px;\n",
       "    }\n",
       "\n",
       "    .colab-df-convert {\n",
       "      background-color: #E8F0FE;\n",
       "      border: none;\n",
       "      border-radius: 50%;\n",
       "      cursor: pointer;\n",
       "      display: none;\n",
       "      fill: #1967D2;\n",
       "      height: 32px;\n",
       "      padding: 0 0 0 0;\n",
       "      width: 32px;\n",
       "    }\n",
       "\n",
       "    .colab-df-convert:hover {\n",
       "      background-color: #E2EBFA;\n",
       "      box-shadow: 0px 1px 2px rgba(60, 64, 67, 0.3), 0px 1px 3px 1px rgba(60, 64, 67, 0.15);\n",
       "      fill: #174EA6;\n",
       "    }\n",
       "\n",
       "    [theme=dark] .colab-df-convert {\n",
       "      background-color: #3B4455;\n",
       "      fill: #D2E3FC;\n",
       "    }\n",
       "\n",
       "    [theme=dark] .colab-df-convert:hover {\n",
       "      background-color: #434B5C;\n",
       "      box-shadow: 0px 1px 3px 1px rgba(0, 0, 0, 0.15);\n",
       "      filter: drop-shadow(0px 1px 2px rgba(0, 0, 0, 0.3));\n",
       "      fill: #FFFFFF;\n",
       "    }\n",
       "  </style>\n",
       "\n",
       "      <script>\n",
       "        const buttonEl =\n",
       "          document.querySelector('#df-039f92cc-a998-48c4-89af-f58a017c7c8e button.colab-df-convert');\n",
       "        buttonEl.style.display =\n",
       "          google.colab.kernel.accessAllowed ? 'block' : 'none';\n",
       "\n",
       "        async function convertToInteractive(key) {\n",
       "          const element = document.querySelector('#df-039f92cc-a998-48c4-89af-f58a017c7c8e');\n",
       "          const dataTable =\n",
       "            await google.colab.kernel.invokeFunction('convertToInteractive',\n",
       "                                                     [key], {});\n",
       "          if (!dataTable) return;\n",
       "\n",
       "          const docLinkHtml = 'Like what you see? Visit the ' +\n",
       "            '<a target=\"_blank\" href=https://colab.research.google.com/notebooks/data_table.ipynb>data table notebook</a>'\n",
       "            + ' to learn more about interactive tables.';\n",
       "          element.innerHTML = '';\n",
       "          dataTable['output_type'] = 'display_data';\n",
       "          await google.colab.output.renderOutput(dataTable, element);\n",
       "          const docLink = document.createElement('div');\n",
       "          docLink.innerHTML = docLinkHtml;\n",
       "          element.appendChild(docLink);\n",
       "        }\n",
       "      </script>\n",
       "    </div>\n",
       "  </div>\n",
       "  "
      ],
      "text/plain": [
       "          latitude_1    longitude_1     latitude_2    longitude_2  \\\n",
       "count  146296.000000  146296.000000  146296.000000  146296.000000   \n",
       "mean       32.508102     -19.754487      32.507059     -19.749836   \n",
       "std        19.752757      86.559842      19.752648      86.555004   \n",
       "min       -54.799297    -165.408817     -54.794648    -164.436100   \n",
       "25%        30.402049     -87.476469      30.402455     -87.473680   \n",
       "50%        37.919794     -71.079899      37.912299     -71.082107   \n",
       "75%        42.879486      29.328887      42.877831      29.315263   \n",
       "max        71.169826     176.919425      71.170043     176.929571   \n",
       "\n",
       "       location_diff   address_diff      name_diff      city_diff  \\\n",
       "count  146296.000000  146296.000000  146296.000000  146296.000000   \n",
       "mean        0.112072       0.259217       0.272320       0.101759   \n",
       "std         2.783567       0.311993       0.293101       0.259665   \n",
       "min         0.000000       0.000000       0.000000       0.000000   \n",
       "25%         0.000270       0.000000       0.000000       0.000000   \n",
       "50%         0.000926       0.103448       0.187500       0.000000   \n",
       "75%         0.004111       0.538462       0.483871       0.000000   \n",
       "max       244.365184       1.000000       1.000000       1.000000   \n",
       "\n",
       "            zip_diff  \n",
       "count  146296.000000  \n",
       "mean        0.064743  \n",
       "std         0.158218  \n",
       "min         0.000000  \n",
       "25%         0.000000  \n",
       "50%         0.000000  \n",
       "75%         0.000000  \n",
       "max         1.000000  "
      ]
     },
     "execution_count": 64,
     "metadata": {},
     "output_type": "execute_result"
    }
   ],
   "source": [
    "pairs.loc[(pairs.zip_diff>=0)& (pairs.address_diff>=0) &(pairs.city_diff>=0)].describe()"
   ]
  },
  {
   "cell_type": "markdown",
   "metadata": {
    "id": "QD9d-ndTZ6_m"
   },
   "source": [
    "# Plotting latitude and longitude\n",
    "\n",
    "\n",
    "---\n",
    "\n"
   ]
  },
  {
   "cell_type": "code",
   "execution_count": null,
   "metadata": {
    "id": "x4Jd03IKDWA3"
   },
   "outputs": [],
   "source": [
    "latitude_all = train.latitude.values\n",
    "longitude_all = train.longitude.values"
   ]
  },
  {
   "cell_type": "code",
   "execution_count": null,
   "metadata": {
    "colab": {
     "base_uri": "https://localhost:8080/",
     "height": 279
    },
    "id": "mo9LD8_PSYaZ",
    "outputId": "a6a5c44d-7083-4daa-c6b8-9279894ae387"
   },
   "outputs": [
    {
     "data": {
      "image/png": "[encoded data removed]",
      "text/plain": [
       "<Figure size 432x288 with 1 Axes>"
      ]
     },
     "metadata": {
      "needs_background": "light"
     },
     "output_type": "display_data"
    }
   ],
   "source": [
    "plt.scatter(latitude_all, longitude_all)\n",
    "plt.xlabel('Latitude')\n",
    "plt.ylabel('Longitude')\n",
    "plt.show()"
   ]
  },
  {
   "cell_type": "code",
   "execution_count": null,
   "metadata": {
    "colab": {
     "base_uri": "https://localhost:8080/"
    },
    "id": "jjOHOtQ6alTL",
    "outputId": "85f46042-0c97-434e-c43f-3225d9a3d1f9"
   },
   "outputs": [
    {
     "data": {
      "text/plain": [
       "id_1                              E_0000c362229d93\n",
       "name_1                                  Coffee Cat\n",
       "latitude_1                                7.082218\n",
       "longitude_1                             125.610244\n",
       "address_1                            F. Torres St.\n",
       "city_1                                  Davao City\n",
       "state_1                               Davao Region\n",
       "zip_1                                         8000\n",
       "country_1                                       PH\n",
       "url_1                                          NaN\n",
       "phone_1                                        NaN\n",
       "categories_1                   Cafés, Coffee Shops\n",
       "id_2                              E_d52c3c4d53831c\n",
       "name_2                                   Coffeecat\n",
       "latitude_2                                7.076016\n",
       "longitude_2                             125.611457\n",
       "address_2                     E. Jacinto Extension\n",
       "city_2                                  Davao City\n",
       "state_2                               Davao Region\n",
       "zip_2                                         8000\n",
       "country_2                                       PH\n",
       "url_2                                          NaN\n",
       "phone_2                                        NaN\n",
       "categories_2    Coffee Shops, Cafés, Dessert Shops\n",
       "match                                        False\n",
       "Name: 4, dtype: object"
      ]
     },
     "execution_count": 51,
     "metadata": {},
     "output_type": "execute_result"
    }
   ],
   "source": [
    "pairs.iloc[4]"
   ]
  },
  {
   "cell_type": "markdown",
   "metadata": {
    "id": "RvQexhJCVd_x"
   },
   "source": [
    "# Submission\n",
    "\n",
    "---\n"
   ]
  },
  {
   "cell_type": "code",
   "execution_count": null,
   "metadata": {
    "id": "zf5Lh0--cc_z"
   },
   "outputs": [],
   "source": [
    "submission = pd.read_csv('/content/drive/MyDrive/Summer 2022/foursquare-location-matching/sample_submission.csv')"
   ]
  },
  {
   "cell_type": "code",
   "execution_count": null,
   "metadata": {
    "colab": {
     "base_uri": "https://localhost:8080/",
     "height": 206
    },
    "id": "kEBhDcC2VkU0",
    "outputId": "a295a6ca-6335-48e9-f6e9-56c8783a3fc8"
   },
   "outputs": [
    {
     "data": {
      "text/html": [
       "\n",
       "  <div id=\"df-2ee22b96-5db1-434b-8af5-36c257c93052\">\n",
       "    <div class=\"colab-df-container\">\n",
       "      <div>\n",
       "<style scoped>\n",
       "    .dataframe tbody tr th:only-of-type {\n",
       "        vertical-align: middle;\n",
       "    }\n",
       "\n",
       "    .dataframe tbody tr th {\n",
       "        vertical-align: top;\n",
       "    }\n",
       "\n",
       "    .dataframe thead th {\n",
       "        text-align: right;\n",
       "    }\n",
       "</style>\n",
       "<table border=\"1\" class=\"dataframe\">\n",
       "  <thead>\n",
       "    <tr style=\"text-align: right;\">\n",
       "      <th></th>\n",
       "      <th>id</th>\n",
       "      <th>matches</th>\n",
       "    </tr>\n",
       "  </thead>\n",
       "  <tbody>\n",
       "    <tr>\n",
       "      <th>0</th>\n",
       "      <td>E_00001118ad0191</td>\n",
       "      <td>E_00001118ad0191</td>\n",
       "    </tr>\n",
       "    <tr>\n",
       "      <th>1</th>\n",
       "      <td>E_000020eb6fed40</td>\n",
       "      <td>E_000020eb6fed40</td>\n",
       "    </tr>\n",
       "    <tr>\n",
       "      <th>2</th>\n",
       "      <td>E_00002f98667edf</td>\n",
       "      <td>E_00002f98667edf</td>\n",
       "    </tr>\n",
       "    <tr>\n",
       "      <th>3</th>\n",
       "      <td>E_001b6bad66eb98</td>\n",
       "      <td>E_001b6bad66eb98 E_0283d9f61e569d</td>\n",
       "    </tr>\n",
       "    <tr>\n",
       "      <th>4</th>\n",
       "      <td>E_0283d9f61e569d</td>\n",
       "      <td>E_0283d9f61e569d E_001b6bad66eb98</td>\n",
       "    </tr>\n",
       "  </tbody>\n",
       "</table>\n",
       "</div>\n",
       "      <button class=\"colab-df-convert\" onclick=\"convertToInteractive('df-2ee22b96-5db1-434b-8af5-36c257c93052')\"\n",
       "              title=\"Convert this dataframe to an interactive table.\"\n",
       "              style=\"display:none;\">\n",
       "        \n",
       "  <svg xmlns=\"http://www.w3.org/2000/svg\" height=\"24px\"viewBox=\"0 0 24 24\"\n",
       "       width=\"24px\">\n",
       "    <path d=\"M0 0h24v24H0V0z\" fill=\"none\"/>\n",
       "    <path d=\"M18.56 5.44l.94 2.06.94-2.06 2.06-.94-2.06-.94-.94-2.06-.94 2.06-2.06.94zm-11 1L8.5 8.5l.94-2.06 2.06-.94-2.06-.94L8.5 2.5l-.94 2.06-2.06.94zm10 10l.94 2.06.94-2.06 2.06-.94-2.06-.94-.94-2.06-.94 2.06-2.06.94z\"/><path d=\"M17.41 7.96l-1.37-1.37c-.4-.4-.92-.59-1.43-.59-.52 0-1.04.2-1.43.59L10.3 9.45l-7.72 7.72c-.78.78-.78 2.05 0 2.83L4 21.41c.39.39.9.59 1.41.59.51 0 1.02-.2 1.41-.59l7.78-7.78 2.81-2.81c.8-.78.8-2.07 0-2.86zM5.41 20L4 18.59l7.72-7.72 1.47 1.35L5.41 20z\"/>\n",
       "  </svg>\n",
       "      </button>\n",
       "      \n",
       "  <style>\n",
       "    .colab-df-container {\n",
       "      display:flex;\n",
       "      flex-wrap:wrap;\n",
       "      gap: 12px;\n",
       "    }\n",
       "\n",
       "    .colab-df-convert {\n",
       "      background-color: #E8F0FE;\n",
       "      border: none;\n",
       "      border-radius: 50%;\n",
       "      cursor: pointer;\n",
       "      display: none;\n",
       "      fill: #1967D2;\n",
       "      height: 32px;\n",
       "      padding: 0 0 0 0;\n",
       "      width: 32px;\n",
       "    }\n",
       "\n",
       "    .colab-df-convert:hover {\n",
       "      background-color: #E2EBFA;\n",
       "      box-shadow: 0px 1px 2px rgba(60, 64, 67, 0.3), 0px 1px 3px 1px rgba(60, 64, 67, 0.15);\n",
       "      fill: #174EA6;\n",
       "    }\n",
       "\n",
       "    [theme=dark] .colab-df-convert {\n",
       "      background-color: #3B4455;\n",
       "      fill: #D2E3FC;\n",
       "    }\n",
       "\n",
       "    [theme=dark] .colab-df-convert:hover {\n",
       "      background-color: #434B5C;\n",
       "      box-shadow: 0px 1px 3px 1px rgba(0, 0, 0, 0.15);\n",
       "      filter: drop-shadow(0px 1px 2px rgba(0, 0, 0, 0.3));\n",
       "      fill: #FFFFFF;\n",
       "    }\n",
       "  </style>\n",
       "\n",
       "      <script>\n",
       "        const buttonEl =\n",
       "          document.querySelector('#df-2ee22b96-5db1-434b-8af5-36c257c93052 button.colab-df-convert');\n",
       "        buttonEl.style.display =\n",
       "          google.colab.kernel.accessAllowed ? 'block' : 'none';\n",
       "\n",
       "        async function convertToInteractive(key) {\n",
       "          const element = document.querySelector('#df-2ee22b96-5db1-434b-8af5-36c257c93052');\n",
       "          const dataTable =\n",
       "            await google.colab.kernel.invokeFunction('convertToInteractive',\n",
       "                                                     [key], {});\n",
       "          if (!dataTable) return;\n",
       "\n",
       "          const docLinkHtml = 'Like what you see? Visit the ' +\n",
       "            '<a target=\"_blank\" href=https://colab.research.google.com/notebooks/data_table.ipynb>data table notebook</a>'\n",
       "            + ' to learn more about interactive tables.';\n",
       "          element.innerHTML = '';\n",
       "          dataTable['output_type'] = 'display_data';\n",
       "          await google.colab.output.renderOutput(dataTable, element);\n",
       "          const docLink = document.createElement('div');\n",
       "          docLink.innerHTML = docLinkHtml;\n",
       "          element.appendChild(docLink);\n",
       "        }\n",
       "      </script>\n",
       "    </div>\n",
       "  </div>\n",
       "  "
      ],
      "text/plain": [
       "                 id                            matches\n",
       "0  E_00001118ad0191                   E_00001118ad0191\n",
       "1  E_000020eb6fed40                   E_000020eb6fed40\n",
       "2  E_00002f98667edf                   E_00002f98667edf\n",
       "3  E_001b6bad66eb98  E_001b6bad66eb98 E_0283d9f61e569d\n",
       "4  E_0283d9f61e569d  E_0283d9f61e569d E_001b6bad66eb98"
      ]
     },
     "execution_count": 20,
     "metadata": {},
     "output_type": "execute_result"
    }
   ],
   "source": [
    "submission"
   ]
  },
  {
   "cell_type": "code",
   "execution_count": null,
   "metadata": {
    "colab": {
     "base_uri": "https://localhost:8080/"
    },
    "id": "EfPTR_lIVqq1",
    "outputId": "8a5a88f2-4716-495d-c25e-01cbb4a0a63f"
   },
   "outputs": [
    {
     "data": {
      "text/plain": [
       "{'E_001b6bad66eb98', 'E_0283d9f61e569d'}"
      ]
     },
     "execution_count": 21,
     "metadata": {},
     "output_type": "execute_result"
    }
   ],
   "source": [
    "set(test.id).intersection(set(train.id))"
   ]
  },
  {
   "cell_type": "code",
   "execution_count": null,
   "metadata": {
    "colab": {
     "base_uri": "https://localhost:8080/",
     "height": 112
    },
    "id": "dwCoM8pJWTf1",
    "outputId": "0be212c3-da7c-4424-ebe7-b488142ddccd"
   },
   "outputs": [
    {
     "data": {
      "text/html": [
       "\n",
       "  <div id=\"df-64794db7-dce0-4081-bba9-4042aad5d3d1\">\n",
       "    <div class=\"colab-df-container\">\n",
       "      <div>\n",
       "<style scoped>\n",
       "    .dataframe tbody tr th:only-of-type {\n",
       "        vertical-align: middle;\n",
       "    }\n",
       "\n",
       "    .dataframe tbody tr th {\n",
       "        vertical-align: top;\n",
       "    }\n",
       "\n",
       "    .dataframe thead th {\n",
       "        text-align: right;\n",
       "    }\n",
       "</style>\n",
       "<table border=\"1\" class=\"dataframe\">\n",
       "  <thead>\n",
       "    <tr style=\"text-align: right;\">\n",
       "      <th></th>\n",
       "      <th>id</th>\n",
       "      <th>name</th>\n",
       "      <th>latitude</th>\n",
       "      <th>longitude</th>\n",
       "      <th>address</th>\n",
       "      <th>city</th>\n",
       "      <th>state</th>\n",
       "      <th>zip</th>\n",
       "      <th>country</th>\n",
       "      <th>url</th>\n",
       "      <th>phone</th>\n",
       "      <th>categories</th>\n",
       "      <th>point_of_interest</th>\n",
       "    </tr>\n",
       "  </thead>\n",
       "  <tbody>\n",
       "    <tr>\n",
       "      <th>434</th>\n",
       "      <td>E_001b6bad66eb98</td>\n",
       "      <td>Foreword Communicatons</td>\n",
       "      <td>1.302216</td>\n",
       "      <td>103.861456</td>\n",
       "      <td>NaN</td>\n",
       "      <td>NaN</td>\n",
       "      <td>NaN</td>\n",
       "      <td>NaN</td>\n",
       "      <td>SG</td>\n",
       "      <td>NaN</td>\n",
       "      <td>NaN</td>\n",
       "      <td>NaN</td>\n",
       "      <td>P_540b73568b0d3c</td>\n",
       "    </tr>\n",
       "    <tr>\n",
       "      <th>11033</th>\n",
       "      <td>E_0283d9f61e569d</td>\n",
       "      <td>風雲児 (Fu-unji)</td>\n",
       "      <td>35.687101</td>\n",
       "      <td>139.696684</td>\n",
       "      <td>代々木2-14-3</td>\n",
       "      <td>渋谷区</td>\n",
       "      <td>東京都</td>\n",
       "      <td>151-0053</td>\n",
       "      <td>JP</td>\n",
       "      <td>http://www.fu-unji.com</td>\n",
       "      <td>0364138480</td>\n",
       "      <td>Ramen Restaurants</td>\n",
       "      <td>P_fe5531aa3acd9d</td>\n",
       "    </tr>\n",
       "  </tbody>\n",
       "</table>\n",
       "</div>\n",
       "      <button class=\"colab-df-convert\" onclick=\"convertToInteractive('df-64794db7-dce0-4081-bba9-4042aad5d3d1')\"\n",
       "              title=\"Convert this dataframe to an interactive table.\"\n",
       "              style=\"display:none;\">\n",
       "        \n",
       "  <svg xmlns=\"http://www.w3.org/2000/svg\" height=\"24px\"viewBox=\"0 0 24 24\"\n",
       "       width=\"24px\">\n",
       "    <path d=\"M0 0h24v24H0V0z\" fill=\"none\"/>\n",
       "    <path d=\"M18.56 5.44l.94 2.06.94-2.06 2.06-.94-2.06-.94-.94-2.06-.94 2.06-2.06.94zm-11 1L8.5 8.5l.94-2.06 2.06-.94-2.06-.94L8.5 2.5l-.94 2.06-2.06.94zm10 10l.94 2.06.94-2.06 2.06-.94-2.06-.94-.94-2.06-.94 2.06-2.06.94z\"/><path d=\"M17.41 7.96l-1.37-1.37c-.4-.4-.92-.59-1.43-.59-.52 0-1.04.2-1.43.59L10.3 9.45l-7.72 7.72c-.78.78-.78 2.05 0 2.83L4 21.41c.39.39.9.59 1.41.59.51 0 1.02-.2 1.41-.59l7.78-7.78 2.81-2.81c.8-.78.8-2.07 0-2.86zM5.41 20L4 18.59l7.72-7.72 1.47 1.35L5.41 20z\"/>\n",
       "  </svg>\n",
       "      </button>\n",
       "      \n",
       "  <style>\n",
       "    .colab-df-container {\n",
       "      display:flex;\n",
       "      flex-wrap:wrap;\n",
       "      gap: 12px;\n",
       "    }\n",
       "\n",
       "    .colab-df-convert {\n",
       "      background-color: #E8F0FE;\n",
       "      border: none;\n",
       "      border-radius: 50%;\n",
       "      cursor: pointer;\n",
       "      display: none;\n",
       "      fill: #1967D2;\n",
       "      height: 32px;\n",
       "      padding: 0 0 0 0;\n",
       "      width: 32px;\n",
       "    }\n",
       "\n",
       "    .colab-df-convert:hover {\n",
       "      background-color: #E2EBFA;\n",
       "      box-shadow: 0px 1px 2px rgba(60, 64, 67, 0.3), 0px 1px 3px 1px rgba(60, 64, 67, 0.15);\n",
       "      fill: #174EA6;\n",
       "    }\n",
       "\n",
       "    [theme=dark] .colab-df-convert {\n",
       "      background-color: #3B4455;\n",
       "      fill: #D2E3FC;\n",
       "    }\n",
       "\n",
       "    [theme=dark] .colab-df-convert:hover {\n",
       "      background-color: #434B5C;\n",
       "      box-shadow: 0px 1px 3px 1px rgba(0, 0, 0, 0.15);\n",
       "      filter: drop-shadow(0px 1px 2px rgba(0, 0, 0, 0.3));\n",
       "      fill: #FFFFFF;\n",
       "    }\n",
       "  </style>\n",
       "\n",
       "      <script>\n",
       "        const buttonEl =\n",
       "          document.querySelector('#df-64794db7-dce0-4081-bba9-4042aad5d3d1 button.colab-df-convert');\n",
       "        buttonEl.style.display =\n",
       "          google.colab.kernel.accessAllowed ? 'block' : 'none';\n",
       "\n",
       "        async function convertToInteractive(key) {\n",
       "          const element = document.querySelector('#df-64794db7-dce0-4081-bba9-4042aad5d3d1');\n",
       "          const dataTable =\n",
       "            await google.colab.kernel.invokeFunction('convertToInteractive',\n",
       "                                                     [key], {});\n",
       "          if (!dataTable) return;\n",
       "\n",
       "          const docLinkHtml = 'Like what you see? Visit the ' +\n",
       "            '<a target=\"_blank\" href=https://colab.research.google.com/notebooks/data_table.ipynb>data table notebook</a>'\n",
       "            + ' to learn more about interactive tables.';\n",
       "          element.innerHTML = '';\n",
       "          dataTable['output_type'] = 'display_data';\n",
       "          await google.colab.output.renderOutput(dataTable, element);\n",
       "          const docLink = document.createElement('div');\n",
       "          docLink.innerHTML = docLinkHtml;\n",
       "          element.appendChild(docLink);\n",
       "        }\n",
       "      </script>\n",
       "    </div>\n",
       "  </div>\n",
       "  "
      ],
      "text/plain": [
       "                     id                    name   latitude   longitude  \\\n",
       "434    E_001b6bad66eb98  Foreword Communicatons   1.302216  103.861456   \n",
       "11033  E_0283d9f61e569d           風雲児 (Fu-unji)  35.687101  139.696684   \n",
       "\n",
       "         address city state       zip country                     url  \\\n",
       "434          NaN  NaN   NaN       NaN      SG                     NaN   \n",
       "11033  代々木2-14-3  渋谷区   東京都  151-0053      JP  http://www.fu-unji.com   \n",
       "\n",
       "            phone         categories point_of_interest  \n",
       "434           NaN                NaN  P_540b73568b0d3c  \n",
       "11033  0364138480  Ramen Restaurants  P_fe5531aa3acd9d  "
      ]
     },
     "execution_count": 43,
     "metadata": {},
     "output_type": "execute_result"
    }
   ],
   "source": [
    "df = train.loc[train.id==test.id[3]]\n",
    "df.append(train.loc[train.id==test.id[4]])"
   ]
  },
  {
   "cell_type": "code",
   "execution_count": null,
   "metadata": {
    "colab": {
     "base_uri": "https://localhost:8080/"
    },
    "id": "Iy6AMLpyX8If",
    "outputId": "872376c8-0f18-4419-f7f2-5ebd0ef37ff9"
   },
   "outputs": [
    {
     "data": {
      "text/plain": [
       "Index(['id', 'name', 'latitude', 'longitude', 'address', 'city', 'state',\n",
       "       'zip', 'country', 'url', 'phone', 'categories'],\n",
       "      dtype='object')"
      ]
     },
     "execution_count": 45,
     "metadata": {},
     "output_type": "execute_result"
    }
   ],
   "source": [
    "test.columns"
   ]
  },
  {
   "cell_type": "code",
   "execution_count": null,
   "metadata": {
    "colab": {
     "base_uri": "https://localhost:8080/"
    },
    "id": "2LyFlsz6ZCKg",
    "outputId": "3a2b5b3b-1405-4e7d-f2e3-0f5bf1c7cbe0"
   },
   "outputs": [
    {
     "data": {
      "text/plain": [
       "0    MY\n",
       "1    US\n",
       "2    RU\n",
       "3    ID\n",
       "4    ID\n",
       "Name: country, dtype: object"
      ]
     },
     "execution_count": 107,
     "metadata": {},
     "output_type": "execute_result"
    }
   ],
   "source": [
    "test.country"
   ]
  },
  {
   "cell_type": "code",
   "execution_count": null,
   "metadata": {
    "id": "hqix-nirq0ZX"
   },
   "outputs": [],
   "source": []
  }
 ],
 "metadata": {
  "colab": {
   "authorship_tag": "ABX9TyPmZsYumCuMIwTZhdfiWq/9",
   "include_colab_link": true,
   "name": "Ling EDA.ipynb",
   "provenance": [],
   "toc_visible": true
  },
  "kernelspec": {
   "display_name": "Python 3",
   "language": "python",
   "name": "python3"
  },
  "language_info": {
   "codemirror_mode": {
    "name": "ipython",
    "version": 3
   },
   "file_extension": ".py",
   "mimetype": "text/x-python",
   "name": "python",
   "nbconvert_exporter": "python",
   "pygments_lexer": "ipython3",
   "version": "3.8.5"
  }
 },
 "nbformat": 4,
 "nbformat_minor": 4
}
