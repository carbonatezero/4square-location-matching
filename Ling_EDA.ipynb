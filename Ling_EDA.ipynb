{
 "cells": [
  {
   "cell_type": "markdown",
   "metadata": {
    "colab_type": "text",
    "id": "view-in-github"
   },
   "source": [
    "<a href=\"https://colab.research.google.com/github/gormantt/foursquare-location-matching/blob/main/Ling_EDA.ipynb\" target=\"_parent\"><img src=\"https://colab.research.google.com/assets/colab-badge.svg\" alt=\"Open In Colab\"/></a>"
   ]
  },
  {
   "cell_type": "markdown",
   "metadata": {
    "id": "n25cn50iyFUf"
   },
   "source": [
    "# Exploratory data analysis\n",
    "\n",
    "---\n",
    "Data analyzed in this notebook is from [Kaggle's code competation: Foursquare - Location Matching](https://www.kaggle.com/competitions/foursquare-location-matching/data). The data comprises over one-and-a-half million place entries for hundreds of thousands of commercial Points-of-Interest (POIs) around the globe. The task is to **determine which place entries describe the same point-of-interest**. Though the data entries may represent or resemble entries for real places, they may also contain artificial information or additional noise.\n"
   ]
  },
  {
   "cell_type": "code",
   "execution_count": null,
   "metadata": {
    "id": "K_gFE3lTynyQ"
   },
   "outputs": [],
   "source": [
    "import pandas as pd\n",
    "import numpy as np\n",
    "import seaborn as sns\n",
    "\n",
    "#For plotting\n",
    "import matplotlib.pyplot as plt\n",
    "from pandas.plotting import scatter_matrix"
   ]
  },
  {
   "cell_type": "markdown",
   "metadata": {
    "id": "ck3p8I8x0NzY"
   },
   "source": [
    "We read the data below and take a look at some columns."
   ]
  },
  {
   "cell_type": "code",
   "execution_count": null,
   "metadata": {
    "colab": {
<<<<<<< HEAD
     "base_uri": "https://localhost:8080/"
    },
    "id": "SMKbHydTz0FO",
    "outputId": "7e5a6757-7cbe-45be-f752-e69fdfcb6337"
   },
   "outputs": [
    {
     "name": "stdout",
     "output_type": "stream",
     "text": [
      "Mounted at /content/drive\n"
     ]
=======
      "name": "Ling EDA.ipynb",
      "provenance": [],
      "toc_visible": true,
      "authorship_tag": "ABX9TyONaXRNU8Y8m3zf97xlU1zi",
      "include_colab_link": true
    },
    "kernelspec": {
      "name": "python3",
      "display_name": "Python 3"
    },
    "language_info": {
      "name": "python"
>>>>>>> 0ffda8a4420594755f585b8a8a07405b4b66b2df
    }
   ],
   "source": [
    "from google.colab import drive\n",
    "drive.mount('/content/drive')"
   ]
  },
<<<<<<< HEAD
  {
   "cell_type": "code",
   "execution_count": null,
   "metadata": {
    "id": "u8Qz-YOLzGfV"
   },
   "outputs": [],
   "source": [
    "pairs = pd.read_csv('/content/drive/MyDrive/Summer 2022/foursquare-location-matching/pairs.csv')\n",
    "test = pd.read_csv('/content/drive/MyDrive/Summer 2022/foursquare-location-matching/test.csv')\n",
    "train = pd.read_csv('/content/drive/MyDrive/Summer 2022/foursquare-location-matching/train.csv')"
   ]
  },
  {
   "cell_type": "markdown",
   "metadata": {
    "id": "Zg1IqrfV0fDu"
   },
   "source": [
    "# Training data\n",
    "\n",
    "---\n",
    "\n",
    "## The data\n",
    "\n",
    "\n",
    "*   `train.csv` - The training set, comprising eleven attribute fields for over one million place entries, together with:\n",
    "  * `id` - A unique identifier for each entry.\n",
    "  * `point_of_interest` - An identifier for the POI the entry represents. There may be one or many entries describing the same POI. Two entries \"match\" when they describe a common POI. \n",
    "*   `pairs.csv` - A pregenerated set of pairs of place entries from `train.csv` designed to improve detection of matches.\n",
    "  * `match` - Whether (`True` or `False`) the pair of entries describes a common POI.\n",
    "\n"
   ]
  },
  {
   "cell_type": "code",
   "execution_count": null,
   "metadata": {
    "colab": {
     "base_uri": "https://localhost:8080/"
    },
    "id": "NhuiJ9tqTHom",
    "outputId": "57e6f8c8-ed98-45ac-eb4a-c27c188851ab"
   },
   "outputs": [
    {
     "name": "stdout",
     "output_type": "stream",
     "text": [
      "There are 1138812 id, and 739972 distinct POIs.\n",
      "\n",
      "About 64.98 % POIs are unique.\n",
      "\n"
     ]
    }
   ],
   "source": [
    "print('There are', len(set(train.id)), 'id, and', len(set(train.point_of_interest)), 'distinct POIs.\\n')\n",
    "print('About', np.round(len(set(train.point_of_interest))/len(set(train.id))*100,2),'% POIs are unique.\\n')"
   ]
  },
  {
   "cell_type": "code",
   "execution_count": null,
   "metadata": {
    "colab": {
     "base_uri": "https://localhost:8080/",
     "height": 206
    },
    "id": "jVUWPXXvzZnk",
    "outputId": "74effba2-2ef1-4a27-9b22-d74cd3e418ed"
   },
   "outputs": [
    {
     "data": {
      "text/html": [
       "\n",
       "  <div id=\"df-e7060a8b-a0fb-4630-a1cd-0b7317f51def\">\n",
       "    <div class=\"colab-df-container\">\n",
       "      <div>\n",
       "<style scoped>\n",
       "    .dataframe tbody tr th:only-of-type {\n",
       "        vertical-align: middle;\n",
       "    }\n",
       "\n",
       "    .dataframe tbody tr th {\n",
       "        vertical-align: top;\n",
       "    }\n",
       "\n",
       "    .dataframe thead th {\n",
       "        text-align: right;\n",
       "    }\n",
       "</style>\n",
       "<table border=\"1\" class=\"dataframe\">\n",
       "  <thead>\n",
       "    <tr style=\"text-align: right;\">\n",
       "      <th></th>\n",
       "      <th>id</th>\n",
       "      <th>name</th>\n",
       "      <th>latitude</th>\n",
       "      <th>longitude</th>\n",
       "      <th>address</th>\n",
       "      <th>city</th>\n",
       "      <th>state</th>\n",
       "      <th>zip</th>\n",
       "      <th>country</th>\n",
       "      <th>url</th>\n",
       "      <th>phone</th>\n",
       "      <th>categories</th>\n",
       "      <th>point_of_interest</th>\n",
       "    </tr>\n",
       "  </thead>\n",
       "  <tbody>\n",
       "    <tr>\n",
       "      <th>173577</th>\n",
       "      <td>E_26ef84eb715951</td>\n",
       "      <td>北海道エネルギー米里</td>\n",
       "      <td>43.072128</td>\n",
       "      <td>141.408112</td>\n",
       "      <td>NaN</td>\n",
       "      <td>NaN</td>\n",
       "      <td>NaN</td>\n",
       "      <td>NaN</td>\n",
       "      <td>JP</td>\n",
       "      <td>NaN</td>\n",
       "      <td>NaN</td>\n",
       "      <td>Gas Stations</td>\n",
       "      <td>P_d5116b1dfd2c4a</td>\n",
       "    </tr>\n",
       "    <tr>\n",
       "      <th>598596</th>\n",
       "      <td>E_86894993083b72</td>\n",
       "      <td>Kaya Çay Ocaği</td>\n",
       "      <td>38.155328</td>\n",
       "      <td>27.357737</td>\n",
       "      <td>NaN</td>\n",
       "      <td>NaN</td>\n",
       "      <td>NaN</td>\n",
       "      <td>NaN</td>\n",
       "      <td>TR</td>\n",
       "      <td>NaN</td>\n",
       "      <td>NaN</td>\n",
       "      <td>Tea Rooms</td>\n",
       "      <td>P_80741d334aed3d</td>\n",
       "    </tr>\n",
       "    <tr>\n",
       "      <th>1045660</th>\n",
       "      <td>E_eaf5d745d65505</td>\n",
       "      <td>Arepa &amp; Pizza</td>\n",
       "      <td>6.209766</td>\n",
       "      <td>-75.567632</td>\n",
       "      <td>NaN</td>\n",
       "      <td>NaN</td>\n",
       "      <td>NaN</td>\n",
       "      <td>NaN</td>\n",
       "      <td>CO</td>\n",
       "      <td>NaN</td>\n",
       "      <td>NaN</td>\n",
       "      <td>Arepa Restaurants</td>\n",
       "      <td>P_4f61823f4492f8</td>\n",
       "    </tr>\n",
       "    <tr>\n",
       "      <th>82833</th>\n",
       "      <td>E_12889abf8b06ec</td>\n",
       "      <td>WYANDOTTE AT 11TH</td>\n",
       "      <td>39.100807</td>\n",
       "      <td>-94.585485</td>\n",
       "      <td>NaN</td>\n",
       "      <td>Kansas City</td>\n",
       "      <td>MO</td>\n",
       "      <td>NaN</td>\n",
       "      <td>US</td>\n",
       "      <td>NaN</td>\n",
       "      <td>NaN</td>\n",
       "      <td>Bus Stops</td>\n",
       "      <td>P_1889d5af129f2f</td>\n",
       "    </tr>\n",
       "    <tr>\n",
       "      <th>603118</th>\n",
       "      <td>E_878b59392ee860</td>\n",
       "      <td>Üzer Kardeşler Alüminyum</td>\n",
       "      <td>36.759840</td>\n",
       "      <td>27.688953</td>\n",
       "      <td>kizlan sokak</td>\n",
       "      <td>Kızlan Köyü</td>\n",
       "      <td>Muğla</td>\n",
       "      <td>48900</td>\n",
       "      <td>TR</td>\n",
       "      <td>NaN</td>\n",
       "      <td>NaN</td>\n",
       "      <td>Street Fairs</td>\n",
       "      <td>P_6e5067a2301224</td>\n",
       "    </tr>\n",
       "  </tbody>\n",
       "</table>\n",
       "</div>\n",
       "      <button class=\"colab-df-convert\" onclick=\"convertToInteractive('df-e7060a8b-a0fb-4630-a1cd-0b7317f51def')\"\n",
       "              title=\"Convert this dataframe to an interactive table.\"\n",
       "              style=\"display:none;\">\n",
       "        \n",
       "  <svg xmlns=\"http://www.w3.org/2000/svg\" height=\"24px\"viewBox=\"0 0 24 24\"\n",
       "       width=\"24px\">\n",
       "    <path d=\"M0 0h24v24H0V0z\" fill=\"none\"/>\n",
       "    <path d=\"M18.56 5.44l.94 2.06.94-2.06 2.06-.94-2.06-.94-.94-2.06-.94 2.06-2.06.94zm-11 1L8.5 8.5l.94-2.06 2.06-.94-2.06-.94L8.5 2.5l-.94 2.06-2.06.94zm10 10l.94 2.06.94-2.06 2.06-.94-2.06-.94-.94-2.06-.94 2.06-2.06.94z\"/><path d=\"M17.41 7.96l-1.37-1.37c-.4-.4-.92-.59-1.43-.59-.52 0-1.04.2-1.43.59L10.3 9.45l-7.72 7.72c-.78.78-.78 2.05 0 2.83L4 21.41c.39.39.9.59 1.41.59.51 0 1.02-.2 1.41-.59l7.78-7.78 2.81-2.81c.8-.78.8-2.07 0-2.86zM5.41 20L4 18.59l7.72-7.72 1.47 1.35L5.41 20z\"/>\n",
       "  </svg>\n",
       "      </button>\n",
       "      \n",
       "  <style>\n",
       "    .colab-df-container {\n",
       "      display:flex;\n",
       "      flex-wrap:wrap;\n",
       "      gap: 12px;\n",
       "    }\n",
       "\n",
       "    .colab-df-convert {\n",
       "      background-color: #E8F0FE;\n",
       "      border: none;\n",
       "      border-radius: 50%;\n",
       "      cursor: pointer;\n",
       "      display: none;\n",
       "      fill: #1967D2;\n",
       "      height: 32px;\n",
       "      padding: 0 0 0 0;\n",
       "      width: 32px;\n",
       "    }\n",
       "\n",
       "    .colab-df-convert:hover {\n",
       "      background-color: #E2EBFA;\n",
       "      box-shadow: 0px 1px 2px rgba(60, 64, 67, 0.3), 0px 1px 3px 1px rgba(60, 64, 67, 0.15);\n",
       "      fill: #174EA6;\n",
       "    }\n",
       "\n",
       "    [theme=dark] .colab-df-convert {\n",
       "      background-color: #3B4455;\n",
       "      fill: #D2E3FC;\n",
       "    }\n",
       "\n",
       "    [theme=dark] .colab-df-convert:hover {\n",
       "      background-color: #434B5C;\n",
       "      box-shadow: 0px 1px 3px 1px rgba(0, 0, 0, 0.15);\n",
       "      filter: drop-shadow(0px 1px 2px rgba(0, 0, 0, 0.3));\n",
       "      fill: #FFFFFF;\n",
       "    }\n",
       "  </style>\n",
       "\n",
       "      <script>\n",
       "        const buttonEl =\n",
       "          document.querySelector('#df-e7060a8b-a0fb-4630-a1cd-0b7317f51def button.colab-df-convert');\n",
       "        buttonEl.style.display =\n",
       "          google.colab.kernel.accessAllowed ? 'block' : 'none';\n",
       "\n",
       "        async function convertToInteractive(key) {\n",
       "          const element = document.querySelector('#df-e7060a8b-a0fb-4630-a1cd-0b7317f51def');\n",
       "          const dataTable =\n",
       "            await google.colab.kernel.invokeFunction('convertToInteractive',\n",
       "                                                     [key], {});\n",
       "          if (!dataTable) return;\n",
       "\n",
       "          const docLinkHtml = 'Like what you see? Visit the ' +\n",
       "            '<a target=\"_blank\" href=https://colab.research.google.com/notebooks/data_table.ipynb>data table notebook</a>'\n",
       "            + ' to learn more about interactive tables.';\n",
       "          element.innerHTML = '';\n",
       "          dataTable['output_type'] = 'display_data';\n",
       "          await google.colab.output.renderOutput(dataTable, element);\n",
       "          const docLink = document.createElement('div');\n",
       "          docLink.innerHTML = docLinkHtml;\n",
       "          element.appendChild(docLink);\n",
       "        }\n",
       "      </script>\n",
       "    </div>\n",
       "  </div>\n",
       "  "
      ],
      "text/plain": [
       "                       id                      name   latitude   longitude  \\\n",
       "173577   E_26ef84eb715951                北海道エネルギー米里  43.072128  141.408112   \n",
       "598596   E_86894993083b72            Kaya Çay Ocaği  38.155328   27.357737   \n",
       "1045660  E_eaf5d745d65505             Arepa & Pizza   6.209766  -75.567632   \n",
       "82833    E_12889abf8b06ec         WYANDOTTE AT 11TH  39.100807  -94.585485   \n",
       "603118   E_878b59392ee860  Üzer Kardeşler Alüminyum  36.759840   27.688953   \n",
       "\n",
       "              address         city  state    zip country  url phone  \\\n",
       "173577            NaN          NaN    NaN    NaN      JP  NaN   NaN   \n",
       "598596            NaN          NaN    NaN    NaN      TR  NaN   NaN   \n",
       "1045660           NaN          NaN    NaN    NaN      CO  NaN   NaN   \n",
       "82833             NaN  Kansas City     MO    NaN      US  NaN   NaN   \n",
       "603118   kizlan sokak  Kızlan Köyü  Muğla  48900      TR  NaN   NaN   \n",
       "\n",
       "                categories point_of_interest  \n",
       "173577        Gas Stations  P_d5116b1dfd2c4a  \n",
       "598596           Tea Rooms  P_80741d334aed3d  \n",
       "1045660  Arepa Restaurants  P_4f61823f4492f8  \n",
       "82833            Bus Stops  P_1889d5af129f2f  \n",
       "603118        Street Fairs  P_6e5067a2301224  "
      ]
     },
     "execution_count": 7,
     "metadata": {},
     "output_type": "execute_result"
    }
   ],
   "source": [
    "train.sample(5)"
   ]
  },
  {
   "cell_type": "code",
   "execution_count": null,
   "metadata": {
    "colab": {
     "base_uri": "https://localhost:8080/"
    },
    "id": "s_95avseVk10",
    "outputId": "5a5f4e40-5f3a-4e43-d665-a37cda9f67c3"
   },
   "outputs": [
    {
     "name": "stdout",
     "output_type": "stream",
     "text": [
      "There are 578907 pairs, 464765 id_1s and 565512 id_2s.\n",
      "\n"
     ]
    }
   ],
   "source": [
    "print('There are', len(pairs), 'pairs,', len(set(pairs.id_1)), 'id_1s and', len(set(pairs.id_2)), 'id_2s.\\n')"
   ]
  },
  {
   "cell_type": "code",
   "execution_count": null,
   "metadata": {
    "colab": {
     "base_uri": "https://localhost:8080/",
     "height": 508
    },
    "id": "Ya9fzOwu0Y52",
    "outputId": "9ee218bf-bbe3-4a5d-b3fd-26ca5122fae5"
   },
   "outputs": [
    {
     "data": {
      "text/html": [
       "\n",
       "  <div id=\"df-d7d50db4-9596-4fde-934e-1ae69947d90c\">\n",
       "    <div class=\"colab-df-container\">\n",
       "      <div>\n",
       "<style scoped>\n",
       "    .dataframe tbody tr th:only-of-type {\n",
       "        vertical-align: middle;\n",
       "    }\n",
       "\n",
       "    .dataframe tbody tr th {\n",
       "        vertical-align: top;\n",
       "    }\n",
       "\n",
       "    .dataframe thead th {\n",
       "        text-align: right;\n",
       "    }\n",
       "</style>\n",
       "<table border=\"1\" class=\"dataframe\">\n",
       "  <thead>\n",
       "    <tr style=\"text-align: right;\">\n",
       "      <th></th>\n",
       "      <th>id_1</th>\n",
       "      <th>name_1</th>\n",
       "      <th>latitude_1</th>\n",
       "      <th>longitude_1</th>\n",
       "      <th>address_1</th>\n",
       "      <th>city_1</th>\n",
       "      <th>state_1</th>\n",
       "      <th>zip_1</th>\n",
       "      <th>country_1</th>\n",
       "      <th>url_1</th>\n",
       "      <th>...</th>\n",
       "      <th>longitude_2</th>\n",
       "      <th>address_2</th>\n",
       "      <th>city_2</th>\n",
       "      <th>state_2</th>\n",
       "      <th>zip_2</th>\n",
       "      <th>country_2</th>\n",
       "      <th>url_2</th>\n",
       "      <th>phone_2</th>\n",
       "      <th>categories_2</th>\n",
       "      <th>match</th>\n",
       "    </tr>\n",
       "  </thead>\n",
       "  <tbody>\n",
       "    <tr>\n",
       "      <th>0</th>\n",
       "      <td>E_000001272c6c5d</td>\n",
       "      <td>Café Stad Oudenaarde</td>\n",
       "      <td>50.859975</td>\n",
       "      <td>3.634196</td>\n",
       "      <td>Abdijstraat</td>\n",
       "      <td>Nederename</td>\n",
       "      <td>Oost-Vlaanderen</td>\n",
       "      <td>9700</td>\n",
       "      <td>BE</td>\n",
       "      <td>NaN</td>\n",
       "      <td>...</td>\n",
       "      <td>3.635206</td>\n",
       "      <td>NaN</td>\n",
       "      <td>NaN</td>\n",
       "      <td>NaN</td>\n",
       "      <td>NaN</td>\n",
       "      <td>BE</td>\n",
       "      <td>NaN</td>\n",
       "      <td>NaN</td>\n",
       "      <td>Bars</td>\n",
       "      <td>True</td>\n",
       "    </tr>\n",
       "    <tr>\n",
       "      <th>1</th>\n",
       "      <td>E_000008a8ba4f48</td>\n",
       "      <td>Turkcell</td>\n",
       "      <td>37.844510</td>\n",
       "      <td>27.844202</td>\n",
       "      <td>Adnan Menderes Bulvarı</td>\n",
       "      <td>NaN</td>\n",
       "      <td>NaN</td>\n",
       "      <td>NaN</td>\n",
       "      <td>TR</td>\n",
       "      <td>NaN</td>\n",
       "      <td>...</td>\n",
       "      <td>27.845560</td>\n",
       "      <td>batı aydın</td>\n",
       "      <td>aydın</td>\n",
       "      <td>NaN</td>\n",
       "      <td>67500</td>\n",
       "      <td>TR</td>\n",
       "      <td>NaN</td>\n",
       "      <td>NaN</td>\n",
       "      <td>Electronics Stores</td>\n",
       "      <td>False</td>\n",
       "    </tr>\n",
       "    <tr>\n",
       "      <th>2</th>\n",
       "      <td>E_000023d8f4be44</td>\n",
       "      <td>Island Spa</td>\n",
       "      <td>14.518970</td>\n",
       "      <td>121.018702</td>\n",
       "      <td>5th Flr, Newport Mall, Resorts World Manila</td>\n",
       "      <td>Pasay City</td>\n",
       "      <td>Metro Manila</td>\n",
       "      <td>NaN</td>\n",
       "      <td>PH</td>\n",
       "      <td>NaN</td>\n",
       "      <td>...</td>\n",
       "      <td>121.019827</td>\n",
       "      <td>NaN</td>\n",
       "      <td>NaN</td>\n",
       "      <td>NaN</td>\n",
       "      <td>NaN</td>\n",
       "      <td>PH</td>\n",
       "      <td>NaN</td>\n",
       "      <td>NaN</td>\n",
       "      <td>Spas</td>\n",
       "      <td>True</td>\n",
       "    </tr>\n",
       "    <tr>\n",
       "      <th>3</th>\n",
       "      <td>E_00007dcd2bb53f</td>\n",
       "      <td>TOGO'S Sandwiches</td>\n",
       "      <td>38.257797</td>\n",
       "      <td>-122.064599</td>\n",
       "      <td>1380 Holiday Ln., Ste. B</td>\n",
       "      <td>Fairfield</td>\n",
       "      <td>CA</td>\n",
       "      <td>94534</td>\n",
       "      <td>US</td>\n",
       "      <td>https://locations.togos.com/ll/US/CA/Fairfield...</td>\n",
       "      <td>...</td>\n",
       "      <td>-122.064606</td>\n",
       "      <td>NaN</td>\n",
       "      <td>Fairfield</td>\n",
       "      <td>CA</td>\n",
       "      <td>NaN</td>\n",
       "      <td>US</td>\n",
       "      <td>NaN</td>\n",
       "      <td>NaN</td>\n",
       "      <td>Sandwich Places</td>\n",
       "      <td>True</td>\n",
       "    </tr>\n",
       "    <tr>\n",
       "      <th>4</th>\n",
       "      <td>E_0000c362229d93</td>\n",
       "      <td>Coffee Cat</td>\n",
       "      <td>7.082218</td>\n",
       "      <td>125.610244</td>\n",
       "      <td>F. Torres St.</td>\n",
       "      <td>Davao City</td>\n",
       "      <td>Davao Region</td>\n",
       "      <td>8000</td>\n",
       "      <td>PH</td>\n",
       "      <td>NaN</td>\n",
       "      <td>...</td>\n",
       "      <td>125.611457</td>\n",
       "      <td>E. Jacinto Extension</td>\n",
       "      <td>Davao City</td>\n",
       "      <td>Davao Region</td>\n",
       "      <td>8000</td>\n",
       "      <td>PH</td>\n",
       "      <td>NaN</td>\n",
       "      <td>NaN</td>\n",
       "      <td>Coffee Shops, Cafés, Dessert Shops</td>\n",
       "      <td>False</td>\n",
       "    </tr>\n",
       "  </tbody>\n",
       "</table>\n",
       "<p>5 rows × 25 columns</p>\n",
       "</div>\n",
       "      <button class=\"colab-df-convert\" onclick=\"convertToInteractive('df-d7d50db4-9596-4fde-934e-1ae69947d90c')\"\n",
       "              title=\"Convert this dataframe to an interactive table.\"\n",
       "              style=\"display:none;\">\n",
       "        \n",
       "  <svg xmlns=\"http://www.w3.org/2000/svg\" height=\"24px\"viewBox=\"0 0 24 24\"\n",
       "       width=\"24px\">\n",
       "    <path d=\"M0 0h24v24H0V0z\" fill=\"none\"/>\n",
       "    <path d=\"M18.56 5.44l.94 2.06.94-2.06 2.06-.94-2.06-.94-.94-2.06-.94 2.06-2.06.94zm-11 1L8.5 8.5l.94-2.06 2.06-.94-2.06-.94L8.5 2.5l-.94 2.06-2.06.94zm10 10l.94 2.06.94-2.06 2.06-.94-2.06-.94-.94-2.06-.94 2.06-2.06.94z\"/><path d=\"M17.41 7.96l-1.37-1.37c-.4-.4-.92-.59-1.43-.59-.52 0-1.04.2-1.43.59L10.3 9.45l-7.72 7.72c-.78.78-.78 2.05 0 2.83L4 21.41c.39.39.9.59 1.41.59.51 0 1.02-.2 1.41-.59l7.78-7.78 2.81-2.81c.8-.78.8-2.07 0-2.86zM5.41 20L4 18.59l7.72-7.72 1.47 1.35L5.41 20z\"/>\n",
       "  </svg>\n",
       "      </button>\n",
       "      \n",
       "  <style>\n",
       "    .colab-df-container {\n",
       "      display:flex;\n",
       "      flex-wrap:wrap;\n",
       "      gap: 12px;\n",
       "    }\n",
       "\n",
       "    .colab-df-convert {\n",
       "      background-color: #E8F0FE;\n",
       "      border: none;\n",
       "      border-radius: 50%;\n",
       "      cursor: pointer;\n",
       "      display: none;\n",
       "      fill: #1967D2;\n",
       "      height: 32px;\n",
       "      padding: 0 0 0 0;\n",
       "      width: 32px;\n",
       "    }\n",
       "\n",
       "    .colab-df-convert:hover {\n",
       "      background-color: #E2EBFA;\n",
       "      box-shadow: 0px 1px 2px rgba(60, 64, 67, 0.3), 0px 1px 3px 1px rgba(60, 64, 67, 0.15);\n",
       "      fill: #174EA6;\n",
       "    }\n",
       "\n",
       "    [theme=dark] .colab-df-convert {\n",
       "      background-color: #3B4455;\n",
       "      fill: #D2E3FC;\n",
       "    }\n",
       "\n",
       "    [theme=dark] .colab-df-convert:hover {\n",
       "      background-color: #434B5C;\n",
       "      box-shadow: 0px 1px 3px 1px rgba(0, 0, 0, 0.15);\n",
       "      filter: drop-shadow(0px 1px 2px rgba(0, 0, 0, 0.3));\n",
       "      fill: #FFFFFF;\n",
       "    }\n",
       "  </style>\n",
       "\n",
       "      <script>\n",
       "        const buttonEl =\n",
       "          document.querySelector('#df-d7d50db4-9596-4fde-934e-1ae69947d90c button.colab-df-convert');\n",
       "        buttonEl.style.display =\n",
       "          google.colab.kernel.accessAllowed ? 'block' : 'none';\n",
       "\n",
       "        async function convertToInteractive(key) {\n",
       "          const element = document.querySelector('#df-d7d50db4-9596-4fde-934e-1ae69947d90c');\n",
       "          const dataTable =\n",
       "            await google.colab.kernel.invokeFunction('convertToInteractive',\n",
       "                                                     [key], {});\n",
       "          if (!dataTable) return;\n",
       "\n",
       "          const docLinkHtml = 'Like what you see? Visit the ' +\n",
       "            '<a target=\"_blank\" href=https://colab.research.google.com/notebooks/data_table.ipynb>data table notebook</a>'\n",
       "            + ' to learn more about interactive tables.';\n",
       "          element.innerHTML = '';\n",
       "          dataTable['output_type'] = 'display_data';\n",
       "          await google.colab.output.renderOutput(dataTable, element);\n",
       "          const docLink = document.createElement('div');\n",
       "          docLink.innerHTML = docLinkHtml;\n",
       "          element.appendChild(docLink);\n",
       "        }\n",
       "      </script>\n",
       "    </div>\n",
       "  </div>\n",
       "  "
      ],
      "text/plain": [
       "               id_1                name_1  latitude_1  longitude_1  \\\n",
       "0  E_000001272c6c5d  Café Stad Oudenaarde   50.859975     3.634196   \n",
       "1  E_000008a8ba4f48              Turkcell   37.844510    27.844202   \n",
       "2  E_000023d8f4be44            Island Spa   14.518970   121.018702   \n",
       "3  E_00007dcd2bb53f     TOGO'S Sandwiches   38.257797  -122.064599   \n",
       "4  E_0000c362229d93            Coffee Cat    7.082218   125.610244   \n",
       "\n",
       "                                     address_1      city_1          state_1  \\\n",
       "0                                  Abdijstraat  Nederename  Oost-Vlaanderen   \n",
       "1                       Adnan Menderes Bulvarı         NaN              NaN   \n",
       "2  5th Flr, Newport Mall, Resorts World Manila  Pasay City     Metro Manila   \n",
       "3                     1380 Holiday Ln., Ste. B   Fairfield               CA   \n",
       "4                                F. Torres St.  Davao City     Davao Region   \n",
       "\n",
       "   zip_1 country_1                                              url_1  ...  \\\n",
       "0   9700        BE                                                NaN  ...   \n",
       "1    NaN        TR                                                NaN  ...   \n",
       "2    NaN        PH                                                NaN  ...   \n",
       "3  94534        US  https://locations.togos.com/ll/US/CA/Fairfield...  ...   \n",
       "4   8000        PH                                                NaN  ...   \n",
       "\n",
       "  longitude_2             address_2      city_2       state_2  zip_2  \\\n",
       "0    3.635206                   NaN         NaN           NaN    NaN   \n",
       "1   27.845560            batı aydın       aydın           NaN  67500   \n",
       "2  121.019827                   NaN         NaN           NaN    NaN   \n",
       "3 -122.064606                   NaN   Fairfield            CA    NaN   \n",
       "4  125.611457  E. Jacinto Extension  Davao City  Davao Region   8000   \n",
       "\n",
       "   country_2 url_2 phone_2                        categories_2  match  \n",
       "0         BE   NaN     NaN                                Bars   True  \n",
       "1         TR   NaN     NaN                  Electronics Stores  False  \n",
       "2         PH   NaN     NaN                                Spas   True  \n",
       "3         US   NaN     NaN                     Sandwich Places   True  \n",
       "4         PH   NaN     NaN  Coffee Shops, Cafés, Dessert Shops  False  \n",
       "\n",
       "[5 rows x 25 columns]"
=======
  "cells": [
    {
      "cell_type": "markdown",
      "metadata": {
        "id": "view-in-github",
        "colab_type": "text"
      },
      "source": [
        "<a href=\"https://colab.research.google.com/github/gormantt/foursquare-location-matching/blob/main/Ling_EDA.ipynb\" target=\"_parent\"><img src=\"https://colab.research.google.com/assets/colab-badge.svg\" alt=\"Open In Colab\"/></a>"
      ]
    },
    {
      "cell_type": "markdown",
      "source": [
        "# Exploratory data analysis\n",
        "\n",
        "---\n",
        "Data analyzed in this notebook is from [Kaggle's code competation: Foursquare - Location Matching](https://www.kaggle.com/competitions/foursquare-location-matching/data). The data comprises over one-and-a-half million place entries for hundreds of thousands of commercial Points-of-Interest (POIs) around the globe. The task is to **determine which place entries describe the same point-of-interest**. Though the data entries may represent or resemble entries for real places, they may also contain artificial information or additional noise.\n"
      ],
      "metadata": {
        "id": "n25cn50iyFUf"
      }
    },
    {
      "cell_type": "code",
      "source": [
        "import pandas as pd\n",
        "import numpy as np\n",
        "import seaborn as sns\n",
        "\n",
        "#For plotting\n",
        "import matplotlib.pyplot as plt\n",
        "from pandas.plotting import scatter_matrix"
      ],
      "metadata": {
        "id": "K_gFE3lTynyQ"
      },
      "execution_count": 1,
      "outputs": []
    },
    {
      "cell_type": "markdown",
      "source": [
        "We read the data below and take a look at some columns."
      ],
      "metadata": {
        "id": "ck3p8I8x0NzY"
      }
    },
    {
      "cell_type": "code",
      "source": [
        "from google.colab import drive\n",
        "drive.mount('/content/drive')"
      ],
      "metadata": {
        "colab": {
          "base_uri": "https://localhost:8080/"
        },
        "id": "SMKbHydTz0FO",
        "outputId": "216136ab-365c-4b48-f234-81c658aab773"
      },
      "execution_count": 2,
      "outputs": [
        {
          "output_type": "stream",
          "name": "stdout",
          "text": [
            "Mounted at /content/drive\n"
          ]
        }
      ]
    },
    {
      "cell_type": "code",
      "source": [
        "pairs = pd.read_csv('/content/drive/MyDrive/Summer 2022/foursquare-location-matching/pairs.csv')\n",
        "test = pd.read_csv('/content/drive/MyDrive/Summer 2022/foursquare-location-matching/test.csv')\n",
        "train = pd.read_csv('/content/drive/MyDrive/Summer 2022/foursquare-location-matching/train.csv')"
      ],
      "metadata": {
        "id": "u8Qz-YOLzGfV"
      },
      "execution_count": 3,
      "outputs": []
    },
    {
      "cell_type": "markdown",
      "source": [
        "# Training data\n",
        "\n",
        "---\n",
        "\n",
        "## The data\n",
        "\n",
        "\n",
        "*   `train.csv` - The training set, comprising eleven attribute fields for over one million place entries, together with:\n",
        "  * `id` - A unique identifier for each entry.\n",
        "  * `point_of_interest` - An identifier for the POI the entry represents. There may be one or many entries describing the same POI. Two entries \"match\" when they describe a common POI. \n",
        "*   `pairs.csv` - A pregenerated set of pairs of place entries from `train.csv` designed to improve detection of matches.\n",
        "  * `match` - Whether (`True` or `False`) the pair of entries describes a common POI.\n",
        "\n"
      ],
      "metadata": {
        "id": "Zg1IqrfV0fDu"
      }
    },
    {
      "cell_type": "code",
      "source": [
        "print('There are', len(set(train.id)), 'id, and', len(set(train.point_of_interest)), 'distinct POIs.\\n')\n",
        "print('About', np.round(len(set(train.point_of_interest))/len(set(train.id))*100,2),'% POIs are unique.\\n')"
      ],
      "metadata": {
        "colab": {
          "base_uri": "https://localhost:8080/"
        },
        "id": "NhuiJ9tqTHom",
        "outputId": "f084553c-fb6d-41e6-9056-64737004dfd4"
      },
      "execution_count": 4,
      "outputs": [
        {
          "output_type": "stream",
          "name": "stdout",
          "text": [
            "There are 1138812 id, and 739972 distinct POIs.\n",
            "\n",
            "About 64.98 % POIs are unique.\n",
            "\n"
          ]
        }
      ]
    },
    {
      "cell_type": "code",
      "source": [
        "train.sample(5)"
      ],
      "metadata": {
        "colab": {
          "base_uri": "https://localhost:8080/",
          "height": 391
        },
        "id": "jVUWPXXvzZnk",
        "outputId": "0f28ed22-12e2-4938-9246-178de2400f39"
      },
      "execution_count": 5,
      "outputs": [
        {
          "output_type": "execute_result",
          "data": {
            "text/plain": [
              "                       id                                 name   latitude  \\\n",
              "582137   E_82d9750ddf2add                                pet10 -31.888159   \n",
              "146966   E_20f3a633d0f6df                         Simit Sarayı  40.151431   \n",
              "1108305  E_f91c45050b140f                     Bodleian Library  51.754018   \n",
              "219460   E_314689317f016a                     Wegmans Catering  43.123072   \n",
              "533697   E_77f0fb3a9c75da  Aeroporto Municipal Leite De Castro -17.836716   \n",
              "\n",
              "          longitude                         address       city        state  \\\n",
              "582137   115.842924                             NaN        NaN          NaN   \n",
              "146966    26.404170  Kayserili Ahmetpaşa Cad. No:23  Çanakkale    Canakkale   \n",
              "1108305   -1.254357                        Broad St     Oxford  Oxfordshire   \n",
              "219460   -76.169950             4979 West Taft Road  Liverpool           NY   \n",
              "533697   -50.958592                               .  Rio Verde          NaN   \n",
              "\n",
              "             zip country                                       url  \\\n",
              "582137       NaN      AU                                       NaN   \n",
              "146966     17100      TR                http://www.simitsarayi.com   \n",
              "1108305  OX1 3BG      GB              http://www.bodleian.ox.ac.uk   \n",
              "219460     13088      US  https://wegmans.onelink.me/G8oB/68301518   \n",
              "533697       NaN      BR                                       NaN   \n",
              "\n",
              "                 phone          categories point_of_interest  \n",
              "582137             NaN          Pet Stores  P_808dbc28f3d09a  \n",
              "146966   +902867770027         Bagel Shops  P_e5cd7b61a2534b  \n",
              "1108305     1865277162   College Libraries  P_16c8a615dd4f77  \n",
              "219460    +13157013208  Food & Drink Shops  P_e31dc9c4c486e3  \n",
              "533697             NaN            Airports  P_d219c33c9a663f  "
            ],
            "text/html": [
              "\n",
              "  <div id=\"df-a5bd6b71-bbee-4c69-a0c3-901496e76b3c\">\n",
              "    <div class=\"colab-df-container\">\n",
              "      <div>\n",
              "<style scoped>\n",
              "    .dataframe tbody tr th:only-of-type {\n",
              "        vertical-align: middle;\n",
              "    }\n",
              "\n",
              "    .dataframe tbody tr th {\n",
              "        vertical-align: top;\n",
              "    }\n",
              "\n",
              "    .dataframe thead th {\n",
              "        text-align: right;\n",
              "    }\n",
              "</style>\n",
              "<table border=\"1\" class=\"dataframe\">\n",
              "  <thead>\n",
              "    <tr style=\"text-align: right;\">\n",
              "      <th></th>\n",
              "      <th>id</th>\n",
              "      <th>name</th>\n",
              "      <th>latitude</th>\n",
              "      <th>longitude</th>\n",
              "      <th>address</th>\n",
              "      <th>city</th>\n",
              "      <th>state</th>\n",
              "      <th>zip</th>\n",
              "      <th>country</th>\n",
              "      <th>url</th>\n",
              "      <th>phone</th>\n",
              "      <th>categories</th>\n",
              "      <th>point_of_interest</th>\n",
              "    </tr>\n",
              "  </thead>\n",
              "  <tbody>\n",
              "    <tr>\n",
              "      <th>582137</th>\n",
              "      <td>E_82d9750ddf2add</td>\n",
              "      <td>pet10</td>\n",
              "      <td>-31.888159</td>\n",
              "      <td>115.842924</td>\n",
              "      <td>NaN</td>\n",
              "      <td>NaN</td>\n",
              "      <td>NaN</td>\n",
              "      <td>NaN</td>\n",
              "      <td>AU</td>\n",
              "      <td>NaN</td>\n",
              "      <td>NaN</td>\n",
              "      <td>Pet Stores</td>\n",
              "      <td>P_808dbc28f3d09a</td>\n",
              "    </tr>\n",
              "    <tr>\n",
              "      <th>146966</th>\n",
              "      <td>E_20f3a633d0f6df</td>\n",
              "      <td>Simit Sarayı</td>\n",
              "      <td>40.151431</td>\n",
              "      <td>26.404170</td>\n",
              "      <td>Kayserili Ahmetpaşa Cad. No:23</td>\n",
              "      <td>Çanakkale</td>\n",
              "      <td>Canakkale</td>\n",
              "      <td>17100</td>\n",
              "      <td>TR</td>\n",
              "      <td>http://www.simitsarayi.com</td>\n",
              "      <td>+902867770027</td>\n",
              "      <td>Bagel Shops</td>\n",
              "      <td>P_e5cd7b61a2534b</td>\n",
              "    </tr>\n",
              "    <tr>\n",
              "      <th>1108305</th>\n",
              "      <td>E_f91c45050b140f</td>\n",
              "      <td>Bodleian Library</td>\n",
              "      <td>51.754018</td>\n",
              "      <td>-1.254357</td>\n",
              "      <td>Broad St</td>\n",
              "      <td>Oxford</td>\n",
              "      <td>Oxfordshire</td>\n",
              "      <td>OX1 3BG</td>\n",
              "      <td>GB</td>\n",
              "      <td>http://www.bodleian.ox.ac.uk</td>\n",
              "      <td>1865277162</td>\n",
              "      <td>College Libraries</td>\n",
              "      <td>P_16c8a615dd4f77</td>\n",
              "    </tr>\n",
              "    <tr>\n",
              "      <th>219460</th>\n",
              "      <td>E_314689317f016a</td>\n",
              "      <td>Wegmans Catering</td>\n",
              "      <td>43.123072</td>\n",
              "      <td>-76.169950</td>\n",
              "      <td>4979 West Taft Road</td>\n",
              "      <td>Liverpool</td>\n",
              "      <td>NY</td>\n",
              "      <td>13088</td>\n",
              "      <td>US</td>\n",
              "      <td>https://wegmans.onelink.me/G8oB/68301518</td>\n",
              "      <td>+13157013208</td>\n",
              "      <td>Food &amp; Drink Shops</td>\n",
              "      <td>P_e31dc9c4c486e3</td>\n",
              "    </tr>\n",
              "    <tr>\n",
              "      <th>533697</th>\n",
              "      <td>E_77f0fb3a9c75da</td>\n",
              "      <td>Aeroporto Municipal Leite De Castro</td>\n",
              "      <td>-17.836716</td>\n",
              "      <td>-50.958592</td>\n",
              "      <td>.</td>\n",
              "      <td>Rio Verde</td>\n",
              "      <td>NaN</td>\n",
              "      <td>NaN</td>\n",
              "      <td>BR</td>\n",
              "      <td>NaN</td>\n",
              "      <td>NaN</td>\n",
              "      <td>Airports</td>\n",
              "      <td>P_d219c33c9a663f</td>\n",
              "    </tr>\n",
              "  </tbody>\n",
              "</table>\n",
              "</div>\n",
              "      <button class=\"colab-df-convert\" onclick=\"convertToInteractive('df-a5bd6b71-bbee-4c69-a0c3-901496e76b3c')\"\n",
              "              title=\"Convert this dataframe to an interactive table.\"\n",
              "              style=\"display:none;\">\n",
              "        \n",
              "  <svg xmlns=\"http://www.w3.org/2000/svg\" height=\"24px\"viewBox=\"0 0 24 24\"\n",
              "       width=\"24px\">\n",
              "    <path d=\"M0 0h24v24H0V0z\" fill=\"none\"/>\n",
              "    <path d=\"M18.56 5.44l.94 2.06.94-2.06 2.06-.94-2.06-.94-.94-2.06-.94 2.06-2.06.94zm-11 1L8.5 8.5l.94-2.06 2.06-.94-2.06-.94L8.5 2.5l-.94 2.06-2.06.94zm10 10l.94 2.06.94-2.06 2.06-.94-2.06-.94-.94-2.06-.94 2.06-2.06.94z\"/><path d=\"M17.41 7.96l-1.37-1.37c-.4-.4-.92-.59-1.43-.59-.52 0-1.04.2-1.43.59L10.3 9.45l-7.72 7.72c-.78.78-.78 2.05 0 2.83L4 21.41c.39.39.9.59 1.41.59.51 0 1.02-.2 1.41-.59l7.78-7.78 2.81-2.81c.8-.78.8-2.07 0-2.86zM5.41 20L4 18.59l7.72-7.72 1.47 1.35L5.41 20z\"/>\n",
              "  </svg>\n",
              "      </button>\n",
              "      \n",
              "  <style>\n",
              "    .colab-df-container {\n",
              "      display:flex;\n",
              "      flex-wrap:wrap;\n",
              "      gap: 12px;\n",
              "    }\n",
              "\n",
              "    .colab-df-convert {\n",
              "      background-color: #E8F0FE;\n",
              "      border: none;\n",
              "      border-radius: 50%;\n",
              "      cursor: pointer;\n",
              "      display: none;\n",
              "      fill: #1967D2;\n",
              "      height: 32px;\n",
              "      padding: 0 0 0 0;\n",
              "      width: 32px;\n",
              "    }\n",
              "\n",
              "    .colab-df-convert:hover {\n",
              "      background-color: #E2EBFA;\n",
              "      box-shadow: 0px 1px 2px rgba(60, 64, 67, 0.3), 0px 1px 3px 1px rgba(60, 64, 67, 0.15);\n",
              "      fill: #174EA6;\n",
              "    }\n",
              "\n",
              "    [theme=dark] .colab-df-convert {\n",
              "      background-color: #3B4455;\n",
              "      fill: #D2E3FC;\n",
              "    }\n",
              "\n",
              "    [theme=dark] .colab-df-convert:hover {\n",
              "      background-color: #434B5C;\n",
              "      box-shadow: 0px 1px 3px 1px rgba(0, 0, 0, 0.15);\n",
              "      filter: drop-shadow(0px 1px 2px rgba(0, 0, 0, 0.3));\n",
              "      fill: #FFFFFF;\n",
              "    }\n",
              "  </style>\n",
              "\n",
              "      <script>\n",
              "        const buttonEl =\n",
              "          document.querySelector('#df-a5bd6b71-bbee-4c69-a0c3-901496e76b3c button.colab-df-convert');\n",
              "        buttonEl.style.display =\n",
              "          google.colab.kernel.accessAllowed ? 'block' : 'none';\n",
              "\n",
              "        async function convertToInteractive(key) {\n",
              "          const element = document.querySelector('#df-a5bd6b71-bbee-4c69-a0c3-901496e76b3c');\n",
              "          const dataTable =\n",
              "            await google.colab.kernel.invokeFunction('convertToInteractive',\n",
              "                                                     [key], {});\n",
              "          if (!dataTable) return;\n",
              "\n",
              "          const docLinkHtml = 'Like what you see? Visit the ' +\n",
              "            '<a target=\"_blank\" href=https://colab.research.google.com/notebooks/data_table.ipynb>data table notebook</a>'\n",
              "            + ' to learn more about interactive tables.';\n",
              "          element.innerHTML = '';\n",
              "          dataTable['output_type'] = 'display_data';\n",
              "          await google.colab.output.renderOutput(dataTable, element);\n",
              "          const docLink = document.createElement('div');\n",
              "          docLink.innerHTML = docLinkHtml;\n",
              "          element.appendChild(docLink);\n",
              "        }\n",
              "      </script>\n",
              "    </div>\n",
              "  </div>\n",
              "  "
            ]
          },
          "metadata": {},
          "execution_count": 5
        }
      ]
    },
    {
      "cell_type": "code",
      "source": [
        "print('There are', len(pairs), 'pairs,', len(set(pairs.id_1)), 'id_1s and', len(set(pairs.id_2)), 'id_2s.\\n')"
      ],
      "metadata": {
        "colab": {
          "base_uri": "https://localhost:8080/"
        },
        "id": "s_95avseVk10",
        "outputId": "ee5ba441-5221-462c-f80a-402cfe6aae3e"
      },
      "execution_count": 6,
      "outputs": [
        {
          "output_type": "stream",
          "name": "stdout",
          "text": [
            "There are 578907 pairs, 464765 id_1s and 565512 id_2s.\n",
            "\n"
          ]
        }
      ]
    },
    {
      "cell_type": "code",
      "source": [
        "pairs.loc[0]"
      ],
      "metadata": {
        "colab": {
          "base_uri": "https://localhost:8080/"
        },
        "id": "Ya9fzOwu0Y52",
        "outputId": "395df6c9-5ee9-4b6a-d12d-6bd150336363"
      },
      "execution_count": 120,
      "outputs": [
        {
          "output_type": "execute_result",
          "data": {
            "text/plain": [
              "id_1                 E_000001272c6c5d\n",
              "name_1           Café Stad Oudenaarde\n",
              "latitude_1                  50.859975\n",
              "longitude_1                  3.634196\n",
              "address_1                 Abdijstraat\n",
              "city_1                     Nederename\n",
              "state_1               Oost-Vlaanderen\n",
              "zip_1                            9700\n",
              "country_1                          BE\n",
              "url_1                             NaN\n",
              "phone_1                           NaN\n",
              "categories_1                     Bars\n",
              "id_2                 E_da7fa3963561f8\n",
              "name_2                Café Oudenaarde\n",
              "latitude_2                  50.869358\n",
              "longitude_2                  3.635206\n",
              "address_2                         NaN\n",
              "city_2                            NaN\n",
              "state_2                           NaN\n",
              "zip_2                             NaN\n",
              "country_2                          BE\n",
              "url_2                             NaN\n",
              "phone_2                           NaN\n",
              "categories_2                     Bars\n",
              "match                            True\n",
              "location_diff                0.009383\n",
              "name_diff                       0.125\n",
              "address_diff                     -1.0\n",
              "city_diff                        -1.0\n",
              "zip_diff                         -1.0\n",
              "Name: 0, dtype: object"
            ]
          },
          "metadata": {},
          "execution_count": 120
        }
      ]
    },
    {
      "cell_type": "markdown",
      "source": [
        "## Considering only US locations"
      ],
      "metadata": {
        "id": "3QuzyE2Zquij"
      }
    },
    {
      "cell_type": "code",
      "source": [
        "train_US = train.loc[train.country=='US']\n",
        "pairs_US = pairs.loc[(pairs.country_1=='US') & (pairs.country_2=='US')]"
      ],
      "metadata": {
        "id": "GgD_L7GvpW0Y"
      },
      "execution_count": 8,
      "outputs": []
    },
    {
      "cell_type": "code",
      "source": [
        "print(\"{:.2%}\".format(len(train_US)/len(train)),'locations are in US')\n",
        "print(\"{:.2%}\".format(len(pairs_US)/len(pairs)),'pairs are in US')"
      ],
      "metadata": {
        "colab": {
          "base_uri": "https://localhost:8080/"
        },
        "id": "TWXN_RgBrH8t",
        "outputId": "87e32145-cc31-4ba2-cac5-c460ebc435bc"
      },
      "execution_count": 9,
      "outputs": [
        {
          "output_type": "stream",
          "name": "stdout",
          "text": [
            "21.54% locations are in US\n",
            "20.33% pairs are in US\n"
          ]
        }
>>>>>>> 0ffda8a4420594755f585b8a8a07405b4b66b2df
      ]
     },
     "execution_count": 9,
     "metadata": {},
     "output_type": "execute_result"
    }
   ],
   "source": [
    "pairs.head()"
   ]
  },
  {
   "cell_type": "markdown",
   "metadata": {
    "id": "3QuzyE2Zquij"
   },
   "source": [
    "## Considering only US locations"
   ]
  },
  {
   "cell_type": "code",
   "execution_count": null,
   "metadata": {
    "id": "GgD_L7GvpW0Y"
   },
   "outputs": [],
   "source": [
    "train_US = train.loc[train.country=='US']\n",
    "pairs_US = pairs.loc[(pairs.country_1=='US') & (pairs.country_2=='US')]"
   ]
  },
  {
   "cell_type": "code",
   "execution_count": null,
   "metadata": {
    "colab": {
     "base_uri": "https://localhost:8080/"
    },
    "id": "TWXN_RgBrH8t",
    "outputId": "a9555f22-62ec-4a13-f4c1-d7c64a1dc9c4"
   },
   "outputs": [
    {
     "name": "stdout",
     "output_type": "stream",
     "text": [
      "21.54% locations are in US\n",
      "20.33% pairs are in US\n"
     ]
    }
   ],
   "source": [
    "print(\"{:.2%}\".format(len(train_US)/len(train)),'locations are in US')\n",
    "print(\"{:.2%}\".format(len(pairs_US)/len(pairs)),'pairs are in US')"
   ]
  },
  {
   "cell_type": "markdown",
   "metadata": {
    "id": "PRODlbdR814G"
   },
   "source": [
    "## Missing values\n",
    "\n",
    "\n"
   ]
  },
  {
   "cell_type": "code",
   "execution_count": null,
   "metadata": {
    "colab": {
     "base_uri": "https://localhost:8080/"
    },
    "id": "WEH9EmCP9hW8",
    "outputId": "d258da97-80aa-4da6-c1a0-ecb07a096dd0"
   },
   "outputs": [
    {
     "name": "stdout",
     "output_type": "stream",
     "text": [
      "In train.csv, 0.00% rows have \"NaN\" for id\n",
      "In train.csv, 0.00% rows have \"NaN\" for name\n",
      "In train.csv, 0.00% rows have \"NaN\" for latitude\n",
      "In train.csv, 0.00% rows have \"NaN\" for longitude\n",
      "In train.csv, 34.83% rows have \"NaN\" for address\n",
      "In train.csv, 26.27% rows have \"NaN\" for city\n",
      "In train.csv, 36.93% rows have \"NaN\" for state\n",
      "In train.csv, 52.28% rows have \"NaN\" for zip\n",
      "In train.csv, 0.00% rows have \"NaN\" for country\n",
      "In train.csv, 76.49% rows have \"NaN\" for url\n",
      "In train.csv, 69.89% rows have \"NaN\" for phone\n",
      "In train.csv, 8.63% rows have \"NaN\" for categories\n",
      "In train.csv, 0.00% rows have \"NaN\" for point_of_interest\n"
     ]
    }
   ],
   "source": [
    "for col in train.columns:\n",
    "    print('In train.csv,',\"{:.2%}\".format(1-len(train[col].dropna())/len(train[col])), 'rows have \"NaN\" for', col)"
   ]
  },
  {
   "cell_type": "code",
   "execution_count": null,
   "metadata": {
    "colab": {
     "base_uri": "https://localhost:8080/"
    },
    "id": "bqDLoK8i_9Nw",
    "outputId": "cc24a838-073e-4a4d-be2a-0e934442f56f"
   },
   "outputs": [
    {
     "name": "stdout",
     "output_type": "stream",
     "text": [
      "In train_US.csv, 0.00% rows have \"NaN\" for id\n",
      "In train_US.csv, 0.00% rows have \"NaN\" for name\n",
      "In train_US.csv, 0.00% rows have \"NaN\" for latitude\n",
      "In train_US.csv, 0.00% rows have \"NaN\" for longitude\n",
      "In train_US.csv, 23.02% rows have \"NaN\" for address\n",
      "In train_US.csv, 3.69% rows have \"NaN\" for city\n",
      "In train_US.csv, 2.41% rows have \"NaN\" for state\n",
      "In train_US.csv, 13.05% rows have \"NaN\" for zip\n",
      "In train_US.csv, 0.00% rows have \"NaN\" for country\n",
      "In train_US.csv, 59.44% rows have \"NaN\" for url\n",
      "In train_US.csv, 46.35% rows have \"NaN\" for phone\n",
      "In train_US.csv, 5.36% rows have \"NaN\" for categories\n",
      "In train_US.csv, 0.00% rows have \"NaN\" for point_of_interest\n"
     ]
    }
   ],
   "source": [
    "for col in train_US.columns:\n",
    "    print('In train_US.csv,',\"{:.2%}\".format(1-len(train_US[col].dropna())/len(train_US[col])), 'rows have \"NaN\" for', col)"
   ]
  },
  {
   "cell_type": "markdown",
   "metadata": {
    "id": "niSwEp1WovhW"
   },
   "source": [
    "## Generate more pairs\n",
    "\n"
   ]
  },
  {
   "cell_type": "code",
   "execution_count": null,
   "metadata": {
    "colab": {
     "base_uri": "https://localhost:8080/"
    },
    "id": "uALymGALpFED",
    "outputId": "a21b85fe-9fa0-4b7e-8067-09e08d9adadf"
   },
   "outputs": [
    {
<<<<<<< HEAD
     "data": {
      "text/plain": [
       "1008661"
=======
      "cell_type": "markdown",
      "source": [
        "## Missing values\n",
        "\n",
        "\n"
      ],
      "metadata": {
        "id": "PRODlbdR814G"
      }
    },
    {
      "cell_type": "code",
      "source": [
        "for col in train.columns:\n",
        "    print('In train.csv,',\"{:.6%}\".format(1-len(train[col].dropna())/len(train[col])), 'rows have \"NaN\" for', col)"
      ],
      "metadata": {
        "colab": {
          "base_uri": "https://localhost:8080/"
        },
        "id": "WEH9EmCP9hW8",
        "outputId": "bf94eb9c-b864-4814-c4e4-99df4f7fb95d"
      },
      "execution_count": 128,
      "outputs": [
        {
          "output_type": "stream",
          "name": "stdout",
          "text": [
            "In train.csv, 0.000000% rows have \"NaN\" for id\n",
            "In train.csv, 0.000088% rows have \"NaN\" for name\n",
            "In train.csv, 0.000000% rows have \"NaN\" for latitude\n",
            "In train.csv, 0.000000% rows have \"NaN\" for longitude\n",
            "In train.csv, 34.827610% rows have \"NaN\" for address\n",
            "In train.csv, 26.272027% rows have \"NaN\" for city\n",
            "In train.csv, 36.931996% rows have \"NaN\" for state\n",
            "In train.csv, 52.284837% rows have \"NaN\" for zip\n",
            "In train.csv, 0.000966% rows have \"NaN\" for country\n",
            "In train.csv, 76.490940% rows have \"NaN\" for url\n",
            "In train.csv, 69.893626% rows have \"NaN\" for phone\n",
            "In train.csv, 8.632417% rows have \"NaN\" for categories\n",
            "In train.csv, 0.000000% rows have \"NaN\" for point_of_interest\n"
          ]
        }
>>>>>>> 0ffda8a4420594755f585b8a8a07405b4b66b2df
      ]
     },
     "execution_count": 10,
     "metadata": {},
     "output_type": "execute_result"
    }
   ],
   "source": [
    "len(set(list(pairs.id_1)+list(pairs.id_2)))"
   ]
  },
  {
   "cell_type": "code",
   "execution_count": null,
   "metadata": {
    "colab": {
     "base_uri": "https://localhost:8080/"
    },
    "id": "SOu_OVl2pOeg",
    "outputId": "1f0fec7b-2cdc-4ca9-de9b-7c6c7c48f380"
   },
   "outputs": [
    {
<<<<<<< HEAD
     "data": {
      "text/plain": [
       "130151"
      ]
     },
     "execution_count": 11,
     "metadata": {},
     "output_type": "execute_result"
    }
   ],
   "source": [
    "len(set(train.id)-set(list(pairs.id_1)+list(pairs.id_2)))"
   ]
  },
  {
   "cell_type": "markdown",
   "metadata": {
    "id": "VCpYBKeqbby8"
   },
   "source": [
    "## Features\n",
    "\n",
    "---\n",
    "\n",
    "The features available in `test.csv` include \n",
    "\n",
    "```\n",
    "'name', 'latitude', 'longitude', 'address', 'city', 'state',\n",
    "       'zip', 'country', 'url', 'phone', 'categories'\n",
    "```\n"
   ]
  },
  {
   "cell_type": "markdown",
   "metadata": {
    "id": "9Xdkh5XXbiv-"
   },
   "source": [
    "### Latitude and longitude\n",
    "\n",
    "\n",
    "---\n",
    "We compute the difference for (latitude, longitude) of each pair in `pairs.csv`. It turns out \n",
    "  * locations with close (difference less than 0.001) can have have different POIs: stores are next to each other in a shopping center. In some extreme cases, places with identical coordinates can have different POI. For example, one classroom can be located vertically on top of another.  \n",
    "  * conversely, locations physically far can represent the same POI, such as mountains."
   ]
  },
  {
   "cell_type": "code",
   "execution_count": null,
   "metadata": {
    "colab": {
     "base_uri": "https://localhost:8080/"
    },
    "id": "2Y455w2siJI3",
    "outputId": "30be516b-5ceb-4ef7-959e-8c485c594bb3"
   },
   "outputs": [
    {
     "name": "stdout",
     "output_type": "stream",
     "text": [
      "0         0.009383\n",
      "1         0.006490\n",
      "2         0.001126\n",
      "3         0.000141\n",
      "4         0.006202\n",
      "            ...   \n",
      "578902    0.000693\n",
      "578903    0.001052\n",
      "578904    0.008220\n",
      "578905    0.000300\n",
      "578906    0.011056\n",
      "Name: location_diff, Length: 578907, dtype: float64 \n",
      "The largest difference is 270.8656697298361 \n",
      "The average difference is 0.13120959656239997\n"
     ]
    }
   ],
   "source": [
    "#pairs['latitude_diff'] = (pairs['latitude_1']-pairs['latitude_2']).abs()\n",
    "#pairs['longitude_diff'] = (pairs['longitude_1']-pairs['longitude_2']).abs()\n",
    "#pairs['location_diff'] = pairs['latitude_1']-pairs['latitude_2']\n",
    "\n",
    "# Compute the difference of (latitude, longitude) of each pair in pairs.csv\n",
    "pairs['location_diff'] = pd.concat([(pairs['latitude_1']-pairs['latitude_2']).abs(), (pairs['longitude_1']-pairs['longitude_2']).abs()], axis=1).max(axis=1)\n",
    "\n",
    "print(pairs.location_diff, '\\nThe largest difference is', pairs.location_diff.max(),'\\nThe average difference is', pairs.location_diff.mean())"
   ]
  },
  {
   "cell_type": "code",
   "execution_count": null,
   "metadata": {
    "colab": {
     "base_uri": "https://localhost:8080/"
    },
    "id": "iHG_tAXjn7xb",
    "outputId": "3685ed6a-38ab-48d1-8c10-7b162c18b198"
   },
   "outputs": [
    {
     "data": {
      "text/plain": [
       "US    117793\n",
       "ID     68412\n",
       "TR     61497\n",
       "JP     34217\n",
       "TH     31591\n",
       "       ...  \n",
       "YT         1\n",
       "PW         1\n",
       "DJ         1\n",
       "SH         1\n",
       "EH         1\n",
       "Name: country_1, Length: 213, dtype: int64"
=======
      "cell_type": "code",
      "source": [
        "for col in train_US.columns:\n",
        "    print('In train_US.csv,',\"{:.6%}\".format(1-len(train_US[col].dropna())/len(train_US[col])), 'rows have \"NaN\" for', col)"
      ],
      "metadata": {
        "colab": {
          "base_uri": "https://localhost:8080/"
        },
        "id": "bqDLoK8i_9Nw",
        "outputId": "8018c5b8-2976-4bb8-b99a-3bc9f02e4ed6"
      },
      "execution_count": 129,
      "outputs": [
        {
          "output_type": "stream",
          "name": "stdout",
          "text": [
            "In train_US.csv, 0.000000% rows have \"NaN\" for id\n",
            "In train_US.csv, 0.000408% rows have \"NaN\" for name\n",
            "In train_US.csv, 0.000000% rows have \"NaN\" for latitude\n",
            "In train_US.csv, 0.000000% rows have \"NaN\" for longitude\n",
            "In train_US.csv, 23.018216% rows have \"NaN\" for address\n",
            "In train_US.csv, 3.686747% rows have \"NaN\" for city\n",
            "In train_US.csv, 2.409860% rows have \"NaN\" for state\n",
            "In train_US.csv, 13.048955% rows have \"NaN\" for zip\n",
            "In train_US.csv, 0.000000% rows have \"NaN\" for country\n",
            "In train_US.csv, 59.444155% rows have \"NaN\" for url\n",
            "In train_US.csv, 46.349130% rows have \"NaN\" for phone\n",
            "In train_US.csv, 5.361540% rows have \"NaN\" for categories\n",
            "In train_US.csv, 0.000000% rows have \"NaN\" for point_of_interest\n"
          ]
        }
      ]
    },
    {
      "cell_type": "markdown",
      "source": [
        "## Generate more pairs\n",
        "\n"
      ],
      "metadata": {
        "id": "niSwEp1WovhW"
      }
    },
    {
      "cell_type": "code",
      "source": [
        "len(set(list(pairs.id_1)+list(pairs.id_2)))"
      ],
      "metadata": {
        "colab": {
          "base_uri": "https://localhost:8080/"
        },
        "id": "uALymGALpFED",
        "outputId": "73ae0965-e0e3-4ec9-d6ba-88f499b5021b"
      },
      "execution_count": 13,
      "outputs": [
        {
          "output_type": "execute_result",
          "data": {
            "text/plain": [
              "1008661"
            ]
          },
          "metadata": {},
          "execution_count": 13
        }
>>>>>>> 0ffda8a4420594755f585b8a8a07405b4b66b2df
      ]
     },
     "execution_count": 39,
     "metadata": {},
     "output_type": "execute_result"
    }
   ],
   "source": [
    "pairs.country_1.value_counts()"
   ]
  },
  {
   "cell_type": "code",
   "execution_count": null,
   "metadata": {
    "colab": {
     "base_uri": "https://localhost:8080/"
    },
    "id": "qk6xQvWnkD46",
    "outputId": "8d86a926-e0a6-4628-fa41-9fbcce806708"
   },
   "outputs": [
    {
<<<<<<< HEAD
     "data": {
      "text/plain": [
       "286"
      ]
     },
     "execution_count": 40,
     "metadata": {},
     "output_type": "execute_result"
    }
   ],
   "source": [
    "len(pairs.loc[(pairs.country_1=='NZ') & (pairs.location_diff<0.001)])"
   ]
  },
  {
   "cell_type": "code",
   "execution_count": null,
   "metadata": {
    "colab": {
     "base_uri": "https://localhost:8080/",
     "height": 281
    },
    "id": "wCHMVs33nL6-",
    "outputId": "762edd73-4ba5-4c3d-c357-087bc6d1ff08"
   },
   "outputs": [
    {
     "data": {
      "image/png": "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\n",
      "text/plain": [
       "<Figure size 432x288 with 1 Axes>"
      ]
     },
     "metadata": {
      "needs_background": "light"
     },
     "output_type": "display_data"
    }
   ],
   "source": [
    "sns.stripplot(x=\"match\", y=\"location_diff\", data=pairs.loc[(pairs.country_1=='NZ') & (pairs.location_diff<0.001)])\n",
    "plt.show()"
   ]
  },
  {
   "cell_type": "code",
   "execution_count": null,
   "metadata": {
    "colab": {
     "base_uri": "https://localhost:8080/"
    },
    "id": "6DlOAlWhhQHM",
    "outputId": "c23835e4-7e57-455f-b6fb-8038e2ce948d"
   },
   "outputs": [
    {
     "name": "stdout",
     "output_type": "stream",
     "text": [
      "There are 574 pairs with location_diff=0 but different POIs, out of all 578907 pairs.\n"
     ]
    }
   ],
   "source": [
    "print('There are',len(pairs.loc[(pairs.location_diff==0) & (pairs.match==False)]),'pairs with location_diff=0 but different POIs, out of all',len(pairs),'pairs.')"
   ]
  },
  {
   "cell_type": "code",
   "execution_count": null,
   "metadata": {
    "colab": {
     "base_uri": "https://localhost:8080/"
    },
    "id": "sKU0SDovcmji",
    "outputId": "0ce5b625-41a3-450d-ad07-d33544c446ac"
   },
   "outputs": [
    {
     "data": {
      "text/plain": [
       "array([['E_e4da3f6a7ad158', 'Aoraki Mount Cook', -43.73289364636436,\n",
       "        170.09544602116455, 'Mt Cook National Park',\n",
       "        'Mount Cook Village', 'Canterbury', nan, 'NZ',\n",
       "        'http://www.doc.govt.nz', nan, 'Mountains', 'E_faaaf010fbdf76',\n",
       "        'Mt. Cook', -38.13113938012586, 176.24823588915947, nan, nan,\n",
       "        nan, nan, 'NZ', nan, nan, 'Mountains', True, 6.152789867994926,\n",
       "        -1.0, 0.4545454545454546]], dtype=object)"
      ]
     },
     "execution_count": 43,
     "metadata": {},
     "output_type": "execute_result"
    }
   ],
   "source": [
    "pairs.loc[(pairs.country_1=='NZ') & (pairs.location_diff>5)].values"
   ]
  },
  {
   "cell_type": "markdown",
   "metadata": {
    "id": "dyq-Ele_tUdk"
   },
   "source": [
    "### Name\n",
    "\n",
    "---\n",
    "\n",
    "We compute the difference for names of each pair in `pairs.csv`. "
   ]
  },
  {
   "cell_type": "code",
   "execution_count": null,
   "metadata": {
    "id": "xTKecP6ZuAYd"
   },
   "outputs": [],
   "source": [
    "from difflib import SequenceMatcher\n",
    "import math"
   ]
  },
  {
   "cell_type": "code",
   "execution_count": null,
   "metadata": {
    "id": "w5OyBOHCvHO-"
   },
   "outputs": [],
   "source": [
    "# Reference: https://stackoverflow.com/questions/43916271/python-pandas-sequencematch-columns-for-each-value-and-return-closet-match\n",
    "\n",
    "def sim_metric(df, col1, col2):\n",
    "    a = df[col1]\n",
    "    b = df[col2]\n",
    "    \n",
    "    if type(a)!=str or type(b)!=str:\n",
    "        return -1\n",
    "    else:\n",
    "        a = a.lower().replace(\" \", \"\").replace(\"'\", \"\")\n",
    "        b = b.lower().replace(\" \", \"\").replace(\"'\", \"\")\n",
    "    #if a in b or b in a: \n",
    "    #    return 0\n",
    "    return 1-SequenceMatcher(None, a, b).ratio()\n"
   ]
  },
  {
   "cell_type": "code",
   "execution_count": null,
   "metadata": {
    "id": "I0MikHep2rW-"
   },
   "outputs": [],
   "source": [
    "pairs['name_diff'] = pairs.apply(sim_metric,\n",
    "                          args=('name_1', 'name_2'),\n",
    "                          axis=1)"
   ]
  },
  {
   "cell_type": "code",
   "execution_count": null,
   "metadata": {
    "colab": {
     "base_uri": "https://localhost:8080/",
     "height": 279
    },
    "id": "9By4VxpsyqXo",
    "outputId": "cf34311d-ca32-4c5c-f0f6-28b0b814b3fc"
   },
   "outputs": [
    {
     "data": {
      "image/png": "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\n",
      "text/plain": [
       "<Figure size 432x288 with 1 Axes>"
      ]
     },
     "metadata": {
      "needs_background": "light"
     },
     "output_type": "display_data"
    }
   ],
   "source": [
    "sns.stripplot(x=\"match\", y=\"name_diff\", data=pairs.loc[pairs.country_1=='NZ'])\n",
    "plt.show()"
   ]
  },
  {
   "cell_type": "code",
   "execution_count": null,
   "metadata": {
    "colab": {
     "base_uri": "https://localhost:8080/",
     "height": 279
    },
    "id": "XImegvFXwQRw",
    "outputId": "48057c74-6713-48cd-d436-9effa6e3a16d"
   },
   "outputs": [
    {
     "data": {
      "image/png": "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\n",
      "text/plain": [
       "<Figure size 432x288 with 1 Axes>"
      ]
     },
     "metadata": {
      "needs_background": "light"
     },
     "output_type": "display_data"
    }
   ],
   "source": [
    "sns.stripplot(x=\"match\", y=\"name_diff\", data=pairs.loc[(pairs.country_1=='NZ') & (pairs.name_diff<0.1)])\n",
    "plt.show()"
   ]
  },
  {
   "cell_type": "code",
   "execution_count": null,
   "metadata": {
    "colab": {
     "base_uri": "https://localhost:8080/",
     "height": 424
    },
    "id": "tReb11xB0XT4",
    "outputId": "e44edb74-281d-4d7a-cc13-fdcd1156232a"
   },
   "outputs": [
    {
     "data": {
      "text/html": [
       "\n",
       "  <div id=\"df-ce61af6f-8c1c-49fb-ae2c-5d2d5d112f27\">\n",
       "    <div class=\"colab-df-container\">\n",
       "      <div>\n",
       "<style scoped>\n",
       "    .dataframe tbody tr th:only-of-type {\n",
       "        vertical-align: middle;\n",
       "    }\n",
       "\n",
       "    .dataframe tbody tr th {\n",
       "        vertical-align: top;\n",
       "    }\n",
       "\n",
       "    .dataframe thead th {\n",
       "        text-align: right;\n",
       "    }\n",
       "</style>\n",
       "<table border=\"1\" class=\"dataframe\">\n",
       "  <thead>\n",
       "    <tr style=\"text-align: right;\">\n",
       "      <th></th>\n",
       "      <th>name_1</th>\n",
       "      <th>name_2</th>\n",
       "    </tr>\n",
       "  </thead>\n",
       "  <tbody>\n",
       "    <tr>\n",
       "      <th>1</th>\n",
       "      <td>Turkcell</td>\n",
       "      <td>Turkcell</td>\n",
       "    </tr>\n",
       "    <tr>\n",
       "      <th>4</th>\n",
       "      <td>Coffee Cat</td>\n",
       "      <td>Coffeecat</td>\n",
       "    </tr>\n",
       "    <tr>\n",
       "      <th>37</th>\n",
       "      <td>Kipa Extra</td>\n",
       "      <td>Kipa Extra</td>\n",
       "    </tr>\n",
       "    <tr>\n",
       "      <th>94</th>\n",
       "      <td>Рубль бум</td>\n",
       "      <td>Рубль Бум</td>\n",
       "    </tr>\n",
       "    <tr>\n",
       "      <th>151</th>\n",
       "      <td>LiHO</td>\n",
       "      <td>LiHO</td>\n",
       "    </tr>\n",
       "    <tr>\n",
       "      <th>...</th>\n",
       "      <td>...</td>\n",
       "      <td>...</td>\n",
       "    </tr>\n",
       "    <tr>\n",
       "      <th>578607</th>\n",
       "      <td>Cosi</td>\n",
       "      <td>Cosi</td>\n",
       "    </tr>\n",
       "    <tr>\n",
       "      <th>578614</th>\n",
       "      <td>ПЭК</td>\n",
       "      <td>ПЭК</td>\n",
       "    </tr>\n",
       "    <tr>\n",
       "      <th>578773</th>\n",
       "      <td>The Coffee Bean &amp; Tea Leaf</td>\n",
       "      <td>The Coffee Bean &amp; Tea Leaf</td>\n",
       "    </tr>\n",
       "    <tr>\n",
       "      <th>578894</th>\n",
       "      <td>7-Eleven</td>\n",
       "      <td>7-Eleven</td>\n",
       "    </tr>\n",
       "    <tr>\n",
       "      <th>578895</th>\n",
       "      <td>WESTLOTTO</td>\n",
       "      <td>WESTLOTTO</td>\n",
       "    </tr>\n",
       "  </tbody>\n",
       "</table>\n",
       "<p>13352 rows × 2 columns</p>\n",
       "</div>\n",
       "      <button class=\"colab-df-convert\" onclick=\"convertToInteractive('df-ce61af6f-8c1c-49fb-ae2c-5d2d5d112f27')\"\n",
       "              title=\"Convert this dataframe to an interactive table.\"\n",
       "              style=\"display:none;\">\n",
       "        \n",
       "  <svg xmlns=\"http://www.w3.org/2000/svg\" height=\"24px\"viewBox=\"0 0 24 24\"\n",
       "       width=\"24px\">\n",
       "    <path d=\"M0 0h24v24H0V0z\" fill=\"none\"/>\n",
       "    <path d=\"M18.56 5.44l.94 2.06.94-2.06 2.06-.94-2.06-.94-.94-2.06-.94 2.06-2.06.94zm-11 1L8.5 8.5l.94-2.06 2.06-.94-2.06-.94L8.5 2.5l-.94 2.06-2.06.94zm10 10l.94 2.06.94-2.06 2.06-.94-2.06-.94-.94-2.06-.94 2.06-2.06.94z\"/><path d=\"M17.41 7.96l-1.37-1.37c-.4-.4-.92-.59-1.43-.59-.52 0-1.04.2-1.43.59L10.3 9.45l-7.72 7.72c-.78.78-.78 2.05 0 2.83L4 21.41c.39.39.9.59 1.41.59.51 0 1.02-.2 1.41-.59l7.78-7.78 2.81-2.81c.8-.78.8-2.07 0-2.86zM5.41 20L4 18.59l7.72-7.72 1.47 1.35L5.41 20z\"/>\n",
       "  </svg>\n",
       "      </button>\n",
       "      \n",
       "  <style>\n",
       "    .colab-df-container {\n",
       "      display:flex;\n",
       "      flex-wrap:wrap;\n",
       "      gap: 12px;\n",
       "    }\n",
       "\n",
       "    .colab-df-convert {\n",
       "      background-color: #E8F0FE;\n",
       "      border: none;\n",
       "      border-radius: 50%;\n",
       "      cursor: pointer;\n",
       "      display: none;\n",
       "      fill: #1967D2;\n",
       "      height: 32px;\n",
       "      padding: 0 0 0 0;\n",
       "      width: 32px;\n",
       "    }\n",
       "\n",
       "    .colab-df-convert:hover {\n",
       "      background-color: #E2EBFA;\n",
       "      box-shadow: 0px 1px 2px rgba(60, 64, 67, 0.3), 0px 1px 3px 1px rgba(60, 64, 67, 0.15);\n",
       "      fill: #174EA6;\n",
       "    }\n",
       "\n",
       "    [theme=dark] .colab-df-convert {\n",
       "      background-color: #3B4455;\n",
       "      fill: #D2E3FC;\n",
       "    }\n",
       "\n",
       "    [theme=dark] .colab-df-convert:hover {\n",
       "      background-color: #434B5C;\n",
       "      box-shadow: 0px 1px 3px 1px rgba(0, 0, 0, 0.15);\n",
       "      filter: drop-shadow(0px 1px 2px rgba(0, 0, 0, 0.3));\n",
       "      fill: #FFFFFF;\n",
       "    }\n",
       "  </style>\n",
       "\n",
       "      <script>\n",
       "        const buttonEl =\n",
       "          document.querySelector('#df-ce61af6f-8c1c-49fb-ae2c-5d2d5d112f27 button.colab-df-convert');\n",
       "        buttonEl.style.display =\n",
       "          google.colab.kernel.accessAllowed ? 'block' : 'none';\n",
       "\n",
       "        async function convertToInteractive(key) {\n",
       "          const element = document.querySelector('#df-ce61af6f-8c1c-49fb-ae2c-5d2d5d112f27');\n",
       "          const dataTable =\n",
       "            await google.colab.kernel.invokeFunction('convertToInteractive',\n",
       "                                                     [key], {});\n",
       "          if (!dataTable) return;\n",
       "\n",
       "          const docLinkHtml = 'Like what you see? Visit the ' +\n",
       "            '<a target=\"_blank\" href=https://colab.research.google.com/notebooks/data_table.ipynb>data table notebook</a>'\n",
       "            + ' to learn more about interactive tables.';\n",
       "          element.innerHTML = '';\n",
       "          dataTable['output_type'] = 'display_data';\n",
       "          await google.colab.output.renderOutput(dataTable, element);\n",
       "          const docLink = document.createElement('div');\n",
       "          docLink.innerHTML = docLinkHtml;\n",
       "          element.appendChild(docLink);\n",
       "        }\n",
       "      </script>\n",
       "    </div>\n",
       "  </div>\n",
       "  "
      ],
      "text/plain": [
       "                            name_1                      name_2\n",
       "1                         Turkcell                    Turkcell\n",
       "4                       Coffee Cat                   Coffeecat\n",
       "37                      Kipa Extra                  Kipa Extra\n",
       "94                       Рубль бум                   Рубль Бум\n",
       "151                           LiHO                        LiHO\n",
       "...                            ...                         ...\n",
       "578607                        Cosi                        Cosi\n",
       "578614                         ПЭК                         ПЭК\n",
       "578773  The Coffee Bean & Tea Leaf  The Coffee Bean & Tea Leaf\n",
       "578894                    7-Eleven                    7-Eleven\n",
       "578895                   WESTLOTTO                   WESTLOTTO\n",
       "\n",
       "[13352 rows x 2 columns]"
      ]
     },
     "execution_count": 36,
     "metadata": {},
     "output_type": "execute_result"
    }
   ],
   "source": [
    "pairs.loc[(pairs.location_diff<0.01)&(pairs.name_diff==0)&(pairs.match==False)][['name_1','name_2']]"
   ]
  },
  {
   "cell_type": "code",
   "execution_count": null,
   "metadata": {
    "colab": {
     "base_uri": "https://localhost:8080/",
     "height": 438
    },
    "id": "pCUkjnTx20-a",
    "outputId": "e1163ff9-4324-4780-b23f-92d0d283dedc"
   },
   "outputs": [
    {
     "data": {
      "text/html": [
       "\n",
       "  <div id=\"df-e628b1b9-b338-4c60-ba8c-c53f12e21be3\">\n",
       "    <div class=\"colab-df-container\">\n",
       "      <div>\n",
       "<style scoped>\n",
       "    .dataframe tbody tr th:only-of-type {\n",
       "        vertical-align: middle;\n",
       "    }\n",
       "\n",
       "    .dataframe tbody tr th {\n",
       "        vertical-align: top;\n",
       "    }\n",
       "\n",
       "    .dataframe thead th {\n",
       "        text-align: right;\n",
       "    }\n",
       "</style>\n",
       "<table border=\"1\" class=\"dataframe\">\n",
       "  <thead>\n",
       "    <tr style=\"text-align: right;\">\n",
       "      <th></th>\n",
       "      <th>id_1</th>\n",
       "      <th>name_1</th>\n",
       "      <th>latitude_1</th>\n",
       "      <th>longitude_1</th>\n",
       "      <th>address_1</th>\n",
       "      <th>city_1</th>\n",
       "      <th>state_1</th>\n",
       "      <th>zip_1</th>\n",
       "      <th>country_1</th>\n",
       "      <th>url_1</th>\n",
       "      <th>...</th>\n",
       "      <th>state_2</th>\n",
       "      <th>zip_2</th>\n",
       "      <th>country_2</th>\n",
       "      <th>url_2</th>\n",
       "      <th>phone_2</th>\n",
       "      <th>categories_2</th>\n",
       "      <th>match</th>\n",
       "      <th>location_diff</th>\n",
       "      <th>address_diff</th>\n",
       "      <th>name_diff</th>\n",
       "    </tr>\n",
       "  </thead>\n",
       "  <tbody>\n",
       "    <tr>\n",
       "      <th>1</th>\n",
       "      <td>E_000008a8ba4f48</td>\n",
       "      <td>Turkcell</td>\n",
       "      <td>37.844510</td>\n",
       "      <td>27.844202</td>\n",
       "      <td>Adnan Menderes Bulvarı</td>\n",
       "      <td>NaN</td>\n",
       "      <td>NaN</td>\n",
       "      <td>NaN</td>\n",
       "      <td>TR</td>\n",
       "      <td>NaN</td>\n",
       "      <td>...</td>\n",
       "      <td>NaN</td>\n",
       "      <td>67500</td>\n",
       "      <td>TR</td>\n",
       "      <td>NaN</td>\n",
       "      <td>NaN</td>\n",
       "      <td>Electronics Stores</td>\n",
       "      <td>False</td>\n",
       "      <td>0.006490</td>\n",
       "      <td>0.793103</td>\n",
       "      <td>0.000000</td>\n",
       "    </tr>\n",
       "    <tr>\n",
       "      <th>43268</th>\n",
       "      <td>E_13399d0868886d</td>\n",
       "      <td>Turkcell</td>\n",
       "      <td>38.455899</td>\n",
       "      <td>27.118820</td>\n",
       "      <td>NaN</td>\n",
       "      <td>NaN</td>\n",
       "      <td>NaN</td>\n",
       "      <td>NaN</td>\n",
       "      <td>TR</td>\n",
       "      <td>NaN</td>\n",
       "      <td>...</td>\n",
       "      <td>Karşıyaka</td>\n",
       "      <td>NaN</td>\n",
       "      <td>TR</td>\n",
       "      <td>NaN</td>\n",
       "      <td>NaN</td>\n",
       "      <td>Distribution Centers</td>\n",
       "      <td>False</td>\n",
       "      <td>0.003390</td>\n",
       "      <td>-1.000000</td>\n",
       "      <td>0.000000</td>\n",
       "    </tr>\n",
       "    <tr>\n",
       "      <th>263706</th>\n",
       "      <td>E_744ad2ebec744d</td>\n",
       "      <td>Turkcell</td>\n",
       "      <td>40.983061</td>\n",
       "      <td>29.132542</td>\n",
       "      <td>Küçükbakkalköy Mah. Dudullu Cad. No:23-25</td>\n",
       "      <td>Ataşehir</td>\n",
       "      <td>Atasehir</td>\n",
       "      <td>34750</td>\n",
       "      <td>TR</td>\n",
       "      <td>NaN</td>\n",
       "      <td>...</td>\n",
       "      <td>NaN</td>\n",
       "      <td>NaN</td>\n",
       "      <td>TR</td>\n",
       "      <td>NaN</td>\n",
       "      <td>NaN</td>\n",
       "      <td>Mobile Phone Shops</td>\n",
       "      <td>True</td>\n",
       "      <td>0.001002</td>\n",
       "      <td>-1.000000</td>\n",
       "      <td>0.407407</td>\n",
       "    </tr>\n",
       "    <tr>\n",
       "      <th>305574</th>\n",
       "      <td>E_86e160273c83bb</td>\n",
       "      <td>Turkcell</td>\n",
       "      <td>38.723480</td>\n",
       "      <td>35.496717</td>\n",
       "      <td>Hunat Mah. Sivas Cad. No:24/1</td>\n",
       "      <td>Melikgazi</td>\n",
       "      <td>Kayseri</td>\n",
       "      <td>38140</td>\n",
       "      <td>TR</td>\n",
       "      <td>http://www.turkcell.com.tr</td>\n",
       "      <td>...</td>\n",
       "      <td>NaN</td>\n",
       "      <td>NaN</td>\n",
       "      <td>TR</td>\n",
       "      <td>NaN</td>\n",
       "      <td>NaN</td>\n",
       "      <td>Electronics Stores</td>\n",
       "      <td>True</td>\n",
       "      <td>0.000082</td>\n",
       "      <td>-1.000000</td>\n",
       "      <td>0.238095</td>\n",
       "    </tr>\n",
       "    <tr>\n",
       "      <th>385307</th>\n",
       "      <td>E_aa2cc5e2aa773e</td>\n",
       "      <td>Turkcell</td>\n",
       "      <td>36.863923</td>\n",
       "      <td>30.728908</td>\n",
       "      <td>NaN</td>\n",
       "      <td>NaN</td>\n",
       "      <td>NaN</td>\n",
       "      <td>NaN</td>\n",
       "      <td>TR</td>\n",
       "      <td>NaN</td>\n",
       "      <td>...</td>\n",
       "      <td>NaN</td>\n",
       "      <td>NaN</td>\n",
       "      <td>TR</td>\n",
       "      <td>NaN</td>\n",
       "      <td>NaN</td>\n",
       "      <td>Mobile Phone Shops</td>\n",
       "      <td>True</td>\n",
       "      <td>0.000477</td>\n",
       "      <td>-1.000000</td>\n",
       "      <td>0.000000</td>\n",
       "    </tr>\n",
       "  </tbody>\n",
       "</table>\n",
       "<p>5 rows × 28 columns</p>\n",
       "</div>\n",
       "      <button class=\"colab-df-convert\" onclick=\"convertToInteractive('df-e628b1b9-b338-4c60-ba8c-c53f12e21be3')\"\n",
       "              title=\"Convert this dataframe to an interactive table.\"\n",
       "              style=\"display:none;\">\n",
       "        \n",
       "  <svg xmlns=\"http://www.w3.org/2000/svg\" height=\"24px\"viewBox=\"0 0 24 24\"\n",
       "       width=\"24px\">\n",
       "    <path d=\"M0 0h24v24H0V0z\" fill=\"none\"/>\n",
       "    <path d=\"M18.56 5.44l.94 2.06.94-2.06 2.06-.94-2.06-.94-.94-2.06-.94 2.06-2.06.94zm-11 1L8.5 8.5l.94-2.06 2.06-.94-2.06-.94L8.5 2.5l-.94 2.06-2.06.94zm10 10l.94 2.06.94-2.06 2.06-.94-2.06-.94-.94-2.06-.94 2.06-2.06.94z\"/><path d=\"M17.41 7.96l-1.37-1.37c-.4-.4-.92-.59-1.43-.59-.52 0-1.04.2-1.43.59L10.3 9.45l-7.72 7.72c-.78.78-.78 2.05 0 2.83L4 21.41c.39.39.9.59 1.41.59.51 0 1.02-.2 1.41-.59l7.78-7.78 2.81-2.81c.8-.78.8-2.07 0-2.86zM5.41 20L4 18.59l7.72-7.72 1.47 1.35L5.41 20z\"/>\n",
       "  </svg>\n",
       "      </button>\n",
       "      \n",
       "  <style>\n",
       "    .colab-df-container {\n",
       "      display:flex;\n",
       "      flex-wrap:wrap;\n",
       "      gap: 12px;\n",
       "    }\n",
       "\n",
       "    .colab-df-convert {\n",
       "      background-color: #E8F0FE;\n",
       "      border: none;\n",
       "      border-radius: 50%;\n",
       "      cursor: pointer;\n",
       "      display: none;\n",
       "      fill: #1967D2;\n",
       "      height: 32px;\n",
       "      padding: 0 0 0 0;\n",
       "      width: 32px;\n",
       "    }\n",
       "\n",
       "    .colab-df-convert:hover {\n",
       "      background-color: #E2EBFA;\n",
       "      box-shadow: 0px 1px 2px rgba(60, 64, 67, 0.3), 0px 1px 3px 1px rgba(60, 64, 67, 0.15);\n",
       "      fill: #174EA6;\n",
       "    }\n",
       "\n",
       "    [theme=dark] .colab-df-convert {\n",
       "      background-color: #3B4455;\n",
       "      fill: #D2E3FC;\n",
       "    }\n",
       "\n",
       "    [theme=dark] .colab-df-convert:hover {\n",
       "      background-color: #434B5C;\n",
       "      box-shadow: 0px 1px 3px 1px rgba(0, 0, 0, 0.15);\n",
       "      filter: drop-shadow(0px 1px 2px rgba(0, 0, 0, 0.3));\n",
       "      fill: #FFFFFF;\n",
       "    }\n",
       "  </style>\n",
       "\n",
       "      <script>\n",
       "        const buttonEl =\n",
       "          document.querySelector('#df-e628b1b9-b338-4c60-ba8c-c53f12e21be3 button.colab-df-convert');\n",
       "        buttonEl.style.display =\n",
       "          google.colab.kernel.accessAllowed ? 'block' : 'none';\n",
       "\n",
       "        async function convertToInteractive(key) {\n",
       "          const element = document.querySelector('#df-e628b1b9-b338-4c60-ba8c-c53f12e21be3');\n",
       "          const dataTable =\n",
       "            await google.colab.kernel.invokeFunction('convertToInteractive',\n",
       "                                                     [key], {});\n",
       "          if (!dataTable) return;\n",
       "\n",
       "          const docLinkHtml = 'Like what you see? Visit the ' +\n",
       "            '<a target=\"_blank\" href=https://colab.research.google.com/notebooks/data_table.ipynb>data table notebook</a>'\n",
       "            + ' to learn more about interactive tables.';\n",
       "          element.innerHTML = '';\n",
       "          dataTable['output_type'] = 'display_data';\n",
       "          await google.colab.output.renderOutput(dataTable, element);\n",
       "          const docLink = document.createElement('div');\n",
       "          docLink.innerHTML = docLinkHtml;\n",
       "          element.appendChild(docLink);\n",
       "        }\n",
       "      </script>\n",
       "    </div>\n",
       "  </div>\n",
       "  "
      ],
      "text/plain": [
       "                    id_1    name_1  latitude_1  longitude_1  \\\n",
       "1       E_000008a8ba4f48  Turkcell   37.844510    27.844202   \n",
       "43268   E_13399d0868886d  Turkcell   38.455899    27.118820   \n",
       "263706  E_744ad2ebec744d  Turkcell   40.983061    29.132542   \n",
       "305574  E_86e160273c83bb  Turkcell   38.723480    35.496717   \n",
       "385307  E_aa2cc5e2aa773e  Turkcell   36.863923    30.728908   \n",
       "\n",
       "                                        address_1     city_1   state_1  zip_1  \\\n",
       "1                          Adnan Menderes Bulvarı        NaN       NaN    NaN   \n",
       "43268                                         NaN        NaN       NaN    NaN   \n",
       "263706  Küçükbakkalköy Mah. Dudullu Cad. No:23-25   Ataşehir  Atasehir  34750   \n",
       "305574              Hunat Mah. Sivas Cad. No:24/1  Melikgazi   Kayseri  38140   \n",
       "385307                                        NaN        NaN       NaN    NaN   \n",
       "\n",
       "       country_1                       url_1  ...    state_2  zip_2 country_2  \\\n",
       "1             TR                         NaN  ...        NaN  67500        TR   \n",
       "43268         TR                         NaN  ...  Karşıyaka    NaN        TR   \n",
       "263706        TR                         NaN  ...        NaN    NaN        TR   \n",
       "305574        TR  http://www.turkcell.com.tr  ...        NaN    NaN        TR   \n",
       "385307        TR                         NaN  ...        NaN    NaN        TR   \n",
       "\n",
       "       url_2  phone_2          categories_2  match location_diff address_diff  \\\n",
       "1        NaN      NaN    Electronics Stores  False      0.006490     0.793103   \n",
       "43268    NaN      NaN  Distribution Centers  False      0.003390    -1.000000   \n",
       "263706   NaN      NaN    Mobile Phone Shops   True      0.001002    -1.000000   \n",
       "305574   NaN      NaN    Electronics Stores   True      0.000082    -1.000000   \n",
       "385307   NaN      NaN    Mobile Phone Shops   True      0.000477    -1.000000   \n",
       "\n",
       "       name_diff  \n",
       "1       0.000000  \n",
       "43268   0.000000  \n",
       "263706  0.407407  \n",
       "305574  0.238095  \n",
       "385307  0.000000  \n",
       "\n",
       "[5 rows x 28 columns]"
      ]
     },
     "execution_count": 37,
     "metadata": {},
     "output_type": "execute_result"
    }
   ],
   "source": [
    "pairs.loc[pairs.name_1=='Turkcell']"
   ]
  },
  {
   "cell_type": "markdown",
   "metadata": {
    "id": "TNLatSS55NQ-"
   },
   "source": [
    "### Address"
   ]
  },
  {
   "cell_type": "code",
   "execution_count": null,
   "metadata": {
    "id": "DT6QUtHb3Btp"
   },
   "outputs": [],
   "source": [
    "pairs['address_diff'] = pairs.apply(sim_metric,\n",
    "                          args=('address_1', 'address_2'),\n",
    "                          axis=1)"
   ]
  },
  {
   "cell_type": "code",
   "execution_count": null,
   "metadata": {
    "colab": {
     "base_uri": "https://localhost:8080/",
     "height": 279
    },
    "id": "gEyh32Hy5G3j",
    "outputId": "381330d7-df63-40c3-85e1-8a1ea9921ed4"
   },
   "outputs": [
    {
     "data": {
      "image/png": "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\n",
      "text/plain": [
       "<Figure size 432x288 with 1 Axes>"
      ]
     },
     "metadata": {
      "needs_background": "light"
     },
     "output_type": "display_data"
    }
   ],
   "source": [
    "sns.stripplot(x=\"match\", y=\"address_diff\", data=pairs.loc[pairs.country_1=='NZ'])\n",
    "plt.show()"
   ]
  },
  {
   "cell_type": "code",
   "execution_count": null,
   "metadata": {
    "colab": {
     "base_uri": "https://localhost:8080/",
     "height": 279
    },
    "id": "61qiJkbJ5VQT",
    "outputId": "93eb3143-b77d-436b-bf10-f563a6ecec95"
   },
   "outputs": [
    {
     "data": {
      "image/png": "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\n",
      "text/plain": [
       "<Figure size 432x288 with 1 Axes>"
      ]
     },
     "metadata": {
      "needs_background": "light"
     },
     "output_type": "display_data"
    }
   ],
   "source": [
    "sns.stripplot(x=\"match\", y=\"address_diff\", data=pairs.loc[(pairs.country_1=='NZ')&(pairs.address_diff>=0)])\n",
    "plt.show()"
   ]
  },
  {
   "cell_type": "code",
   "execution_count": null,
   "metadata": {
    "colab": {
     "base_uri": "https://localhost:8080/",
     "height": 424
    },
    "id": "kBll3hel5SvN",
    "outputId": "86aabb01-04eb-4138-fc7e-37f011fbae12"
   },
   "outputs": [
    {
     "data": {
      "text/html": [
       "\n",
       "  <div id=\"df-1b3e593c-bdd7-4cad-b374-01ec5acaf4bf\">\n",
       "    <div class=\"colab-df-container\">\n",
       "      <div>\n",
       "<style scoped>\n",
       "    .dataframe tbody tr th:only-of-type {\n",
       "        vertical-align: middle;\n",
       "    }\n",
       "\n",
       "    .dataframe tbody tr th {\n",
       "        vertical-align: top;\n",
       "    }\n",
       "\n",
       "    .dataframe thead th {\n",
       "        text-align: right;\n",
       "    }\n",
       "</style>\n",
       "<table border=\"1\" class=\"dataframe\">\n",
       "  <thead>\n",
       "    <tr style=\"text-align: right;\">\n",
       "      <th></th>\n",
       "      <th>name_1</th>\n",
       "      <th>name_2</th>\n",
       "      <th>address_1</th>\n",
       "      <th>address_2</th>\n",
       "    </tr>\n",
       "  </thead>\n",
       "  <tbody>\n",
       "    <tr>\n",
       "      <th>532</th>\n",
       "      <td>Parkview High School Building H</td>\n",
       "      <td>Parkview High School Building C</td>\n",
       "      <td>998 Cole Dr, Lilburn, GA 30047</td>\n",
       "      <td>998 Cole Dr, Lilburn, GA 30047</td>\n",
       "    </tr>\n",
       "    <tr>\n",
       "      <th>2526</th>\n",
       "      <td>Sprague Lake Rest Area (Westbound)</td>\n",
       "      <td>Sprague Lake Rest Area (Eastbound)</td>\n",
       "      <td>Interstate 90</td>\n",
       "      <td>Interstate 90</td>\n",
       "    </tr>\n",
       "    <tr>\n",
       "      <th>5315</th>\n",
       "      <td>Section 304</td>\n",
       "      <td>Section 305</td>\n",
       "      <td>KeyBank Center</td>\n",
       "      <td>KeyBank Center</td>\n",
       "    </tr>\n",
       "    <tr>\n",
       "      <th>5316</th>\n",
       "      <td>Section 304</td>\n",
       "      <td>Section 308</td>\n",
       "      <td>KeyBank Center</td>\n",
       "      <td>KeyBank Center</td>\n",
       "    </tr>\n",
       "    <tr>\n",
       "      <th>6259</th>\n",
       "      <td>Facebook 1050 Building 2</td>\n",
       "      <td>Facebook 1050 Building 1</td>\n",
       "      <td>1050 Page Mill Rd</td>\n",
       "      <td>1050 Page Mill Rd</td>\n",
       "    </tr>\n",
       "    <tr>\n",
       "      <th>...</th>\n",
       "      <td>...</td>\n",
       "      <td>...</td>\n",
       "      <td>...</td>\n",
       "      <td>...</td>\n",
       "    </tr>\n",
       "    <tr>\n",
       "      <th>571522</th>\n",
       "      <td>Conference Room HS 2007</td>\n",
       "      <td>Conference Room HS 2038</td>\n",
       "      <td>Health Information and Translational Science (HS)</td>\n",
       "      <td>Health Information and Translational Science (HS)</td>\n",
       "    </tr>\n",
       "    <tr>\n",
       "      <th>572791</th>\n",
       "      <td>Mann Center for the Performing Arts</td>\n",
       "      <td>Mann Center for the Performing Arts D Gate</td>\n",
       "      <td>5201 Parkside Ave</td>\n",
       "      <td>5201 Parkside Ave</td>\n",
       "    </tr>\n",
       "    <tr>\n",
       "      <th>575350</th>\n",
       "      <td>Pozez Education Center Centennial D</td>\n",
       "      <td>Pozez Education Center Centennial A</td>\n",
       "      <td>1505 SW 8th Ave</td>\n",
       "      <td>1505 SW 8th Ave</td>\n",
       "    </tr>\n",
       "    <tr>\n",
       "      <th>576064</th>\n",
       "      <td>UCF Business Administration II (BA2)</td>\n",
       "      <td>UCF Business Administration I (BA1)</td>\n",
       "      <td>4000 Central Florida Blvd</td>\n",
       "      <td>4000 Central Florida Blvd</td>\n",
       "    </tr>\n",
       "    <tr>\n",
       "      <th>578153</th>\n",
       "      <td>Gym @ Spinnaker Bay Apartments</td>\n",
       "      <td>Spinnaker Bay Apartments</td>\n",
       "      <td>707 President St</td>\n",
       "      <td>707 President St</td>\n",
       "    </tr>\n",
       "  </tbody>\n",
       "</table>\n",
       "<p>375 rows × 4 columns</p>\n",
       "</div>\n",
       "      <button class=\"colab-df-convert\" onclick=\"convertToInteractive('df-1b3e593c-bdd7-4cad-b374-01ec5acaf4bf')\"\n",
       "              title=\"Convert this dataframe to an interactive table.\"\n",
       "              style=\"display:none;\">\n",
       "        \n",
       "  <svg xmlns=\"http://www.w3.org/2000/svg\" height=\"24px\"viewBox=\"0 0 24 24\"\n",
       "       width=\"24px\">\n",
       "    <path d=\"M0 0h24v24H0V0z\" fill=\"none\"/>\n",
       "    <path d=\"M18.56 5.44l.94 2.06.94-2.06 2.06-.94-2.06-.94-.94-2.06-.94 2.06-2.06.94zm-11 1L8.5 8.5l.94-2.06 2.06-.94-2.06-.94L8.5 2.5l-.94 2.06-2.06.94zm10 10l.94 2.06.94-2.06 2.06-.94-2.06-.94-.94-2.06-.94 2.06-2.06.94z\"/><path d=\"M17.41 7.96l-1.37-1.37c-.4-.4-.92-.59-1.43-.59-.52 0-1.04.2-1.43.59L10.3 9.45l-7.72 7.72c-.78.78-.78 2.05 0 2.83L4 21.41c.39.39.9.59 1.41.59.51 0 1.02-.2 1.41-.59l7.78-7.78 2.81-2.81c.8-.78.8-2.07 0-2.86zM5.41 20L4 18.59l7.72-7.72 1.47 1.35L5.41 20z\"/>\n",
       "  </svg>\n",
       "      </button>\n",
       "      \n",
       "  <style>\n",
       "    .colab-df-container {\n",
       "      display:flex;\n",
       "      flex-wrap:wrap;\n",
       "      gap: 12px;\n",
       "    }\n",
       "\n",
       "    .colab-df-convert {\n",
       "      background-color: #E8F0FE;\n",
       "      border: none;\n",
       "      border-radius: 50%;\n",
       "      cursor: pointer;\n",
       "      display: none;\n",
       "      fill: #1967D2;\n",
       "      height: 32px;\n",
       "      padding: 0 0 0 0;\n",
       "      width: 32px;\n",
       "    }\n",
       "\n",
       "    .colab-df-convert:hover {\n",
       "      background-color: #E2EBFA;\n",
       "      box-shadow: 0px 1px 2px rgba(60, 64, 67, 0.3), 0px 1px 3px 1px rgba(60, 64, 67, 0.15);\n",
       "      fill: #174EA6;\n",
       "    }\n",
       "\n",
       "    [theme=dark] .colab-df-convert {\n",
       "      background-color: #3B4455;\n",
       "      fill: #D2E3FC;\n",
       "    }\n",
       "\n",
       "    [theme=dark] .colab-df-convert:hover {\n",
       "      background-color: #434B5C;\n",
       "      box-shadow: 0px 1px 3px 1px rgba(0, 0, 0, 0.15);\n",
       "      filter: drop-shadow(0px 1px 2px rgba(0, 0, 0, 0.3));\n",
       "      fill: #FFFFFF;\n",
       "    }\n",
       "  </style>\n",
       "\n",
       "      <script>\n",
       "        const buttonEl =\n",
       "          document.querySelector('#df-1b3e593c-bdd7-4cad-b374-01ec5acaf4bf button.colab-df-convert');\n",
       "        buttonEl.style.display =\n",
       "          google.colab.kernel.accessAllowed ? 'block' : 'none';\n",
       "\n",
       "        async function convertToInteractive(key) {\n",
       "          const element = document.querySelector('#df-1b3e593c-bdd7-4cad-b374-01ec5acaf4bf');\n",
       "          const dataTable =\n",
       "            await google.colab.kernel.invokeFunction('convertToInteractive',\n",
       "                                                     [key], {});\n",
       "          if (!dataTable) return;\n",
       "\n",
       "          const docLinkHtml = 'Like what you see? Visit the ' +\n",
       "            '<a target=\"_blank\" href=https://colab.research.google.com/notebooks/data_table.ipynb>data table notebook</a>'\n",
       "            + ' to learn more about interactive tables.';\n",
       "          element.innerHTML = '';\n",
       "          dataTable['output_type'] = 'display_data';\n",
       "          await google.colab.output.renderOutput(dataTable, element);\n",
       "          const docLink = document.createElement('div');\n",
       "          docLink.innerHTML = docLinkHtml;\n",
       "          element.appendChild(docLink);\n",
       "        }\n",
       "      </script>\n",
       "    </div>\n",
       "  </div>\n",
       "  "
      ],
      "text/plain": [
       "                                      name_1  \\\n",
       "532          Parkview High School Building H   \n",
       "2526      Sprague Lake Rest Area (Westbound)   \n",
       "5315                             Section 304   \n",
       "5316                             Section 304   \n",
       "6259                Facebook 1050 Building 2   \n",
       "...                                      ...   \n",
       "571522               Conference Room HS 2007   \n",
       "572791   Mann Center for the Performing Arts   \n",
       "575350   Pozez Education Center Centennial D   \n",
       "576064  UCF Business Administration II (BA2)   \n",
       "578153        Gym @ Spinnaker Bay Apartments   \n",
       "\n",
       "                                            name_2  \\\n",
       "532                Parkview High School Building C   \n",
       "2526            Sprague Lake Rest Area (Eastbound)   \n",
       "5315                                   Section 305   \n",
       "5316                                   Section 308   \n",
       "6259                      Facebook 1050 Building 1   \n",
       "...                                            ...   \n",
       "571522                     Conference Room HS 2038   \n",
       "572791  Mann Center for the Performing Arts D Gate   \n",
       "575350         Pozez Education Center Centennial A   \n",
       "576064         UCF Business Administration I (BA1)   \n",
       "578153                    Spinnaker Bay Apartments   \n",
       "\n",
       "                                                address_1  \\\n",
       "532                        998 Cole Dr, Lilburn, GA 30047   \n",
       "2526                                        Interstate 90   \n",
       "5315                                       KeyBank Center   \n",
       "5316                                       KeyBank Center   \n",
       "6259                                    1050 Page Mill Rd   \n",
       "...                                                   ...   \n",
       "571522  Health Information and Translational Science (HS)   \n",
       "572791                                  5201 Parkside Ave   \n",
       "575350                                    1505 SW 8th Ave   \n",
       "576064                          4000 Central Florida Blvd   \n",
       "578153                                   707 President St   \n",
       "\n",
       "                                                address_2  \n",
       "532                        998 Cole Dr, Lilburn, GA 30047  \n",
       "2526                                        Interstate 90  \n",
       "5315                                       KeyBank Center  \n",
       "5316                                       KeyBank Center  \n",
       "6259                                    1050 Page Mill Rd  \n",
       "...                                                   ...  \n",
       "571522  Health Information and Translational Science (HS)  \n",
       "572791                                  5201 Parkside Ave  \n",
       "575350                                    1505 SW 8th Ave  \n",
       "576064                          4000 Central Florida Blvd  \n",
       "578153                                   707 President St  \n",
       "\n",
       "[375 rows x 4 columns]"
      ]
     },
     "execution_count": 45,
     "metadata": {},
     "output_type": "execute_result"
    }
   ],
   "source": [
    "pairs.loc[(pairs.location_diff<0.01)&(pairs.name_diff<0.1)&(pairs.address_diff==0)&(pairs.match==False)&(pairs.country_1=='US')][['name_1','name_2','address_1','address_2']]"
   ]
  },
  {
   "cell_type": "code",
   "execution_count": null,
   "metadata": {
    "colab": {
     "base_uri": "https://localhost:8080/"
    },
    "id": "eOBs8T7OK0JY",
    "outputId": "20f4eea6-5901-45d8-fe9e-a41531c34bb7"
   },
   "outputs": [
    {
     "data": {
      "text/plain": [
       "True     398786\n",
       "False    180121\n",
       "Name: match, dtype: int64"
      ]
     },
     "execution_count": 46,
     "metadata": {},
     "output_type": "execute_result"
    }
   ],
   "source": [
    "pairs.match.value_counts()"
   ]
  },
  {
   "cell_type": "code",
   "execution_count": null,
   "metadata": {
    "colab": {
     "base_uri": "https://localhost:8080/"
    },
    "id": "mzuSWES4KJHt",
    "outputId": "01ccffe2-217d-4fbc-bcaf-b6e7d5657858"
   },
   "outputs": [
    {
     "data": {
      "text/plain": [
       "True     394720\n",
       "False    179720\n",
       "Name: match, dtype: int64"
      ]
     },
     "execution_count": 47,
     "metadata": {},
     "output_type": "execute_result"
    }
   ],
   "source": [
    "pairs.loc[pairs.location_diff<1].match.value_counts()"
   ]
  },
  {
   "cell_type": "markdown",
   "metadata": {
    "id": "6pbFEc26581Z"
   },
   "source": [
    "### City"
   ]
  },
  {
   "cell_type": "code",
   "execution_count": null,
   "metadata": {
    "id": "-Grf2BqZ6D6U"
   },
   "outputs": [],
   "source": [
    "pairs['city_diff'] = pairs.apply(sim_metric,\n",
    "                          args=('city_1', 'city_2'),\n",
    "                          axis=1)"
   ]
  },
  {
   "cell_type": "code",
   "execution_count": null,
   "metadata": {
    "colab": {
     "base_uri": "https://localhost:8080/",
     "height": 279
    },
    "id": "gsSp-XK26qtH",
    "outputId": "01e3e423-14bc-4525-888d-50d213306c6d"
   },
   "outputs": [
    {
     "data": {
      "image/png": "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\n",
      "text/plain": [
       "<Figure size 432x288 with 1 Axes>"
      ]
     },
     "metadata": {
      "needs_background": "light"
     },
     "output_type": "display_data"
    }
   ],
   "source": [
    "sns.stripplot(x=\"match\", y=\"city_diff\", data=pairs.loc[(pairs.country_1=='NZ')&(pairs.city_diff>=0)])\n",
    "plt.show()"
   ]
  },
  {
   "cell_type": "code",
   "execution_count": null,
   "metadata": {
    "colab": {
     "base_uri": "https://localhost:8080/",
     "height": 424
    },
    "id": "SJmcI4MA7Sr_",
    "outputId": "34beafa5-7548-4803-947f-75853f9591e0"
   },
   "outputs": [
    {
     "data": {
      "text/html": [
       "\n",
       "  <div id=\"df-dcdd6879-73ec-46e3-99e0-1bc46868ac64\">\n",
       "    <div class=\"colab-df-container\">\n",
       "      <div>\n",
       "<style scoped>\n",
       "    .dataframe tbody tr th:only-of-type {\n",
       "        vertical-align: middle;\n",
       "    }\n",
       "\n",
       "    .dataframe tbody tr th {\n",
       "        vertical-align: top;\n",
       "    }\n",
       "\n",
       "    .dataframe thead th {\n",
       "        text-align: right;\n",
       "    }\n",
       "</style>\n",
       "<table border=\"1\" class=\"dataframe\">\n",
       "  <thead>\n",
       "    <tr style=\"text-align: right;\">\n",
       "      <th></th>\n",
       "      <th>name_1</th>\n",
       "      <th>name_2</th>\n",
       "      <th>address_1</th>\n",
       "      <th>address_2</th>\n",
       "    </tr>\n",
       "  </thead>\n",
       "  <tbody>\n",
       "    <tr>\n",
       "      <th>532</th>\n",
       "      <td>Parkview High School Building H</td>\n",
       "      <td>Parkview High School Building C</td>\n",
       "      <td>998 Cole Dr, Lilburn, GA 30047</td>\n",
       "      <td>998 Cole Dr, Lilburn, GA 30047</td>\n",
       "    </tr>\n",
       "    <tr>\n",
       "      <th>2526</th>\n",
       "      <td>Sprague Lake Rest Area (Westbound)</td>\n",
       "      <td>Sprague Lake Rest Area (Eastbound)</td>\n",
       "      <td>Interstate 90</td>\n",
       "      <td>Interstate 90</td>\n",
       "    </tr>\n",
       "    <tr>\n",
       "      <th>5315</th>\n",
       "      <td>Section 304</td>\n",
       "      <td>Section 305</td>\n",
       "      <td>KeyBank Center</td>\n",
       "      <td>KeyBank Center</td>\n",
       "    </tr>\n",
       "    <tr>\n",
       "      <th>5316</th>\n",
       "      <td>Section 304</td>\n",
       "      <td>Section 308</td>\n",
       "      <td>KeyBank Center</td>\n",
       "      <td>KeyBank Center</td>\n",
       "    </tr>\n",
       "    <tr>\n",
       "      <th>6259</th>\n",
       "      <td>Facebook 1050 Building 2</td>\n",
       "      <td>Facebook 1050 Building 1</td>\n",
       "      <td>1050 Page Mill Rd</td>\n",
       "      <td>1050 Page Mill Rd</td>\n",
       "    </tr>\n",
       "    <tr>\n",
       "      <th>...</th>\n",
       "      <td>...</td>\n",
       "      <td>...</td>\n",
       "      <td>...</td>\n",
       "      <td>...</td>\n",
       "    </tr>\n",
       "    <tr>\n",
       "      <th>571522</th>\n",
       "      <td>Conference Room HS 2007</td>\n",
       "      <td>Conference Room HS 2038</td>\n",
       "      <td>Health Information and Translational Science (HS)</td>\n",
       "      <td>Health Information and Translational Science (HS)</td>\n",
       "    </tr>\n",
       "    <tr>\n",
       "      <th>572791</th>\n",
       "      <td>Mann Center for the Performing Arts</td>\n",
       "      <td>Mann Center for the Performing Arts D Gate</td>\n",
       "      <td>5201 Parkside Ave</td>\n",
       "      <td>5201 Parkside Ave</td>\n",
       "    </tr>\n",
       "    <tr>\n",
       "      <th>575350</th>\n",
       "      <td>Pozez Education Center Centennial D</td>\n",
       "      <td>Pozez Education Center Centennial A</td>\n",
       "      <td>1505 SW 8th Ave</td>\n",
       "      <td>1505 SW 8th Ave</td>\n",
       "    </tr>\n",
       "    <tr>\n",
       "      <th>576064</th>\n",
       "      <td>UCF Business Administration II (BA2)</td>\n",
       "      <td>UCF Business Administration I (BA1)</td>\n",
       "      <td>4000 Central Florida Blvd</td>\n",
       "      <td>4000 Central Florida Blvd</td>\n",
       "    </tr>\n",
       "    <tr>\n",
       "      <th>578153</th>\n",
       "      <td>Gym @ Spinnaker Bay Apartments</td>\n",
       "      <td>Spinnaker Bay Apartments</td>\n",
       "      <td>707 President St</td>\n",
       "      <td>707 President St</td>\n",
       "    </tr>\n",
       "  </tbody>\n",
       "</table>\n",
       "<p>353 rows × 4 columns</p>\n",
       "</div>\n",
       "      <button class=\"colab-df-convert\" onclick=\"convertToInteractive('df-dcdd6879-73ec-46e3-99e0-1bc46868ac64')\"\n",
       "              title=\"Convert this dataframe to an interactive table.\"\n",
       "              style=\"display:none;\">\n",
       "        \n",
       "  <svg xmlns=\"http://www.w3.org/2000/svg\" height=\"24px\"viewBox=\"0 0 24 24\"\n",
       "       width=\"24px\">\n",
       "    <path d=\"M0 0h24v24H0V0z\" fill=\"none\"/>\n",
       "    <path d=\"M18.56 5.44l.94 2.06.94-2.06 2.06-.94-2.06-.94-.94-2.06-.94 2.06-2.06.94zm-11 1L8.5 8.5l.94-2.06 2.06-.94-2.06-.94L8.5 2.5l-.94 2.06-2.06.94zm10 10l.94 2.06.94-2.06 2.06-.94-2.06-.94-.94-2.06-.94 2.06-2.06.94z\"/><path d=\"M17.41 7.96l-1.37-1.37c-.4-.4-.92-.59-1.43-.59-.52 0-1.04.2-1.43.59L10.3 9.45l-7.72 7.72c-.78.78-.78 2.05 0 2.83L4 21.41c.39.39.9.59 1.41.59.51 0 1.02-.2 1.41-.59l7.78-7.78 2.81-2.81c.8-.78.8-2.07 0-2.86zM5.41 20L4 18.59l7.72-7.72 1.47 1.35L5.41 20z\"/>\n",
       "  </svg>\n",
       "      </button>\n",
       "      \n",
       "  <style>\n",
       "    .colab-df-container {\n",
       "      display:flex;\n",
       "      flex-wrap:wrap;\n",
       "      gap: 12px;\n",
       "    }\n",
       "\n",
       "    .colab-df-convert {\n",
       "      background-color: #E8F0FE;\n",
       "      border: none;\n",
       "      border-radius: 50%;\n",
       "      cursor: pointer;\n",
       "      display: none;\n",
       "      fill: #1967D2;\n",
       "      height: 32px;\n",
       "      padding: 0 0 0 0;\n",
       "      width: 32px;\n",
       "    }\n",
       "\n",
       "    .colab-df-convert:hover {\n",
       "      background-color: #E2EBFA;\n",
       "      box-shadow: 0px 1px 2px rgba(60, 64, 67, 0.3), 0px 1px 3px 1px rgba(60, 64, 67, 0.15);\n",
       "      fill: #174EA6;\n",
       "    }\n",
       "\n",
       "    [theme=dark] .colab-df-convert {\n",
       "      background-color: #3B4455;\n",
       "      fill: #D2E3FC;\n",
       "    }\n",
       "\n",
       "    [theme=dark] .colab-df-convert:hover {\n",
       "      background-color: #434B5C;\n",
       "      box-shadow: 0px 1px 3px 1px rgba(0, 0, 0, 0.15);\n",
       "      filter: drop-shadow(0px 1px 2px rgba(0, 0, 0, 0.3));\n",
       "      fill: #FFFFFF;\n",
       "    }\n",
       "  </style>\n",
       "\n",
       "      <script>\n",
       "        const buttonEl =\n",
       "          document.querySelector('#df-dcdd6879-73ec-46e3-99e0-1bc46868ac64 button.colab-df-convert');\n",
       "        buttonEl.style.display =\n",
       "          google.colab.kernel.accessAllowed ? 'block' : 'none';\n",
       "\n",
       "        async function convertToInteractive(key) {\n",
       "          const element = document.querySelector('#df-dcdd6879-73ec-46e3-99e0-1bc46868ac64');\n",
       "          const dataTable =\n",
       "            await google.colab.kernel.invokeFunction('convertToInteractive',\n",
       "                                                     [key], {});\n",
       "          if (!dataTable) return;\n",
       "\n",
       "          const docLinkHtml = 'Like what you see? Visit the ' +\n",
       "            '<a target=\"_blank\" href=https://colab.research.google.com/notebooks/data_table.ipynb>data table notebook</a>'\n",
       "            + ' to learn more about interactive tables.';\n",
       "          element.innerHTML = '';\n",
       "          dataTable['output_type'] = 'display_data';\n",
       "          await google.colab.output.renderOutput(dataTable, element);\n",
       "          const docLink = document.createElement('div');\n",
       "          docLink.innerHTML = docLinkHtml;\n",
       "          element.appendChild(docLink);\n",
       "        }\n",
       "      </script>\n",
       "    </div>\n",
       "  </div>\n",
       "  "
      ],
      "text/plain": [
       "                                      name_1  \\\n",
       "532          Parkview High School Building H   \n",
       "2526      Sprague Lake Rest Area (Westbound)   \n",
       "5315                             Section 304   \n",
       "5316                             Section 304   \n",
       "6259                Facebook 1050 Building 2   \n",
       "...                                      ...   \n",
       "571522               Conference Room HS 2007   \n",
       "572791   Mann Center for the Performing Arts   \n",
       "575350   Pozez Education Center Centennial D   \n",
       "576064  UCF Business Administration II (BA2)   \n",
       "578153        Gym @ Spinnaker Bay Apartments   \n",
       "\n",
       "                                            name_2  \\\n",
       "532                Parkview High School Building C   \n",
       "2526            Sprague Lake Rest Area (Eastbound)   \n",
       "5315                                   Section 305   \n",
       "5316                                   Section 308   \n",
       "6259                      Facebook 1050 Building 1   \n",
       "...                                            ...   \n",
       "571522                     Conference Room HS 2038   \n",
       "572791  Mann Center for the Performing Arts D Gate   \n",
       "575350         Pozez Education Center Centennial A   \n",
       "576064         UCF Business Administration I (BA1)   \n",
       "578153                    Spinnaker Bay Apartments   \n",
       "\n",
       "                                                address_1  \\\n",
       "532                        998 Cole Dr, Lilburn, GA 30047   \n",
       "2526                                        Interstate 90   \n",
       "5315                                       KeyBank Center   \n",
       "5316                                       KeyBank Center   \n",
       "6259                                    1050 Page Mill Rd   \n",
       "...                                                   ...   \n",
       "571522  Health Information and Translational Science (HS)   \n",
       "572791                                  5201 Parkside Ave   \n",
       "575350                                    1505 SW 8th Ave   \n",
       "576064                          4000 Central Florida Blvd   \n",
       "578153                                   707 President St   \n",
       "\n",
       "                                                address_2  \n",
       "532                        998 Cole Dr, Lilburn, GA 30047  \n",
       "2526                                        Interstate 90  \n",
       "5315                                       KeyBank Center  \n",
       "5316                                       KeyBank Center  \n",
       "6259                                    1050 Page Mill Rd  \n",
       "...                                                   ...  \n",
       "571522  Health Information and Translational Science (HS)  \n",
       "572791                                  5201 Parkside Ave  \n",
       "575350                                    1505 SW 8th Ave  \n",
       "576064                          4000 Central Florida Blvd  \n",
       "578153                                   707 President St  \n",
       "\n",
       "[353 rows x 4 columns]"
      ]
     },
     "execution_count": 57,
     "metadata": {},
     "output_type": "execute_result"
    }
   ],
   "source": [
    "pairs.loc[(pairs.location_diff<0.01)&(pairs.name_diff<0.1)&(pairs.address_diff==0)&(pairs.city_diff==0)&(pairs.match==False)&(pairs.country_1=='US')][['name_1','name_2','address_1','address_2']]"
   ]
  },
  {
   "cell_type": "markdown",
   "metadata": {
    "id": "pl6JpKso6EOM"
   },
   "source": [
    "### State"
   ]
  },
  {
   "cell_type": "code",
   "execution_count": null,
   "metadata": {
    "id": "wu3jPxZx6GyC"
   },
   "outputs": [],
   "source": []
  },
  {
   "cell_type": "markdown",
   "metadata": {
    "id": "gWcwqa636I8-"
   },
   "source": [
    "### Zip\n",
    "\n",
    "\n",
    "---\n",
    "\n",
    "Zip codes are stored as strings in the orginal data."
   ]
  },
  {
   "cell_type": "code",
   "execution_count": null,
   "metadata": {
    "id": "Nevbkao86MW-"
   },
   "outputs": [],
   "source": [
    "pairs['zip_diff'] = pairs.apply(sim_metric,\n",
    "                          args=('zip_1', 'zip_2'),\n",
    "                          axis=1)"
   ]
  },
  {
   "cell_type": "markdown",
   "metadata": {
    "id": "KJ9Uw4Y26N0K"
   },
   "source": [
    "### Histogram"
   ]
  },
  {
   "cell_type": "code",
   "execution_count": null,
   "metadata": {
    "colab": {
     "base_uri": "https://localhost:8080/",
     "height": 1000
    },
    "id": "1QVl771m54fH",
    "outputId": "28064b1b-ca1c-4dd9-d7cb-6857d4ef1072"
   },
   "outputs": [
    {
     "data": {
      "image/png": "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\n",
      "text/plain": [
       "<Figure size 1008x288 with 1 Axes>"
=======
      "cell_type": "code",
      "source": [
        "len(set(train.id)-set(list(pairs.id_1)+list(pairs.id_2)))"
      ],
      "metadata": {
        "colab": {
          "base_uri": "https://localhost:8080/"
        },
        "id": "SOu_OVl2pOeg",
        "outputId": "14b83957-b229-4606-9236-86e1c7e84563"
      },
      "execution_count": 14,
      "outputs": [
        {
          "output_type": "execute_result",
          "data": {
            "text/plain": [
              "130151"
            ]
          },
          "metadata": {},
          "execution_count": 14
        }
      ]
    },
    {
      "cell_type": "markdown",
      "source": [
        "## Features\n",
        "\n",
        "---\n",
        "\n",
        "The features available in `test.csv` include \n",
        "\n",
        "```\n",
        "'name', 'latitude', 'longitude', 'address', 'city', 'state',\n",
        "       'zip', 'country', 'url', 'phone', 'categories'\n",
        "```\n"
      ],
      "metadata": {
        "id": "VCpYBKeqbby8"
      }
    },
    {
      "cell_type": "code",
      "source": [
        "from difflib import SequenceMatcher\n",
        "import math\n",
        "# Reference: https://stackoverflow.com/questions/43916271/python-pandas-sequencematch-columns-for-each-value-and-return-closet-match\n",
        "\n",
        "def sim_metric(df, col1, col2):\n",
        "    a = df[col1]\n",
        "    b = df[col2]\n",
        "    \n",
        "    if type(a)!=str or type(b)!=str:\n",
        "        return -1\n",
        "    else:\n",
        "        a = a.lower().replace(\" \", \"\").replace(\"'\", \"\")\n",
        "        b = b.lower().replace(\" \", \"\").replace(\"'\", \"\")\n",
        "    #if a in b or b in a: \n",
        "    #    return 0\n",
        "    return 1-SequenceMatcher(None, a, b).ratio()\n"
      ],
      "metadata": {
        "id": "xTKecP6ZuAYd"
      },
      "execution_count": 21,
      "outputs": []
    },
    {
      "cell_type": "code",
      "source": [
        "a ='ab'\n",
        "b = 'cd'\n",
        "count_matrix=coun_vect.fit_transform([a,b])\n",
        "\n",
        "count_matrix.toarray()[0]\n"
      ],
      "metadata": {
        "colab": {
          "base_uri": "https://localhost:8080/"
        },
        "id": "5IDy_fUPFap1",
        "outputId": "9c5e9609-3053-4dfe-dfc3-4463aa647fc0"
      },
      "execution_count": 71,
      "outputs": [
        {
          "output_type": "execute_result",
          "data": {
            "text/plain": [
              "array([1, 0])"
            ]
          },
          "metadata": {},
          "execution_count": 71
        }
      ]
    },
    {
      "cell_type": "code",
      "source": [
        "from sklearn.feature_extraction.text import CountVectorizer\n",
        "\n",
        "coun_vect=CountVectorizer()\n",
        "\n",
        "def countvec_metric(df, col1, col2):\n",
        "    a = df[col1]\n",
        "    b = df[col2]\n",
        "    if type(a)!=str or type(b)!=str:\n",
        "        return -1\n",
        "    else:\n",
        "        count_matrix=coun_vect.fit_transform([a,b])\n",
        "    return np.count_nonzero(count_matrix.toarray()[0]!=count_matrix.toarray()[1])/len(count_matrix.toarray()[0])"
      ],
      "metadata": {
        "id": "xkY0juSbCeCH"
      },
      "execution_count": 72,
      "outputs": []
    },
    {
      "cell_type": "code",
      "source": [
        "pairs['name_coun_vect_diff'] = pairs.apply(countvec_metric,\n",
        "                          args=('name_1', 'name_2'),\n",
        "                          axis=1)"
      ],
      "metadata": {
        "colab": {
          "base_uri": "https://localhost:8080/",
          "height": 360
        },
        "id": "zqNPtUrmD6HG",
        "outputId": "e15885e8-f1cd-48cd-bf7a-7bf8c2d72358"
      },
      "execution_count": 85,
      "outputs": [
        {
          "output_type": "error",
          "ename": "ValueError",
          "evalue": "ignored",
          "traceback": [
            "\u001b[0;31m---------------------------------------------------------------------------\u001b[0m",
            "\u001b[0;31mValueError\u001b[0m                                Traceback (most recent call last)",
            "\u001b[0;32m<ipython-input-85-b85b43c942bc>\u001b[0m in \u001b[0;36m<module>\u001b[0;34m()\u001b[0m\n\u001b[1;32m      1\u001b[0m pairs['name_coun_vect_diff'] = pairs.apply(countvec_metric,\n\u001b[1;32m      2\u001b[0m                           \u001b[0margs\u001b[0m\u001b[0;34m=\u001b[0m\u001b[0;34m(\u001b[0m\u001b[0;34m'name_1'\u001b[0m\u001b[0;34m,\u001b[0m \u001b[0;34m'name_2'\u001b[0m\u001b[0;34m)\u001b[0m\u001b[0;34m,\u001b[0m\u001b[0;34m\u001b[0m\u001b[0;34m\u001b[0m\u001b[0m\n\u001b[0;32m----> 3\u001b[0;31m                           axis=1)\n\u001b[0m",
            "\u001b[0;32m/usr/local/lib/python3.7/dist-packages/pandas/core/frame.py\u001b[0m in \u001b[0;36mapply\u001b[0;34m(self, func, axis, raw, result_type, args, **kwargs)\u001b[0m\n\u001b[1;32m   8738\u001b[0m             \u001b[0mkwargs\u001b[0m\u001b[0;34m=\u001b[0m\u001b[0mkwargs\u001b[0m\u001b[0;34m,\u001b[0m\u001b[0;34m\u001b[0m\u001b[0;34m\u001b[0m\u001b[0m\n\u001b[1;32m   8739\u001b[0m         )\n\u001b[0;32m-> 8740\u001b[0;31m         \u001b[0;32mreturn\u001b[0m \u001b[0mop\u001b[0m\u001b[0;34m.\u001b[0m\u001b[0mapply\u001b[0m\u001b[0;34m(\u001b[0m\u001b[0;34m)\u001b[0m\u001b[0;34m\u001b[0m\u001b[0;34m\u001b[0m\u001b[0m\n\u001b[0m\u001b[1;32m   8741\u001b[0m \u001b[0;34m\u001b[0m\u001b[0m\n\u001b[1;32m   8742\u001b[0m     def applymap(\n",
            "\u001b[0;32m/usr/local/lib/python3.7/dist-packages/pandas/core/apply.py\u001b[0m in \u001b[0;36mapply\u001b[0;34m(self)\u001b[0m\n\u001b[1;32m    686\u001b[0m             \u001b[0;32mreturn\u001b[0m \u001b[0mself\u001b[0m\u001b[0;34m.\u001b[0m\u001b[0mapply_raw\u001b[0m\u001b[0;34m(\u001b[0m\u001b[0;34m)\u001b[0m\u001b[0;34m\u001b[0m\u001b[0;34m\u001b[0m\u001b[0m\n\u001b[1;32m    687\u001b[0m \u001b[0;34m\u001b[0m\u001b[0m\n\u001b[0;32m--> 688\u001b[0;31m         \u001b[0;32mreturn\u001b[0m \u001b[0mself\u001b[0m\u001b[0;34m.\u001b[0m\u001b[0mapply_standard\u001b[0m\u001b[0;34m(\u001b[0m\u001b[0;34m)\u001b[0m\u001b[0;34m\u001b[0m\u001b[0;34m\u001b[0m\u001b[0m\n\u001b[0m\u001b[1;32m    689\u001b[0m \u001b[0;34m\u001b[0m\u001b[0m\n\u001b[1;32m    690\u001b[0m     \u001b[0;32mdef\u001b[0m \u001b[0magg\u001b[0m\u001b[0;34m(\u001b[0m\u001b[0mself\u001b[0m\u001b[0;34m)\u001b[0m\u001b[0;34m:\u001b[0m\u001b[0;34m\u001b[0m\u001b[0;34m\u001b[0m\u001b[0m\n",
            "\u001b[0;32m/usr/local/lib/python3.7/dist-packages/pandas/core/apply.py\u001b[0m in \u001b[0;36mapply_standard\u001b[0;34m(self)\u001b[0m\n\u001b[1;32m    810\u001b[0m \u001b[0;34m\u001b[0m\u001b[0m\n\u001b[1;32m    811\u001b[0m     \u001b[0;32mdef\u001b[0m \u001b[0mapply_standard\u001b[0m\u001b[0;34m(\u001b[0m\u001b[0mself\u001b[0m\u001b[0;34m)\u001b[0m\u001b[0;34m:\u001b[0m\u001b[0;34m\u001b[0m\u001b[0;34m\u001b[0m\u001b[0m\n\u001b[0;32m--> 812\u001b[0;31m         \u001b[0mresults\u001b[0m\u001b[0;34m,\u001b[0m \u001b[0mres_index\u001b[0m \u001b[0;34m=\u001b[0m \u001b[0mself\u001b[0m\u001b[0;34m.\u001b[0m\u001b[0mapply_series_generator\u001b[0m\u001b[0;34m(\u001b[0m\u001b[0;34m)\u001b[0m\u001b[0;34m\u001b[0m\u001b[0;34m\u001b[0m\u001b[0m\n\u001b[0m\u001b[1;32m    813\u001b[0m \u001b[0;34m\u001b[0m\u001b[0m\n\u001b[1;32m    814\u001b[0m         \u001b[0;31m# wrap results\u001b[0m\u001b[0;34m\u001b[0m\u001b[0;34m\u001b[0m\u001b[0;34m\u001b[0m\u001b[0m\n",
            "\u001b[0;32m/usr/local/lib/python3.7/dist-packages/pandas/core/apply.py\u001b[0m in \u001b[0;36mapply_series_generator\u001b[0;34m(self)\u001b[0m\n\u001b[1;32m    826\u001b[0m             \u001b[0;32mfor\u001b[0m \u001b[0mi\u001b[0m\u001b[0;34m,\u001b[0m \u001b[0mv\u001b[0m \u001b[0;32min\u001b[0m \u001b[0menumerate\u001b[0m\u001b[0;34m(\u001b[0m\u001b[0mseries_gen\u001b[0m\u001b[0;34m)\u001b[0m\u001b[0;34m:\u001b[0m\u001b[0;34m\u001b[0m\u001b[0;34m\u001b[0m\u001b[0m\n\u001b[1;32m    827\u001b[0m                 \u001b[0;31m# ignore SettingWithCopy here in case the user mutates\u001b[0m\u001b[0;34m\u001b[0m\u001b[0;34m\u001b[0m\u001b[0;34m\u001b[0m\u001b[0m\n\u001b[0;32m--> 828\u001b[0;31m                 \u001b[0mresults\u001b[0m\u001b[0;34m[\u001b[0m\u001b[0mi\u001b[0m\u001b[0;34m]\u001b[0m \u001b[0;34m=\u001b[0m \u001b[0mself\u001b[0m\u001b[0;34m.\u001b[0m\u001b[0mf\u001b[0m\u001b[0;34m(\u001b[0m\u001b[0mv\u001b[0m\u001b[0;34m)\u001b[0m\u001b[0;34m\u001b[0m\u001b[0;34m\u001b[0m\u001b[0m\n\u001b[0m\u001b[1;32m    829\u001b[0m                 \u001b[0;32mif\u001b[0m \u001b[0misinstance\u001b[0m\u001b[0;34m(\u001b[0m\u001b[0mresults\u001b[0m\u001b[0;34m[\u001b[0m\u001b[0mi\u001b[0m\u001b[0;34m]\u001b[0m\u001b[0;34m,\u001b[0m \u001b[0mABCSeries\u001b[0m\u001b[0;34m)\u001b[0m\u001b[0;34m:\u001b[0m\u001b[0;34m\u001b[0m\u001b[0;34m\u001b[0m\u001b[0m\n\u001b[1;32m    830\u001b[0m                     \u001b[0;31m# If we have a view on v, we need to make a copy because\u001b[0m\u001b[0;34m\u001b[0m\u001b[0;34m\u001b[0m\u001b[0;34m\u001b[0m\u001b[0m\n",
            "\u001b[0;32m/usr/local/lib/python3.7/dist-packages/pandas/core/apply.py\u001b[0m in \u001b[0;36mf\u001b[0;34m(x)\u001b[0m\n\u001b[1;32m    129\u001b[0m \u001b[0;34m\u001b[0m\u001b[0m\n\u001b[1;32m    130\u001b[0m             \u001b[0;32mdef\u001b[0m \u001b[0mf\u001b[0m\u001b[0;34m(\u001b[0m\u001b[0mx\u001b[0m\u001b[0;34m)\u001b[0m\u001b[0;34m:\u001b[0m\u001b[0;34m\u001b[0m\u001b[0;34m\u001b[0m\u001b[0m\n\u001b[0;32m--> 131\u001b[0;31m                 \u001b[0;32mreturn\u001b[0m \u001b[0mfunc\u001b[0m\u001b[0;34m(\u001b[0m\u001b[0mx\u001b[0m\u001b[0;34m,\u001b[0m \u001b[0;34m*\u001b[0m\u001b[0margs\u001b[0m\u001b[0;34m,\u001b[0m \u001b[0;34m**\u001b[0m\u001b[0mkwargs\u001b[0m\u001b[0;34m)\u001b[0m\u001b[0;34m\u001b[0m\u001b[0;34m\u001b[0m\u001b[0m\n\u001b[0m\u001b[1;32m    132\u001b[0m \u001b[0;34m\u001b[0m\u001b[0m\n\u001b[1;32m    133\u001b[0m         \u001b[0;32melse\u001b[0m\u001b[0;34m:\u001b[0m\u001b[0;34m\u001b[0m\u001b[0;34m\u001b[0m\u001b[0m\n",
            "\u001b[0;32m<ipython-input-72-9143b7ba0e2f>\u001b[0m in \u001b[0;36mcountvec_metric\u001b[0;34m(df, col1, col2)\u001b[0m\n\u001b[1;32m      9\u001b[0m         \u001b[0;32mreturn\u001b[0m \u001b[0;34m-\u001b[0m\u001b[0;36m1\u001b[0m\u001b[0;34m\u001b[0m\u001b[0;34m\u001b[0m\u001b[0m\n\u001b[1;32m     10\u001b[0m     \u001b[0;32melse\u001b[0m\u001b[0;34m:\u001b[0m\u001b[0;34m\u001b[0m\u001b[0;34m\u001b[0m\u001b[0m\n\u001b[0;32m---> 11\u001b[0;31m         \u001b[0mcount_matrix\u001b[0m\u001b[0;34m=\u001b[0m\u001b[0mcoun_vect\u001b[0m\u001b[0;34m.\u001b[0m\u001b[0mfit_transform\u001b[0m\u001b[0;34m(\u001b[0m\u001b[0;34m[\u001b[0m\u001b[0ma\u001b[0m\u001b[0;34m,\u001b[0m\u001b[0mb\u001b[0m\u001b[0;34m]\u001b[0m\u001b[0;34m)\u001b[0m\u001b[0;34m\u001b[0m\u001b[0;34m\u001b[0m\u001b[0m\n\u001b[0m\u001b[1;32m     12\u001b[0m     \u001b[0;32mreturn\u001b[0m \u001b[0mnp\u001b[0m\u001b[0;34m.\u001b[0m\u001b[0mcount_nonzero\u001b[0m\u001b[0;34m(\u001b[0m\u001b[0mcount_matrix\u001b[0m\u001b[0;34m.\u001b[0m\u001b[0mtoarray\u001b[0m\u001b[0;34m(\u001b[0m\u001b[0;34m)\u001b[0m\u001b[0;34m[\u001b[0m\u001b[0;36m0\u001b[0m\u001b[0;34m]\u001b[0m\u001b[0;34m!=\u001b[0m\u001b[0mcount_matrix\u001b[0m\u001b[0;34m.\u001b[0m\u001b[0mtoarray\u001b[0m\u001b[0;34m(\u001b[0m\u001b[0;34m)\u001b[0m\u001b[0;34m[\u001b[0m\u001b[0;36m1\u001b[0m\u001b[0;34m]\u001b[0m\u001b[0;34m)\u001b[0m\u001b[0;34m/\u001b[0m\u001b[0mlen\u001b[0m\u001b[0;34m(\u001b[0m\u001b[0mcount_matrix\u001b[0m\u001b[0;34m.\u001b[0m\u001b[0mtoarray\u001b[0m\u001b[0;34m(\u001b[0m\u001b[0;34m)\u001b[0m\u001b[0;34m[\u001b[0m\u001b[0;36m0\u001b[0m\u001b[0;34m]\u001b[0m\u001b[0;34m)\u001b[0m\u001b[0;34m\u001b[0m\u001b[0;34m\u001b[0m\u001b[0m\n",
            "\u001b[0;32m/usr/local/lib/python3.7/dist-packages/sklearn/feature_extraction/text.py\u001b[0m in \u001b[0;36mfit_transform\u001b[0;34m(self, raw_documents, y)\u001b[0m\n\u001b[1;32m   1328\u001b[0m                     \u001b[0;32mbreak\u001b[0m\u001b[0;34m\u001b[0m\u001b[0;34m\u001b[0m\u001b[0m\n\u001b[1;32m   1329\u001b[0m \u001b[0;34m\u001b[0m\u001b[0m\n\u001b[0;32m-> 1330\u001b[0;31m         \u001b[0mvocabulary\u001b[0m\u001b[0;34m,\u001b[0m \u001b[0mX\u001b[0m \u001b[0;34m=\u001b[0m \u001b[0mself\u001b[0m\u001b[0;34m.\u001b[0m\u001b[0m_count_vocab\u001b[0m\u001b[0;34m(\u001b[0m\u001b[0mraw_documents\u001b[0m\u001b[0;34m,\u001b[0m \u001b[0mself\u001b[0m\u001b[0;34m.\u001b[0m\u001b[0mfixed_vocabulary_\u001b[0m\u001b[0;34m)\u001b[0m\u001b[0;34m\u001b[0m\u001b[0;34m\u001b[0m\u001b[0m\n\u001b[0m\u001b[1;32m   1331\u001b[0m \u001b[0;34m\u001b[0m\u001b[0m\n\u001b[1;32m   1332\u001b[0m         \u001b[0;32mif\u001b[0m \u001b[0mself\u001b[0m\u001b[0;34m.\u001b[0m\u001b[0mbinary\u001b[0m\u001b[0;34m:\u001b[0m\u001b[0;34m\u001b[0m\u001b[0;34m\u001b[0m\u001b[0m\n",
            "\u001b[0;32m/usr/local/lib/python3.7/dist-packages/sklearn/feature_extraction/text.py\u001b[0m in \u001b[0;36m_count_vocab\u001b[0;34m(self, raw_documents, fixed_vocab)\u001b[0m\n\u001b[1;32m   1219\u001b[0m             \u001b[0;32mif\u001b[0m \u001b[0;32mnot\u001b[0m \u001b[0mvocabulary\u001b[0m\u001b[0;34m:\u001b[0m\u001b[0;34m\u001b[0m\u001b[0;34m\u001b[0m\u001b[0m\n\u001b[1;32m   1220\u001b[0m                 raise ValueError(\n\u001b[0;32m-> 1221\u001b[0;31m                     \u001b[0;34m\"empty vocabulary; perhaps the documents only contain stop words\"\u001b[0m\u001b[0;34m\u001b[0m\u001b[0;34m\u001b[0m\u001b[0m\n\u001b[0m\u001b[1;32m   1222\u001b[0m                 )\n\u001b[1;32m   1223\u001b[0m \u001b[0;34m\u001b[0m\u001b[0m\n",
            "\u001b[0;31mValueError\u001b[0m: empty vocabulary; perhaps the documents only contain stop words"
          ]
        }
      ]
    },
    {
      "cell_type": "markdown",
      "source": [
        "### Latitude and longitude\n",
        "\n",
        "\n",
        "---\n",
        "We compute the difference for (latitude, longitude) of each pair in `pairs.csv`. It turns out \n",
        "  * locations with close (difference less than 0.001) can have have different POIs: stores are next to each other in a shopping center. In some extreme cases, places with identical coordinates can have different POI. For example, one classroom can be located vertically on top of another.  \n",
        "  * conversely, locations physically far can represent the same POI, such as mountains."
      ],
      "metadata": {
        "id": "9Xdkh5XXbiv-"
      }
    },
    {
      "cell_type": "code",
      "source": [
        "#pairs['latitude_diff'] = (pairs['latitude_1']-pairs['latitude_2']).abs()\n",
        "#pairs['longitude_diff'] = (pairs['longitude_1']-pairs['longitude_2']).abs()\n",
        "#pairs['location_diff'] = pairs['latitude_1']-pairs['latitude_2']\n",
        "\n",
        "# Compute the difference of (latitude, longitude) of each pair in pairs.csv\n",
        "pairs['location_diff'] = pd.concat([(pairs['latitude_1']-pairs['latitude_2']).abs(), (pairs['longitude_1']-pairs['longitude_2']).abs()], axis=1).max(axis=1)\n",
        "\n",
        "print(pairs.location_diff, '\\nThe largest difference is', pairs.location_diff.max(),'\\nThe average difference is', pairs.location_diff.mean())"
      ],
      "metadata": {
        "colab": {
          "base_uri": "https://localhost:8080/"
        },
        "id": "2Y455w2siJI3",
        "outputId": "e9bda182-f39f-4424-e0a5-8dc3fc6c8b18"
      },
      "execution_count": 121,
      "outputs": [
        {
          "output_type": "stream",
          "name": "stdout",
          "text": [
            "0         0.009383\n",
            "1         0.006490\n",
            "2         0.001126\n",
            "3         0.000141\n",
            "4         0.006202\n",
            "            ...   \n",
            "578902    0.000693\n",
            "578903    0.001052\n",
            "578904    0.008220\n",
            "578905    0.000300\n",
            "578906    0.011056\n",
            "Name: location_diff, Length: 578907, dtype: float64 \n",
            "The largest difference is 270.8656697298361 \n",
            "The average difference is 0.13120959656239997\n"
          ]
        }
      ]
    },
    {
      "cell_type": "code",
      "source": [
        "pairs.country_1.value_counts()"
      ],
      "metadata": {
        "colab": {
          "base_uri": "https://localhost:8080/"
        },
        "id": "iHG_tAXjn7xb",
        "outputId": "8af677de-f542-4795-ba46-3b121a9f7ad8"
      },
      "execution_count": 122,
      "outputs": [
        {
          "output_type": "execute_result",
          "data": {
            "text/plain": [
              "US    117793\n",
              "ID     68412\n",
              "TR     61497\n",
              "JP     34217\n",
              "TH     31591\n",
              "       ...  \n",
              "YT         1\n",
              "PW         1\n",
              "DJ         1\n",
              "SH         1\n",
              "EH         1\n",
              "Name: country_1, Length: 213, dtype: int64"
            ]
          },
          "metadata": {},
          "execution_count": 122
        }
      ]
    },
    {
      "cell_type": "code",
      "source": [
        "len(pairs.loc[(pairs.country_1=='NZ') & (pairs.location_diff<0.001)])"
      ],
      "metadata": {
        "colab": {
          "base_uri": "https://localhost:8080/"
        },
        "id": "qk6xQvWnkD46",
        "outputId": "091c03b8-dce3-4af6-c1e5-feeba31a64c8"
      },
      "execution_count": 123,
      "outputs": [
        {
          "output_type": "execute_result",
          "data": {
            "text/plain": [
              "286"
            ]
          },
          "metadata": {},
          "execution_count": 123
        }
      ]
    },
    {
      "cell_type": "code",
      "source": [
        "sns.stripplot(x=\"match\", y=\"location_diff\", data=pairs.loc[(pairs.country_1=='NZ') & (pairs.location_diff<0.001)])\n",
        "plt.show()"
      ],
      "metadata": {
        "colab": {
          "base_uri": "https://localhost:8080/",
          "height": 281
        },
        "id": "wCHMVs33nL6-",
        "outputId": "5e93095a-1c8d-42ce-9a54-41c18da42f06"
      },
      "execution_count": 124,
      "outputs": [
        {
          "output_type": "display_data",
          "data": {
            "text/plain": [
              "<Figure size 432x288 with 1 Axes>"
            ],
            "image/png": "iVBORw0KGgoAAAANSUhEUgAAAZUAAAEICAYAAACXo2mmAAAABHNCSVQICAgIfAhkiAAAAAlwSFlzAAALEgAACxIB0t1+/AAAADh0RVh0U29mdHdhcmUAbWF0cGxvdGxpYiB2ZXJzaW9uMy4yLjIsIGh0dHA6Ly9tYXRwbG90bGliLm9yZy+WH4yJAAAgAElEQVR4nOydd3iURf7AP5NNIyG9QYCQkNA7hF5FQfBQLKigAnoo1tPTOyzX9Hd3eqfn6VmxV0BEbNgAAVF67y0EQgmE9JBednd+f8xmS3aT7IYEJJnP8+yz73zfmdl5eZZ8d+bbhJQSjUaj0WgaA6+LvQCNRqPRNB+0UtFoNBpNo6GVikaj0WgaDa1UNBqNRtNoaKWi0Wg0mkZDKxWNRqPRNBpNrlSEEBOFEIeFEKlCiMdd3PcTQnxqub9ZCBFvd+8Ji/ywEOJKO/l7QogsIcS+GnOFCyF+FEIcsbyHNeWzaTQajcYR0ZRxKkIIA5ACjAfSga3AdCnlAbs+9wF9pJT3CCGmAddJKW8WQvQAPgEGA7HASqCLlNIkhBgNFAMfSSl72c31HJAnpfy3RYGFSSkfq2uNkZGRMj4+vhGfWqPRaJo/27dvz5FSRtWUezfx5w4GUqWUxwCEEIuAKcABuz5TgKcs10uAV4UQwiJfJKWsANKEEKmW+TZKKX+x39HUmGus5fpDYA1Qp1KJj49n27Ztnj6XRqPRtGiEECdcyZv6+KsdcMqunW6RuewjpTQC54AIN8fWJEZKmWG5PgvEuOokhJgjhNgmhNiWnZ3tznNoNBqNxg2araFeqnM9l2d7Usq3pJTJUsrkqCin3ZtGo9FoGkhTK5XTQAe7dnuLzGUfIYQ3EALkujm2JplCiLaWudoCWQ1euUaj0Wg8pqmVylagsxAiQQjhC0wDltbosxSYZbmeCqy27DKWAtMs3mEJQGdgSz2fZz/XLODrRngGjUaj0bhJkyoVi43kAWA5cBBYLKXcL4T4uxDiGku3d4EIiyH+EeBxy9j9wGKUUX8ZcL+U0gQghPgE2Ah0FUKkCyFmW+b6NzBeCHEEuMLS1mg0Gs0Fokldii8FkpOTpfb+uvgczCjESwi6tgm62EvRaDRuIITYLqVMrilvapdiTTOmvMpEZmE5ceEBKC9wz6kwmrjzw22sPZIDwOXdonljxkB8DM3Wh0SjadZopaJpEMv3n+XRJXs4V1ZFp6hA3pmZTKeo1h7P883uDKtCAVh1KIsV+zP5TZ+2jblcjcaZ3KOwaR5UFsOAmdAqDPKPQ/wo8PP8u6xRaKWi8ZhKo5knvtjLubIqAI5ll/DM94d4Z5bTTrheMgrKnGRnXMg0mkal/By8OwFKLT9odi/CGoHQKhxu/xZiel605V3K6DMGjccUlFaSV1LpIDuaXez2+KyiclYdzCS7qIJJvdvga3fU5eftxYSeLmNWNZrG48iPNoUCOIS0leXBL89f8CU1F/ROReMx0cH+9G4Xwt7T56yyy7tFuzX2uz0ZPPzpLipNZnwNXrw8vT/z7xzCBxvSEEIwe2QCHSMCm2rpGo0iMLLu+w4KR+MJWqloGsSbMwby7LJDHD5bxNiu0Tw8vrNb4575/iCVJjMAlSYz//rhID/PvYzBCeFNuVyNxpGEMdBtMhz6VrW9/cFYbrvf77aLs65mgFYqmgYRG9qKl6b193hcTnGFY7uoopaeGk0TIgRMWwCnd0BFEUT3gC1vKUN9jynQffLFXuEli1YqGrYdz+OrXaeJau3PzGEdCQv0bbLPumFgexZuPmltTx3Yvsk+S6Opl3YDbNfj/nzx1tGM0EqlhbMhNYfb3t2M2WKn/HbPGZb9fjQGr4bFndTH/13Tk06Rgew4mU9yx3BmDuvYJJ+j0WguDlqptHAWbT1lVSgAR7KK2Xo8j6GdIqyy0koj6flldIoMxLueoMTUrGLWHM4iMao1Y7tGOQVF+hi8uHNUp0Z9Bo1G8+tBK5UWTnAr569AsL+P9Xr5/rP8cfFuiiqMxIb4886sQfSIDXY510+Hs7jrw20YLVrqliFxPHNd76ZZuEaj+VWi41RaOHeO7ESEnQ1lcp+2VqVhNJn585f7KKowAnDmXDlPf3/A5TwAb6w5alUoAIu2nHQyzFeTV1KJ2dyy885pNM0RvVNp4cRHBrJm7lh+TskmOsjfwbW3pMLkpBSO55TWOpephpKQgLlGwtITuSXcO38HBzIKaRfaihdv7qfdiTWaZoTeqWgI8vdhcp9Ypz/uIQE+DKkhqyvaffbIBOxNKNf0jSU6yB+AkgojL/6YwvWvb+BARiEApwvKeGTxLr1j0WiaEXqnorFSVmni060nSc8vY1LvtgzsGMZrtw7gvysOc+BMIaM6R/G7y5NqHT+pd1u+vG8Eqw9mkhjdmt/0tiWFfPjTXaw4kOk0Jj2/jKIKIyGtfJzuaTSaSw+tVDRW7vhgC5uO5QHw3vo03pmVzLhuMfzr+j5uz9GvQyj9OoQ6yIorjPx40FmhAPRtH6IVisZ99n8Fx9ep+JI+08BLH7b82tBKRQNASmaRVaEAmCV8vPEE47o1LLnjaz+l8smWk4S08uGhyzsT0sqHgtIq630fg2BMl2ievLrHea9d00L45T+w+p/qeitwZidc9Z+LuiSNM1rNawDw9zY4yVIyiyivMnk819e7TvOf5YdJzy9j/5lCHli4kwcuS8LbElDZ2s+b+bOH8M6sZDqEB5z32jUthK3vOra3fwimKtd9NRcNvVPRABAXEcA1fWNZuvuMVXa6oJw3fj7K76/o4tFc6444ZnitNJmJDvZnw+PjSMkspm+HEIL89ZGXxkN8a2Sv9mkFwvnHkBMmIxz/RSWNjBsGDaxSqnEPvVPRWJk+uIOTbMfJAo/n6dUuxEnWo20w0cH+jOwcqRWKpmGMfQKEl2O7PptK+Tl4awx8fB28Pwk+ukbvbpoYvVPRWOnZLoRAXwMllbYjr8HxYR7PM31wHLvTC/h61xkCfA08Mr4LSdG6PKvmPOk9FWL7w4kN6r1Nr/rH7FoImfts7bRfIGUZdL+66dbZwtFKRWMl2N+H128byD++PcDZc+Vc3TeWu0Z7nqfL19uLF27qxz+v7YWPwQufevKFaTRuE5GoXu5SmuueTNNoaKWicWBMlyjGPDLGozFSSl5ceYTFW08RGuDDoxO7Mq5bDAG++uulucj0mgobXrEV4PIPVcW53KGqHH54FA58DaFxMOlZ6Di86dbaTNA/ITXnzWfb03l51RHOFpZz6GwR93y8g6zC8voHajRNTXQ3+O1yGHg7DL4b7lpdfynhatY+Dzs+hPICOLsHFt0KVWVNutzmgP4pqTlvNh11PE6oNJnZdiKfq+wi6jWaRqc4C9a9CHlpykbS/1bX/WL7QexLns9/YoNjuywPsg5Au4Gez9WC0EpF02A2HM3hH98e5HhOiYNcCOgV6+wBptE0GlLC/Ovh7F7VTvlBHXENmt14n9FuAJxYb2v7BkFk18abv5mij780ThzLLuajjcfZdKx2g2ZxhZG7P9rOwYxCyiwBkl4CQgN8ePra3sRF6KBGTROSfcimUKpZ/Q/4YDLs+xyMFZCy3Hm34QmjH1U7IOEFIXEw9V3w016M9aF3KhoHVh7I5J752611Ue4e3Yknruru1O/AmUJrnZVqhiVG8NFvhzRZKWKNxkpgFHj5gNku5qQsH46vVa+gNlB0Vsk7T4BbFnsW9Gg2QUUR3PgRSBMYdGyVu+idisaB19akOhTaem99GoXlzsFiXWOC8Pdx/Pr07xCmFYrmwhAYCZfVCIa0p1qhABxZAWk/uz93+jZ4qR+82ANeGaDsKBq30UpF40Cl0ezQNpokv1u4kye+2MPJXFuBrpAAH/53c3/ahvhj8BL8pk9b7rvMOX7gXFkVzy07xG3vbOaO97fw3LJDnMqrvdCXRuM2o/4AD+2B3/y3/r6lefX3ARWBv+BGOHdStfPT4NuHG77GFog+/tI4cPvweOYu2WNtS+DnlGwA1hzOZs3csfhZkk9O7NWGoZ3CWbI9nfIqE7nFlQSEO36l7p2/nQ123mE/Hc5m/qYTLH94NG1DWjX9A2maN6EdYNCdkHMEtrwF0gxt+0HmftvRWFBbdQTmDp/PUV5e9mQdbNw1N3O0UtE4cGNyB9qHBbAmJYvNx3LZdeqc9V7GuXK+2HGanKIK2oW1Ynz3GK6ft4Fj2cr7682fj7H0dyNJiFSJ/7IKyx0USjWF5UaW7jrD3WM8iIzWaOpi0rMw4vdQWQKRSZC+HXZ+DH5BMHiOewb2qnI4stxZnnRF46+3GdPkSkUIMRF4CTAA70gp/13jvh/wETAQyAVullIet9x7ApgNmIAHpZTL65pTCHE58B/UsV4xcLuUMrWpn7G5MSwxgmGJETz93QEHpQLw16/2Un1C1jM22KpQAIoqjCzaepInJinDfmt/bwJ8DZRWOqfPD/DTv2c0jUywXVxU+4Hq5QnefmpXU2TL1E1ABFzdgBiXFkyT2lSEEAbgNWAS0AOYLoSoWZVpNpAvpUwCXgSetYztAUwDegITgdeFEIZ65pwH3Cql7AcsBP7SlM/X3LlrVCc6RaldhxAQFx6Avcll/5lCpzE+dlljA3y9eWxiN2ra7hOjArm2X2yTrFmjaTBCKPuMr2VXExAJ0xdBQPjFXdclRlP/XBwMpEopjwEIIRYBUwB7d4opwFOW6yXAq0IIYZEvklJWAGlCiFTLfNQxpwSCLX1CALufHBpPiQ7258eHx7DrVAGRrX351/eHOFnDyN45ujVHsooBiAj0ZfqQOIf7s4bHM6FnDIcyiigsr8LH4MW4btH4+7hRB0OjudB0uwr+cEjZaKJ7gI//xV7RJUdTK5V2wCm7djowpLY+UkqjEOIcEGGRb6oxtp3lurY57wS+F0KUAYXAUFeLEkLMAeYAxMXFueqisWDwEgzsqNLfzx6VwOrDWVYPsQk9Ynh5en+W7TtLcYWRq3q3JTzQ12mOtiGttFFec3GoLIV9S6AkB3pdD2Hx9Y/xC1LR9JoG0dwOth8GrpJSbhZCzAVeQCkaB6SUbwFvASQnJ8ua9zWuGRQfzorfj2bFgbO0DwtgQo8YvA1eXNu/Xf2DNZoLjdkMH/wGzuxQ7V+eh9kr3KvDomkwTR2nchqwLyfY3iJz2UcI4Y06tsqtY6xLuRAiCugrpdxskX8K6DzVjUBOcQXbjudRYTQRHxnInNGJXNW7Ld416qScK63ilVVH+POXe9lcR4oXjea8KMlRxbfSflE5wGrj+FqbQgGoKoGt7zT9+lo4Tb1T2Qp0FkIkoJTBNOCWGn2WArOAjcBUYLWUUgohlgILhRAvALFAZ2ALIGqZMx8IEUJ0kVKmAOMB7WB+nnyy5SR/+3ofVSZJZGs/PvrtYHrEBjv1M5sl09/exIEMZbxfuOUk798+iLFdoy/0kjXNmbN74f2roMLiJNLnZrj+Ldd9XUXb1xaBXxfGClUt0lgJXSfp/F/10KQ7FSmlEXgAWI76A79YSrlfCPF3IcQ1lm7vAhEWQ/wjwOOWsfuBxSgD/DLgfimlqbY5LfK7gM+FELuBGcDcpny+5sK+0+eY+d4WJrz4M6+uPoLZkqalrNLEP789QJVJtXOKK/jP8kMu59iVXmBVKKB+QC7acsplX42mwax/2aZQAPZ8qozqrug4AjrYmXB9g2DwXZ59XlU5vDseFs+EL+6EecOgRO/C66LJbSpSyu+B72vI/mZ3XQ7cWMvYp4Gn3ZnTIv8S+PI8l9yiKK8yMeu9LeSWVALw/IoUgvx9mDU8nnNlVQ716gHOFLguvhXs7/xVCm7lLEvLKSHA10BMsPaq0TSAKhcpfipLnGUAXl4wc6mq3FiaAz2mQEh7zz7v8HeQsdvWLjgJu+bDiIc8m6cFoXN/tXD2pJ+zKpRqVh/KAqBNiD+D4sMc7l3d13XhraToIG4YYPsPGxbgwxy7+vallUZufWcTlz2/hmH/WsWTX++z3pNSsnT3GZ5aup9v92gvcE0tFJyEpMsdj7DaD1JFuGrDxx/63gzD7vdcoYDrSo+6+mOdNDfvL42HxEcG4GMQ1iMugC4xtjPjN2ck89pPqaRkFjGuWzSzhsXXOtd/b+rLLUM6kHGunNFdogj2t6ULX7j5JOtT1bGBWcKHG0+QXVRB+/AAisuNLNyiEvh9sOE4KWeLeGSCLoaksePbh2Hb+4CEmF7qWCu8Ewyc1bSf220yrP4nFGWotl8w9J3WtJ95iSNkXd4TLYDk5GS5bdu2i72Mi8qCzSd45ruDlFSaGJIQzpszBhIa4Bxvcj787et9fLTxhFt9Q1r5sPtJNxMAapo/JzfBe1c6yib8E4b/7sJ8ftFZ2PGRMtj3v1UpMw1CiO1SyuSacr1T0XDrkI5c3789heVVTWbrmNizjdtKJcBXR9tr7Cg46SzLd++71CgEtYExj164z7vE0TYVDQCtmth4PjwpktduGcCwThEOx2s1EQIevqJLk61DcwmSeLny3LIioMc1tXZvMFXlKgJfc17o4y99/HXBOVdaxfXz1nPUkuE4uWMYT13Tg72nC0nuGEbnmKB6ZtC0OM7sgnUvqhK/4Z3g4FJ1PfB2mPC08vQ6H376F6x/CcxGNeek585/zmZObcdfWqlopeJAQWklCzafJK+kkmv7taN3+5B6x1SZzHy54zQpmUWM7RrNyM6R9Y6pNJpZeyQbX28vRiRG4qXLEGvcIfcovDIQlTvWwjWvwoAZDZ/zxAZ4f5KjbOp70OuGhs/ZAtA2FU29GE1mbnxjozXr8IcbjvPp3UMZ2LHu1N9zP9vNV7uUK/A769J47oY+3DTIlkmnsLyKI5nFdG8bRICv+sr5entxefeYJnoSTbMlfRsOCgUgfev5KZWMPa5lWqk0CL2/01jZnJZnVSgARrPkk3qi4vNLKlm62zG25IMNx63XPx7IZOgzq7hh3gaGPrOKjS4qQWo0btNhsHOqlbhhns9jNsGZnVCcDQmjnefsNLahK2zxaKWisdLKhddV63oqNHobBN41zp79fWztJ7/eZ638WFhu5B/fHkCjaTDhCXDdmxASB/6hqoSwp3Ej+cfVEdpbY+GF7nBsDdzwDkT3hIgkVagr8bImWHzLQB9/aawMiAvjiu7RrDyoIuojAn25Y0R8nWOC/H2YPSqBeWuOAuBjEPxuXGdAHadlFlU49D9d4DoaOeNcGafzy+jbIRQfg/6to6mDPjepV0NZ82/IT1PX5ipY+SQ8ckgfdzUSWqloHHhrRjLrj+aQW1zJZd2iCWlli4qvMJr48UAmJRVGruzZxhog+djEblzeLZrDmUWMSooiLiIAAG+DFxN7tuG7vRnWOVyleXl9TSr/XZGCySyJDfFnwV1DSYgMbOIn1bQoygvhyAq1u6kZ42KqVHXpD34N+79Uu6Axj0JYx4uz1ksc7f2lvb/cospkZuq8DexOPwdAZGs/lj4wgthQ54qOR7OL+XZ3BhGtfbmyZwzvrT/O7lMFDEmI4J6xnfDzth2z5RRXMPSZVRjNtu/hdf3b8eLNdeRz0mg8oeAUvHMFFJ9V7YjOkGuX2TiyCwy5B757xCYLS4DfbQcvHYhbG9r7S3Ne/Hw426pQQCmDT7ac5A81cnTtTT/H1Dc2UGEpObx42ym+um9ErS7D2UUVDgoF4EwtR2QaTYPY+rZNoYBSKEPugcz9qrzwmMdg6QOOY/LTVHbjXtdf0KU2B/ThtcYtKk1mZ5nRWTZ/0wmrQgGVBXnL8bxa5+3WJsgpwv6afrHnsVKNpgauUuN3Ggu3fwtTXoXQDhAa59xnyR3w+RxVaVLjNlqpaFxSXmWiqLzK2h7XLZp4i60EINDX4BCLUo3B4Lwj8a4jsFEIwcezhzBzWEfGdo3iuRv6cOsQfZataUT6zwCDXYLUsARIHOfYZ/SjEJ7oPHbvp/BCN9jydtOusRmhbSrapuLEvDVHeWX1ESqMZq7pG8tzU/vgY/CioLSSJdvTKSo3cv2AdnSMcDamp2QWccPrGyiqMAIwrFMEC+8aghCCr3ed5rllh8gpriTQz5vIQF9MUpUpfuiKzgxPrD8SX6NpEGf3wu5FylCffAcEuviumc0qG3L6Fud73q3gj4fBv/4MEy0FnaalFrRSceRgRiGTXlrrIPvntb24baj7u4fMwnKW7z9LRKAf43vE4Ovtxc6T+dwwbwPmWr5uft5erH30MqJ1RUjNxSAvDZb+TqXZN1e57vPAdohMurDr+hWjDfUatzhoV2e+mgMuZHURE+zPTEsxL5NZ8sinu/hy5+mayTUcqDCa2XA0l2v7t/PoszSaRuGr++DkBlvbtzVU2rJL0Ka3VihuopWKxoEhnSKcKkF+tfM02UUVPH1tL493Esv3n+WLnafd6psUXXtKfI2mSTm50bFtrISJz6oa9RFJyuaicQttqNc40C60FW/NSKZP+xBrupXSShX0+NjnLhLv1cOx7OJa71Xb9H29vXjw8s70aqfPqzUXifaDHNsdBsPQe2DWNzD5RQh2DtrVuEbvVDROXNYtmrFdo+j0p+8d5BsakAzysm7RvPBjitWWYvASfP/gKEJa+RDcypuSChN+Pl4O9ew1mvNCSshNhcAoaBXq3phr58FX96gsyHFDlauxpkFopaJxiRCC3u1C2GMX8NjHjdoqNekZG8KbM5J5e+0xBDBndCe6trEV4apOhQ/KjbnCaHZIDaPReEThGVhwI2TuUx5bV/4TBt1Z/7jIJLhzZdOvrwWgvb+091etHD5bxEOLdnLobBG92gXz0rT+JEY1jd1j3pqjvLzqCBVGE7/pE8vzN/ZxSOei0bjF0gdhx4e2tpc3/CEFAiMu3pqaKdr7S+MxXdsEsez3oymrNLlMi99YHDpbyLPLDlnb3+w+Q3LHMGYNj2+yz9Q0U87sdGybjXD8F+h5naM89yjs+xwCwqHPNPDTTiKNhVYqmnppSoUCcCijyEnmyrVZo6mXABc7kkLHInKc3QvvjAejJcfcjo/grp908shGQnt/aQAwmyWrDmby3ro0TuS6yJVUD4XlVXy86QTvrD1GVlG5R2OHdorAt0YNlTFdojxeg0ZD/9ucZTG91HthBvz8HHx1v02hAGTshuNrncdpGoTeqWgA+MNnu/nSEk/y7x8O8dHswQzt5N45dGmlkSmvrictRymjeWuO8u2DI2kb4pwW3xVtQvx5e1Yy/1uZQmFZFbcM6cik3tqFU9MAel6nKjnuWqh2HkPuhk5joDRPVXq0z1Zsj5f+U9hY6H9JDen5pVaFAioj8Vu/HHNbqazYn2lVKAC5JZV8ti2dBy/v7PYaxnSJ0rsTzfnjZVDuwBP+qerO+wcr+cFvalcoccOg44gLt8ZmjlYqGkwuEnLVrHHiKbXnJdZoLgA141N8Apz7dJusdjbdrwZh+cZWFIGpShnwNQ1CKxUNHSMCHWrTG7wEd3jgeTWhZwydogI5lq12K5Gtfbkx2TktvkZzQTBWQmkOBNvV5ek+WeXvOrtXtVvHQL/b1LHX2+OUMgmLtyWU7DUVrn0dDDpmylN0nIqOUwFUwa2lu89wMreECT3beJwypai8im/3ZFBeZeLqvrFEtvZropVqNHWQsgK+ulcpleieMG0BhCeoe8YKlf5+9d/dK7x1zSswYGbTrvcSprY4lXq9v4QQIyzvDforIYSYKIQ4LIRIFUI87uK+nxDiU8v9zUKIeLt7T1jkh4UQV9Y3p1A8LYRIEUIcFEI82JA1t0R8vb2YOrA9j0zo2qAcXEH+PkwfHMcdIxKIbO3n8khNo2lSTFXw9X1KoQBk7YcVf7Hd9/ZT7sXuVnI8+A1sfE2lxde4jTsuxS9b3jfW2csFQggD8BowCegBTBdC9KjRbTaQL6VMAl4EnrWM7QFMA3oCE4HXhRCGeua8HegAdJNSdgcWebpmzfnx9a7TDH56Jd3++gN//Gw3FUbTxV6SpqVQkgMl2Y6yrIOO7bJ89+c7sgKW/wleHwqnXBTu0rjEHZtKlRDiLaC9EOLlmjellHXtBgYDqVLKYwBCiEXAFOCAXZ8pwFOW6yXAq0IIYZEvklJWAGlCiFTLfNQx573ALVJKs2VtWW48n8ZDpJRsTsujvMrEiKRIfCwxJlmF5fzxs93WtPlLtqeTFN2ae8a4KNNaY75FW0+x6mAmiVGtuXdsIqEBvnWO0bRQco+q463sw6rO/OQXbUb14LYQ0xsy99r6d55guz7yI+QfV15h6k+EM9G9VAxL3lGbzFiudiwdBrseo3HAHaUyGbgCuBLY7uH87YBTdu10YEhtfaSURiHEOSDCIt9UY2x1Bafa5kwEbhZCXAdkAw9KKY94uGZNHRhNZma+t8WasTgpujWf3zOckAAf9p8pdKjDArD7VEG9c767Lo1/fqd+Ua48mMWOk/l8ds/wxl+85tIkfZtKvxLTE+bfAFWlSn7gK+VCPPU9W99p89WRV9ZBSBoPVzypbCmfzoAjy239vLxVCpeaTP4v+AXDvGGOcld9NS5xR6nMlVI+JoSIk1J+WH/3i4ofUC6lTBZCXA+8B4yq2UkIMQeYAxAXF3dhV3iJ89PhbIcU+KlZxXy67SRzRifSt0Moft5eVBhtvwKPZBXT/+8rGNopgn9c28ulAf/LGkW8th7PJz2/lPZhLtxANS2LdS/Cyqdqv3/sZ8d2WDzcPN9RtvppR4UCtSsJUxXE9IDEcXB0tZJ5+cCQezxZdYvGHZvKVZbjqGkNmP80ysZRTXuLzGUfIYQ3EALk1jG2rjnTgS8s118CfVwtSkr5lpQyWUqZHBWlA+48oaC00kmWX6pqeocH+jLvtgF0jm5NaIAP0UF+pGYVk19axQ/7zvLnL/c6jQVoU6OapL+Pl05/rwGTEX75b919wjvVP8+xNa7lQ+9TR2HVxPa3BUFOX6RqrIz9E9z9CyQ4/TbV1II7O5VlQD7QWghhn+VPAFJKGVzH2K1AZyFEAuoP/zTglhp9lgKzUI4AU4HVUkophFgKLBRCvADEAp2BLZbPrW3Or4DLgDRgDJDixvNpPGB8jxjCA33JK1HKxdfbi+vs6sqP6xbDuG4xVBrNdPnLDw5jXRX5Mpsl/eNCWZ+aQ7nRjMFL8OiV3QjSRbs00gwm5x8xVlZaV58AACAASURBVLx81B/++ojuBuk1DO0DboeJ/4Lk2bD/CwiMhD43g5dFyXj7Qb+af6o07lCvUpFSzgXmCiG+llJO8WRyi43kAWA5YADek1LuF0L8HdgmpVwKvAt8bDHE52HZEVn6LUYZ4I3A/VJKE4CrOS0f+W9ggRDiYaAYcKM6j8YTQgN8+fK+4Xy44QTlRhO3DI6jS0wQ647ksHT3GdJyiskuqiApOohOkYEcs0vf0tuFq/Iz3x/knXU2l81Zwzry25EJF+RZNL9yvH0h+Q7Y/IZN1mWSSrfSug1c/jdVXKsudn8Kuxfb2n5BMOZxGP6AakcmwRhdf74x0cGPOvixweQWV7AuNYfMcxU888NBp/vtQv0J9PMmJbOYvu1DeGlaf+IjA633pZR0/9syyqtsNpiIQF+2/3X8BVm/5hLAbFY7iTM7IWEMdJlQ/5hqjBXwfGcot1UvJfFymPFF7WM0btPgIl1CiHVSypFCiCJAYjn2wr3jL80lzLJ9Gby//ji+3l7cOzaR4YmR1nvbT+Qz493NlFbWHodyuqCcn/44ljbB/i5rsgghCPD1przKdsQR4KdrWmjs8PKC3lPVy1PKChwVCsCpzbBnMfS5qXHWp3GiXkO9lHKk5T1IShlc873pl6i5GGw/kc+9C3awOS2PtUdyuP29rZzKU66cWUXlPPzprjoVCkCwv3etCqWah8d3sV57CXj4ii619tVo3Ob0Dlj1fxBYwxGnshi+uAu2vH1x1tUCcGenUme6TillXuMtR/Nr4ccDmdifjFaazKw5nMVNgzowdd5GTloUTG2EBvgwa1g89y7YjlnCb0fEM7ZrtFO/GUM7Mjg+nN2nChgYH0ZilC7rqjlPco/C+5NU0CKAMICs8QNo10IYfNeFX1sLwB3vr+3YjrviUJ5gAggFTgLaqtoMSYh0jhGJjwxkQ2quS4UyLDGCW4fE0T4sgDbB/uSVVDLltXXWYMj1qTl8+7uRdG/rvLnt2iaIrm2CGv8hNC2T/V/YFAoohVJTsbSOVsdjZXnuuSVr3Mad468EKWUnYCVwtZQyUkoZgYq0X9HUC9RcHK7r354JPWIAdSw1fXAcI5MiCXYRPzIkIZx3ZyUzuU8s/TqE0ibEn483HneIrjeZJT8eyLxQy9c0V0xVkHMEtn8EH0yGz26HzAOOfVrHOI/rMQVrlR//UKVInu8CL/eHty+HEmd3d03D8KSeylAppXW/KKX8QQjxXBOsSfMrwNfbi7dmJpOeX4qvwYtoS4DiwI5hTOzZhmX7VRW9NsH+vHhzPwJ8bV+l7KIKluxId5qzY4SOkNecB6e2wuIZUJThKE9dCQ/thYAw1e59I+ycr4zyAPGj4Lo3YdxfIO8YhMapJJHV+b9Ob4N1L8CVT1+4Z2nGeKJUzggh/gJU50C4FTjT+EvS/JpwlSrljRkD2Xo8j7ySSkZ3jnIyxG9Oy3XKAdYutBVX6brzmvPhu0ecFQqoAltvj4P7N6mgRZ9W8NvlSqkIA3QYpPpFJKpX2lrnhJK5R53n1TQIT5TKdOBJVPoTCfxikWlaIIPia/ff6ObCPnLHiHhrNmONpkHkptZ+L/8YHPoOel2v2kJA3FDXfdsnK68w+zT53a5qvHW2cNz+Xy6lzJNSPiSl7C+lHCCl/L2955cQ4pWmWaLmUiMpOognJnUjwNeAEDCpVxtuG9rxYi9Lc6nTdVLd96vq9ki04tMKZn6tatS3GwgTn9UVHhuRRouoF0LskFIOaJTJLiA6or7pKKs0UWE0Eezvg5eXuNjL0VzqlBfC6n/AiY0Q3RUOfW9TJEFt4b5N0Cr04q6xBdHgiHqNpiEUllfxv5UpfLXzDPkllVzWLZr/3tiXsEBdfEvTQPyD4ar/2Nq5R2HXAjD4qZ2GVii/CrRS0dTLtuN57D9TyPDECDrH2OwlxRVG3lhzlP1nzjGycxS3D4/H4CUorzIx5dV1pOXYjiNWH8ri3z8c4tmptmoEqVlF/N83BziaVcy47tH8+aoedUbfazQORCSqpJKaXxWNqVT0+UYz5H8rU/jfSlU800vAy9P7M7lPLAC/X7STlQdVxeafDmeTV1LB3Cu7sepgloNCqWaXXRVIKSV3fbSdNEsW4/mbTuJrMPC3q3s09SNpNJompDHdcV5qxLk0vwLKq0y8+fMxa9ss4dXVygOnqLyKVYeyHPp/tVN5mNdmPhmcYPMYS88vsyqUatYeya45RKPRXGK4rVSEEF2EEG8LIVYIIVZXv6rvSyk/aJIVai4aUoLR7OjPX2kpFezvYyC0RnR9mxAVIDmue7STW/H4HjE8OrGrtR0T7E9EDftKXkklKZlFjbZ+jUZz4fHk+Osz4A3gbaDu9LSaS5YNqTn8fCSbHm2DmdwnlpsHdWD+ppPW+3eMiAfAx+DFX37Tg8e/2EOVSRLs780Tk7oB4Odt4Iv7hvPdngzKqkxc1butU216X28v/ntTX+6dv4OyKvV1yi2p5J7521n1yBhUBWuN5jyoKIbC0xDR2VbRUdPkeKJUjFJKN2p3ai5VPtlykie+sNWR33Qsl6ev7c2g+HAOZBQyMimSUZ1tqcRvGNie0V2iOJJVRN/2oQT62b5OAb7e3Jjcoc7PG9s1mpBW3lalAnAsu4TMwgrrrkejaRD7PoelD0FlEYQlwK2fQWRnz+cpyYVd86GqDPpOg7D4Rl9qc8MTpfKNEOI+VER9RbVQp75vPry/Ps2h/dm2dP50VXem9GvHlH7tXI6JCvIjKsjP5b36eG9dGmcLKxxkrf0MDZ5PowGgqhy+fVgpFID8NPjxSZi+0LN5Korh7bFQYNmpb3wN7v5ZZzWuB0+UyizL+1w7mQT0v3AzoWYaFYOXwNCEQYuv/uScdsNkrt3Qr2nBZB2C9S+pSo4DZkLXibX3Lc11rvhYV4qX2jj8g02hAFQUws4FcPlfPZ+rBeFJmpYEFy+tUJoRD1yW5KBE7hyV4JB9uLGpMpqdZD4Goe0pGkfKz8H7E2H3Qjj8HXwyDdJ+qb1/SDto29dR1qUOJVQbBucyD3jrXXR9eOL95SOEeFAIscTyekAI4eJfXXOpMql3W5b/fhRPXd2DT+cMZe6V3Zr08+4Y6Vzf7b7Lkpr0MzWXIEdXQ1m+nUAqm0ldTPsEEsaqLMUAuz9RqfM9oeskaGML1iWorc4R5gae/AydB/gAr1vaMyyyOxt7UZqLR1J0EEnRF6YK4yPju9C7XQg/7MvAIAQ3JndwiGXRaAAIdmHPC25fz5hYyD1iq/ZYkgXLHoO7Vtc9zh5vP5j9o9odVZZC96t1Khg38ESpDJJS2u8pVwshdjf2gjQti/E9Yhjfw0WlPo2mmg6Dof8M2PmxarftC4Pr+S2bl6bciR1kx1z3rQsff+h1g+fjWjCeKBWTECJRSnkUQAjRCR2v0uKoMJrIKqygfVirRrV9HD5bxGs/pVJQVsXNyR34TR9d0Etjx5RXYeTDUF4AsQNUvZS62LXAWRbrYRL1XQth3xcQ0h5G/QFC63aR1yg8USpzgZ+EEMdQeb46Anc0yao0v0pWHsjkj0t2U1BaRVJ0a96ZmUx8ZOB5z1tUXsXNb22koLQKgF9SsgnwG8RlXaPPe25NMyIi0f2+pkpnWV8PagruWghf3Wtrp/0MD2wDL53wtD488f5aBXQGHgR+B3SVUv7UVAvT/LqoNJp57PM91j/8qVnFPP39wVr7n8orZU96Ae7U61mfmmudt5rv97goG6vRuMuAmeBrZxsMT1Q2EXfZu8SxnXcMzuxsnLU1c+rdqQghxkkpVwshrq9xK0kIgZTyiyZam+ZXRH5pJbkljr/+Dp91nafrya/38dGmE0gJ3dsGs+DOIYTXUUelfVgrF7KA81uwpvlyagukroTo7tB9iusULJGd4Z61sGcx+AVBv+nKPlIbxgr44THlVRYcq4687BFeyvtLUy/uHH+NAVYDrtS8BLRSaQGcKShzkoUFOHuU7zt9jg83nrC2D2YU8sH6NB6Z0NWpbzWZheV0jm7NkaxiAPq0D+H24fHnv2hN82PPYvjiLlt7wCy45mXXfcMTYOxj7s274WXY/r66zi5UQY+hcepdeMGYx1X8i6Ze6lUqUsonLZd/l1I65PEQQjgHGmiaJTnFzmfUnV24HrtSPqcLymud9/Pt6fzhM5sTYa/YYJY+MLKBq9Q0a1JWwPI/Ocp2zofx/wetws5v7hMbHdtVpXDNa6qefXBb552LplY8MdR/DtR0n1gCDGy85WguFseyi3nrl2MUlFaRGBXI3jOFBPl7c9/YRHrGhjAyKZKYYD8yLbm6hICpyc7/0UYkRRIR6OtwVDa5b+3HBp9uPeXQ3nemkOM5JY3iAKBpRmx+C36Y6ywXXup1vrTtC0dX2do+AdC29/krqxaIOzaVbkBPIKSGXSUY0KlkmwElFUZuenOjy93ILynZrH30MkIDfHlnZjJv/HwMLwHTBscxtFOEU/9AP28+vXsY89YcJb+0kpuS29fpxRVcoyaLwUs4ZDvWaADY/IZr+aA7wT/k/OaWEo797Cgb86hWKA3Enf+9XYHJQCiOdpUi4C6XIzSXFGuP5LhUKABF5UbWHsmhrNLEX77eR6XRTHSQX53pVJKiW/Pfm/rWet+eBy9PYvOxXIoqjADcNaqTzlKsccanhuOGlw/c9DF0m3T+c59YD2e2O8oy9pz/vC0Ud2wqXwNfCyGGSSk31tdfc+lRX+2S6CA/Zn+4zVr1MauogueWHeL9Owaf92f3aR/K2scuY8PRXDpGBNAz9jx/dWqaJ2Pmwmd32NKujHmscRQKwFEXkRElWc4yjVt4chi5UwhxvxDidSHEe9Wv+gYJISYKIQ4LIVKFEI+7uO8nhPjUcn+zECLe7t4TFvlhIcSVHsz5shCi2INna9H06xDKTXb2EX8f9bUQAmYO60jHiECKLTuJak67MMg3lNAAX67q3VYrFE3t9JgC92+B37wAd65SSsZdpIT8E2B0vRvH4MLdvd1AMFWp4lwaj/Dk8Ppj4BBwJfB34Fag9ug3QAhhAF4DxgPpwFYhxFIp5QG7brOBfCllkhBiGvAscLMQogcwDWXPiQVWCiG6WMbUOqcQIhnQh6Ee8tzUvswZ3YlzZVX07xBGSlYRQf4+tAtVMSTJHcPYdsKWKXZYorKnZBWVc/hsEX07hBLsr5NWa5qQyCT1qsm503B6u1IENd1+c1Jh0XTISYGACLj2DegywbFPz+tg7X/BZCkY5xMABj94NgGMZSoSf/L/wKBtfe4g3Il4BhBC7JRS9hdC7JFS9rGkvV8rpRxax5hhwFNSyist7ScApJT/suuz3NJnoxDCGzgLRAGP2/et7mcZ5nJOixJbCdwCHJFStq7vuZKTk+W2bdvc+jdoiRzMKOS7PRkE+hlIzy/j55RszhSUYZYQHxFAen4pRjME+hp4e1YywxMjL/aSNS2JfZ/DF3PAbAQvb7juTeg91XZ/wY1wZIWt3ToGHj7grCDSt8PWt1UalsQrYMntjvevfhkGzkJjQwixXUqZXFPuieqtzqNRIITohfrjX19ypnaAvc9oOjCktj5SSqMQ4hwQYZFvqjG2+mdIbXM+ACyVUmbUlexQCDEHmAMQFxdXzyO0XLYez+OWtzdRZVI/PHq0DSY933YccDy31HpdUmni3z8c0jEmmsYlJxW+vh/St0LH4XDtPMfEjj8+pRQKqPeVTzkqlezDjvMVZ6qklIGWHz9mk3q1H6heoKo71iRDJ2R3F09sKm8JIcKAvwBLgQPAc02yqgYghIgFbgReqa+vlPItKWWylDI5Kiqq6Rd3CWI2Sz5Yf9yqUAAOZBTWOSazsPYgR42mQXw5B05tUgb642vhmwcd75flObZLcx3bXa50bLcbaFMoW96G5zrBM7HwzUNgsiin+BG24l7VmHVCdnfxJKHkO1LKfCnlL1LKTlLKaCllLc7jVk4D9vmi21tkLvtYjr9CgNw6xtYm7w8kAalCiONAgBCiAYWpNV/vOs3gZ1bx3V7Pkjpe119HHWsaEbNJ2UrsObXFsd3/thrtGY7t8X+HofdDWDwkjIEbP1Dy7BT4/o9q12Kugu0fwM6P1L2weIiqkVZo3+faaO8mnpQTfkYIEWrXDhNC/LOeYVuBzkKIBCGEL8rwvrRGn6VA9WHlVGC1VIaepcA0i3dYAipD8pba5pRSfielbCOljJdSxgOlUkpdm9ZDcosrmPvZHnKKK9weE+hn4G+TezD3ytrze2k0HuNlUDsLezrUcGO/8hm46nnofZN6n/gvx/ve/lCYDvnHVfr6RbdAWQFk7HL+PPssxGZHb0cqi2D+VCjKbPDjtBQ8Of6aJKUsqG5IKfOBq+oaIKU0ouwcy1GeYoullPuFEH8XQlxj6fYuEGHZVTyCzUC/H1iMOmZbBtwvpTTVNqcHz6Gpgdks+elwFou3nWJLWh6VJnOd/YP8vAnwVccDrf28eeO2gfx2ZAIGr8Yr2qXRAHDdW9BhqDLCJ4xWBnN7vAww+C644W31XrPeSdrPcOBrW/vsXrUr8XJhTo4fbbvuc5Pz/RPr4KW+UHS2wY/TEvDE+2sPqqRwhaXdCtgmpezZhOtrcrT3F9z54VZWHlTBXsH+3lQYzVQYHRVLaIAPBaVVtAttxbM39KF3+xBSMovo3jaY1jqtiuZicGQlrHtRuQIPucfRQF/N7k+VXcaeQXepbMcV52yyTuNg5pdwZhekLIOIJMhNgzUuDmNG/QEu/1vjPsslSGN4fy0AVgkhLPmhuQP4sDEWp7l47E0/Z1UoAIXlRsZ2jWJDaq7DjuWpq3syoWcMrXwM1jLCg+LDL/h6NRoAco/CJ9OUPQQgfZvKJBxXI8Kh83jwC4YKi5OJMEB0D0eFAqomy8FvYfEMkHXv1CkrqPt+C8dtpSKlfFYIsRu4wiL6h5RyedMsS3OhKKty9moJC/BlzdyxzFtzlIxzZVzdN5Yp/VzXktiTXsChjCKGJUbQIVwX1tI0IRtfV0GK0gwdhtgUCgASDi51VCqVpbDktxaFIiCikwpijO4Jyx63BTuCylK86fX6FYowQL9bGvOpmh2enlvsBHxQxbl0bc1mQHLHMHrGBrP/jPol5+0luHVIHLGhrfjHtb3qHPvyqiO88GMKAD4GwZszBjKuW0ydY86VVvHDvgxa+Rq4smcb/H10zW+NG5zcBMufsLVTfnDus/Vd6DgCuv1GtXd8CMeq83pJtbvx9ofACLj2daVYSnJU/5EPwyd11LCPSFJzD5gJ7Z1OfDR2uK1UhBA3Af8B1gACeEUIMVdKuaTOgZpfNV5egkVzhvLp1lNkF1Vwdd9YerWrPwdXaaWR19fYPLarTJKXVqXWqVQyC8u5+pV1ZBWpX4g92gbz5f3D8fPWikVTDyc3OctiB8CZHba2sRy+fQS6TFQG+9yjzmNyjyoPst5TVXoWYzn4Wmr3jHgITm509vwCuPJfzuldNC7xxPvrzyhD/Swp5UxgMPDXplmW5kIS5O/DnaM68cRV3d1SKKCUSGUNY35phfN/RrNZUm45Ylu05ZRVoYAKplx9UGeD1bhBh5qJOIBxf3GuG198FipL1HXCaMd7PgGQdLmt7WWwKRRQ9heHOBcBbXrD1Pe1QvEAT5SKl5TS/i9ArofjNc2IkFY+TnaWGcM6OrRVEOVKevxtGfcv2EFppbPSqc99WaMBoOMwmPC0SgrpHwrj/qoUROcaf+wTxoB/MOz7Aj6/0yb3CVReW63ryCxVWQK7FtoJJOAFva6vbYTGBZ7YVJZZkjp+YmnfDHzf+EvSXCo8N7UPQxLCOZhRyJiuUQ5HX9lFKoiyWml8tzeDO4bHE+TvTVG5Ui5x4QGM71G3DUajsTL8AfUClc5+6YOwwxIFHxAB3a9RykZKWPaEoyG+qgR+ehqSroDYfq7nNxudj77O7la5xya/pLMUu4kn3l9zhRA3ACMsoreklF82zbI0lwI+Bi+mDXadkPPw2SKnXcip/FK+f3AUX+48TYCvgRsGtCfAV/9H1TSAdS8oQ3w1pbmQMEoZ4Y2VUJLtPEaaIfXH2pWKfwj0mw475zvKd86HuGHOKWE0LvHof7SU8nPg8yZai6YZ0adDCIG+BkoqbS7LwxIj6RAewIOXd76IK9Nc8kgJ6192lldnJPb2hR7XwH4Xv3mjutc999UvAwJ2fuwoP7u3QUttidRrExFCFAkhCl28ioQQdaet1TRLqkxmsorqzkgc7O/D2zOT6d0uhKggP+aM7sTtw+MvzAI1zRtjuUoEWZPOdhmJp7wO8TXKMITGQdc6M0sp4/2oR5zTuCSOa9haWyDu1KgPuhAL0VwarDqYyWOf7yGnuJLe7UJ4Y8ZAa3XImgxPiuSb341kw9EcXvsplalvbGDmsI46m7Hm/PBppQzyaT/bZPGjbPVQAHwDVEVIewpOqsSQ/rV4OKZvg0PfQUQiXP8urPsvVJXC4DnOKfQ1taIPtDX1UlReRZVJEuhn4I+f7Sa/VEUy7z19jn//cIhXpvevdWxqVhG3vbMZsyXF3M6TBUQH+TMiyVYhsrTSyC8p2YQG+DIkIdyaBkajccBsVkGPecfgsj+rtCxndiqF4ioXV0A45KfZCYRKseJKqRz6DhbdivL4Arr+Bu5Z2xRP0ezRSkVTJ88uO8S7a9OoMpu5olu0VaFUc/hs3Segf/lqn1WhVLPyQKZVqZwuKOOG1zdw1lLga3yPGN6eqSOWNS746l7Ys0hdCwPcslhFxtdG5ytr1GORsPsTGPu4c9/Nb2BVKACHv4P8ExDW0bmvpk50nImmVrafyGPemqNUmsxICT8ezCI6yM+hz5gudVfOTMsucZJF2s3xwfo0q0IB+PFAJttP5J/nyjXNjnPpNoUCqhLkZ7OgrI7vSkSis8xYS50gg28NgQCDj8fL1GiloqmDw2eLnWSju0RxRfdo4iMC+O2IBP4woe7CXL7ezl+xa/vFWq8Ly5wDIgvLq5xkmhaOq0SPlcWw/UNVIdKVsug6CYLtAnQNftDvVtfzj/i9o2LpfysEx7ruq6kTffylqZVRnSPxMQiHOvW/pGTzwk39GNk5so6RNsIDfTmV71iGtaCsinZh6vqmQe35fEc6RssZWceIAEYkuje3pgURGuec6wtUwsj1L6lMxL1vgqtfUi7FoJJH2teaN1WodPnnTkH7QXDNKxCeoO4ljIL7t8CRH1U248TL0TQMvVPR1EqH8ADemplMVGvbcVVWUQW/+2SHNZ9XfUzu4/hrLybIj92nznG6QCmagR3D+eyeYdw2NI4HxyWx5J7hLnc3mhaM2QwVxcqG4tvaJvfyhmM/Q1meioTfvRC2vmO7n7kPzp10nCv3iHJJPr5W2WjsCU+AIXNU1L12FmkweqeiqZPLukYTE+JHtl3N+vzSKtLzS0mKrt/bfPbIBIxmyQ/7MiguN3Isp4Q/fbkXX4MX798xiBFJkfSPC6N/XFhTPobmUuXwMvj2YSg6A50ugxlfw+4FqlZKRBL8VKMyo32d+eD26kjLVOl67pMbVSClViCNiv5JqKmXIQkRDu02wf7ERwTW0tsRLy/BvWMT+ei3gzmZV2qVV5rMvLo6tY6RmhZPZQl8MUcpFFBHXbsXwuQX4fo3VW2TmgZ2+8zEgRFw5TPqGAxUlmJ72iW7VihSwsnNcHqH8z1NveidiqZe/jChC4VlVaw4kEmnqECeuron3gbPfo9UGs1Wu0k1pW4eoWlaKPnHncv+ZuyyXQfFwE0fw6r/U15g/W9zzs81+C5VO6UoE7z91JHXyY0QEqfyeRWecTTIVxTDR9fYXJEDIsBUpaLzJ78IQW2a5FGbE1qpaOolwNeb/9zYl/+cxxzRwf5M7NmGZfvPWmUzh+oYAE0dRHZR9VKKMmyyTmNt18fXqeqN+WkqjcqQe1zvPFqFqRfAbZ/DvBFqzMZXYNd8uPsX5QgAKo7FPralNFe9H/5eeZndurgxn7BZoo+/NOdFeZWJjUdzrYb3unhpej+evq4Xd4yIZ8GdQ7hhoE7XoqkDgw9M/0TtKFrHwKA7YfSj6p6pStWfr46YP7oafnQRVV+Twz84RtmX5TtmJS466zymmuM6wt4d9E5F02BSMou49Z3NZBdV4CXg0YnduGeMi4AzC37eBm4doncnGg+I7Q+/XeYsP5cOxZmOMndsIK52MvZux72uVy7KZhexUrED6p9fo3cqmobzv5UpZFvKA5slvLAihYLSWjxtNJrGJLSj7ciqmppZiV3R9SrH9PeBUY52mJiecPt3Kual22QIt5RpiB0A17hIt69xQu9UNA3m7DnH9PeVJjO5JZWEBtRMeaHRNDJeXnDzfPh+rqqj0mUijHkUlv1JHXGZK5XXV+cJqhqkr8Xzy6cV3LUK9n+lMhD3vA4CawTbxg1Rr2qqysHH/8I92yWOViqaOknLKWHprjOEB/pw/YD2BPrZvjLX9m/HjpO2uhZ92oeQGNXa1TQaTePTti/MXmFr//CYJTGkHbmpKoXL5BdsMt9AlYbFXbRC8QitVDQUllfx4frjnMgrZVKvNlzeXdWN33QshxnvbrGmaVm09RRLHxiJwUudS88cFo+/j4EV+88SHxHIvWNrt6doNE1OyvLa5WX5UJIDkbVUHd3xMexZDG16w6g/qBgXTYMQUsr6ezVjkpOT5bZt2y72Mi4qU+dtYJtdZuAnr+5BpdHM8ysOO+T9Ari+fztiQvy5KbkDCZHuBUBqNOdFYQZk7VfBiq1Ca++3cJqqt1KTiM6qQJepQu1ubl0CraNt9799BLa9a2uHJ8KDOvCxPoQQ26WUTnUqtFJp4UolNauYK1742UEmcKgs4ZIgP2++f2gUHcID6ump0ZwHOxfANw+q3F6+rWH6IpX80RW5R+H9SY5eYV4+aqz9N3rw3XDVc+rabIJ/xjh7e92zHtr0atRHaW7UplS091cLJ9jfG68aXpbu/MwoqjDyxY7TUuBu0QAAGn9JREFU9XfUaBqKyQgr/mxRCqhU9yufrL1/RCJE1SjFYK7C6Rudd9R2bSx37T4coI+/GopWKi2c6GB/7hrVydquLbVeZGtnj64AX4OLnhpNI2EsV+V/7SnKdN23muAaAbVe3hAY4yjrNtl27Ruo6t3b024gBLdV1xXFKtBS4zbaUK/hiau6M6VfO07mlbA1LY931x+33usc3ZoRSZGknC2kqLyACqMqlhTga6BjhD760jQhfq2h+2Q4+I1N1vfmuseMmavSt5w7qYIaxz4B3a+Gn56BwtPQayok3+E4ZtpC+PlZSPsFOo2BcX9TbsRf3QsHvgK/ILj8SRg0u/GfsRnS5DYVIcRE4CXAALwjpfx3jft+wEfAQCAXuFlKedxy7wlgNmACHpRSLq9rTiHEAiAZqAK2AHdLKev8mdHSbSo1kVKyZHs6m9Py6NshlOv7xTLm+TXkFDsHNRq8BF/cO5y+Heownmo050NlKWx4Bc7uUXm/+t0Ka5+HtHXgZVBJIhMvg6H3g8HyG9lUpaLrQ9pDSLu6Zq+d5X+Cja/Z2sILHtwJYfHn+UDNh9psKk26UxFCGIDXgPFAOrBVCLFUSnnArttsIF9KmSSEmAY8C9wshOgBTAN6ArHASiFEF8uY2uZcAFSHxy4E7gTmNeUzNjeEENyY3IEbkzsAsPV4nkuFAmAyS77dc+a8lUpZpYk1h7No7e/NiMRIvGoaeTQtF98AGPuYujab4bXBqtCWPcd+guIsuPJp1Tb4OAYvekpVuWOxL1DljDP3a6XiBk19/DUYSJVSHgMQQiwCpgD2SmUK8JTlegnwqhBCWOSLpJQVQJoQItUyH7XNKaX8vnpSIcQWQGcsPE/iIwKdSgrb0yakVb1zrD6UyU+HshBC0DbEn3HdYujaRhX4yioq57rXNlgTUg5PjGD+7CFasWicObHeWaFUs3eJTam44tD3sOMj8A+BkQ9DdLfa+6ZvdV3zft/nKrllQLhn625hNLVSaQecsmunAzV/Qlj7SCmNQohzQIRFvqnG2Oq9bJ1zCiF8gBnAQ64WJYSYA8wBiIuLc9VFYyEqyI+nrunJM98dpKTSRHigL3klaufSr0MoNw/qUOf4jzed4K9f7XOQPb8ihXm3DmBCzzYs2HTSIcPxhqO5rE3NYUyXqMZ/GM0lTh1H9cGxzrKKYrXjSPsFjq6yyY+sUCldtr2vDPnt+sO508p7bPTc/2/vzsOjqs4Hjn/fZLInJEASMInsiyxiWEQ2wQXEHRSsiFaxalsV6tb6q619tEi10lZttVWxKmpdwB1wqxKUKojsYtj31YSwhOzL5Pz+ODfJTGaSEJgJkLyf58nD3O3MvQ+TvHPvOed9oVUn2x9jatT7+eFdO3Dgp+8F5nKaqKbaUf8vYKExxm+uamPMDGAG2D6VxjyxU9H157Tnqr6pHCkqp218JBuz8igqddMnLR6ppRRrdl4xm7LyeXXRdp9t7grDc19t4aJebckrLvfZnleso22UH+2HQWJ3yNngvd4VCRc5ZYXzs+0M+vg0+Pop2PalbztFB20dlkrZmfbfrQtsxcfbv4ZRf4T5U31LEW/JCNjlNFXBDip7AM+vsmnOOn/77BYRFxCP7bCv69ha2xSRh4Ak4BcBOH/liA53ER1uPy7d2tRdm/6d5bt54L3vKXMbnzkwlSqfpo3vn8Z/luyg1BlVZh+PJfs/SDVvOxfbYcY1hUbA6efAvtXw8mVQmnfs75G1BvZvhCFToGUnmDXRe3u45rarT7CDylKgq4h0xP7hnwDU+F9iDnATsBgYD2QYY4yIzAHeEJEnsB31XbEjuqS2NkXkVmA0cKExpiLI19akHSwopUWkq8Flg8vcFUz7aG1VH0yF8Z2hLwK3DusIQM+UFnxwx1BmL9tFXKSLGwa1rwpeSlVxl8O7t3hXgaxUmmdTsHzzj6MLKMm9qu9OanJFQqzz6LXz+bYPptijpPHA2xp+7s1MUH97nT6SycBn2OG/LxljMkVkKrDMGDMHeBF4zemIP4gNEjj7zcZ26pcDdxpjH3L6a9N5y+eAHcBi57HMe8aYqcG8xqZm7+Eibn99Bat3HSY5LoLp4/twXvejv3MoLnOTW+T9+Co+KoyOidGEhoTQJy2eK9NTSfcYMdYzpQUPX9krYNegmqC8ff4DCthSwuExUFZH9dHwWOgzAVbMtAFFBAixfSqucCjJsyldRv6xuvRweDTcNA8ypkHuLjjrOhj6q0BfWZOjub90noqXyW+sYN731b+8ibHhLPrthYS7jv6O5dZXlvHFOv8zn1MToph/3wgiw3Q2vmoAtxv+lFydssWTKxruWgVZP8Dr4+3wX4DTB8Glf7Hp7zuOgBdHwsGt1cfFnWbnnoS4YO8qaNkeDm6zySe7XKijvOpxQuapqFPPun1HvJZz8kvZn19CakL9Q4crPTUhnee/2sLavUfIyS9h9e7qxwd7DhexeOsBznfufjL35rJuXx6DOrUiraXO0Fe1KC/0H1Aqt2342M6Uv+VzyHwf4k+HPtfAlgV24iQhkJ/jfVzhQVu0C+D0s2Hu3bD8Zbsc0QImzbNZjVWDaFBRXoZ3S2LL/oKq5S7JsaTEN6xIUWyEi/su6k5OfgkTX/jWZ3vrGJtH7Nkvt/D4p+sBCAsVnruhf1UtF6W8RMTZO49dvp8nL2kD7I+7HF4cBXs9UthHtPDe17NQ16EdsHxm9XLJEfj6SbhmJqphNKgoL/ePPgN3hWH+umy6tYnlD5f3rHXYcH2mvLGSjVn5Xuuu6ptKn7QEisvcPJ1RPZGtzG146otNGlRU7a55GT77Paz/yHbMe5rn3GVU1krZkuEdUMAGim4X2/6XhA62YNeip2HHIhu0as6DKTmOUWTNmAYV5SUqPJSpY3ozdYxd3nmgkPnrshjQoRXxUWFe+y7aksOfP1lP1pFixqancv/FZ1RVhSwsLWfx1gNe+ydEh/HktekAlFeYquSUlfJLanm8oRTYCY7XvGzrpsy9C3Z95x1c9q2G//0NLnncd35Jpdg2NtXK/Kn4BJGwaFu3vlL/Gokn1VHRoKJ8lJZX8Ngn65i9dBcFpXZWcWiI8MzEvgzpnMiXG7KJiXBx15srq7Y/v3AryS0iucUZKhzpCiU1Icprtnx3j/ktsREuxqan8u6K3VXrbhjUvjEuT53qWne2/R1LZsAnv/HedsCpldJ1lK3g6Fk7BYGVr1V35NdUVmgTU5YXQ6+x0HF4UE6/qdOgonw8++UWXvZIfw92Fvx9s1YTGR5alaalpsVbcqqCSkiI8NjVZ3L3rFUcLCglrWUUD13hPWz4z+POpH/7lqzdl8u5XZMY3attUK5HNUGbvoBP7vdd38OpleKKgNsybKbhrQtsluFdS6DO0a4CHYdB90uDcsrNhQYV5WPRlhy/6wvL3BSWuf1uA+idGu+1PLxbEosfuIC9h4tp3yraJ0lkWGgIE8+pzr2WX1JObIR+JNVRWPIsPo+vBk+G/pOql6MS4ILf259FT9ugUicD79wK9/xg71a+n22DU59rdXhxA+hvsPLRJTmWJdsO+qz3l624RaSL/JJyRvdqy8+HV1eQ3JdbxKasfPq2S6BjYkyd77fzQCFT3lzB6t25dEqM4Ylr070mRypV5eBWeOt6yF7ru63fjbUf1/Ui+OLh2oclVyorgPXz4POHbI4wsDP1B94GyT1tOyFaMLcuGlSUj96pLXzWhQhc0rstH635EXeFDSxntI1j7uRhlFcYojxKC7/27Q4enpOJu8IQF+li5s1n07+9/aaXuTeX15fsJFSEm4a0p0tyHA9++EPVXJatOQXcO2sVGb8+L/gXqk49//2D/4By1nW+9ek9JXWHCW/CN3+32Ye7jobvnvczS18ga211QAHI2wvz/2hfp98AY/+Jqp0GFeWjV0q8z7oKA3NW72NsegoJ0eEkxUVw/TntCHOF4DkmrLjMzeOfrK8KPHnF5Uz/dAOzfjGY7TkFjH92MUXOI7QPVu7hi/tGkLkn1+u9tuYUUFBSTow+ClM1+Qso17xiO9br0+0i+1NRYe82hkyx7WVMg02fQViMfVTmL2llpVWvwwUPVtewVz70t1b56JOWwM+Hd+LFr7dVBYdKGeuz+f7h0bUeW1jq9hkavD/fDvucu3pvVUAByCsp55M1+xjcubVXapizTk/QgKL86zra6U/x8NG99u6j97i6jy3JhzmTYe0cW2b40r/ZIHP9bCg4YGfXh0dD3o92ZFn+j34aMb51VpQXfTio/PrdpT349oELaeXMfq8UHx1WyxFWq5hwzuvuXWDr6r62tlrLGm0BtIqN4JExvbnirBQSY+2xz1zX9zjPXjVZIx+CQXdApEefW+EBeP+XkL2+7mMXTrcpXIzb5vd652fVExxjWtuAsiUD5t0LaWfbCpEDf2lHjlVq2wfi/BQEU1X066CqVVJcBL+7tAf3v7OaCmPnqtw/uo4yrI5nJvZjxsKtbPjxCCO6JXPdQFv+5up+qcxauos1zuOuszu0ZHSvNkS4QnlaA4k6GmFRcPFj8OMa2O5Rg89dCs8Ph5s/tmla/Nm93Hu5NM+ua5Fig0x5Mcy+sfpOJCwGfrXCJqrc8bVd9+P38OWj9hGY8kuzFGuW4nrtPFDI6t2H6dsu4biTPmYdKeaTNfvokhzL0C6Jx5wCRjVTB7dCdGv47gXIeMR3e88x8JNX/R+b8Sd7t1LJFQnusrofZ138uFMl0uPvZHw7uGfNMZ1+U6JZitUxa9c6mnatjy2YZOcV89CHmSzbcYiosFB2HrRpMGIjQnn39qF0b1t3FUmlAMjfD2/8xObzckXCeb+F9Ottx7mnsjo62c+9z/aTZH5g84Md2Fz/+7bqYOe7FB2qXhen+enqoncqeqcSVJNe/o4vN+z3u+3M1HjmThnWyGekTjk5m+DVMXCkRiXymDYQmwhZTo0+CYGJs22KlvpkfgBv31T3Pi1S7A1KixTYt8rOcYloAde9BR2GHtOlNCV6p6JOiG82+5+dD7DrYGGt25SqMvsm34ACUJBla6mMfhTys6DHGEjrX3977nJb+dEVBeU1qkV2ONf22cy9G/Y4Xzbz9kKXUTD4DkgdAJG+87hUNQ0qKqh6psSzetdhv9v6t2/ZyGejTjkFB2qvJw929FaHc+G0Pt7rKypgz3IbADwnRRYdgpcugf3r7HJUSwiPs4+4uo22ZYdfHQuFNb4M7fwWbngnMNfUxGlQUUE1fVwfpry5go1Z+bSKCSe3sBS3sbP2n5moI75UPcqL7CissgL/22PbQFKNEYk7voE5U6ozFqf0hXaDoedYW+SrMqCADTJXPW8Dyt5VMGOE//dpe+bxX0szoUFFVamoMJS6KwJaP7572zj+e88IjhSX0SIyjOIyN6XuClpE1j3fRSkA3p7kP6CEhkFKf5ueZdZPbfDpfilsWwgbPvLed+9K+7PkOehxhW9bBTl2YuTSf/s/h+SecPmTx30pzYUGFQXAx2v28fCcTHLySzi/ezLDuiaSW1TKwA6tGdy59XEP/a0MIpFhoQENWqoJKzgAu5f63+Yug5R0mHdX9bptX9XdnqmADZ8CQtUQ4bBoOLIXnu5n+2Vq0lxfDaZBRXG4sJR7Zq2qqsQ4f30289dnO1s3M7xbEjMnne2Tul6poIqMh9i2taRLofY7i7pUVooMDbcTJssKYcG02vffX88sfeVD07QoNmbl+5T29bRw437+V8coroYoc1fwwco9PJOxiY1ZWgNc1SHUBVc+bSc7AvYOw9H5Av9p7OUo/6TVVm64Jq2j0mB6p6LoldKCuEgXecW115o4XHiUv4T1uP0/y/linb0L+vv8Tbzys4EM6ZwYkLZVE9TtIrh3nX1EJQLrP7LzRs64HP6RDrm7vfc/53abC6zwAGz+vPZ2JbT+xJBh0ZDYzabCb9Pz+K+lmdA7FUVMhIsXbhzAmanxxEe5qNl9khgbzgVnJB/3+2zZn18VUADK3IaXvt5+3O2qJs4VAa06QssOMPhO6HWV7agf+EvffcuL4Orn4drX7OMzT7FOueqYJBgyue737DDcPhpb/Aw8NxTW6HDio6V3KgqAQZ1aV81uz9yby4tfb2N7TgF90hK49dyOxB3jaK0t+/N54L01/LAnl7PSfKs5auovVa/t39giWfnZdrTXiPvtB8ffRMcYJ0N2WBSMfdZOYizIhtPPsTnBXJF2LkpBti3Y5Y8rEnZ7ZNkwFbDwL3Dm+MBfWxOkQUX56JUSzxM/Sa9zn+IyN499vI6MDdl0TY7jwct60Ckp1me/X725ksy9RwBYvPUAyXERZOfZztLw0BBuHdYx8Begmo6iwzbnV2m+Xf7yUZu3a8DN0H4I9LgS1s2x21p1hrNvqz72jMts/ZXiXJva3lPNx2aV4k6DUY/Ah3d4ry8vCcz1NAMaVNQx+ctnG3hl8Q4Adh0sYufBQj6/Z7jX0OOCkvKqgFKpzF3BPyf2Y/ehQkb1bOM3EClVZffS6oBSaUuGDSpgH3PtWW4DR4dz7WMxT6Eu34ACdkJkfDvI3Vm97vKnoP8kexe0e6ktN1xp0B0+TSj/NKioY/LVRu8kkZuz89lzuMgrNX5MhItubWLZmFX9R6Fvu5Zc1kdLsaqjlNzDt1O95uz21KPI91VTaBjc9CF8Nd3etfQeVx2oAC7+M7Q7B/atho4joMuFx3b+zZB21KtjckaNlPWtY8JJjov02e/vE/rSK8Um4BvUqRXTxvZulPNTTUR8Glz2V4iIBwS6X2Y76wOhVSe46jmYNM87oICtYd97HIyaqgGlgTT1vaa+PyZ7Dxdx+3+Ws3p3LklxEUwf14fz6xghVlFhdPKkOnblJVBWZBM/qpOCpr5XAZWSEMWHk4eRk19CQlQYrtC6b3o1oKjj4oqwP+qkF/THXyJysYhsEJHNIvJbP9sjRGSWs32JiHTw2PaAs36DiIyur00R6ei0sdlpMzzY19fcJcZG1BtQlGo0WzLg0wdg+UwoD8yEXdUwQf1rICKhwD+BS4CewHUiUnNq6i3AIWNMF+BJ4HHn2J7ABKAXcDHwLxEJrafNx4EnnbYOOW0rpZqDFa/Ba1fBt/+CuXfB+7840WfULAX7K+ZAYLMxZqsxphR4CxhTY58xwCvO63eAC8WOSx0DvGWMKTHGbAM2O+35bdM55gKnDZw2xwbx2pRSJ5PvZngvZ75v09qrRhXsoJIK7PJY3u2s87uPMaYcyAVa13FsbetbA4edNmp7LwBE5OciskxElu3f779+ulLqFBMW7b0cGuY7b0UFXbN8GG6MmWGMGWCMGZCUlHSiT0cpFQgjfgMhHkFk8J2++b9U0AV79Nce4HSP5TRnnb99douIC4gHDtRzrL/1B4AEEXE5dyv+3ksp1VR1GQlTlsPWBZDUw05eVI0u2HcqS4GuzqiscGzH+5wa+8wBbnJejwcyjJ08MweY4IwO6wh0Bb6rrU3nmAVOGzhtfhjEa1NKnWxatrepVjSgnDBBvVMxxpSLyGTgMyAUeMkYkykiU4Flxpg5wIvAayKyGTiIDRI4+80G1gLlwJ3G2FwN/tp03vL/gLdEZBqw0mlbKaVUI9EZ9TqjXimlGqy2GfXNsqNeKaVUcGhQUUopFTAaVJRSSgWMBhWllFIB0+w76kVkP7DjRJ9HE5EIaF4MdbLSz2dgtTfG+Mweb/ZBRQWOiCzzNxpEqZOBfj4bhz7+UkopFTAaVJRSSgWMBhUVSDPq30WpE0Y/n41A+1SUUkoFjN6pKKWUChgNKkoppQIm2PVU1ClORNzAGo9VY40x22vZN98YE9soJ6YUICKtgfnOYlvADVSWcx3olBxXjUj7VFSdGhIoNKioE0lEHgbyjTF/9Vjn8igxrhqBPv5SDSIisSIyX0RWiMgaERnjZ5/TRGShiKwSkR9E5Fxn/UUistg59m0R0QCkAk5EZorIcyKyBJguIg+LyK89tv8gIh2c1zeIyHfOZ/V5EQk9QafdZGhQUfWJcn7hVonI+0AxcJUxph9wPvA3EZEax0wEPjPGpANnAatEJBF4EBjpHLsMuLfxLkM1M2nAEGNMrZ8xEekBXAsMdT6rbuD6Rjq/Jkv7VFR9ipxfOABEJAx4VESGAxVAKtAG+NHjmKXAS86+HxhjVonICKAn8I0Tg8KBxY10Dar5ebuyUmwdLgT6A0udz2QUkB3sE2vqNKiohroeSAL6G2PKRGQ7EOm5gzFmoRN0LgNmisgTwCHgc2PMdY19wqpZKvB4XY73U5nKz6sArxhjHmi0s2oG9PGXaqh4INsJKOcD7WvuICLtgSxjzAvAv4F+wLfAUBHp4uwTIyLdGvG8VfO1HfsZRET6AR2d9fOB8SKS7Gxr5Xx21XHQOxXVUK8Dc0VkDbZfZL2ffc4DfiMiZUA+cKMxZr+ITALeFJEIZ78HgY3BP2XVzL0L3CgimcASnM+cMWatiDwI/FdEQoAy4E60FMZx0SHFSimlAkYffymllAoYDSpKKaUCRoOKUkqpgNGgopRSKmA0qCillAoYDSpKnaREJF1ELj2K/fIb43yUOhoaVJQ6eaUD9QYVpU4mGlSUCiIR6SAi653MuRtF5HURGSki34jIJhEZ6PwsFpGVIrJIRLqLSDgwFbjWSeZ5rZMh+mUnO/T3IjLO433+JCKrReRbEWlz4q5YNXc6+VGpIHJSrG8G+gKZ2GSbq4FbgCuBm4EbgUJjTLmIjARuN8aMczIQDDDGTHbaehyIMMbc7Sy3NMYcEhEDXGmMmSsi04EjxphpjXmdSlXSNC1KBd82Y8waACdVyHxjjHFS3XTA5lN7RUS6AgYIq6WdkcCEygVjzCHnZSkwz3m9HBgV8CtQ6ijp4y+lgq/E43WFx3IF9ovdI8ACY0xv4ApqZH0+CmWm+pGDG/2yqE4gDSpKnXjxwB7n9SSP9XlAnMfy59iEh4B9/BX0M1OqgTSoKHXiTQceE5GVeN9lLAB6VnbUA9OAlk453NXYyptKnVS0o14ppVTA6J2KUkqpgNGgopRSKmA0qCillAoYDSpKKaUCRoOKUkqpgNGgopRSKmA0qCillAqY/wcTIuSFKsiqTgAAAABJRU5ErkJggg==\n"
          },
          "metadata": {
            "needs_background": "light"
          }
        }
      ]
    },
    {
      "cell_type": "code",
      "source": [
        "print('There are',len(pairs.loc[(pairs.location_diff==0) & (pairs.match==False)]),'pairs with location_diff=0 but different POIs, out of all',len(pairs),'pairs.')"
      ],
      "metadata": {
        "colab": {
          "base_uri": "https://localhost:8080/"
        },
        "id": "6DlOAlWhhQHM",
        "outputId": "abb62ec9-bdaa-4a30-ca89-3046ae021f3c"
      },
      "execution_count": 125,
      "outputs": [
        {
          "output_type": "stream",
          "name": "stdout",
          "text": [
            "There are 574 pairs with location_diff=0 but different POIs, out of all 578907 pairs.\n"
          ]
        }
      ]
    },
    {
      "cell_type": "code",
      "source": [
        "pairs.loc[(pairs.country_1=='NZ') & (pairs.location_diff>5)].values"
      ],
      "metadata": {
        "colab": {
          "base_uri": "https://localhost:8080/"
        },
        "id": "sKU0SDovcmji",
        "outputId": "9bb49d2f-fe18-4005-a7aa-0aba3df0b30d"
      },
      "execution_count": 126,
      "outputs": [
        {
          "output_type": "execute_result",
          "data": {
            "text/plain": [
              "array([['E_e4da3f6a7ad158', 'Aoraki Mount Cook', -43.73289364636436,\n",
              "        170.09544602116455, 'Mt Cook National Park',\n",
              "        'Mount Cook Village', 'Canterbury', nan, 'NZ',\n",
              "        'http://www.doc.govt.nz', nan, 'Mountains', 'E_faaaf010fbdf76',\n",
              "        'Mt. Cook', -38.13113938012586, 176.24823588915947, nan, nan,\n",
              "        nan, nan, 'NZ', nan, nan, 'Mountains', True, 6.152789867994926,\n",
              "        0.4545454545454546, -1.0, -1.0, -1.0]], dtype=object)"
            ]
          },
          "metadata": {},
          "execution_count": 126
        }
      ]
    },
    {
      "cell_type": "markdown",
      "source": [
        "### Name\n",
        "\n",
        "---\n",
        "\n",
        "We compute the difference for names of each pair in `pairs.csv`. "
      ],
      "metadata": {
        "id": "dyq-Ele_tUdk"
      }
    },
    {
      "cell_type": "code",
      "source": [
        "pairs['name_diff'] = pairs.apply(sim_metric,\n",
        "                          args=('name_1', 'name_2'),\n",
        "                          axis=1)"
      ],
      "metadata": {
        "id": "I0MikHep2rW-"
      },
      "execution_count": 92,
      "outputs": []
    },
    {
      "cell_type": "code",
      "source": [
        "sns.stripplot(x=\"match\", y=\"name_diff\", data=pairs.loc[pairs.country_1=='NZ'])\n",
        "plt.show()"
      ],
      "metadata": {
        "colab": {
          "base_uri": "https://localhost:8080/",
          "height": 279
        },
        "id": "9By4VxpsyqXo",
        "outputId": "59c584e5-72d8-480a-e78d-b6ceb4708d64"
      },
      "execution_count": 93,
      "outputs": [
        {
          "output_type": "display_data",
          "data": {
            "text/plain": [
              "<Figure size 432x288 with 1 Axes>"
            ],
            "image/png": "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\n"
          },
          "metadata": {
            "needs_background": "light"
          }
        }
      ]
    },
    {
      "cell_type": "code",
      "source": [
        "sns.stripplot(x=\"match\", y=\"name_diff\", data=pairs.loc[(pairs.country_1=='NZ') & (pairs.name_diff<0.1)])\n",
        "plt.show()"
      ],
      "metadata": {
        "colab": {
          "base_uri": "https://localhost:8080/",
          "height": 279
        },
        "id": "XImegvFXwQRw",
        "outputId": "8e7f83fa-a837-420e-e0d6-e1e9a87c521f"
      },
      "execution_count": 94,
      "outputs": [
        {
          "output_type": "display_data",
          "data": {
            "text/plain": [
              "<Figure size 432x288 with 1 Axes>"
            ],
            "image/png": "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\n"
          },
          "metadata": {
            "needs_background": "light"
          }
        }
      ]
    },
    {
      "cell_type": "code",
      "source": [
        "pairs.loc[(pairs.location_diff<0.01)&(pairs.name_diff==0)&(pairs.match==False)][['name_1','name_2']]"
      ],
      "metadata": {
        "colab": {
          "base_uri": "https://localhost:8080/",
          "height": 423
        },
        "id": "tReb11xB0XT4",
        "outputId": "e44111ab-19d7-43a4-f26e-0c190e7c1906"
      },
      "execution_count": 95,
      "outputs": [
        {
          "output_type": "execute_result",
          "data": {
            "text/plain": [
              "                            name_1                      name_2\n",
              "1                         Turkcell                    Turkcell\n",
              "4                       Coffee Cat                   Coffeecat\n",
              "37                      Kipa Extra                  Kipa Extra\n",
              "94                       Рубль бум                   Рубль Бум\n",
              "151                           LiHO                        LiHO\n",
              "...                            ...                         ...\n",
              "578607                        Cosi                        Cosi\n",
              "578614                         ПЭК                         ПЭК\n",
              "578773  The Coffee Bean & Tea Leaf  The Coffee Bean & Tea Leaf\n",
              "578894                    7-Eleven                    7-Eleven\n",
              "578895                   WESTLOTTO                   WESTLOTTO\n",
              "\n",
              "[13352 rows x 2 columns]"
            ],
            "text/html": [
              "\n",
              "  <div id=\"df-1a33a0a6-1fc7-40b2-a524-aa4a01616eeb\">\n",
              "    <div class=\"colab-df-container\">\n",
              "      <div>\n",
              "<style scoped>\n",
              "    .dataframe tbody tr th:only-of-type {\n",
              "        vertical-align: middle;\n",
              "    }\n",
              "\n",
              "    .dataframe tbody tr th {\n",
              "        vertical-align: top;\n",
              "    }\n",
              "\n",
              "    .dataframe thead th {\n",
              "        text-align: right;\n",
              "    }\n",
              "</style>\n",
              "<table border=\"1\" class=\"dataframe\">\n",
              "  <thead>\n",
              "    <tr style=\"text-align: right;\">\n",
              "      <th></th>\n",
              "      <th>name_1</th>\n",
              "      <th>name_2</th>\n",
              "    </tr>\n",
              "  </thead>\n",
              "  <tbody>\n",
              "    <tr>\n",
              "      <th>1</th>\n",
              "      <td>Turkcell</td>\n",
              "      <td>Turkcell</td>\n",
              "    </tr>\n",
              "    <tr>\n",
              "      <th>4</th>\n",
              "      <td>Coffee Cat</td>\n",
              "      <td>Coffeecat</td>\n",
              "    </tr>\n",
              "    <tr>\n",
              "      <th>37</th>\n",
              "      <td>Kipa Extra</td>\n",
              "      <td>Kipa Extra</td>\n",
              "    </tr>\n",
              "    <tr>\n",
              "      <th>94</th>\n",
              "      <td>Рубль бум</td>\n",
              "      <td>Рубль Бум</td>\n",
              "    </tr>\n",
              "    <tr>\n",
              "      <th>151</th>\n",
              "      <td>LiHO</td>\n",
              "      <td>LiHO</td>\n",
              "    </tr>\n",
              "    <tr>\n",
              "      <th>...</th>\n",
              "      <td>...</td>\n",
              "      <td>...</td>\n",
              "    </tr>\n",
              "    <tr>\n",
              "      <th>578607</th>\n",
              "      <td>Cosi</td>\n",
              "      <td>Cosi</td>\n",
              "    </tr>\n",
              "    <tr>\n",
              "      <th>578614</th>\n",
              "      <td>ПЭК</td>\n",
              "      <td>ПЭК</td>\n",
              "    </tr>\n",
              "    <tr>\n",
              "      <th>578773</th>\n",
              "      <td>The Coffee Bean &amp; Tea Leaf</td>\n",
              "      <td>The Coffee Bean &amp; Tea Leaf</td>\n",
              "    </tr>\n",
              "    <tr>\n",
              "      <th>578894</th>\n",
              "      <td>7-Eleven</td>\n",
              "      <td>7-Eleven</td>\n",
              "    </tr>\n",
              "    <tr>\n",
              "      <th>578895</th>\n",
              "      <td>WESTLOTTO</td>\n",
              "      <td>WESTLOTTO</td>\n",
              "    </tr>\n",
              "  </tbody>\n",
              "</table>\n",
              "<p>13352 rows × 2 columns</p>\n",
              "</div>\n",
              "      <button class=\"colab-df-convert\" onclick=\"convertToInteractive('df-1a33a0a6-1fc7-40b2-a524-aa4a01616eeb')\"\n",
              "              title=\"Convert this dataframe to an interactive table.\"\n",
              "              style=\"display:none;\">\n",
              "        \n",
              "  <svg xmlns=\"http://www.w3.org/2000/svg\" height=\"24px\"viewBox=\"0 0 24 24\"\n",
              "       width=\"24px\">\n",
              "    <path d=\"M0 0h24v24H0V0z\" fill=\"none\"/>\n",
              "    <path d=\"M18.56 5.44l.94 2.06.94-2.06 2.06-.94-2.06-.94-.94-2.06-.94 2.06-2.06.94zm-11 1L8.5 8.5l.94-2.06 2.06-.94-2.06-.94L8.5 2.5l-.94 2.06-2.06.94zm10 10l.94 2.06.94-2.06 2.06-.94-2.06-.94-.94-2.06-.94 2.06-2.06.94z\"/><path d=\"M17.41 7.96l-1.37-1.37c-.4-.4-.92-.59-1.43-.59-.52 0-1.04.2-1.43.59L10.3 9.45l-7.72 7.72c-.78.78-.78 2.05 0 2.83L4 21.41c.39.39.9.59 1.41.59.51 0 1.02-.2 1.41-.59l7.78-7.78 2.81-2.81c.8-.78.8-2.07 0-2.86zM5.41 20L4 18.59l7.72-7.72 1.47 1.35L5.41 20z\"/>\n",
              "  </svg>\n",
              "      </button>\n",
              "      \n",
              "  <style>\n",
              "    .colab-df-container {\n",
              "      display:flex;\n",
              "      flex-wrap:wrap;\n",
              "      gap: 12px;\n",
              "    }\n",
              "\n",
              "    .colab-df-convert {\n",
              "      background-color: #E8F0FE;\n",
              "      border: none;\n",
              "      border-radius: 50%;\n",
              "      cursor: pointer;\n",
              "      display: none;\n",
              "      fill: #1967D2;\n",
              "      height: 32px;\n",
              "      padding: 0 0 0 0;\n",
              "      width: 32px;\n",
              "    }\n",
              "\n",
              "    .colab-df-convert:hover {\n",
              "      background-color: #E2EBFA;\n",
              "      box-shadow: 0px 1px 2px rgba(60, 64, 67, 0.3), 0px 1px 3px 1px rgba(60, 64, 67, 0.15);\n",
              "      fill: #174EA6;\n",
              "    }\n",
              "\n",
              "    [theme=dark] .colab-df-convert {\n",
              "      background-color: #3B4455;\n",
              "      fill: #D2E3FC;\n",
              "    }\n",
              "\n",
              "    [theme=dark] .colab-df-convert:hover {\n",
              "      background-color: #434B5C;\n",
              "      box-shadow: 0px 1px 3px 1px rgba(0, 0, 0, 0.15);\n",
              "      filter: drop-shadow(0px 1px 2px rgba(0, 0, 0, 0.3));\n",
              "      fill: #FFFFFF;\n",
              "    }\n",
              "  </style>\n",
              "\n",
              "      <script>\n",
              "        const buttonEl =\n",
              "          document.querySelector('#df-1a33a0a6-1fc7-40b2-a524-aa4a01616eeb button.colab-df-convert');\n",
              "        buttonEl.style.display =\n",
              "          google.colab.kernel.accessAllowed ? 'block' : 'none';\n",
              "\n",
              "        async function convertToInteractive(key) {\n",
              "          const element = document.querySelector('#df-1a33a0a6-1fc7-40b2-a524-aa4a01616eeb');\n",
              "          const dataTable =\n",
              "            await google.colab.kernel.invokeFunction('convertToInteractive',\n",
              "                                                     [key], {});\n",
              "          if (!dataTable) return;\n",
              "\n",
              "          const docLinkHtml = 'Like what you see? Visit the ' +\n",
              "            '<a target=\"_blank\" href=https://colab.research.google.com/notebooks/data_table.ipynb>data table notebook</a>'\n",
              "            + ' to learn more about interactive tables.';\n",
              "          element.innerHTML = '';\n",
              "          dataTable['output_type'] = 'display_data';\n",
              "          await google.colab.output.renderOutput(dataTable, element);\n",
              "          const docLink = document.createElement('div');\n",
              "          docLink.innerHTML = docLinkHtml;\n",
              "          element.appendChild(docLink);\n",
              "        }\n",
              "      </script>\n",
              "    </div>\n",
              "  </div>\n",
              "  "
            ]
          },
          "metadata": {},
          "execution_count": 95
        }
      ]
    },
    {
      "cell_type": "code",
      "source": [
        "pairs.loc[pairs.name_1=='Turkcell']"
      ],
      "metadata": {
        "colab": {
          "base_uri": "https://localhost:8080/",
          "height": 438
        },
        "id": "pCUkjnTx20-a",
        "outputId": "17edb776-7420-4d91-8955-b96f0eba69fa"
      },
      "execution_count": 96,
      "outputs": [
        {
          "output_type": "execute_result",
          "data": {
            "text/plain": [
              "                    id_1    name_1  latitude_1  longitude_1  \\\n",
              "1       E_000008a8ba4f48  Turkcell   37.844510    27.844202   \n",
              "43268   E_13399d0868886d  Turkcell   38.455899    27.118820   \n",
              "263706  E_744ad2ebec744d  Turkcell   40.983061    29.132542   \n",
              "305574  E_86e160273c83bb  Turkcell   38.723480    35.496717   \n",
              "385307  E_aa2cc5e2aa773e  Turkcell   36.863923    30.728908   \n",
              "\n",
              "                                        address_1     city_1   state_1  zip_1  \\\n",
              "1                          Adnan Menderes Bulvarı        NaN       NaN    NaN   \n",
              "43268                                         NaN        NaN       NaN    NaN   \n",
              "263706  Küçükbakkalköy Mah. Dudullu Cad. No:23-25   Ataşehir  Atasehir  34750   \n",
              "305574              Hunat Mah. Sivas Cad. No:24/1  Melikgazi   Kayseri  38140   \n",
              "385307                                        NaN        NaN       NaN    NaN   \n",
              "\n",
              "       country_1                       url_1  ... country_2 url_2 phone_2  \\\n",
              "1             TR                         NaN  ...        TR   NaN     NaN   \n",
              "43268         TR                         NaN  ...        TR   NaN     NaN   \n",
              "263706        TR                         NaN  ...        TR   NaN     NaN   \n",
              "305574        TR  http://www.turkcell.com.tr  ...        TR   NaN     NaN   \n",
              "385307        TR                         NaN  ...        TR   NaN     NaN   \n",
              "\n",
              "                categories_2  match  location_diff name_diff address_diff  \\\n",
              "1         Electronics Stores  False       0.006490  0.000000     0.793103   \n",
              "43268   Distribution Centers  False       0.003390  0.000000    -1.000000   \n",
              "263706    Mobile Phone Shops   True       0.001002  0.407407    -1.000000   \n",
              "305574    Electronics Stores   True       0.000082  0.238095    -1.000000   \n",
              "385307    Mobile Phone Shops   True       0.000477  0.000000    -1.000000   \n",
              "\n",
              "       city_diff zip_diff  \n",
              "1           -1.0     -1.0  \n",
              "43268       -1.0     -1.0  \n",
              "263706      -1.0     -1.0  \n",
              "305574      -1.0     -1.0  \n",
              "385307      -1.0     -1.0  \n",
              "\n",
              "[5 rows x 30 columns]"
            ],
            "text/html": [
              "\n",
              "  <div id=\"df-0f1b8ca5-a541-4989-b5e5-40727a77c16b\">\n",
              "    <div class=\"colab-df-container\">\n",
              "      <div>\n",
              "<style scoped>\n",
              "    .dataframe tbody tr th:only-of-type {\n",
              "        vertical-align: middle;\n",
              "    }\n",
              "\n",
              "    .dataframe tbody tr th {\n",
              "        vertical-align: top;\n",
              "    }\n",
              "\n",
              "    .dataframe thead th {\n",
              "        text-align: right;\n",
              "    }\n",
              "</style>\n",
              "<table border=\"1\" class=\"dataframe\">\n",
              "  <thead>\n",
              "    <tr style=\"text-align: right;\">\n",
              "      <th></th>\n",
              "      <th>id_1</th>\n",
              "      <th>name_1</th>\n",
              "      <th>latitude_1</th>\n",
              "      <th>longitude_1</th>\n",
              "      <th>address_1</th>\n",
              "      <th>city_1</th>\n",
              "      <th>state_1</th>\n",
              "      <th>zip_1</th>\n",
              "      <th>country_1</th>\n",
              "      <th>url_1</th>\n",
              "      <th>...</th>\n",
              "      <th>country_2</th>\n",
              "      <th>url_2</th>\n",
              "      <th>phone_2</th>\n",
              "      <th>categories_2</th>\n",
              "      <th>match</th>\n",
              "      <th>location_diff</th>\n",
              "      <th>name_diff</th>\n",
              "      <th>address_diff</th>\n",
              "      <th>city_diff</th>\n",
              "      <th>zip_diff</th>\n",
              "    </tr>\n",
              "  </thead>\n",
              "  <tbody>\n",
              "    <tr>\n",
              "      <th>1</th>\n",
              "      <td>E_000008a8ba4f48</td>\n",
              "      <td>Turkcell</td>\n",
              "      <td>37.844510</td>\n",
              "      <td>27.844202</td>\n",
              "      <td>Adnan Menderes Bulvarı</td>\n",
              "      <td>NaN</td>\n",
              "      <td>NaN</td>\n",
              "      <td>NaN</td>\n",
              "      <td>TR</td>\n",
              "      <td>NaN</td>\n",
              "      <td>...</td>\n",
              "      <td>TR</td>\n",
              "      <td>NaN</td>\n",
              "      <td>NaN</td>\n",
              "      <td>Electronics Stores</td>\n",
              "      <td>False</td>\n",
              "      <td>0.006490</td>\n",
              "      <td>0.000000</td>\n",
              "      <td>0.793103</td>\n",
              "      <td>-1.0</td>\n",
              "      <td>-1.0</td>\n",
              "    </tr>\n",
              "    <tr>\n",
              "      <th>43268</th>\n",
              "      <td>E_13399d0868886d</td>\n",
              "      <td>Turkcell</td>\n",
              "      <td>38.455899</td>\n",
              "      <td>27.118820</td>\n",
              "      <td>NaN</td>\n",
              "      <td>NaN</td>\n",
              "      <td>NaN</td>\n",
              "      <td>NaN</td>\n",
              "      <td>TR</td>\n",
              "      <td>NaN</td>\n",
              "      <td>...</td>\n",
              "      <td>TR</td>\n",
              "      <td>NaN</td>\n",
              "      <td>NaN</td>\n",
              "      <td>Distribution Centers</td>\n",
              "      <td>False</td>\n",
              "      <td>0.003390</td>\n",
              "      <td>0.000000</td>\n",
              "      <td>-1.000000</td>\n",
              "      <td>-1.0</td>\n",
              "      <td>-1.0</td>\n",
              "    </tr>\n",
              "    <tr>\n",
              "      <th>263706</th>\n",
              "      <td>E_744ad2ebec744d</td>\n",
              "      <td>Turkcell</td>\n",
              "      <td>40.983061</td>\n",
              "      <td>29.132542</td>\n",
              "      <td>Küçükbakkalköy Mah. Dudullu Cad. No:23-25</td>\n",
              "      <td>Ataşehir</td>\n",
              "      <td>Atasehir</td>\n",
              "      <td>34750</td>\n",
              "      <td>TR</td>\n",
              "      <td>NaN</td>\n",
              "      <td>...</td>\n",
              "      <td>TR</td>\n",
              "      <td>NaN</td>\n",
              "      <td>NaN</td>\n",
              "      <td>Mobile Phone Shops</td>\n",
              "      <td>True</td>\n",
              "      <td>0.001002</td>\n",
              "      <td>0.407407</td>\n",
              "      <td>-1.000000</td>\n",
              "      <td>-1.0</td>\n",
              "      <td>-1.0</td>\n",
              "    </tr>\n",
              "    <tr>\n",
              "      <th>305574</th>\n",
              "      <td>E_86e160273c83bb</td>\n",
              "      <td>Turkcell</td>\n",
              "      <td>38.723480</td>\n",
              "      <td>35.496717</td>\n",
              "      <td>Hunat Mah. Sivas Cad. No:24/1</td>\n",
              "      <td>Melikgazi</td>\n",
              "      <td>Kayseri</td>\n",
              "      <td>38140</td>\n",
              "      <td>TR</td>\n",
              "      <td>http://www.turkcell.com.tr</td>\n",
              "      <td>...</td>\n",
              "      <td>TR</td>\n",
              "      <td>NaN</td>\n",
              "      <td>NaN</td>\n",
              "      <td>Electronics Stores</td>\n",
              "      <td>True</td>\n",
              "      <td>0.000082</td>\n",
              "      <td>0.238095</td>\n",
              "      <td>-1.000000</td>\n",
              "      <td>-1.0</td>\n",
              "      <td>-1.0</td>\n",
              "    </tr>\n",
              "    <tr>\n",
              "      <th>385307</th>\n",
              "      <td>E_aa2cc5e2aa773e</td>\n",
              "      <td>Turkcell</td>\n",
              "      <td>36.863923</td>\n",
              "      <td>30.728908</td>\n",
              "      <td>NaN</td>\n",
              "      <td>NaN</td>\n",
              "      <td>NaN</td>\n",
              "      <td>NaN</td>\n",
              "      <td>TR</td>\n",
              "      <td>NaN</td>\n",
              "      <td>...</td>\n",
              "      <td>TR</td>\n",
              "      <td>NaN</td>\n",
              "      <td>NaN</td>\n",
              "      <td>Mobile Phone Shops</td>\n",
              "      <td>True</td>\n",
              "      <td>0.000477</td>\n",
              "      <td>0.000000</td>\n",
              "      <td>-1.000000</td>\n",
              "      <td>-1.0</td>\n",
              "      <td>-1.0</td>\n",
              "    </tr>\n",
              "  </tbody>\n",
              "</table>\n",
              "<p>5 rows × 30 columns</p>\n",
              "</div>\n",
              "      <button class=\"colab-df-convert\" onclick=\"convertToInteractive('df-0f1b8ca5-a541-4989-b5e5-40727a77c16b')\"\n",
              "              title=\"Convert this dataframe to an interactive table.\"\n",
              "              style=\"display:none;\">\n",
              "        \n",
              "  <svg xmlns=\"http://www.w3.org/2000/svg\" height=\"24px\"viewBox=\"0 0 24 24\"\n",
              "       width=\"24px\">\n",
              "    <path d=\"M0 0h24v24H0V0z\" fill=\"none\"/>\n",
              "    <path d=\"M18.56 5.44l.94 2.06.94-2.06 2.06-.94-2.06-.94-.94-2.06-.94 2.06-2.06.94zm-11 1L8.5 8.5l.94-2.06 2.06-.94-2.06-.94L8.5 2.5l-.94 2.06-2.06.94zm10 10l.94 2.06.94-2.06 2.06-.94-2.06-.94-.94-2.06-.94 2.06-2.06.94z\"/><path d=\"M17.41 7.96l-1.37-1.37c-.4-.4-.92-.59-1.43-.59-.52 0-1.04.2-1.43.59L10.3 9.45l-7.72 7.72c-.78.78-.78 2.05 0 2.83L4 21.41c.39.39.9.59 1.41.59.51 0 1.02-.2 1.41-.59l7.78-7.78 2.81-2.81c.8-.78.8-2.07 0-2.86zM5.41 20L4 18.59l7.72-7.72 1.47 1.35L5.41 20z\"/>\n",
              "  </svg>\n",
              "      </button>\n",
              "      \n",
              "  <style>\n",
              "    .colab-df-container {\n",
              "      display:flex;\n",
              "      flex-wrap:wrap;\n",
              "      gap: 12px;\n",
              "    }\n",
              "\n",
              "    .colab-df-convert {\n",
              "      background-color: #E8F0FE;\n",
              "      border: none;\n",
              "      border-radius: 50%;\n",
              "      cursor: pointer;\n",
              "      display: none;\n",
              "      fill: #1967D2;\n",
              "      height: 32px;\n",
              "      padding: 0 0 0 0;\n",
              "      width: 32px;\n",
              "    }\n",
              "\n",
              "    .colab-df-convert:hover {\n",
              "      background-color: #E2EBFA;\n",
              "      box-shadow: 0px 1px 2px rgba(60, 64, 67, 0.3), 0px 1px 3px 1px rgba(60, 64, 67, 0.15);\n",
              "      fill: #174EA6;\n",
              "    }\n",
              "\n",
              "    [theme=dark] .colab-df-convert {\n",
              "      background-color: #3B4455;\n",
              "      fill: #D2E3FC;\n",
              "    }\n",
              "\n",
              "    [theme=dark] .colab-df-convert:hover {\n",
              "      background-color: #434B5C;\n",
              "      box-shadow: 0px 1px 3px 1px rgba(0, 0, 0, 0.15);\n",
              "      filter: drop-shadow(0px 1px 2px rgba(0, 0, 0, 0.3));\n",
              "      fill: #FFFFFF;\n",
              "    }\n",
              "  </style>\n",
              "\n",
              "      <script>\n",
              "        const buttonEl =\n",
              "          document.querySelector('#df-0f1b8ca5-a541-4989-b5e5-40727a77c16b button.colab-df-convert');\n",
              "        buttonEl.style.display =\n",
              "          google.colab.kernel.accessAllowed ? 'block' : 'none';\n",
              "\n",
              "        async function convertToInteractive(key) {\n",
              "          const element = document.querySelector('#df-0f1b8ca5-a541-4989-b5e5-40727a77c16b');\n",
              "          const dataTable =\n",
              "            await google.colab.kernel.invokeFunction('convertToInteractive',\n",
              "                                                     [key], {});\n",
              "          if (!dataTable) return;\n",
              "\n",
              "          const docLinkHtml = 'Like what you see? Visit the ' +\n",
              "            '<a target=\"_blank\" href=https://colab.research.google.com/notebooks/data_table.ipynb>data table notebook</a>'\n",
              "            + ' to learn more about interactive tables.';\n",
              "          element.innerHTML = '';\n",
              "          dataTable['output_type'] = 'display_data';\n",
              "          await google.colab.output.renderOutput(dataTable, element);\n",
              "          const docLink = document.createElement('div');\n",
              "          docLink.innerHTML = docLinkHtml;\n",
              "          element.appendChild(docLink);\n",
              "        }\n",
              "      </script>\n",
              "    </div>\n",
              "  </div>\n",
              "  "
            ]
          },
          "metadata": {},
          "execution_count": 96
        }
      ]
    },
    {
      "cell_type": "markdown",
      "source": [
        "### Address"
      ],
      "metadata": {
        "id": "TNLatSS55NQ-"
      }
    },
    {
      "cell_type": "code",
      "source": [
        "pairs['address_diff'] = pairs.apply(sim_metric,\n",
        "                          args=('address_1', 'address_2'),\n",
        "                          axis=1)"
      ],
      "metadata": {
        "id": "DT6QUtHb3Btp"
      },
      "execution_count": 97,
      "outputs": []
    },
    {
      "cell_type": "code",
      "source": [
        "sns.stripplot(x=\"match\", y=\"address_diff\", data=pairs.loc[pairs.country_1=='NZ'])\n",
        "plt.show()"
      ],
      "metadata": {
        "colab": {
          "base_uri": "https://localhost:8080/",
          "height": 0
        },
        "id": "gEyh32Hy5G3j",
        "outputId": "1d3fc0eb-d5f5-474b-b43b-ac55fb4e370e"
      },
      "execution_count": 98,
      "outputs": [
        {
          "output_type": "display_data",
          "data": {
            "text/plain": [
              "<Figure size 432x288 with 1 Axes>"
            ],
            "image/png": "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\n"
          },
          "metadata": {
            "needs_background": "light"
          }
        }
      ]
    },
    {
      "cell_type": "code",
      "source": [
        "sns.stripplot(x=\"match\", y=\"address_diff\", data=pairs.loc[(pairs.country_1=='NZ')&(pairs.address_diff>=0)])\n",
        "plt.show()"
      ],
      "metadata": {
        "colab": {
          "base_uri": "https://localhost:8080/",
          "height": 0
        },
        "id": "61qiJkbJ5VQT",
        "outputId": "d2047994-256b-4dc6-8e2e-0caa506deb23"
      },
      "execution_count": 99,
      "outputs": [
        {
          "output_type": "display_data",
          "data": {
            "text/plain": [
              "<Figure size 432x288 with 1 Axes>"
            ],
            "image/png": "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\n"
          },
          "metadata": {
            "needs_background": "light"
          }
        }
      ]
    },
    {
      "cell_type": "code",
      "source": [
        "pairs.loc[(pairs.location_diff<0.01)&(pairs.name_diff<0.1)&(pairs.address_diff==0)&(pairs.match==False)&(pairs.country_1=='US')][['name_1','name_2','address_1','address_2']]"
      ],
      "metadata": {
        "colab": {
          "base_uri": "https://localhost:8080/",
          "height": 0
        },
        "id": "kBll3hel5SvN",
        "outputId": "bab8da88-7fa8-4e31-d41f-b2b8f24f0a52"
      },
      "execution_count": 100,
      "outputs": [
        {
          "output_type": "execute_result",
          "data": {
            "text/plain": [
              "                                      name_1  \\\n",
              "532          Parkview High School Building H   \n",
              "2526      Sprague Lake Rest Area (Westbound)   \n",
              "5315                             Section 304   \n",
              "5316                             Section 304   \n",
              "6259                Facebook 1050 Building 2   \n",
              "...                                      ...   \n",
              "571522               Conference Room HS 2007   \n",
              "572791   Mann Center for the Performing Arts   \n",
              "575350   Pozez Education Center Centennial D   \n",
              "576064  UCF Business Administration II (BA2)   \n",
              "578153        Gym @ Spinnaker Bay Apartments   \n",
              "\n",
              "                                            name_2  \\\n",
              "532                Parkview High School Building C   \n",
              "2526            Sprague Lake Rest Area (Eastbound)   \n",
              "5315                                   Section 305   \n",
              "5316                                   Section 308   \n",
              "6259                      Facebook 1050 Building 1   \n",
              "...                                            ...   \n",
              "571522                     Conference Room HS 2038   \n",
              "572791  Mann Center for the Performing Arts D Gate   \n",
              "575350         Pozez Education Center Centennial A   \n",
              "576064         UCF Business Administration I (BA1)   \n",
              "578153                    Spinnaker Bay Apartments   \n",
              "\n",
              "                                                address_1  \\\n",
              "532                        998 Cole Dr, Lilburn, GA 30047   \n",
              "2526                                        Interstate 90   \n",
              "5315                                       KeyBank Center   \n",
              "5316                                       KeyBank Center   \n",
              "6259                                    1050 Page Mill Rd   \n",
              "...                                                   ...   \n",
              "571522  Health Information and Translational Science (HS)   \n",
              "572791                                  5201 Parkside Ave   \n",
              "575350                                    1505 SW 8th Ave   \n",
              "576064                          4000 Central Florida Blvd   \n",
              "578153                                   707 President St   \n",
              "\n",
              "                                                address_2  \n",
              "532                        998 Cole Dr, Lilburn, GA 30047  \n",
              "2526                                        Interstate 90  \n",
              "5315                                       KeyBank Center  \n",
              "5316                                       KeyBank Center  \n",
              "6259                                    1050 Page Mill Rd  \n",
              "...                                                   ...  \n",
              "571522  Health Information and Translational Science (HS)  \n",
              "572791                                  5201 Parkside Ave  \n",
              "575350                                    1505 SW 8th Ave  \n",
              "576064                          4000 Central Florida Blvd  \n",
              "578153                                   707 President St  \n",
              "\n",
              "[375 rows x 4 columns]"
            ],
            "text/html": [
              "\n",
              "  <div id=\"df-34ce23b7-fb5c-4081-80b8-622650b5ab84\">\n",
              "    <div class=\"colab-df-container\">\n",
              "      <div>\n",
              "<style scoped>\n",
              "    .dataframe tbody tr th:only-of-type {\n",
              "        vertical-align: middle;\n",
              "    }\n",
              "\n",
              "    .dataframe tbody tr th {\n",
              "        vertical-align: top;\n",
              "    }\n",
              "\n",
              "    .dataframe thead th {\n",
              "        text-align: right;\n",
              "    }\n",
              "</style>\n",
              "<table border=\"1\" class=\"dataframe\">\n",
              "  <thead>\n",
              "    <tr style=\"text-align: right;\">\n",
              "      <th></th>\n",
              "      <th>name_1</th>\n",
              "      <th>name_2</th>\n",
              "      <th>address_1</th>\n",
              "      <th>address_2</th>\n",
              "    </tr>\n",
              "  </thead>\n",
              "  <tbody>\n",
              "    <tr>\n",
              "      <th>532</th>\n",
              "      <td>Parkview High School Building H</td>\n",
              "      <td>Parkview High School Building C</td>\n",
              "      <td>998 Cole Dr, Lilburn, GA 30047</td>\n",
              "      <td>998 Cole Dr, Lilburn, GA 30047</td>\n",
              "    </tr>\n",
              "    <tr>\n",
              "      <th>2526</th>\n",
              "      <td>Sprague Lake Rest Area (Westbound)</td>\n",
              "      <td>Sprague Lake Rest Area (Eastbound)</td>\n",
              "      <td>Interstate 90</td>\n",
              "      <td>Interstate 90</td>\n",
              "    </tr>\n",
              "    <tr>\n",
              "      <th>5315</th>\n",
              "      <td>Section 304</td>\n",
              "      <td>Section 305</td>\n",
              "      <td>KeyBank Center</td>\n",
              "      <td>KeyBank Center</td>\n",
              "    </tr>\n",
              "    <tr>\n",
              "      <th>5316</th>\n",
              "      <td>Section 304</td>\n",
              "      <td>Section 308</td>\n",
              "      <td>KeyBank Center</td>\n",
              "      <td>KeyBank Center</td>\n",
              "    </tr>\n",
              "    <tr>\n",
              "      <th>6259</th>\n",
              "      <td>Facebook 1050 Building 2</td>\n",
              "      <td>Facebook 1050 Building 1</td>\n",
              "      <td>1050 Page Mill Rd</td>\n",
              "      <td>1050 Page Mill Rd</td>\n",
              "    </tr>\n",
              "    <tr>\n",
              "      <th>...</th>\n",
              "      <td>...</td>\n",
              "      <td>...</td>\n",
              "      <td>...</td>\n",
              "      <td>...</td>\n",
              "    </tr>\n",
              "    <tr>\n",
              "      <th>571522</th>\n",
              "      <td>Conference Room HS 2007</td>\n",
              "      <td>Conference Room HS 2038</td>\n",
              "      <td>Health Information and Translational Science (HS)</td>\n",
              "      <td>Health Information and Translational Science (HS)</td>\n",
              "    </tr>\n",
              "    <tr>\n",
              "      <th>572791</th>\n",
              "      <td>Mann Center for the Performing Arts</td>\n",
              "      <td>Mann Center for the Performing Arts D Gate</td>\n",
              "      <td>5201 Parkside Ave</td>\n",
              "      <td>5201 Parkside Ave</td>\n",
              "    </tr>\n",
              "    <tr>\n",
              "      <th>575350</th>\n",
              "      <td>Pozez Education Center Centennial D</td>\n",
              "      <td>Pozez Education Center Centennial A</td>\n",
              "      <td>1505 SW 8th Ave</td>\n",
              "      <td>1505 SW 8th Ave</td>\n",
              "    </tr>\n",
              "    <tr>\n",
              "      <th>576064</th>\n",
              "      <td>UCF Business Administration II (BA2)</td>\n",
              "      <td>UCF Business Administration I (BA1)</td>\n",
              "      <td>4000 Central Florida Blvd</td>\n",
              "      <td>4000 Central Florida Blvd</td>\n",
              "    </tr>\n",
              "    <tr>\n",
              "      <th>578153</th>\n",
              "      <td>Gym @ Spinnaker Bay Apartments</td>\n",
              "      <td>Spinnaker Bay Apartments</td>\n",
              "      <td>707 President St</td>\n",
              "      <td>707 President St</td>\n",
              "    </tr>\n",
              "  </tbody>\n",
              "</table>\n",
              "<p>375 rows × 4 columns</p>\n",
              "</div>\n",
              "      <button class=\"colab-df-convert\" onclick=\"convertToInteractive('df-34ce23b7-fb5c-4081-80b8-622650b5ab84')\"\n",
              "              title=\"Convert this dataframe to an interactive table.\"\n",
              "              style=\"display:none;\">\n",
              "        \n",
              "  <svg xmlns=\"http://www.w3.org/2000/svg\" height=\"24px\"viewBox=\"0 0 24 24\"\n",
              "       width=\"24px\">\n",
              "    <path d=\"M0 0h24v24H0V0z\" fill=\"none\"/>\n",
              "    <path d=\"M18.56 5.44l.94 2.06.94-2.06 2.06-.94-2.06-.94-.94-2.06-.94 2.06-2.06.94zm-11 1L8.5 8.5l.94-2.06 2.06-.94-2.06-.94L8.5 2.5l-.94 2.06-2.06.94zm10 10l.94 2.06.94-2.06 2.06-.94-2.06-.94-.94-2.06-.94 2.06-2.06.94z\"/><path d=\"M17.41 7.96l-1.37-1.37c-.4-.4-.92-.59-1.43-.59-.52 0-1.04.2-1.43.59L10.3 9.45l-7.72 7.72c-.78.78-.78 2.05 0 2.83L4 21.41c.39.39.9.59 1.41.59.51 0 1.02-.2 1.41-.59l7.78-7.78 2.81-2.81c.8-.78.8-2.07 0-2.86zM5.41 20L4 18.59l7.72-7.72 1.47 1.35L5.41 20z\"/>\n",
              "  </svg>\n",
              "      </button>\n",
              "      \n",
              "  <style>\n",
              "    .colab-df-container {\n",
              "      display:flex;\n",
              "      flex-wrap:wrap;\n",
              "      gap: 12px;\n",
              "    }\n",
              "\n",
              "    .colab-df-convert {\n",
              "      background-color: #E8F0FE;\n",
              "      border: none;\n",
              "      border-radius: 50%;\n",
              "      cursor: pointer;\n",
              "      display: none;\n",
              "      fill: #1967D2;\n",
              "      height: 32px;\n",
              "      padding: 0 0 0 0;\n",
              "      width: 32px;\n",
              "    }\n",
              "\n",
              "    .colab-df-convert:hover {\n",
              "      background-color: #E2EBFA;\n",
              "      box-shadow: 0px 1px 2px rgba(60, 64, 67, 0.3), 0px 1px 3px 1px rgba(60, 64, 67, 0.15);\n",
              "      fill: #174EA6;\n",
              "    }\n",
              "\n",
              "    [theme=dark] .colab-df-convert {\n",
              "      background-color: #3B4455;\n",
              "      fill: #D2E3FC;\n",
              "    }\n",
              "\n",
              "    [theme=dark] .colab-df-convert:hover {\n",
              "      background-color: #434B5C;\n",
              "      box-shadow: 0px 1px 3px 1px rgba(0, 0, 0, 0.15);\n",
              "      filter: drop-shadow(0px 1px 2px rgba(0, 0, 0, 0.3));\n",
              "      fill: #FFFFFF;\n",
              "    }\n",
              "  </style>\n",
              "\n",
              "      <script>\n",
              "        const buttonEl =\n",
              "          document.querySelector('#df-34ce23b7-fb5c-4081-80b8-622650b5ab84 button.colab-df-convert');\n",
              "        buttonEl.style.display =\n",
              "          google.colab.kernel.accessAllowed ? 'block' : 'none';\n",
              "\n",
              "        async function convertToInteractive(key) {\n",
              "          const element = document.querySelector('#df-34ce23b7-fb5c-4081-80b8-622650b5ab84');\n",
              "          const dataTable =\n",
              "            await google.colab.kernel.invokeFunction('convertToInteractive',\n",
              "                                                     [key], {});\n",
              "          if (!dataTable) return;\n",
              "\n",
              "          const docLinkHtml = 'Like what you see? Visit the ' +\n",
              "            '<a target=\"_blank\" href=https://colab.research.google.com/notebooks/data_table.ipynb>data table notebook</a>'\n",
              "            + ' to learn more about interactive tables.';\n",
              "          element.innerHTML = '';\n",
              "          dataTable['output_type'] = 'display_data';\n",
              "          await google.colab.output.renderOutput(dataTable, element);\n",
              "          const docLink = document.createElement('div');\n",
              "          docLink.innerHTML = docLinkHtml;\n",
              "          element.appendChild(docLink);\n",
              "        }\n",
              "      </script>\n",
              "    </div>\n",
              "  </div>\n",
              "  "
            ]
          },
          "metadata": {},
          "execution_count": 100
        }
      ]
    },
    {
      "cell_type": "code",
      "source": [
        "pairs.match.value_counts()"
      ],
      "metadata": {
        "colab": {
          "base_uri": "https://localhost:8080/"
        },
        "id": "eOBs8T7OK0JY",
        "outputId": "892c9cd5-4a35-4e24-a8bf-28b9d22ffdb6"
      },
      "execution_count": 101,
      "outputs": [
        {
          "output_type": "execute_result",
          "data": {
            "text/plain": [
              "True     398786\n",
              "False    180121\n",
              "Name: match, dtype: int64"
            ]
          },
          "metadata": {},
          "execution_count": 101
        }
>>>>>>> 0ffda8a4420594755f585b8a8a07405b4b66b2df
      ]
     },
     "metadata": {
      "needs_background": "light"
     },
     "output_type": "display_data"
    },
    {
<<<<<<< HEAD
     "data": {
      "image/png": "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\n",
      "text/plain": [
       "<Figure size 1008x288 with 1 Axes>"
=======
      "cell_type": "code",
      "source": [
        "pairs.loc[pairs.location_diff<1].match.value_counts()"
      ],
      "metadata": {
        "colab": {
          "base_uri": "https://localhost:8080/"
        },
        "id": "mzuSWES4KJHt",
        "outputId": "7cf59447-345c-4650-fd3e-0110b37a3d76"
      },
      "execution_count": 102,
      "outputs": [
        {
          "output_type": "execute_result",
          "data": {
            "text/plain": [
              "True     394720\n",
              "False    179720\n",
              "Name: match, dtype: int64"
            ]
          },
          "metadata": {},
          "execution_count": 102
        }
>>>>>>> 0ffda8a4420594755f585b8a8a07405b4b66b2df
      ]
     },
     "metadata": {
      "needs_background": "light"
     },
     "output_type": "display_data"
    },
    {
<<<<<<< HEAD
     "data": {
      "image/png": "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\n",
      "text/plain": [
       "<Figure size 1008x288 with 1 Axes>"
=======
      "cell_type": "markdown",
      "source": [
        "### City"
      ],
      "metadata": {
        "id": "6pbFEc26581Z"
      }
    },
    {
      "cell_type": "code",
      "source": [
        "pairs['city_diff'] = pairs.apply(sim_metric,\n",
        "                          args=('city_1', 'city_2'),\n",
        "                          axis=1)"
      ],
      "metadata": {
        "id": "-Grf2BqZ6D6U"
      },
      "execution_count": 103,
      "outputs": []
    },
    {
      "cell_type": "code",
      "source": [
        "sns.stripplot(x=\"match\", y=\"city_diff\", data=pairs.loc[(pairs.country_1=='NZ')&(pairs.city_diff>=0)])\n",
        "plt.show()"
      ],
      "metadata": {
        "colab": {
          "base_uri": "https://localhost:8080/",
          "height": 0
        },
        "id": "gsSp-XK26qtH",
        "outputId": "ab10d792-1c7b-4a84-e4fb-c39f5a24c073"
      },
      "execution_count": 104,
      "outputs": [
        {
          "output_type": "display_data",
          "data": {
            "text/plain": [
              "<Figure size 432x288 with 1 Axes>"
            ],
            "image/png": "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\n"
          },
          "metadata": {
            "needs_background": "light"
          }
        }
>>>>>>> 0ffda8a4420594755f585b8a8a07405b4b66b2df
      ]
     },
     "metadata": {
      "needs_background": "light"
     },
     "output_type": "display_data"
    },
    {
<<<<<<< HEAD
     "data": {
      "image/png": "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\n",
      "text/plain": [
       "<Figure size 1008x288 with 1 Axes>"
=======
      "cell_type": "code",
      "source": [
        "pairs.loc[(pairs.location_diff<0.01)&(pairs.name_diff<0.1)&(pairs.address_diff==0)&(pairs.city_diff==0)&(pairs.match==False)&(pairs.country_1=='US')][['name_1','name_2','address_1','address_2']]"
      ],
      "metadata": {
        "colab": {
          "base_uri": "https://localhost:8080/",
          "height": 0
        },
        "id": "SJmcI4MA7Sr_",
        "outputId": "960eb384-f52f-4442-baa1-4360e22a27b9"
      },
      "execution_count": 105,
      "outputs": [
        {
          "output_type": "execute_result",
          "data": {
            "text/plain": [
              "                                      name_1  \\\n",
              "532          Parkview High School Building H   \n",
              "2526      Sprague Lake Rest Area (Westbound)   \n",
              "5315                             Section 304   \n",
              "5316                             Section 304   \n",
              "6259                Facebook 1050 Building 2   \n",
              "...                                      ...   \n",
              "571522               Conference Room HS 2007   \n",
              "572791   Mann Center for the Performing Arts   \n",
              "575350   Pozez Education Center Centennial D   \n",
              "576064  UCF Business Administration II (BA2)   \n",
              "578153        Gym @ Spinnaker Bay Apartments   \n",
              "\n",
              "                                            name_2  \\\n",
              "532                Parkview High School Building C   \n",
              "2526            Sprague Lake Rest Area (Eastbound)   \n",
              "5315                                   Section 305   \n",
              "5316                                   Section 308   \n",
              "6259                      Facebook 1050 Building 1   \n",
              "...                                            ...   \n",
              "571522                     Conference Room HS 2038   \n",
              "572791  Mann Center for the Performing Arts D Gate   \n",
              "575350         Pozez Education Center Centennial A   \n",
              "576064         UCF Business Administration I (BA1)   \n",
              "578153                    Spinnaker Bay Apartments   \n",
              "\n",
              "                                                address_1  \\\n",
              "532                        998 Cole Dr, Lilburn, GA 30047   \n",
              "2526                                        Interstate 90   \n",
              "5315                                       KeyBank Center   \n",
              "5316                                       KeyBank Center   \n",
              "6259                                    1050 Page Mill Rd   \n",
              "...                                                   ...   \n",
              "571522  Health Information and Translational Science (HS)   \n",
              "572791                                  5201 Parkside Ave   \n",
              "575350                                    1505 SW 8th Ave   \n",
              "576064                          4000 Central Florida Blvd   \n",
              "578153                                   707 President St   \n",
              "\n",
              "                                                address_2  \n",
              "532                        998 Cole Dr, Lilburn, GA 30047  \n",
              "2526                                        Interstate 90  \n",
              "5315                                       KeyBank Center  \n",
              "5316                                       KeyBank Center  \n",
              "6259                                    1050 Page Mill Rd  \n",
              "...                                                   ...  \n",
              "571522  Health Information and Translational Science (HS)  \n",
              "572791                                  5201 Parkside Ave  \n",
              "575350                                    1505 SW 8th Ave  \n",
              "576064                          4000 Central Florida Blvd  \n",
              "578153                                   707 President St  \n",
              "\n",
              "[353 rows x 4 columns]"
            ],
            "text/html": [
              "\n",
              "  <div id=\"df-fd308842-81e5-407c-ab3a-d4e979e5cf86\">\n",
              "    <div class=\"colab-df-container\">\n",
              "      <div>\n",
              "<style scoped>\n",
              "    .dataframe tbody tr th:only-of-type {\n",
              "        vertical-align: middle;\n",
              "    }\n",
              "\n",
              "    .dataframe tbody tr th {\n",
              "        vertical-align: top;\n",
              "    }\n",
              "\n",
              "    .dataframe thead th {\n",
              "        text-align: right;\n",
              "    }\n",
              "</style>\n",
              "<table border=\"1\" class=\"dataframe\">\n",
              "  <thead>\n",
              "    <tr style=\"text-align: right;\">\n",
              "      <th></th>\n",
              "      <th>name_1</th>\n",
              "      <th>name_2</th>\n",
              "      <th>address_1</th>\n",
              "      <th>address_2</th>\n",
              "    </tr>\n",
              "  </thead>\n",
              "  <tbody>\n",
              "    <tr>\n",
              "      <th>532</th>\n",
              "      <td>Parkview High School Building H</td>\n",
              "      <td>Parkview High School Building C</td>\n",
              "      <td>998 Cole Dr, Lilburn, GA 30047</td>\n",
              "      <td>998 Cole Dr, Lilburn, GA 30047</td>\n",
              "    </tr>\n",
              "    <tr>\n",
              "      <th>2526</th>\n",
              "      <td>Sprague Lake Rest Area (Westbound)</td>\n",
              "      <td>Sprague Lake Rest Area (Eastbound)</td>\n",
              "      <td>Interstate 90</td>\n",
              "      <td>Interstate 90</td>\n",
              "    </tr>\n",
              "    <tr>\n",
              "      <th>5315</th>\n",
              "      <td>Section 304</td>\n",
              "      <td>Section 305</td>\n",
              "      <td>KeyBank Center</td>\n",
              "      <td>KeyBank Center</td>\n",
              "    </tr>\n",
              "    <tr>\n",
              "      <th>5316</th>\n",
              "      <td>Section 304</td>\n",
              "      <td>Section 308</td>\n",
              "      <td>KeyBank Center</td>\n",
              "      <td>KeyBank Center</td>\n",
              "    </tr>\n",
              "    <tr>\n",
              "      <th>6259</th>\n",
              "      <td>Facebook 1050 Building 2</td>\n",
              "      <td>Facebook 1050 Building 1</td>\n",
              "      <td>1050 Page Mill Rd</td>\n",
              "      <td>1050 Page Mill Rd</td>\n",
              "    </tr>\n",
              "    <tr>\n",
              "      <th>...</th>\n",
              "      <td>...</td>\n",
              "      <td>...</td>\n",
              "      <td>...</td>\n",
              "      <td>...</td>\n",
              "    </tr>\n",
              "    <tr>\n",
              "      <th>571522</th>\n",
              "      <td>Conference Room HS 2007</td>\n",
              "      <td>Conference Room HS 2038</td>\n",
              "      <td>Health Information and Translational Science (HS)</td>\n",
              "      <td>Health Information and Translational Science (HS)</td>\n",
              "    </tr>\n",
              "    <tr>\n",
              "      <th>572791</th>\n",
              "      <td>Mann Center for the Performing Arts</td>\n",
              "      <td>Mann Center for the Performing Arts D Gate</td>\n",
              "      <td>5201 Parkside Ave</td>\n",
              "      <td>5201 Parkside Ave</td>\n",
              "    </tr>\n",
              "    <tr>\n",
              "      <th>575350</th>\n",
              "      <td>Pozez Education Center Centennial D</td>\n",
              "      <td>Pozez Education Center Centennial A</td>\n",
              "      <td>1505 SW 8th Ave</td>\n",
              "      <td>1505 SW 8th Ave</td>\n",
              "    </tr>\n",
              "    <tr>\n",
              "      <th>576064</th>\n",
              "      <td>UCF Business Administration II (BA2)</td>\n",
              "      <td>UCF Business Administration I (BA1)</td>\n",
              "      <td>4000 Central Florida Blvd</td>\n",
              "      <td>4000 Central Florida Blvd</td>\n",
              "    </tr>\n",
              "    <tr>\n",
              "      <th>578153</th>\n",
              "      <td>Gym @ Spinnaker Bay Apartments</td>\n",
              "      <td>Spinnaker Bay Apartments</td>\n",
              "      <td>707 President St</td>\n",
              "      <td>707 President St</td>\n",
              "    </tr>\n",
              "  </tbody>\n",
              "</table>\n",
              "<p>353 rows × 4 columns</p>\n",
              "</div>\n",
              "      <button class=\"colab-df-convert\" onclick=\"convertToInteractive('df-fd308842-81e5-407c-ab3a-d4e979e5cf86')\"\n",
              "              title=\"Convert this dataframe to an interactive table.\"\n",
              "              style=\"display:none;\">\n",
              "        \n",
              "  <svg xmlns=\"http://www.w3.org/2000/svg\" height=\"24px\"viewBox=\"0 0 24 24\"\n",
              "       width=\"24px\">\n",
              "    <path d=\"M0 0h24v24H0V0z\" fill=\"none\"/>\n",
              "    <path d=\"M18.56 5.44l.94 2.06.94-2.06 2.06-.94-2.06-.94-.94-2.06-.94 2.06-2.06.94zm-11 1L8.5 8.5l.94-2.06 2.06-.94-2.06-.94L8.5 2.5l-.94 2.06-2.06.94zm10 10l.94 2.06.94-2.06 2.06-.94-2.06-.94-.94-2.06-.94 2.06-2.06.94z\"/><path d=\"M17.41 7.96l-1.37-1.37c-.4-.4-.92-.59-1.43-.59-.52 0-1.04.2-1.43.59L10.3 9.45l-7.72 7.72c-.78.78-.78 2.05 0 2.83L4 21.41c.39.39.9.59 1.41.59.51 0 1.02-.2 1.41-.59l7.78-7.78 2.81-2.81c.8-.78.8-2.07 0-2.86zM5.41 20L4 18.59l7.72-7.72 1.47 1.35L5.41 20z\"/>\n",
              "  </svg>\n",
              "      </button>\n",
              "      \n",
              "  <style>\n",
              "    .colab-df-container {\n",
              "      display:flex;\n",
              "      flex-wrap:wrap;\n",
              "      gap: 12px;\n",
              "    }\n",
              "\n",
              "    .colab-df-convert {\n",
              "      background-color: #E8F0FE;\n",
              "      border: none;\n",
              "      border-radius: 50%;\n",
              "      cursor: pointer;\n",
              "      display: none;\n",
              "      fill: #1967D2;\n",
              "      height: 32px;\n",
              "      padding: 0 0 0 0;\n",
              "      width: 32px;\n",
              "    }\n",
              "\n",
              "    .colab-df-convert:hover {\n",
              "      background-color: #E2EBFA;\n",
              "      box-shadow: 0px 1px 2px rgba(60, 64, 67, 0.3), 0px 1px 3px 1px rgba(60, 64, 67, 0.15);\n",
              "      fill: #174EA6;\n",
              "    }\n",
              "\n",
              "    [theme=dark] .colab-df-convert {\n",
              "      background-color: #3B4455;\n",
              "      fill: #D2E3FC;\n",
              "    }\n",
              "\n",
              "    [theme=dark] .colab-df-convert:hover {\n",
              "      background-color: #434B5C;\n",
              "      box-shadow: 0px 1px 3px 1px rgba(0, 0, 0, 0.15);\n",
              "      filter: drop-shadow(0px 1px 2px rgba(0, 0, 0, 0.3));\n",
              "      fill: #FFFFFF;\n",
              "    }\n",
              "  </style>\n",
              "\n",
              "      <script>\n",
              "        const buttonEl =\n",
              "          document.querySelector('#df-fd308842-81e5-407c-ab3a-d4e979e5cf86 button.colab-df-convert');\n",
              "        buttonEl.style.display =\n",
              "          google.colab.kernel.accessAllowed ? 'block' : 'none';\n",
              "\n",
              "        async function convertToInteractive(key) {\n",
              "          const element = document.querySelector('#df-fd308842-81e5-407c-ab3a-d4e979e5cf86');\n",
              "          const dataTable =\n",
              "            await google.colab.kernel.invokeFunction('convertToInteractive',\n",
              "                                                     [key], {});\n",
              "          if (!dataTable) return;\n",
              "\n",
              "          const docLinkHtml = 'Like what you see? Visit the ' +\n",
              "            '<a target=\"_blank\" href=https://colab.research.google.com/notebooks/data_table.ipynb>data table notebook</a>'\n",
              "            + ' to learn more about interactive tables.';\n",
              "          element.innerHTML = '';\n",
              "          dataTable['output_type'] = 'display_data';\n",
              "          await google.colab.output.renderOutput(dataTable, element);\n",
              "          const docLink = document.createElement('div');\n",
              "          docLink.innerHTML = docLinkHtml;\n",
              "          element.appendChild(docLink);\n",
              "        }\n",
              "      </script>\n",
              "    </div>\n",
              "  </div>\n",
              "  "
            ]
          },
          "metadata": {},
          "execution_count": 105
        }
>>>>>>> 0ffda8a4420594755f585b8a8a07405b4b66b2df
      ]
     },
     "metadata": {
      "needs_background": "light"
     },
     "output_type": "display_data"
    },
    {
<<<<<<< HEAD
     "data": {
      "image/png": "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\n",
      "text/plain": [
       "<Figure size 1008x288 with 1 Axes>"
      ]
     },
     "metadata": {
      "needs_background": "light"
     },
     "output_type": "display_data"
    }
   ],
   "source": [
    "## histograms\n",
    "for column in ['location_diff','name_diff','address_diff','city_diff','zip_diff']:\n",
    "    plt.figure(figsize=(14,4))\n",
    "    plt.hist(pairs.loc[(pairs.match==True)&(pairs.location_diff<1), column], color='b', label=\"True\")\n",
    "    plt.hist(pairs.loc[(pairs.match==False)&(pairs.location_diff<1), column], color='r', label=\"False\")\n",
    "    plt.legend(fontsize=14)\n",
    "    plt.title(column,fontsize=16)\n",
    "    plt.show()"
   ]
  },
  {
   "cell_type": "code",
   "execution_count": null,
   "metadata": {
    "colab": {
     "base_uri": "https://localhost:8080/",
     "height": 300
    },
    "id": "oLuU5v8674BZ",
    "outputId": "61ccf28b-059c-4c17-b9a3-0851b1a7b975"
   },
   "outputs": [
    {
     "data": {
      "text/html": [
       "\n",
       "  <div id=\"df-039f92cc-a998-48c4-89af-f58a017c7c8e\">\n",
       "    <div class=\"colab-df-container\">\n",
       "      <div>\n",
       "<style scoped>\n",
       "    .dataframe tbody tr th:only-of-type {\n",
       "        vertical-align: middle;\n",
       "    }\n",
       "\n",
       "    .dataframe tbody tr th {\n",
       "        vertical-align: top;\n",
       "    }\n",
       "\n",
       "    .dataframe thead th {\n",
       "        text-align: right;\n",
       "    }\n",
       "</style>\n",
       "<table border=\"1\" class=\"dataframe\">\n",
       "  <thead>\n",
       "    <tr style=\"text-align: right;\">\n",
       "      <th></th>\n",
       "      <th>latitude_1</th>\n",
       "      <th>longitude_1</th>\n",
       "      <th>latitude_2</th>\n",
       "      <th>longitude_2</th>\n",
       "      <th>location_diff</th>\n",
       "      <th>address_diff</th>\n",
       "      <th>name_diff</th>\n",
       "      <th>city_diff</th>\n",
       "      <th>zip_diff</th>\n",
       "    </tr>\n",
       "  </thead>\n",
       "  <tbody>\n",
       "    <tr>\n",
       "      <th>count</th>\n",
       "      <td>146296.000000</td>\n",
       "      <td>146296.000000</td>\n",
       "      <td>146296.000000</td>\n",
       "      <td>146296.000000</td>\n",
       "      <td>146296.000000</td>\n",
       "      <td>146296.000000</td>\n",
       "      <td>146296.000000</td>\n",
       "      <td>146296.000000</td>\n",
       "      <td>146296.000000</td>\n",
       "    </tr>\n",
       "    <tr>\n",
       "      <th>mean</th>\n",
       "      <td>32.508102</td>\n",
       "      <td>-19.754487</td>\n",
       "      <td>32.507059</td>\n",
       "      <td>-19.749836</td>\n",
       "      <td>0.112072</td>\n",
       "      <td>0.259217</td>\n",
       "      <td>0.272320</td>\n",
       "      <td>0.101759</td>\n",
       "      <td>0.064743</td>\n",
       "    </tr>\n",
       "    <tr>\n",
       "      <th>std</th>\n",
       "      <td>19.752757</td>\n",
       "      <td>86.559842</td>\n",
       "      <td>19.752648</td>\n",
       "      <td>86.555004</td>\n",
       "      <td>2.783567</td>\n",
       "      <td>0.311993</td>\n",
       "      <td>0.293101</td>\n",
       "      <td>0.259665</td>\n",
       "      <td>0.158218</td>\n",
       "    </tr>\n",
       "    <tr>\n",
       "      <th>min</th>\n",
       "      <td>-54.799297</td>\n",
       "      <td>-165.408817</td>\n",
       "      <td>-54.794648</td>\n",
       "      <td>-164.436100</td>\n",
       "      <td>0.000000</td>\n",
       "      <td>0.000000</td>\n",
       "      <td>0.000000</td>\n",
       "      <td>0.000000</td>\n",
       "      <td>0.000000</td>\n",
       "    </tr>\n",
       "    <tr>\n",
       "      <th>25%</th>\n",
       "      <td>30.402049</td>\n",
       "      <td>-87.476469</td>\n",
       "      <td>30.402455</td>\n",
       "      <td>-87.473680</td>\n",
       "      <td>0.000270</td>\n",
       "      <td>0.000000</td>\n",
       "      <td>0.000000</td>\n",
       "      <td>0.000000</td>\n",
       "      <td>0.000000</td>\n",
       "    </tr>\n",
       "    <tr>\n",
       "      <th>50%</th>\n",
       "      <td>37.919794</td>\n",
       "      <td>-71.079899</td>\n",
       "      <td>37.912299</td>\n",
       "      <td>-71.082107</td>\n",
       "      <td>0.000926</td>\n",
       "      <td>0.103448</td>\n",
       "      <td>0.187500</td>\n",
       "      <td>0.000000</td>\n",
       "      <td>0.000000</td>\n",
       "    </tr>\n",
       "    <tr>\n",
       "      <th>75%</th>\n",
       "      <td>42.879486</td>\n",
       "      <td>29.328887</td>\n",
       "      <td>42.877831</td>\n",
       "      <td>29.315263</td>\n",
       "      <td>0.004111</td>\n",
       "      <td>0.538462</td>\n",
       "      <td>0.483871</td>\n",
       "      <td>0.000000</td>\n",
       "      <td>0.000000</td>\n",
       "    </tr>\n",
       "    <tr>\n",
       "      <th>max</th>\n",
       "      <td>71.169826</td>\n",
       "      <td>176.919425</td>\n",
       "      <td>71.170043</td>\n",
       "      <td>176.929571</td>\n",
       "      <td>244.365184</td>\n",
       "      <td>1.000000</td>\n",
       "      <td>1.000000</td>\n",
       "      <td>1.000000</td>\n",
       "      <td>1.000000</td>\n",
       "    </tr>\n",
       "  </tbody>\n",
       "</table>\n",
       "</div>\n",
       "      <button class=\"colab-df-convert\" onclick=\"convertToInteractive('df-039f92cc-a998-48c4-89af-f58a017c7c8e')\"\n",
       "              title=\"Convert this dataframe to an interactive table.\"\n",
       "              style=\"display:none;\">\n",
       "        \n",
       "  <svg xmlns=\"http://www.w3.org/2000/svg\" height=\"24px\"viewBox=\"0 0 24 24\"\n",
       "       width=\"24px\">\n",
       "    <path d=\"M0 0h24v24H0V0z\" fill=\"none\"/>\n",
       "    <path d=\"M18.56 5.44l.94 2.06.94-2.06 2.06-.94-2.06-.94-.94-2.06-.94 2.06-2.06.94zm-11 1L8.5 8.5l.94-2.06 2.06-.94-2.06-.94L8.5 2.5l-.94 2.06-2.06.94zm10 10l.94 2.06.94-2.06 2.06-.94-2.06-.94-.94-2.06-.94 2.06-2.06.94z\"/><path d=\"M17.41 7.96l-1.37-1.37c-.4-.4-.92-.59-1.43-.59-.52 0-1.04.2-1.43.59L10.3 9.45l-7.72 7.72c-.78.78-.78 2.05 0 2.83L4 21.41c.39.39.9.59 1.41.59.51 0 1.02-.2 1.41-.59l7.78-7.78 2.81-2.81c.8-.78.8-2.07 0-2.86zM5.41 20L4 18.59l7.72-7.72 1.47 1.35L5.41 20z\"/>\n",
       "  </svg>\n",
       "      </button>\n",
       "      \n",
       "  <style>\n",
       "    .colab-df-container {\n",
       "      display:flex;\n",
       "      flex-wrap:wrap;\n",
       "      gap: 12px;\n",
       "    }\n",
       "\n",
       "    .colab-df-convert {\n",
       "      background-color: #E8F0FE;\n",
       "      border: none;\n",
       "      border-radius: 50%;\n",
       "      cursor: pointer;\n",
       "      display: none;\n",
       "      fill: #1967D2;\n",
       "      height: 32px;\n",
       "      padding: 0 0 0 0;\n",
       "      width: 32px;\n",
       "    }\n",
       "\n",
       "    .colab-df-convert:hover {\n",
       "      background-color: #E2EBFA;\n",
       "      box-shadow: 0px 1px 2px rgba(60, 64, 67, 0.3), 0px 1px 3px 1px rgba(60, 64, 67, 0.15);\n",
       "      fill: #174EA6;\n",
       "    }\n",
       "\n",
       "    [theme=dark] .colab-df-convert {\n",
       "      background-color: #3B4455;\n",
       "      fill: #D2E3FC;\n",
       "    }\n",
       "\n",
       "    [theme=dark] .colab-df-convert:hover {\n",
       "      background-color: #434B5C;\n",
       "      box-shadow: 0px 1px 3px 1px rgba(0, 0, 0, 0.15);\n",
       "      filter: drop-shadow(0px 1px 2px rgba(0, 0, 0, 0.3));\n",
       "      fill: #FFFFFF;\n",
       "    }\n",
       "  </style>\n",
       "\n",
       "      <script>\n",
       "        const buttonEl =\n",
       "          document.querySelector('#df-039f92cc-a998-48c4-89af-f58a017c7c8e button.colab-df-convert');\n",
       "        buttonEl.style.display =\n",
       "          google.colab.kernel.accessAllowed ? 'block' : 'none';\n",
       "\n",
       "        async function convertToInteractive(key) {\n",
       "          const element = document.querySelector('#df-039f92cc-a998-48c4-89af-f58a017c7c8e');\n",
       "          const dataTable =\n",
       "            await google.colab.kernel.invokeFunction('convertToInteractive',\n",
       "                                                     [key], {});\n",
       "          if (!dataTable) return;\n",
       "\n",
       "          const docLinkHtml = 'Like what you see? Visit the ' +\n",
       "            '<a target=\"_blank\" href=https://colab.research.google.com/notebooks/data_table.ipynb>data table notebook</a>'\n",
       "            + ' to learn more about interactive tables.';\n",
       "          element.innerHTML = '';\n",
       "          dataTable['output_type'] = 'display_data';\n",
       "          await google.colab.output.renderOutput(dataTable, element);\n",
       "          const docLink = document.createElement('div');\n",
       "          docLink.innerHTML = docLinkHtml;\n",
       "          element.appendChild(docLink);\n",
       "        }\n",
       "      </script>\n",
       "    </div>\n",
       "  </div>\n",
       "  "
      ],
      "text/plain": [
       "          latitude_1    longitude_1     latitude_2    longitude_2  \\\n",
       "count  146296.000000  146296.000000  146296.000000  146296.000000   \n",
       "mean       32.508102     -19.754487      32.507059     -19.749836   \n",
       "std        19.752757      86.559842      19.752648      86.555004   \n",
       "min       -54.799297    -165.408817     -54.794648    -164.436100   \n",
       "25%        30.402049     -87.476469      30.402455     -87.473680   \n",
       "50%        37.919794     -71.079899      37.912299     -71.082107   \n",
       "75%        42.879486      29.328887      42.877831      29.315263   \n",
       "max        71.169826     176.919425      71.170043     176.929571   \n",
       "\n",
       "       location_diff   address_diff      name_diff      city_diff  \\\n",
       "count  146296.000000  146296.000000  146296.000000  146296.000000   \n",
       "mean        0.112072       0.259217       0.272320       0.101759   \n",
       "std         2.783567       0.311993       0.293101       0.259665   \n",
       "min         0.000000       0.000000       0.000000       0.000000   \n",
       "25%         0.000270       0.000000       0.000000       0.000000   \n",
       "50%         0.000926       0.103448       0.187500       0.000000   \n",
       "75%         0.004111       0.538462       0.483871       0.000000   \n",
       "max       244.365184       1.000000       1.000000       1.000000   \n",
       "\n",
       "            zip_diff  \n",
       "count  146296.000000  \n",
       "mean        0.064743  \n",
       "std         0.158218  \n",
       "min         0.000000  \n",
       "25%         0.000000  \n",
       "50%         0.000000  \n",
       "75%         0.000000  \n",
       "max         1.000000  "
=======
      "cell_type": "markdown",
      "source": [
        "### State"
      ],
      "metadata": {
        "id": "pl6JpKso6EOM"
      }
    },
    {
      "cell_type": "code",
      "source": [
        ""
      ],
      "metadata": {
        "id": "wu3jPxZx6GyC"
      },
      "execution_count": 105,
      "outputs": []
    },
    {
      "cell_type": "markdown",
      "source": [
        "### Zip\n",
        "\n",
        "\n",
        "---\n",
        "\n",
        "Zip codes are stored as strings in the orginal data."
      ],
      "metadata": {
        "id": "gWcwqa636I8-"
      }
    },
    {
      "cell_type": "code",
      "source": [
        "pairs['zip_diff'] = pairs.apply(sim_metric,\n",
        "                          args=('zip_1', 'zip_2'),\n",
        "                          axis=1)"
      ],
      "metadata": {
        "id": "Nevbkao86MW-"
      },
      "execution_count": 106,
      "outputs": []
    },
    {
      "cell_type": "markdown",
      "source": [
        "### Histogram"
      ],
      "metadata": {
        "id": "KJ9Uw4Y26N0K"
      }
    },
    {
      "cell_type": "code",
      "source": [
        "## histograms\n",
        "for column in ['location_diff','name_diff','address_diff','city_diff','zip_diff']:\n",
        "    plt.figure(figsize=(14,4))\n",
        "    plt.hist(pairs.loc[(pairs.match==True)&(pairs.location_diff<1), column], color='b', label=\"True\")\n",
        "    plt.hist(pairs.loc[(pairs.match==False)&(pairs.location_diff<1), column], color='r', label=\"False\")\n",
        "    plt.legend(fontsize=14)\n",
        "    plt.title(column,fontsize=16)\n",
        "    plt.show()"
      ],
      "metadata": {
        "colab": {
          "base_uri": "https://localhost:8080/",
          "height": 1000
        },
        "id": "1QVl771m54fH",
        "outputId": "11c3f486-de40-4be2-d1ff-74e03c568a8b"
      },
      "execution_count": 107,
      "outputs": [
        {
          "output_type": "display_data",
          "data": {
            "text/plain": [
              "<Figure size 1008x288 with 1 Axes>"
            ],
            "image/png": "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\n"
          },
          "metadata": {
            "needs_background": "light"
          }
        },
        {
          "output_type": "display_data",
          "data": {
            "text/plain": [
              "<Figure size 1008x288 with 1 Axes>"
            ],
            "image/png": "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\n"
          },
          "metadata": {
            "needs_background": "light"
          }
        },
        {
          "output_type": "display_data",
          "data": {
            "text/plain": [
              "<Figure size 1008x288 with 1 Axes>"
            ],
            "image/png": "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\n"
          },
          "metadata": {
            "needs_background": "light"
          }
        },
        {
          "output_type": "display_data",
          "data": {
            "text/plain": [
              "<Figure size 1008x288 with 1 Axes>"
            ],
            "image/png": "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\n"
          },
          "metadata": {
            "needs_background": "light"
          }
        },
        {
          "output_type": "display_data",
          "data": {
            "text/plain": [
              "<Figure size 1008x288 with 1 Axes>"
            ],
            "image/png": "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\n"
          },
          "metadata": {
            "needs_background": "light"
          }
        }
      ]
    },
    {
      "cell_type": "code",
      "source": [
        "pairs.loc[(pairs.zip_diff>=0)& (pairs.address_diff>=0) &(pairs.city_diff>=0)].describe()"
      ],
      "metadata": {
        "colab": {
          "base_uri": "https://localhost:8080/",
          "height": 300
        },
        "id": "oLuU5v8674BZ",
        "outputId": "3032b929-1495-4b91-a4ac-b0c87403d0ee"
      },
      "execution_count": 108,
      "outputs": [
        {
          "output_type": "execute_result",
          "data": {
            "text/plain": [
              "          latitude_1    longitude_1     latitude_2    longitude_2  \\\n",
              "count  146296.000000  146296.000000  146296.000000  146296.000000   \n",
              "mean       32.508102     -19.754487      32.507059     -19.749836   \n",
              "std        19.752757      86.559842      19.752648      86.555004   \n",
              "min       -54.799297    -165.408817     -54.794648    -164.436100   \n",
              "25%        30.402049     -87.476469      30.402455     -87.473680   \n",
              "50%        37.919794     -71.079899      37.912299     -71.082107   \n",
              "75%        42.879486      29.328887      42.877831      29.315263   \n",
              "max        71.169826     176.919425      71.170043     176.929571   \n",
              "\n",
              "       location_diff      name_diff   address_diff      city_diff  \\\n",
              "count  146296.000000  146296.000000  146296.000000  146296.000000   \n",
              "mean        0.112072       0.272320       0.259217       0.101759   \n",
              "std         2.783567       0.293101       0.311993       0.259665   \n",
              "min         0.000000       0.000000       0.000000       0.000000   \n",
              "25%         0.000270       0.000000       0.000000       0.000000   \n",
              "50%         0.000926       0.187500       0.103448       0.000000   \n",
              "75%         0.004111       0.483871       0.538462       0.000000   \n",
              "max       244.365184       1.000000       1.000000       1.000000   \n",
              "\n",
              "            zip_diff  \n",
              "count  146296.000000  \n",
              "mean        0.064743  \n",
              "std         0.158218  \n",
              "min         0.000000  \n",
              "25%         0.000000  \n",
              "50%         0.000000  \n",
              "75%         0.000000  \n",
              "max         1.000000  "
            ],
            "text/html": [
              "\n",
              "  <div id=\"df-0d7e7078-79d1-4820-b1a4-750199c10036\">\n",
              "    <div class=\"colab-df-container\">\n",
              "      <div>\n",
              "<style scoped>\n",
              "    .dataframe tbody tr th:only-of-type {\n",
              "        vertical-align: middle;\n",
              "    }\n",
              "\n",
              "    .dataframe tbody tr th {\n",
              "        vertical-align: top;\n",
              "    }\n",
              "\n",
              "    .dataframe thead th {\n",
              "        text-align: right;\n",
              "    }\n",
              "</style>\n",
              "<table border=\"1\" class=\"dataframe\">\n",
              "  <thead>\n",
              "    <tr style=\"text-align: right;\">\n",
              "      <th></th>\n",
              "      <th>latitude_1</th>\n",
              "      <th>longitude_1</th>\n",
              "      <th>latitude_2</th>\n",
              "      <th>longitude_2</th>\n",
              "      <th>location_diff</th>\n",
              "      <th>name_diff</th>\n",
              "      <th>address_diff</th>\n",
              "      <th>city_diff</th>\n",
              "      <th>zip_diff</th>\n",
              "    </tr>\n",
              "  </thead>\n",
              "  <tbody>\n",
              "    <tr>\n",
              "      <th>count</th>\n",
              "      <td>146296.000000</td>\n",
              "      <td>146296.000000</td>\n",
              "      <td>146296.000000</td>\n",
              "      <td>146296.000000</td>\n",
              "      <td>146296.000000</td>\n",
              "      <td>146296.000000</td>\n",
              "      <td>146296.000000</td>\n",
              "      <td>146296.000000</td>\n",
              "      <td>146296.000000</td>\n",
              "    </tr>\n",
              "    <tr>\n",
              "      <th>mean</th>\n",
              "      <td>32.508102</td>\n",
              "      <td>-19.754487</td>\n",
              "      <td>32.507059</td>\n",
              "      <td>-19.749836</td>\n",
              "      <td>0.112072</td>\n",
              "      <td>0.272320</td>\n",
              "      <td>0.259217</td>\n",
              "      <td>0.101759</td>\n",
              "      <td>0.064743</td>\n",
              "    </tr>\n",
              "    <tr>\n",
              "      <th>std</th>\n",
              "      <td>19.752757</td>\n",
              "      <td>86.559842</td>\n",
              "      <td>19.752648</td>\n",
              "      <td>86.555004</td>\n",
              "      <td>2.783567</td>\n",
              "      <td>0.293101</td>\n",
              "      <td>0.311993</td>\n",
              "      <td>0.259665</td>\n",
              "      <td>0.158218</td>\n",
              "    </tr>\n",
              "    <tr>\n",
              "      <th>min</th>\n",
              "      <td>-54.799297</td>\n",
              "      <td>-165.408817</td>\n",
              "      <td>-54.794648</td>\n",
              "      <td>-164.436100</td>\n",
              "      <td>0.000000</td>\n",
              "      <td>0.000000</td>\n",
              "      <td>0.000000</td>\n",
              "      <td>0.000000</td>\n",
              "      <td>0.000000</td>\n",
              "    </tr>\n",
              "    <tr>\n",
              "      <th>25%</th>\n",
              "      <td>30.402049</td>\n",
              "      <td>-87.476469</td>\n",
              "      <td>30.402455</td>\n",
              "      <td>-87.473680</td>\n",
              "      <td>0.000270</td>\n",
              "      <td>0.000000</td>\n",
              "      <td>0.000000</td>\n",
              "      <td>0.000000</td>\n",
              "      <td>0.000000</td>\n",
              "    </tr>\n",
              "    <tr>\n",
              "      <th>50%</th>\n",
              "      <td>37.919794</td>\n",
              "      <td>-71.079899</td>\n",
              "      <td>37.912299</td>\n",
              "      <td>-71.082107</td>\n",
              "      <td>0.000926</td>\n",
              "      <td>0.187500</td>\n",
              "      <td>0.103448</td>\n",
              "      <td>0.000000</td>\n",
              "      <td>0.000000</td>\n",
              "    </tr>\n",
              "    <tr>\n",
              "      <th>75%</th>\n",
              "      <td>42.879486</td>\n",
              "      <td>29.328887</td>\n",
              "      <td>42.877831</td>\n",
              "      <td>29.315263</td>\n",
              "      <td>0.004111</td>\n",
              "      <td>0.483871</td>\n",
              "      <td>0.538462</td>\n",
              "      <td>0.000000</td>\n",
              "      <td>0.000000</td>\n",
              "    </tr>\n",
              "    <tr>\n",
              "      <th>max</th>\n",
              "      <td>71.169826</td>\n",
              "      <td>176.919425</td>\n",
              "      <td>71.170043</td>\n",
              "      <td>176.929571</td>\n",
              "      <td>244.365184</td>\n",
              "      <td>1.000000</td>\n",
              "      <td>1.000000</td>\n",
              "      <td>1.000000</td>\n",
              "      <td>1.000000</td>\n",
              "    </tr>\n",
              "  </tbody>\n",
              "</table>\n",
              "</div>\n",
              "      <button class=\"colab-df-convert\" onclick=\"convertToInteractive('df-0d7e7078-79d1-4820-b1a4-750199c10036')\"\n",
              "              title=\"Convert this dataframe to an interactive table.\"\n",
              "              style=\"display:none;\">\n",
              "        \n",
              "  <svg xmlns=\"http://www.w3.org/2000/svg\" height=\"24px\"viewBox=\"0 0 24 24\"\n",
              "       width=\"24px\">\n",
              "    <path d=\"M0 0h24v24H0V0z\" fill=\"none\"/>\n",
              "    <path d=\"M18.56 5.44l.94 2.06.94-2.06 2.06-.94-2.06-.94-.94-2.06-.94 2.06-2.06.94zm-11 1L8.5 8.5l.94-2.06 2.06-.94-2.06-.94L8.5 2.5l-.94 2.06-2.06.94zm10 10l.94 2.06.94-2.06 2.06-.94-2.06-.94-.94-2.06-.94 2.06-2.06.94z\"/><path d=\"M17.41 7.96l-1.37-1.37c-.4-.4-.92-.59-1.43-.59-.52 0-1.04.2-1.43.59L10.3 9.45l-7.72 7.72c-.78.78-.78 2.05 0 2.83L4 21.41c.39.39.9.59 1.41.59.51 0 1.02-.2 1.41-.59l7.78-7.78 2.81-2.81c.8-.78.8-2.07 0-2.86zM5.41 20L4 18.59l7.72-7.72 1.47 1.35L5.41 20z\"/>\n",
              "  </svg>\n",
              "      </button>\n",
              "      \n",
              "  <style>\n",
              "    .colab-df-container {\n",
              "      display:flex;\n",
              "      flex-wrap:wrap;\n",
              "      gap: 12px;\n",
              "    }\n",
              "\n",
              "    .colab-df-convert {\n",
              "      background-color: #E8F0FE;\n",
              "      border: none;\n",
              "      border-radius: 50%;\n",
              "      cursor: pointer;\n",
              "      display: none;\n",
              "      fill: #1967D2;\n",
              "      height: 32px;\n",
              "      padding: 0 0 0 0;\n",
              "      width: 32px;\n",
              "    }\n",
              "\n",
              "    .colab-df-convert:hover {\n",
              "      background-color: #E2EBFA;\n",
              "      box-shadow: 0px 1px 2px rgba(60, 64, 67, 0.3), 0px 1px 3px 1px rgba(60, 64, 67, 0.15);\n",
              "      fill: #174EA6;\n",
              "    }\n",
              "\n",
              "    [theme=dark] .colab-df-convert {\n",
              "      background-color: #3B4455;\n",
              "      fill: #D2E3FC;\n",
              "    }\n",
              "\n",
              "    [theme=dark] .colab-df-convert:hover {\n",
              "      background-color: #434B5C;\n",
              "      box-shadow: 0px 1px 3px 1px rgba(0, 0, 0, 0.15);\n",
              "      filter: drop-shadow(0px 1px 2px rgba(0, 0, 0, 0.3));\n",
              "      fill: #FFFFFF;\n",
              "    }\n",
              "  </style>\n",
              "\n",
              "      <script>\n",
              "        const buttonEl =\n",
              "          document.querySelector('#df-0d7e7078-79d1-4820-b1a4-750199c10036 button.colab-df-convert');\n",
              "        buttonEl.style.display =\n",
              "          google.colab.kernel.accessAllowed ? 'block' : 'none';\n",
              "\n",
              "        async function convertToInteractive(key) {\n",
              "          const element = document.querySelector('#df-0d7e7078-79d1-4820-b1a4-750199c10036');\n",
              "          const dataTable =\n",
              "            await google.colab.kernel.invokeFunction('convertToInteractive',\n",
              "                                                     [key], {});\n",
              "          if (!dataTable) return;\n",
              "\n",
              "          const docLinkHtml = 'Like what you see? Visit the ' +\n",
              "            '<a target=\"_blank\" href=https://colab.research.google.com/notebooks/data_table.ipynb>data table notebook</a>'\n",
              "            + ' to learn more about interactive tables.';\n",
              "          element.innerHTML = '';\n",
              "          dataTable['output_type'] = 'display_data';\n",
              "          await google.colab.output.renderOutput(dataTable, element);\n",
              "          const docLink = document.createElement('div');\n",
              "          docLink.innerHTML = docLinkHtml;\n",
              "          element.appendChild(docLink);\n",
              "        }\n",
              "      </script>\n",
              "    </div>\n",
              "  </div>\n",
              "  "
            ]
          },
          "metadata": {},
          "execution_count": 108
        }
      ]
    },
    {
      "cell_type": "code",
      "source": [
        "pairs.head()"
      ],
      "metadata": {
        "colab": {
          "base_uri": "https://localhost:8080/",
          "height": 508
        },
        "id": "CfB5lzmp8GYg",
        "outputId": "79c49709-4cef-4b66-dad4-246898e511b8"
      },
      "execution_count": 130,
      "outputs": [
        {
          "output_type": "execute_result",
          "data": {
            "text/plain": [
              "               id_1                name_1  latitude_1  longitude_1  \\\n",
              "0  E_000001272c6c5d  Café Stad Oudenaarde   50.859975     3.634196   \n",
              "1  E_000008a8ba4f48              Turkcell   37.844510    27.844202   \n",
              "2  E_000023d8f4be44            Island Spa   14.518970   121.018702   \n",
              "3  E_00007dcd2bb53f     TOGO'S Sandwiches   38.257797  -122.064599   \n",
              "4  E_0000c362229d93            Coffee Cat    7.082218   125.610244   \n",
              "\n",
              "                                     address_1      city_1          state_1  \\\n",
              "0                                  Abdijstraat  Nederename  Oost-Vlaanderen   \n",
              "1                       Adnan Menderes Bulvarı         NaN              NaN   \n",
              "2  5th Flr, Newport Mall, Resorts World Manila  Pasay City     Metro Manila   \n",
              "3                     1380 Holiday Ln., Ste. B   Fairfield               CA   \n",
              "4                                F. Torres St.  Davao City     Davao Region   \n",
              "\n",
              "   zip_1 country_1                                              url_1  ...  \\\n",
              "0   9700        BE                                                NaN  ...   \n",
              "1    NaN        TR                                                NaN  ...   \n",
              "2    NaN        PH                                                NaN  ...   \n",
              "3  94534        US  https://locations.togos.com/ll/US/CA/Fairfield...  ...   \n",
              "4   8000        PH                                                NaN  ...   \n",
              "\n",
              "  country_2 url_2 phone_2                        categories_2  match  \\\n",
              "0        BE   NaN     NaN                                Bars   True   \n",
              "1        TR   NaN     NaN                  Electronics Stores  False   \n",
              "2        PH   NaN     NaN                                Spas   True   \n",
              "3        US   NaN     NaN                     Sandwich Places   True   \n",
              "4        PH   NaN     NaN  Coffee Shops, Cafés, Dessert Shops  False   \n",
              "\n",
              "   location_diff name_diff address_diff city_diff zip_diff  \n",
              "0       0.009383     0.125    -1.000000      -1.0     -1.0  \n",
              "1       0.006490     0.000     0.793103      -1.0     -1.0  \n",
              "2       0.001126     0.280    -1.000000      -1.0     -1.0  \n",
              "3       0.000141     0.500    -1.000000       0.0     -1.0  \n",
              "4       0.006202     0.000     0.655172       0.0      0.0  \n",
              "\n",
              "[5 rows x 30 columns]"
            ],
            "text/html": [
              "\n",
              "  <div id=\"df-b532cbf9-ce48-48b9-ad75-a2516ad2b85f\">\n",
              "    <div class=\"colab-df-container\">\n",
              "      <div>\n",
              "<style scoped>\n",
              "    .dataframe tbody tr th:only-of-type {\n",
              "        vertical-align: middle;\n",
              "    }\n",
              "\n",
              "    .dataframe tbody tr th {\n",
              "        vertical-align: top;\n",
              "    }\n",
              "\n",
              "    .dataframe thead th {\n",
              "        text-align: right;\n",
              "    }\n",
              "</style>\n",
              "<table border=\"1\" class=\"dataframe\">\n",
              "  <thead>\n",
              "    <tr style=\"text-align: right;\">\n",
              "      <th></th>\n",
              "      <th>id_1</th>\n",
              "      <th>name_1</th>\n",
              "      <th>latitude_1</th>\n",
              "      <th>longitude_1</th>\n",
              "      <th>address_1</th>\n",
              "      <th>city_1</th>\n",
              "      <th>state_1</th>\n",
              "      <th>zip_1</th>\n",
              "      <th>country_1</th>\n",
              "      <th>url_1</th>\n",
              "      <th>...</th>\n",
              "      <th>country_2</th>\n",
              "      <th>url_2</th>\n",
              "      <th>phone_2</th>\n",
              "      <th>categories_2</th>\n",
              "      <th>match</th>\n",
              "      <th>location_diff</th>\n",
              "      <th>name_diff</th>\n",
              "      <th>address_diff</th>\n",
              "      <th>city_diff</th>\n",
              "      <th>zip_diff</th>\n",
              "    </tr>\n",
              "  </thead>\n",
              "  <tbody>\n",
              "    <tr>\n",
              "      <th>0</th>\n",
              "      <td>E_000001272c6c5d</td>\n",
              "      <td>Café Stad Oudenaarde</td>\n",
              "      <td>50.859975</td>\n",
              "      <td>3.634196</td>\n",
              "      <td>Abdijstraat</td>\n",
              "      <td>Nederename</td>\n",
              "      <td>Oost-Vlaanderen</td>\n",
              "      <td>9700</td>\n",
              "      <td>BE</td>\n",
              "      <td>NaN</td>\n",
              "      <td>...</td>\n",
              "      <td>BE</td>\n",
              "      <td>NaN</td>\n",
              "      <td>NaN</td>\n",
              "      <td>Bars</td>\n",
              "      <td>True</td>\n",
              "      <td>0.009383</td>\n",
              "      <td>0.125</td>\n",
              "      <td>-1.000000</td>\n",
              "      <td>-1.0</td>\n",
              "      <td>-1.0</td>\n",
              "    </tr>\n",
              "    <tr>\n",
              "      <th>1</th>\n",
              "      <td>E_000008a8ba4f48</td>\n",
              "      <td>Turkcell</td>\n",
              "      <td>37.844510</td>\n",
              "      <td>27.844202</td>\n",
              "      <td>Adnan Menderes Bulvarı</td>\n",
              "      <td>NaN</td>\n",
              "      <td>NaN</td>\n",
              "      <td>NaN</td>\n",
              "      <td>TR</td>\n",
              "      <td>NaN</td>\n",
              "      <td>...</td>\n",
              "      <td>TR</td>\n",
              "      <td>NaN</td>\n",
              "      <td>NaN</td>\n",
              "      <td>Electronics Stores</td>\n",
              "      <td>False</td>\n",
              "      <td>0.006490</td>\n",
              "      <td>0.000</td>\n",
              "      <td>0.793103</td>\n",
              "      <td>-1.0</td>\n",
              "      <td>-1.0</td>\n",
              "    </tr>\n",
              "    <tr>\n",
              "      <th>2</th>\n",
              "      <td>E_000023d8f4be44</td>\n",
              "      <td>Island Spa</td>\n",
              "      <td>14.518970</td>\n",
              "      <td>121.018702</td>\n",
              "      <td>5th Flr, Newport Mall, Resorts World Manila</td>\n",
              "      <td>Pasay City</td>\n",
              "      <td>Metro Manila</td>\n",
              "      <td>NaN</td>\n",
              "      <td>PH</td>\n",
              "      <td>NaN</td>\n",
              "      <td>...</td>\n",
              "      <td>PH</td>\n",
              "      <td>NaN</td>\n",
              "      <td>NaN</td>\n",
              "      <td>Spas</td>\n",
              "      <td>True</td>\n",
              "      <td>0.001126</td>\n",
              "      <td>0.280</td>\n",
              "      <td>-1.000000</td>\n",
              "      <td>-1.0</td>\n",
              "      <td>-1.0</td>\n",
              "    </tr>\n",
              "    <tr>\n",
              "      <th>3</th>\n",
              "      <td>E_00007dcd2bb53f</td>\n",
              "      <td>TOGO'S Sandwiches</td>\n",
              "      <td>38.257797</td>\n",
              "      <td>-122.064599</td>\n",
              "      <td>1380 Holiday Ln., Ste. B</td>\n",
              "      <td>Fairfield</td>\n",
              "      <td>CA</td>\n",
              "      <td>94534</td>\n",
              "      <td>US</td>\n",
              "      <td>https://locations.togos.com/ll/US/CA/Fairfield...</td>\n",
              "      <td>...</td>\n",
              "      <td>US</td>\n",
              "      <td>NaN</td>\n",
              "      <td>NaN</td>\n",
              "      <td>Sandwich Places</td>\n",
              "      <td>True</td>\n",
              "      <td>0.000141</td>\n",
              "      <td>0.500</td>\n",
              "      <td>-1.000000</td>\n",
              "      <td>0.0</td>\n",
              "      <td>-1.0</td>\n",
              "    </tr>\n",
              "    <tr>\n",
              "      <th>4</th>\n",
              "      <td>E_0000c362229d93</td>\n",
              "      <td>Coffee Cat</td>\n",
              "      <td>7.082218</td>\n",
              "      <td>125.610244</td>\n",
              "      <td>F. Torres St.</td>\n",
              "      <td>Davao City</td>\n",
              "      <td>Davao Region</td>\n",
              "      <td>8000</td>\n",
              "      <td>PH</td>\n",
              "      <td>NaN</td>\n",
              "      <td>...</td>\n",
              "      <td>PH</td>\n",
              "      <td>NaN</td>\n",
              "      <td>NaN</td>\n",
              "      <td>Coffee Shops, Cafés, Dessert Shops</td>\n",
              "      <td>False</td>\n",
              "      <td>0.006202</td>\n",
              "      <td>0.000</td>\n",
              "      <td>0.655172</td>\n",
              "      <td>0.0</td>\n",
              "      <td>0.0</td>\n",
              "    </tr>\n",
              "  </tbody>\n",
              "</table>\n",
              "<p>5 rows × 30 columns</p>\n",
              "</div>\n",
              "      <button class=\"colab-df-convert\" onclick=\"convertToInteractive('df-b532cbf9-ce48-48b9-ad75-a2516ad2b85f')\"\n",
              "              title=\"Convert this dataframe to an interactive table.\"\n",
              "              style=\"display:none;\">\n",
              "        \n",
              "  <svg xmlns=\"http://www.w3.org/2000/svg\" height=\"24px\"viewBox=\"0 0 24 24\"\n",
              "       width=\"24px\">\n",
              "    <path d=\"M0 0h24v24H0V0z\" fill=\"none\"/>\n",
              "    <path d=\"M18.56 5.44l.94 2.06.94-2.06 2.06-.94-2.06-.94-.94-2.06-.94 2.06-2.06.94zm-11 1L8.5 8.5l.94-2.06 2.06-.94-2.06-.94L8.5 2.5l-.94 2.06-2.06.94zm10 10l.94 2.06.94-2.06 2.06-.94-2.06-.94-.94-2.06-.94 2.06-2.06.94z\"/><path d=\"M17.41 7.96l-1.37-1.37c-.4-.4-.92-.59-1.43-.59-.52 0-1.04.2-1.43.59L10.3 9.45l-7.72 7.72c-.78.78-.78 2.05 0 2.83L4 21.41c.39.39.9.59 1.41.59.51 0 1.02-.2 1.41-.59l7.78-7.78 2.81-2.81c.8-.78.8-2.07 0-2.86zM5.41 20L4 18.59l7.72-7.72 1.47 1.35L5.41 20z\"/>\n",
              "  </svg>\n",
              "      </button>\n",
              "      \n",
              "  <style>\n",
              "    .colab-df-container {\n",
              "      display:flex;\n",
              "      flex-wrap:wrap;\n",
              "      gap: 12px;\n",
              "    }\n",
              "\n",
              "    .colab-df-convert {\n",
              "      background-color: #E8F0FE;\n",
              "      border: none;\n",
              "      border-radius: 50%;\n",
              "      cursor: pointer;\n",
              "      display: none;\n",
              "      fill: #1967D2;\n",
              "      height: 32px;\n",
              "      padding: 0 0 0 0;\n",
              "      width: 32px;\n",
              "    }\n",
              "\n",
              "    .colab-df-convert:hover {\n",
              "      background-color: #E2EBFA;\n",
              "      box-shadow: 0px 1px 2px rgba(60, 64, 67, 0.3), 0px 1px 3px 1px rgba(60, 64, 67, 0.15);\n",
              "      fill: #174EA6;\n",
              "    }\n",
              "\n",
              "    [theme=dark] .colab-df-convert {\n",
              "      background-color: #3B4455;\n",
              "      fill: #D2E3FC;\n",
              "    }\n",
              "\n",
              "    [theme=dark] .colab-df-convert:hover {\n",
              "      background-color: #434B5C;\n",
              "      box-shadow: 0px 1px 3px 1px rgba(0, 0, 0, 0.15);\n",
              "      filter: drop-shadow(0px 1px 2px rgba(0, 0, 0, 0.3));\n",
              "      fill: #FFFFFF;\n",
              "    }\n",
              "  </style>\n",
              "\n",
              "      <script>\n",
              "        const buttonEl =\n",
              "          document.querySelector('#df-b532cbf9-ce48-48b9-ad75-a2516ad2b85f button.colab-df-convert');\n",
              "        buttonEl.style.display =\n",
              "          google.colab.kernel.accessAllowed ? 'block' : 'none';\n",
              "\n",
              "        async function convertToInteractive(key) {\n",
              "          const element = document.querySelector('#df-b532cbf9-ce48-48b9-ad75-a2516ad2b85f');\n",
              "          const dataTable =\n",
              "            await google.colab.kernel.invokeFunction('convertToInteractive',\n",
              "                                                     [key], {});\n",
              "          if (!dataTable) return;\n",
              "\n",
              "          const docLinkHtml = 'Like what you see? Visit the ' +\n",
              "            '<a target=\"_blank\" href=https://colab.research.google.com/notebooks/data_table.ipynb>data table notebook</a>'\n",
              "            + ' to learn more about interactive tables.';\n",
              "          element.innerHTML = '';\n",
              "          dataTable['output_type'] = 'display_data';\n",
              "          await google.colab.output.renderOutput(dataTable, element);\n",
              "          const docLink = document.createElement('div');\n",
              "          docLink.innerHTML = docLinkHtml;\n",
              "          element.appendChild(docLink);\n",
              "        }\n",
              "      </script>\n",
              "    </div>\n",
              "  </div>\n",
              "  "
            ]
          },
          "metadata": {},
          "execution_count": 130
        }
      ]
    },
    {
      "cell_type": "markdown",
      "source": [
        "# PCA"
      ],
      "metadata": {
        "id": "uM6TxTDoMTn8"
      }
    },
    {
      "cell_type": "code",
      "source": [
        "from sklearn.preprocessing import StandardScaler\n",
        "from sklearn.pipeline import Pipeline\n",
        "from sklearn.decomposition import PCA"
      ],
      "metadata": {
        "id": "O_l9wzHOMaLM"
      },
      "execution_count": 109,
      "outputs": []
    },
    {
      "cell_type": "code",
      "source": [
        "## Make a pipeline for your PCA\n",
        "pipe = Pipeline([('scale', StandardScaler()),\n",
        "                    ('pca', PCA(2))])\n",
        "\n",
        "feature_col = ['location_diff','name_diff']\n",
        "#['location_diff','name_diff','address_diff', 'city_diff',\t'zip_diff']\n",
        "\n",
        "pairs_sample = pairs.loc[pairs.location_diff<1]\n",
        "X_train = pairs_sample[feature_col]\n",
        "\n",
        "pipe.fit(X_train.values)\n",
        "\n",
        "fit = pipe.transform(X_train.values)"
      ],
      "metadata": {
        "id": "NCNT8kExMbIy"
      },
      "execution_count": 116,
      "outputs": []
    },
    {
      "cell_type": "code",
      "source": [
        "y_train = pairs_sample['match']\n",
        "\n",
        "plt.figure(figsize=(8,8))\n",
        "\n",
        "plt.scatter(fit[y_train==0, 0],\n",
        "               fit[y_train==0, 1],\n",
        "               c = 'b',\n",
        "               alpha = .6,\n",
        "               label='Benign')\n",
        "\n",
        "plt.scatter(fit[y_train==1, 0],\n",
        "               fit[y_train==1, 1],\n",
        "               c = 'orange',\n",
        "               marker = 'v',\n",
        "               alpha = .6,\n",
        "               label='Malignant')\n",
        "\n",
        "plt.legend(fontsize=14)\n",
        "\n",
        "plt.xlabel(\"First PCA Value\", fontsize=16)\n",
        "plt.ylabel(\"Second PCA Value\", fontsize=16)\n",
        "\n",
        "plt.show()"
      ],
      "metadata": {
        "colab": {
          "base_uri": "https://localhost:8080/",
          "height": 502
        },
        "id": "gwrvawh-M1B7",
        "outputId": "3818bfbe-cefb-4795-8f2c-3ce16544fc50"
      },
      "execution_count": 117,
      "outputs": [
        {
          "output_type": "display_data",
          "data": {
            "text/plain": [
              "<Figure size 576x576 with 1 Axes>"
            ],
            "image/png": "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\n"
          },
          "metadata": {
            "needs_background": "light"
          }
        }
>>>>>>> 0ffda8a4420594755f585b8a8a07405b4b66b2df
      ]
     },
     "execution_count": 64,
     "metadata": {},
     "output_type": "execute_result"
    }
   ],
   "source": [
    "pairs.loc[(pairs.zip_diff>=0)& (pairs.address_diff>=0) &(pairs.city_diff>=0)].describe()"
   ]
  },
  {
   "cell_type": "markdown",
   "metadata": {
    "id": "QD9d-ndTZ6_m"
   },
   "source": [
    "# Plotting latitude and longitude\n",
    "\n",
    "\n",
    "---\n",
    "\n"
   ]
  },
  {
   "cell_type": "code",
   "execution_count": null,
   "metadata": {
    "id": "x4Jd03IKDWA3"
   },
   "outputs": [],
   "source": [
    "latitude_all = train.latitude.values\n",
    "longitude_all = train.longitude.values"
   ]
  },
  {
   "cell_type": "code",
   "execution_count": null,
   "metadata": {
    "colab": {
     "base_uri": "https://localhost:8080/",
     "height": 279
    },
    "id": "mo9LD8_PSYaZ",
    "outputId": "a6a5c44d-7083-4daa-c6b8-9279894ae387"
   },
   "outputs": [
    {
     "data": {
      "image/png": "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\n",
      "text/plain": [
       "<Figure size 432x288 with 1 Axes>"
      ]
     },
     "metadata": {
      "needs_background": "light"
     },
     "output_type": "display_data"
    }
   ],
   "source": [
    "plt.scatter(latitude_all, longitude_all)\n",
    "plt.xlabel('Latitude')\n",
    "plt.ylabel('Longitude')\n",
    "plt.show()"
   ]
  },
  {
   "cell_type": "code",
   "execution_count": null,
   "metadata": {
    "colab": {
     "base_uri": "https://localhost:8080/"
    },
    "id": "jjOHOtQ6alTL",
    "outputId": "85f46042-0c97-434e-c43f-3225d9a3d1f9"
   },
   "outputs": [
    {
     "data": {
      "text/plain": [
       "id_1                              E_0000c362229d93\n",
       "name_1                                  Coffee Cat\n",
       "latitude_1                                7.082218\n",
       "longitude_1                             125.610244\n",
       "address_1                            F. Torres St.\n",
       "city_1                                  Davao City\n",
       "state_1                               Davao Region\n",
       "zip_1                                         8000\n",
       "country_1                                       PH\n",
       "url_1                                          NaN\n",
       "phone_1                                        NaN\n",
       "categories_1                   Cafés, Coffee Shops\n",
       "id_2                              E_d52c3c4d53831c\n",
       "name_2                                   Coffeecat\n",
       "latitude_2                                7.076016\n",
       "longitude_2                             125.611457\n",
       "address_2                     E. Jacinto Extension\n",
       "city_2                                  Davao City\n",
       "state_2                               Davao Region\n",
       "zip_2                                         8000\n",
       "country_2                                       PH\n",
       "url_2                                          NaN\n",
       "phone_2                                        NaN\n",
       "categories_2    Coffee Shops, Cafés, Dessert Shops\n",
       "match                                        False\n",
       "Name: 4, dtype: object"
      ]
     },
     "execution_count": 51,
     "metadata": {},
     "output_type": "execute_result"
    }
   ],
   "source": [
    "pairs.iloc[4]"
   ]
  },
  {
   "cell_type": "markdown",
   "metadata": {
    "id": "RvQexhJCVd_x"
   },
   "source": [
    "# Submission\n",
    "\n",
    "---\n"
   ]
  },
  {
   "cell_type": "code",
   "execution_count": null,
   "metadata": {
    "id": "zf5Lh0--cc_z"
   },
   "outputs": [],
   "source": [
    "submission = pd.read_csv('/content/drive/MyDrive/Summer 2022/foursquare-location-matching/sample_submission.csv')"
   ]
  },
  {
   "cell_type": "code",
   "execution_count": null,
   "metadata": {
    "colab": {
     "base_uri": "https://localhost:8080/",
     "height": 206
    },
    "id": "kEBhDcC2VkU0",
    "outputId": "a295a6ca-6335-48e9-f6e9-56c8783a3fc8"
   },
   "outputs": [
    {
     "data": {
      "text/html": [
       "\n",
       "  <div id=\"df-2ee22b96-5db1-434b-8af5-36c257c93052\">\n",
       "    <div class=\"colab-df-container\">\n",
       "      <div>\n",
       "<style scoped>\n",
       "    .dataframe tbody tr th:only-of-type {\n",
       "        vertical-align: middle;\n",
       "    }\n",
       "\n",
       "    .dataframe tbody tr th {\n",
       "        vertical-align: top;\n",
       "    }\n",
       "\n",
       "    .dataframe thead th {\n",
       "        text-align: right;\n",
       "    }\n",
       "</style>\n",
       "<table border=\"1\" class=\"dataframe\">\n",
       "  <thead>\n",
       "    <tr style=\"text-align: right;\">\n",
       "      <th></th>\n",
       "      <th>id</th>\n",
       "      <th>matches</th>\n",
       "    </tr>\n",
       "  </thead>\n",
       "  <tbody>\n",
       "    <tr>\n",
       "      <th>0</th>\n",
       "      <td>E_00001118ad0191</td>\n",
       "      <td>E_00001118ad0191</td>\n",
       "    </tr>\n",
       "    <tr>\n",
       "      <th>1</th>\n",
       "      <td>E_000020eb6fed40</td>\n",
       "      <td>E_000020eb6fed40</td>\n",
       "    </tr>\n",
       "    <tr>\n",
       "      <th>2</th>\n",
       "      <td>E_00002f98667edf</td>\n",
       "      <td>E_00002f98667edf</td>\n",
       "    </tr>\n",
       "    <tr>\n",
       "      <th>3</th>\n",
       "      <td>E_001b6bad66eb98</td>\n",
       "      <td>E_001b6bad66eb98 E_0283d9f61e569d</td>\n",
       "    </tr>\n",
       "    <tr>\n",
       "      <th>4</th>\n",
       "      <td>E_0283d9f61e569d</td>\n",
       "      <td>E_0283d9f61e569d E_001b6bad66eb98</td>\n",
       "    </tr>\n",
       "  </tbody>\n",
       "</table>\n",
       "</div>\n",
       "      <button class=\"colab-df-convert\" onclick=\"convertToInteractive('df-2ee22b96-5db1-434b-8af5-36c257c93052')\"\n",
       "              title=\"Convert this dataframe to an interactive table.\"\n",
       "              style=\"display:none;\">\n",
       "        \n",
       "  <svg xmlns=\"http://www.w3.org/2000/svg\" height=\"24px\"viewBox=\"0 0 24 24\"\n",
       "       width=\"24px\">\n",
       "    <path d=\"M0 0h24v24H0V0z\" fill=\"none\"/>\n",
       "    <path d=\"M18.56 5.44l.94 2.06.94-2.06 2.06-.94-2.06-.94-.94-2.06-.94 2.06-2.06.94zm-11 1L8.5 8.5l.94-2.06 2.06-.94-2.06-.94L8.5 2.5l-.94 2.06-2.06.94zm10 10l.94 2.06.94-2.06 2.06-.94-2.06-.94-.94-2.06-.94 2.06-2.06.94z\"/><path d=\"M17.41 7.96l-1.37-1.37c-.4-.4-.92-.59-1.43-.59-.52 0-1.04.2-1.43.59L10.3 9.45l-7.72 7.72c-.78.78-.78 2.05 0 2.83L4 21.41c.39.39.9.59 1.41.59.51 0 1.02-.2 1.41-.59l7.78-7.78 2.81-2.81c.8-.78.8-2.07 0-2.86zM5.41 20L4 18.59l7.72-7.72 1.47 1.35L5.41 20z\"/>\n",
       "  </svg>\n",
       "      </button>\n",
       "      \n",
       "  <style>\n",
       "    .colab-df-container {\n",
       "      display:flex;\n",
       "      flex-wrap:wrap;\n",
       "      gap: 12px;\n",
       "    }\n",
       "\n",
       "    .colab-df-convert {\n",
       "      background-color: #E8F0FE;\n",
       "      border: none;\n",
       "      border-radius: 50%;\n",
       "      cursor: pointer;\n",
       "      display: none;\n",
       "      fill: #1967D2;\n",
       "      height: 32px;\n",
       "      padding: 0 0 0 0;\n",
       "      width: 32px;\n",
       "    }\n",
       "\n",
       "    .colab-df-convert:hover {\n",
       "      background-color: #E2EBFA;\n",
       "      box-shadow: 0px 1px 2px rgba(60, 64, 67, 0.3), 0px 1px 3px 1px rgba(60, 64, 67, 0.15);\n",
       "      fill: #174EA6;\n",
       "    }\n",
       "\n",
       "    [theme=dark] .colab-df-convert {\n",
       "      background-color: #3B4455;\n",
       "      fill: #D2E3FC;\n",
       "    }\n",
       "\n",
       "    [theme=dark] .colab-df-convert:hover {\n",
       "      background-color: #434B5C;\n",
       "      box-shadow: 0px 1px 3px 1px rgba(0, 0, 0, 0.15);\n",
       "      filter: drop-shadow(0px 1px 2px rgba(0, 0, 0, 0.3));\n",
       "      fill: #FFFFFF;\n",
       "    }\n",
       "  </style>\n",
       "\n",
       "      <script>\n",
       "        const buttonEl =\n",
       "          document.querySelector('#df-2ee22b96-5db1-434b-8af5-36c257c93052 button.colab-df-convert');\n",
       "        buttonEl.style.display =\n",
       "          google.colab.kernel.accessAllowed ? 'block' : 'none';\n",
       "\n",
       "        async function convertToInteractive(key) {\n",
       "          const element = document.querySelector('#df-2ee22b96-5db1-434b-8af5-36c257c93052');\n",
       "          const dataTable =\n",
       "            await google.colab.kernel.invokeFunction('convertToInteractive',\n",
       "                                                     [key], {});\n",
       "          if (!dataTable) return;\n",
       "\n",
       "          const docLinkHtml = 'Like what you see? Visit the ' +\n",
       "            '<a target=\"_blank\" href=https://colab.research.google.com/notebooks/data_table.ipynb>data table notebook</a>'\n",
       "            + ' to learn more about interactive tables.';\n",
       "          element.innerHTML = '';\n",
       "          dataTable['output_type'] = 'display_data';\n",
       "          await google.colab.output.renderOutput(dataTable, element);\n",
       "          const docLink = document.createElement('div');\n",
       "          docLink.innerHTML = docLinkHtml;\n",
       "          element.appendChild(docLink);\n",
       "        }\n",
       "      </script>\n",
       "    </div>\n",
       "  </div>\n",
       "  "
      ],
      "text/plain": [
       "                 id                            matches\n",
       "0  E_00001118ad0191                   E_00001118ad0191\n",
       "1  E_000020eb6fed40                   E_000020eb6fed40\n",
       "2  E_00002f98667edf                   E_00002f98667edf\n",
       "3  E_001b6bad66eb98  E_001b6bad66eb98 E_0283d9f61e569d\n",
       "4  E_0283d9f61e569d  E_0283d9f61e569d E_001b6bad66eb98"
      ]
     },
     "execution_count": 20,
     "metadata": {},
     "output_type": "execute_result"
    }
   ],
   "source": [
    "submission"
   ]
  },
  {
   "cell_type": "code",
   "execution_count": null,
   "metadata": {
    "colab": {
     "base_uri": "https://localhost:8080/"
    },
    "id": "EfPTR_lIVqq1",
    "outputId": "8a5a88f2-4716-495d-c25e-01cbb4a0a63f"
   },
   "outputs": [
    {
     "data": {
      "text/plain": [
       "{'E_001b6bad66eb98', 'E_0283d9f61e569d'}"
      ]
     },
     "execution_count": 21,
     "metadata": {},
     "output_type": "execute_result"
    }
   ],
   "source": [
    "set(test.id).intersection(set(train.id))"
   ]
  },
  {
   "cell_type": "code",
   "execution_count": null,
   "metadata": {
    "colab": {
     "base_uri": "https://localhost:8080/",
     "height": 112
    },
    "id": "dwCoM8pJWTf1",
    "outputId": "0be212c3-da7c-4424-ebe7-b488142ddccd"
   },
   "outputs": [
    {
     "data": {
      "text/html": [
       "\n",
       "  <div id=\"df-64794db7-dce0-4081-bba9-4042aad5d3d1\">\n",
       "    <div class=\"colab-df-container\">\n",
       "      <div>\n",
       "<style scoped>\n",
       "    .dataframe tbody tr th:only-of-type {\n",
       "        vertical-align: middle;\n",
       "    }\n",
       "\n",
       "    .dataframe tbody tr th {\n",
       "        vertical-align: top;\n",
       "    }\n",
       "\n",
       "    .dataframe thead th {\n",
       "        text-align: right;\n",
       "    }\n",
       "</style>\n",
       "<table border=\"1\" class=\"dataframe\">\n",
       "  <thead>\n",
       "    <tr style=\"text-align: right;\">\n",
       "      <th></th>\n",
       "      <th>id</th>\n",
       "      <th>name</th>\n",
       "      <th>latitude</th>\n",
       "      <th>longitude</th>\n",
       "      <th>address</th>\n",
       "      <th>city</th>\n",
       "      <th>state</th>\n",
       "      <th>zip</th>\n",
       "      <th>country</th>\n",
       "      <th>url</th>\n",
       "      <th>phone</th>\n",
       "      <th>categories</th>\n",
       "      <th>point_of_interest</th>\n",
       "    </tr>\n",
       "  </thead>\n",
       "  <tbody>\n",
       "    <tr>\n",
       "      <th>434</th>\n",
       "      <td>E_001b6bad66eb98</td>\n",
       "      <td>Foreword Communicatons</td>\n",
       "      <td>1.302216</td>\n",
       "      <td>103.861456</td>\n",
       "      <td>NaN</td>\n",
       "      <td>NaN</td>\n",
       "      <td>NaN</td>\n",
       "      <td>NaN</td>\n",
       "      <td>SG</td>\n",
       "      <td>NaN</td>\n",
       "      <td>NaN</td>\n",
       "      <td>NaN</td>\n",
       "      <td>P_540b73568b0d3c</td>\n",
       "    </tr>\n",
       "    <tr>\n",
       "      <th>11033</th>\n",
       "      <td>E_0283d9f61e569d</td>\n",
       "      <td>風雲児 (Fu-unji)</td>\n",
       "      <td>35.687101</td>\n",
       "      <td>139.696684</td>\n",
       "      <td>代々木2-14-3</td>\n",
       "      <td>渋谷区</td>\n",
       "      <td>東京都</td>\n",
       "      <td>151-0053</td>\n",
       "      <td>JP</td>\n",
       "      <td>http://www.fu-unji.com</td>\n",
       "      <td>0364138480</td>\n",
       "      <td>Ramen Restaurants</td>\n",
       "      <td>P_fe5531aa3acd9d</td>\n",
       "    </tr>\n",
       "  </tbody>\n",
       "</table>\n",
       "</div>\n",
       "      <button class=\"colab-df-convert\" onclick=\"convertToInteractive('df-64794db7-dce0-4081-bba9-4042aad5d3d1')\"\n",
       "              title=\"Convert this dataframe to an interactive table.\"\n",
       "              style=\"display:none;\">\n",
       "        \n",
       "  <svg xmlns=\"http://www.w3.org/2000/svg\" height=\"24px\"viewBox=\"0 0 24 24\"\n",
       "       width=\"24px\">\n",
       "    <path d=\"M0 0h24v24H0V0z\" fill=\"none\"/>\n",
       "    <path d=\"M18.56 5.44l.94 2.06.94-2.06 2.06-.94-2.06-.94-.94-2.06-.94 2.06-2.06.94zm-11 1L8.5 8.5l.94-2.06 2.06-.94-2.06-.94L8.5 2.5l-.94 2.06-2.06.94zm10 10l.94 2.06.94-2.06 2.06-.94-2.06-.94-.94-2.06-.94 2.06-2.06.94z\"/><path d=\"M17.41 7.96l-1.37-1.37c-.4-.4-.92-.59-1.43-.59-.52 0-1.04.2-1.43.59L10.3 9.45l-7.72 7.72c-.78.78-.78 2.05 0 2.83L4 21.41c.39.39.9.59 1.41.59.51 0 1.02-.2 1.41-.59l7.78-7.78 2.81-2.81c.8-.78.8-2.07 0-2.86zM5.41 20L4 18.59l7.72-7.72 1.47 1.35L5.41 20z\"/>\n",
       "  </svg>\n",
       "      </button>\n",
       "      \n",
       "  <style>\n",
       "    .colab-df-container {\n",
       "      display:flex;\n",
       "      flex-wrap:wrap;\n",
       "      gap: 12px;\n",
       "    }\n",
       "\n",
       "    .colab-df-convert {\n",
       "      background-color: #E8F0FE;\n",
       "      border: none;\n",
       "      border-radius: 50%;\n",
       "      cursor: pointer;\n",
       "      display: none;\n",
       "      fill: #1967D2;\n",
       "      height: 32px;\n",
       "      padding: 0 0 0 0;\n",
       "      width: 32px;\n",
       "    }\n",
       "\n",
       "    .colab-df-convert:hover {\n",
       "      background-color: #E2EBFA;\n",
       "      box-shadow: 0px 1px 2px rgba(60, 64, 67, 0.3), 0px 1px 3px 1px rgba(60, 64, 67, 0.15);\n",
       "      fill: #174EA6;\n",
       "    }\n",
       "\n",
       "    [theme=dark] .colab-df-convert {\n",
       "      background-color: #3B4455;\n",
       "      fill: #D2E3FC;\n",
       "    }\n",
       "\n",
       "    [theme=dark] .colab-df-convert:hover {\n",
       "      background-color: #434B5C;\n",
       "      box-shadow: 0px 1px 3px 1px rgba(0, 0, 0, 0.15);\n",
       "      filter: drop-shadow(0px 1px 2px rgba(0, 0, 0, 0.3));\n",
       "      fill: #FFFFFF;\n",
       "    }\n",
       "  </style>\n",
       "\n",
       "      <script>\n",
       "        const buttonEl =\n",
       "          document.querySelector('#df-64794db7-dce0-4081-bba9-4042aad5d3d1 button.colab-df-convert');\n",
       "        buttonEl.style.display =\n",
       "          google.colab.kernel.accessAllowed ? 'block' : 'none';\n",
       "\n",
       "        async function convertToInteractive(key) {\n",
       "          const element = document.querySelector('#df-64794db7-dce0-4081-bba9-4042aad5d3d1');\n",
       "          const dataTable =\n",
       "            await google.colab.kernel.invokeFunction('convertToInteractive',\n",
       "                                                     [key], {});\n",
       "          if (!dataTable) return;\n",
       "\n",
       "          const docLinkHtml = 'Like what you see? Visit the ' +\n",
       "            '<a target=\"_blank\" href=https://colab.research.google.com/notebooks/data_table.ipynb>data table notebook</a>'\n",
       "            + ' to learn more about interactive tables.';\n",
       "          element.innerHTML = '';\n",
       "          dataTable['output_type'] = 'display_data';\n",
       "          await google.colab.output.renderOutput(dataTable, element);\n",
       "          const docLink = document.createElement('div');\n",
       "          docLink.innerHTML = docLinkHtml;\n",
       "          element.appendChild(docLink);\n",
       "        }\n",
       "      </script>\n",
       "    </div>\n",
       "  </div>\n",
       "  "
      ],
      "text/plain": [
       "                     id                    name   latitude   longitude  \\\n",
       "434    E_001b6bad66eb98  Foreword Communicatons   1.302216  103.861456   \n",
       "11033  E_0283d9f61e569d           風雲児 (Fu-unji)  35.687101  139.696684   \n",
       "\n",
       "         address city state       zip country                     url  \\\n",
       "434          NaN  NaN   NaN       NaN      SG                     NaN   \n",
       "11033  代々木2-14-3  渋谷区   東京都  151-0053      JP  http://www.fu-unji.com   \n",
       "\n",
       "            phone         categories point_of_interest  \n",
       "434           NaN                NaN  P_540b73568b0d3c  \n",
       "11033  0364138480  Ramen Restaurants  P_fe5531aa3acd9d  "
      ]
     },
     "execution_count": 43,
     "metadata": {},
     "output_type": "execute_result"
    }
   ],
   "source": [
    "df = train.loc[train.id==test.id[3]]\n",
    "df.append(train.loc[train.id==test.id[4]])"
   ]
  },
  {
   "cell_type": "code",
   "execution_count": null,
   "metadata": {
    "colab": {
     "base_uri": "https://localhost:8080/"
    },
    "id": "Iy6AMLpyX8If",
    "outputId": "872376c8-0f18-4419-f7f2-5ebd0ef37ff9"
   },
   "outputs": [
    {
     "data": {
      "text/plain": [
       "Index(['id', 'name', 'latitude', 'longitude', 'address', 'city', 'state',\n",
       "       'zip', 'country', 'url', 'phone', 'categories'],\n",
       "      dtype='object')"
      ]
     },
     "execution_count": 45,
     "metadata": {},
     "output_type": "execute_result"
    }
   ],
   "source": [
    "test.columns"
   ]
  },
  {
   "cell_type": "code",
   "execution_count": null,
   "metadata": {
    "colab": {
     "base_uri": "https://localhost:8080/"
    },
    "id": "2LyFlsz6ZCKg",
    "outputId": "3a2b5b3b-1405-4e7d-f2e3-0f5bf1c7cbe0"
   },
   "outputs": [
    {
     "data": {
      "text/plain": [
       "0    MY\n",
       "1    US\n",
       "2    RU\n",
       "3    ID\n",
       "4    ID\n",
       "Name: country, dtype: object"
      ]
     },
     "execution_count": 107,
     "metadata": {},
     "output_type": "execute_result"
    }
   ],
   "source": [
    "test.country"
   ]
  },
  {
   "cell_type": "code",
   "execution_count": null,
   "metadata": {
    "id": "hqix-nirq0ZX"
   },
   "outputs": [],
   "source": []
  }
 ],
 "metadata": {
  "colab": {
   "authorship_tag": "ABX9TyPmZsYumCuMIwTZhdfiWq/9",
   "include_colab_link": true,
   "name": "Ling EDA.ipynb",
   "provenance": [],
   "toc_visible": true
  },
  "kernelspec": {
   "display_name": "Python 3",
   "language": "python",
   "name": "python3"
  },
  "language_info": {
   "codemirror_mode": {
    "name": "ipython",
    "version": 3
   },
   "file_extension": ".py",
   "mimetype": "text/x-python",
   "name": "python",
   "nbconvert_exporter": "python",
   "pygments_lexer": "ipython3",
   "version": "3.8.5"
  }
 },
 "nbformat": 4,
 "nbformat_minor": 4
}
