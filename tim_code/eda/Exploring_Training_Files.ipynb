{
 "cells": [
  {
   "cell_type": "markdown",
   "metadata": {},
   "source": [
    "# Understanding Pairs\n",
    "\n",
    "I'm taking some time to explore \"pairs.csv\"\n",
    "\n",
    "The description for this data is...\n",
    "\n",
    "* pairs.csv - A pregenerated set of pairs of place entries from train.csv designed to improve detection of matches. You may wish to generate additional pairs to improve your model's ability to discriminate POIs.\n",
    " * match - Whether (True or False) the pair of entries describes a common POI.\n"
   ]
  },
  {
   "cell_type": "code",
   "execution_count": 1,
   "metadata": {},
   "outputs": [],
   "source": [
    "import pandas as pd"
   ]
  },
  {
   "cell_type": "code",
   "execution_count": 2,
   "metadata": {},
   "outputs": [],
   "source": [
    "pairs = pd.read_csv(r'C:\\Users\\gorma\\OneDrive\\Documents\\Erdos\\foursquare-location-matching\\data_raw\\pairs.csv')"
   ]
  },
  {
   "cell_type": "code",
   "execution_count": 12,
   "metadata": {},
   "outputs": [
    {
     "data": {
      "text/html": [
       "<div>\n",
       "<style scoped>\n",
       "    .dataframe tbody tr th:only-of-type {\n",
       "        vertical-align: middle;\n",
       "    }\n",
       "\n",
       "    .dataframe tbody tr th {\n",
       "        vertical-align: top;\n",
       "    }\n",
       "\n",
       "    .dataframe thead th {\n",
       "        text-align: right;\n",
       "    }\n",
       "</style>\n",
       "<table border=\"1\" class=\"dataframe\">\n",
       "  <thead>\n",
       "    <tr style=\"text-align: right;\">\n",
       "      <th></th>\n",
       "      <th>id_1</th>\n",
       "      <th>name_1</th>\n",
       "      <th>latitude_1</th>\n",
       "      <th>longitude_1</th>\n",
       "      <th>address_1</th>\n",
       "      <th>city_1</th>\n",
       "      <th>state_1</th>\n",
       "      <th>zip_1</th>\n",
       "      <th>country_1</th>\n",
       "      <th>url_1</th>\n",
       "      <th>...</th>\n",
       "      <th>longitude_2</th>\n",
       "      <th>address_2</th>\n",
       "      <th>city_2</th>\n",
       "      <th>state_2</th>\n",
       "      <th>zip_2</th>\n",
       "      <th>country_2</th>\n",
       "      <th>url_2</th>\n",
       "      <th>phone_2</th>\n",
       "      <th>categories_2</th>\n",
       "      <th>match</th>\n",
       "    </tr>\n",
       "  </thead>\n",
       "  <tbody>\n",
       "    <tr>\n",
       "      <th>0</th>\n",
       "      <td>E_000001272c6c5d</td>\n",
       "      <td>Café Stad Oudenaarde</td>\n",
       "      <td>50.859975</td>\n",
       "      <td>3.634196</td>\n",
       "      <td>Abdijstraat</td>\n",
       "      <td>Nederename</td>\n",
       "      <td>Oost-Vlaanderen</td>\n",
       "      <td>9700</td>\n",
       "      <td>BE</td>\n",
       "      <td>NaN</td>\n",
       "      <td>...</td>\n",
       "      <td>3.635206</td>\n",
       "      <td>NaN</td>\n",
       "      <td>NaN</td>\n",
       "      <td>NaN</td>\n",
       "      <td>NaN</td>\n",
       "      <td>BE</td>\n",
       "      <td>NaN</td>\n",
       "      <td>NaN</td>\n",
       "      <td>Bars</td>\n",
       "      <td>True</td>\n",
       "    </tr>\n",
       "    <tr>\n",
       "      <th>1</th>\n",
       "      <td>E_000008a8ba4f48</td>\n",
       "      <td>Turkcell</td>\n",
       "      <td>37.844510</td>\n",
       "      <td>27.844202</td>\n",
       "      <td>Adnan Menderes Bulvarı</td>\n",
       "      <td>NaN</td>\n",
       "      <td>NaN</td>\n",
       "      <td>NaN</td>\n",
       "      <td>TR</td>\n",
       "      <td>NaN</td>\n",
       "      <td>...</td>\n",
       "      <td>27.845560</td>\n",
       "      <td>batı aydın</td>\n",
       "      <td>aydın</td>\n",
       "      <td>NaN</td>\n",
       "      <td>67500</td>\n",
       "      <td>TR</td>\n",
       "      <td>NaN</td>\n",
       "      <td>NaN</td>\n",
       "      <td>Electronics Stores</td>\n",
       "      <td>False</td>\n",
       "    </tr>\n",
       "    <tr>\n",
       "      <th>2</th>\n",
       "      <td>E_000023d8f4be44</td>\n",
       "      <td>Island Spa</td>\n",
       "      <td>14.518970</td>\n",
       "      <td>121.018702</td>\n",
       "      <td>5th Flr, Newport Mall, Resorts World Manila</td>\n",
       "      <td>Pasay City</td>\n",
       "      <td>Metro Manila</td>\n",
       "      <td>NaN</td>\n",
       "      <td>PH</td>\n",
       "      <td>NaN</td>\n",
       "      <td>...</td>\n",
       "      <td>121.019827</td>\n",
       "      <td>NaN</td>\n",
       "      <td>NaN</td>\n",
       "      <td>NaN</td>\n",
       "      <td>NaN</td>\n",
       "      <td>PH</td>\n",
       "      <td>NaN</td>\n",
       "      <td>NaN</td>\n",
       "      <td>Spas</td>\n",
       "      <td>True</td>\n",
       "    </tr>\n",
       "    <tr>\n",
       "      <th>3</th>\n",
       "      <td>E_00007dcd2bb53f</td>\n",
       "      <td>TOGO'S Sandwiches</td>\n",
       "      <td>38.257797</td>\n",
       "      <td>-122.064599</td>\n",
       "      <td>1380 Holiday Ln., Ste. B</td>\n",
       "      <td>Fairfield</td>\n",
       "      <td>CA</td>\n",
       "      <td>94534</td>\n",
       "      <td>US</td>\n",
       "      <td>https://locations.togos.com/ll/US/CA/Fairfield...</td>\n",
       "      <td>...</td>\n",
       "      <td>-122.064606</td>\n",
       "      <td>NaN</td>\n",
       "      <td>Fairfield</td>\n",
       "      <td>CA</td>\n",
       "      <td>NaN</td>\n",
       "      <td>US</td>\n",
       "      <td>NaN</td>\n",
       "      <td>NaN</td>\n",
       "      <td>Sandwich Places</td>\n",
       "      <td>True</td>\n",
       "    </tr>\n",
       "    <tr>\n",
       "      <th>4</th>\n",
       "      <td>E_0000c362229d93</td>\n",
       "      <td>Coffee Cat</td>\n",
       "      <td>7.082218</td>\n",
       "      <td>125.610244</td>\n",
       "      <td>F. Torres St.</td>\n",
       "      <td>Davao City</td>\n",
       "      <td>Davao Region</td>\n",
       "      <td>8000</td>\n",
       "      <td>PH</td>\n",
       "      <td>NaN</td>\n",
       "      <td>...</td>\n",
       "      <td>125.611457</td>\n",
       "      <td>E. Jacinto Extension</td>\n",
       "      <td>Davao City</td>\n",
       "      <td>Davao Region</td>\n",
       "      <td>8000</td>\n",
       "      <td>PH</td>\n",
       "      <td>NaN</td>\n",
       "      <td>NaN</td>\n",
       "      <td>Coffee Shops, Cafés, Dessert Shops</td>\n",
       "      <td>False</td>\n",
       "    </tr>\n",
       "    <tr>\n",
       "      <th>5</th>\n",
       "      <td>E_0000c566a81ea1</td>\n",
       "      <td>つじ田 味噌の章</td>\n",
       "      <td>35.694796</td>\n",
       "      <td>139.767348</td>\n",
       "      <td>神田小川町1-1</td>\n",
       "      <td>千代田区</td>\n",
       "      <td>東京都</td>\n",
       "      <td>101-0052</td>\n",
       "      <td>JP</td>\n",
       "      <td>https://tsukemen-tsujita.com</td>\n",
       "      <td>...</td>\n",
       "      <td>139.767981</td>\n",
       "      <td>NaN</td>\n",
       "      <td>NaN</td>\n",
       "      <td>NaN</td>\n",
       "      <td>NaN</td>\n",
       "      <td>JP</td>\n",
       "      <td>NaN</td>\n",
       "      <td>NaN</td>\n",
       "      <td>Noodle Houses</td>\n",
       "      <td>True</td>\n",
       "    </tr>\n",
       "    <tr>\n",
       "      <th>6</th>\n",
       "      <td>E_0000d9e584ed9f</td>\n",
       "      <td>Signature Properties Savannah</td>\n",
       "      <td>32.012582</td>\n",
       "      <td>-81.113156</td>\n",
       "      <td>100 Commercial Ct Ste C</td>\n",
       "      <td>Savannah</td>\n",
       "      <td>GA</td>\n",
       "      <td>31406</td>\n",
       "      <td>US</td>\n",
       "      <td>http://www.oursignatureproperties.com</td>\n",
       "      <td>...</td>\n",
       "      <td>-81.108089</td>\n",
       "      <td>7014 Abercorn St</td>\n",
       "      <td>Savannah</td>\n",
       "      <td>GA</td>\n",
       "      <td>31406</td>\n",
       "      <td>US</td>\n",
       "      <td>NaN</td>\n",
       "      <td>NaN</td>\n",
       "      <td>NaN</td>\n",
       "      <td>True</td>\n",
       "    </tr>\n",
       "    <tr>\n",
       "      <th>7</th>\n",
       "      <td>E_00011cca3f0bd6</td>\n",
       "      <td>Inner Workings</td>\n",
       "      <td>35.686930</td>\n",
       "      <td>-105.939167</td>\n",
       "      <td>Serving General Area</td>\n",
       "      <td>Santa Fe</td>\n",
       "      <td>NM</td>\n",
       "      <td>87501</td>\n",
       "      <td>US</td>\n",
       "      <td>http://innerworkingsmassage.com</td>\n",
       "      <td>...</td>\n",
       "      <td>-105.939617</td>\n",
       "      <td>Serving General Area</td>\n",
       "      <td>Santa Fe</td>\n",
       "      <td>NM</td>\n",
       "      <td>87501</td>\n",
       "      <td>US</td>\n",
       "      <td>NaN</td>\n",
       "      <td>+15058500872</td>\n",
       "      <td>Massage Studios</td>\n",
       "      <td>True</td>\n",
       "    </tr>\n",
       "    <tr>\n",
       "      <th>8</th>\n",
       "      <td>E_00015cd7e0227f</td>\n",
       "      <td>Lake Destiny</td>\n",
       "      <td>28.643613</td>\n",
       "      <td>-81.389132</td>\n",
       "      <td>NaN</td>\n",
       "      <td>Maitland</td>\n",
       "      <td>FL</td>\n",
       "      <td>32751</td>\n",
       "      <td>US</td>\n",
       "      <td>NaN</td>\n",
       "      <td>...</td>\n",
       "      <td>-81.391977</td>\n",
       "      <td>NaN</td>\n",
       "      <td>Maitland</td>\n",
       "      <td>FL</td>\n",
       "      <td>32751</td>\n",
       "      <td>US</td>\n",
       "      <td>NaN</td>\n",
       "      <td>NaN</td>\n",
       "      <td>Soccer Fields</td>\n",
       "      <td>False</td>\n",
       "    </tr>\n",
       "    <tr>\n",
       "      <th>9</th>\n",
       "      <td>E_0001827d6b4ee2</td>\n",
       "      <td>Marshall Boya Bayi</td>\n",
       "      <td>38.534796</td>\n",
       "      <td>30.548005</td>\n",
       "      <td>İplik Mah. Zafer Sok. 4 Şuhut</td>\n",
       "      <td>Afyonkarahisar</td>\n",
       "      <td>NaN</td>\n",
       "      <td>NaN</td>\n",
       "      <td>TR</td>\n",
       "      <td>http://www.marshallboya.com</td>\n",
       "      <td>...</td>\n",
       "      <td>30.549282</td>\n",
       "      <td>İpek Mah. Gençlik Cad. 24 Şuhut</td>\n",
       "      <td>Afyonkarahisar</td>\n",
       "      <td>NaN</td>\n",
       "      <td>NaN</td>\n",
       "      <td>TR</td>\n",
       "      <td>http://www.marshallboya.com</td>\n",
       "      <td>2727183512</td>\n",
       "      <td>Hardware Stores</td>\n",
       "      <td>True</td>\n",
       "    </tr>\n",
       "  </tbody>\n",
       "</table>\n",
       "<p>10 rows × 25 columns</p>\n",
       "</div>"
      ],
      "text/plain": [
       "               id_1                         name_1  latitude_1  longitude_1  \\\n",
       "0  E_000001272c6c5d           Café Stad Oudenaarde   50.859975     3.634196   \n",
       "1  E_000008a8ba4f48                       Turkcell   37.844510    27.844202   \n",
       "2  E_000023d8f4be44                     Island Spa   14.518970   121.018702   \n",
       "3  E_00007dcd2bb53f              TOGO'S Sandwiches   38.257797  -122.064599   \n",
       "4  E_0000c362229d93                     Coffee Cat    7.082218   125.610244   \n",
       "5  E_0000c566a81ea1                       つじ田 味噌の章   35.694796   139.767348   \n",
       "6  E_0000d9e584ed9f  Signature Properties Savannah   32.012582   -81.113156   \n",
       "7  E_00011cca3f0bd6                 Inner Workings   35.686930  -105.939167   \n",
       "8  E_00015cd7e0227f                   Lake Destiny   28.643613   -81.389132   \n",
       "9  E_0001827d6b4ee2             Marshall Boya Bayi   38.534796    30.548005   \n",
       "\n",
       "                                     address_1          city_1  \\\n",
       "0                                  Abdijstraat      Nederename   \n",
       "1                       Adnan Menderes Bulvarı             NaN   \n",
       "2  5th Flr, Newport Mall, Resorts World Manila      Pasay City   \n",
       "3                     1380 Holiday Ln., Ste. B       Fairfield   \n",
       "4                                F. Torres St.      Davao City   \n",
       "5                                     神田小川町1-1            千代田区   \n",
       "6                      100 Commercial Ct Ste C        Savannah   \n",
       "7                         Serving General Area        Santa Fe   \n",
       "8                                          NaN        Maitland   \n",
       "9                İplik Mah. Zafer Sok. 4 Şuhut  Afyonkarahisar   \n",
       "\n",
       "           state_1     zip_1 country_1  \\\n",
       "0  Oost-Vlaanderen      9700        BE   \n",
       "1              NaN       NaN        TR   \n",
       "2     Metro Manila       NaN        PH   \n",
       "3               CA     94534        US   \n",
       "4     Davao Region      8000        PH   \n",
       "5              東京都  101-0052        JP   \n",
       "6               GA     31406        US   \n",
       "7               NM     87501        US   \n",
       "8               FL     32751        US   \n",
       "9              NaN       NaN        TR   \n",
       "\n",
       "                                               url_1  ... longitude_2  \\\n",
       "0                                                NaN  ...    3.635206   \n",
       "1                                                NaN  ...   27.845560   \n",
       "2                                                NaN  ...  121.019827   \n",
       "3  https://locations.togos.com/ll/US/CA/Fairfield...  ... -122.064606   \n",
       "4                                                NaN  ...  125.611457   \n",
       "5                       https://tsukemen-tsujita.com  ...  139.767981   \n",
       "6              http://www.oursignatureproperties.com  ...  -81.108089   \n",
       "7                    http://innerworkingsmassage.com  ... -105.939617   \n",
       "8                                                NaN  ...  -81.391977   \n",
       "9                        http://www.marshallboya.com  ...   30.549282   \n",
       "\n",
       "                         address_2          city_2       state_2  zip_2  \\\n",
       "0                              NaN             NaN           NaN    NaN   \n",
       "1                       batı aydın           aydın           NaN  67500   \n",
       "2                              NaN             NaN           NaN    NaN   \n",
       "3                              NaN       Fairfield            CA    NaN   \n",
       "4             E. Jacinto Extension      Davao City  Davao Region   8000   \n",
       "5                              NaN             NaN           NaN    NaN   \n",
       "6                 7014 Abercorn St        Savannah            GA  31406   \n",
       "7             Serving General Area        Santa Fe            NM  87501   \n",
       "8                              NaN        Maitland            FL  32751   \n",
       "9  İpek Mah. Gençlik Cad. 24 Şuhut  Afyonkarahisar           NaN    NaN   \n",
       "\n",
       "   country_2                        url_2       phone_2  \\\n",
       "0         BE                          NaN           NaN   \n",
       "1         TR                          NaN           NaN   \n",
       "2         PH                          NaN           NaN   \n",
       "3         US                          NaN           NaN   \n",
       "4         PH                          NaN           NaN   \n",
       "5         JP                          NaN           NaN   \n",
       "6         US                          NaN           NaN   \n",
       "7         US                          NaN  +15058500872   \n",
       "8         US                          NaN           NaN   \n",
       "9         TR  http://www.marshallboya.com    2727183512   \n",
       "\n",
       "                         categories_2  match  \n",
       "0                                Bars   True  \n",
       "1                  Electronics Stores  False  \n",
       "2                                Spas   True  \n",
       "3                     Sandwich Places   True  \n",
       "4  Coffee Shops, Cafés, Dessert Shops  False  \n",
       "5                       Noodle Houses   True  \n",
       "6                                 NaN   True  \n",
       "7                     Massage Studios   True  \n",
       "8                       Soccer Fields  False  \n",
       "9                     Hardware Stores   True  \n",
       "\n",
       "[10 rows x 25 columns]"
      ]
     },
     "execution_count": 12,
     "metadata": {},
     "output_type": "execute_result"
    }
   ],
   "source": [
    "pairs.head(10)"
   ]
  },
  {
   "cell_type": "code",
   "execution_count": 25,
   "metadata": {},
   "outputs": [
    {
     "data": {
      "text/plain": [
       "(578907, 25)"
      ]
     },
     "execution_count": 25,
     "metadata": {},
     "output_type": "execute_result"
    }
   ],
   "source": [
    "pairs.shape"
   ]
  },
  {
   "cell_type": "code",
   "execution_count": 10,
   "metadata": {
    "collapsed": true,
    "jupyter": {
     "outputs_hidden": true
    }
   },
   "outputs": [
    {
     "data": {
      "text/plain": [
       "id_1                E_000001272c6c5d\n",
       "name_1          Café Stad Oudenaarde\n",
       "latitude_1                     50.86\n",
       "longitude_1                   3.6342\n",
       "address_1                Abdijstraat\n",
       "city_1                    Nederename\n",
       "state_1              Oost-Vlaanderen\n",
       "zip_1                           9700\n",
       "country_1                         BE\n",
       "url_1                            NaN\n",
       "phone_1                          NaN\n",
       "categories_1                    Bars\n",
       "id_2                E_da7fa3963561f8\n",
       "name_2               Café Oudenaarde\n",
       "latitude_2                   50.8694\n",
       "longitude_2                  3.63521\n",
       "address_2                        NaN\n",
       "city_2                           NaN\n",
       "state_2                          NaN\n",
       "zip_2                            NaN\n",
       "country_2                         BE\n",
       "url_2                            NaN\n",
       "phone_2                          NaN\n",
       "categories_2                    Bars\n",
       "match                           True\n",
       "Name: 0, dtype: object"
      ]
     },
     "execution_count": 10,
     "metadata": {},
     "output_type": "execute_result"
    }
   ],
   "source": [
    "pairs.loc[0]"
   ]
  },
  {
   "cell_type": "code",
   "execution_count": 11,
   "metadata": {},
   "outputs": [
    {
     "data": {
      "text/plain": [
       "id_1                                             E_00007dcd2bb53f\n",
       "name_1                                          TOGO'S Sandwiches\n",
       "latitude_1                                                38.2578\n",
       "longitude_1                                              -122.065\n",
       "address_1                                1380 Holiday Ln., Ste. B\n",
       "city_1                                                  Fairfield\n",
       "state_1                                                        CA\n",
       "zip_1                                                       94534\n",
       "country_1                                                      US\n",
       "url_1           https://locations.togos.com/ll/US/CA/Fairfield...\n",
       "phone_1                                                7074394747\n",
       "categories_1                                      Sandwich Places\n",
       "id_2                                             E_f131dcb7f07be9\n",
       "name_2                                                     Togo's\n",
       "latitude_2                                                38.2579\n",
       "longitude_2                                              -122.065\n",
       "address_2                                                     NaN\n",
       "city_2                                                  Fairfield\n",
       "state_2                                                        CA\n",
       "zip_2                                                         NaN\n",
       "country_2                                                      US\n",
       "url_2                                                         NaN\n",
       "phone_2                                                       NaN\n",
       "categories_2                                      Sandwich Places\n",
       "match                                                        True\n",
       "Name: 3, dtype: object"
      ]
     },
     "execution_count": 11,
     "metadata": {},
     "output_type": "execute_result"
    }
   ],
   "source": [
    "pairs.loc[3]"
   ]
  },
  {
   "cell_type": "code",
   "execution_count": 15,
   "metadata": {},
   "outputs": [
    {
     "data": {
      "text/plain": [
       "id_1                              E_0000c362229d93\n",
       "name_1                                  Coffee Cat\n",
       "latitude_1                                 7.08222\n",
       "longitude_1                                 125.61\n",
       "address_1                            F. Torres St.\n",
       "city_1                                  Davao City\n",
       "state_1                               Davao Region\n",
       "zip_1                                         8000\n",
       "country_1                                       PH\n",
       "url_1                                          NaN\n",
       "phone_1                                        NaN\n",
       "categories_1                   Cafés, Coffee Shops\n",
       "id_2                              E_d52c3c4d53831c\n",
       "name_2                                   Coffeecat\n",
       "latitude_2                                 7.07602\n",
       "longitude_2                                125.611\n",
       "address_2                     E. Jacinto Extension\n",
       "city_2                                  Davao City\n",
       "state_2                               Davao Region\n",
       "zip_2                                         8000\n",
       "country_2                                       PH\n",
       "url_2                                          NaN\n",
       "phone_2                                        NaN\n",
       "categories_2    Coffee Shops, Cafés, Dessert Shops\n",
       "match                                        False\n",
       "Name: 4, dtype: object"
      ]
     },
     "execution_count": 15,
     "metadata": {},
     "output_type": "execute_result"
    }
   ],
   "source": [
    "pairs.loc[4]"
   ]
  },
  {
   "cell_type": "code",
   "execution_count": 14,
   "metadata": {
    "collapsed": true,
    "jupyter": {
     "outputs_hidden": true
    }
   },
   "outputs": [
    {
     "data": {
      "text/plain": [
       "id_1                                 E_0000d9e584ed9f\n",
       "name_1                  Signature Properties Savannah\n",
       "latitude_1                                    32.0126\n",
       "longitude_1                                  -81.1132\n",
       "address_1                     100 Commercial Ct Ste C\n",
       "city_1                                       Savannah\n",
       "state_1                                            GA\n",
       "zip_1                                           31406\n",
       "country_1                                          US\n",
       "url_1           http://www.oursignatureproperties.com\n",
       "phone_1                                    9126292700\n",
       "categories_1                      Real Estate Offices\n",
       "id_2                                 E_caad79f6ed7c44\n",
       "name_2                  Signature Properties Savannah\n",
       "latitude_2                                    32.0106\n",
       "longitude_2                                  -81.1081\n",
       "address_2                            7014 Abercorn St\n",
       "city_2                                       Savannah\n",
       "state_2                                            GA\n",
       "zip_2                                           31406\n",
       "country_2                                          US\n",
       "url_2                                             NaN\n",
       "phone_2                                           NaN\n",
       "categories_2                                      NaN\n",
       "match                                            True\n",
       "Name: 6, dtype: object"
      ]
     },
     "execution_count": 14,
     "metadata": {},
     "output_type": "execute_result"
    }
   ],
   "source": [
    "pairs.loc[6]"
   ]
  },
  {
   "cell_type": "markdown",
   "metadata": {},
   "source": [
    "When looking at records 3 and 4, they look like the should both be matches   --> everything looks very similiear, but when I plug the coordinates into google maps I find that the entries for 3 really are the same and the entries for 4 are not the same. This emphasizes that the coordinates are meaninfgul at least out to the 2nd or 3rd decimal places."
   ]
  },
  {
   "cell_type": "code",
   "execution_count": 4,
   "metadata": {},
   "outputs": [
    {
     "data": {
      "text/plain": [
       "Index(['id_1', 'name_1', 'latitude_1', 'longitude_1', 'address_1', 'city_1',\n",
       "       'state_1', 'zip_1', 'country_1', 'url_1', 'phone_1', 'categories_1',\n",
       "       'id_2', 'name_2', 'latitude_2', 'longitude_2', 'address_2', 'city_2',\n",
       "       'state_2', 'zip_2', 'country_2', 'url_2', 'phone_2', 'categories_2',\n",
       "       'match'],\n",
       "      dtype='object')"
      ]
     },
     "execution_count": 4,
     "metadata": {},
     "output_type": "execute_result"
    }
   ],
   "source": [
    "pairs.columns"
   ]
  },
  {
   "cell_type": "markdown",
   "metadata": {},
   "source": [
    "# Exploring the Training Data"
   ]
  },
  {
   "cell_type": "code",
   "execution_count": 5,
   "metadata": {},
   "outputs": [],
   "source": [
    "train = pd.read_csv(r'C:\\Users\\gorma\\OneDrive\\Documents\\Erdos\\foursquare-location-matching\\data_raw\\train.csv')"
   ]
  },
  {
   "cell_type": "code",
   "execution_count": 6,
   "metadata": {},
   "outputs": [
    {
     "data": {
      "text/plain": [
       "Index(['id', 'name', 'latitude', 'longitude', 'address', 'city', 'state',\n",
       "       'zip', 'country', 'url', 'phone', 'categories', 'point_of_interest'],\n",
       "      dtype='object')"
      ]
     },
     "execution_count": 6,
     "metadata": {},
     "output_type": "execute_result"
    }
   ],
   "source": [
    "train.columns"
   ]
  },
  {
   "cell_type": "code",
   "execution_count": 32,
   "metadata": {},
   "outputs": [
    {
     "data": {
      "text/html": [
       "<div>\n",
       "<style scoped>\n",
       "    .dataframe tbody tr th:only-of-type {\n",
       "        vertical-align: middle;\n",
       "    }\n",
       "\n",
       "    .dataframe tbody tr th {\n",
       "        vertical-align: top;\n",
       "    }\n",
       "\n",
       "    .dataframe thead th {\n",
       "        text-align: right;\n",
       "    }\n",
       "</style>\n",
       "<table border=\"1\" class=\"dataframe\">\n",
       "  <thead>\n",
       "    <tr style=\"text-align: right;\">\n",
       "      <th></th>\n",
       "      <th>id</th>\n",
       "      <th>name</th>\n",
       "      <th>latitude</th>\n",
       "      <th>longitude</th>\n",
       "      <th>address</th>\n",
       "      <th>city</th>\n",
       "      <th>state</th>\n",
       "      <th>zip</th>\n",
       "      <th>country</th>\n",
       "      <th>url</th>\n",
       "      <th>phone</th>\n",
       "      <th>categories</th>\n",
       "      <th>point_of_interest</th>\n",
       "    </tr>\n",
       "  </thead>\n",
       "  <tbody>\n",
       "    <tr>\n",
       "      <th>0</th>\n",
       "      <td>E_000001272c6c5d</td>\n",
       "      <td>Café Stad Oudenaarde</td>\n",
       "      <td>50.859975</td>\n",
       "      <td>3.634196</td>\n",
       "      <td>Abdijstraat</td>\n",
       "      <td>Nederename</td>\n",
       "      <td>Oost-Vlaanderen</td>\n",
       "      <td>9700</td>\n",
       "      <td>BE</td>\n",
       "      <td>NaN</td>\n",
       "      <td>NaN</td>\n",
       "      <td>Bars</td>\n",
       "      <td>P_677e840bb6fc7e</td>\n",
       "    </tr>\n",
       "    <tr>\n",
       "      <th>1</th>\n",
       "      <td>E_000002eae2a589</td>\n",
       "      <td>Carioca Manero</td>\n",
       "      <td>-22.907225</td>\n",
       "      <td>-43.178244</td>\n",
       "      <td>NaN</td>\n",
       "      <td>NaN</td>\n",
       "      <td>NaN</td>\n",
       "      <td>NaN</td>\n",
       "      <td>BR</td>\n",
       "      <td>NaN</td>\n",
       "      <td>NaN</td>\n",
       "      <td>Brazilian Restaurants</td>\n",
       "      <td>P_d82910d8382a83</td>\n",
       "    </tr>\n",
       "    <tr>\n",
       "      <th>2</th>\n",
       "      <td>E_000007f24ebc95</td>\n",
       "      <td>ร้านตัดผมการาเกด</td>\n",
       "      <td>13.780813</td>\n",
       "      <td>100.484900</td>\n",
       "      <td>NaN</td>\n",
       "      <td>NaN</td>\n",
       "      <td>NaN</td>\n",
       "      <td>NaN</td>\n",
       "      <td>TH</td>\n",
       "      <td>NaN</td>\n",
       "      <td>NaN</td>\n",
       "      <td>Salons / Barbershops</td>\n",
       "      <td>P_b1066599e78477</td>\n",
       "    </tr>\n",
       "    <tr>\n",
       "      <th>3</th>\n",
       "      <td>E_000008a8ba4f48</td>\n",
       "      <td>Turkcell</td>\n",
       "      <td>37.844510</td>\n",
       "      <td>27.844202</td>\n",
       "      <td>Adnan Menderes Bulvarı</td>\n",
       "      <td>NaN</td>\n",
       "      <td>NaN</td>\n",
       "      <td>NaN</td>\n",
       "      <td>TR</td>\n",
       "      <td>NaN</td>\n",
       "      <td>NaN</td>\n",
       "      <td>Mobile Phone Shops</td>\n",
       "      <td>P_b2ed86905a4cd3</td>\n",
       "    </tr>\n",
       "    <tr>\n",
       "      <th>4</th>\n",
       "      <td>E_00001d92066153</td>\n",
       "      <td>Restaurante Casa Cofiño</td>\n",
       "      <td>43.338196</td>\n",
       "      <td>-4.326821</td>\n",
       "      <td>NaN</td>\n",
       "      <td>Caviedes</td>\n",
       "      <td>Cantabria</td>\n",
       "      <td>NaN</td>\n",
       "      <td>ES</td>\n",
       "      <td>NaN</td>\n",
       "      <td>NaN</td>\n",
       "      <td>Spanish Restaurants</td>\n",
       "      <td>P_809a884d4407fb</td>\n",
       "    </tr>\n",
       "    <tr>\n",
       "      <th>...</th>\n",
       "      <td>...</td>\n",
       "      <td>...</td>\n",
       "      <td>...</td>\n",
       "      <td>...</td>\n",
       "      <td>...</td>\n",
       "      <td>...</td>\n",
       "      <td>...</td>\n",
       "      <td>...</td>\n",
       "      <td>...</td>\n",
       "      <td>...</td>\n",
       "      <td>...</td>\n",
       "      <td>...</td>\n",
       "      <td>...</td>\n",
       "    </tr>\n",
       "    <tr>\n",
       "      <th>1138807</th>\n",
       "      <td>E_ffffb80854f713</td>\n",
       "      <td>青ガエル</td>\n",
       "      <td>35.659020</td>\n",
       "      <td>139.700780</td>\n",
       "      <td>NaN</td>\n",
       "      <td>渋谷区</td>\n",
       "      <td>東京都</td>\n",
       "      <td>150-0043</td>\n",
       "      <td>JP</td>\n",
       "      <td>NaN</td>\n",
       "      <td>NaN</td>\n",
       "      <td>NaN</td>\n",
       "      <td>P_7ccbeab96cd82e</td>\n",
       "    </tr>\n",
       "    <tr>\n",
       "      <th>1138808</th>\n",
       "      <td>E_ffffbf9a83e0ba</td>\n",
       "      <td>Deshon Place</td>\n",
       "      <td>40.872116</td>\n",
       "      <td>-79.945343</td>\n",
       "      <td>325 New Castle Rd</td>\n",
       "      <td>Butler</td>\n",
       "      <td>PA</td>\n",
       "      <td>16001</td>\n",
       "      <td>US</td>\n",
       "      <td>NaN</td>\n",
       "      <td>NaN</td>\n",
       "      <td>Housing Developments</td>\n",
       "      <td>P_db0abc418e7365</td>\n",
       "    </tr>\n",
       "    <tr>\n",
       "      <th>1138809</th>\n",
       "      <td>E_ffffc572b4d35b</td>\n",
       "      <td>İzmir Adnan Menderes Havaalanı</td>\n",
       "      <td>38.423733</td>\n",
       "      <td>27.142826</td>\n",
       "      <td>NaN</td>\n",
       "      <td>İzmir</td>\n",
       "      <td>NaN</td>\n",
       "      <td>NaN</td>\n",
       "      <td>TR</td>\n",
       "      <td>NaN</td>\n",
       "      <td>NaN</td>\n",
       "      <td>Airport Services</td>\n",
       "      <td>P_ae96252a6a9380</td>\n",
       "    </tr>\n",
       "    <tr>\n",
       "      <th>1138810</th>\n",
       "      <td>E_ffffca745329ed</td>\n",
       "      <td>焼肉 和家</td>\n",
       "      <td>35.710712</td>\n",
       "      <td>139.775000</td>\n",
       "      <td>上野6-13-6</td>\n",
       "      <td>Taitō</td>\n",
       "      <td>東京都</td>\n",
       "      <td>110-0005</td>\n",
       "      <td>JP</td>\n",
       "      <td>NaN</td>\n",
       "      <td>338362989</td>\n",
       "      <td>BBQ Joints</td>\n",
       "      <td>P_146662f246d418</td>\n",
       "    </tr>\n",
       "    <tr>\n",
       "      <th>1138811</th>\n",
       "      <td>E_ffffe6f4652fbb</td>\n",
       "      <td>Waihi Beach</td>\n",
       "      <td>-37.417042</td>\n",
       "      <td>175.950466</td>\n",
       "      <td>NaN</td>\n",
       "      <td>Waihi Beach</td>\n",
       "      <td>Bay Of Plenty</td>\n",
       "      <td>3611</td>\n",
       "      <td>NZ</td>\n",
       "      <td>NaN</td>\n",
       "      <td>NaN</td>\n",
       "      <td>Surf Spots</td>\n",
       "      <td>P_ea6578bf39b406</td>\n",
       "    </tr>\n",
       "  </tbody>\n",
       "</table>\n",
       "<p>1138812 rows × 13 columns</p>\n",
       "</div>"
      ],
      "text/plain": [
       "                       id                            name   latitude  \\\n",
       "0        E_000001272c6c5d            Café Stad Oudenaarde  50.859975   \n",
       "1        E_000002eae2a589                  Carioca Manero -22.907225   \n",
       "2        E_000007f24ebc95                ร้านตัดผมการาเกด  13.780813   \n",
       "3        E_000008a8ba4f48                        Turkcell  37.844510   \n",
       "4        E_00001d92066153         Restaurante Casa Cofiño  43.338196   \n",
       "...                   ...                             ...        ...   \n",
       "1138807  E_ffffb80854f713                            青ガエル  35.659020   \n",
       "1138808  E_ffffbf9a83e0ba                    Deshon Place  40.872116   \n",
       "1138809  E_ffffc572b4d35b  İzmir Adnan Menderes Havaalanı  38.423733   \n",
       "1138810  E_ffffca745329ed                           焼肉 和家  35.710712   \n",
       "1138811  E_ffffe6f4652fbb                     Waihi Beach -37.417042   \n",
       "\n",
       "          longitude                 address         city            state  \\\n",
       "0          3.634196             Abdijstraat   Nederename  Oost-Vlaanderen   \n",
       "1        -43.178244                     NaN          NaN              NaN   \n",
       "2        100.484900                     NaN          NaN              NaN   \n",
       "3         27.844202  Adnan Menderes Bulvarı          NaN              NaN   \n",
       "4         -4.326821                     NaN     Caviedes        Cantabria   \n",
       "...             ...                     ...          ...              ...   \n",
       "1138807  139.700780                     NaN          渋谷区              東京都   \n",
       "1138808  -79.945343       325 New Castle Rd       Butler               PA   \n",
       "1138809   27.142826                     NaN        İzmir              NaN   \n",
       "1138810  139.775000                上野6-13-6        Taitō              東京都   \n",
       "1138811  175.950466                     NaN  Waihi Beach    Bay Of Plenty   \n",
       "\n",
       "              zip country  url      phone             categories  \\\n",
       "0            9700      BE  NaN        NaN                   Bars   \n",
       "1             NaN      BR  NaN        NaN  Brazilian Restaurants   \n",
       "2             NaN      TH  NaN        NaN   Salons / Barbershops   \n",
       "3             NaN      TR  NaN        NaN     Mobile Phone Shops   \n",
       "4             NaN      ES  NaN        NaN    Spanish Restaurants   \n",
       "...           ...     ...  ...        ...                    ...   \n",
       "1138807  150-0043      JP  NaN        NaN                    NaN   \n",
       "1138808     16001      US  NaN        NaN   Housing Developments   \n",
       "1138809       NaN      TR  NaN        NaN       Airport Services   \n",
       "1138810  110-0005      JP  NaN  338362989             BBQ Joints   \n",
       "1138811      3611      NZ  NaN        NaN             Surf Spots   \n",
       "\n",
       "        point_of_interest  \n",
       "0        P_677e840bb6fc7e  \n",
       "1        P_d82910d8382a83  \n",
       "2        P_b1066599e78477  \n",
       "3        P_b2ed86905a4cd3  \n",
       "4        P_809a884d4407fb  \n",
       "...                   ...  \n",
       "1138807  P_7ccbeab96cd82e  \n",
       "1138808  P_db0abc418e7365  \n",
       "1138809  P_ae96252a6a9380  \n",
       "1138810  P_146662f246d418  \n",
       "1138811  P_ea6578bf39b406  \n",
       "\n",
       "[1138812 rows x 13 columns]"
      ]
     },
     "execution_count": 32,
     "metadata": {},
     "output_type": "execute_result"
    }
   ],
   "source": [
    "train"
   ]
  },
  {
   "cell_type": "code",
   "execution_count": 16,
   "metadata": {},
   "outputs": [
    {
     "data": {
      "text/html": [
       "<div>\n",
       "<style scoped>\n",
       "    .dataframe tbody tr th:only-of-type {\n",
       "        vertical-align: middle;\n",
       "    }\n",
       "\n",
       "    .dataframe tbody tr th {\n",
       "        vertical-align: top;\n",
       "    }\n",
       "\n",
       "    .dataframe thead th {\n",
       "        text-align: right;\n",
       "    }\n",
       "</style>\n",
       "<table border=\"1\" class=\"dataframe\">\n",
       "  <thead>\n",
       "    <tr style=\"text-align: right;\">\n",
       "      <th></th>\n",
       "      <th>latitude</th>\n",
       "      <th>longitude</th>\n",
       "    </tr>\n",
       "  </thead>\n",
       "  <tbody>\n",
       "    <tr>\n",
       "      <th>count</th>\n",
       "      <td>1.138812e+06</td>\n",
       "      <td>1.138812e+06</td>\n",
       "    </tr>\n",
       "    <tr>\n",
       "      <th>mean</th>\n",
       "      <td>2.687460e+01</td>\n",
       "      <td>2.070497e+01</td>\n",
       "    </tr>\n",
       "    <tr>\n",
       "      <th>std</th>\n",
       "      <td>2.314474e+01</td>\n",
       "      <td>8.267784e+01</td>\n",
       "    </tr>\n",
       "    <tr>\n",
       "      <th>min</th>\n",
       "      <td>-8.492774e+01</td>\n",
       "      <td>-1.751602e+02</td>\n",
       "    </tr>\n",
       "    <tr>\n",
       "      <th>25%</th>\n",
       "      <td>1.276506e+01</td>\n",
       "      <td>-7.143512e+01</td>\n",
       "    </tr>\n",
       "    <tr>\n",
       "      <th>50%</th>\n",
       "      <td>3.570244e+01</td>\n",
       "      <td>2.893202e+01</td>\n",
       "    </tr>\n",
       "    <tr>\n",
       "      <th>75%</th>\n",
       "      <td>4.167972e+01</td>\n",
       "      <td>1.022178e+02</td>\n",
       "    </tr>\n",
       "    <tr>\n",
       "      <th>max</th>\n",
       "      <td>8.505113e+01</td>\n",
       "      <td>1.784404e+02</td>\n",
       "    </tr>\n",
       "  </tbody>\n",
       "</table>\n",
       "</div>"
      ],
      "text/plain": [
       "           latitude     longitude\n",
       "count  1.138812e+06  1.138812e+06\n",
       "mean   2.687460e+01  2.070497e+01\n",
       "std    2.314474e+01  8.267784e+01\n",
       "min   -8.492774e+01 -1.751602e+02\n",
       "25%    1.276506e+01 -7.143512e+01\n",
       "50%    3.570244e+01  2.893202e+01\n",
       "75%    4.167972e+01  1.022178e+02\n",
       "max    8.505113e+01  1.784404e+02"
      ]
     },
     "execution_count": 16,
     "metadata": {},
     "output_type": "execute_result"
    }
   ],
   "source": [
    "train.describe()"
   ]
  },
  {
   "cell_type": "code",
   "execution_count": 22,
   "metadata": {},
   "outputs": [
    {
     "name": "stdout",
     "output_type": "stream",
     "text": [
      "<class 'pandas.core.frame.DataFrame'>\n",
      "RangeIndex: 1138812 entries, 0 to 1138811\n",
      "Data columns (total 13 columns):\n",
      " #   Column             Non-Null Count    Dtype  \n",
      "---  ------             --------------    -----  \n",
      " 0   id                 1138812 non-null  object \n",
      " 1   name               1138811 non-null  object \n",
      " 2   latitude           1138812 non-null  float64\n",
      " 3   longitude          1138812 non-null  float64\n",
      " 4   address            742191 non-null   object \n",
      " 5   city               839623 non-null   object \n",
      " 6   state              718226 non-null   object \n",
      " 7   zip                543386 non-null   object \n",
      " 8   country            1138801 non-null  object \n",
      " 9   url                267724 non-null   object \n",
      " 10  phone              342855 non-null   object \n",
      " 11  categories         1040505 non-null  object \n",
      " 12  point_of_interest  1138812 non-null  object \n",
      "dtypes: float64(2), object(11)\n",
      "memory usage: 112.9+ MB\n"
     ]
    }
   ],
   "source": [
    "train.info()"
   ]
  },
  {
   "cell_type": "code",
   "execution_count": 23,
   "metadata": {},
   "outputs": [
    {
     "data": {
      "text/plain": [
       "id                    0.000000\n",
       "name                  0.000088\n",
       "latitude              0.000000\n",
       "longitude             0.000000\n",
       "address              34.827610\n",
       "city                 26.272027\n",
       "state                36.931996\n",
       "zip                  52.284837\n",
       "country               0.000966\n",
       "url                  76.490940\n",
       "phone                69.893626\n",
       "categories            8.632417\n",
       "point_of_interest     0.000000\n",
       "dtype: float64"
      ]
     },
     "execution_count": 23,
     "metadata": {},
     "output_type": "execute_result"
    }
   ],
   "source": [
    "train.isnull().sum()/train.shape[0] * 100"
   ]
  },
  {
   "cell_type": "code",
   "execution_count": 17,
   "metadata": {},
   "outputs": [],
   "source": [
    "import seaborn as sns"
   ]
  },
  {
   "cell_type": "code",
   "execution_count": 18,
   "metadata": {},
   "outputs": [
    {
     "data": {
      "text/plain": [
       "<seaborn.axisgrid.PairGrid at 0x18b8c744f70>"
      ]
     },
     "execution_count": 18,
     "metadata": {},
     "output_type": "execute_result"
    },
    {
     "data": {
      "image/png": "[encoded data removed]",
      "text/plain": [
       "<Figure size 360x360 with 6 Axes>"
      ]
     },
     "metadata": {
      "needs_background": "light"
     },
     "output_type": "display_data"
    }
   ],
   "source": [
    "sns.pairplot(train)"
   ]
  },
  {
   "cell_type": "markdown",
   "metadata": {},
   "source": [
    "Not surprisingly, the above top right quadrant is the map of the world"
   ]
  },
  {
   "cell_type": "code",
   "execution_count": 20,
   "metadata": {},
   "outputs": [
    {
     "data": {
      "text/plain": [
       "0"
      ]
     },
     "execution_count": 20,
     "metadata": {},
     "output_type": "execute_result"
    }
   ],
   "source": [
    "train.duplicated().sum()"
   ]
  },
  {
   "cell_type": "markdown",
   "metadata": {},
   "source": [
    "The above says that there are no exact row duplicates."
   ]
  },
  {
   "cell_type": "code",
   "execution_count": 21,
   "metadata": {},
   "outputs": [
    {
     "data": {
      "text/plain": [
       "0          False\n",
       "1          False\n",
       "2          False\n",
       "3          False\n",
       "4          False\n",
       "           ...  \n",
       "1138807    False\n",
       "1138808    False\n",
       "1138809    False\n",
       "1138810    False\n",
       "1138811    False\n",
       "Length: 1138812, dtype: bool"
      ]
     },
     "execution_count": 21,
     "metadata": {},
     "output_type": "execute_result"
    }
   ],
   "source": [
    "train.duplicated()"
   ]
  },
  {
   "cell_type": "code",
   "execution_count": 27,
   "metadata": {},
   "outputs": [
    {
     "data": {
      "text/plain": [
       "(1138812, 13)"
      ]
     },
     "execution_count": 27,
     "metadata": {},
     "output_type": "execute_result"
    }
   ],
   "source": [
    "train.shape"
   ]
  },
  {
   "cell_type": "code",
   "execution_count": 28,
   "metadata": {},
   "outputs": [
    {
     "data": {
      "text/plain": [
       "0.5083429047112253"
      ]
     },
     "execution_count": 28,
     "metadata": {},
     "output_type": "execute_result"
    }
   ],
   "source": [
    "pairs.shape[0]/train.shape[0]"
   ]
  },
  {
   "cell_type": "markdown",
   "metadata": {},
   "source": [
    "## Conclusions:\n",
    "\n",
    "* The columns with the most empty entries are (in descending order): url, phone, zip, state, address, city\n",
    "* so probably our most reliable data will be the name, latitude, longitude, country, and categories\n",
    "* no rows are exact duplicates of other rows\n",
    "* "
   ]
  },
  {
   "cell_type": "code",
   "execution_count": 31,
   "metadata": {},
   "outputs": [
    {
     "data": {
      "text/html": [
       "<div>\n",
       "<style scoped>\n",
       "    .dataframe tbody tr th:only-of-type {\n",
       "        vertical-align: middle;\n",
       "    }\n",
       "\n",
       "    .dataframe tbody tr th {\n",
       "        vertical-align: top;\n",
       "    }\n",
       "\n",
       "    .dataframe thead th {\n",
       "        text-align: right;\n",
       "    }\n",
       "</style>\n",
       "<table border=\"1\" class=\"dataframe\">\n",
       "  <thead>\n",
       "    <tr style=\"text-align: right;\">\n",
       "      <th></th>\n",
       "      <th>id_1</th>\n",
       "      <th>name_1</th>\n",
       "      <th>latitude_1</th>\n",
       "      <th>longitude_1</th>\n",
       "      <th>address_1</th>\n",
       "      <th>city_1</th>\n",
       "      <th>state_1</th>\n",
       "      <th>zip_1</th>\n",
       "      <th>country_1</th>\n",
       "      <th>url_1</th>\n",
       "      <th>...</th>\n",
       "      <th>longitude_2</th>\n",
       "      <th>address_2</th>\n",
       "      <th>city_2</th>\n",
       "      <th>state_2</th>\n",
       "      <th>zip_2</th>\n",
       "      <th>country_2</th>\n",
       "      <th>url_2</th>\n",
       "      <th>phone_2</th>\n",
       "      <th>categories_2</th>\n",
       "      <th>match</th>\n",
       "    </tr>\n",
       "  </thead>\n",
       "  <tbody>\n",
       "  </tbody>\n",
       "</table>\n",
       "<p>0 rows × 25 columns</p>\n",
       "</div>"
      ],
      "text/plain": [
       "Empty DataFrame\n",
       "Columns: [id_1, name_1, latitude_1, longitude_1, address_1, city_1, state_1, zip_1, country_1, url_1, phone_1, categories_1, id_2, name_2, latitude_2, longitude_2, address_2, city_2, state_2, zip_2, country_2, url_2, phone_2, categories_2, match]\n",
       "Index: []\n",
       "\n",
       "[0 rows x 25 columns]"
      ]
     },
     "execution_count": 31,
     "metadata": {},
     "output_type": "execute_result"
    }
   ],
   "source": [
    "pairs[pairs['id_1']==pairs['id_2']]"
   ]
  },
  {
   "cell_type": "markdown",
   "metadata": {},
   "source": [
    "No examples where id_1 and id_2 are equal"
   ]
  },
  {
   "cell_type": "code",
   "execution_count": null,
   "metadata": {},
   "outputs": [],
   "source": []
  }
 ],
 "metadata": {
  "kernelspec": {
   "display_name": "Python 3",
   "language": "python",
   "name": "python3"
  },
  "language_info": {
   "codemirror_mode": {
    "name": "ipython",
    "version": 3
   },
   "file_extension": ".py",
   "mimetype": "text/x-python",
   "name": "python",
   "nbconvert_exporter": "python",
   "pygments_lexer": "ipython3",
   "version": "3.8.5"
  }
 },
 "nbformat": 4,
 "nbformat_minor": 4
}
