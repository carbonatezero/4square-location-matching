{
 "cells": [
  {
   "cell_type": "markdown",
   "metadata": {},
   "source": [
    "# This notebook contains code to break the files under \"data_raw\" that are too big for github."
   ]
  },
  {
   "cell_type": "code",
   "execution_count": 1,
   "metadata": {},
   "outputs": [],
   "source": [
    "import pandas as pd"
   ]
  },
  {
   "cell_type": "markdown",
   "metadata": {},
   "source": [
    "First I'll repartition the pairs.csv file."
   ]
  },
  {
   "cell_type": "code",
   "execution_count": 7,
   "metadata": {},
   "outputs": [],
   "source": [
    "raw_pairs = pd.read_csv('../../data_raw/pairs.csv')"
   ]
  },
  {
   "cell_type": "code",
   "execution_count": 8,
   "metadata": {
    "collapsed": true,
    "jupyter": {
     "outputs_hidden": true
    }
   },
   "outputs": [
    {
     "data": {
      "text/html": [
       "<div>\n",
       "<style scoped>\n",
       "    .dataframe tbody tr th:only-of-type {\n",
       "        vertical-align: middle;\n",
       "    }\n",
       "\n",
       "    .dataframe tbody tr th {\n",
       "        vertical-align: top;\n",
       "    }\n",
       "\n",
       "    .dataframe thead th {\n",
       "        text-align: right;\n",
       "    }\n",
       "</style>\n",
       "<table border=\"1\" class=\"dataframe\">\n",
       "  <thead>\n",
       "    <tr style=\"text-align: right;\">\n",
       "      <th></th>\n",
       "      <th>id_1</th>\n",
       "      <th>name_1</th>\n",
       "      <th>latitude_1</th>\n",
       "      <th>longitude_1</th>\n",
       "      <th>address_1</th>\n",
       "      <th>city_1</th>\n",
       "      <th>state_1</th>\n",
       "      <th>zip_1</th>\n",
       "      <th>country_1</th>\n",
       "      <th>url_1</th>\n",
       "      <th>...</th>\n",
       "      <th>longitude_2</th>\n",
       "      <th>address_2</th>\n",
       "      <th>city_2</th>\n",
       "      <th>state_2</th>\n",
       "      <th>zip_2</th>\n",
       "      <th>country_2</th>\n",
       "      <th>url_2</th>\n",
       "      <th>phone_2</th>\n",
       "      <th>categories_2</th>\n",
       "      <th>match</th>\n",
       "    </tr>\n",
       "  </thead>\n",
       "  <tbody>\n",
       "    <tr>\n",
       "      <th>0</th>\n",
       "      <td>E_000001272c6c5d</td>\n",
       "      <td>Café Stad Oudenaarde</td>\n",
       "      <td>50.859975</td>\n",
       "      <td>3.634196</td>\n",
       "      <td>Abdijstraat</td>\n",
       "      <td>Nederename</td>\n",
       "      <td>Oost-Vlaanderen</td>\n",
       "      <td>9700</td>\n",
       "      <td>BE</td>\n",
       "      <td>NaN</td>\n",
       "      <td>...</td>\n",
       "      <td>3.635206</td>\n",
       "      <td>NaN</td>\n",
       "      <td>NaN</td>\n",
       "      <td>NaN</td>\n",
       "      <td>NaN</td>\n",
       "      <td>BE</td>\n",
       "      <td>NaN</td>\n",
       "      <td>NaN</td>\n",
       "      <td>Bars</td>\n",
       "      <td>True</td>\n",
       "    </tr>\n",
       "    <tr>\n",
       "      <th>1</th>\n",
       "      <td>E_000008a8ba4f48</td>\n",
       "      <td>Turkcell</td>\n",
       "      <td>37.844510</td>\n",
       "      <td>27.844202</td>\n",
       "      <td>Adnan Menderes Bulvarı</td>\n",
       "      <td>NaN</td>\n",
       "      <td>NaN</td>\n",
       "      <td>NaN</td>\n",
       "      <td>TR</td>\n",
       "      <td>NaN</td>\n",
       "      <td>...</td>\n",
       "      <td>27.845560</td>\n",
       "      <td>batı aydın</td>\n",
       "      <td>aydın</td>\n",
       "      <td>NaN</td>\n",
       "      <td>67500</td>\n",
       "      <td>TR</td>\n",
       "      <td>NaN</td>\n",
       "      <td>NaN</td>\n",
       "      <td>Electronics Stores</td>\n",
       "      <td>False</td>\n",
       "    </tr>\n",
       "    <tr>\n",
       "      <th>2</th>\n",
       "      <td>E_000023d8f4be44</td>\n",
       "      <td>Island Spa</td>\n",
       "      <td>14.518970</td>\n",
       "      <td>121.018702</td>\n",
       "      <td>5th Flr, Newport Mall, Resorts World Manila</td>\n",
       "      <td>Pasay City</td>\n",
       "      <td>Metro Manila</td>\n",
       "      <td>NaN</td>\n",
       "      <td>PH</td>\n",
       "      <td>NaN</td>\n",
       "      <td>...</td>\n",
       "      <td>121.019827</td>\n",
       "      <td>NaN</td>\n",
       "      <td>NaN</td>\n",
       "      <td>NaN</td>\n",
       "      <td>NaN</td>\n",
       "      <td>PH</td>\n",
       "      <td>NaN</td>\n",
       "      <td>NaN</td>\n",
       "      <td>Spas</td>\n",
       "      <td>True</td>\n",
       "    </tr>\n",
       "    <tr>\n",
       "      <th>3</th>\n",
       "      <td>E_00007dcd2bb53f</td>\n",
       "      <td>TOGO'S Sandwiches</td>\n",
       "      <td>38.257797</td>\n",
       "      <td>-122.064599</td>\n",
       "      <td>1380 Holiday Ln., Ste. B</td>\n",
       "      <td>Fairfield</td>\n",
       "      <td>CA</td>\n",
       "      <td>94534</td>\n",
       "      <td>US</td>\n",
       "      <td>https://locations.togos.com/ll/US/CA/Fairfield...</td>\n",
       "      <td>...</td>\n",
       "      <td>-122.064606</td>\n",
       "      <td>NaN</td>\n",
       "      <td>Fairfield</td>\n",
       "      <td>CA</td>\n",
       "      <td>NaN</td>\n",
       "      <td>US</td>\n",
       "      <td>NaN</td>\n",
       "      <td>NaN</td>\n",
       "      <td>Sandwich Places</td>\n",
       "      <td>True</td>\n",
       "    </tr>\n",
       "    <tr>\n",
       "      <th>4</th>\n",
       "      <td>E_0000c362229d93</td>\n",
       "      <td>Coffee Cat</td>\n",
       "      <td>7.082218</td>\n",
       "      <td>125.610244</td>\n",
       "      <td>F. Torres St.</td>\n",
       "      <td>Davao City</td>\n",
       "      <td>Davao Region</td>\n",
       "      <td>8000</td>\n",
       "      <td>PH</td>\n",
       "      <td>NaN</td>\n",
       "      <td>...</td>\n",
       "      <td>125.611457</td>\n",
       "      <td>E. Jacinto Extension</td>\n",
       "      <td>Davao City</td>\n",
       "      <td>Davao Region</td>\n",
       "      <td>8000</td>\n",
       "      <td>PH</td>\n",
       "      <td>NaN</td>\n",
       "      <td>NaN</td>\n",
       "      <td>Coffee Shops, Cafés, Dessert Shops</td>\n",
       "      <td>False</td>\n",
       "    </tr>\n",
       "  </tbody>\n",
       "</table>\n",
       "<p>5 rows × 25 columns</p>\n",
       "</div>"
      ],
      "text/plain": [
       "               id_1                name_1  latitude_1  longitude_1  \\\n",
       "0  E_000001272c6c5d  Café Stad Oudenaarde   50.859975     3.634196   \n",
       "1  E_000008a8ba4f48              Turkcell   37.844510    27.844202   \n",
       "2  E_000023d8f4be44            Island Spa   14.518970   121.018702   \n",
       "3  E_00007dcd2bb53f     TOGO'S Sandwiches   38.257797  -122.064599   \n",
       "4  E_0000c362229d93            Coffee Cat    7.082218   125.610244   \n",
       "\n",
       "                                     address_1      city_1          state_1  \\\n",
       "0                                  Abdijstraat  Nederename  Oost-Vlaanderen   \n",
       "1                       Adnan Menderes Bulvarı         NaN              NaN   \n",
       "2  5th Flr, Newport Mall, Resorts World Manila  Pasay City     Metro Manila   \n",
       "3                     1380 Holiday Ln., Ste. B   Fairfield               CA   \n",
       "4                                F. Torres St.  Davao City     Davao Region   \n",
       "\n",
       "   zip_1 country_1                                              url_1  ...  \\\n",
       "0   9700        BE                                                NaN  ...   \n",
       "1    NaN        TR                                                NaN  ...   \n",
       "2    NaN        PH                                                NaN  ...   \n",
       "3  94534        US  https://locations.togos.com/ll/US/CA/Fairfield...  ...   \n",
       "4   8000        PH                                                NaN  ...   \n",
       "\n",
       "  longitude_2             address_2      city_2       state_2  zip_2  \\\n",
       "0    3.635206                   NaN         NaN           NaN    NaN   \n",
       "1   27.845560            batı aydın       aydın           NaN  67500   \n",
       "2  121.019827                   NaN         NaN           NaN    NaN   \n",
       "3 -122.064606                   NaN   Fairfield            CA    NaN   \n",
       "4  125.611457  E. Jacinto Extension  Davao City  Davao Region   8000   \n",
       "\n",
       "   country_2 url_2 phone_2                        categories_2  match  \n",
       "0         BE   NaN     NaN                                Bars   True  \n",
       "1         TR   NaN     NaN                  Electronics Stores  False  \n",
       "2         PH   NaN     NaN                                Spas   True  \n",
       "3         US   NaN     NaN                     Sandwich Places   True  \n",
       "4         PH   NaN     NaN  Coffee Shops, Cafés, Dessert Shops  False  \n",
       "\n",
       "[5 rows x 25 columns]"
      ]
     },
     "execution_count": 8,
     "metadata": {},
     "output_type": "execute_result"
    }
   ],
   "source": [
    "raw_pairs.head()"
   ]
  },
  {
   "cell_type": "code",
   "execution_count": 4,
   "metadata": {},
   "outputs": [
    {
     "data": {
      "text/plain": [
       "578907"
      ]
     },
     "execution_count": 4,
     "metadata": {},
     "output_type": "execute_result"
    }
   ],
   "source": [
    "len(raw_pairs)"
   ]
  },
  {
   "cell_type": "code",
   "execution_count": 5,
   "metadata": {},
   "outputs": [],
   "source": [
    "import numpy as np"
   ]
  },
  {
   "cell_type": "code",
   "execution_count": 9,
   "metadata": {},
   "outputs": [],
   "source": [
    "raw_pairs_list = np.array_split(raw_pairs, 3)"
   ]
  },
  {
   "cell_type": "code",
   "execution_count": 12,
   "metadata": {},
   "outputs": [
    {
     "data": {
      "text/plain": [
       "pandas.core.frame.DataFrame"
      ]
     },
     "execution_count": 12,
     "metadata": {},
     "output_type": "execute_result"
    }
   ],
   "source": [
    "type(raw_pairs_list[0])"
   ]
  },
  {
   "cell_type": "code",
   "execution_count": 15,
   "metadata": {},
   "outputs": [
    {
     "name": "stdout",
     "output_type": "stream",
     "text": [
      "0\n",
      "1\n",
      "2\n"
     ]
    }
   ],
   "source": [
    "for i in range(len(raw_pairs_list)):\n",
    "    print(i)\n",
    "    raw_pairs_list[i].to_csv(f'../../data_curated/pairs_{i}.csv')"
   ]
  },
  {
   "cell_type": "markdown",
   "metadata": {},
   "source": [
    "Now I'll repartition the train.csv file."
   ]
  },
  {
   "cell_type": "code",
   "execution_count": 16,
   "metadata": {},
   "outputs": [],
   "source": [
    "raw_train = pd.read_csv('../../data_raw/train.csv')"
   ]
  },
  {
   "cell_type": "code",
   "execution_count": 17,
   "metadata": {},
   "outputs": [],
   "source": [
    "raw_train_list = np.array_split(raw_train, 3)"
   ]
  },
  {
   "cell_type": "code",
   "execution_count": null,
   "metadata": {},
   "outputs": [],
   "source": [
    "for i in range(len(raw_train_list)):\n",
    "    print(i)\n",
    "    raw_train_list[i].to_csv()"
   ]
  }
 ],
 "metadata": {
  "kernelspec": {
   "display_name": "Python 3",
   "language": "python",
   "name": "python3"
  },
  "language_info": {
   "codemirror_mode": {
    "name": "ipython",
    "version": 3
   },
   "file_extension": ".py",
   "mimetype": "text/x-python",
   "name": "python",
   "nbconvert_exporter": "python",
   "pygments_lexer": "ipython3",
   "version": "3.8.5"
  }
 },
 "nbformat": 4,
 "nbformat_minor": 4
}
